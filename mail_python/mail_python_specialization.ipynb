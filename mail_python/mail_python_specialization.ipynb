{
 "cells": [
  {
   "cell_type": "markdown",
   "metadata": {},
   "source": [
    "# Специализация \"Программирование на Python\". mail.ru\n",
    "\n",
    "---"
   ]
  },
  {
   "cell_type": "markdown",
   "metadata": {},
   "source": [
    "## Погружение в Python"
   ]
  },
  {
   "cell_type": "markdown",
   "metadata": {},
   "source": [
    "### Введение в Python"
   ]
  },
  {
   "cell_type": "code",
   "execution_count": null,
   "metadata": {},
   "outputs": [],
   "source": []
  },
  {
   "cell_type": "code",
   "execution_count": null,
   "metadata": {},
   "outputs": [],
   "source": []
  },
  {
   "cell_type": "code",
   "execution_count": null,
   "metadata": {},
   "outputs": [],
   "source": []
  },
  {
   "cell_type": "code",
   "execution_count": null,
   "metadata": {},
   "outputs": [],
   "source": []
  },
  {
   "cell_type": "code",
   "execution_count": null,
   "metadata": {},
   "outputs": [],
   "source": []
  },
  {
   "cell_type": "markdown",
   "metadata": {},
   "source": [
    "### Структуры данных и функции\n",
    "\n",
    "* Когда необходимо создать коллекцию, содержащую другую коллекцию, лучше использовать кортеж.\n",
    "* `len` выполняется за констатное время.\n",
    "* для проверки присутствия элемента в коллекции оператор `in`.\n",
    "* при получении среза создаётся новый объект.\n",
    "* пользоваться `enumerate`\n",
    "* метод `extend` для добавления списка к уже существующему.\n",
    "* можно использовать `+=` как `.append()`\n",
    "* использовать `del` для удаления конкретного элемента списка `del list_nale[element_no]`\n",
    "* сами кортежи неизменяемые, но объекты внутри него могут быть изменяемые\n",
    "* кортежи могут использовать в качестве ключей в словаярях\n",
    "* значение по ключу достаётся из словаря за константное время\n",
    "* при обращении к словарю по ключу можно использовать метод `.get` - так можно в случае отсутствия ключа возвращать значение по умолчанию"
   ]
  },
  {
   "cell_type": "code",
   "execution_count": 1,
   "metadata": {},
   "outputs": [],
   "source": [
    "import random\n",
    "import statistics"
   ]
  },
  {
   "cell_type": "code",
   "execution_count": 4,
   "metadata": {},
   "outputs": [
    {
     "name": "stdout",
     "output_type": "stream",
     "text": [
      "[17, 18, 11, 10, 11, 20, 16, 9, 9, 2]\n"
     ]
    }
   ],
   "source": [
    "# Создание списка длиной 10 случайных значений от 1 до 20\n",
    "numbers = []\n",
    "for _ in range(10):  # _ значит, нам не очент важна сама переменная-счётчик\n",
    "    numbers.append(random.randint(1, 20))\n",
    "print(numbers)"
   ]
  },
  {
   "cell_type": "code",
   "execution_count": 8,
   "metadata": {},
   "outputs": [
    {
     "data": {
      "text/plain": [
       "[2, 9, 9, 10, 11, 11, 16, 17, 18, 20]"
      ]
     },
     "metadata": {},
     "output_type": "display_data"
    },
    {
     "data": {
      "text/plain": [
       "[17, 18, 11, 10, 11, 20, 16, 9, 9, 2]"
      ]
     },
     "metadata": {},
     "output_type": "display_data"
    }
   ],
   "source": [
    "# функция sorted  возвращает новый объект\n",
    "display(sorted(numbers))\n",
    "display(numbers)"
   ]
  },
  {
   "cell_type": "code",
   "execution_count": 10,
   "metadata": {},
   "outputs": [
    {
     "data": {
      "text/plain": [
       "[20, 18, 17, 16, 11, 11, 10, 9, 9, 2]"
      ]
     },
     "metadata": {},
     "output_type": "display_data"
    },
    {
     "data": {
      "text/plain": [
       "[2, 9, 9, 10, 11, 11, 16, 17, 18, 20]"
      ]
     },
     "metadata": {},
     "output_type": "display_data"
    }
   ],
   "source": [
    "# сортировка в обратном порядке\n",
    "display(sorted(numbers, reverse=True))\n",
    "display(numbers)"
   ]
  },
  {
   "cell_type": "code",
   "execution_count": 9,
   "metadata": {},
   "outputs": [
    {
     "data": {
      "text/plain": [
       "[2, 9, 9, 10, 11, 11, 16, 17, 18, 20]"
      ]
     },
     "metadata": {},
     "output_type": "display_data"
    }
   ],
   "source": [
    "# для сортировки самого списка использовать метод sort\n",
    "numbers.sort()\n",
    "numbers"
   ]
  },
  {
   "cell_type": "code",
   "execution_count": 11,
   "metadata": {},
   "outputs": [
    {
     "data": {
      "text/plain": [
       "[20, 18, 17, 16, 11, 11, 10, 9, 9, 2]"
      ]
     },
     "execution_count": 11,
     "metadata": {},
     "output_type": "execute_result"
    }
   ],
   "source": [
    "# сортировка в обратном порядке\n",
    "numbers.sort(reverse=True)\n",
    "numbers"
   ]
  },
  {
   "cell_type": "code",
   "execution_count": 57,
   "metadata": {},
   "outputs": [
    {
     "name": "stdout",
     "output_type": "stream",
     "text": [
      "[20, 14, 1, 12, 14, 7, 19, 20, 12, 2, 19, 14]\n"
     ]
    }
   ],
   "source": [
    "numbers = []\n",
    "size = random.randint(10, 15)\n",
    "for _ in range(size):  # _ значит, нам не очент важна сама переменная-счётчик\n",
    "    numbers.append(random.randint(1, 20))\n",
    "print(numbers)"
   ]
  },
  {
   "cell_type": "code",
   "execution_count": 59,
   "metadata": {},
   "outputs": [
    {
     "data": {
      "text/plain": [
       "14.0"
      ]
     },
     "execution_count": 59,
     "metadata": {},
     "output_type": "execute_result"
    }
   ],
   "source": [
    "numbers.sort()\n",
    "middle = int(len(numbers)/2) \n",
    "if len(numbers)%2 == 0:\n",
    "    median = (numbers[middle-1] + numbers[middle])/2\n",
    "else:\n",
    "    median = numbers[middle]\n",
    "median"
   ]
  },
  {
   "cell_type": "code",
   "execution_count": 60,
   "metadata": {},
   "outputs": [
    {
     "data": {
      "text/plain": [
       "14.0"
      ]
     },
     "execution_count": 60,
     "metadata": {},
     "output_type": "execute_result"
    }
   ],
   "source": [
    "# проверка\n",
    "statistics.median(numbers)"
   ]
  },
  {
   "cell_type": "code",
   "execution_count": null,
   "metadata": {},
   "outputs": [],
   "source": [
    "# итерация по словарю\n"
   ]
  },
  {
   "cell_type": "markdown",
   "metadata": {},
   "source": [
    "### Объектно-ориентированное программирование\n",
    "\n",
    "* Принципы ООП:\n",
    "    * наследование;\n",
    "    * полиморфизм;\n",
    "    * инкапсуляция (скрытие реализации).\n",
    "* Типы данных в Python - тоже классы; например, когда создаём переменную `n = 42`, то создаём объекь класса `int`.\n",
    "* `isinstance` - проверка принадлежности объекта классу.\n",
    "* Классы в Python нужно называть в стиле [CamelCase](https://ru.wikipedia.org/wiki/CamelCase).\n",
    "* Экземпляры классов хешируются, т.е. могут быть ключами словаря.\n",
    "* Метод `__init__` позволяет переопределить инициализацию класса.\n",
    "* Метод `__str__` позволяет переопределить как будет выводиться на печать объект.\n",
    "* Обращение к атрибуту экземпляра класса через точку: `earth.name` - это касается как получения сведений об атрибуте, так и его изменения.\n",
    "* Атрибут класса. Переменная, которая относится к самому классу, а не экземпляру.\n",
    "* Object - класс, от которого наследуются все классы в Python.\n",
    "* Методы экземпляра класса - функции, которые действуют в контексте экземпляра класса. Например, метод `sort` у класса `list`. Методы могут менять состояние экзкмпляра класса. В качестве аргумента принимает ссылку на конкретный объект класса.\n",
    "* Есть соглашение, что методы и атрибуты, которые начинаются с нижнего подчёркивания, это что-то типа скрытого (приватного) метода или атрибута и ими извне пользоваться не рекомендуется.\n",
    "* Метод класса.  В отличие от метода экземпляра в качестве первого аргумента принимает сам класс. Декоратор `@classmethod` делаем метод методом класса. Метод класса можно использовать в качестве альтернативы конструктору.\n",
    "* Статический метод класса. Декоратор `@staticmethod`. Непонятно, зачем нужен.\n",
    "* Вычисляемые свойства класса. Декоратор `@property` обернёт функцию и сделает вычисленное значение атрибутом экземпляра класса.\n",
    "* Наследование нужно для\n",
    "    * изменения поведения класса;\n",
    "    * расширения функционала класса.\n",
    "* Новый класс, созданный с помощью наследования, наследует все методы и атрибуты родительского класса.\n",
    "* Новый класс, созданный с помощью множественного наследования, наследует все методы и атрибуты родительских классов, т.е. объединяет свойства каждого из них в себе.\n",
    "* Атрибуты класса можно делать приватными - их названия нужно начинать с двух нижних подчёркиваний. Такие атрибуты не будут наследоваться дочерними классами."
   ]
  },
  {
   "cell_type": "code",
   "execution_count": 2,
   "metadata": {},
   "outputs": [
    {
     "name": "stdout",
     "output_type": "stream",
     "text": [
      "<class 'int'>\n"
     ]
    }
   ],
   "source": [
    "print(int)"
   ]
  },
  {
   "cell_type": "code",
   "execution_count": 3,
   "metadata": {},
   "outputs": [
    {
     "name": "stdout",
     "output_type": "stream",
     "text": [
      "<class 'list'>\n"
     ]
    }
   ],
   "source": [
    "print(list)"
   ]
  },
  {
   "cell_type": "code",
   "execution_count": 6,
   "metadata": {},
   "outputs": [
    {
     "data": {
      "text/plain": [
       "(True, False, True)"
      ]
     },
     "execution_count": 6,
     "metadata": {},
     "output_type": "execute_result"
    }
   ],
   "source": [
    "isinstance(1, int), isinstance(1, float), isinstance(1.0, float)"
   ]
  },
  {
   "cell_type": "code",
   "execution_count": 7,
   "metadata": {},
   "outputs": [],
   "source": [
    "class Human:\n",
    "    pass"
   ]
  },
  {
   "cell_type": "code",
   "execution_count": 8,
   "metadata": {},
   "outputs": [],
   "source": [
    "# Можно и так объявоять пустой класс - использовать docstring\n",
    "class Robot:\n",
    "    \"\"\"Класс для создания роботов.\"\"\""
   ]
  },
  {
   "cell_type": "code",
   "execution_count": 10,
   "metadata": {},
   "outputs": [
    {
     "name": "stdout",
     "output_type": "stream",
     "text": [
      "<class '__main__.Robot'>\n"
     ]
    }
   ],
   "source": [
    "print(Robot)"
   ]
  },
  {
   "cell_type": "code",
   "execution_count": 11,
   "metadata": {},
   "outputs": [
    {
     "name": "stdout",
     "output_type": "stream",
     "text": [
      "['__class__', '__delattr__', '__dict__', '__dir__', '__doc__', '__eq__', '__format__', '__ge__', '__getattribute__', '__gt__', '__hash__', '__init__', '__init_subclass__', '__le__', '__lt__', '__module__', '__ne__', '__new__', '__reduce__', '__reduce_ex__', '__repr__', '__setattr__', '__sizeof__', '__str__', '__subclasshook__', '__weakref__']\n"
     ]
    }
   ],
   "source": [
    "# просмотр методов класса\n",
    "print(dir(Robot))"
   ]
  },
  {
   "cell_type": "code",
   "execution_count": 43,
   "metadata": {},
   "outputs": [
    {
     "name": "stdout",
     "output_type": "stream",
     "text": [
      "<__main__.Planet object at 0x000001F7C51F7640>\n",
      "Земля\n"
     ]
    }
   ],
   "source": [
    "# Создание экземпляра класса\n",
    "class Planet:\n",
    "    \"\"\"Класс, который создаёт планеты\"\"\"\n",
    "    \n",
    "    # атрибут класса\n",
    "    count = 0\n",
    "    \n",
    "    # конструктор экзкмпляра класса\n",
    "    # def __new__(cls, *args, **kwargs):\n",
    "    #     pass\n",
    "    \n",
    "    # позволяет переопределить инициализацию класса\n",
    "    def __init__(self, name):\n",
    "        self.name = name\n",
    "        Planet.count += 1\n",
    "\n",
    "    # переопределить как будет выводиться на печать объект        \n",
    "    # def __str__(self):\n",
    "    # return self.name\n",
    "    \n",
    "    # Декструктор экземпляра класса. Лучше его не переопределять на самом деле\n",
    "    def __del__(self):\n",
    "        print('Планета уничтожена')\n",
    "\n",
    "earth = Planet('Земля')\n",
    "print(earth)\n",
    "print(earth.name)\n",
    "\n"
   ]
  },
  {
   "cell_type": "code",
   "execution_count": 44,
   "metadata": {},
   "outputs": [
    {
     "name": "stdout",
     "output_type": "stream",
     "text": [
      "Земля 2\n"
     ]
    }
   ],
   "source": [
    "earth.name = 'Земля 2'  # изменение атрибута\n",
    "print(earth.name)"
   ]
  },
  {
   "cell_type": "code",
   "execution_count": 45,
   "metadata": {},
   "outputs": [],
   "source": [
    "mars = Planet('Марс')"
   ]
  },
  {
   "cell_type": "code",
   "execution_count": 46,
   "metadata": {},
   "outputs": [
    {
     "name": "stdout",
     "output_type": "stream",
     "text": [
      "2\n"
     ]
    }
   ],
   "source": [
    "print(Planet.count)  # информация об атрибуте класса"
   ]
  },
  {
   "cell_type": "code",
   "execution_count": 47,
   "metadata": {},
   "outputs": [
    {
     "data": {
      "text/plain": [
       "True"
      ]
     },
     "execution_count": 47,
     "metadata": {},
     "output_type": "execute_result"
    }
   ],
   "source": [
    "isinstance(mars, Planet)  # проверка принадлежности объекта классу"
   ]
  },
  {
   "cell_type": "code",
   "execution_count": 48,
   "metadata": {},
   "outputs": [
    {
     "data": {
      "text/plain": [
       "(2, 2)"
      ]
     },
     "execution_count": 48,
     "metadata": {},
     "output_type": "execute_result"
    }
   ],
   "source": [
    "# к атрибуту класса можно обратиться и через объект класса\n",
    "mars.count, earth.count"
   ]
  },
  {
   "cell_type": "code",
   "execution_count": 49,
   "metadata": {},
   "outputs": [
    {
     "name": "stdout",
     "output_type": "stream",
     "text": [
      "Планета уничтожена\n"
     ]
    }
   ],
   "source": [
    "del(mars)"
   ]
  },
  {
   "cell_type": "code",
   "execution_count": 50,
   "metadata": {},
   "outputs": [
    {
     "data": {
      "text/plain": [
       "{'name': 'Земля 2'}"
      ]
     },
     "execution_count": 50,
     "metadata": {},
     "output_type": "execute_result"
    }
   ],
   "source": [
    "# Словарь экземпляра класса\n",
    "earth.__dict__"
   ]
  },
  {
   "cell_type": "code",
   "execution_count": 51,
   "metadata": {},
   "outputs": [
    {
     "data": {
      "text/plain": [
       "{'name': 'Земля 2', 'mass': 5.97e+24}"
      ]
     },
     "execution_count": 51,
     "metadata": {},
     "output_type": "execute_result"
    }
   ],
   "source": [
    "earth.mass = 5.97e24  # доьбавим атрибут\n",
    "earth.__dict__  # в словаре появится новый атрибут"
   ]
  },
  {
   "cell_type": "code",
   "execution_count": 52,
   "metadata": {},
   "outputs": [
    {
     "data": {
      "text/plain": [
       "mappingproxy({'__module__': '__main__',\n",
       "              '__doc__': 'Класс, который создаёт планеты',\n",
       "              'count': 2,\n",
       "              '__init__': <function __main__.Planet.__init__(self, name)>,\n",
       "              '__del__': <function __main__.Planet.__del__(self)>,\n",
       "              '__dict__': <attribute '__dict__' of 'Planet' objects>,\n",
       "              '__weakref__': <attribute '__weakref__' of 'Planet' objects>})"
      ]
     },
     "execution_count": 52,
     "metadata": {},
     "output_type": "execute_result"
    }
   ],
   "source": [
    "# Словарь класса\n",
    "Planet.__dict__"
   ]
  },
  {
   "cell_type": "code",
   "execution_count": 53,
   "metadata": {},
   "outputs": [
    {
     "data": {
      "text/plain": [
       "'Класс, который создаёт планеты'"
      ]
     },
     "execution_count": 53,
     "metadata": {},
     "output_type": "execute_result"
    }
   ],
   "source": [
    "# К атрибутам класса, которых нет у объекта, тем не менее можно обращвться и через объект\n",
    "earth.__doc__"
   ]
  },
  {
   "cell_type": "code",
   "execution_count": 55,
   "metadata": {},
   "outputs": [
    {
     "data": {
      "text/plain": [
       "135229732708"
      ]
     },
     "execution_count": 55,
     "metadata": {},
     "output_type": "execute_result"
    }
   ],
   "source": [
    "earth.__hash__()"
   ]
  },
  {
   "cell_type": "code",
   "execution_count": 57,
   "metadata": {},
   "outputs": [
    {
     "data": {
      "text/plain": [
       "__main__.Planet"
      ]
     },
     "execution_count": 57,
     "metadata": {},
     "output_type": "execute_result"
    }
   ],
   "source": [
    "# так можно получить класс, к которому принадлежит объект\n",
    "earth.__class__"
   ]
  },
  {
   "cell_type": "code",
   "execution_count": 61,
   "metadata": {},
   "outputs": [],
   "source": [
    "# Наследование классов\n",
    "class Pet():\n",
    "    def __init__(self, name):\n",
    "        self.name = name\n",
    "\n",
    "class Dog(Pet):  # наследование от класса Pet\n",
    "    def __init__(self, name, breed=None):\n",
    "        super().__init__(name)\n",
    "        self.breed = breed\n",
    "    \n",
    "    def say(self):\n",
    "        return f\"{self.name}: waw!\""
   ]
  },
  {
   "cell_type": "code",
   "execution_count": 62,
   "metadata": {},
   "outputs": [],
   "source": [
    "dog = Dog('Шарик', 'Доберман')"
   ]
  },
  {
   "cell_type": "code",
   "execution_count": 63,
   "metadata": {},
   "outputs": [
    {
     "name": "stdout",
     "output_type": "stream",
     "text": [
      "Шарик\n"
     ]
    }
   ],
   "source": [
    "print(dog.name)"
   ]
  },
  {
   "cell_type": "code",
   "execution_count": 65,
   "metadata": {},
   "outputs": [
    {
     "name": "stdout",
     "output_type": "stream",
     "text": [
      "Шарик: waw!\n"
     ]
    }
   ],
   "source": [
    "print(dog.say())"
   ]
  },
  {
   "cell_type": "markdown",
   "metadata": {},
   "source": [
    "**Реализация простого класса для чтения из файл**\n",
    "\n",
    "Первое задание на этой неделе — не сложное, для разогрева. Ваша задача: написать python-модуль solution.py, внутрь которого необходимо поместить код класса FileReader. Конструктор этого класса принимает один параметр: путь до файла на диске. В классе FileReader должен быть реализован метод read, возвращающий строку - содержимое файла, путь к которому был указан при создании экземпляра класса. Python модуль должен быть написан таким образом, чтобы импорт класса FileReader из него не вызвал ошибок.\n",
    "\n",
    "При написании реализации метода read, вам нужно учитывать случай, когда при инициализации был передан путь к несуществующему файлу. Требуется обработать возникающее при этом исключение FileNotFoundError и вернуть из метода read пустую строку.\n",
    "\n",
    "Пример работы:\n",
    "\n",
    "```python\n",
    ">>> from solution import FileReader\n",
    ">>> reader = FileReader('not_exist_file.txt')\n",
    ">>> text = reader.read()\n",
    ">>> text\n",
    "''\n",
    ">>> with open('some_file.txt', 'w') as file:\n",
    "...     file.write('some text')\n",
    "...\n",
    "9\n",
    ">>> reader = FileReader('some_file.txt')\n",
    ">>> text = reader.read()\n",
    ">>> text\n",
    "'some text'\n",
    ">>> type(reader)\n",
    "<class 'solution.FileReader'>\n",
    ">>> \n",
    "```"
   ]
  },
  {
   "cell_type": "code",
   "execution_count": 40,
   "metadata": {},
   "outputs": [],
   "source": [
    "class FileReader():\n",
    "    def __init__(self, path):\n",
    "        self.path = path\n",
    "    def read(self):\n",
    "        try:\n",
    "            with open (self.path) as f:\n",
    "                s = f.read()\n",
    "        except FileNotFoundError as err:\n",
    "            s = ''\n",
    "        return s"
   ]
  },
  {
   "cell_type": "code",
   "execution_count": 44,
   "metadata": {},
   "outputs": [
    {
     "data": {
      "text/plain": [
       "'sdfbsdbfj'"
      ]
     },
     "execution_count": 44,
     "metadata": {},
     "output_type": "execute_result"
    }
   ],
   "source": [
    "reader = FileReader('asd.txt')\n",
    "reader.read()"
   ]
  },
  {
   "cell_type": "code",
   "execution_count": 42,
   "metadata": {},
   "outputs": [
    {
     "data": {
      "text/plain": [
       "__main__.FileReader"
      ]
     },
     "execution_count": 42,
     "metadata": {},
     "output_type": "execute_result"
    }
   ],
   "source": [
    "type(reader)"
   ]
  },
  {
   "cell_type": "markdown",
   "metadata": {},
   "source": [
    "### Углублённый Python"
   ]
  },
  {
   "cell_type": "markdown",
   "metadata": {},
   "source": [
    "Магические методы - управляют поведением классови тем, работют объекты классов. \n",
    "\n",
    "* `__init__` - \n",
    "* `__new__` - \n",
    "* `__del__` - его переопределять нежелательно\n",
    "* `__str__` - определяет поведение при вызове функции `print`\n",
    "* `__hash__` - определяет, как хешировать\n",
    "* `__eq__` - определяет, как сравнивать объекты\n",
    "* `__getattr__` - определяет поведение объектов для случаев, когда искомый атрибут не найден\n",
    "* `__getattribute__` - вызывается всегда, когда обращаемся к какому-то аттрибуту объекта\n",
    "* `__setattr__`\n",
    "* `__delattr__`- определяет поведение при удалении атрибута\n",
    "* `__call__` - определяет поведение, когда вызывается класс\n",
    "* `__getitem__` - определяет поведение объекта при доступе по индексу или ключу\n",
    "* `__setitem__` - определяет поведение объекта при присваивании по индексу или ключу"
   ]
  },
  {
   "cell_type": "code",
   "execution_count": 12,
   "metadata": {},
   "outputs": [],
   "source": [
    "class User:\n",
    "    def __init__(self, name, email):\n",
    "        self.name = name\n",
    "        self.email = email\n",
    "        \n",
    "    def get_email_data(self):\n",
    "        return {\n",
    "            'name': self.name,\n",
    "            'email': self.email\n",
    "        }    \n",
    "    \n",
    "    def __str__(self):\n",
    "        return f'{self.name} {self.email}'\n",
    "        "
   ]
  },
  {
   "cell_type": "code",
   "execution_count": 13,
   "metadata": {},
   "outputs": [
    {
     "data": {
      "text/plain": [
       "{'name': 'Jane Doe', 'email': 'janedoe@example.com'}"
      ]
     },
     "execution_count": 13,
     "metadata": {},
     "output_type": "execute_result"
    }
   ],
   "source": [
    "jane = User('Jane Doe', 'janedoe@example.com')\n",
    "jane.get_email_data()"
   ]
  },
  {
   "cell_type": "code",
   "execution_count": 14,
   "metadata": {},
   "outputs": [
    {
     "data": {
      "text/plain": [
       "{'name': 'Jane Doe', 'email': 'janedoe@example.com'}"
      ]
     },
     "execution_count": 14,
     "metadata": {},
     "output_type": "execute_result"
    }
   ],
   "source": [
    "# == jane.get_email_data()\n",
    "User.get_email_data(jane)"
   ]
  },
  {
   "cell_type": "code",
   "execution_count": 15,
   "metadata": {},
   "outputs": [
    {
     "name": "stdout",
     "output_type": "stream",
     "text": [
      "Jane Doe janedoe@example.com\n"
     ]
    }
   ],
   "source": [
    "# Переопределённый метод print\n",
    "print(jane)"
   ]
  },
  {
   "cell_type": "markdown",
   "metadata": {},
   "source": [
    "##  ООП и паттерны проектирования в Python"
   ]
  },
  {
   "cell_type": "code",
   "execution_count": null,
   "metadata": {},
   "outputs": [],
   "source": []
  },
  {
   "cell_type": "code",
   "execution_count": null,
   "metadata": {},
   "outputs": [],
   "source": []
  },
  {
   "cell_type": "markdown",
   "metadata": {},
   "source": [
    "## Создание веб-сервисов на Python"
   ]
  },
  {
   "cell_type": "code",
   "execution_count": null,
   "metadata": {},
   "outputs": [],
   "source": []
  },
  {
   "cell_type": "code",
   "execution_count": null,
   "metadata": {},
   "outputs": [],
   "source": []
  },
  {
   "cell_type": "markdown",
   "metadata": {},
   "source": [
    "## Python для Data Science"
   ]
  },
  {
   "cell_type": "code",
   "execution_count": null,
   "metadata": {},
   "outputs": [],
   "source": []
  },
  {
   "cell_type": "code",
   "execution_count": null,
   "metadata": {},
   "outputs": [],
   "source": []
  }
 ],
 "metadata": {
  "kernelspec": {
   "display_name": "Python 3",
   "language": "python",
   "name": "python3"
  },
  "language_info": {
   "codemirror_mode": {
    "name": "ipython",
    "version": 3
   },
   "file_extension": ".py",
   "mimetype": "text/x-python",
   "name": "python",
   "nbconvert_exporter": "python",
   "pygments_lexer": "ipython3",
   "version": "3.8.5"
  },
  "toc": {
   "base_numbering": 1,
   "nav_menu": {},
   "number_sections": true,
   "sideBar": true,
   "skip_h1_title": true,
   "title_cell": "Table of Contents",
   "title_sidebar": "Contents",
   "toc_cell": false,
   "toc_position": {},
   "toc_section_display": true,
   "toc_window_display": true
  },
  "varInspector": {
   "cols": {
    "lenName": 16,
    "lenType": 16,
    "lenVar": 40
   },
   "kernels_config": {
    "python": {
     "delete_cmd_postfix": "",
     "delete_cmd_prefix": "del ",
     "library": "var_list.py",
     "varRefreshCmd": "print(var_dic_list())"
    },
    "r": {
     "delete_cmd_postfix": ") ",
     "delete_cmd_prefix": "rm(",
     "library": "var_list.r",
     "varRefreshCmd": "cat(var_dic_list()) "
    }
   },
   "types_to_exclude": [
    "module",
    "function",
    "builtin_function_or_method",
    "instance",
    "_Feature"
   ],
   "window_display": false
  }
 },
 "nbformat": 4,
 "nbformat_minor": 4
}
