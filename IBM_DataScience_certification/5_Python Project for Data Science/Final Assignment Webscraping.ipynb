{
 "cells": [
  {
   "cell_type": "markdown",
   "metadata": {
    "toc": true
   },
   "source": [
    "<h1>Содержание<span class=\"tocSkip\"></span></h1>\n",
    "<div class=\"toc\"><ul class=\"toc-item\"><li><span><a href=\"#Extracting-Stock-Data-Using-a-Web-Scraping\" data-toc-modified-id=\"Extracting-Stock-Data-Using-a-Web-Scraping-1\"><span class=\"toc-item-num\">1&nbsp;&nbsp;</span>Extracting Stock Data Using a Web Scraping</a></span><ul class=\"toc-item\"><li><span><a href=\"#Table-of-Contents\" data-toc-modified-id=\"Table-of-Contents-1.1\"><span class=\"toc-item-num\">1.1&nbsp;&nbsp;</span>Table of Contents</a></span></li><li><span><a href=\"#Using-Webscraping-to-Extract-Stock-Data-Example\" data-toc-modified-id=\"Using-Webscraping-to-Extract-Stock-Data-Example-1.2\"><span class=\"toc-item-num\">1.2&nbsp;&nbsp;</span>Using Webscraping to Extract Stock Data Example</a></span></li><li><span><a href=\"#Using-Webscraping-to-Extract-Stock-Data-Exercise\" data-toc-modified-id=\"Using-Webscraping-to-Extract-Stock-Data-Exercise-1.3\"><span class=\"toc-item-num\">1.3&nbsp;&nbsp;</span>Using Webscraping to Extract Stock Data Exercise</a></span></li><li><span><a href=\"#About-the-Authors:\" data-toc-modified-id=\"About-the-Authors:-1.4\"><span class=\"toc-item-num\">1.4&nbsp;&nbsp;</span>About the Authors:</a></span></li><li><span><a href=\"#Change-Log\" data-toc-modified-id=\"Change-Log-1.5\"><span class=\"toc-item-num\">1.5&nbsp;&nbsp;</span>Change Log</a></span></li><li><span><a href=\"#\" data-toc-modified-id=\"-1.6\"><span class=\"toc-item-num\">1.6&nbsp;&nbsp;</span></a></span><ul class=\"toc-item\"><li><span><a href=\"#-©-IBM-Corporation-2020.-All-rights-reserved.-\" data-toc-modified-id=\"-©-IBM-Corporation-2020.-All-rights-reserved.--1.6.1\"><span class=\"toc-item-num\">1.6.1&nbsp;&nbsp;</span> © IBM Corporation 2020. All rights reserved. </a></span></li><li><span><a href=\"#\" data-toc-modified-id=\"-1.6.2\"><span class=\"toc-item-num\">1.6.2&nbsp;&nbsp;</span></a></span></li></ul></li></ul></li></ul></div>"
   ]
  },
  {
   "cell_type": "markdown",
   "metadata": {},
   "source": [
    "<center>\n",
    "    <img src=\"https://s3-api.us-geo.objectstorage.softlayer.net/cf-courses-data/CognitiveClass/Logos/organization_logo/organization_logo.png\" width=\"300\" alt=\"cognitiveclass.ai logo\"  />\n",
    "</center>\n"
   ]
  },
  {
   "cell_type": "markdown",
   "metadata": {},
   "source": [
    "<h1>Extracting Stock Data Using a Web Scraping</h1>\n"
   ]
  },
  {
   "cell_type": "markdown",
   "metadata": {},
   "source": [
    "Not all stock data is available via API in this assignment; you will use web-scraping to obtain financial data. You will be quizzed on your results.\\\n",
    "Using beautiful soup we will extract historical share data from a web-page.\n"
   ]
  },
  {
   "cell_type": "markdown",
   "metadata": {},
   "source": [
    "<h2>Table of Contents</h2>\n",
    "<div class=\"alert alert-block alert-info\" style=\"margin-top: 20px\">\n",
    "    <ul>\n",
    "        <li>Downloading the Webpage Using Requests Library</li>\n",
    "        <li>Parsing Webpage HTML Using BeautifulSoup</li>\n",
    "        <li>Extracting Data and Building DataFrame</li>\n",
    "    </ul>\n",
    "<p>\n",
    "    Estimated Time Needed: <strong>30 min</strong></p>\n",
    "</div>\n",
    "\n",
    "<hr>\n"
   ]
  },
  {
   "cell_type": "code",
   "execution_count": null,
   "metadata": {},
   "outputs": [],
   "source": [
    "#!pip install pandas==1.3.3\n",
    "#!pip install requests==2.26.0\n",
    "# !mamba install bs4==4.10.0 -y\n",
    "# !mamba install html5lib==1.1 -y\n",
    "# !pip install lxml==4.6.4\n",
    "#!pip install plotly==5.3.1"
   ]
  },
  {
   "cell_type": "code",
   "execution_count": 1,
   "metadata": {},
   "outputs": [],
   "source": [
    "import pandas as pd\n",
    "import requests\n",
    "from bs4 import BeautifulSoup"
   ]
  },
  {
   "cell_type": "markdown",
   "metadata": {},
   "source": [
    "## Using Webscraping to Extract Stock Data Example\n"
   ]
  },
  {
   "cell_type": "markdown",
   "metadata": {},
   "source": [
    "First we must use the `request` library to downlaod the webpage, and extract the text. We will extract Netflix stock data <https://cf-courses-data.s3.us.cloud-object-storage.appdomain.cloud/IBMDeveloperSkillsNetwork-PY0220EN-SkillsNetwork/labs/project/netflix_data_webpage.html>.\n"
   ]
  },
  {
   "cell_type": "code",
   "execution_count": 2,
   "metadata": {},
   "outputs": [],
   "source": [
    "url = \"https://cf-courses-data.s3.us.cloud-object-storage.appdomain.cloud/IBMDeveloperSkillsNetwork-PY0220EN-SkillsNetwork/labs/project/netflix_data_webpage.html\"\n",
    "\n",
    "data  = requests.get(url).text"
   ]
  },
  {
   "cell_type": "markdown",
   "metadata": {},
   "source": [
    "Next we must parse the text into html using `beautiful_soup`\n"
   ]
  },
  {
   "cell_type": "code",
   "execution_count": 11,
   "metadata": {},
   "outputs": [],
   "source": [
    "soup = BeautifulSoup(data, 'html5lib')"
   ]
  },
  {
   "cell_type": "markdown",
   "metadata": {},
   "source": [
    "Now we can turn the html table into a pandas dataframe\n"
   ]
  },
  {
   "cell_type": "code",
   "execution_count": 4,
   "metadata": {},
   "outputs": [],
   "source": [
    "netflix_data = pd.DataFrame(columns=[\"Date\", \"Open\", \"High\", \"Low\", \"Close\", \"Volume\"])\n",
    "\n",
    "# First we isolate the body of the table which contains all the information\n",
    "# Then we loop through each row and find all the column values for each row\n",
    "for row in soup.find(\"tbody\").find_all('tr'):\n",
    "    col = row.find_all(\"td\")\n",
    "    date = col[0].text\n",
    "    Open = col[1].text\n",
    "    high = col[2].text\n",
    "    low = col[3].text\n",
    "    close = col[4].text\n",
    "    adj_close = col[5].text\n",
    "    volume = col[6].text\n",
    "    \n",
    "    # Finally we append the data of each row to the table\n",
    "    netflix_data = netflix_data.append({\"Date\":date, \"Open\":Open, \"High\":high, \"Low\":low, \"Close\":close, \"Adj Close\":adj_close, \"Volume\":volume}, ignore_index=True)    "
   ]
  },
  {
   "cell_type": "markdown",
   "metadata": {},
   "source": [
    "We can now print out the dataframe\n"
   ]
  },
  {
   "cell_type": "code",
   "execution_count": 5,
   "metadata": {},
   "outputs": [
    {
     "data": {
      "text/html": [
       "<div>\n",
       "<style scoped>\n",
       "    .dataframe tbody tr th:only-of-type {\n",
       "        vertical-align: middle;\n",
       "    }\n",
       "\n",
       "    .dataframe tbody tr th {\n",
       "        vertical-align: top;\n",
       "    }\n",
       "\n",
       "    .dataframe thead th {\n",
       "        text-align: right;\n",
       "    }\n",
       "</style>\n",
       "<table border=\"1\" class=\"dataframe\">\n",
       "  <thead>\n",
       "    <tr style=\"text-align: right;\">\n",
       "      <th></th>\n",
       "      <th>Date</th>\n",
       "      <th>Open</th>\n",
       "      <th>High</th>\n",
       "      <th>Low</th>\n",
       "      <th>Close</th>\n",
       "      <th>Volume</th>\n",
       "      <th>Adj Close</th>\n",
       "    </tr>\n",
       "  </thead>\n",
       "  <tbody>\n",
       "    <tr>\n",
       "      <th>0</th>\n",
       "      <td>Jun 01, 2021</td>\n",
       "      <td>504.01</td>\n",
       "      <td>536.13</td>\n",
       "      <td>482.14</td>\n",
       "      <td>528.21</td>\n",
       "      <td>78,560,600</td>\n",
       "      <td>528.21</td>\n",
       "    </tr>\n",
       "    <tr>\n",
       "      <th>1</th>\n",
       "      <td>May 01, 2021</td>\n",
       "      <td>512.65</td>\n",
       "      <td>518.95</td>\n",
       "      <td>478.54</td>\n",
       "      <td>502.81</td>\n",
       "      <td>66,927,600</td>\n",
       "      <td>502.81</td>\n",
       "    </tr>\n",
       "    <tr>\n",
       "      <th>2</th>\n",
       "      <td>Apr 01, 2021</td>\n",
       "      <td>529.93</td>\n",
       "      <td>563.56</td>\n",
       "      <td>499.00</td>\n",
       "      <td>513.47</td>\n",
       "      <td>111,573,300</td>\n",
       "      <td>513.47</td>\n",
       "    </tr>\n",
       "    <tr>\n",
       "      <th>3</th>\n",
       "      <td>Mar 01, 2021</td>\n",
       "      <td>545.57</td>\n",
       "      <td>556.99</td>\n",
       "      <td>492.85</td>\n",
       "      <td>521.66</td>\n",
       "      <td>90,183,900</td>\n",
       "      <td>521.66</td>\n",
       "    </tr>\n",
       "    <tr>\n",
       "      <th>4</th>\n",
       "      <td>Feb 01, 2021</td>\n",
       "      <td>536.79</td>\n",
       "      <td>566.65</td>\n",
       "      <td>518.28</td>\n",
       "      <td>538.85</td>\n",
       "      <td>61,902,300</td>\n",
       "      <td>538.85</td>\n",
       "    </tr>\n",
       "  </tbody>\n",
       "</table>\n",
       "</div>"
      ],
      "text/plain": [
       "           Date    Open    High     Low   Close       Volume Adj Close\n",
       "0  Jun 01, 2021  504.01  536.13  482.14  528.21   78,560,600    528.21\n",
       "1  May 01, 2021  512.65  518.95  478.54  502.81   66,927,600    502.81\n",
       "2  Apr 01, 2021  529.93  563.56  499.00  513.47  111,573,300    513.47\n",
       "3  Mar 01, 2021  545.57  556.99  492.85  521.66   90,183,900    521.66\n",
       "4  Feb 01, 2021  536.79  566.65  518.28  538.85   61,902,300    538.85"
      ]
     },
     "execution_count": 5,
     "metadata": {},
     "output_type": "execute_result"
    }
   ],
   "source": [
    "netflix_data.head()"
   ]
  },
  {
   "cell_type": "markdown",
   "metadata": {},
   "source": [
    "We can also use the pandas `read_html` function using the url\n"
   ]
  },
  {
   "cell_type": "code",
   "execution_count": 6,
   "metadata": {},
   "outputs": [],
   "source": [
    "read_html_pandas_data = pd.read_html(url)"
   ]
  },
  {
   "cell_type": "markdown",
   "metadata": {},
   "source": [
    "Or we can convert the BeautifulSoup object to a string\n"
   ]
  },
  {
   "cell_type": "code",
   "execution_count": 7,
   "metadata": {},
   "outputs": [],
   "source": [
    "read_html_pandas_data = pd.read_html(str(soup))"
   ]
  },
  {
   "cell_type": "markdown",
   "metadata": {},
   "source": [
    "Beacause there is only one table on the page, we just take the first table in the list returned\n"
   ]
  },
  {
   "cell_type": "code",
   "execution_count": 8,
   "metadata": {},
   "outputs": [
    {
     "data": {
      "text/html": [
       "<div>\n",
       "<style scoped>\n",
       "    .dataframe tbody tr th:only-of-type {\n",
       "        vertical-align: middle;\n",
       "    }\n",
       "\n",
       "    .dataframe tbody tr th {\n",
       "        vertical-align: top;\n",
       "    }\n",
       "\n",
       "    .dataframe thead th {\n",
       "        text-align: right;\n",
       "    }\n",
       "</style>\n",
       "<table border=\"1\" class=\"dataframe\">\n",
       "  <thead>\n",
       "    <tr style=\"text-align: right;\">\n",
       "      <th></th>\n",
       "      <th>Date</th>\n",
       "      <th>Open</th>\n",
       "      <th>High</th>\n",
       "      <th>Low</th>\n",
       "      <th>Close*</th>\n",
       "      <th>Adj Close**</th>\n",
       "      <th>Volume</th>\n",
       "    </tr>\n",
       "  </thead>\n",
       "  <tbody>\n",
       "    <tr>\n",
       "      <th>0</th>\n",
       "      <td>Jun 01, 2021</td>\n",
       "      <td>504.01</td>\n",
       "      <td>536.13</td>\n",
       "      <td>482.14</td>\n",
       "      <td>528.21</td>\n",
       "      <td>528.21</td>\n",
       "      <td>78560600</td>\n",
       "    </tr>\n",
       "    <tr>\n",
       "      <th>1</th>\n",
       "      <td>May 01, 2021</td>\n",
       "      <td>512.65</td>\n",
       "      <td>518.95</td>\n",
       "      <td>478.54</td>\n",
       "      <td>502.81</td>\n",
       "      <td>502.81</td>\n",
       "      <td>66927600</td>\n",
       "    </tr>\n",
       "    <tr>\n",
       "      <th>2</th>\n",
       "      <td>Apr 01, 2021</td>\n",
       "      <td>529.93</td>\n",
       "      <td>563.56</td>\n",
       "      <td>499.00</td>\n",
       "      <td>513.47</td>\n",
       "      <td>513.47</td>\n",
       "      <td>111573300</td>\n",
       "    </tr>\n",
       "    <tr>\n",
       "      <th>3</th>\n",
       "      <td>Mar 01, 2021</td>\n",
       "      <td>545.57</td>\n",
       "      <td>556.99</td>\n",
       "      <td>492.85</td>\n",
       "      <td>521.66</td>\n",
       "      <td>521.66</td>\n",
       "      <td>90183900</td>\n",
       "    </tr>\n",
       "    <tr>\n",
       "      <th>4</th>\n",
       "      <td>Feb 01, 2021</td>\n",
       "      <td>536.79</td>\n",
       "      <td>566.65</td>\n",
       "      <td>518.28</td>\n",
       "      <td>538.85</td>\n",
       "      <td>538.85</td>\n",
       "      <td>61902300</td>\n",
       "    </tr>\n",
       "  </tbody>\n",
       "</table>\n",
       "</div>"
      ],
      "text/plain": [
       "           Date    Open    High     Low  Close* Adj Close**     Volume\n",
       "0  Jun 01, 2021  504.01  536.13  482.14  528.21      528.21   78560600\n",
       "1  May 01, 2021  512.65  518.95  478.54  502.81      502.81   66927600\n",
       "2  Apr 01, 2021  529.93  563.56  499.00  513.47      513.47  111573300\n",
       "3  Mar 01, 2021  545.57  556.99  492.85  521.66      521.66   90183900\n",
       "4  Feb 01, 2021  536.79  566.65  518.28  538.85      538.85   61902300"
      ]
     },
     "execution_count": 8,
     "metadata": {},
     "output_type": "execute_result"
    }
   ],
   "source": [
    "netflix_dataframe = read_html_pandas_data[0]\n",
    "\n",
    "netflix_dataframe.head()"
   ]
  },
  {
   "cell_type": "markdown",
   "metadata": {},
   "source": [
    "## Using Webscraping to Extract Stock Data Exercise\n"
   ]
  },
  {
   "cell_type": "markdown",
   "metadata": {},
   "source": [
    "Use the `requests` library to download the webpage <https://cf-courses-data.s3.us.cloud-object-storage.appdomain.cloud/IBMDeveloperSkillsNetwork-PY0220EN-SkillsNetwork/labs/project/amazon_data_webpage.html>. Save the text of the response as a variable named `html_data`.\n"
   ]
  },
  {
   "cell_type": "code",
   "execution_count": 41,
   "metadata": {},
   "outputs": [],
   "source": [
    "url_amzn = 'https://cf-courses-data.s3.us.cloud-object-storage.appdomain.cloud/IBMDeveloperSkillsNetwork-PY0220EN-SkillsNetwork/labs/project/amazon_data_webpage.html'\n",
    "data_amzn  = requests.get(url_amzn).text"
   ]
  },
  {
   "cell_type": "markdown",
   "metadata": {},
   "source": [
    "Parse the html data using `beautiful_soup`.\n"
   ]
  },
  {
   "cell_type": "code",
   "execution_count": 42,
   "metadata": {},
   "outputs": [],
   "source": [
    "soup = BeautifulSoup(data_amzn, 'html5lib')"
   ]
  },
  {
   "cell_type": "markdown",
   "metadata": {},
   "source": [
    "<b>Question 1</b> What is the content of the title attribute:\n"
   ]
  },
  {
   "cell_type": "code",
   "execution_count": 43,
   "metadata": {},
   "outputs": [
    {
     "data": {
      "text/plain": [
       "<title>Amazon.com, Inc. (AMZN) Stock Historical Prices &amp; Data - Yahoo Finance</title>"
      ]
     },
     "execution_count": 43,
     "metadata": {},
     "output_type": "execute_result"
    }
   ],
   "source": [
    "soup.title"
   ]
  },
  {
   "cell_type": "markdown",
   "metadata": {},
   "source": [
    "Using beautiful soup extract the table with historical share prices and store it into a dataframe named `amazon_data`. The dataframe should have columns Date, Open, High, Low, Close, Adj Close, and Volume. Fill in each variable with the correct data from the list `col`.\n"
   ]
  },
  {
   "cell_type": "code",
   "execution_count": 44,
   "metadata": {},
   "outputs": [
    {
     "name": "stdout",
     "output_type": "stream",
     "text": [
      "0 <tr class=\"BdT Bdc($seperatorColor) Ta(end) Fz(s) Whs(nw)\" data-reactid=\"51\"><td class=\"Py(10px) Ta(start) Pend(10px)\" data-reactid=\"52\"><span data-reactid=\"53\">Jan 01, 2021</span></td><td class=\"Py(10px) Pstart(10px)\" data-reactid=\"54\"><span data-reactid=\"55\">3,270.00</span></td><td class=\"Py(10px) Pstart(10px)\" data-reactid=\"56\"><span data-reactid=\"57\">3,363.89</span></td><td class=\"Py(10px) Pstart(10px)\" data-reactid=\"58\"><span data-reactid=\"59\">3,086.00</span></td><td class=\"Py(10px) Pstart(10px)\" data-reactid=\"60\"><span data-reactid=\"61\">3,206.20</span></td><td class=\"Py(10px) Pstart(10px)\" data-reactid=\"62\"><span data-reactid=\"63\">3,206.20</span></td><td class=\"Py(10px) Pstart(10px)\" data-reactid=\"64\"><span data-reactid=\"65\">71,528,900</span></td></tr>\n",
      "1 <tr class=\"BdT Bdc($seperatorColor) Ta(end) Fz(s) Whs(nw)\" data-reactid=\"66\"><td class=\"Py(10px) Ta(start) Pend(10px)\" data-reactid=\"67\"><span data-reactid=\"68\">Dec 01, 2020</span></td><td class=\"Py(10px) Pstart(10px)\" data-reactid=\"69\"><span data-reactid=\"70\">3,188.50</span></td><td class=\"Py(10px) Pstart(10px)\" data-reactid=\"71\"><span data-reactid=\"72\">3,350.65</span></td><td class=\"Py(10px) Pstart(10px)\" data-reactid=\"73\"><span data-reactid=\"74\">3,072.82</span></td><td class=\"Py(10px) Pstart(10px)\" data-reactid=\"75\"><span data-reactid=\"76\">3,256.93</span></td><td class=\"Py(10px) Pstart(10px)\" data-reactid=\"77\"><span data-reactid=\"78\">3,256.93</span></td><td class=\"Py(10px) Pstart(10px)\" data-reactid=\"79\"><span data-reactid=\"80\">77,556,200</span></td></tr>\n",
      "2 <tr class=\"BdT Bdc($seperatorColor) Ta(end) Fz(s) Whs(nw)\" data-reactid=\"81\"><td class=\"Py(10px) Ta(start) Pend(10px)\" data-reactid=\"82\"><span data-reactid=\"83\">Nov 01, 2020</span></td><td class=\"Py(10px) Pstart(10px)\" data-reactid=\"84\"><span data-reactid=\"85\">3,061.74</span></td><td class=\"Py(10px) Pstart(10px)\" data-reactid=\"86\"><span data-reactid=\"87\">3,366.80</span></td><td class=\"Py(10px) Pstart(10px)\" data-reactid=\"88\"><span data-reactid=\"89\">2,950.12</span></td><td class=\"Py(10px) Pstart(10px)\" data-reactid=\"90\"><span data-reactid=\"91\">3,168.04</span></td><td class=\"Py(10px) Pstart(10px)\" data-reactid=\"92\"><span data-reactid=\"93\">3,168.04</span></td><td class=\"Py(10px) Pstart(10px)\" data-reactid=\"94\"><span data-reactid=\"95\">90,810,500</span></td></tr>\n",
      "3 <tr class=\"BdT Bdc($seperatorColor) Ta(end) Fz(s) Whs(nw)\" data-reactid=\"96\"><td class=\"Py(10px) Ta(start) Pend(10px)\" data-reactid=\"97\"><span data-reactid=\"98\">Oct 01, 2020</span></td><td class=\"Py(10px) Pstart(10px)\" data-reactid=\"99\"><span data-reactid=\"100\">3,208.00</span></td><td class=\"Py(10px) Pstart(10px)\" data-reactid=\"101\"><span data-reactid=\"102\">3,496.24</span></td><td class=\"Py(10px) Pstart(10px)\" data-reactid=\"103\"><span data-reactid=\"104\">3,019.00</span></td><td class=\"Py(10px) Pstart(10px)\" data-reactid=\"105\"><span data-reactid=\"106\">3,036.15</span></td><td class=\"Py(10px) Pstart(10px)\" data-reactid=\"107\"><span data-reactid=\"108\">3,036.15</span></td><td class=\"Py(10px) Pstart(10px)\" data-reactid=\"109\"><span data-reactid=\"110\">116,226,100</span></td></tr>\n",
      "4 <tr class=\"BdT Bdc($seperatorColor) Ta(end) Fz(s) Whs(nw)\" data-reactid=\"111\"><td class=\"Py(10px) Ta(start) Pend(10px)\" data-reactid=\"112\"><span data-reactid=\"113\">Sep 01, 2020</span></td><td class=\"Py(10px) Pstart(10px)\" data-reactid=\"114\"><span data-reactid=\"115\">3,489.58</span></td><td class=\"Py(10px) Pstart(10px)\" data-reactid=\"116\"><span data-reactid=\"117\">3,552.25</span></td><td class=\"Py(10px) Pstart(10px)\" data-reactid=\"118\"><span data-reactid=\"119\">2,871.00</span></td><td class=\"Py(10px) Pstart(10px)\" data-reactid=\"120\"><span data-reactid=\"121\">3,148.73</span></td><td class=\"Py(10px) Pstart(10px)\" data-reactid=\"122\"><span data-reactid=\"123\">3,148.73</span></td><td class=\"Py(10px) Pstart(10px)\" data-reactid=\"124\"><span data-reactid=\"125\">115,899,300</span></td></tr>\n",
      "5 <tr class=\"BdT Bdc($seperatorColor) Ta(end) Fz(s) Whs(nw)\" data-reactid=\"126\"><td class=\"Py(10px) Ta(start) Pend(10px)\" data-reactid=\"127\"><span data-reactid=\"128\">Aug 01, 2020</span></td><td class=\"Py(10px) Pstart(10px)\" data-reactid=\"129\"><span data-reactid=\"130\">3,180.51</span></td><td class=\"Py(10px) Pstart(10px)\" data-reactid=\"131\"><span data-reactid=\"132\">3,495.00</span></td><td class=\"Py(10px) Pstart(10px)\" data-reactid=\"133\"><span data-reactid=\"134\">3,073.00</span></td><td class=\"Py(10px) Pstart(10px)\" data-reactid=\"135\"><span data-reactid=\"136\">3,450.96</span></td><td class=\"Py(10px) Pstart(10px)\" data-reactid=\"137\"><span data-reactid=\"138\">3,450.96</span></td><td class=\"Py(10px) Pstart(10px)\" data-reactid=\"139\"><span data-reactid=\"140\">83,516,600</span></td></tr>\n",
      "6 <tr class=\"BdT Bdc($seperatorColor) Ta(end) Fz(s) Whs(nw)\" data-reactid=\"141\"><td class=\"Py(10px) Ta(start) Pend(10px)\" data-reactid=\"142\"><span data-reactid=\"143\">Jul 01, 2020</span></td><td class=\"Py(10px) Pstart(10px)\" data-reactid=\"144\"><span data-reactid=\"145\">2,757.99</span></td><td class=\"Py(10px) Pstart(10px)\" data-reactid=\"146\"><span data-reactid=\"147\">3,344.29</span></td><td class=\"Py(10px) Pstart(10px)\" data-reactid=\"148\"><span data-reactid=\"149\">2,754.00</span></td><td class=\"Py(10px) Pstart(10px)\" data-reactid=\"150\"><span data-reactid=\"151\">3,164.68</span></td><td class=\"Py(10px) Pstart(10px)\" data-reactid=\"152\"><span data-reactid=\"153\">3,164.68</span></td><td class=\"Py(10px) Pstart(10px)\" data-reactid=\"154\"><span data-reactid=\"155\">127,502,000</span></td></tr>\n",
      "7 <tr class=\"BdT Bdc($seperatorColor) Ta(end) Fz(s) Whs(nw)\" data-reactid=\"156\"><td class=\"Py(10px) Ta(start) Pend(10px)\" data-reactid=\"157\"><span data-reactid=\"158\">Jun 01, 2020</span></td><td class=\"Py(10px) Pstart(10px)\" data-reactid=\"159\"><span data-reactid=\"160\">2,448.00</span></td><td class=\"Py(10px) Pstart(10px)\" data-reactid=\"161\"><span data-reactid=\"162\">2,796.00</span></td><td class=\"Py(10px) Pstart(10px)\" data-reactid=\"163\"><span data-reactid=\"164\">2,437.13</span></td><td class=\"Py(10px) Pstart(10px)\" data-reactid=\"165\"><span data-reactid=\"166\">2,758.82</span></td><td class=\"Py(10px) Pstart(10px)\" data-reactid=\"167\"><span data-reactid=\"168\">2,758.82</span></td><td class=\"Py(10px) Pstart(10px)\" data-reactid=\"169\"><span data-reactid=\"170\">87,818,300</span></td></tr>\n",
      "8 <tr class=\"BdT Bdc($seperatorColor) Ta(end) Fz(s) Whs(nw)\" data-reactid=\"171\"><td class=\"Py(10px) Ta(start) Pend(10px)\" data-reactid=\"172\"><span data-reactid=\"173\">May 01, 2020</span></td><td class=\"Py(10px) Pstart(10px)\" data-reactid=\"174\"><span data-reactid=\"175\">2,336.80</span></td><td class=\"Py(10px) Pstart(10px)\" data-reactid=\"176\"><span data-reactid=\"177\">2,525.45</span></td><td class=\"Py(10px) Pstart(10px)\" data-reactid=\"178\"><span data-reactid=\"179\">2,256.38</span></td><td class=\"Py(10px) Pstart(10px)\" data-reactid=\"180\"><span data-reactid=\"181\">2,442.37</span></td><td class=\"Py(10px) Pstart(10px)\" data-reactid=\"182\"><span data-reactid=\"183\">2,442.37</span></td><td class=\"Py(10px) Pstart(10px)\" data-reactid=\"184\"><span data-reactid=\"185\">82,584,400</span></td></tr>\n",
      "9 <tr class=\"BdT Bdc($seperatorColor) Ta(end) Fz(s) Whs(nw)\" data-reactid=\"186\"><td class=\"Py(10px) Ta(start) Pend(10px)\" data-reactid=\"187\"><span data-reactid=\"188\">Apr 01, 2020</span></td><td class=\"Py(10px) Pstart(10px)\" data-reactid=\"189\"><span data-reactid=\"190\">1,932.97</span></td><td class=\"Py(10px) Pstart(10px)\" data-reactid=\"191\"><span data-reactid=\"192\">2,475.00</span></td><td class=\"Py(10px) Pstart(10px)\" data-reactid=\"193\"><span data-reactid=\"194\">1,889.15</span></td><td class=\"Py(10px) Pstart(10px)\" data-reactid=\"195\"><span data-reactid=\"196\">2,474.00</span></td><td class=\"Py(10px) Pstart(10px)\" data-reactid=\"197\"><span data-reactid=\"198\">2,474.00</span></td><td class=\"Py(10px) Pstart(10px)\" data-reactid=\"199\"><span data-reactid=\"200\">124,609,800</span></td></tr>\n",
      "10 <tr class=\"BdT Bdc($seperatorColor) Ta(end) Fz(s) Whs(nw)\" data-reactid=\"201\"><td class=\"Py(10px) Ta(start) Pend(10px)\" data-reactid=\"202\"><span data-reactid=\"203\">Mar 01, 2020</span></td><td class=\"Py(10px) Pstart(10px)\" data-reactid=\"204\"><span data-reactid=\"205\">1,906.49</span></td><td class=\"Py(10px) Pstart(10px)\" data-reactid=\"206\"><span data-reactid=\"207\">1,996.33</span></td><td class=\"Py(10px) Pstart(10px)\" data-reactid=\"208\"><span data-reactid=\"209\">1,626.03</span></td><td class=\"Py(10px) Pstart(10px)\" data-reactid=\"210\"><span data-reactid=\"211\">1,949.72</span></td><td class=\"Py(10px) Pstart(10px)\" data-reactid=\"212\"><span data-reactid=\"213\">1,949.72</span></td><td class=\"Py(10px) Pstart(10px)\" data-reactid=\"214\"><span data-reactid=\"215\">163,809,100</span></td></tr>\n",
      "11 <tr class=\"BdT Bdc($seperatorColor) Ta(end) Fz(s) Whs(nw)\" data-reactid=\"216\"><td class=\"Py(10px) Ta(start) Pend(10px)\" data-reactid=\"217\"><span data-reactid=\"218\">Feb 01, 2020</span></td><td class=\"Py(10px) Pstart(10px)\" data-reactid=\"219\"><span data-reactid=\"220\">2,010.60</span></td><td class=\"Py(10px) Pstart(10px)\" data-reactid=\"221\"><span data-reactid=\"222\">2,185.95</span></td><td class=\"Py(10px) Pstart(10px)\" data-reactid=\"223\"><span data-reactid=\"224\">1,811.13</span></td><td class=\"Py(10px) Pstart(10px)\" data-reactid=\"225\"><span data-reactid=\"226\">1,883.75</span></td><td class=\"Py(10px) Pstart(10px)\" data-reactid=\"227\"><span data-reactid=\"228\">1,883.75</span></td><td class=\"Py(10px) Pstart(10px)\" data-reactid=\"229\"><span data-reactid=\"230\">92,510,100</span></td></tr>\n",
      "12 <tr class=\"BdT Bdc($seperatorColor) Ta(end) Fz(s) Whs(nw)\" data-reactid=\"231\"><td class=\"Py(10px) Ta(start) Pend(10px)\" data-reactid=\"232\"><span data-reactid=\"233\">Jan 01, 2020</span></td><td class=\"Py(10px) Pstart(10px)\" data-reactid=\"234\"><span data-reactid=\"235\">1,875.00</span></td><td class=\"Py(10px) Pstart(10px)\" data-reactid=\"236\"><span data-reactid=\"237\">2,055.72</span></td><td class=\"Py(10px) Pstart(10px)\" data-reactid=\"238\"><span data-reactid=\"239\">1,815.34</span></td><td class=\"Py(10px) Pstart(10px)\" data-reactid=\"240\"><span data-reactid=\"241\">2,008.72</span></td><td class=\"Py(10px) Pstart(10px)\" data-reactid=\"242\"><span data-reactid=\"243\">2,008.72</span></td><td class=\"Py(10px) Pstart(10px)\" data-reactid=\"244\"><span data-reactid=\"245\">84,698,300</span></td></tr>\n",
      "13 <tr class=\"BdT Bdc($seperatorColor) Ta(end) Fz(s) Whs(nw)\" data-reactid=\"246\"><td class=\"Py(10px) Ta(start) Pend(10px)\" data-reactid=\"247\"><span data-reactid=\"248\">Dec 01, 2019</span></td><td class=\"Py(10px) Pstart(10px)\" data-reactid=\"249\"><span data-reactid=\"250\">1,804.40</span></td><td class=\"Py(10px) Pstart(10px)\" data-reactid=\"251\"><span data-reactid=\"252\">1,901.40</span></td><td class=\"Py(10px) Pstart(10px)\" data-reactid=\"253\"><span data-reactid=\"254\">1,735.00</span></td><td class=\"Py(10px) Pstart(10px)\" data-reactid=\"255\"><span data-reactid=\"256\">1,847.84</span></td><td class=\"Py(10px) Pstart(10px)\" data-reactid=\"257\"><span data-reactid=\"258\">1,847.84</span></td><td class=\"Py(10px) Pstart(10px)\" data-reactid=\"259\"><span data-reactid=\"260\">68,149,600</span></td></tr>\n",
      "14 <tr class=\"BdT Bdc($seperatorColor) Ta(end) Fz(s) Whs(nw)\" data-reactid=\"261\"><td class=\"Py(10px) Ta(start) Pend(10px)\" data-reactid=\"262\"><span data-reactid=\"263\">Nov 01, 2019</span></td><td class=\"Py(10px) Pstart(10px)\" data-reactid=\"264\"><span data-reactid=\"265\">1,788.01</span></td><td class=\"Py(10px) Pstart(10px)\" data-reactid=\"266\"><span data-reactid=\"267\">1,824.69</span></td><td class=\"Py(10px) Pstart(10px)\" data-reactid=\"268\"><span data-reactid=\"269\">1,722.71</span></td><td class=\"Py(10px) Pstart(10px)\" data-reactid=\"270\"><span data-reactid=\"271\">1,800.80</span></td><td class=\"Py(10px) Pstart(10px)\" data-reactid=\"272\"><span data-reactid=\"273\">1,800.80</span></td><td class=\"Py(10px) Pstart(10px)\" data-reactid=\"274\"><span data-reactid=\"275\">52,076,200</span></td></tr>\n",
      "15 <tr class=\"BdT Bdc($seperatorColor) Ta(end) Fz(s) Whs(nw)\" data-reactid=\"276\"><td class=\"Py(10px) Ta(start) Pend(10px)\" data-reactid=\"277\"><span data-reactid=\"278\">Oct 01, 2019</span></td><td class=\"Py(10px) Pstart(10px)\" data-reactid=\"279\"><span data-reactid=\"280\">1,746.00</span></td><td class=\"Py(10px) Pstart(10px)\" data-reactid=\"281\"><span data-reactid=\"282\">1,798.85</span></td><td class=\"Py(10px) Pstart(10px)\" data-reactid=\"283\"><span data-reactid=\"284\">1,685.06</span></td><td class=\"Py(10px) Pstart(10px)\" data-reactid=\"285\"><span data-reactid=\"286\">1,776.66</span></td><td class=\"Py(10px) Pstart(10px)\" data-reactid=\"287\"><span data-reactid=\"288\">1,776.66</span></td><td class=\"Py(10px) Pstart(10px)\" data-reactid=\"289\"><span data-reactid=\"290\">70,360,500</span></td></tr>\n",
      "16 <tr class=\"BdT Bdc($seperatorColor) Ta(end) Fz(s) Whs(nw)\" data-reactid=\"291\"><td class=\"Py(10px) Ta(start) Pend(10px)\" data-reactid=\"292\"><span data-reactid=\"293\">Sep 01, 2019</span></td><td class=\"Py(10px) Pstart(10px)\" data-reactid=\"294\"><span data-reactid=\"295\">1,770.00</span></td><td class=\"Py(10px) Pstart(10px)\" data-reactid=\"296\"><span data-reactid=\"297\">1,853.66</span></td><td class=\"Py(10px) Pstart(10px)\" data-reactid=\"298\"><span data-reactid=\"299\">1,709.22</span></td><td class=\"Py(10px) Pstart(10px)\" data-reactid=\"300\"><span data-reactid=\"301\">1,735.91</span></td><td class=\"Py(10px) Pstart(10px)\" data-reactid=\"302\"><span data-reactid=\"303\">1,735.91</span></td><td class=\"Py(10px) Pstart(10px)\" data-reactid=\"304\"><span data-reactid=\"305\">61,172,900</span></td></tr>\n",
      "17 <tr class=\"BdT Bdc($seperatorColor) Ta(end) Fz(s) Whs(nw)\" data-reactid=\"306\"><td class=\"Py(10px) Ta(start) Pend(10px)\" data-reactid=\"307\"><span data-reactid=\"308\">Aug 01, 2019</span></td><td class=\"Py(10px) Pstart(10px)\" data-reactid=\"309\"><span data-reactid=\"310\">1,871.72</span></td><td class=\"Py(10px) Pstart(10px)\" data-reactid=\"311\"><span data-reactid=\"312\">1,897.92</span></td><td class=\"Py(10px) Pstart(10px)\" data-reactid=\"313\"><span data-reactid=\"314\">1,743.51</span></td><td class=\"Py(10px) Pstart(10px)\" data-reactid=\"315\"><span data-reactid=\"316\">1,776.29</span></td><td class=\"Py(10px) Pstart(10px)\" data-reactid=\"317\"><span data-reactid=\"318\">1,776.29</span></td><td class=\"Py(10px) Pstart(10px)\" data-reactid=\"319\"><span data-reactid=\"320\">79,771,200</span></td></tr>\n",
      "18 <tr class=\"BdT Bdc($seperatorColor) Ta(end) Fz(s) Whs(nw)\" data-reactid=\"321\"><td class=\"Py(10px) Ta(start) Pend(10px)\" data-reactid=\"322\"><span data-reactid=\"323\">Jul 01, 2019</span></td><td class=\"Py(10px) Pstart(10px)\" data-reactid=\"324\"><span data-reactid=\"325\">1,922.98</span></td><td class=\"Py(10px) Pstart(10px)\" data-reactid=\"326\"><span data-reactid=\"327\">2,035.80</span></td><td class=\"Py(10px) Pstart(10px)\" data-reactid=\"328\"><span data-reactid=\"329\">1,849.44</span></td><td class=\"Py(10px) Pstart(10px)\" data-reactid=\"330\"><span data-reactid=\"331\">1,866.78</span></td><td class=\"Py(10px) Pstart(10px)\" data-reactid=\"332\"><span data-reactid=\"333\">1,866.78</span></td><td class=\"Py(10px) Pstart(10px)\" data-reactid=\"334\"><span data-reactid=\"335\">73,148,800</span></td></tr>\n",
      "19 <tr class=\"BdT Bdc($seperatorColor) Ta(end) Fz(s) Whs(nw)\" data-reactid=\"336\"><td class=\"Py(10px) Ta(start) Pend(10px)\" data-reactid=\"337\"><span data-reactid=\"338\">Jun 01, 2019</span></td><td class=\"Py(10px) Pstart(10px)\" data-reactid=\"339\"><span data-reactid=\"340\">1,760.01</span></td><td class=\"Py(10px) Pstart(10px)\" data-reactid=\"341\"><span data-reactid=\"342\">1,935.20</span></td><td class=\"Py(10px) Pstart(10px)\" data-reactid=\"343\"><span data-reactid=\"344\">1,672.00</span></td><td class=\"Py(10px) Pstart(10px)\" data-reactid=\"345\"><span data-reactid=\"346\">1,893.63</span></td><td class=\"Py(10px) Pstart(10px)\" data-reactid=\"347\"><span data-reactid=\"348\">1,893.63</span></td><td class=\"Py(10px) Pstart(10px)\" data-reactid=\"349\"><span data-reactid=\"350\">74,746,500</span></td></tr>\n",
      "20 <tr class=\"BdT Bdc($seperatorColor) Ta(end) Fz(s) Whs(nw)\" data-reactid=\"351\"><td class=\"Py(10px) Ta(start) Pend(10px)\" data-reactid=\"352\"><span data-reactid=\"353\">May 01, 2019</span></td><td class=\"Py(10px) Pstart(10px)\" data-reactid=\"354\"><span data-reactid=\"355\">1,933.09</span></td><td class=\"Py(10px) Pstart(10px)\" data-reactid=\"356\"><span data-reactid=\"357\">1,964.40</span></td><td class=\"Py(10px) Pstart(10px)\" data-reactid=\"358\"><span data-reactid=\"359\">1,772.70</span></td><td class=\"Py(10px) Pstart(10px)\" data-reactid=\"360\"><span data-reactid=\"361\">1,775.07</span></td><td class=\"Py(10px) Pstart(10px)\" data-reactid=\"362\"><span data-reactid=\"363\">1,775.07</span></td><td class=\"Py(10px) Pstart(10px)\" data-reactid=\"364\"><span data-reactid=\"365\">98,214,400</span></td></tr>\n",
      "21 <tr class=\"BdT Bdc($seperatorColor) Ta(end) Fz(s) Whs(nw)\" data-reactid=\"366\"><td class=\"Py(10px) Ta(start) Pend(10px)\" data-reactid=\"367\"><span data-reactid=\"368\">Apr 01, 2019</span></td><td class=\"Py(10px) Pstart(10px)\" data-reactid=\"369\"><span data-reactid=\"370\">1,800.11</span></td><td class=\"Py(10px) Pstart(10px)\" data-reactid=\"371\"><span data-reactid=\"372\">1,956.34</span></td><td class=\"Py(10px) Pstart(10px)\" data-reactid=\"373\"><span data-reactid=\"374\">1,798.73</span></td><td class=\"Py(10px) Pstart(10px)\" data-reactid=\"375\"><span data-reactid=\"376\">1,926.52</span></td><td class=\"Py(10px) Pstart(10px)\" data-reactid=\"377\"><span data-reactid=\"378\">1,926.52</span></td><td class=\"Py(10px) Pstart(10px)\" data-reactid=\"379\"><span data-reactid=\"380\">81,239,200</span></td></tr>\n",
      "22 <tr class=\"BdT Bdc($seperatorColor) Ta(end) Fz(s) Whs(nw)\" data-reactid=\"381\"><td class=\"Py(10px) Ta(start) Pend(10px)\" data-reactid=\"382\"><span data-reactid=\"383\">Mar 01, 2019</span></td><td class=\"Py(10px) Pstart(10px)\" data-reactid=\"384\"><span data-reactid=\"385\">1,655.13</span></td><td class=\"Py(10px) Pstart(10px)\" data-reactid=\"386\"><span data-reactid=\"387\">1,823.75</span></td><td class=\"Py(10px) Pstart(10px)\" data-reactid=\"388\"><span data-reactid=\"389\">1,586.57</span></td><td class=\"Py(10px) Pstart(10px)\" data-reactid=\"390\"><span data-reactid=\"391\">1,780.75</span></td><td class=\"Py(10px) Pstart(10px)\" data-reactid=\"392\"><span data-reactid=\"393\">1,780.75</span></td><td class=\"Py(10px) Pstart(10px)\" data-reactid=\"394\"><span data-reactid=\"395\">100,832,200</span></td></tr>\n",
      "23 <tr class=\"BdT Bdc($seperatorColor) Ta(end) Fz(s) Whs(nw)\" data-reactid=\"396\"><td class=\"Py(10px) Ta(start) Pend(10px)\" data-reactid=\"397\"><span data-reactid=\"398\">Feb 01, 2019</span></td><td class=\"Py(10px) Pstart(10px)\" data-reactid=\"399\"><span data-reactid=\"400\">1,638.88</span></td><td class=\"Py(10px) Pstart(10px)\" data-reactid=\"401\"><span data-reactid=\"402\">1,673.06</span></td><td class=\"Py(10px) Pstart(10px)\" data-reactid=\"403\"><span data-reactid=\"404\">1,566.76</span></td><td class=\"Py(10px) Pstart(10px)\" data-reactid=\"405\"><span data-reactid=\"406\">1,639.83</span></td><td class=\"Py(10px) Pstart(10px)\" data-reactid=\"407\"><span data-reactid=\"408\">1,639.83</span></td><td class=\"Py(10px) Pstart(10px)\" data-reactid=\"409\"><span data-reactid=\"410\">80,936,900</span></td></tr>\n",
      "24 <tr class=\"BdT Bdc($seperatorColor) Ta(end) Fz(s) Whs(nw)\" data-reactid=\"411\"><td class=\"Py(10px) Ta(start) Pend(10px)\" data-reactid=\"412\"><span data-reactid=\"413\">Jan 01, 2019</span></td><td class=\"Py(10px) Pstart(10px)\" data-reactid=\"414\"><span data-reactid=\"415\">1,465.20</span></td><td class=\"Py(10px) Pstart(10px)\" data-reactid=\"416\"><span data-reactid=\"417\">1,736.41</span></td><td class=\"Py(10px) Pstart(10px)\" data-reactid=\"418\"><span data-reactid=\"419\">1,460.93</span></td><td class=\"Py(10px) Pstart(10px)\" data-reactid=\"420\"><span data-reactid=\"421\">1,718.73</span></td><td class=\"Py(10px) Pstart(10px)\" data-reactid=\"422\"><span data-reactid=\"423\">1,718.73</span></td><td class=\"Py(10px) Pstart(10px)\" data-reactid=\"424\"><span data-reactid=\"425\">134,001,700</span></td></tr>\n",
      "25 <tr class=\"BdT Bdc($seperatorColor) Ta(end) Fz(s) Whs(nw)\" data-reactid=\"426\"><td class=\"Py(10px) Ta(start) Pend(10px)\" data-reactid=\"427\"><span data-reactid=\"428\">Dec 01, 2018</span></td><td class=\"Py(10px) Pstart(10px)\" data-reactid=\"429\"><span data-reactid=\"430\">1,769.46</span></td><td class=\"Py(10px) Pstart(10px)\" data-reactid=\"431\"><span data-reactid=\"432\">1,778.34</span></td><td class=\"Py(10px) Pstart(10px)\" data-reactid=\"433\"><span data-reactid=\"434\">1,307.00</span></td><td class=\"Py(10px) Pstart(10px)\" data-reactid=\"435\"><span data-reactid=\"436\">1,501.97</span></td><td class=\"Py(10px) Pstart(10px)\" data-reactid=\"437\"><span data-reactid=\"438\">1,501.97</span></td><td class=\"Py(10px) Pstart(10px)\" data-reactid=\"439\"><span data-reactid=\"440\">154,812,700</span></td></tr>\n",
      "26 <tr class=\"BdT Bdc($seperatorColor) Ta(end) Fz(s) Whs(nw)\" data-reactid=\"441\"><td class=\"Py(10px) Ta(start) Pend(10px)\" data-reactid=\"442\"><span data-reactid=\"443\">Nov 01, 2018</span></td><td class=\"Py(10px) Pstart(10px)\" data-reactid=\"444\"><span data-reactid=\"445\">1,623.53</span></td><td class=\"Py(10px) Pstart(10px)\" data-reactid=\"446\"><span data-reactid=\"447\">1,784.00</span></td><td class=\"Py(10px) Pstart(10px)\" data-reactid=\"448\"><span data-reactid=\"449\">1,420.00</span></td><td class=\"Py(10px) Pstart(10px)\" data-reactid=\"450\"><span data-reactid=\"451\">1,690.17</span></td><td class=\"Py(10px) Pstart(10px)\" data-reactid=\"452\"><span data-reactid=\"453\">1,690.17</span></td><td class=\"Py(10px) Pstart(10px)\" data-reactid=\"454\"><span data-reactid=\"455\">139,290,000</span></td></tr>\n",
      "27 <tr class=\"BdT Bdc($seperatorColor) Ta(end) Fz(s) Whs(nw)\" data-reactid=\"456\"><td class=\"Py(10px) Ta(start) Pend(10px)\" data-reactid=\"457\"><span data-reactid=\"458\">Oct 01, 2018</span></td><td class=\"Py(10px) Pstart(10px)\" data-reactid=\"459\"><span data-reactid=\"460\">2,021.99</span></td><td class=\"Py(10px) Pstart(10px)\" data-reactid=\"461\"><span data-reactid=\"462\">2,033.19</span></td><td class=\"Py(10px) Pstart(10px)\" data-reactid=\"463\"><span data-reactid=\"464\">1,476.36</span></td><td class=\"Py(10px) Pstart(10px)\" data-reactid=\"465\"><span data-reactid=\"466\">1,598.01</span></td><td class=\"Py(10px) Pstart(10px)\" data-reactid=\"467\"><span data-reactid=\"468\">1,598.01</span></td><td class=\"Py(10px) Pstart(10px)\" data-reactid=\"469\"><span data-reactid=\"470\">183,220,800</span></td></tr>\n",
      "28 <tr class=\"BdT Bdc($seperatorColor) Ta(end) Fz(s) Whs(nw)\" data-reactid=\"471\"><td class=\"Py(10px) Ta(start) Pend(10px)\" data-reactid=\"472\"><span data-reactid=\"473\">Sep 01, 2018</span></td><td class=\"Py(10px) Pstart(10px)\" data-reactid=\"474\"><span data-reactid=\"475\">2,026.50</span></td><td class=\"Py(10px) Pstart(10px)\" data-reactid=\"476\"><span data-reactid=\"477\">2,050.50</span></td><td class=\"Py(10px) Pstart(10px)\" data-reactid=\"478\"><span data-reactid=\"479\">1,865.00</span></td><td class=\"Py(10px) Pstart(10px)\" data-reactid=\"480\"><span data-reactid=\"481\">2,003.00</span></td><td class=\"Py(10px) Pstart(10px)\" data-reactid=\"482\"><span data-reactid=\"483\">2,003.00</span></td><td class=\"Py(10px) Pstart(10px)\" data-reactid=\"484\"><span data-reactid=\"485\">94,445,500</span></td></tr>\n",
      "29 <tr class=\"BdT Bdc($seperatorColor) Ta(end) Fz(s) Whs(nw)\" data-reactid=\"486\"><td class=\"Py(10px) Ta(start) Pend(10px)\" data-reactid=\"487\"><span data-reactid=\"488\">Aug 01, 2018</span></td><td class=\"Py(10px) Pstart(10px)\" data-reactid=\"489\"><span data-reactid=\"490\">1,784.00</span></td><td class=\"Py(10px) Pstart(10px)\" data-reactid=\"491\"><span data-reactid=\"492\">2,025.57</span></td><td class=\"Py(10px) Pstart(10px)\" data-reactid=\"493\"><span data-reactid=\"494\">1,776.02</span></td><td class=\"Py(10px) Pstart(10px)\" data-reactid=\"495\"><span data-reactid=\"496\">2,012.71</span></td><td class=\"Py(10px) Pstart(10px)\" data-reactid=\"497\"><span data-reactid=\"498\">2,012.71</span></td><td class=\"Py(10px) Pstart(10px)\" data-reactid=\"499\"><span data-reactid=\"500\">96,575,800</span></td></tr>\n",
      "30 <tr class=\"BdT Bdc($seperatorColor) Ta(end) Fz(s) Whs(nw)\" data-reactid=\"501\"><td class=\"Py(10px) Ta(start) Pend(10px)\" data-reactid=\"502\"><span data-reactid=\"503\">Jul 01, 2018</span></td><td class=\"Py(10px) Pstart(10px)\" data-reactid=\"504\"><span data-reactid=\"505\">1,682.70</span></td><td class=\"Py(10px) Pstart(10px)\" data-reactid=\"506\"><span data-reactid=\"507\">1,880.05</span></td><td class=\"Py(10px) Pstart(10px)\" data-reactid=\"508\"><span data-reactid=\"509\">1,678.06</span></td><td class=\"Py(10px) Pstart(10px)\" data-reactid=\"510\"><span data-reactid=\"511\">1,777.44</span></td><td class=\"Py(10px) Pstart(10px)\" data-reactid=\"512\"><span data-reactid=\"513\">1,777.44</span></td><td class=\"Py(10px) Pstart(10px)\" data-reactid=\"514\"><span data-reactid=\"515\">97,521,100</span></td></tr>\n",
      "31 <tr class=\"BdT Bdc($seperatorColor) Ta(end) Fz(s) Whs(nw)\" data-reactid=\"516\"><td class=\"Py(10px) Ta(start) Pend(10px)\" data-reactid=\"517\"><span data-reactid=\"518\">Jun 01, 2018</span></td><td class=\"Py(10px) Pstart(10px)\" data-reactid=\"519\"><span data-reactid=\"520\">1,637.03</span></td><td class=\"Py(10px) Pstart(10px)\" data-reactid=\"521\"><span data-reactid=\"522\">1,763.10</span></td><td class=\"Py(10px) Pstart(10px)\" data-reactid=\"523\"><span data-reactid=\"524\">1,635.09</span></td><td class=\"Py(10px) Pstart(10px)\" data-reactid=\"525\"><span data-reactid=\"526\">1,699.80</span></td><td class=\"Py(10px) Pstart(10px)\" data-reactid=\"527\"><span data-reactid=\"528\">1,699.80</span></td><td class=\"Py(10px) Pstart(10px)\" data-reactid=\"529\"><span data-reactid=\"530\">85,941,300</span></td></tr>\n",
      "32 <tr class=\"BdT Bdc($seperatorColor) Ta(end) Fz(s) Whs(nw)\" data-reactid=\"531\"><td class=\"Py(10px) Ta(start) Pend(10px)\" data-reactid=\"532\"><span data-reactid=\"533\">May 01, 2018</span></td><td class=\"Py(10px) Pstart(10px)\" data-reactid=\"534\"><span data-reactid=\"535\">1,563.22</span></td><td class=\"Py(10px) Pstart(10px)\" data-reactid=\"536\"><span data-reactid=\"537\">1,635.00</span></td><td class=\"Py(10px) Pstart(10px)\" data-reactid=\"538\"><span data-reactid=\"539\">1,546.02</span></td><td class=\"Py(10px) Pstart(10px)\" data-reactid=\"540\"><span data-reactid=\"541\">1,629.62</span></td><td class=\"Py(10px) Pstart(10px)\" data-reactid=\"542\"><span data-reactid=\"543\">1,629.62</span></td><td class=\"Py(10px) Pstart(10px)\" data-reactid=\"544\"><span data-reactid=\"545\">71,615,500</span></td></tr>\n",
      "33 <tr class=\"BdT Bdc($seperatorColor) Ta(end) Fz(s) Whs(nw)\" data-reactid=\"546\"><td class=\"Py(10px) Ta(start) Pend(10px)\" data-reactid=\"547\"><span data-reactid=\"548\">Apr 01, 2018</span></td><td class=\"Py(10px) Pstart(10px)\" data-reactid=\"549\"><span data-reactid=\"550\">1,417.62</span></td><td class=\"Py(10px) Pstart(10px)\" data-reactid=\"551\"><span data-reactid=\"552\">1,638.10</span></td><td class=\"Py(10px) Pstart(10px)\" data-reactid=\"553\"><span data-reactid=\"554\">1,352.88</span></td><td class=\"Py(10px) Pstart(10px)\" data-reactid=\"555\"><span data-reactid=\"556\">1,566.13</span></td><td class=\"Py(10px) Pstart(10px)\" data-reactid=\"557\"><span data-reactid=\"558\">1,566.13</span></td><td class=\"Py(10px) Pstart(10px)\" data-reactid=\"559\"><span data-reactid=\"560\">129,919,600</span></td></tr>\n",
      "34 <tr class=\"BdT Bdc($seperatorColor) Ta(end) Fz(s) Whs(nw)\" data-reactid=\"561\"><td class=\"Py(10px) Ta(start) Pend(10px)\" data-reactid=\"562\"><span data-reactid=\"563\">Mar 01, 2018</span></td><td class=\"Py(10px) Pstart(10px)\" data-reactid=\"564\"><span data-reactid=\"565\">1,513.60</span></td><td class=\"Py(10px) Pstart(10px)\" data-reactid=\"566\"><span data-reactid=\"567\">1,617.54</span></td><td class=\"Py(10px) Pstart(10px)\" data-reactid=\"568\"><span data-reactid=\"569\">1,365.20</span></td><td class=\"Py(10px) Pstart(10px)\" data-reactid=\"570\"><span data-reactid=\"571\">1,447.34</span></td><td class=\"Py(10px) Pstart(10px)\" data-reactid=\"572\"><span data-reactid=\"573\">1,447.34</span></td><td class=\"Py(10px) Pstart(10px)\" data-reactid=\"574\"><span data-reactid=\"575\">130,400,100</span></td></tr>\n",
      "35 <tr class=\"BdT Bdc($seperatorColor) Ta(end) Fz(s) Whs(nw)\" data-reactid=\"576\"><td class=\"Py(10px) Ta(start) Pend(10px)\" data-reactid=\"577\"><span data-reactid=\"578\">Feb 01, 2018</span></td><td class=\"Py(10px) Pstart(10px)\" data-reactid=\"579\"><span data-reactid=\"580\">1,445.00</span></td><td class=\"Py(10px) Pstart(10px)\" data-reactid=\"581\"><span data-reactid=\"582\">1,528.70</span></td><td class=\"Py(10px) Pstart(10px)\" data-reactid=\"583\"><span data-reactid=\"584\">1,265.93</span></td><td class=\"Py(10px) Pstart(10px)\" data-reactid=\"585\"><span data-reactid=\"586\">1,512.45</span></td><td class=\"Py(10px) Pstart(10px)\" data-reactid=\"587\"><span data-reactid=\"588\">1,512.45</span></td><td class=\"Py(10px) Pstart(10px)\" data-reactid=\"589\"><span data-reactid=\"590\">137,784,000</span></td></tr>\n",
      "36 <tr class=\"BdT Bdc($seperatorColor) Ta(end) Fz(s) Whs(nw)\" data-reactid=\"591\"><td class=\"Py(10px) Ta(start) Pend(10px)\" data-reactid=\"592\"><span data-reactid=\"593\">Jan 01, 2018</span></td><td class=\"Py(10px) Pstart(10px)\" data-reactid=\"594\"><span data-reactid=\"595\">1,172.00</span></td><td class=\"Py(10px) Pstart(10px)\" data-reactid=\"596\"><span data-reactid=\"597\">1,472.58</span></td><td class=\"Py(10px) Pstart(10px)\" data-reactid=\"598\"><span data-reactid=\"599\">1,170.51</span></td><td class=\"Py(10px) Pstart(10px)\" data-reactid=\"600\"><span data-reactid=\"601\">1,450.89</span></td><td class=\"Py(10px) Pstart(10px)\" data-reactid=\"602\"><span data-reactid=\"603\">1,450.89</span></td><td class=\"Py(10px) Pstart(10px)\" data-reactid=\"604\"><span data-reactid=\"605\">96,371,200</span></td></tr>\n",
      "37 <tr class=\"BdT Bdc($seperatorColor) Ta(end) Fz(s) Whs(nw)\" data-reactid=\"606\"><td class=\"Py(10px) Ta(start) Pend(10px)\" data-reactid=\"607\"><span data-reactid=\"608\">Dec 01, 2017</span></td><td class=\"Py(10px) Pstart(10px)\" data-reactid=\"609\"><span data-reactid=\"610\">1,172.05</span></td><td class=\"Py(10px) Pstart(10px)\" data-reactid=\"611\"><span data-reactid=\"612\">1,194.78</span></td><td class=\"Py(10px) Pstart(10px)\" data-reactid=\"613\"><span data-reactid=\"614\">1,124.74</span></td><td class=\"Py(10px) Pstart(10px)\" data-reactid=\"615\"><span data-reactid=\"616\">1,169.47</span></td><td class=\"Py(10px) Pstart(10px)\" data-reactid=\"617\"><span data-reactid=\"618\">1,169.47</span></td><td class=\"Py(10px) Pstart(10px)\" data-reactid=\"619\"><span data-reactid=\"620\">57,760,200</span></td></tr>\n",
      "38 <tr class=\"BdT Bdc($seperatorColor) Ta(end) Fz(s) Whs(nw)\" data-reactid=\"621\"><td class=\"Py(10px) Ta(start) Pend(10px)\" data-reactid=\"622\"><span data-reactid=\"623\">Nov 01, 2017</span></td><td class=\"Py(10px) Pstart(10px)\" data-reactid=\"624\"><span data-reactid=\"625\">1,105.40</span></td><td class=\"Py(10px) Pstart(10px)\" data-reactid=\"626\"><span data-reactid=\"627\">1,213.41</span></td><td class=\"Py(10px) Pstart(10px)\" data-reactid=\"628\"><span data-reactid=\"629\">1,086.87</span></td><td class=\"Py(10px) Pstart(10px)\" data-reactid=\"630\"><span data-reactid=\"631\">1,176.75</span></td><td class=\"Py(10px) Pstart(10px)\" data-reactid=\"632\"><span data-reactid=\"633\">1,176.75</span></td><td class=\"Py(10px) Pstart(10px)\" data-reactid=\"634\"><span data-reactid=\"635\">77,165,000</span></td></tr>\n",
      "39 <tr class=\"BdT Bdc($seperatorColor) Ta(end) Fz(s) Whs(nw)\" data-reactid=\"636\"><td class=\"Py(10px) Ta(start) Pend(10px)\" data-reactid=\"637\"><span data-reactid=\"638\">Oct 01, 2017</span></td><td class=\"Py(10px) Pstart(10px)\" data-reactid=\"639\"><span data-reactid=\"640\">964.00</span></td><td class=\"Py(10px) Pstart(10px)\" data-reactid=\"641\"><span data-reactid=\"642\">1,122.79</span></td><td class=\"Py(10px) Pstart(10px)\" data-reactid=\"643\"><span data-reactid=\"644\">950.37</span></td><td class=\"Py(10px) Pstart(10px)\" data-reactid=\"645\"><span data-reactid=\"646\">1,105.28</span></td><td class=\"Py(10px) Pstart(10px)\" data-reactid=\"647\"><span data-reactid=\"648\">1,105.28</span></td><td class=\"Py(10px) Pstart(10px)\" data-reactid=\"649\"><span data-reactid=\"650\">83,334,100</span></td></tr>\n",
      "40 <tr class=\"BdT Bdc($seperatorColor) Ta(end) Fz(s) Whs(nw)\" data-reactid=\"651\"><td class=\"Py(10px) Ta(start) Pend(10px)\" data-reactid=\"652\"><span data-reactid=\"653\">Sep 01, 2017</span></td><td class=\"Py(10px) Pstart(10px)\" data-reactid=\"654\"><span data-reactid=\"655\">984.20</span></td><td class=\"Py(10px) Pstart(10px)\" data-reactid=\"656\"><span data-reactid=\"657\">1,000.00</span></td><td class=\"Py(10px) Pstart(10px)\" data-reactid=\"658\"><span data-reactid=\"659\">931.75</span></td><td class=\"Py(10px) Pstart(10px)\" data-reactid=\"660\"><span data-reactid=\"661\">961.35</span></td><td class=\"Py(10px) Pstart(10px)\" data-reactid=\"662\"><span data-reactid=\"663\">961.35</span></td><td class=\"Py(10px) Pstart(10px)\" data-reactid=\"664\"><span data-reactid=\"665\">59,291,800</span></td></tr>\n",
      "41 <tr class=\"BdT Bdc($seperatorColor) Ta(end) Fz(s) Whs(nw)\" data-reactid=\"666\"><td class=\"Py(10px) Ta(start) Pend(10px)\" data-reactid=\"667\"><span data-reactid=\"668\">Aug 01, 2017</span></td><td class=\"Py(10px) Pstart(10px)\" data-reactid=\"669\"><span data-reactid=\"670\">996.11</span></td><td class=\"Py(10px) Pstart(10px)\" data-reactid=\"671\"><span data-reactid=\"672\">1,006.40</span></td><td class=\"Py(10px) Pstart(10px)\" data-reactid=\"673\"><span data-reactid=\"674\">936.33</span></td><td class=\"Py(10px) Pstart(10px)\" data-reactid=\"675\"><span data-reactid=\"676\">980.60</span></td><td class=\"Py(10px) Pstart(10px)\" data-reactid=\"677\"><span data-reactid=\"678\">980.60</span></td><td class=\"Py(10px) Pstart(10px)\" data-reactid=\"679\"><span data-reactid=\"680\">77,391,800</span></td></tr>\n",
      "42 <tr class=\"BdT Bdc($seperatorColor) Ta(end) Fz(s) Whs(nw)\" data-reactid=\"681\"><td class=\"Py(10px) Ta(start) Pend(10px)\" data-reactid=\"682\"><span data-reactid=\"683\">Jul 01, 2017</span></td><td class=\"Py(10px) Pstart(10px)\" data-reactid=\"684\"><span data-reactid=\"685\">972.79</span></td><td class=\"Py(10px) Pstart(10px)\" data-reactid=\"686\"><span data-reactid=\"687\">1,083.31</span></td><td class=\"Py(10px) Pstart(10px)\" data-reactid=\"688\"><span data-reactid=\"689\">951.00</span></td><td class=\"Py(10px) Pstart(10px)\" data-reactid=\"690\"><span data-reactid=\"691\">987.78</span></td><td class=\"Py(10px) Pstart(10px)\" data-reactid=\"692\"><span data-reactid=\"693\">987.78</span></td><td class=\"Py(10px) Pstart(10px)\" data-reactid=\"694\"><span data-reactid=\"695\">78,812,400</span></td></tr>\n",
      "43 <tr class=\"BdT Bdc($seperatorColor) Ta(end) Fz(s) Whs(nw)\" data-reactid=\"696\"><td class=\"Py(10px) Ta(start) Pend(10px)\" data-reactid=\"697\"><span data-reactid=\"698\">Jun 01, 2017</span></td><td class=\"Py(10px) Pstart(10px)\" data-reactid=\"699\"><span data-reactid=\"700\">998.59</span></td><td class=\"Py(10px) Pstart(10px)\" data-reactid=\"701\"><span data-reactid=\"702\">1,017.00</span></td><td class=\"Py(10px) Pstart(10px)\" data-reactid=\"703\"><span data-reactid=\"704\">927.00</span></td><td class=\"Py(10px) Pstart(10px)\" data-reactid=\"705\"><span data-reactid=\"706\">968.00</span></td><td class=\"Py(10px) Pstart(10px)\" data-reactid=\"707\"><span data-reactid=\"708\">968.00</span></td><td class=\"Py(10px) Pstart(10px)\" data-reactid=\"709\"><span data-reactid=\"710\">96,135,400</span></td></tr>\n",
      "44 <tr class=\"BdT Bdc($seperatorColor) Ta(end) Fz(s) Whs(nw)\" data-reactid=\"711\"><td class=\"Py(10px) Ta(start) Pend(10px)\" data-reactid=\"712\"><span data-reactid=\"713\">May 01, 2017</span></td><td class=\"Py(10px) Pstart(10px)\" data-reactid=\"714\"><span data-reactid=\"715\">927.80</span></td><td class=\"Py(10px) Pstart(10px)\" data-reactid=\"716\"><span data-reactid=\"717\">1,001.20</span></td><td class=\"Py(10px) Pstart(10px)\" data-reactid=\"718\"><span data-reactid=\"719\">927.80</span></td><td class=\"Py(10px) Pstart(10px)\" data-reactid=\"720\"><span data-reactid=\"721\">994.62</span></td><td class=\"Py(10px) Pstart(10px)\" data-reactid=\"722\"><span data-reactid=\"723\">994.62</span></td><td class=\"Py(10px) Pstart(10px)\" data-reactid=\"724\"><span data-reactid=\"725\">76,202,000</span></td></tr>\n",
      "45 <tr class=\"BdT Bdc($seperatorColor) Ta(end) Fz(s) Whs(nw)\" data-reactid=\"726\"><td class=\"Py(10px) Ta(start) Pend(10px)\" data-reactid=\"727\"><span data-reactid=\"728\">Apr 01, 2017</span></td><td class=\"Py(10px) Pstart(10px)\" data-reactid=\"729\"><span data-reactid=\"730\">888.00</span></td><td class=\"Py(10px) Pstart(10px)\" data-reactid=\"731\"><span data-reactid=\"732\">949.59</span></td><td class=\"Py(10px) Pstart(10px)\" data-reactid=\"733\"><span data-reactid=\"734\">884.49</span></td><td class=\"Py(10px) Pstart(10px)\" data-reactid=\"735\"><span data-reactid=\"736\">924.99</span></td><td class=\"Py(10px) Pstart(10px)\" data-reactid=\"737\"><span data-reactid=\"738\">924.99</span></td><td class=\"Py(10px) Pstart(10px)\" data-reactid=\"739\"><span data-reactid=\"740\">73,539,700</span></td></tr>\n",
      "46 <tr class=\"BdT Bdc($seperatorColor) Ta(end) Fz(s) Whs(nw)\" data-reactid=\"741\"><td class=\"Py(10px) Ta(start) Pend(10px)\" data-reactid=\"742\"><span data-reactid=\"743\">Mar 01, 2017</span></td><td class=\"Py(10px) Pstart(10px)\" data-reactid=\"744\"><span data-reactid=\"745\">853.05</span></td><td class=\"Py(10px) Pstart(10px)\" data-reactid=\"746\"><span data-reactid=\"747\">890.35</span></td><td class=\"Py(10px) Pstart(10px)\" data-reactid=\"748\"><span data-reactid=\"749\">833.50</span></td><td class=\"Py(10px) Pstart(10px)\" data-reactid=\"750\"><span data-reactid=\"751\">886.54</span></td><td class=\"Py(10px) Pstart(10px)\" data-reactid=\"752\"><span data-reactid=\"753\">886.54</span></td><td class=\"Py(10px) Pstart(10px)\" data-reactid=\"754\"><span data-reactid=\"755\">60,710,700</span></td></tr>\n",
      "47 <tr class=\"BdT Bdc($seperatorColor) Ta(end) Fz(s) Whs(nw)\" data-reactid=\"756\"><td class=\"Py(10px) Ta(start) Pend(10px)\" data-reactid=\"757\"><span data-reactid=\"758\">Feb 01, 2017</span></td><td class=\"Py(10px) Pstart(10px)\" data-reactid=\"759\"><span data-reactid=\"760\">829.21</span></td><td class=\"Py(10px) Pstart(10px)\" data-reactid=\"761\"><span data-reactid=\"762\">860.86</span></td><td class=\"Py(10px) Pstart(10px)\" data-reactid=\"763\"><span data-reactid=\"764\">803.00</span></td><td class=\"Py(10px) Pstart(10px)\" data-reactid=\"765\"><span data-reactid=\"766\">845.04</span></td><td class=\"Py(10px) Pstart(10px)\" data-reactid=\"767\"><span data-reactid=\"768\">845.04</span></td><td class=\"Py(10px) Pstart(10px)\" data-reactid=\"769\"><span data-reactid=\"770\">71,748,300</span></td></tr>\n",
      "48 <tr class=\"BdT Bdc($seperatorColor) Ta(end) Fz(s) Whs(nw)\" data-reactid=\"771\"><td class=\"Py(10px) Ta(start) Pend(10px)\" data-reactid=\"772\"><span data-reactid=\"773\">Jan 01, 2017</span></td><td class=\"Py(10px) Pstart(10px)\" data-reactid=\"774\"><span data-reactid=\"775\">757.92</span></td><td class=\"Py(10px) Pstart(10px)\" data-reactid=\"776\"><span data-reactid=\"777\">843.84</span></td><td class=\"Py(10px) Pstart(10px)\" data-reactid=\"778\"><span data-reactid=\"779\">747.70</span></td><td class=\"Py(10px) Pstart(10px)\" data-reactid=\"780\"><span data-reactid=\"781\">823.48</span></td><td class=\"Py(10px) Pstart(10px)\" data-reactid=\"782\"><span data-reactid=\"783\">823.48</span></td><td class=\"Py(10px) Pstart(10px)\" data-reactid=\"784\"><span data-reactid=\"785\">70,614,000</span></td></tr>\n",
      "49 <tr class=\"BdT Bdc($seperatorColor) Ta(end) Fz(s) Whs(nw)\" data-reactid=\"786\"><td class=\"Py(10px) Ta(start) Pend(10px)\" data-reactid=\"787\"><span data-reactid=\"788\">Dec 01, 2016</span></td><td class=\"Py(10px) Pstart(10px)\" data-reactid=\"789\"><span data-reactid=\"790\">752.41</span></td><td class=\"Py(10px) Pstart(10px)\" data-reactid=\"791\"><span data-reactid=\"792\">782.46</span></td><td class=\"Py(10px) Pstart(10px)\" data-reactid=\"793\"><span data-reactid=\"794\">736.70</span></td><td class=\"Py(10px) Pstart(10px)\" data-reactid=\"795\"><span data-reactid=\"796\">749.87</span></td><td class=\"Py(10px) Pstart(10px)\" data-reactid=\"797\"><span data-reactid=\"798\">749.87</span></td><td class=\"Py(10px) Pstart(10px)\" data-reactid=\"799\"><span data-reactid=\"800\">73,660,200</span></td></tr>\n",
      "50 <tr class=\"BdT Bdc($seperatorColor) Ta(end) Fz(s) Whs(nw)\" data-reactid=\"801\"><td class=\"Py(10px) Ta(start) Pend(10px)\" data-reactid=\"802\"><span data-reactid=\"803\">Nov 01, 2016</span></td><td class=\"Py(10px) Pstart(10px)\" data-reactid=\"804\"><span data-reactid=\"805\">799.00</span></td><td class=\"Py(10px) Pstart(10px)\" data-reactid=\"806\"><span data-reactid=\"807\">800.84</span></td><td class=\"Py(10px) Pstart(10px)\" data-reactid=\"808\"><span data-reactid=\"809\">710.10</span></td><td class=\"Py(10px) Pstart(10px)\" data-reactid=\"810\"><span data-reactid=\"811\">750.57</span></td><td class=\"Py(10px) Pstart(10px)\" data-reactid=\"812\"><span data-reactid=\"813\">750.57</span></td><td class=\"Py(10px) Pstart(10px)\" data-reactid=\"814\"><span data-reactid=\"815\">110,085,900</span></td></tr>\n",
      "51 <tr class=\"BdT Bdc($seperatorColor) Ta(end) Fz(s) Whs(nw)\" data-reactid=\"816\"><td class=\"Py(10px) Ta(start) Pend(10px)\" data-reactid=\"817\"><span data-reactid=\"818\">Oct 01, 2016</span></td><td class=\"Py(10px) Pstart(10px)\" data-reactid=\"819\"><span data-reactid=\"820\">836.00</span></td><td class=\"Py(10px) Pstart(10px)\" data-reactid=\"821\"><span data-reactid=\"822\">847.21</span></td><td class=\"Py(10px) Pstart(10px)\" data-reactid=\"823\"><span data-reactid=\"824\">774.61</span></td><td class=\"Py(10px) Pstart(10px)\" data-reactid=\"825\"><span data-reactid=\"826\">789.82</span></td><td class=\"Py(10px) Pstart(10px)\" data-reactid=\"827\"><span data-reactid=\"828\">789.82</span></td><td class=\"Py(10px) Pstart(10px)\" data-reactid=\"829\"><span data-reactid=\"830\">77,063,800</span></td></tr>\n",
      "52 <tr class=\"BdT Bdc($seperatorColor) Ta(end) Fz(s) Whs(nw)\" data-reactid=\"831\"><td class=\"Py(10px) Ta(start) Pend(10px)\" data-reactid=\"832\"><span data-reactid=\"833\">Sep 01, 2016</span></td><td class=\"Py(10px) Pstart(10px)\" data-reactid=\"834\"><span data-reactid=\"835\">770.90</span></td><td class=\"Py(10px) Pstart(10px)\" data-reactid=\"836\"><span data-reactid=\"837\">839.95</span></td><td class=\"Py(10px) Pstart(10px)\" data-reactid=\"838\"><span data-reactid=\"839\">756.00</span></td><td class=\"Py(10px) Pstart(10px)\" data-reactid=\"840\"><span data-reactid=\"841\">837.31</span></td><td class=\"Py(10px) Pstart(10px)\" data-reactid=\"842\"><span data-reactid=\"843\">837.31</span></td><td class=\"Py(10px) Pstart(10px)\" data-reactid=\"844\"><span data-reactid=\"845\">67,335,700</span></td></tr>\n",
      "53 <tr class=\"BdT Bdc($seperatorColor) Ta(end) Fz(s) Whs(nw)\" data-reactid=\"846\"><td class=\"Py(10px) Ta(start) Pend(10px)\" data-reactid=\"847\"><span data-reactid=\"848\">Aug 01, 2016</span></td><td class=\"Py(10px) Pstart(10px)\" data-reactid=\"849\"><span data-reactid=\"850\">759.87</span></td><td class=\"Py(10px) Pstart(10px)\" data-reactid=\"851\"><span data-reactid=\"852\">774.98</span></td><td class=\"Py(10px) Pstart(10px)\" data-reactid=\"853\"><span data-reactid=\"854\">750.35</span></td><td class=\"Py(10px) Pstart(10px)\" data-reactid=\"855\"><span data-reactid=\"856\">769.16</span></td><td class=\"Py(10px) Pstart(10px)\" data-reactid=\"857\"><span data-reactid=\"858\">769.16</span></td><td class=\"Py(10px) Pstart(10px)\" data-reactid=\"859\"><span data-reactid=\"860\">50,000,400</span></td></tr>\n",
      "54 <tr class=\"BdT Bdc($seperatorColor) Ta(end) Fz(s) Whs(nw)\" data-reactid=\"861\"><td class=\"Py(10px) Ta(start) Pend(10px)\" data-reactid=\"862\"><span data-reactid=\"863\">Jul 01, 2016</span></td><td class=\"Py(10px) Pstart(10px)\" data-reactid=\"864\"><span data-reactid=\"865\">717.32</span></td><td class=\"Py(10px) Pstart(10px)\" data-reactid=\"866\"><span data-reactid=\"867\">766.00</span></td><td class=\"Py(10px) Pstart(10px)\" data-reactid=\"868\"><span data-reactid=\"869\">716.54</span></td><td class=\"Py(10px) Pstart(10px)\" data-reactid=\"870\"><span data-reactid=\"871\">758.81</span></td><td class=\"Py(10px) Pstart(10px)\" data-reactid=\"872\"><span data-reactid=\"873\">758.81</span></td><td class=\"Py(10px) Pstart(10px)\" data-reactid=\"874\"><span data-reactid=\"875\">68,635,500</span></td></tr>\n",
      "55 <tr class=\"BdT Bdc($seperatorColor) Ta(end) Fz(s) Whs(nw)\" data-reactid=\"876\"><td class=\"Py(10px) Ta(start) Pend(10px)\" data-reactid=\"877\"><span data-reactid=\"878\">Jun 01, 2016</span></td><td class=\"Py(10px) Pstart(10px)\" data-reactid=\"879\"><span data-reactid=\"880\">720.90</span></td><td class=\"Py(10px) Pstart(10px)\" data-reactid=\"881\"><span data-reactid=\"882\">731.50</span></td><td class=\"Py(10px) Pstart(10px)\" data-reactid=\"883\"><span data-reactid=\"884\">682.12</span></td><td class=\"Py(10px) Pstart(10px)\" data-reactid=\"885\"><span data-reactid=\"886\">715.62</span></td><td class=\"Py(10px) Pstart(10px)\" data-reactid=\"887\"><span data-reactid=\"888\">715.62</span></td><td class=\"Py(10px) Pstart(10px)\" data-reactid=\"889\"><span data-reactid=\"890\">74,540,900</span></td></tr>\n",
      "56 <tr class=\"BdT Bdc($seperatorColor) Ta(end) Fz(s) Whs(nw)\" data-reactid=\"891\"><td class=\"Py(10px) Ta(start) Pend(10px)\" data-reactid=\"892\"><span data-reactid=\"893\">May 01, 2016</span></td><td class=\"Py(10px) Pstart(10px)\" data-reactid=\"894\"><span data-reactid=\"895\">663.92</span></td><td class=\"Py(10px) Pstart(10px)\" data-reactid=\"896\"><span data-reactid=\"897\">724.23</span></td><td class=\"Py(10px) Pstart(10px)\" data-reactid=\"898\"><span data-reactid=\"899\">656.00</span></td><td class=\"Py(10px) Pstart(10px)\" data-reactid=\"900\"><span data-reactid=\"901\">722.79</span></td><td class=\"Py(10px) Pstart(10px)\" data-reactid=\"902\"><span data-reactid=\"903\">722.79</span></td><td class=\"Py(10px) Pstart(10px)\" data-reactid=\"904\"><span data-reactid=\"905\">90,614,500</span></td></tr>\n",
      "57 <tr class=\"BdT Bdc($seperatorColor) Ta(end) Fz(s) Whs(nw)\" data-reactid=\"906\"><td class=\"Py(10px) Ta(start) Pend(10px)\" data-reactid=\"907\"><span data-reactid=\"908\">Apr 01, 2016</span></td><td class=\"Py(10px) Pstart(10px)\" data-reactid=\"909\"><span data-reactid=\"910\">590.49</span></td><td class=\"Py(10px) Pstart(10px)\" data-reactid=\"911\"><span data-reactid=\"912\">669.98</span></td><td class=\"Py(10px) Pstart(10px)\" data-reactid=\"913\"><span data-reactid=\"914\">585.25</span></td><td class=\"Py(10px) Pstart(10px)\" data-reactid=\"915\"><span data-reactid=\"916\">659.59</span></td><td class=\"Py(10px) Pstart(10px)\" data-reactid=\"917\"><span data-reactid=\"918\">659.59</span></td><td class=\"Py(10px) Pstart(10px)\" data-reactid=\"919\"><span data-reactid=\"920\">78,464,200</span></td></tr>\n",
      "58 <tr class=\"BdT Bdc($seperatorColor) Ta(end) Fz(s) Whs(nw)\" data-reactid=\"921\"><td class=\"Py(10px) Ta(start) Pend(10px)\" data-reactid=\"922\"><span data-reactid=\"923\">Mar 01, 2016</span></td><td class=\"Py(10px) Pstart(10px)\" data-reactid=\"924\"><span data-reactid=\"925\">556.29</span></td><td class=\"Py(10px) Pstart(10px)\" data-reactid=\"926\"><span data-reactid=\"927\">603.24</span></td><td class=\"Py(10px) Pstart(10px)\" data-reactid=\"928\"><span data-reactid=\"929\">538.58</span></td><td class=\"Py(10px) Pstart(10px)\" data-reactid=\"930\"><span data-reactid=\"931\">593.64</span></td><td class=\"Py(10px) Pstart(10px)\" data-reactid=\"932\"><span data-reactid=\"933\">593.64</span></td><td class=\"Py(10px) Pstart(10px)\" data-reactid=\"934\"><span data-reactid=\"935\">94,009,500</span></td></tr>\n",
      "59 <tr class=\"BdT Bdc($seperatorColor) Ta(end) Fz(s) Whs(nw)\" data-reactid=\"936\"><td class=\"Py(10px) Ta(start) Pend(10px)\" data-reactid=\"937\"><span data-reactid=\"938\">Feb 01, 2016</span></td><td class=\"Py(10px) Pstart(10px)\" data-reactid=\"939\"><span data-reactid=\"940\">578.15</span></td><td class=\"Py(10px) Pstart(10px)\" data-reactid=\"941\"><span data-reactid=\"942\">581.80</span></td><td class=\"Py(10px) Pstart(10px)\" data-reactid=\"943\"><span data-reactid=\"944\">474.00</span></td><td class=\"Py(10px) Pstart(10px)\" data-reactid=\"945\"><span data-reactid=\"946\">552.52</span></td><td class=\"Py(10px) Pstart(10px)\" data-reactid=\"947\"><span data-reactid=\"948\">552.52</span></td><td class=\"Py(10px) Pstart(10px)\" data-reactid=\"949\"><span data-reactid=\"950\">124,144,800</span></td></tr>\n",
      "60 <tr class=\"BdT Bdc($seperatorColor) Ta(end) Fz(s) Whs(nw)\" data-reactid=\"951\"><td class=\"Py(10px) Ta(start) Pend(10px)\" data-reactid=\"952\"><span data-reactid=\"953\">Jan 01, 2016</span></td><td class=\"Py(10px) Pstart(10px)\" data-reactid=\"954\"><span data-reactid=\"955\">656.29</span></td><td class=\"Py(10px) Pstart(10px)\" data-reactid=\"956\"><span data-reactid=\"957\">657.72</span></td><td class=\"Py(10px) Pstart(10px)\" data-reactid=\"958\"><span data-reactid=\"959\">547.18</span></td><td class=\"Py(10px) Pstart(10px)\" data-reactid=\"960\"><span data-reactid=\"961\">587.00</span></td><td class=\"Py(10px) Pstart(10px)\" data-reactid=\"962\"><span data-reactid=\"963\">587.00</span></td><td class=\"Py(10px) Pstart(10px)\" data-reactid=\"964\"><span data-reactid=\"965\">130,200,900</span></td></tr>\n"
     ]
    }
   ],
   "source": [
    "for i, row in enumerate(soup.find(\"tbody\").find_all(\"tr\")):\n",
    "    print(i, row)\n",
    "    "
   ]
  },
  {
   "cell_type": "code",
   "execution_count": 45,
   "metadata": {},
   "outputs": [],
   "source": [
    "amazon_data = pd.DataFrame(columns=[\"Date\", \"Open\", \"High\", \"Low\", \"Close\", \"Volume\"])\n",
    "\n",
    "# First we isolate the body of the table which contains all the information\n",
    "# Then we loop through each row and find all the column values for each row\n",
    "for row in soup.find(\"tbody\").find_all('tr'):\n",
    "    col = row.find_all(\"td\")\n",
    "    date = col[0].text\n",
    "    Open = col[1].text\n",
    "    high = col[2].text\n",
    "    low = col[3].text\n",
    "    close = col[4].text\n",
    "    adj_close = col[5].text\n",
    "    volume = col[6].text\n",
    "    \n",
    "    amazon_data = amazon_data.append({\"Date\":date, \"Open\":Open, \"High\":high, \"Low\":low, \"Close\":close, \"Adj Close\":adj_close, \"Volume\":volume}, ignore_index=True)"
   ]
  },
  {
   "cell_type": "markdown",
   "metadata": {},
   "source": [
    "Print out the first five rows of the `amazon_data` dataframe you created.\n"
   ]
  },
  {
   "cell_type": "code",
   "execution_count": 46,
   "metadata": {},
   "outputs": [
    {
     "data": {
      "text/html": [
       "<div>\n",
       "<style scoped>\n",
       "    .dataframe tbody tr th:only-of-type {\n",
       "        vertical-align: middle;\n",
       "    }\n",
       "\n",
       "    .dataframe tbody tr th {\n",
       "        vertical-align: top;\n",
       "    }\n",
       "\n",
       "    .dataframe thead th {\n",
       "        text-align: right;\n",
       "    }\n",
       "</style>\n",
       "<table border=\"1\" class=\"dataframe\">\n",
       "  <thead>\n",
       "    <tr style=\"text-align: right;\">\n",
       "      <th></th>\n",
       "      <th>Date</th>\n",
       "      <th>Open</th>\n",
       "      <th>High</th>\n",
       "      <th>Low</th>\n",
       "      <th>Close</th>\n",
       "      <th>Volume</th>\n",
       "      <th>Adj Close</th>\n",
       "    </tr>\n",
       "  </thead>\n",
       "  <tbody>\n",
       "    <tr>\n",
       "      <th>0</th>\n",
       "      <td>Jan 01, 2021</td>\n",
       "      <td>3,270.00</td>\n",
       "      <td>3,363.89</td>\n",
       "      <td>3,086.00</td>\n",
       "      <td>3,206.20</td>\n",
       "      <td>71,528,900</td>\n",
       "      <td>3,206.20</td>\n",
       "    </tr>\n",
       "    <tr>\n",
       "      <th>1</th>\n",
       "      <td>Dec 01, 2020</td>\n",
       "      <td>3,188.50</td>\n",
       "      <td>3,350.65</td>\n",
       "      <td>3,072.82</td>\n",
       "      <td>3,256.93</td>\n",
       "      <td>77,556,200</td>\n",
       "      <td>3,256.93</td>\n",
       "    </tr>\n",
       "    <tr>\n",
       "      <th>2</th>\n",
       "      <td>Nov 01, 2020</td>\n",
       "      <td>3,061.74</td>\n",
       "      <td>3,366.80</td>\n",
       "      <td>2,950.12</td>\n",
       "      <td>3,168.04</td>\n",
       "      <td>90,810,500</td>\n",
       "      <td>3,168.04</td>\n",
       "    </tr>\n",
       "    <tr>\n",
       "      <th>3</th>\n",
       "      <td>Oct 01, 2020</td>\n",
       "      <td>3,208.00</td>\n",
       "      <td>3,496.24</td>\n",
       "      <td>3,019.00</td>\n",
       "      <td>3,036.15</td>\n",
       "      <td>116,226,100</td>\n",
       "      <td>3,036.15</td>\n",
       "    </tr>\n",
       "    <tr>\n",
       "      <th>4</th>\n",
       "      <td>Sep 01, 2020</td>\n",
       "      <td>3,489.58</td>\n",
       "      <td>3,552.25</td>\n",
       "      <td>2,871.00</td>\n",
       "      <td>3,148.73</td>\n",
       "      <td>115,899,300</td>\n",
       "      <td>3,148.73</td>\n",
       "    </tr>\n",
       "  </tbody>\n",
       "</table>\n",
       "</div>"
      ],
      "text/plain": [
       "           Date      Open      High       Low     Close       Volume Adj Close\n",
       "0  Jan 01, 2021  3,270.00  3,363.89  3,086.00  3,206.20   71,528,900  3,206.20\n",
       "1  Dec 01, 2020  3,188.50  3,350.65  3,072.82  3,256.93   77,556,200  3,256.93\n",
       "2  Nov 01, 2020  3,061.74  3,366.80  2,950.12  3,168.04   90,810,500  3,168.04\n",
       "3  Oct 01, 2020  3,208.00  3,496.24  3,019.00  3,036.15  116,226,100  3,036.15\n",
       "4  Sep 01, 2020  3,489.58  3,552.25  2,871.00  3,148.73  115,899,300  3,148.73"
      ]
     },
     "execution_count": 46,
     "metadata": {},
     "output_type": "execute_result"
    }
   ],
   "source": [
    "amazon_data.head()"
   ]
  },
  {
   "cell_type": "markdown",
   "metadata": {},
   "source": [
    "<b>Question 2</b> What is the name of the columns of the dataframe\n"
   ]
  },
  {
   "cell_type": "code",
   "execution_count": 47,
   "metadata": {},
   "outputs": [
    {
     "data": {
      "text/plain": [
       "Index(['Date', 'Open', 'High', 'Low', 'Close', 'Volume', 'Adj Close'], dtype='object')"
      ]
     },
     "execution_count": 47,
     "metadata": {},
     "output_type": "execute_result"
    }
   ],
   "source": [
    "amazon_data.columns"
   ]
  },
  {
   "cell_type": "markdown",
   "metadata": {},
   "source": [
    "<b>Question 3</b> What is the `Open` of the last row of the amazon_data dataframe?\n"
   ]
  },
  {
   "cell_type": "code",
   "execution_count": 48,
   "metadata": {},
   "outputs": [
    {
     "data": {
      "text/plain": [
       "'656.29'"
      ]
     },
     "execution_count": 48,
     "metadata": {},
     "output_type": "execute_result"
    }
   ],
   "source": [
    "rows_qty = amazon_data.index[-1]\n",
    "amazon_data.loc[rows_qty, 'Open']"
   ]
  },
  {
   "cell_type": "code",
   "execution_count": 49,
   "metadata": {},
   "outputs": [
    {
     "data": {
      "text/html": [
       "<div>\n",
       "<style scoped>\n",
       "    .dataframe tbody tr th:only-of-type {\n",
       "        vertical-align: middle;\n",
       "    }\n",
       "\n",
       "    .dataframe tbody tr th {\n",
       "        vertical-align: top;\n",
       "    }\n",
       "\n",
       "    .dataframe thead th {\n",
       "        text-align: right;\n",
       "    }\n",
       "</style>\n",
       "<table border=\"1\" class=\"dataframe\">\n",
       "  <thead>\n",
       "    <tr style=\"text-align: right;\">\n",
       "      <th></th>\n",
       "      <th>Date</th>\n",
       "      <th>Open</th>\n",
       "      <th>High</th>\n",
       "      <th>Low</th>\n",
       "      <th>Close</th>\n",
       "      <th>Volume</th>\n",
       "      <th>Adj Close</th>\n",
       "    </tr>\n",
       "  </thead>\n",
       "  <tbody>\n",
       "    <tr>\n",
       "      <th>60</th>\n",
       "      <td>Jan 01, 2016</td>\n",
       "      <td>656.29</td>\n",
       "      <td>657.72</td>\n",
       "      <td>547.18</td>\n",
       "      <td>587.00</td>\n",
       "      <td>130,200,900</td>\n",
       "      <td>587.00</td>\n",
       "    </tr>\n",
       "  </tbody>\n",
       "</table>\n",
       "</div>"
      ],
      "text/plain": [
       "            Date    Open    High     Low   Close       Volume Adj Close\n",
       "60  Jan 01, 2016  656.29  657.72  547.18  587.00  130,200,900    587.00"
      ]
     },
     "execution_count": 49,
     "metadata": {},
     "output_type": "execute_result"
    }
   ],
   "source": [
    "amazon_data.tail(1)"
   ]
  },
  {
   "cell_type": "markdown",
   "metadata": {},
   "source": [
    "<h2>About the Authors:</h2> \n",
    "\n",
    "<a href=\"https://www.linkedin.com/in/joseph-s-50398b136/?utm_medium=Exinfluencer&utm_source=Exinfluencer&utm_content=000026UJ&utm_term=10006555&utm_id=NA-SkillsNetwork-Channel-SkillsNetworkCoursesIBMDeveloperSkillsNetworkPY0220ENSkillsNetwork23455606-2021-01-01\">Joseph Santarcangelo</a> has a PhD in Electrical Engineering, his research focused on using machine learning, signal processing, and computer vision to determine how videos impact human cognition. Joseph has been working for IBM since he completed his PhD.\n",
    "\n",
    "Azim Hirjani\n"
   ]
  },
  {
   "cell_type": "markdown",
   "metadata": {},
   "source": [
    "## Change Log\n",
    "\n",
    "| Date (YYYY-MM-DD) | Version | Changed By | Change Description |\n",
    "| ----------------- | ------- | ---------- | ------------------ |\n",
    "\n",
    "```\n",
    "| 2021-06-09       | 1.2     | Lakshmi Holla|Added URL in question 3 |\n",
    "```\n",
    "\n",
    "\\| 2020-11-10        | 1.1     | Malika Singla | Deleted the Optional part |\n",
    "\\| 2020-08-27        | 1.0     | Malika Singla | Added lab to GitLab       |\n",
    "\n",
    "<hr>\n",
    "\n",
    "## <h3 align=\"center\"> © IBM Corporation 2020. All rights reserved. <h3/>\n",
    "\n",
    "<p>\n"
   ]
  }
 ],
 "metadata": {
  "kernelspec": {
   "display_name": "Python 3",
   "language": "python",
   "name": "python3"
  },
  "language_info": {
   "codemirror_mode": {
    "name": "ipython",
    "version": 3
   },
   "file_extension": ".py",
   "mimetype": "text/x-python",
   "name": "python",
   "nbconvert_exporter": "python",
   "pygments_lexer": "ipython3",
   "version": "3.8.3"
  },
  "toc": {
   "base_numbering": 1,
   "nav_menu": {},
   "number_sections": true,
   "sideBar": true,
   "skip_h1_title": false,
   "title_cell": "Содержание",
   "title_sidebar": "Содержание",
   "toc_cell": true,
   "toc_position": {},
   "toc_section_display": true,
   "toc_window_display": true
  },
  "varInspector": {
   "cols": {
    "lenName": 16,
    "lenType": 16,
    "lenVar": 40
   },
   "kernels_config": {
    "python": {
     "delete_cmd_postfix": "",
     "delete_cmd_prefix": "del ",
     "library": "var_list.py",
     "varRefreshCmd": "print(var_dic_list())"
    },
    "r": {
     "delete_cmd_postfix": ") ",
     "delete_cmd_prefix": "rm(",
     "library": "var_list.r",
     "varRefreshCmd": "cat(var_dic_list()) "
    }
   },
   "types_to_exclude": [
    "module",
    "function",
    "builtin_function_or_method",
    "instance",
    "_Feature"
   ],
   "window_display": false
  }
 },
 "nbformat": 4,
 "nbformat_minor": 4
}
