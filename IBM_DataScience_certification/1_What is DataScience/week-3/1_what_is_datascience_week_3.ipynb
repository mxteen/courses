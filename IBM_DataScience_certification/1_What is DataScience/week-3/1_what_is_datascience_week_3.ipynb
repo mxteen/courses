{
 "cells": [
  {
   "cell_type": "markdown",
   "metadata": {},
   "source": [
    "# Data Science in Business\n",
    "## How Should Companies Get Started in Data Science?\n",
    "\n",
    "At the end of the day, for businesses, they know one thing, that if they are unable to measure something, they are unable to improve it.\n",
    "\n",
    "1. So the first thing a company has to do is to start recording information, start capturing data, data about costs. So first thing first, start capturing data. Once you have data, then you can apply algorithms and analytics to it\n",
    "\n",
    "2. If you're capturing it, archive it. Do not overwrite on your old data thinking you don't need it anymore. Data never gets old. Data is always relevant, even if it's 100 years old, 200 years old. So keep data, capture it, archive it, make sure nothing goes to waste. \n",
    "\n",
    "3. Make sure there's a consistency. So someone 20 years later trying to understand, that data should be able to do so, so have proper documentation. Do it now. Put the best practices for data archiving in place the moment you start a business. \n",
    "\n",
    "**Garbage in, garbage out is a rule in any sort of analysis.**"
   ]
  },
  {
   "cell_type": "markdown",
   "metadata": {},
   "source": [
    "## Applications of Data Science\n",
    "\n",
    "* Companies like Amazon, Netflix, and Spotify use algorithms to make specific recommendations derived from customer preferences and historical behavior. \n",
    "* Personal assistants like Siri on Apple devices use data science to devise answers to the infinite number of questions end users may ask. \n",
    "* Google watches your every move in the world, you're online shopping habits, and your social media. Then it analyzes that data to create recommendations for restaurants, bars, shops, and other attractions based on the data collected from your device and your current location.\n",
    "\n",
    "In 2011, [McKinsey & Company](https://ru.wikipedia.org/wiki/McKinsey_%26_Company) said that data science was going to become the key basis of competition [ссылка](https://www.mckinsey.com/business-functions/mckinsey-digital/our-insights/big-data-the-next-frontier-for-innovation)."
   ]
  },
  {
   "cell_type": "markdown",
   "metadata": {},
   "source": [
    "---\n",
    "*Course Text Book: ‘Getting Started with Data Science’ Publisher: IBM Press; 1 edition (Dec 13 2015) Print. Chapter 3 Pg. 52-53**\n",
    "\n",
    "![Книга](https://images-na.ssl-images-amazon.com/images/I/51Z1wFc6DIL._SX386_BO1,204,203,200_.jpg)\n",
    "\n",
    "## The Final Deliverable\n",
    "The ultimate purpose of analytics is to communicate findings to the concerned who might use these insights to formulate policy or strategy. Analytics summarize findings in tables and plots. The data scientist should then use the insights to build the narrative to communicate the findings. In academia, the final deliverable is in the form of essays and reports. Such deliverables are usually 1,000 to 7,000 words in length. In consulting and business, the final deliverable takes on several forms. It can be a small document of fewer than 1,500 words illustrated with tables and plots, or it could be a comprehensive document comprising several hundred pages. Large consulting firms, such as McKinsey and Deloitte,I routinely generate analytics-driven reports to communicate their findings and, in the process, establish their expertise in specific knowledge domains.\n",
    "\n",
    "Let's review the \"United States Economic Forecast\", a publication by the Deloitte University Press. This document serves as a good example for a deliverable that builds narrative from data and analytics. The 24-page report focuses on the state of the U.S. economy as observed in December 2014. The report opens with a grabber highlighting the fact that contrary to popular perception, the economic and job growth has been quite robust in the United States. The report is not merely a statement of facts.\n",
    "\n",
    "In fact, it is a carefully crafted report that cites Voltaire and follows a distinct theme. The report focuses on the good news about the U.S. economy. These include the increased investment in manufacturing equipment in the U.S. and the likelihood of higher consumer consumption resulting from lower oil prices.\n",
    "\n",
    "The Deloitte report uses time series plots to illustrate trends in markets. The GDP growth chart shows how the economy contracted during the Great Recession and has rebounded since then. The graphic presents four likely scenarios for the future. Another plot shows the changes in consumer spending. The accompanying narrative focuses on income inequality in the U.S. and refers to Thomas Pikkety's book on the same. The Deloitte report mentions many consumers did not experience an increase in their real incomes over the years, while they still maintained their level of spending. Other graphics focused on housing, business, and government sectors, international trade, labor, and financial markets, and prices. The appendix carries four tables documenting data for the four scenarios discussed in the report.\n",
    "\n",
    "Deloitte's \"United States Economic Forecast\" serves the very purpose that its authors intended. The report uses data and analytics to generate the likely economic scenarios. It builds a powerful narrative in support of the thesis statement that the U.S. economy is doing much better than most would like to believe. At the same time, the report shows Deloitte to be a competent firm capable of analyzing economic data and prescribing strategies to cope with the economic challenges.\n",
    "\n",
    "Now consider if we were to exclude the narrative from this report and presented the findings as a deck of PowerPoint slides with eight graphics and four tables. The PowerPoint slides would have failed to communicate the message that the authors carefully crafted in the report citing Piketty and Voltaire. I consider Deloitte's report a good example of storytelling with data and encourage you to read the report to decide for yourself whether the deliverable would have been equally powerful without the narrative.\n",
    "\n",
    "Now, let us work backward from the Deloitte report. Before the authors started their analysis, they must have discussed the scope of the final deliverable. They would have deliberated the key message of the report and then looked for the data and analytics they needed to make their case. The initial planning and conceptualizing of the final deliverable is therefore extremely important for producing a compelling document. Embarking on analytics, without due consideration to the final deliverable, is likely to result in a poor-quality document where the analytics and narrative would struggle to blend."
   ]
  },
  {
   "cell_type": "markdown",
   "metadata": {},
   "source": [
    "## Lesson Summary\n",
    "In this lesson, you have learned:\n",
    "\n",
    "* Data Science helps physicians provide the best treatment for their patients, and helps meteorologists predict the extent of local weather events, and can even help predict natural disasters like earthquakes and tornadoes.\n",
    "* That companies can start on their data science journey by capturing data. Once they have data, they can begin analysing it.\n",
    "* Some ways that data is generated by consumers. \n",
    "* How businesses like Netflix, Amazon, UPs, Google, and Apple use the data generated by their consumers and employees.\n",
    "* The purpose of the final deliverable of a Data Science project is to communicate new information and insights from the data analysis to key decision-makers."
   ]
  },
  {
   "cell_type": "markdown",
   "metadata": {},
   "source": [
    "# Careers and Recruiting in Data Science\n",
    "\n",
    "## How Can Someone Become a Data Scientist?\n",
    "\n",
    "A real data scientist, the high-end data scientists, are mostly PhDs. They often come out of physics, out of statistics, they have to have a computer science background, they have to have **a math background**, they **have to know about databases and statistics and probability** and all that stuff. However, if you're coming into a data science team, I think the first skills you need is **you need to know how to program**, at least have some computational thinking, so having taken a programing course, you need to know some **algebra**, at least up to analytics, geometry, and hopefully some calculus, some basic probability, some basic statistics, I mean really have to understand the difference and different statistical distributions, and database.\n",
    "\n",
    "**one of the ways you learn things is you do them**, you have to do them, and these online learning platforms especially now that we have things like IPython and Jupyter Notebooks and I guess Zeppelin means that you can actually go in and take some of these courses and you can do things right then and you can see them and feel them and play with them and, at that point, you know, you'll start to get your head around what is actually happening. "
   ]
  },
  {
   "cell_type": "markdown",
   "metadata": {},
   "source": [
    "## Recruiting for Data Science\n",
    "\n",
    "When the companies are hiring people for a data science team, maybe a data scientist or an analyst, or a chief data scientist, the tendency would be to find the person who has all the skills, that they know the domain-specific knowledge. They're excellent in analyzing structured and unstructured data. And they're great at presenting and they've got great storytelling skills. So if you put all this together, you will realize you're looking for a unicorn. And your odds of finding a unicorn are pretty rare. I think what you need to do to is to see, given the pool of applicants you have, who has the most resonance with your firm's DNA.\n",
    "\n",
    "Someone could be a great data scientist in the retail environment, but they may not be that excited about working in IT related firms or working with gigabytes of weblogs. But if someone is excited about those weblogs, if someone is excited about health-related data then they would be able to contribute to your productivity much more so. And I would say if I'm looking for someone, if I have to put together a data science team, I would first look for curiosity.\n",
    "\n",
    "I would say there has to be some sort of technical component, somebody should be able to work with and manipulate the data. They should be able to communicate what they find in the data. I find quite often nobody really cares about the r-square or the confidence interval. So you have to be able to introduce those things and explain something in a compelling way. And they also have to find somebody who is relatable, because data science, it been typically new means that the person in that role has to make relationships and they have to work across different departments\n",
    "\n",
    "\n",
    "The communication skills or presentation skills. I call them story telling skills, that is that you have your analysis done, now can you tell a great story from it?\n",
    "\n",
    "So the ability to present your findings, either verbally, or in a presentation, or in a document. So those communication and presentation skills are equally important as the technical skills are. \n"
   ]
  },
  {
   "cell_type": "markdown",
   "metadata": {},
   "source": [
    "## Careers in Data Science\n",
    "\n",
    "What motivates someone going into a data science? For one thing, data science applies to almost any discipline. So if you have the aptitude and desire to work with data, enjoy coding, have no problem learning math and statistics, and you are a good storyteller, then you can certainly enter a data science field and excel. For most people, this means acquiring additional tools and skills and continuously learning about new tools and techniques in the field. \n",
    "\n",
    "**You can tailor your skill set to the specific area you want to enter, adding missing skills via one of the many excellent online training resources. Then you'll be prepared for a fascinating and rewarding career. So now it is time to move into this field, when there are such diverse choices available and education resources that make it a reality.**"
   ]
  },
  {
   "cell_type": "markdown",
   "metadata": {},
   "source": [
    "## High School Students and Data Science Careers\n",
    "Learn how to program. Learn some math. Take a course in probability. Learn a little bit of statistics. And then, play. Build something, write something. Once you try to do something, then you'll know what tools you need.\n",
    "\n",
    "If you're in high school and you're considering data science, I would say get familiar with data bases, start learning SQL, start thinking about, you know, computer science, if that's interesting. If you have a computer science course in your school, you know, take it, and that's a good part of being a data scientist. Beyond that there are probably ways to foster your creativity, right, your curiosity. If you like detective games, that's kind of cool, right. "
   ]
  },
  {
   "cell_type": "markdown",
   "metadata": {},
   "source": [
    "## Lesson Summary\n",
    "In this lesson, you have learned:\n",
    "* Data Scientists need programming, mathematics, and database skills, many of which can be gained through self-learning.\n",
    "* Companies recruiting for a Data Science team need to understand the variety of different roles Data Scientists can play, and look for soft skills like storytelling and relationship building as well as technical skills.\n",
    "* High school students considering a career in Data Science should learn programming, math, databases, and, most importantly practice their skills."
   ]
  },
  {
   "cell_type": "markdown",
   "metadata": {},
   "source": [
    "---\n",
    "*Course Text Book: ‘Getting Started with Data Science’ Publisher: IBM Press; 1 edition (Dec 13 2015) Print. Chapter 3 Pg. 60-62**\n",
    "\n",
    "![Книга](https://images-na.ssl-images-amazon.com/images/I/51Z1wFc6DIL._SX386_BO1,204,203,200_.jpg)\n",
    "\n",
    "## The Report Structure\n",
    "Before starting the analysis, think about the structure of the report. Will it be a brief report of five or fewer pages, or will it be a longer document running more than 100 pages in length? The structure of the report depends on the length of the document. A brief report is more to the point and presents a summary of key findings. A detailed report incrementally builds the argument and contains details about other relevant works, research methodology, data sources, and intermediate findings along with the main results.\n",
    "\n",
    "I have reviewed reports by leading consultants including Deloitte and McKinsey. I found that the length of the reports varied depending largely on the purpose of the report. Brief reports were drafted as commentaries on current trends and developments that attracted public or media attention. Detailed and comprehensive reports offered a critical review of the subject matter with extensive data analysis and commentary. Often, detailed reports collected new data or interviewed industry experts to answer the research questions.\n",
    "\n",
    "Even if you expect the report to be brief, sporting five or fewer pages, I recommend that the deliverable follow a prescribed format including the cover page, table of contents, executive summary, detailed contents, acknowledgments, references, and appendices (if needed).\n",
    "\n",
    "I often find **the cover page** to be missing in documents. It is not the inexperience of undergraduate students that is reflected in submissions that usually miss the cover page. In fact, doctoral candidates also require an explicit reminder to include an informative cover page. I hasten to mention that the business world sleuths are hardly any better. Just search the Internet for reports and you will find plenty of reports from reputed firms that are missing the cover page.\n",
    "\n",
    "At a minimum, **the cover page should include the title of the report, names of authors, their affiliations, and contacts, the name of the institutional publisher (if any), and the date of publication**. I have seen numerous reports missing the date of publication, making it impossible to cite them without the year and month of publication. Also, from a business point of view, authors should make it easier for the reader to reach out to them. Having contact details at the front makes the task easier.\n",
    "\n",
    "\"**A table of contents** (ToC)\" is like a map needed for a trip never taken before. You need to have a sense of the journey before embarking on it. A map provides a visual proxy for the actual travel with details about the landmarks that you will pass by in your trip. The ToC with main headings and lists of tables and figures offers a glimpse of what lies ahead in the document. Never shy away from including a ToC, especially if your document, excluding cover page, table of contents, and references, is five or more pages in length.\n",
    "\n",
    "Even for a short document, I recommend an \"**abstract**\" or an \"**executive summary**\". Nothing is more powerful than **explaining the crux of your arguments in three paragraphs or less**. Of course, for larger documents running a few hundred pages, the executive summary could be longer. An \"**introductory section**\" is always helpful in **setting up the problem for the reader who might be new to the topic and who might need to be gently introduced to the subject matter** before being immersed in intricate details. **A good follow-up to the introductory section is a review of available relevant research on the subject matter**. The length of the **literature review** section depends upon how contested the subject matter is. In instances where the vast majority of researchers have concluded in one direction, the literature review could be brief with citations for only the most influential authors on the subject. On the other hand, if the arguments are more nuanced with caveats aplenty, then you must cite the relevant research to offer adequate context before you embark on your analysis. **You might use the literature review to highlight gaps in the existing knowledge**, which your analysis will try to fill. This is where you formally introduce your research questions and hypothesis.\n",
    "\n",
    "In the \"**methodology**\" section, you introduce **the research methods and data sources you used for the analysis**. If you have collected new data, explain the data collection exercise in some detail. You will refer to the literature review to bolster your choice for variables, data, and methods and how they will help you answer your research questions.\n",
    "\n",
    "The **results section** is where **you present your empirical findings**. Starting with descriptive statistics (see Chapter 4, \"Serving Tables\") and illustrative graphics (see Chapter S, \"Graphic Details\" for plots and Chapter 10, \"Spatial Data Analytics\" for maps), you will move toward formally testing your hypothesis (see Chapter 6, \"Hypothetically Speaking\").\n",
    "\n",
    "In case you need to run statistical models, you might turn to regression models (see Chapter 7, \"Why Tall Parents Don't Have Even Taller Children\") or categorical analysis (see Chapters 8, \"To Be or Not to Be\" and 2., \"Categorically Speaking About Categorical Data\"). If you are working with time-series data, you can turn to Chapter 11, Doing Serious Time with Time Series. You can also report results from other empirical techniques that fall under the general rubric of data mining (see Chapter 12, \"Data Mining for Gold\"). Note that many reports in the business sector present results in a more palatable fashion by holding back the statistical details and relying on illustrative graphics to summarize the results.\n",
    "\n",
    "The results section is followed by the **discussion** section, **where you craft your main arguments by building on the results you have presented earlier**.\n",
    "\n",
    "The \"discussion section\" is where you rely on the power of narrative to enable numbers to communicate your thesis to your readers. You refer the reader to the research question and the knowledge gaps you identified earlier. You highlight how your findings provide the ultimate missing piece to the puzzle.\n",
    "\n",
    "Of course, not all analytics return a smoking gun. At times, more frequently than I would like to acknowledge, the results provide only a partial answer to the question and that, too, with a long list of caveats.\n",
    "\n",
    "In the \"**conclusion**\" section, **you generalize your specific findings** and take on a rather marketing approach to promote your findings so that the reader does not remain stuck in the caveats that you have voluntarily outlined earlier. You might also **identify future possible developments in research and applications that could result from your research**. What remains is housekeeping, including a **list of references**, the acknowledgment section (acknowledging the support of those who have enabled your work is always good), and \"appendices\", if needed.\n",
    "\n",
    "## Have You Done Your Job as a Writer?\n",
    "As a data scientist, you are expected to do thorough analysis with the appropriate data, deploying the appropriate tools. As a writer, you are responsible for communicating your findings to the readers. Transport Policy, a leading research publication in transportation planning, offers a checklist for authors interested in publishing with the journal. The checklist is a series of questions authors are expected to consider before submitting their manuscripts to the journal. I believe the checklist is useful for budding data scientists and, therefore, I have reproduced it verbatim for their benefit.\n",
    "\n",
    "- Have you told readers, at the outset, what they might gain by reading your paper?\n",
    "- Have you made the aim of your work clear?\n",
    "- Have you explained the significance of your contribution?\n",
    "- Have you set your work in the appropriate context by giving sufficient background (including a complete set of relevant references) to your work?\n",
    "- Have you addressed the question of practicality and usefulness?\n",
    "- Have you identified future developments that might result from your work?\n",
    "- Have you structured your paper in a clear and logical fashion?\n",
    "\n",
    "## Lesson Summary\n",
    "In this lesson, you have learned:\n",
    "\n",
    "- The length and content of the final report will vary depending on the needs of the project.\n",
    "- The structure of the final report for a Data Science project should include a cover page, table of contents, executive summary, detailed contents, acknowledgements, references and appendices.\n",
    "- The report should present a thorough analysis of the data and communicate the project findings.\n",
    "  "
   ]
  },
  {
   "cell_type": "markdown",
   "metadata": {},
   "source": [
    "# What are the main components of a report? \n",
    "\n",
    "1. cover page\n",
    "2. table of contents\n",
    "3. abstract / executive summary\n",
    "4. introduction\n",
    "5. literature review / review of available relevant research on the subject matter\n",
    "6. methodology\n",
    "7. results\n",
    "8. discussion\n",
    "9. conclusion\n",
    "10. list of references\n",
    "11. acknowledgments\n",
    "12. appendices, if needed"
   ]
  },
  {
   "cell_type": "markdown",
   "metadata": {},
   "source": [
    "# IBM Digital Badge\n",
    "![digital badge](https://d3c33hcgiwev3.cloudfront.net/imageAssetProxy.v1/S8pIGXWIEei3nhIMaRH29g_3ca1df0cfe809af5ad3695c3b63873b3_Cognitive_Class_-_What_is_Data_Science.png?expiry=1626998400000&hmac=YV0DeIBazGvGO3p1BT5jF2oddsSliQvcMehsrtYlaF8)\n",
    "\n",
    "\n",
    "Earning the Coursera certificate for this course will entitle you to receive an IBM digital badge without\n",
    "any additional charge.  (Note: payment is required to have full access to\n",
    "the course and to be eligible to qualify for the course certificate.)\n",
    "\n",
    "For this course you will earn Data Science Orientation Badge.  Full details can be\n",
    "seen here.\n",
    "\n",
    "https://www.youracclaim.com/org/ibm/badge/data-science-orientation\n",
    "\n",
    "\n",
    "IBM digital badges are an on-line credential that validate the skills you\n",
    "acquired passing this course.  You can share IBM digital badges on popular\n",
    "social media sites, such as Linked-In, Twitter or Facebook.  Each badge\n",
    "you earn has a unique URL that you can embed in a website, email or CV, so it\n",
    "could not be easier to share your badges and your achievements. \n",
    "\n",
    "IBM digital badges adhere to the global Open Badges Standard managed by the [IMS Global Learning Consortium](https://www.imsglobal.org/ims-global-learning-consortium-announces-open-badges-20-certifications),\n",
    "so you can also share IBM digital badges with any OBS-compliant badge site,\n",
    "such as Mozilla Backpack.\n",
    "\n",
    "IBM has partnered with Credly Acclaim to issue and manage IBM digital badges.\n",
    " If you pass this course and earn the Coursera certificate, you will be\n",
    "provided instructions for how to accept and claim your IBM digital badge. "
   ]
  },
  {
   "cell_type": "code",
   "execution_count": null,
   "metadata": {},
   "outputs": [],
   "source": []
  }
 ],
 "metadata": {
  "kernelspec": {
   "display_name": "Python 3",
   "language": "python",
   "name": "python3"
  },
  "language_info": {
   "codemirror_mode": {
    "name": "ipython",
    "version": 3
   },
   "file_extension": ".py",
   "mimetype": "text/x-python",
   "name": "python",
   "nbconvert_exporter": "python",
   "pygments_lexer": "ipython3",
   "version": "3.8.3"
  }
 },
 "nbformat": 4,
 "nbformat_minor": 4
}
