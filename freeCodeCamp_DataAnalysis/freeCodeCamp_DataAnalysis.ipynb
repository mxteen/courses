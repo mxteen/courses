{
 "cells": [
  {
   "cell_type": "markdown",
   "metadata": {},
   "source": [
    "# Data Analysis with Python\n",
    "https://www.freecodecamp.org/learn/data-analysis-with-python/"
   ]
  },
  {
   "cell_type": "markdown",
   "metadata": {},
   "source": []
  }
 ],
 "metadata": {
  "kernelspec": {
   "display_name": "Python 3.9.5 64-bit",
   "language": "python",
   "name": "python3"
  },
  "language_info": {
   "name": "python",
   "version": "3.9.5"
  },
  "orig_nbformat": 4,
  "vscode": {
   "interpreter": {
    "hash": "5d0773dc45e137a3175e4dfe108602b0e3fa5532889946862bf5514e2ab4927a"
   }
  }
 },
 "nbformat": 4,
 "nbformat_minor": 2
}
