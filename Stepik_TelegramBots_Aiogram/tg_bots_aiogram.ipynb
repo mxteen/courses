{
 "cells": [
  {
   "cell_type": "markdown",
   "id": "8b1b9efb-7c6a-43ad-8d26-251f71506b70",
   "metadata": {},
   "source": [
    "# Телеграм-боты на Python и AIOgram\n",
    "https://stepik.org/course/120924"
   ]
  },
  {
   "cell_type": "markdown",
   "id": "4d209266-bc0b-4454-91ab-3b5f8dc08ab5",
   "metadata": {},
   "source": [
    "## Telegram Bot API"
   ]
  },
  {
   "cell_type": "markdown",
   "id": "7469ecac-d7b5-4114-a2ad-ef97a162bf34",
   "metadata": {},
   "source": [
    "### Сделайте запрос к API http://numbersapi.com/ для числа 43 и скопируйте в текстовое поле полный ответ от сервиса."
   ]
  },
  {
   "cell_type": "code",
   "execution_count": 1,
   "id": "534fa1f1-cb08-4689-b2f0-9bf8a76f925b",
   "metadata": {},
   "outputs": [
    {
     "name": "stdout",
     "output_type": "stream",
     "text": [
      "43 is the maximum number of cars participating in a NASCAR race in the Cup Series or Nationwide Series.\n"
     ]
    }
   ],
   "source": [
    "import requests\n",
    "\n",
    "number = '43'   # input('Введите число: ')\n",
    "api_url = 'http://numbersapi.com/'\n",
    "\n",
    "response = requests.get(api_url + number)  # Отправляем GET-запрос и сохраняем ответ в переменной response\n",
    "\n",
    "if response.status_code == 200:  # Если код ответа на запрос - 200, то смотрим, что пришло в ответе\n",
    "    print(response.text)\n",
    "else:\n",
    "    print(response.status_code)  # При другом коде ответа выводим этот код"
   ]
  },
  {
   "cell_type": "markdown",
   "id": "137db254-640b-4896-8ec6-e2234296cbf5",
   "metadata": {},
   "source": [
    "### Сформируйте и вставьте в поле ниже URL запроса к Telegram Bot API, который отправит пользователю текстовое сообщение \"AMAZING!\"\n",
    "\n",
    "**Уточнение.** Вместо токена бота напишите <token>, вместо номера chat_id - <chat_id>, кавычки в конечном текстовом сообщении не нужны.\n",
    "**Примечание.** Ответ должен быть без кавычек, пробелов, переводов строки."
   ]
  },
  {
   "cell_type": "markdown",
   "id": "0ae31ab4-824b-4da0-9e3c-0251a08bd4d5",
   "metadata": {},
   "source": [
    "    https://api.telegram.org/bot<token>/sendMessage?chat_id=<chat_id>&text=AMAZING!"
   ]
  },
  {
   "cell_type": "markdown",
   "id": "2bf8133e-8d02-419b-8657-cfe87c514317",
   "metadata": {},
   "source": [
    "### Укажите правильно сформированные URL для запросов к Telegram Bot API"
   ]
  },
  {
   "cell_type": "markdown",
   "id": "1e667893-e24d-407f-8403-9af7fc2ab8f2",
   "metadata": {},
   "source": [
    "    [ ] https://api.telegram.org/bot<token>/sendMessage?chat_id=173901673&message=Hello world!\n",
    "    [ ] https://api.telegram.org/bot<token>/getUpdate\n",
    "    [x] https://api.telegram.org/bot<token>/getMe\n",
    "    [x] https://api.telegram.org/bot<token>/getUpdates?offset=-1\n",
    "    [ ] https://api.telegram.org/bot<token>/sendMessage?chat=173901673&text=Hello! "
   ]
  },
  {
   "cell_type": "code",
   "execution_count": null,
   "id": "2d52a4b7-06d2-47fa-bedf-a9b372b419f8",
   "metadata": {},
   "outputs": [],
   "source": []
  },
  {
   "cell_type": "code",
   "execution_count": null,
   "id": "859241f2-09bc-4748-88ca-dd95969d58fd",
   "metadata": {},
   "outputs": [],
   "source": []
  },
  {
   "cell_type": "code",
   "execution_count": null,
   "id": "8c7c541d-bf16-4ffc-843e-e2be3dfcdd0d",
   "metadata": {},
   "outputs": [],
   "source": []
  },
  {
   "cell_type": "code",
   "execution_count": null,
   "id": "623b2c56-5c9b-47b4-845a-4ecdd054fc16",
   "metadata": {},
   "outputs": [],
   "source": [
    "import requests\n",
    "import time"
   ]
  },
  {
   "cell_type": "code",
   "execution_count": null,
   "id": "e4156396-cbd1-4777-8d10-96c16657e685",
   "metadata": {},
   "outputs": [],
   "source": [
    "\n",
    "\n",
    "\n",
    "API_URL = 'https://api.telegram.org/bot'\n",
    "API_CATS_URL = 'https://api.thecatapi.com/v1/images/search'\n",
    "BOT_TOKEN = '5424991242:AAGwomxQz1p46bRi_2m3V7kvJlt5RjK9xr0'\n",
    "ERROR_TEXT = 'Здесь должна была быть картинка с котиком :('\n",
    "\n",
    "offset = -2\n",
    "counter = 0\n",
    "cat_response: requests.Response\n",
    "cat_link: str\n",
    "\n",
    "\n",
    "while counter < 100:\n",
    "    print('attempt =', counter)\n",
    "    updates = requests.get(f'{API_URL}{BOT_TOKEN}/getUpdates?offset={offset + 1}').json()\n",
    "\n",
    "    if updates['result']:\n",
    "        for result in updates['result']:\n",
    "            offset = result['update_id']\n",
    "            chat_id = result['message']['from']['id']\n",
    "            cat_response = requests.get(API_CATS_URL)\n",
    "            if cat_response.status_code == 200:\n",
    "                cat_link = cat_response.json()[0]['url']\n",
    "                requests.get(f'{API_URL}{BOT_TOKEN}/sendPhoto?chat_id={chat_id}&photo={cat_link}')\n",
    "            else:\n",
    "                requests.get(f'{API_URL}{BOT_TOKEN}/sendMessage?chat_id={chat_id}&text={ERROR_TEXT}')\n",
    "\n",
    "    time.sleep(1)\n",
    "    counter += 1"
   ]
  },
  {
   "cell_type": "markdown",
   "id": "d15cc4e7-b57d-4e2b-aba5-250ee98597ec",
   "metadata": {},
   "source": [
    "## Эхо-бот"
   ]
  },
  {
   "cell_type": "code",
   "execution_count": null,
   "id": "511d3276-9edc-4b23-bc23-b77471d9f0c8",
   "metadata": {},
   "outputs": [],
   "source": [
    "!pip uninstall aiogram"
   ]
  },
  {
   "cell_type": "code",
   "execution_count": 6,
   "id": "8afcfba9-c629-40a8-85fe-2f77ede6adcc",
   "metadata": {},
   "outputs": [],
   "source": [
    "from aiogram import Bot, Dispatcher\n",
    "from aiogram.filters import Command\n",
    "from aiogram.types import Message"
   ]
  },
  {
   "cell_type": "code",
   "execution_count": 8,
   "id": "ec4add3e-8584-4e49-aba4-f8eea4953f82",
   "metadata": {},
   "outputs": [
    {
     "ename": "RuntimeError",
     "evalue": "asyncio.run() cannot be called from a running event loop",
     "output_type": "error",
     "traceback": [
      "\u001b[1;31m---------------------------------------------------------------------------\u001b[0m",
      "\u001b[1;31mRuntimeError\u001b[0m                              Traceback (most recent call last)",
      "Cell \u001b[1;32mIn[8], line 31\u001b[0m\n\u001b[0;32m     27\u001b[0m     \u001b[38;5;28;01mawait\u001b[39;00m message\u001b[38;5;241m.\u001b[39mreply(text\u001b[38;5;241m=\u001b[39mmessage\u001b[38;5;241m.\u001b[39mtext)\n\u001b[0;32m     30\u001b[0m \u001b[38;5;28;01mif\u001b[39;00m \u001b[38;5;18m__name__\u001b[39m \u001b[38;5;241m==\u001b[39m \u001b[38;5;124m'\u001b[39m\u001b[38;5;124m__main__\u001b[39m\u001b[38;5;124m'\u001b[39m:\n\u001b[1;32m---> 31\u001b[0m     dp\u001b[38;5;241m.\u001b[39mrun_polling(bot)\n",
      "File \u001b[1;32m~\\anaconda3\\Lib\\site-packages\\aiogram\\dispatcher\\dispatcher.py:587\u001b[0m, in \u001b[0;36mDispatcher.run_polling\u001b[1;34m(self, polling_timeout, handle_as_tasks, backoff_config, allowed_updates, handle_signals, close_bot_session, *bots, **kwargs)\u001b[0m\n\u001b[0;32m    573\u001b[0m \u001b[38;5;250m\u001b[39m\u001b[38;5;124;03m\"\"\"\u001b[39;00m\n\u001b[0;32m    574\u001b[0m \u001b[38;5;124;03mRun many bots with polling\u001b[39;00m\n\u001b[0;32m    575\u001b[0m \n\u001b[1;32m   (...)\u001b[0m\n\u001b[0;32m    584\u001b[0m \u001b[38;5;124;03m:return:\u001b[39;00m\n\u001b[0;32m    585\u001b[0m \u001b[38;5;124;03m\"\"\"\u001b[39;00m\n\u001b[0;32m    586\u001b[0m \u001b[38;5;28;01mwith\u001b[39;00m suppress(\u001b[38;5;167;01mKeyboardInterrupt\u001b[39;00m):\n\u001b[1;32m--> 587\u001b[0m     \u001b[38;5;28;01mreturn\u001b[39;00m asyncio\u001b[38;5;241m.\u001b[39mrun(\n\u001b[0;32m    588\u001b[0m         \u001b[38;5;28mself\u001b[39m\u001b[38;5;241m.\u001b[39mstart_polling(\n\u001b[0;32m    589\u001b[0m             \u001b[38;5;241m*\u001b[39mbots,\n\u001b[0;32m    590\u001b[0m             \u001b[38;5;241m*\u001b[39m\u001b[38;5;241m*\u001b[39mkwargs,\n\u001b[0;32m    591\u001b[0m             polling_timeout\u001b[38;5;241m=\u001b[39mpolling_timeout,\n\u001b[0;32m    592\u001b[0m             handle_as_tasks\u001b[38;5;241m=\u001b[39mhandle_as_tasks,\n\u001b[0;32m    593\u001b[0m             backoff_config\u001b[38;5;241m=\u001b[39mbackoff_config,\n\u001b[0;32m    594\u001b[0m             allowed_updates\u001b[38;5;241m=\u001b[39mallowed_updates,\n\u001b[0;32m    595\u001b[0m             handle_signals\u001b[38;5;241m=\u001b[39mhandle_signals,\n\u001b[0;32m    596\u001b[0m             close_bot_session\u001b[38;5;241m=\u001b[39mclose_bot_session,\n\u001b[0;32m    597\u001b[0m         )\n\u001b[0;32m    598\u001b[0m     )\n",
      "File \u001b[1;32m~\\anaconda3\\Lib\\asyncio\\runners.py:186\u001b[0m, in \u001b[0;36mrun\u001b[1;34m(main, debug)\u001b[0m\n\u001b[0;32m    161\u001b[0m \u001b[38;5;250m\u001b[39m\u001b[38;5;124;03m\"\"\"Execute the coroutine and return the result.\u001b[39;00m\n\u001b[0;32m    162\u001b[0m \n\u001b[0;32m    163\u001b[0m \u001b[38;5;124;03mThis function runs the passed coroutine, taking care of\u001b[39;00m\n\u001b[1;32m   (...)\u001b[0m\n\u001b[0;32m    182\u001b[0m \u001b[38;5;124;03m    asyncio.run(main())\u001b[39;00m\n\u001b[0;32m    183\u001b[0m \u001b[38;5;124;03m\"\"\"\u001b[39;00m\n\u001b[0;32m    184\u001b[0m \u001b[38;5;28;01mif\u001b[39;00m events\u001b[38;5;241m.\u001b[39m_get_running_loop() \u001b[38;5;129;01mis\u001b[39;00m \u001b[38;5;129;01mnot\u001b[39;00m \u001b[38;5;28;01mNone\u001b[39;00m:\n\u001b[0;32m    185\u001b[0m     \u001b[38;5;66;03m# fail fast with short traceback\u001b[39;00m\n\u001b[1;32m--> 186\u001b[0m     \u001b[38;5;28;01mraise\u001b[39;00m \u001b[38;5;167;01mRuntimeError\u001b[39;00m(\n\u001b[0;32m    187\u001b[0m         \u001b[38;5;124m\"\u001b[39m\u001b[38;5;124masyncio.run() cannot be called from a running event loop\u001b[39m\u001b[38;5;124m\"\u001b[39m)\n\u001b[0;32m    189\u001b[0m \u001b[38;5;28;01mwith\u001b[39;00m Runner(debug\u001b[38;5;241m=\u001b[39mdebug) \u001b[38;5;28;01mas\u001b[39;00m runner:\n\u001b[0;32m    190\u001b[0m     \u001b[38;5;28;01mreturn\u001b[39;00m runner\u001b[38;5;241m.\u001b[39mrun(main)\n",
      "\u001b[1;31mRuntimeError\u001b[0m: asyncio.run() cannot be called from a running event loop"
     ]
    }
   ],
   "source": [
    "with open ('tg_bot.txt', 'r') as f:\n",
    "    BOT_TOKEN = f.readline()\n",
    "\n",
    "# Создаем объекты бота и диспетчера\n",
    "bot = Bot(token=BOT_TOKEN)\n",
    "dp = Dispatcher()\n",
    "\n",
    "# Этот хэндлер будет срабатывать на команду \"/start\"\n",
    "@dp.message(Command(commands=[\"start\"]))\n",
    "async def process_start_command(message: Message):\n",
    "    await message.answer('Привет!\\nМеня зовут Эхо-бот!\\nНапиши мне что-нибудь')\n",
    "\n",
    "\n",
    "# Этот хэндлер будет срабатывать на команду \"/help\"\n",
    "@dp.message(Command(commands=['help']))\n",
    "async def process_help_command(message: Message):\n",
    "    await message.answer(\n",
    "        'Напиши мне что-нибудь и в ответ '\n",
    "        'я пришлю тебе твое сообщение'\n",
    "    )\n",
    "\n",
    "\n",
    "# Этот хэндлер будет срабатывать на любые ваши текстовые сообщения,\n",
    "# кроме команд \"/start\" и \"/help\"\n",
    "@dp.message()\n",
    "async def send_echo(message: Message):\n",
    "    await message.reply(text=message.text)\n",
    "\n",
    "\n",
    "if __name__ == '__main__':\n",
    "    dp.run_polling(bot)"
   ]
  },
  {
   "cell_type": "code",
   "execution_count": null,
   "id": "9f8aa727-4857-43ef-9c75-c21cf88677e2",
   "metadata": {},
   "outputs": [],
   "source": []
  }
 ],
 "metadata": {
  "kernelspec": {
   "display_name": "Python 3 (ipykernel)",
   "language": "python",
   "name": "python3"
  },
  "language_info": {
   "codemirror_mode": {
    "name": "ipython",
    "version": 3
   },
   "file_extension": ".py",
   "mimetype": "text/x-python",
   "name": "python",
   "nbconvert_exporter": "python",
   "pygments_lexer": "ipython3",
   "version": "3.11.7"
  }
 },
 "nbformat": 4,
 "nbformat_minor": 5
}
