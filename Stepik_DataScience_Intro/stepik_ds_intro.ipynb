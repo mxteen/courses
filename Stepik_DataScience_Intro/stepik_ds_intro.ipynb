{
 "cells": [
  {
   "cell_type": "markdown",
   "metadata": {},
   "source": [
    "# Введение в Data Science и машинное обучение \n",
    "\n",
    "Курс Анатолия Карпова на Stepik:\n",
    "https://stepik.org/course/4852/syllabus\n",
    "\n"
   ]
  },
  {
   "cell_type": "markdown",
   "metadata": {},
   "source": [
    "Датасайнс это [The New Sexiest Job of the 21st Century](https://medium.com/@keesgroeneveld/the-new-sexiest-job-of-the-21st-century-ff7dc19bfd3)\n",
    "\n",
    "Что нужно знать:\n",
    "* Статистику;\n",
    "* Python;\n",
    "* Базы данных.\n",
    "\n",
    "\n",
    "\n",
    "## Стадии ML-проекта\n",
    "1. Формулировка проблемы\n",
    "2. data engineering. Как хранить и где данные.\n",
    "3. **Machine learning.** Обучение моделей. На этом этапе и сконцентрирован курс.\n",
    "    * Формулировака ML-задачи на основе проблемы.\n",
    "    * Подготовка данных\n",
    "    * Выобр модели\n",
    "    * Проверка рабоыт модели на тестовой выборке\n",
    "4. Programming. Внедрение в продукт. \n",
    "5. Analysis. Анализ результатов раоты модели. Есть ли эффект?"
   ]
  },
  {
   "cell_type": "markdown",
   "metadata": {},
   "source": [
    "## Классификация областей ML и выбор моделей"
   ]
  },
  {
   "cell_type": "markdown",
   "metadata": {},
   "source": [
    "Классификация областей ML с сайта https://vas3k.ru/blog/machine_learning/\n",
    "\n",
    "![image](https://i.vas3k.ru/7ry.jpg)"
   ]
  },
  {
   "cell_type": "markdown",
   "metadata": {},
   "source": [
    "Выбор модели для разных задач на сайте sklearn: https://scikit-learn.org/stable/tutorial/machine_learning_map/index.html\n",
    "\n",
    "![image](https://scikit-learn.org/stable/_static/ml_map.png)"
   ]
  },
  {
   "cell_type": "markdown",
   "metadata": {},
   "source": [
    "## Отличие ML от статистики"
   ]
  },
  {
   "cell_type": "markdown",
   "metadata": {},
   "source": [
    "* **Статистика**. В статистике гипотеза во глааве угла. Формулируется гипотеза, а затем она проверяется на данных с помощью стат. методов. Основная задача - принять или отклонить гипотезу.\n",
    "* **Machine Learning**. В ML во главе стоит задача, причём часто сформоированная не на языке математики. Главный вопрос - возможгно ли решить задачу с помощью ML и если да, то с какой точностью. Основная задача - сделать модель, которая может делать прогнозы для новых объектов."
   ]
  },
  {
   "cell_type": "markdown",
   "metadata": {},
   "source": []
  }
 ],
 "metadata": {
  "language_info": {
   "name": "python"
  },
  "orig_nbformat": 4
 },
 "nbformat": 4,
 "nbformat_minor": 2
}
