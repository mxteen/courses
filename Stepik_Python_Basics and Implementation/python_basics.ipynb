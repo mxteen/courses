{
 "cells": [
  {
   "cell_type": "markdown",
   "metadata": {
    "toc": true
   },
   "source": [
    "<h1>Table of Contents<span class=\"tocSkip\"></span></h1>\n",
    "<div class=\"toc\"><ul class=\"toc-item\"><li><span><a href=\"#Модель-данных:-объекты\" data-toc-modified-id=\"Модель-данных:-объекты-1\"><span class=\"toc-item-num\">1&nbsp;&nbsp;</span>Модель данных: объекты</a></span><ul class=\"toc-item\"><li><span><a href=\"#Идентификаторы-и-оператор-присваивания\" data-toc-modified-id=\"Идентификаторы-и-оператор-присваивания-1.1\"><span class=\"toc-item-num\">1.1&nbsp;&nbsp;</span>Идентификаторы и оператор присваивания</a></span></li><li><span><a href=\"#Типы-объектов\" data-toc-modified-id=\"Типы-объектов-1.2\"><span class=\"toc-item-num\">1.2&nbsp;&nbsp;</span>Типы объектов</a></span></li></ul></li><li><span><a href=\"#Функции-и-стек-вызовов\" data-toc-modified-id=\"Функции-и-стек-вызовов-2\"><span class=\"toc-item-num\">2&nbsp;&nbsp;</span>Функции и стек вызовов</a></span><ul class=\"toc-item\"><li><span><a href=\"#Зачем-писать-функции\" data-toc-modified-id=\"Зачем-писать-функции-2.1\"><span class=\"toc-item-num\">2.1&nbsp;&nbsp;</span>Зачем писать функции</a></span></li><li><span><a href=\"#Что-внутри-объекта-функции\" data-toc-modified-id=\"Что-внутри-объекта-функции-2.2\"><span class=\"toc-item-num\">2.2&nbsp;&nbsp;</span>Что внутри объекта функции</a></span></li><li><span><a href=\"#Стек-вызовов\" data-toc-modified-id=\"Стек-вызовов-2.3\"><span class=\"toc-item-num\">2.3&nbsp;&nbsp;</span>Стек вызовов</a></span></li><li><span><a href=\"#Упражнение\" data-toc-modified-id=\"Упражнение-2.4\"><span class=\"toc-item-num\">2.4&nbsp;&nbsp;</span>Упражнение</a></span></li><li><span><a href=\"#Способы-передачи-аргументов-в-функцию\" data-toc-modified-id=\"Способы-передачи-аргументов-в-функцию-2.5\"><span class=\"toc-item-num\">2.5&nbsp;&nbsp;</span>Способы передачи аргументов в функцию</a></span></li><li><span><a href=\"#Аргументы,-заданные-по-умолчанию\" data-toc-modified-id=\"Аргументы,-заданные-по-умолчанию-2.6\"><span class=\"toc-item-num\">2.6&nbsp;&nbsp;</span>Аргументы, заданные по умолчанию</a></span></li><li><span><a href=\"#Задание-неопределённого-числа-аргументов\" data-toc-modified-id=\"Задание-неопределённого-числа-аргументов-2.7\"><span class=\"toc-item-num\">2.7&nbsp;&nbsp;</span>Задание неопределённого числа аргументов</a></span></li><li><span><a href=\"#Рекурсивные-функции\" data-toc-modified-id=\"Рекурсивные-функции-2.8\"><span class=\"toc-item-num\">2.8&nbsp;&nbsp;</span>Рекурсивные функции</a></span></li></ul></li><li><span><a href=\"#Пространства-имён-и-области-видимости\" data-toc-modified-id=\"Пространства-имён-и-области-видимости-3\"><span class=\"toc-item-num\">3&nbsp;&nbsp;</span>Пространства имён и области видимости</a></span></li></ul></div>"
   ]
  },
  {
   "cell_type": "markdown",
   "metadata": {},
   "source": [
    "# Python: основы и применение\n",
    "https://stepik.org/course/512"
   ]
  },
  {
   "cell_type": "markdown",
   "metadata": {},
   "source": [
    "Реализуйте программу, которая принимает последовательность чисел и выводит их сумму.\n",
    "\n",
    "Вашей программе на вход подается последовательность строк.\n",
    "Первая строка содержит число n (1 ≤ n ≤ 100).\n",
    "В следующих n строках содержится по одному целому числу.\n",
    "\n",
    "Выведите одно число – сумму данных n чисел.\n",
    "\n",
    "Примечание:\n",
    "Чтобы считать одно число из стандартного потока ввода, можно использовать, например, следующий код"
   ]
  },
  {
   "cell_type": "code",
   "execution_count": 4,
   "metadata": {},
   "outputs": [
    {
     "name": "stdout",
     "output_type": "stream",
     "text": [
      "32\n"
     ]
    }
   ],
   "source": [
    "n = int(input())\n",
    "numbers  = [int(input()) for i in range(n)]\n",
    "print(sum(numbers))"
   ]
  },
  {
   "cell_type": "markdown",
   "metadata": {},
   "source": [
    "## Модель данных: объекты"
   ]
  },
  {
   "cell_type": "markdown",
   "metadata": {},
   "source": [
    "Объект - абстракция для данных. Если бы оперативная память компьютера была складом, то объектом мы бы назвали коробку. Объект - это некоторый конейнер в памяти, который содержит данные. *Все данные в Python представлены объектами и отношениями между объектами*. Всё в Python - объекты\n",
    "\n",
    "Что делает операор присваивания - запоминает соответствие между именем переменной из левой части и идентификатором из правой части"
   ]
  },
  {
   "cell_type": "markdown",
   "metadata": {},
   "source": [
    "### Идентификаторы и оператор присваивания"
   ]
  },
  {
   "cell_type": "code",
   "execution_count": 12,
   "metadata": {},
   "outputs": [
    {
     "name": "stdout",
     "output_type": "stream",
     "text": [
      "1882046349952\n",
      "0 sdf 1882046265328\n",
      "1 rthgfj 1882041001200\n",
      "2 ghkj 1882046263920\n"
     ]
    }
   ],
   "source": [
    "a = ['sdf', 'rthgfj', 'ghkj']\n",
    "print(id(a))\n",
    "for i, el in enumerate(a):\n",
    "    print(i, el, id(el))"
   ]
  },
  {
   "cell_type": "code",
   "execution_count": 21,
   "metadata": {},
   "outputs": [
    {
     "name": "stdout",
     "output_type": "stream",
     "text": [
      "1882046530240\n",
      "1882046367360\n"
     ]
    }
   ],
   "source": [
    "# Два разных объекта не могут имет два одинаковых идентификатора \n",
    "x = [1, 2, 3]\n",
    "print(id(x)) \n",
    "print(id([1, 2, 3]))"
   ]
  },
  {
   "cell_type": "code",
   "execution_count": 23,
   "metadata": {},
   "outputs": [
    {
     "data": {
      "text/plain": [
       "False"
      ]
     },
     "execution_count": 23,
     "metadata": {},
     "output_type": "execute_result"
    }
   ],
   "source": [
    "# Другой споосб проверки равнества идентификаторов\n",
    "x is [1, 2, 3]"
   ]
  },
  {
   "cell_type": "code",
   "execution_count": 22,
   "metadata": {},
   "outputs": [
    {
     "name": "stdout",
     "output_type": "stream",
     "text": [
      "1881954478384\n",
      "1881954478384\n",
      "True\n"
     ]
    }
   ],
   "source": [
    "c = 1\n",
    "d = c\n",
    "print(id(c), id(d), id(c) == id(d), sep='\\n')"
   ]
  },
  {
   "cell_type": "code",
   "execution_count": 19,
   "metadata": {},
   "outputs": [
    {
     "name": "stdout",
     "output_type": "stream",
     "text": [
      "1 4\n",
      "1881954478480 1881954478384 False\n"
     ]
    }
   ],
   "source": [
    "c = 4\n",
    "print(d, c)\n",
    "print(id(c), id(d), id(c) == id(d))"
   ]
  },
  {
   "cell_type": "code",
   "execution_count": 28,
   "metadata": {},
   "outputs": [
    {
     "name": "stdout",
     "output_type": "stream",
     "text": [
      "a: [1, 2, 3]\n",
      "True\n",
      "a: [1, 2, 9]\n",
      "b: [1, 2, 9]\n",
      "True\n"
     ]
    }
   ],
   "source": [
    "a = [1, 2, 3]\n",
    "print('a:', a)\n",
    "b = a\n",
    "print(a is b)\n",
    "# Изменим 1 элемент списка a\n",
    "a[2] = 9\n",
    "print('a:', a)\n",
    "# Этот же элемент изменится и в списке b, т.к. это один и тот же объект\n",
    "print('b:', a)\n",
    "print(a is b)"
   ]
  },
  {
   "cell_type": "markdown",
   "metadata": {},
   "source": [
    "### Типы объектов\n",
    "\n",
    "Тип определяет\n",
    "* поведение объекта;\n",
    "* возможные принимаемые значения.\n",
    "\n",
    "Тип объекта не меняется в течение жизни объекта.\n",
    "\n",
    "**Типы объектов**\n",
    "* Изменяемые (mutable)\n",
    "    * list\n",
    "    * set\n",
    "    * dict\n",
    "* Неизменяемые\n",
    "    * числа (int, float, complex)\n",
    "    * логический тип\n",
    "    * frozen set\n",
    "    * кортежи (tuple) \n",
    "    * строки (string)\n",
    "* Неизменяемые (immutable)"
   ]
  },
  {
   "cell_type": "code",
   "execution_count": 29,
   "metadata": {},
   "outputs": [
    {
     "data": {
      "text/plain": [
       "(list, int)"
      ]
     },
     "execution_count": 29,
     "metadata": {},
     "output_type": "execute_result"
    }
   ],
   "source": [
    "x = [1, 2, 3, 4]\n",
    "y =  4\n",
    "type(x), type(y)"
   ]
  },
  {
   "cell_type": "code",
   "execution_count": 33,
   "metadata": {},
   "outputs": [
    {
     "name": "stdout",
     "output_type": "stream",
     "text": [
      "(1, 2, 3, 4, 4)\n"
     ]
    },
    {
     "ename": "AttributeError",
     "evalue": "'tuple' object has no attribute 'append'",
     "output_type": "error",
     "traceback": [
      "\u001b[1;31m---------------------------------------------------------------------------\u001b[0m",
      "\u001b[1;31mAttributeError\u001b[0m                            Traceback (most recent call last)",
      "Cell \u001b[1;32mIn [33], line 4\u001b[0m\n\u001b[0;32m      2\u001b[0m x\u001b[39m.\u001b[39mappend(\u001b[39m4\u001b[39m)\n\u001b[0;32m      3\u001b[0m \u001b[39mprint\u001b[39m(b)\n\u001b[1;32m----> 4\u001b[0m b\u001b[39m.\u001b[39;49mappend(\u001b[39m5\u001b[39m)\n",
      "\u001b[1;31mAttributeError\u001b[0m: 'tuple' object has no attribute 'append'"
     ]
    }
   ],
   "source": [
    "b = tuple(x)\n",
    "x.append(4)\n",
    "print(b)\n",
    "b.append(5)"
   ]
  },
  {
   "cell_type": "code",
   "execution_count": 36,
   "metadata": {},
   "outputs": [
    {
     "name": "stdout",
     "output_type": "stream",
     "text": [
      "140706010789992 140706010789992 True\n"
     ]
    }
   ],
   "source": [
    "# Объекты неизменяемых типов при равенстве значений переменных ссылаются на одни те же созданные ранее объекты в памяти\n",
    "a = True\n",
    "b = True\n",
    "print(id(a), id(b), id(a) == id(b))"
   ]
  },
  {
   "cell_type": "code",
   "execution_count": 35,
   "metadata": {},
   "outputs": [
    {
     "name": "stdout",
     "output_type": "stream",
     "text": [
      "1881954478448 1881954478448 True\n"
     ]
    }
   ],
   "source": [
    "# То же\n",
    "a = 3\n",
    "print(id(a), id(3), id(a) == id(3))"
   ]
  },
  {
   "cell_type": "code",
   "execution_count": 37,
   "metadata": {},
   "outputs": [
    {
     "name": "stdout",
     "output_type": "stream",
     "text": [
      "1882047843584\n",
      "1882047655488\n",
      "1882047470208\n"
     ]
    }
   ],
   "source": [
    "# Для изменяемых типов данных каждый раз создаётс яновый объект\n",
    "a = []\n",
    "b = []\n",
    "c = []\n",
    "print(id(a), id(b), id(c), sep='\\n')"
   ]
  },
  {
   "cell_type": "markdown",
   "metadata": {},
   "source": [
    "Реализуйте программу, которая будет вычислять количество различных объектов в списке.\n",
    "Два объекта a и b считаются различными, если a is b равно False.\n",
    "\n",
    "Вашей программе доступна переменная с названием objects, которая ссылается на список, содержащий не более 100 объектов. Выведите количество различных объектов в этом списке.\n",
    "\n",
    "Формат ожидаемой программы:\n",
    "\n",
    "```Python\n",
    "    ans = 0\n",
    "    for obj in objects: # доступная переменная objects\n",
    "        ans += 1\n",
    "\n",
    "    print(ans)\n",
    "\n",
    "```\n",
    "\n",
    "\n",
    "Примечание:\n",
    "Количеством различных объектов называется максимальный размер множества объектов, в котором любые два объекта являются различными.\n",
    "\n",
    "Рассмотрим пример:\n",
    "```Python\n",
    "objects = [1, 2, 1, 2, 3] # будем считать, что одинаковые числа соответствуют одинаковым объектам, а различные – различным\n",
    "\n",
    "```\n",
    "\n",
    "\n",
    "Тогда все различные объекты являют собой множество {1, 2, 3}﻿. Таким образом, количество различных объектов равно трём."
   ]
  },
  {
   "cell_type": "code",
   "execution_count": 1,
   "metadata": {},
   "outputs": [
    {
     "name": "stdout",
     "output_type": "stream",
     "text": [
      "3\n"
     ]
    }
   ],
   "source": [
    "objects = [1, 2, 1, 2, 3] # будем считать, что одинаковые числа соответствуют одинаковым объектам, а различные – различным\n",
    "\n",
    "objects_set = set()\n",
    "for i in range (len(objects)):\n",
    "    objects_set.add(id(objects[i]))\n",
    "print(len(objects_set))"
   ]
  },
  {
   "cell_type": "code",
   "execution_count": 2,
   "metadata": {},
   "outputs": [
    {
     "name": "stdout",
     "output_type": "stream",
     "text": [
      "3\n"
     ]
    }
   ],
   "source": [
    "# то же, но в одну строку\n",
    "objects = [1, 2, 1, 2, 3] # будем считать, что одинаковые числа соответствуют одинаковым объектам, а различные – различным\n",
    "print(len(set(map(id, objects))))"
   ]
  },
  {
   "cell_type": "markdown",
   "metadata": {},
   "source": [
    "##  Функции и стек вызовов"
   ]
  },
  {
   "cell_type": "markdown",
   "metadata": {},
   "source": [
    "### Зачем писать функции\n",
    "* для повторного использования кода, который решает задачу;\n",
    "    * код становится короче и понятнее;\n",
    "    * уменьшается вероятность ошибки: достаточно 1 раз написать правильно функцию;\n",
    "* структурирование кода: код состоит из маленьких и понятных компонент;\n",
    "* скрытие деталей реализации кода.\n"
   ]
  },
  {
   "cell_type": "code",
   "execution_count": 6,
   "metadata": {},
   "outputs": [],
   "source": [
    "def function_name(arg1, arg2):\n",
    "    return arg1 + arg2"
   ]
  },
  {
   "cell_type": "code",
   "execution_count": 9,
   "metadata": {},
   "outputs": [
    {
     "data": {
      "text/plain": [
       "2637762763360"
      ]
     },
     "execution_count": 9,
     "metadata": {},
     "output_type": "execute_result"
    }
   ],
   "source": [
    "# для функции в памяти создаётся объект и у него есть идентификатор\n",
    "id(function_name)"
   ]
  },
  {
   "cell_type": "code",
   "execution_count": 10,
   "metadata": {},
   "outputs": [
    {
     "data": {
      "text/plain": [
       "function"
      ]
     },
     "execution_count": 10,
     "metadata": {},
     "output_type": "execute_result"
    }
   ],
   "source": [
    "type(function_name)"
   ]
  },
  {
   "cell_type": "code",
   "execution_count": 13,
   "metadata": {},
   "outputs": [
    {
     "name": "stdout",
     "output_type": "stream",
     "text": [
      "9 16\n"
     ]
    }
   ],
   "source": [
    "x = function_name(4, 5)\n",
    "y = function_name(x, 7)\n",
    "print(x, y)"
   ]
  },
  {
   "cell_type": "code",
   "execution_count": 15,
   "metadata": {},
   "outputs": [
    {
     "name": "stdout",
     "output_type": "stream",
     "text": [
      "2637683976976\n",
      "2637683976976\n",
      "True\n"
     ]
    }
   ],
   "source": [
    "print(id(16), id(y), id(16) == id(y), sep='\\n') "
   ]
  },
  {
   "cell_type": "markdown",
   "metadata": {},
   "source": [
    "### Что внутри объекта функции\n",
    "\n",
    "Объект функции хранит в себе\n",
    "* название функции;\n",
    "* аргументы, которые она принимает;\n",
    "* тело функции."
   ]
  },
  {
   "cell_type": "code",
   "execution_count": 16,
   "metadata": {},
   "outputs": [],
   "source": [
    "def list_sum(lst):\n",
    "    result = 0\n",
    "    for element in lst:\n",
    "        result += element\n",
    "    return result\n",
    "\n",
    "def sum(a, b):\n",
    "    return a + b"
   ]
  },
  {
   "cell_type": "code",
   "execution_count": 17,
   "metadata": {},
   "outputs": [
    {
     "data": {
      "text/plain": [
       "(43, 6)"
      ]
     },
     "execution_count": 17,
     "metadata": {},
     "output_type": "execute_result"
    }
   ],
   "source": [
    "y = sum(14, 29)\n",
    "z = list_sum([1, 2, 3])\n",
    "y, z"
   ]
  },
  {
   "cell_type": "markdown",
   "metadata": {},
   "source": [
    "### Стек вызовов\n",
    "Создавая и выполняя даже маленькую функцию, мы моджем создавать и задействовть множество объектов в оперативной памяти. Нужно быть аккуратным - можно засорить оперативку."
   ]
  },
  {
   "cell_type": "markdown",
   "metadata": {},
   "source": [
    "Стек вызовов = машинный стек = стек исполнения. Когды мы вызываем функцию, мы \"кладём её на стек\", когда исполнение функции завершено, мы её со стека снимаем. Интерпритатор выполняет самую \"верхнюю\" функцию на стеке.\n",
    "\n",
    "Стек - достаточно простая структура аданных и легко реализуемая в оперативной памяти."
   ]
  },
  {
   "cell_type": "code",
   "execution_count": 19,
   "metadata": {},
   "outputs": [
    {
     "name": "stdout",
     "output_type": "stream",
     "text": [
      "Something outside of any function\n",
      "Function f\n",
      "Function g\n",
      "Function f\n",
      "Something outside of any function\n"
     ]
    }
   ],
   "source": [
    "# Стек вызовов\n",
    "def g():\n",
    "    print('Function g')\n",
    "\n",
    "def f():\n",
    "    print('Function f')\n",
    "    g()\n",
    "    print('Function f')\n",
    "\n",
    "print('Something outside of any function')\n",
    "f()\n",
    "print('Something outside of any function')"
   ]
  },
  {
   "cell_type": "markdown",
   "metadata": {},
   "source": [
    "В процессе выполнения кода на стек добавляются и со стека снимаются функции. Добавление функции на стек увеличивает его размер на 1, снятие функции со стека уменьшает его размер на 1.\n",
    "\n",
    "Чему равен максимальный размер стека в процессе выполнения следующего кода?\n",
    "Обратите внимание, что при интерпретации кода на стеке находится функция module, которую также нужно учесть при подсчете размера стека.\n",
    "В рамках данного задания можно считать, что функция print ﻿не вызывает дополнительных функций внутри себя."
   ]
  },
  {
   "cell_type": "code",
   "execution_count": 23,
   "metadata": {},
   "outputs": [
    {
     "name": "stdout",
     "output_type": "stream",
     "text": [
      "12\n"
     ]
    }
   ],
   "source": [
    "def h():\n",
    "  print(12)\n",
    "\n",
    "def f():\n",
    "  g(h)\n",
    "\n",
    "def g(a):\n",
    "  a()\n",
    "\n",
    "g(f)"
   ]
  },
  {
   "cell_type": "code",
   "execution_count": 28,
   "metadata": {},
   "outputs": [
    {
     "data": {
      "text/plain": [
       "6"
      ]
     },
     "execution_count": 28,
     "metadata": {},
     "output_type": "execute_result"
    }
   ],
   "source": [
    "len(['module', 'g(f)', 'f(g)', 'g(h)', 'h()', 'print()'])"
   ]
  },
  {
   "cell_type": "code",
   "execution_count": 30,
   "metadata": {},
   "outputs": [
    {
     "name": "stdout",
     "output_type": "stream",
     "text": [
      "12\n",
      "stack_num: 6\n"
     ]
    }
   ],
   "source": [
    "global stack_num\n",
    "\n",
    "# Принмиаем во внимание функцию module\n",
    "stack_num = 1\n",
    "\n",
    "def h():\n",
    "    global stack_num\n",
    "    stack_num += 1\n",
    "    print(12)\n",
    "\n",
    "def f():\n",
    "    global stack_num\n",
    "    stack_num += 1\n",
    "    g(h)\n",
    "\n",
    "def g(a):\n",
    "    global stack_num\n",
    "    stack_num += 1\n",
    "    a()\n",
    "\n",
    "stack_num += 1\n",
    "g(f)\n",
    "\n",
    "print('stack_num:', stack_num)"
   ]
  },
  {
   "cell_type": "markdown",
   "metadata": {},
   "source": [
    "### Упражнение\n",
    "Напишите реализацию функции closest_mod_5, принимающую в качестве единственного аргумента целое число x и возвращающую самое маленькое целое число y, такое что:\n",
    "* y больше или равно x;\n",
    "* y делится нацело на 5."
   ]
  },
  {
   "cell_type": "code",
   "execution_count": 1,
   "metadata": {},
   "outputs": [],
   "source": [
    "def closest_mod_5(x):\n",
    "    while (x % 5 != 0):\n",
    "        x+=1\n",
    "    return(x)\n"
   ]
  },
  {
   "cell_type": "code",
   "execution_count": 2,
   "metadata": {},
   "outputs": [
    {
     "name": "stdout",
     "output_type": "stream",
     "text": [
      "0 0\n",
      "1 5\n",
      "2 5\n",
      "3 5\n",
      "4 5\n",
      "5 5\n",
      "6 10\n",
      "7 10\n",
      "8 10\n",
      "9 10\n"
     ]
    }
   ],
   "source": [
    "for x in range(10):\n",
    "    print(x, closest_mod_5(x))"
   ]
  },
  {
   "cell_type": "markdown",
   "metadata": {},
   "source": [
    "### Способы передачи аргументов в функцию\n",
    "Способы передачи аргументов в функцию:\n",
    "1. по позиции;\n",
    "2. по имени."
   ]
  },
  {
   "cell_type": "code",
   "execution_count": 5,
   "metadata": {},
   "outputs": [],
   "source": [
    "def print_ab(a, b):\n",
    "    print(a)\n",
    "    print(b)"
   ]
  },
  {
   "cell_type": "code",
   "execution_count": 6,
   "metadata": {},
   "outputs": [
    {
     "name": "stdout",
     "output_type": "stream",
     "text": [
      "10\n",
      "5\n"
     ]
    }
   ],
   "source": [
    "# позиционные аругменты\n",
    "print_ab(10, 5)"
   ]
  },
  {
   "cell_type": "code",
   "execution_count": 8,
   "metadata": {},
   "outputs": [
    {
     "name": "stdout",
     "output_type": "stream",
     "text": [
      "10\n",
      "5\n",
      "10\n",
      "5\n"
     ]
    }
   ],
   "source": [
    "# именованные аргументы\n",
    "print_ab(a=10, b=5)\n",
    "\n",
    "# для именованных аруоментов порядок неважен\n",
    "print_ab(b=5, a=10)"
   ]
  },
  {
   "cell_type": "code",
   "execution_count": 9,
   "metadata": {},
   "outputs": [
    {
     "name": "stdout",
     "output_type": "stream",
     "text": [
      "10\n",
      "5\n"
     ]
    }
   ],
   "source": [
    "# совмещение подходов\n",
    "# сначала необходимо передать позиционные аргументы, а затем именованные\n",
    "print_ab(10, b=5)"
   ]
  },
  {
   "cell_type": "code",
   "execution_count": 10,
   "metadata": {},
   "outputs": [
    {
     "name": "stdout",
     "output_type": "stream",
     "text": [
      "10\n",
      "5\n"
     ]
    }
   ],
   "source": [
    "# способ передачи позиционных аргументов в виле списка\n",
    "lst = [10, 5]\n",
    "print_ab(*lst)"
   ]
  },
  {
   "cell_type": "code",
   "execution_count": 12,
   "metadata": {},
   "outputs": [
    {
     "name": "stdout",
     "output_type": "stream",
     "text": [
      "10\n",
      "5\n"
     ]
    }
   ],
   "source": [
    "# способ передачи именованных аргументов в виде словаря\n",
    "args = {'b': 5, 'a': 10}\n",
    "print_ab(**args)"
   ]
  },
  {
   "cell_type": "markdown",
   "metadata": {},
   "source": [
    "### Аргументы, заданные по умолчанию"
   ]
  },
  {
   "cell_type": "code",
   "execution_count": 14,
   "metadata": {},
   "outputs": [],
   "source": [
    "# Аргументы, заданные по умолчанию, должны следовать за позиционными аргументами\n",
    "def print_ab(a, b=3):\n",
    "    print(a)\n",
    "    print(b)"
   ]
  },
  {
   "cell_type": "code",
   "execution_count": 15,
   "metadata": {},
   "outputs": [
    {
     "name": "stdout",
     "output_type": "stream",
     "text": [
      "6\n",
      "3\n"
     ]
    }
   ],
   "source": [
    "print_ab(6)"
   ]
  },
  {
   "cell_type": "code",
   "execution_count": 16,
   "metadata": {},
   "outputs": [
    {
     "name": "stdout",
     "output_type": "stream",
     "text": [
      "5\n",
      "18\n"
     ]
    }
   ],
   "source": [
    "print_ab(5, 18)"
   ]
  },
  {
   "cell_type": "markdown",
   "metadata": {},
   "source": [
    "### Задание неопределённого числа аргументов\n"
   ]
  },
  {
   "cell_type": "code",
   "execution_count": 8,
   "metadata": {},
   "outputs": [],
   "source": [
    "def print_ab(a, b, *args):\n",
    "    print('Позиционый аргумент a:', a)\n",
    "    print('Позиционый аргумент b:', b)\n",
    "    print('Дополнительные аргументы:')\n",
    "    for arg in args:\n",
    "        print(arg)\n",
    "    print('Кортеж args с дополнительными аргументами:', args)\n"
   ]
  },
  {
   "cell_type": "code",
   "execution_count": 9,
   "metadata": {},
   "outputs": [
    {
     "name": "stdout",
     "output_type": "stream",
     "text": [
      "Позиционый аргумент a: 1\n",
      "Позиционый аргумент b: 2\n",
      "Дополнительные аргументы:\n",
      "3\n",
      "4\n",
      "5\n",
      "6\n",
      "7\n",
      "8\n",
      "9\n",
      "Кортеж args с дополнительными аргументами: (3, 4, 5, 6, 7, 8, 9)\n"
     ]
    }
   ],
   "source": [
    "# все позиционные аргументы, которые не нашли себе места, идут в кортеж args\n",
    "print_ab(1, 2, 3, 4, 5, 6, 7, 8, 9)"
   ]
  },
  {
   "cell_type": "code",
   "execution_count": 12,
   "metadata": {},
   "outputs": [],
   "source": [
    "def print_ab(a, b, **kwargs):\n",
    "    print('Позиционый аргумент a:', a)\n",
    "    print('Позиционый аргумент b:', b)\n",
    "    print('Дополнительные аргументы:')\n",
    "    for key in kwargs:\n",
    "        print(key, kwargs[key])\n",
    "    print('Словарь kwargs с дополнительными аргументами:', kwargs)\n"
   ]
  },
  {
   "cell_type": "code",
   "execution_count": 13,
   "metadata": {},
   "outputs": [
    {
     "name": "stdout",
     "output_type": "stream",
     "text": [
      "Позиционый аргумент a: 10\n",
      "Позиционый аргумент b: 20\n",
      "Дополнительные аргументы:\n",
      "c 30\n",
      "d 100\n",
      "e 23\n",
      "f 8\n",
      "Словарь kwargs с дополнительными аргументами: {'c': 30, 'd': 100, 'e': 23, 'f': 8}\n"
     ]
    }
   ],
   "source": [
    "print_ab(10, 20, c=30, d=100, e=23, f=8)"
   ]
  },
  {
   "cell_type": "markdown",
   "metadata": {},
   "source": [
    "Общие правила для задания аргументов  вфункцию\n",
    "```Python\n",
    "def function_name(\n",
    "\tpositional_args,\n",
    "\tpositional_args_with_defaults,\n",
    "\t*add_pos_args,\n",
    "\tkeyword_only_args,\n",
    "\t**kw_args\n",
    ")\n",
    "```"
   ]
  },
  {
   "cell_type": "markdown",
   "metadata": {},
   "source": [
    "### Рекурсивные функции"
   ]
  },
  {
   "cell_type": "code",
   "execution_count": 14,
   "metadata": {},
   "outputs": [],
   "source": [
    "def fib(x):\n",
    "    \"\"\"\"\n",
    "    Функция для вывода суммы посдедовательности Фибоначи.\n",
    "    Входной параметр x - количество элементов посдедовательности.\n",
    "    \"\"\"\n",
    "    if x == 0 or x == 1:\n",
    "        return 1\n",
    "    else:\n",
    "        return fib(x - 1) + fib(x - 2)\n"
   ]
  },
  {
   "cell_type": "code",
   "execution_count": 18,
   "metadata": {},
   "outputs": [
    {
     "data": {
      "text/plain": [
       "8"
      ]
     },
     "execution_count": 18,
     "metadata": {},
     "output_type": "execute_result"
    }
   ],
   "source": [
    "y = fib(5)\n",
    "y"
   ]
  },
  {
   "cell_type": "markdown",
   "metadata": {},
   "source": [
    "Сочетанием из n элементов по k называется подмножество этих n элементов размера k.\n",
    "Два сочетания называются различными, если одно из сочетаний содержит элемент, который не содержит другое.\n",
    "Числом сочетаний из n по k называется количество различных сочетаний из n по k. Обозначим это число за C(n, k).\n",
    "\n",
    "Пример:\n",
    "Пусть n = 3, т. е. есть три элемента (1, 2, 3). Пусть k = 2.\n",
    "Все различные сочетания из 3 элементов по 2: (1, 2), (1, 3), (2, 3).\n",
    "Различных сочетаний три, поэтому C(3, 2) = 3.\n",
    "\n",
    "Несложно понять, что C(n, 0) = 1, так как из n элементов выбрать 0 можно единственным образом, а именно, ничего не выбрать.\n",
    "Также несложно понять, что если k > n, то C(n, k) = 0, так как невозможно, например, из трех элементов выбрать пять.\n",
    "\n",
    "Для вычисления C(n, k) в других случаях используется следующая рекуррентная формула:\n",
    "C(n, k) = C(n - 1, k) + C(n - 1, k - 1).\n",
    "\n",
    "Реализуйте программу, которая для заданных n и k вычисляет C(n, k).\n",
    "\n",
    "Вашей программе на вход подается строка, содержащая два целых числа n и k (1 ≤ n ≤ 10, 0 ≤ k ≤ 10).\n",
    "Ваша программа должна вывести единственное число: C(n, k)."
   ]
  },
  {
   "cell_type": "code",
   "execution_count": null,
   "metadata": {},
   "outputs": [],
   "source": [
    "# Пример решения с помощью рекурсивной функции\n",
    "def c(n, k):\n",
    "    if k > n:\n",
    "        return 0\n",
    "    if k == 0:\n",
    "        return 1\n",
    "    return c(n - 1, k) + c(n - 1, k - 1)\n",
    "\n",
    "n, k = map(int, input().split())\n",
    "print(c(n, k))"
   ]
  },
  {
   "cell_type": "markdown",
   "metadata": {},
   "source": [
    "## Пространства имён и области видимости"
   ]
  },
  {
   "cell_type": "code",
   "execution_count": null,
   "metadata": {},
   "outputs": [],
   "source": []
  }
 ],
 "metadata": {
  "kernelspec": {
   "display_name": "Python 3",
   "language": "python",
   "name": "python3"
  },
  "language_info": {
   "codemirror_mode": {
    "name": "ipython",
    "version": 3
   },
   "file_extension": ".py",
   "mimetype": "text/x-python",
   "name": "python",
   "nbconvert_exporter": "python",
   "pygments_lexer": "ipython3",
   "version": "3.8.5"
  },
  "toc": {
   "base_numbering": 1,
   "nav_menu": {},
   "number_sections": true,
   "sideBar": true,
   "skip_h1_title": true,
   "title_cell": "Table of Contents",
   "title_sidebar": "Contents",
   "toc_cell": true,
   "toc_position": {},
   "toc_section_display": true,
   "toc_window_display": true
  },
  "vscode": {
   "interpreter": {
    "hash": "5d0773dc45e137a3175e4dfe108602b0e3fa5532889946862bf5514e2ab4927a"
   }
  }
 },
 "nbformat": 4,
 "nbformat_minor": 2
}
