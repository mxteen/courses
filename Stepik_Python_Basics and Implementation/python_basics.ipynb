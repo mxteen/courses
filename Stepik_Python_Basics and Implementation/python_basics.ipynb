{
 "cells": [
  {
   "cell_type": "markdown",
   "metadata": {
    "toc": true
   },
   "source": [
    "<h1>Table of Contents<span class=\"tocSkip\"></span></h1>\n",
    "<div class=\"toc\"><ul class=\"toc-item\"><li><span><a href=\"#Модель-данных:-объекты\" data-toc-modified-id=\"Модель-данных:-объекты-1\"><span class=\"toc-item-num\">1&nbsp;&nbsp;</span>Модель данных: объекты</a></span><ul class=\"toc-item\"><li><span><a href=\"#Идентификаторы-и-оператор-присваивания\" data-toc-modified-id=\"Идентификаторы-и-оператор-присваивания-1.1\"><span class=\"toc-item-num\">1.1&nbsp;&nbsp;</span>Идентификаторы и оператор присваивания</a></span></li><li><span><a href=\"#Типы-объектов\" data-toc-modified-id=\"Типы-объектов-1.2\"><span class=\"toc-item-num\">1.2&nbsp;&nbsp;</span>Типы объектов</a></span></li></ul></li></ul></div>"
   ]
  },
  {
   "cell_type": "markdown",
   "metadata": {},
   "source": [
    "# Python: основы и применение\n",
    "https://stepik.org/course/512"
   ]
  },
  {
   "cell_type": "markdown",
   "metadata": {},
   "source": [
    "Реализуйте программу, которая принимает последовательность чисел и выводит их сумму.\n",
    "\n",
    "Вашей программе на вход подается последовательность строк.\n",
    "Первая строка содержит число n (1 ≤ n ≤ 100).\n",
    "В следующих n строках содержится по одному целому числу.\n",
    "\n",
    "Выведите одно число – сумму данных n чисел.\n",
    "\n",
    "Примечание:\n",
    "Чтобы считать одно число из стандартного потока ввода, можно использовать, например, следующий код"
   ]
  },
  {
   "cell_type": "code",
   "execution_count": 4,
   "metadata": {},
   "outputs": [
    {
     "name": "stdout",
     "output_type": "stream",
     "text": [
      "32\n"
     ]
    }
   ],
   "source": [
    "n = int(input())\n",
    "numbers  = [int(input()) for i in range(n)]\n",
    "print(sum(numbers))"
   ]
  },
  {
   "cell_type": "markdown",
   "metadata": {},
   "source": [
    "## Модель данных: объекты"
   ]
  },
  {
   "cell_type": "markdown",
   "metadata": {},
   "source": [
    "Объект - абстракция для данных. Если бы оперативная память компьютера была складом, то объектом мы бы назвали коробку. Объект - это некоторый конейнер в памяти, который содержит данные. *Все данные в Python представлены объектами и отношениями между объектами*. Всё в Python - объекты\n",
    "\n",
    "Что делает операор присваивания - запоминает соответствие между именем переменной из левой части и идентификатором из правой части"
   ]
  },
  {
   "cell_type": "markdown",
   "metadata": {},
   "source": [
    "### Идентификаторы и оператор присваивания"
   ]
  },
  {
   "cell_type": "code",
   "execution_count": 12,
   "metadata": {},
   "outputs": [
    {
     "name": "stdout",
     "output_type": "stream",
     "text": [
      "1882046349952\n",
      "0 sdf 1882046265328\n",
      "1 rthgfj 1882041001200\n",
      "2 ghkj 1882046263920\n"
     ]
    }
   ],
   "source": [
    "a = ['sdf', 'rthgfj', 'ghkj']\n",
    "print(id(a))\n",
    "for i, el in enumerate(a):\n",
    "    print(i, el, id(el))"
   ]
  },
  {
   "cell_type": "code",
   "execution_count": 21,
   "metadata": {},
   "outputs": [
    {
     "name": "stdout",
     "output_type": "stream",
     "text": [
      "1882046530240\n",
      "1882046367360\n"
     ]
    }
   ],
   "source": [
    "# Два разных объекта не могут имет два одинаковых идентификатора \n",
    "x = [1, 2, 3]\n",
    "print(id(x)) \n",
    "print(id([1, 2, 3]))"
   ]
  },
  {
   "cell_type": "code",
   "execution_count": 23,
   "metadata": {},
   "outputs": [
    {
     "data": {
      "text/plain": [
       "False"
      ]
     },
     "execution_count": 23,
     "metadata": {},
     "output_type": "execute_result"
    }
   ],
   "source": [
    "# Другой споосб проверки равнества идентификаторов\n",
    "x is [1, 2, 3]"
   ]
  },
  {
   "cell_type": "code",
   "execution_count": 22,
   "metadata": {},
   "outputs": [
    {
     "name": "stdout",
     "output_type": "stream",
     "text": [
      "1881954478384\n",
      "1881954478384\n",
      "True\n"
     ]
    }
   ],
   "source": [
    "c = 1\n",
    "d = c\n",
    "print(id(c), id(d), id(c) == id(d), sep='\\n')"
   ]
  },
  {
   "cell_type": "code",
   "execution_count": 19,
   "metadata": {},
   "outputs": [
    {
     "name": "stdout",
     "output_type": "stream",
     "text": [
      "1 4\n",
      "1881954478480 1881954478384 False\n"
     ]
    }
   ],
   "source": [
    "c = 4\n",
    "print(d, c)\n",
    "print(id(c), id(d), id(c) == id(d))"
   ]
  },
  {
   "cell_type": "code",
   "execution_count": 28,
   "metadata": {},
   "outputs": [
    {
     "name": "stdout",
     "output_type": "stream",
     "text": [
      "a: [1, 2, 3]\n",
      "True\n",
      "a: [1, 2, 9]\n",
      "b: [1, 2, 9]\n",
      "True\n"
     ]
    }
   ],
   "source": [
    "a = [1, 2, 3]\n",
    "print('a:', a)\n",
    "b = a\n",
    "print(a is b)\n",
    "# Изменим 1 элемент списка a\n",
    "a[2] = 9\n",
    "print('a:', a)\n",
    "# Этот же элемент изменится и в списке b, т.к. это один и тот же объект\n",
    "print('b:', a)\n",
    "print(a is b)"
   ]
  },
  {
   "cell_type": "markdown",
   "metadata": {},
   "source": [
    "### Типы объектов\n",
    "\n",
    "Тип определяет\n",
    "* поведение объекта;\n",
    "* возможные принимаемые значения.\n",
    "\n",
    "Тип объекта не меняется в течение жизни объекта.\n",
    "\n",
    "**Типы объектов**\n",
    "* Изменяемые (mutable)\n",
    "    * list\n",
    "    * set\n",
    "    * dict\n",
    "* Неизменяемые\n",
    "    * числа (int, float, complex)\n",
    "    * логический тип\n",
    "    * frozen set\n",
    "    * кортежи (tuple) \n",
    "    * строки (string)\n",
    "* Неизменяемые (immutable)"
   ]
  },
  {
   "cell_type": "code",
   "execution_count": 29,
   "metadata": {},
   "outputs": [
    {
     "data": {
      "text/plain": [
       "(list, int)"
      ]
     },
     "execution_count": 29,
     "metadata": {},
     "output_type": "execute_result"
    }
   ],
   "source": [
    "x = [1, 2, 3, 4]\n",
    "y =  4\n",
    "type(x), type(y)"
   ]
  },
  {
   "cell_type": "code",
   "execution_count": 33,
   "metadata": {},
   "outputs": [
    {
     "name": "stdout",
     "output_type": "stream",
     "text": [
      "(1, 2, 3, 4, 4)\n"
     ]
    },
    {
     "ename": "AttributeError",
     "evalue": "'tuple' object has no attribute 'append'",
     "output_type": "error",
     "traceback": [
      "\u001b[1;31m---------------------------------------------------------------------------\u001b[0m",
      "\u001b[1;31mAttributeError\u001b[0m                            Traceback (most recent call last)",
      "Cell \u001b[1;32mIn [33], line 4\u001b[0m\n\u001b[0;32m      2\u001b[0m x\u001b[39m.\u001b[39mappend(\u001b[39m4\u001b[39m)\n\u001b[0;32m      3\u001b[0m \u001b[39mprint\u001b[39m(b)\n\u001b[1;32m----> 4\u001b[0m b\u001b[39m.\u001b[39;49mappend(\u001b[39m5\u001b[39m)\n",
      "\u001b[1;31mAttributeError\u001b[0m: 'tuple' object has no attribute 'append'"
     ]
    }
   ],
   "source": [
    "b = tuple(x)\n",
    "x.append(4)\n",
    "print(b)\n",
    "b.append(5)"
   ]
  },
  {
   "cell_type": "code",
   "execution_count": 36,
   "metadata": {},
   "outputs": [
    {
     "name": "stdout",
     "output_type": "stream",
     "text": [
      "140706010789992 140706010789992 True\n"
     ]
    }
   ],
   "source": [
    "# Объекты неизменяемых типов при равенстве значений переменных ссылаются на одни те же созданные ранее объекты в памяти\n",
    "a = True\n",
    "b = True\n",
    "print(id(a), id(b), id(a) == id(b))"
   ]
  },
  {
   "cell_type": "code",
   "execution_count": 35,
   "metadata": {},
   "outputs": [
    {
     "name": "stdout",
     "output_type": "stream",
     "text": [
      "1881954478448 1881954478448 True\n"
     ]
    }
   ],
   "source": [
    "# То же\n",
    "a = 3\n",
    "print(id(a), id(3), id(a) == id(3))"
   ]
  },
  {
   "cell_type": "code",
   "execution_count": 37,
   "metadata": {},
   "outputs": [
    {
     "name": "stdout",
     "output_type": "stream",
     "text": [
      "1882047843584\n",
      "1882047655488\n",
      "1882047470208\n"
     ]
    }
   ],
   "source": [
    "# Для изменяемых типов данных каждый раз создаётс яновый объект\n",
    "a = []\n",
    "b = []\n",
    "c = []\n",
    "print(id(a), id(b), id(c), sep='\\n')"
   ]
  },
  {
   "cell_type": "markdown",
   "metadata": {},
   "source": [
    "Реализуйте программу, которая будет вычислять количество различных объектов в списке.\n",
    "Два объекта a и b считаются различными, если a is b равно False.\n",
    "\n",
    "Вашей программе доступна переменная с названием objects, которая ссылается на список, содержащий не более 100 объектов. Выведите количество различных объектов в этом списке.\n",
    "\n",
    "Формат ожидаемой программы:\n",
    "\n",
    "```Python\n",
    "    ans = 0\n",
    "    for obj in objects: # доступная переменная objects\n",
    "        ans += 1\n",
    "\n",
    "    print(ans)\n",
    "\n",
    "```\n",
    "\n",
    "\n",
    "Примечание:\n",
    "Количеством различных объектов называется максимальный размер множества объектов, в котором любые два объекта являются различными.\n",
    "\n",
    "Рассмотрим пример:\n",
    "```Python\n",
    "objects = [1, 2, 1, 2, 3] # будем считать, что одинаковые числа соответствуют одинаковым объектам, а различные – различным\n",
    "\n",
    "```\n",
    "\n",
    "\n",
    "Тогда все различные объекты являют собой множество {1, 2, 3}﻿. Таким образом, количество различных объектов равно трём."
   ]
  },
  {
   "cell_type": "code",
   "execution_count": 1,
   "metadata": {},
   "outputs": [
    {
     "name": "stdout",
     "output_type": "stream",
     "text": [
      "3\n"
     ]
    }
   ],
   "source": [
    "objects = [1, 2, 1, 2, 3] # будем считать, что одинаковые числа соответствуют одинаковым объектам, а различные – различным\n",
    "\n",
    "objects_set = set()\n",
    "for i in range (len(objects)):\n",
    "    objects_set.add(id(objects[i]))\n",
    "print(len(objects_set))"
   ]
  },
  {
   "cell_type": "code",
   "execution_count": 2,
   "metadata": {},
   "outputs": [
    {
     "name": "stdout",
     "output_type": "stream",
     "text": [
      "3\n"
     ]
    }
   ],
   "source": [
    "# то же, но в одну строку\n",
    "objects = [1, 2, 1, 2, 3] # будем считать, что одинаковые числа соответствуют одинаковым объектам, а различные – различным\n",
    "print(len(set(map(id, objects))))"
   ]
  },
  {
   "cell_type": "markdown",
   "metadata": {},
   "source": [
    "##  Функции и стек вызовов"
   ]
  },
  {
   "cell_type": "markdown",
   "metadata": {},
   "source": [
    "Зачем писать функции\n",
    "* для повторного импользования кода, который решает задачу;\n",
    "    * код становится короче и понятнее;\n",
    "    * уменьшается вероятность ошибки: достаточно 1 раз написать правильно функцию;\n",
    "* структурирование кода: код состоит из маленьких и понятных компонент;\n",
    "* скрытие деталей реализации кода для решеня задачи.\n"
   ]
  },
  {
   "cell_type": "code",
   "execution_count": 6,
   "metadata": {},
   "outputs": [],
   "source": [
    "def function_name(arg1, arg2):\n",
    "    return arg1 + arg2"
   ]
  },
  {
   "cell_type": "code",
   "execution_count": 9,
   "metadata": {},
   "outputs": [
    {
     "data": {
      "text/plain": [
       "2637762763360"
      ]
     },
     "execution_count": 9,
     "metadata": {},
     "output_type": "execute_result"
    }
   ],
   "source": [
    "# для функции в памяти создаётся объект и у него есть идентификатор\n",
    "id(function_name)"
   ]
  },
  {
   "cell_type": "code",
   "execution_count": 10,
   "metadata": {},
   "outputs": [
    {
     "data": {
      "text/plain": [
       "function"
      ]
     },
     "execution_count": 10,
     "metadata": {},
     "output_type": "execute_result"
    }
   ],
   "source": [
    "type(function_name)"
   ]
  },
  {
   "cell_type": "code",
   "execution_count": 13,
   "metadata": {},
   "outputs": [
    {
     "name": "stdout",
     "output_type": "stream",
     "text": [
      "9 16\n"
     ]
    }
   ],
   "source": [
    "x = function_name(4, 5)\n",
    "y = function_name(x, 7)\n",
    "print(x, y)"
   ]
  },
  {
   "cell_type": "code",
   "execution_count": 15,
   "metadata": {},
   "outputs": [
    {
     "name": "stdout",
     "output_type": "stream",
     "text": [
      "2637683976976\n",
      "2637683976976\n",
      "True\n"
     ]
    }
   ],
   "source": [
    "print(id(16), id(y), id(16) == id(y), sep='\\n') "
   ]
  },
  {
   "cell_type": "markdown",
   "metadata": {},
   "source": [
    "Объект функции хранит в себе\n",
    "* название функции;\n",
    "* аргументы, которые она принимает;\n",
    "* тело функции."
   ]
  },
  {
   "cell_type": "code",
   "execution_count": 16,
   "metadata": {},
   "outputs": [],
   "source": [
    "def list_sum(lst):\n",
    "    result = 0\n",
    "    for element in lst:\n",
    "        result += element\n",
    "    return result\n",
    "\n",
    "def sum(a, b):\n",
    "    return a + b"
   ]
  },
  {
   "cell_type": "code",
   "execution_count": 17,
   "metadata": {},
   "outputs": [
    {
     "data": {
      "text/plain": [
       "(43, 6)"
      ]
     },
     "execution_count": 17,
     "metadata": {},
     "output_type": "execute_result"
    }
   ],
   "source": [
    "y = sum(14, 29)\n",
    "z = list_sum([1, 2, 3])\n",
    "y, z"
   ]
  },
  {
   "cell_type": "markdown",
   "metadata": {},
   "source": [
    "Создавая и выполняя даже маленькую функцию, мы моджем создавать и завдействовть множество объектов в оперативной памяти. Нужно быть аккуратным - можно засорить оперативку."
   ]
  },
  {
   "cell_type": "markdown",
   "metadata": {},
   "source": [
    "Стек вызовов = машинный стек = стек исполнения. Когды мы вызываем функцию, мы \"кладём её на стек\", когда исполнение функции завершено, мы её со стека снимаем. Интерпритатор выполняет самую \"верхнюю\" функцию на стеке.\n",
    "\n",
    "Стек - достаточно простая структура аданных и легко реализуемая в оперативной памяти."
   ]
  },
  {
   "cell_type": "code",
   "execution_count": 19,
   "metadata": {},
   "outputs": [
    {
     "name": "stdout",
     "output_type": "stream",
     "text": [
      "Something outside of any function\n",
      "Function f\n",
      "Function g\n",
      "Function f\n",
      "Something outside of any function\n"
     ]
    }
   ],
   "source": [
    "# Стек вызовов\n",
    "def g():\n",
    "    print('Function g')\n",
    "\n",
    "def f():\n",
    "    print('Function f')\n",
    "    g()\n",
    "    print('Function f')\n",
    "\n",
    "print('Something outside of any function')\n",
    "f()\n",
    "print('Something outside of any function')"
   ]
  },
  {
   "cell_type": "markdown",
   "metadata": {},
   "source": [
    "В процессе выполнения кода на стек добавляются и со стека снимаются функции. Добавление функции на стек увеличивает его размер на 1, снятие функции со стека уменьшает его размер на 1.\n",
    "\n",
    "Чему равен максимальный размер стека в процессе выполнения следующего кода?\n",
    "Обратите внимание, что при интерпретации кода на стеке находится функция module, которую также нужно учесть при подсчете размера стека.\n",
    "В рамках данного задания можно считать, что функция print ﻿не вызывает дополнительных функций внутри себя."
   ]
  },
  {
   "cell_type": "code",
   "execution_count": 23,
   "metadata": {},
   "outputs": [
    {
     "name": "stdout",
     "output_type": "stream",
     "text": [
      "12\n"
     ]
    }
   ],
   "source": [
    "def h():\n",
    "  print(12)\n",
    "\n",
    "def f():\n",
    "  g(h)\n",
    "\n",
    "def g(a):\n",
    "  a()\n",
    "\n",
    "g(f)"
   ]
  },
  {
   "cell_type": "code",
   "execution_count": 28,
   "metadata": {},
   "outputs": [
    {
     "data": {
      "text/plain": [
       "6"
      ]
     },
     "execution_count": 28,
     "metadata": {},
     "output_type": "execute_result"
    }
   ],
   "source": [
    "len(['module', 'g(f)', 'f(g)', 'g(h)', 'h()', 'print()'])"
   ]
  },
  {
   "cell_type": "code",
   "execution_count": 30,
   "metadata": {},
   "outputs": [
    {
     "name": "stdout",
     "output_type": "stream",
     "text": [
      "12\n",
      "stack_num: 6\n"
     ]
    }
   ],
   "source": [
    "global stack_num\n",
    "\n",
    "# Принмиаем во внимание функцию module\n",
    "stack_num = 1\n",
    "\n",
    "def h():\n",
    "    global stack_num\n",
    "    stack_num += 1\n",
    "    print(12)\n",
    "\n",
    "def f():\n",
    "    global stack_num\n",
    "    stack_num += 1\n",
    "    g(h)\n",
    "\n",
    "def g(a):\n",
    "    global stack_num\n",
    "    stack_num += 1\n",
    "    a()\n",
    "\n",
    "stack_num += 1\n",
    "g(f)\n",
    "\n",
    "print('stack_num:', stack_num)"
   ]
  },
  {
   "cell_type": "markdown",
   "metadata": {},
   "source": []
  }
 ],
 "metadata": {
  "kernelspec": {
   "display_name": "Python 3",
   "language": "python",
   "name": "python3"
  },
  "language_info": {
   "codemirror_mode": {
    "name": "ipython",
    "version": 3
   },
   "file_extension": ".py",
   "mimetype": "text/x-python",
   "name": "python",
   "nbconvert_exporter": "python",
   "pygments_lexer": "ipython3",
   "version": "3.9.5"
  },
  "toc": {
   "base_numbering": 1,
   "nav_menu": {},
   "number_sections": true,
   "sideBar": true,
   "skip_h1_title": true,
   "title_cell": "Table of Contents",
   "title_sidebar": "Contents",
   "toc_cell": true,
   "toc_position": {},
   "toc_section_display": true,
   "toc_window_display": true
  },
  "vscode": {
   "interpreter": {
    "hash": "5d0773dc45e137a3175e4dfe108602b0e3fa5532889946862bf5514e2ab4927a"
   }
  }
 },
 "nbformat": 4,
 "nbformat_minor": 2
}
