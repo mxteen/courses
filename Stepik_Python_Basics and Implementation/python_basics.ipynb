{
 "cells": [
  {
   "cell_type": "markdown",
   "metadata": {
    "toc": true
   },
   "source": [
    "<h1>Table of Contents<span class=\"tocSkip\"></span></h1>\n",
    "<div class=\"toc\"><ul class=\"toc-item\"><li><span><a href=\"#Модель-данных:-объекты\" data-toc-modified-id=\"Модель-данных:-объекты-1\"><span class=\"toc-item-num\">1&nbsp;&nbsp;</span>Модель данных: объекты</a></span><ul class=\"toc-item\"><li><span><a href=\"#Идентификаторы-и-оператор-присваивания\" data-toc-modified-id=\"Идентификаторы-и-оператор-присваивания-1.1\"><span class=\"toc-item-num\">1.1&nbsp;&nbsp;</span>Идентификаторы и оператор присваивания</a></span></li><li><span><a href=\"#Типы-объектов\" data-toc-modified-id=\"Типы-объектов-1.2\"><span class=\"toc-item-num\">1.2&nbsp;&nbsp;</span>Типы объектов</a></span></li></ul></li><li><span><a href=\"#Функции-и-стек-вызовов\" data-toc-modified-id=\"Функции-и-стек-вызовов-2\"><span class=\"toc-item-num\">2&nbsp;&nbsp;</span>Функции и стек вызовов</a></span><ul class=\"toc-item\"><li><span><a href=\"#Зачем-писать-функции\" data-toc-modified-id=\"Зачем-писать-функции-2.1\"><span class=\"toc-item-num\">2.1&nbsp;&nbsp;</span>Зачем писать функции</a></span></li><li><span><a href=\"#Что-внутри-объекта-функции\" data-toc-modified-id=\"Что-внутри-объекта-функции-2.2\"><span class=\"toc-item-num\">2.2&nbsp;&nbsp;</span>Что внутри объекта функции</a></span></li><li><span><a href=\"#Стек-вызовов\" data-toc-modified-id=\"Стек-вызовов-2.3\"><span class=\"toc-item-num\">2.3&nbsp;&nbsp;</span>Стек вызовов</a></span></li><li><span><a href=\"#Упражнение\" data-toc-modified-id=\"Упражнение-2.4\"><span class=\"toc-item-num\">2.4&nbsp;&nbsp;</span>Упражнение</a></span></li><li><span><a href=\"#Способы-передачи-аргументов-в-функцию\" data-toc-modified-id=\"Способы-передачи-аргументов-в-функцию-2.5\"><span class=\"toc-item-num\">2.5&nbsp;&nbsp;</span>Способы передачи аргументов в функцию</a></span></li><li><span><a href=\"#Аргументы,-заданные-по-умолчанию\" data-toc-modified-id=\"Аргументы,-заданные-по-умолчанию-2.6\"><span class=\"toc-item-num\">2.6&nbsp;&nbsp;</span>Аргументы, заданные по умолчанию</a></span></li><li><span><a href=\"#Задание-неопределённого-числа-аргументов\" data-toc-modified-id=\"Задание-неопределённого-числа-аргументов-2.7\"><span class=\"toc-item-num\">2.7&nbsp;&nbsp;</span>Задание неопределённого числа аргументов</a></span></li><li><span><a href=\"#Рекурсивные-функции\" data-toc-modified-id=\"Рекурсивные-функции-2.8\"><span class=\"toc-item-num\">2.8&nbsp;&nbsp;</span>Рекурсивные функции</a></span></li></ul></li><li><span><a href=\"#Пространства-имён-и-области-видимости\" data-toc-modified-id=\"Пространства-имён-и-области-видимости-3\"><span class=\"toc-item-num\">3&nbsp;&nbsp;</span>Пространства имён и области видимости</a></span></li><li><span><a href=\"#Классы\" data-toc-modified-id=\"Классы-4\"><span class=\"toc-item-num\">4&nbsp;&nbsp;</span>Классы</a></span><ul class=\"toc-item\"><li><span><a href=\"#Введение-в-классы\" data-toc-modified-id=\"Введение-в-классы-4.1\"><span class=\"toc-item-num\">4.1&nbsp;&nbsp;</span>Введение в классы</a></span></li><li><span><a href=\"#Конструктор-класса\" data-toc-modified-id=\"Конструктор-класса-4.2\"><span class=\"toc-item-num\">4.2&nbsp;&nbsp;</span>Конструктор класса</a></span></li><li><span><a href=\"#Методы\" data-toc-modified-id=\"Методы-4.3\"><span class=\"toc-item-num\">4.3&nbsp;&nbsp;</span>Методы</a></span></li><li><span><a href=\"#Атрибуты-класса\" data-toc-modified-id=\"Атрибуты-класса-4.4\"><span class=\"toc-item-num\">4.4&nbsp;&nbsp;</span>Атрибуты класса</a></span></li><li><span><a href=\"#Наследование-классов\" data-toc-modified-id=\"Наследование-классов-4.5\"><span class=\"toc-item-num\">4.5&nbsp;&nbsp;</span>Наследование классов</a></span></li></ul></li></ul></div>"
   ]
  },
  {
   "cell_type": "markdown",
   "metadata": {},
   "source": [
    "# Python: основы и применение\n",
    "https://stepik.org/course/512"
   ]
  },
  {
   "cell_type": "markdown",
   "metadata": {},
   "source": [
    "Реализуйте программу, которая принимает последовательность чисел и выводит их сумму.\n",
    "\n",
    "Вашей программе на вход подается последовательность строк.\n",
    "Первая строка содержит число n (1 ≤ n ≤ 100).\n",
    "В следующих n строках содержится по одному целому числу.\n",
    "\n",
    "Выведите одно число – сумму данных n чисел.\n",
    "\n",
    "Примечание:\n",
    "Чтобы считать одно число из стандартного потока ввода, можно использовать, например, следующий код"
   ]
  },
  {
   "cell_type": "code",
   "execution_count": 4,
   "metadata": {},
   "outputs": [
    {
     "name": "stdout",
     "output_type": "stream",
     "text": [
      "32\n"
     ]
    }
   ],
   "source": [
    "n = int(input())\n",
    "numbers  = [int(input()) for i in range(n)]\n",
    "print(sum(numbers))"
   ]
  },
  {
   "cell_type": "markdown",
   "metadata": {},
   "source": [
    "## Модель данных: объекты"
   ]
  },
  {
   "cell_type": "markdown",
   "metadata": {},
   "source": [
    "Объект - абстракция для данных. Если бы оперативная память компьютера была складом, то объектом мы бы назвали коробку. Объект - это некоторый конейнер в памяти, который содержит данные. *Все данные в Python представлены объектами и отношениями между объектами*. Всё в Python - объекты\n",
    "\n",
    "Что делает операор присваивания - запоминает соответствие между именем переменной из левой части и идентификатором из правой части"
   ]
  },
  {
   "cell_type": "markdown",
   "metadata": {},
   "source": [
    "### Идентификаторы и оператор присваивания"
   ]
  },
  {
   "cell_type": "code",
   "execution_count": 12,
   "metadata": {},
   "outputs": [
    {
     "name": "stdout",
     "output_type": "stream",
     "text": [
      "1882046349952\n",
      "0 sdf 1882046265328\n",
      "1 rthgfj 1882041001200\n",
      "2 ghkj 1882046263920\n"
     ]
    }
   ],
   "source": [
    "a = ['sdf', 'rthgfj', 'ghkj']\n",
    "print(id(a))\n",
    "for i, el in enumerate(a):\n",
    "    print(i, el, id(el))"
   ]
  },
  {
   "cell_type": "code",
   "execution_count": 21,
   "metadata": {},
   "outputs": [
    {
     "name": "stdout",
     "output_type": "stream",
     "text": [
      "1882046530240\n",
      "1882046367360\n"
     ]
    }
   ],
   "source": [
    "# Два разных объекта не могут имет два одинаковых идентификатора \n",
    "x = [1, 2, 3]\n",
    "print(id(x)) \n",
    "print(id([1, 2, 3]))"
   ]
  },
  {
   "cell_type": "code",
   "execution_count": 23,
   "metadata": {},
   "outputs": [
    {
     "data": {
      "text/plain": [
       "False"
      ]
     },
     "execution_count": 23,
     "metadata": {},
     "output_type": "execute_result"
    }
   ],
   "source": [
    "# Другой споосб проверки равнества идентификаторов\n",
    "x is [1, 2, 3]"
   ]
  },
  {
   "cell_type": "code",
   "execution_count": 22,
   "metadata": {},
   "outputs": [
    {
     "name": "stdout",
     "output_type": "stream",
     "text": [
      "1881954478384\n",
      "1881954478384\n",
      "True\n"
     ]
    }
   ],
   "source": [
    "c = 1\n",
    "d = c\n",
    "print(id(c), id(d), id(c) == id(d), sep='\\n')"
   ]
  },
  {
   "cell_type": "code",
   "execution_count": 19,
   "metadata": {},
   "outputs": [
    {
     "name": "stdout",
     "output_type": "stream",
     "text": [
      "1 4\n",
      "1881954478480 1881954478384 False\n"
     ]
    }
   ],
   "source": [
    "c = 4\n",
    "print(d, c)\n",
    "print(id(c), id(d), id(c) == id(d))"
   ]
  },
  {
   "cell_type": "code",
   "execution_count": 28,
   "metadata": {},
   "outputs": [
    {
     "name": "stdout",
     "output_type": "stream",
     "text": [
      "a: [1, 2, 3]\n",
      "True\n",
      "a: [1, 2, 9]\n",
      "b: [1, 2, 9]\n",
      "True\n"
     ]
    }
   ],
   "source": [
    "a = [1, 2, 3]\n",
    "print('a:', a)\n",
    "b = a\n",
    "print(a is b)\n",
    "# Изменим 1 элемент списка a\n",
    "a[2] = 9\n",
    "print('a:', a)\n",
    "# Этот же элемент изменится и в списке b, т.к. это один и тот же объект\n",
    "print('b:', a)\n",
    "print(a is b)"
   ]
  },
  {
   "cell_type": "markdown",
   "metadata": {},
   "source": [
    "### Типы объектов\n",
    "\n",
    "Тип определяет\n",
    "* поведение объекта;\n",
    "* возможные принимаемые значения.\n",
    "\n",
    "Тип объекта не меняется в течение жизни объекта.\n",
    "\n",
    "**Типы объектов**\n",
    "* Изменяемые (mutable)\n",
    "    * list\n",
    "    * set\n",
    "    * dict\n",
    "* Неизменяемые\n",
    "    * числа (int, float, complex)\n",
    "    * логический тип\n",
    "    * frozen set\n",
    "    * кортежи (tuple) \n",
    "    * строки (string)\n",
    "* Неизменяемые (immutable)"
   ]
  },
  {
   "cell_type": "code",
   "execution_count": 29,
   "metadata": {},
   "outputs": [
    {
     "data": {
      "text/plain": [
       "(list, int)"
      ]
     },
     "execution_count": 29,
     "metadata": {},
     "output_type": "execute_result"
    }
   ],
   "source": [
    "x = [1, 2, 3, 4]\n",
    "y =  4\n",
    "type(x), type(y)"
   ]
  },
  {
   "cell_type": "code",
   "execution_count": 33,
   "metadata": {},
   "outputs": [
    {
     "name": "stdout",
     "output_type": "stream",
     "text": [
      "(1, 2, 3, 4, 4)\n"
     ]
    },
    {
     "ename": "AttributeError",
     "evalue": "'tuple' object has no attribute 'append'",
     "output_type": "error",
     "traceback": [
      "\u001b[1;31m---------------------------------------------------------------------------\u001b[0m",
      "\u001b[1;31mAttributeError\u001b[0m                            Traceback (most recent call last)",
      "Cell \u001b[1;32mIn [33], line 4\u001b[0m\n\u001b[0;32m      2\u001b[0m x\u001b[39m.\u001b[39mappend(\u001b[39m4\u001b[39m)\n\u001b[0;32m      3\u001b[0m \u001b[39mprint\u001b[39m(b)\n\u001b[1;32m----> 4\u001b[0m b\u001b[39m.\u001b[39;49mappend(\u001b[39m5\u001b[39m)\n",
      "\u001b[1;31mAttributeError\u001b[0m: 'tuple' object has no attribute 'append'"
     ]
    }
   ],
   "source": [
    "b = tuple(x)\n",
    "x.append(4)\n",
    "print(b)\n",
    "b.append(5)"
   ]
  },
  {
   "cell_type": "code",
   "execution_count": 36,
   "metadata": {},
   "outputs": [
    {
     "name": "stdout",
     "output_type": "stream",
     "text": [
      "140706010789992 140706010789992 True\n"
     ]
    }
   ],
   "source": [
    "# Объекты неизменяемых типов при равенстве значений переменных ссылаются на одни те же созданные ранее объекты в памяти\n",
    "a = True\n",
    "b = True\n",
    "print(id(a), id(b), id(a) == id(b))"
   ]
  },
  {
   "cell_type": "code",
   "execution_count": 35,
   "metadata": {},
   "outputs": [
    {
     "name": "stdout",
     "output_type": "stream",
     "text": [
      "1881954478448 1881954478448 True\n"
     ]
    }
   ],
   "source": [
    "# То же\n",
    "a = 3\n",
    "print(id(a), id(3), id(a) == id(3))"
   ]
  },
  {
   "cell_type": "code",
   "execution_count": 37,
   "metadata": {},
   "outputs": [
    {
     "name": "stdout",
     "output_type": "stream",
     "text": [
      "1882047843584\n",
      "1882047655488\n",
      "1882047470208\n"
     ]
    }
   ],
   "source": [
    "# Для изменяемых типов данных каждый раз создаётс яновый объект\n",
    "a = []\n",
    "b = []\n",
    "c = []\n",
    "print(id(a), id(b), id(c), sep='\\n')"
   ]
  },
  {
   "cell_type": "markdown",
   "metadata": {},
   "source": [
    "Реализуйте программу, которая будет вычислять количество различных объектов в списке.\n",
    "Два объекта a и b считаются различными, если a is b равно False.\n",
    "\n",
    "Вашей программе доступна переменная с названием objects, которая ссылается на список, содержащий не более 100 объектов. Выведите количество различных объектов в этом списке.\n",
    "\n",
    "Формат ожидаемой программы:\n",
    "\n",
    "```Python\n",
    "    ans = 0\n",
    "    for obj in objects: # доступная переменная objects\n",
    "        ans += 1\n",
    "\n",
    "    print(ans)\n",
    "\n",
    "```\n",
    "\n",
    "\n",
    "Примечание:\n",
    "Количеством различных объектов называется максимальный размер множества объектов, в котором любые два объекта являются различными.\n",
    "\n",
    "Рассмотрим пример:\n",
    "```Python\n",
    "objects = [1, 2, 1, 2, 3] # будем считать, что одинаковые числа соответствуют одинаковым объектам, а различные – различным\n",
    "\n",
    "```\n",
    "\n",
    "\n",
    "Тогда все различные объекты являют собой множество {1, 2, 3}﻿. Таким образом, количество различных объектов равно трём."
   ]
  },
  {
   "cell_type": "code",
   "execution_count": 1,
   "metadata": {},
   "outputs": [
    {
     "name": "stdout",
     "output_type": "stream",
     "text": [
      "3\n"
     ]
    }
   ],
   "source": [
    "objects = [1, 2, 1, 2, 3] # будем считать, что одинаковые числа соответствуют одинаковым объектам, а различные – различным\n",
    "\n",
    "objects_set = set()\n",
    "for i in range (len(objects)):\n",
    "    objects_set.add(id(objects[i]))\n",
    "print(len(objects_set))"
   ]
  },
  {
   "cell_type": "code",
   "execution_count": 2,
   "metadata": {},
   "outputs": [
    {
     "name": "stdout",
     "output_type": "stream",
     "text": [
      "3\n"
     ]
    }
   ],
   "source": [
    "# то же, но в одну строку\n",
    "objects = [1, 2, 1, 2, 3] # будем считать, что одинаковые числа соответствуют одинаковым объектам, а различные – различным\n",
    "print(len(set(map(id, objects))))"
   ]
  },
  {
   "cell_type": "markdown",
   "metadata": {},
   "source": [
    "##  Функции и стек вызовов"
   ]
  },
  {
   "cell_type": "markdown",
   "metadata": {},
   "source": [
    "### Зачем писать функции\n",
    "* для повторного использования кода, который решает задачу;\n",
    "    * код становится короче и понятнее;\n",
    "    * уменьшается вероятность ошибки: достаточно 1 раз написать правильно функцию;\n",
    "* структурирование кода: код состоит из маленьких и понятных компонент;\n",
    "* скрытие деталей реализации кода.\n",
    "\n",
    "\n",
    "Тело функции исполняется не тогда, когда мы её определяем, а тогда, когда мы её вызываем."
   ]
  },
  {
   "cell_type": "code",
   "execution_count": 6,
   "metadata": {},
   "outputs": [],
   "source": [
    "def function_name(arg1, arg2):\n",
    "    return arg1 + arg2"
   ]
  },
  {
   "cell_type": "code",
   "execution_count": 9,
   "metadata": {},
   "outputs": [
    {
     "data": {
      "text/plain": [
       "2637762763360"
      ]
     },
     "execution_count": 9,
     "metadata": {},
     "output_type": "execute_result"
    }
   ],
   "source": [
    "# для функции в памяти создаётся объект и у него есть идентификатор\n",
    "id(function_name)"
   ]
  },
  {
   "cell_type": "code",
   "execution_count": 10,
   "metadata": {},
   "outputs": [
    {
     "data": {
      "text/plain": [
       "function"
      ]
     },
     "execution_count": 10,
     "metadata": {},
     "output_type": "execute_result"
    }
   ],
   "source": [
    "type(function_name)"
   ]
  },
  {
   "cell_type": "code",
   "execution_count": 13,
   "metadata": {},
   "outputs": [
    {
     "name": "stdout",
     "output_type": "stream",
     "text": [
      "9 16\n"
     ]
    }
   ],
   "source": [
    "x = function_name(4, 5)\n",
    "y = function_name(x, 7)\n",
    "print(x, y)"
   ]
  },
  {
   "cell_type": "code",
   "execution_count": 15,
   "metadata": {},
   "outputs": [
    {
     "name": "stdout",
     "output_type": "stream",
     "text": [
      "2637683976976\n",
      "2637683976976\n",
      "True\n"
     ]
    }
   ],
   "source": [
    "print(id(16), id(y), id(16) == id(y), sep='\\n') "
   ]
  },
  {
   "cell_type": "markdown",
   "metadata": {},
   "source": [
    "### Что внутри объекта функции\n",
    "\n",
    "Объект функции хранит в себе\n",
    "* название функции;\n",
    "* аргументы, которые она принимает;\n",
    "* тело функции."
   ]
  },
  {
   "cell_type": "code",
   "execution_count": 16,
   "metadata": {},
   "outputs": [],
   "source": [
    "def list_sum(lst):\n",
    "    result = 0\n",
    "    for element in lst:\n",
    "        result += element\n",
    "    return result\n",
    "\n",
    "def sum(a, b):\n",
    "    return a + b"
   ]
  },
  {
   "cell_type": "code",
   "execution_count": 17,
   "metadata": {},
   "outputs": [
    {
     "data": {
      "text/plain": [
       "(43, 6)"
      ]
     },
     "execution_count": 17,
     "metadata": {},
     "output_type": "execute_result"
    }
   ],
   "source": [
    "y = sum(14, 29)\n",
    "z = list_sum([1, 2, 3])\n",
    "y, z"
   ]
  },
  {
   "cell_type": "markdown",
   "metadata": {},
   "source": [
    "### Стек вызовов\n",
    "Создавая и выполняя даже маленькую функцию, мы моджем создавать и задействовть множество объектов в оперативной памяти. Нужно быть аккуратным - можно засорить оперативку."
   ]
  },
  {
   "cell_type": "markdown",
   "metadata": {},
   "source": [
    "Стек вызовов = машинный стек = стек исполнения. Когды мы вызываем функцию, мы \"кладём её на стек\", когда исполнение функции завершено, мы её со стека снимаем. Интерпритатор выполняет самую \"верхнюю\" функцию на стеке.\n",
    "\n",
    "Стек - достаточно простая структура аданных и легко реализуемая в оперативной памяти."
   ]
  },
  {
   "cell_type": "code",
   "execution_count": 19,
   "metadata": {},
   "outputs": [
    {
     "name": "stdout",
     "output_type": "stream",
     "text": [
      "Something outside of any function\n",
      "Function f\n",
      "Function g\n",
      "Function f\n",
      "Something outside of any function\n"
     ]
    }
   ],
   "source": [
    "# Стек вызовов\n",
    "def g():\n",
    "    print('Function g')\n",
    "\n",
    "def f():\n",
    "    print('Function f')\n",
    "    g()\n",
    "    print('Function f')\n",
    "\n",
    "print('Something outside of any function')\n",
    "f()\n",
    "print('Something outside of any function')"
   ]
  },
  {
   "cell_type": "markdown",
   "metadata": {},
   "source": [
    "В процессе выполнения кода на стек добавляются и со стека снимаются функции. Добавление функции на стек увеличивает его размер на 1, снятие функции со стека уменьшает его размер на 1.\n",
    "\n",
    "Чему равен максимальный размер стека в процессе выполнения следующего кода?\n",
    "Обратите внимание, что при интерпретации кода на стеке находится функция module, которую также нужно учесть при подсчете размера стека.\n",
    "В рамках данного задания можно считать, что функция print ﻿не вызывает дополнительных функций внутри себя."
   ]
  },
  {
   "cell_type": "code",
   "execution_count": 23,
   "metadata": {},
   "outputs": [
    {
     "name": "stdout",
     "output_type": "stream",
     "text": [
      "12\n"
     ]
    }
   ],
   "source": [
    "def h():\n",
    "  print(12)\n",
    "\n",
    "def f():\n",
    "  g(h)\n",
    "\n",
    "def g(a):\n",
    "  a()\n",
    "\n",
    "g(f)"
   ]
  },
  {
   "cell_type": "code",
   "execution_count": 28,
   "metadata": {},
   "outputs": [
    {
     "data": {
      "text/plain": [
       "6"
      ]
     },
     "execution_count": 28,
     "metadata": {},
     "output_type": "execute_result"
    }
   ],
   "source": [
    "len(['module', 'g(f)', 'f(g)', 'g(h)', 'h()', 'print()'])"
   ]
  },
  {
   "cell_type": "code",
   "execution_count": 30,
   "metadata": {},
   "outputs": [
    {
     "name": "stdout",
     "output_type": "stream",
     "text": [
      "12\n",
      "stack_num: 6\n"
     ]
    }
   ],
   "source": [
    "global stack_num\n",
    "\n",
    "# Принмиаем во внимание функцию module\n",
    "stack_num = 1\n",
    "\n",
    "def h():\n",
    "    global stack_num\n",
    "    stack_num += 1\n",
    "    print(12)\n",
    "\n",
    "def f():\n",
    "    global stack_num\n",
    "    stack_num += 1\n",
    "    g(h)\n",
    "\n",
    "def g(a):\n",
    "    global stack_num\n",
    "    stack_num += 1\n",
    "    a()\n",
    "\n",
    "stack_num += 1\n",
    "g(f)\n",
    "\n",
    "print('stack_num:', stack_num)"
   ]
  },
  {
   "cell_type": "markdown",
   "metadata": {},
   "source": [
    "### Упражнение\n",
    "Напишите реализацию функции closest_mod_5, принимающую в качестве единственного аргумента целое число x и возвращающую самое маленькое целое число y, такое что:\n",
    "* y больше или равно x;\n",
    "* y делится нацело на 5."
   ]
  },
  {
   "cell_type": "code",
   "execution_count": 1,
   "metadata": {},
   "outputs": [],
   "source": [
    "def closest_mod_5(x):\n",
    "    while (x % 5 != 0):\n",
    "        x+=1\n",
    "    return(x)\n"
   ]
  },
  {
   "cell_type": "code",
   "execution_count": 2,
   "metadata": {},
   "outputs": [
    {
     "name": "stdout",
     "output_type": "stream",
     "text": [
      "0 0\n",
      "1 5\n",
      "2 5\n",
      "3 5\n",
      "4 5\n",
      "5 5\n",
      "6 10\n",
      "7 10\n",
      "8 10\n",
      "9 10\n"
     ]
    }
   ],
   "source": [
    "for x in range(10):\n",
    "    print(x, closest_mod_5(x))"
   ]
  },
  {
   "cell_type": "markdown",
   "metadata": {},
   "source": [
    "### Способы передачи аргументов в функцию\n",
    "Способы передачи аргументов в функцию:\n",
    "1. по позиции;\n",
    "2. по имени."
   ]
  },
  {
   "cell_type": "code",
   "execution_count": 5,
   "metadata": {},
   "outputs": [],
   "source": [
    "def print_ab(a, b):\n",
    "    print(a)\n",
    "    print(b)"
   ]
  },
  {
   "cell_type": "code",
   "execution_count": 6,
   "metadata": {},
   "outputs": [
    {
     "name": "stdout",
     "output_type": "stream",
     "text": [
      "10\n",
      "5\n"
     ]
    }
   ],
   "source": [
    "# позиционные аругменты\n",
    "print_ab(10, 5)"
   ]
  },
  {
   "cell_type": "code",
   "execution_count": 8,
   "metadata": {},
   "outputs": [
    {
     "name": "stdout",
     "output_type": "stream",
     "text": [
      "10\n",
      "5\n",
      "10\n",
      "5\n"
     ]
    }
   ],
   "source": [
    "# именованные аргументы\n",
    "print_ab(a=10, b=5)\n",
    "\n",
    "# для именованных аруоментов порядок неважен\n",
    "print_ab(b=5, a=10)"
   ]
  },
  {
   "cell_type": "code",
   "execution_count": 9,
   "metadata": {},
   "outputs": [
    {
     "name": "stdout",
     "output_type": "stream",
     "text": [
      "10\n",
      "5\n"
     ]
    }
   ],
   "source": [
    "# совмещение подходов\n",
    "# сначала необходимо передать позиционные аргументы, а затем именованные\n",
    "print_ab(10, b=5)"
   ]
  },
  {
   "cell_type": "code",
   "execution_count": 10,
   "metadata": {},
   "outputs": [
    {
     "name": "stdout",
     "output_type": "stream",
     "text": [
      "10\n",
      "5\n"
     ]
    }
   ],
   "source": [
    "# способ передачи позиционных аргументов в виле списка\n",
    "lst = [10, 5]\n",
    "print_ab(*lst)"
   ]
  },
  {
   "cell_type": "code",
   "execution_count": 12,
   "metadata": {},
   "outputs": [
    {
     "name": "stdout",
     "output_type": "stream",
     "text": [
      "10\n",
      "5\n"
     ]
    }
   ],
   "source": [
    "# способ передачи именованных аргументов в виде словаря\n",
    "args = {'b': 5, 'a': 10}\n",
    "print_ab(**args)"
   ]
  },
  {
   "cell_type": "markdown",
   "metadata": {},
   "source": [
    "### Аргументы, заданные по умолчанию"
   ]
  },
  {
   "cell_type": "code",
   "execution_count": 14,
   "metadata": {},
   "outputs": [],
   "source": [
    "# Аргументы, заданные по умолчанию, должны следовать за позиционными аргументами\n",
    "def print_ab(a, b=3):\n",
    "    print(a)\n",
    "    print(b)"
   ]
  },
  {
   "cell_type": "code",
   "execution_count": 15,
   "metadata": {},
   "outputs": [
    {
     "name": "stdout",
     "output_type": "stream",
     "text": [
      "6\n",
      "3\n"
     ]
    }
   ],
   "source": [
    "print_ab(6)"
   ]
  },
  {
   "cell_type": "code",
   "execution_count": 16,
   "metadata": {},
   "outputs": [
    {
     "name": "stdout",
     "output_type": "stream",
     "text": [
      "5\n",
      "18\n"
     ]
    }
   ],
   "source": [
    "print_ab(5, 18)"
   ]
  },
  {
   "cell_type": "markdown",
   "metadata": {},
   "source": [
    "### Задание неопределённого числа аргументов\n"
   ]
  },
  {
   "cell_type": "code",
   "execution_count": 8,
   "metadata": {},
   "outputs": [],
   "source": [
    "def print_ab(a, b, *args):\n",
    "    print('Позиционый аргумент a:', a)\n",
    "    print('Позиционый аргумент b:', b)\n",
    "    print('Дополнительные аргументы:')\n",
    "    for arg in args:\n",
    "        print(arg)\n",
    "    print('Кортеж args с дополнительными аргументами:', args)\n"
   ]
  },
  {
   "cell_type": "code",
   "execution_count": 9,
   "metadata": {},
   "outputs": [
    {
     "name": "stdout",
     "output_type": "stream",
     "text": [
      "Позиционый аргумент a: 1\n",
      "Позиционый аргумент b: 2\n",
      "Дополнительные аргументы:\n",
      "3\n",
      "4\n",
      "5\n",
      "6\n",
      "7\n",
      "8\n",
      "9\n",
      "Кортеж args с дополнительными аргументами: (3, 4, 5, 6, 7, 8, 9)\n"
     ]
    }
   ],
   "source": [
    "# все позиционные аргументы, которые не нашли себе места, идут в кортеж args\n",
    "print_ab(1, 2, 3, 4, 5, 6, 7, 8, 9)"
   ]
  },
  {
   "cell_type": "code",
   "execution_count": 12,
   "metadata": {},
   "outputs": [],
   "source": [
    "def print_ab(a, b, **kwargs):\n",
    "    print('Позиционый аргумент a:', a)\n",
    "    print('Позиционый аргумент b:', b)\n",
    "    print('Дополнительные аргументы:')\n",
    "    for key in kwargs:\n",
    "        print(key, kwargs[key])\n",
    "    print('Словарь kwargs с дополнительными аргументами:', kwargs)\n"
   ]
  },
  {
   "cell_type": "code",
   "execution_count": 13,
   "metadata": {},
   "outputs": [
    {
     "name": "stdout",
     "output_type": "stream",
     "text": [
      "Позиционый аргумент a: 10\n",
      "Позиционый аргумент b: 20\n",
      "Дополнительные аргументы:\n",
      "c 30\n",
      "d 100\n",
      "e 23\n",
      "f 8\n",
      "Словарь kwargs с дополнительными аргументами: {'c': 30, 'd': 100, 'e': 23, 'f': 8}\n"
     ]
    }
   ],
   "source": [
    "print_ab(10, 20, c=30, d=100, e=23, f=8)"
   ]
  },
  {
   "cell_type": "markdown",
   "metadata": {},
   "source": [
    "Общие правила для задания аргументов  вфункцию\n",
    "```Python\n",
    "def function_name(\n",
    "\tpositional_args,\n",
    "\tpositional_args_with_defaults,\n",
    "\t*add_pos_args,\n",
    "\tkeyword_only_args,\n",
    "\t**kw_args\n",
    ")\n",
    "```"
   ]
  },
  {
   "cell_type": "markdown",
   "metadata": {},
   "source": [
    "### Рекурсивные функции"
   ]
  },
  {
   "cell_type": "code",
   "execution_count": 14,
   "metadata": {},
   "outputs": [],
   "source": [
    "def fib(x):\n",
    "    \"\"\"\"\n",
    "    Функция для вывода суммы посдедовательности Фибоначи.\n",
    "    Входной параметр x - количество элементов посдедовательности.\n",
    "    \"\"\"\n",
    "    if x == 0 or x == 1:\n",
    "        return 1\n",
    "    else:\n",
    "        return fib(x - 1) + fib(x - 2)\n"
   ]
  },
  {
   "cell_type": "code",
   "execution_count": 18,
   "metadata": {},
   "outputs": [
    {
     "data": {
      "text/plain": [
       "8"
      ]
     },
     "execution_count": 18,
     "metadata": {},
     "output_type": "execute_result"
    }
   ],
   "source": [
    "y = fib(5)\n",
    "y"
   ]
  },
  {
   "cell_type": "markdown",
   "metadata": {},
   "source": [
    "Сочетанием из n элементов по k называется подмножество этих n элементов размера k.\n",
    "Два сочетания называются различными, если одно из сочетаний содержит элемент, который не содержит другое.\n",
    "Числом сочетаний из n по k называется количество различных сочетаний из n по k. Обозначим это число за C(n, k).\n",
    "\n",
    "Пример:\n",
    "Пусть n = 3, т. е. есть три элемента (1, 2, 3). Пусть k = 2.\n",
    "Все различные сочетания из 3 элементов по 2: (1, 2), (1, 3), (2, 3).\n",
    "Различных сочетаний три, поэтому C(3, 2) = 3.\n",
    "\n",
    "Несложно понять, что C(n, 0) = 1, так как из n элементов выбрать 0 можно единственным образом, а именно, ничего не выбрать.\n",
    "Также несложно понять, что если k > n, то C(n, k) = 0, так как невозможно, например, из трех элементов выбрать пять.\n",
    "\n",
    "Для вычисления C(n, k) в других случаях используется следующая рекуррентная формула:\n",
    "C(n, k) = C(n - 1, k) + C(n - 1, k - 1).\n",
    "\n",
    "Реализуйте программу, которая для заданных n и k вычисляет C(n, k).\n",
    "\n",
    "Вашей программе на вход подается строка, содержащая два целых числа n и k (1 ≤ n ≤ 10, 0 ≤ k ≤ 10).\n",
    "Ваша программа должна вывести единственное число: C(n, k)."
   ]
  },
  {
   "cell_type": "code",
   "execution_count": null,
   "metadata": {},
   "outputs": [],
   "source": [
    "# Пример решения с помощью рекурсивной функции\n",
    "def c(n, k):\n",
    "    if k > n:\n",
    "        return 0\n",
    "    if k == 0:\n",
    "        return 1\n",
    "    return c(n - 1, k) + c(n - 1, k - 1)\n",
    "\n",
    "n, k = map(int, input().split())\n",
    "print(c(n, k))"
   ]
  },
  {
   "cell_type": "markdown",
   "metadata": {},
   "source": [
    "## Пространства имён и области видимости"
   ]
  },
  {
   "cell_type": "markdown",
   "metadata": {},
   "source": [
    "Это сопоставление имен переменных, функций и классов с реальными объектами в оперативной памяти. Чаще всего мы сталкиваемся с пространствами имен (namespace), когда объявляем переменные и пытаемся их использовать. Есть много пространств имён. Каждый вызов функции сопровождается созданием нового пространства имён.\n",
    "Пространства имён:\n",
    "* built-in`s - первое, которое образуется при запуске интерпритатора, содержит в себе встроенные функции и классы;\n",
    "* main или global - содержит те имена, которые мы объявили на самом верхнем уровне нашего кода;\n",
    "* локальный - тот, который создаётс япри вызове функции и содержит имена, заданные внутри этой функции.\n",
    "\n",
    "\n",
    "Как интерпритатор \"ищет\" имена: сначала \"смотрит\" в локальном пространстве, потом в global, затем в builtin.\n",
    "Поскольку пространство имен создаётся при вызовве функции, мы можем не бояться использовать одни и те же имена в разных функциях - эти пространства имён изолированы друг от друга.\n",
    "\n",
    "Области видимости - это текстовые фрагменты программы, котороым соответсвую пространства. Они зависят только от текста кода, а не от его исполнения. Однако во время исполнения кода областям видимости соответствуют локальные просстранства имён, которые создаются и удаляются во впемя исполнения кода.\n",
    "Пример\n",
    "```Python\n",
    "# начало области видимости global (global scope)\n",
    "def b():\n",
    "    x = 31  # начало области видимости функции b \n",
    "    def a():\n",
    "        print(x)  # это область видимости функции a\n",
    "    # конец области видимости функции b\n",
    "b()\n",
    "# конец области видимости global (global scope)\n",
    "```\n",
    "Какие бывают:\n",
    "* локальный;\n",
    "* закрывающий / включающий (enclosing) - это, например, те которые на уровнеь выше, но включают в сеюя локальный;\n",
    "* глобальный;\n",
    "* builtin."
   ]
  },
  {
   "cell_type": "code",
   "execution_count": 5,
   "metadata": {},
   "outputs": [
    {
     "ename": "NameError",
     "evalue": "name 'x' is not defined",
     "output_type": "error",
     "traceback": [
      "\u001b[1;31m---------------------------------------------------------------------------\u001b[0m",
      "\u001b[1;31mNameError\u001b[0m                                 Traceback (most recent call last)",
      "Cell \u001b[1;32mIn [5], line 7\u001b[0m\n\u001b[0;32m      5\u001b[0m     x \u001b[39m=\u001b[39m \u001b[39m31\u001b[39m  \u001b[39m# функция a \"не знает\" про переменную x, которая находится в namespace функции b\u001b[39;00m\n\u001b[0;32m      6\u001b[0m     a()\n\u001b[1;32m----> 7\u001b[0m b()\n",
      "Cell \u001b[1;32mIn [5], line 6\u001b[0m, in \u001b[0;36mb\u001b[1;34m()\u001b[0m\n\u001b[0;32m      4\u001b[0m \u001b[39mdef\u001b[39;00m \u001b[39mb\u001b[39m():\n\u001b[0;32m      5\u001b[0m     x \u001b[39m=\u001b[39m \u001b[39m31\u001b[39m  \u001b[39m# функция a \"не знает\" про переменную x, которая находится в namespace функции b\u001b[39;00m\n\u001b[1;32m----> 6\u001b[0m     a()\n",
      "Cell \u001b[1;32mIn [5], line 3\u001b[0m, in \u001b[0;36ma\u001b[1;34m()\u001b[0m\n\u001b[0;32m      2\u001b[0m \u001b[39mdef\u001b[39;00m \u001b[39ma\u001b[39m():\n\u001b[1;32m----> 3\u001b[0m     \u001b[39mprint\u001b[39m(x)\n",
      "\u001b[1;31mNameError\u001b[0m: name 'x' is not defined"
     ]
    }
   ],
   "source": [
    "def a():\n",
    "    print(x)  # это имя не будет найдено, т.к. переменная x в namespace функции a не задана\n",
    "def b():\n",
    "    x = 31  # функция a \"не знает\" про переменную x, которая находится в namespace функции b\n",
    "    a()\n",
    "b()"
   ]
  },
  {
   "cell_type": "markdown",
   "metadata": {},
   "source": [
    "А вот так всё заработает:"
   ]
  },
  {
   "cell_type": "code",
   "execution_count": 7,
   "metadata": {},
   "outputs": [
    {
     "name": "stdout",
     "output_type": "stream",
     "text": [
      "31\n"
     ]
    }
   ],
   "source": [
    "def a(x):\n",
    "    print(x)\n",
    "def b():\n",
    "    x = 31\n",
    "    a(x)\n",
    "b()"
   ]
  },
  {
   "cell_type": "markdown",
   "metadata": {},
   "source": [
    "Пространства имён не создаются, когда мы используем условные опреторы или циклы!"
   ]
  },
  {
   "cell_type": "markdown",
   "metadata": {},
   "source": [
    "Иногда в теле фуннкции необходимо изменять переменную из внешнего пространства имен. ДЛя этого есть служебное слово `global`"
   ]
  },
  {
   "cell_type": "code",
   "execution_count": 20,
   "metadata": {},
   "outputs": [],
   "source": [
    "ok_status = True\n",
    "vowels = ['a', 'u', 'i', 'e', 'o']\n",
    "\n",
    "def check(word):\n",
    "    \"\"\"\n",
    "    Функция проверяет в слове наличие гласных и возвращает True, если гласная в слове есть, \n",
    "    при этом присваивая то же логическое значение иглобальной перменной. \n",
    "    \"\"\"\n",
    "\n",
    "    global ok_status\n",
    "    for vowel in vowels:\n",
    "        if vowel in word:\n",
    "            ok_status = True\n",
    "            return True\n",
    "    ok_status = False  # до сюда функция дойдёт, если не встретит в слове ни одной ласной\n",
    "    return False\n",
    "    "
   ]
  },
  {
   "cell_type": "code",
   "execution_count": 21,
   "metadata": {},
   "outputs": [
    {
     "data": {
      "text/plain": [
       "(True, True)"
      ]
     },
     "execution_count": 21,
     "metadata": {},
     "output_type": "execute_result"
    }
   ],
   "source": [
    "check('car'), ok_status"
   ]
  },
  {
   "cell_type": "code",
   "execution_count": 22,
   "metadata": {},
   "outputs": [
    {
     "data": {
      "text/plain": [
       "(False, False)"
      ]
     },
     "execution_count": 22,
     "metadata": {},
     "output_type": "execute_result"
    }
   ],
   "source": [
    "check('www'), ok_status"
   ]
  },
  {
   "cell_type": "code",
   "execution_count": 23,
   "metadata": {},
   "outputs": [
    {
     "data": {
      "text/plain": [
       "(False, False)"
      ]
     },
     "execution_count": 23,
     "metadata": {},
     "output_type": "execute_result"
    }
   ],
   "source": [
    "check('hjgf'), ok_status"
   ]
  },
  {
   "cell_type": "code",
   "execution_count": 24,
   "metadata": {},
   "outputs": [
    {
     "data": {
      "text/plain": [
       "(True, True)"
      ]
     },
     "execution_count": 24,
     "metadata": {},
     "output_type": "execute_result"
    }
   ],
   "source": [
    "check('dog'), ok_status"
   ]
  },
  {
   "cell_type": "markdown",
   "metadata": {},
   "source": [
    "## Классы"
   ]
  },
  {
   "cell_type": "markdown",
   "metadata": {},
   "source": [
    "### Введение в классы "
   ]
  },
  {
   "cell_type": "markdown",
   "metadata": {},
   "source": [
    "В отличие от функций тело класса исполняется в момент определения самого класса. Для класса также создаётся отдельное пространство имён."
   ]
  },
  {
   "cell_type": "code",
   "execution_count": 4,
   "metadata": {},
   "outputs": [
    {
     "name": "stdout",
     "output_type": "stream",
     "text": [
      "10\n",
      "<function MyClass.func at 0x000001A3310A2DC0>\n"
     ]
    }
   ],
   "source": [
    "class MyClass:\n",
    "    a = 10\n",
    "    def func(self):\n",
    "        print('Hello')\n",
    "\n",
    "# Атрибуты класса MyClass. Атриут 0 это просто имя в пространстве имён этого класса\n",
    "print(MyClass.a)\n",
    "print(MyClass.func)"
   ]
  },
  {
   "cell_type": "code",
   "execution_count": 5,
   "metadata": {},
   "outputs": [],
   "source": [
    "# Создание нового объекта (экземпляра класса) класса MyClass\n",
    "x = MyClass()"
   ]
  },
  {
   "cell_type": "code",
   "execution_count": 6,
   "metadata": {},
   "outputs": [
    {
     "data": {
      "text/plain": [
       "10"
      ]
     },
     "execution_count": 6,
     "metadata": {},
     "output_type": "execute_result"
    }
   ],
   "source": [
    "x.a"
   ]
  },
  {
   "cell_type": "code",
   "execution_count": 7,
   "metadata": {},
   "outputs": [
    {
     "name": "stdout",
     "output_type": "stream",
     "text": [
      "Hello\n"
     ]
    }
   ],
   "source": [
    "x.func()"
   ]
  },
  {
   "cell_type": "code",
   "execution_count": 9,
   "metadata": {},
   "outputs": [
    {
     "data": {
      "text/plain": [
       "__main__.MyClass"
      ]
     },
     "execution_count": 9,
     "metadata": {},
     "output_type": "execute_result"
    }
   ],
   "source": [
    "type(x)"
   ]
  },
  {
   "cell_type": "markdown",
   "metadata": {},
   "source": [
    "### Конструктор класса"
   ]
  },
  {
   "cell_type": "markdown",
   "metadata": {},
   "source": [
    "У любого класса в Python есть конструкторы класса - с помощью них создаются новые объекты (новые экземпляры)."
   ]
  },
  {
   "cell_type": "code",
   "execution_count": 13,
   "metadata": {},
   "outputs": [],
   "source": [
    "class Counter:\n",
    "    def __init__(self, start):  # метод init устанавливает атрибуты для self (объекта класса) \n",
    "        self.count = start"
   ]
  },
  {
   "cell_type": "code",
   "execution_count": 15,
   "metadata": {},
   "outputs": [
    {
     "data": {
      "text/plain": [
       "(__main__.Counter, 1)"
      ]
     },
     "execution_count": 15,
     "metadata": {},
     "output_type": "execute_result"
    }
   ],
   "source": [
    "x = Counter(1)\n",
    "type(x), x.count"
   ]
  },
  {
   "cell_type": "code",
   "execution_count": 16,
   "metadata": {},
   "outputs": [
    {
     "data": {
      "text/plain": [
       "2"
      ]
     },
     "execution_count": 16,
     "metadata": {},
     "output_type": "execute_result"
    }
   ],
   "source": [
    "x.count += 1\n",
    "x.count"
   ]
  },
  {
   "cell_type": "markdown",
   "metadata": {},
   "source": [
    "### Методы "
   ]
  },
  {
   "cell_type": "markdown",
   "metadata": {},
   "source": [
    "Метод - функция внутри класса."
   ]
  },
  {
   "cell_type": "code",
   "execution_count": 19,
   "metadata": {},
   "outputs": [
    {
     "data": {
      "text/plain": [
       "[3, 5, 9]"
      ]
     },
     "execution_count": 19,
     "metadata": {},
     "output_type": "execute_result"
    }
   ],
   "source": [
    "# Пример - метод sort у списка.\n",
    "lst = [5, 3, 9]\n",
    "lst.sort()\n",
    "lst"
   ]
  },
  {
   "cell_type": "code",
   "execution_count": 20,
   "metadata": {},
   "outputs": [
    {
     "data": {
      "text/plain": [
       "[5, 3, 9, 9]"
      ]
     },
     "execution_count": 20,
     "metadata": {},
     "output_type": "execute_result"
    }
   ],
   "source": [
    "# Пример - метод append у списка.\n",
    "lst = [5, 3, 9]\n",
    "lst.append(9)\n",
    "lst"
   ]
  },
  {
   "cell_type": "code",
   "execution_count": 29,
   "metadata": {},
   "outputs": [],
   "source": [
    "class Counter:\n",
    "    def __init__(self):  # метод init устанавливает атрибуты для self (объекта класса) \n",
    "        self.count = 1\n",
    "        \n",
    "    def inc(self):\n",
    "        self.count += 1\n",
    "        \n",
    "    def reset(self):\n",
    "        self.count = 1  # сброс счётчика"
   ]
  },
  {
   "cell_type": "code",
   "execution_count": 36,
   "metadata": {},
   "outputs": [
    {
     "data": {
      "text/plain": [
       "1"
      ]
     },
     "execution_count": 36,
     "metadata": {},
     "output_type": "execute_result"
    }
   ],
   "source": [
    "x = Counter()\n",
    "x.count"
   ]
  },
  {
   "cell_type": "code",
   "execution_count": 37,
   "metadata": {},
   "outputs": [
    {
     "data": {
      "text/plain": [
       "3"
      ]
     },
     "execution_count": 37,
     "metadata": {},
     "output_type": "execute_result"
    }
   ],
   "source": [
    "x.inc()  # эта запись эквивалентна следующей: Counter.inc(x)\n",
    "Counter.inc(x)\n",
    "x.count"
   ]
  },
  {
   "cell_type": "code",
   "execution_count": 38,
   "metadata": {},
   "outputs": [
    {
     "data": {
      "text/plain": [
       "1"
      ]
     },
     "execution_count": 38,
     "metadata": {},
     "output_type": "execute_result"
    }
   ],
   "source": [
    "x.reset()\n",
    "x.count"
   ]
  },
  {
   "cell_type": "markdown",
   "metadata": {},
   "source": [
    "Реализуйте класс MoneyBox, для работы с виртуальной копилкой.\n",
    "\n",
    "Каждая копилка имеет ограниченную вместимость, которая выражается целым числом – количеством монет, которые можно положить в копилку. Класс должен поддерживать информацию о количестве монет в копилке, предоставлять возможность добавлять монеты в копилку и узнавать, можно ли добавить в копилку ещё какое-то количество монет, не превышая ее вместимость."
   ]
  },
  {
   "cell_type": "code",
   "execution_count": 39,
   "metadata": {},
   "outputs": [],
   "source": [
    "class MoneyBox:\n",
    "    def __init__(self, capacity):\n",
    "        # конструктор с аргументом – вместимость копилки\n",
    "        # При создании копилки, число монет в ней равно 0.\n",
    "        self.qty = 0\n",
    "        self.capacity = capacity\n",
    "        \n",
    "    def can_add(self, v):\n",
    "    # True, если можно добавить v монет, False иначе\n",
    "        if v > self.capacity - self.qty:\n",
    "            return False\n",
    "        else:\n",
    "            return True\n",
    "        \n",
    "    def add(self, v):\n",
    "    # положить v монет в копилку\n",
    "        if self.can_add(v):\n",
    "            self.qty += v\n",
    "        else:\n",
    "            raise Exception(f'Не добавить монеты: в копилке {self.qty} монет. Вместимость копилки - {self.capacity}')\n"
   ]
  },
  {
   "cell_type": "code",
   "execution_count": 41,
   "metadata": {},
   "outputs": [],
   "source": [
    "mb = MoneyBox(100)"
   ]
  },
  {
   "cell_type": "code",
   "execution_count": 42,
   "metadata": {},
   "outputs": [
    {
     "data": {
      "text/plain": [
       "True"
      ]
     },
     "execution_count": 42,
     "metadata": {},
     "output_type": "execute_result"
    }
   ],
   "source": [
    "mb.can_add(90)"
   ]
  },
  {
   "cell_type": "code",
   "execution_count": 43,
   "metadata": {},
   "outputs": [],
   "source": [
    "mb.add(90)"
   ]
  },
  {
   "cell_type": "code",
   "execution_count": 44,
   "metadata": {},
   "outputs": [
    {
     "data": {
      "text/plain": [
       "False"
      ]
     },
     "execution_count": 44,
     "metadata": {},
     "output_type": "execute_result"
    }
   ],
   "source": [
    "mb.can_add(90)"
   ]
  },
  {
   "cell_type": "code",
   "execution_count": 45,
   "metadata": {},
   "outputs": [],
   "source": [
    "mb.add(10)"
   ]
  },
  {
   "cell_type": "code",
   "execution_count": 46,
   "metadata": {},
   "outputs": [
    {
     "data": {
      "text/plain": [
       "False"
      ]
     },
     "execution_count": 46,
     "metadata": {},
     "output_type": "execute_result"
    }
   ],
   "source": [
    "mb.can_add(1)"
   ]
  },
  {
   "cell_type": "markdown",
   "metadata": {},
   "source": [
    "Вам дается последовательность целых чисел и вам нужно ее обработать и вывести на экран сумму первой пятерки чисел из этой последовательности, затем сумму второй пятерки, и т. д.\n",
    "\n",
    "Но последовательность не дается вам сразу целиком. С течением времени к вам поступают её последовательные части. Например, сначала первые три элемента, потом следующие шесть, потом следующие два и т. д.\n",
    "\n",
    "Реализуйте класс Buffer, который будет накапливать в себе элементы последовательности и выводить сумму пятерок последовательных элементов по мере их накопления.\n",
    "\n",
    "Одним из требований к классу является то, что он не должен хранить в себе больше элементов, чем ему действительно необходимо, т. е. он не должен хранить элементы, которые уже вошли в пятерку, для которой была выведена сумма."
   ]
  },
  {
   "cell_type": "code",
   "execution_count": 47,
   "metadata": {},
   "outputs": [],
   "source": [
    "class Buffer:\n",
    "    def __init__(self):\n",
    "        # конструктор без аргументов\n",
    "        self.buffer = []\n",
    "    def add(self, *a):\n",
    "        # добавить следующую часть последовательности\n",
    "        self.buffer += a\n",
    "        while len(self.buffer) >= 5:\n",
    "            print(sum(self.buffer[:5]))\n",
    "            self.buffer = self.buffer[5:]\n",
    "    def get_current_part(self):\n",
    "        # вернуть сохраненные в текущий момент элементы последовательности в порядке, в котором они были     \n",
    "        # добавлены\n",
    "        return(self.buffer)"
   ]
  },
  {
   "cell_type": "markdown",
   "metadata": {},
   "source": [
    "### Атрибуты класса"
   ]
  },
  {
   "cell_type": "code",
   "execution_count": 50,
   "metadata": {},
   "outputs": [],
   "source": [
    "class Song:\n",
    "    \n",
    "    def __init__(self, artist, song):\n",
    "        self.artist=artist\n",
    "        self.song=song\n",
    "        self.tags=[]\n",
    "        \n",
    "    def add_tags(self, *args):\n",
    "        self.tags.extend(args)"
   ]
  },
  {
   "cell_type": "code",
   "execution_count": 60,
   "metadata": {},
   "outputs": [
    {
     "data": {
      "text/plain": [
       "['pop-punk']"
      ]
     },
     "execution_count": 60,
     "metadata": {},
     "output_type": "execute_result"
    }
   ],
   "source": [
    "song1=Song('Blink 182','All the Small Things')\n",
    "song1.add_tags('pop-punk')\n",
    "song1.tags"
   ]
  },
  {
   "cell_type": "code",
   "execution_count": 61,
   "metadata": {},
   "outputs": [
    {
     "data": {
      "text/plain": [
       "['pop-punk']"
      ]
     },
     "execution_count": 61,
     "metadata": {},
     "output_type": "execute_result"
    }
   ],
   "source": [
    "song2=Song('Rufio','Above Me')\n",
    "song2.add_tags('pop-punk')\n",
    "song2.tags"
   ]
  },
  {
   "cell_type": "code",
   "execution_count": 63,
   "metadata": {},
   "outputs": [
    {
     "data": {
      "text/plain": [
       "True"
      ]
     },
     "execution_count": 63,
     "metadata": {},
     "output_type": "execute_result"
    }
   ],
   "source": [
    "song1.tags == song2.tags"
   ]
  },
  {
   "cell_type": "code",
   "execution_count": 65,
   "metadata": {},
   "outputs": [
    {
     "name": "stdout",
     "output_type": "stream",
     "text": [
      "1800447388864\n",
      "1800445635584\n"
     ]
    }
   ],
   "source": [
    "print(id(song1.tags))\n",
    "print(id(song2.tags))"
   ]
  },
  {
   "cell_type": "code",
   "execution_count": 64,
   "metadata": {},
   "outputs": [
    {
     "data": {
      "text/plain": [
       "False"
      ]
     },
     "execution_count": 64,
     "metadata": {},
     "output_type": "execute_result"
    }
   ],
   "source": [
    "song1.tags is song2.tags"
   ]
  },
  {
   "cell_type": "markdown",
   "metadata": {},
   "source": [
    "### Наследование классов"
   ]
  },
  {
   "cell_type": "code",
   "execution_count": null,
   "metadata": {},
   "outputs": [],
   "source": []
  }
 ],
 "metadata": {
  "kernelspec": {
   "display_name": "Python 3",
   "language": "python",
   "name": "python3"
  },
  "language_info": {
   "codemirror_mode": {
    "name": "ipython",
    "version": 3
   },
   "file_extension": ".py",
   "mimetype": "text/x-python",
   "name": "python",
   "nbconvert_exporter": "python",
   "pygments_lexer": "ipython3",
   "version": "3.8.5"
  },
  "toc": {
   "base_numbering": 1,
   "nav_menu": {},
   "number_sections": true,
   "sideBar": true,
   "skip_h1_title": true,
   "title_cell": "Table of Contents",
   "title_sidebar": "Contents",
   "toc_cell": true,
   "toc_position": {},
   "toc_section_display": true,
   "toc_window_display": true
  },
  "vscode": {
   "interpreter": {
    "hash": "5d0773dc45e137a3175e4dfe108602b0e3fa5532889946862bf5514e2ab4927a"
   }
  }
 },
 "nbformat": 4,
 "nbformat_minor": 2
}
