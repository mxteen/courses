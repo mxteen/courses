{
 "cells": [
  {
   "cell_type": "code",
   "execution_count": 1,
   "metadata": {},
   "outputs": [],
   "source": [
    "import pandas as pd\n",
    "import numpy as np"
   ]
  },
  {
   "cell_type": "code",
   "execution_count": 2,
   "metadata": {},
   "outputs": [],
   "source": [
    "df = pd.read_excel('StarWars.xlsx')"
   ]
  },
  {
   "cell_type": "code",
   "execution_count": 3,
   "metadata": {},
   "outputs": [
    {
     "data": {
      "text/html": [
       "<div>\n",
       "<style scoped>\n",
       "    .dataframe tbody tr th:only-of-type {\n",
       "        vertical-align: middle;\n",
       "    }\n",
       "\n",
       "    .dataframe tbody tr th {\n",
       "        vertical-align: top;\n",
       "    }\n",
       "\n",
       "    .dataframe thead th {\n",
       "        text-align: right;\n",
       "    }\n",
       "</style>\n",
       "<table border=\"1\" class=\"dataframe\">\n",
       "  <thead>\n",
       "    <tr style=\"text-align: right;\">\n",
       "      <th></th>\n",
       "      <th>respondentID</th>\n",
       "      <th>seen</th>\n",
       "      <th>fan</th>\n",
       "      <th>gender</th>\n",
       "      <th>age_group</th>\n",
       "      <th>income</th>\n",
       "      <th>loc</th>\n",
       "      <th>yoda</th>\n",
       "      <th>princess_leia_organa</th>\n",
       "    </tr>\n",
       "  </thead>\n",
       "  <tbody>\n",
       "    <tr>\n",
       "      <th>0</th>\n",
       "      <td>3292879998</td>\n",
       "      <td>да</td>\n",
       "      <td>да</td>\n",
       "      <td>М</td>\n",
       "      <td>18-29</td>\n",
       "      <td>NaN</td>\n",
       "      <td>Южно-Атлантический</td>\n",
       "      <td>очень нравится</td>\n",
       "      <td>очень нравится</td>\n",
       "    </tr>\n",
       "    <tr>\n",
       "      <th>1</th>\n",
       "      <td>3292879538</td>\n",
       "      <td>нет</td>\n",
       "      <td>NaN</td>\n",
       "      <td>М</td>\n",
       "      <td>18-29</td>\n",
       "      <td>0 - 24.999</td>\n",
       "      <td>Юго-Западный центральный</td>\n",
       "      <td>NaN</td>\n",
       "      <td>NaN</td>\n",
       "    </tr>\n",
       "    <tr>\n",
       "      <th>2</th>\n",
       "      <td>3292765271</td>\n",
       "      <td>да</td>\n",
       "      <td>нет</td>\n",
       "      <td>М</td>\n",
       "      <td>18-29</td>\n",
       "      <td>0 - 24.999</td>\n",
       "      <td>Северо-Западный центральный</td>\n",
       "      <td>не знаю такого персонажа</td>\n",
       "      <td>нравится</td>\n",
       "    </tr>\n",
       "    <tr>\n",
       "      <th>3</th>\n",
       "      <td>3292763116</td>\n",
       "      <td>да</td>\n",
       "      <td>да</td>\n",
       "      <td>М</td>\n",
       "      <td>18-29</td>\n",
       "      <td>100.000 - 149.999</td>\n",
       "      <td>Северо-Западный центральный</td>\n",
       "      <td>очень нравится</td>\n",
       "      <td>очень нравится</td>\n",
       "    </tr>\n",
       "    <tr>\n",
       "      <th>4</th>\n",
       "      <td>3292731220</td>\n",
       "      <td>да</td>\n",
       "      <td>да</td>\n",
       "      <td>М</td>\n",
       "      <td>18-29</td>\n",
       "      <td>100.000 - 149.999</td>\n",
       "      <td>Северо-Западный центральный</td>\n",
       "      <td>нравится</td>\n",
       "      <td>нравится</td>\n",
       "    </tr>\n",
       "    <tr>\n",
       "      <th>...</th>\n",
       "      <td>...</td>\n",
       "      <td>...</td>\n",
       "      <td>...</td>\n",
       "      <td>...</td>\n",
       "      <td>...</td>\n",
       "      <td>...</td>\n",
       "      <td>...</td>\n",
       "      <td>...</td>\n",
       "      <td>...</td>\n",
       "    </tr>\n",
       "    <tr>\n",
       "      <th>1181</th>\n",
       "      <td>3288388730</td>\n",
       "      <td>да</td>\n",
       "      <td>да</td>\n",
       "      <td>Ж</td>\n",
       "      <td>18-29</td>\n",
       "      <td>0 - 24.999</td>\n",
       "      <td>Северо-Восточный центральный</td>\n",
       "      <td>очень нравится</td>\n",
       "      <td>нравится</td>\n",
       "    </tr>\n",
       "    <tr>\n",
       "      <th>1182</th>\n",
       "      <td>3288378779</td>\n",
       "      <td>да</td>\n",
       "      <td>да</td>\n",
       "      <td>Ж</td>\n",
       "      <td>30-44</td>\n",
       "      <td>50.000 - 99.999</td>\n",
       "      <td>Горный</td>\n",
       "      <td>очень нравится</td>\n",
       "      <td>очень нравится</td>\n",
       "    </tr>\n",
       "    <tr>\n",
       "      <th>1183</th>\n",
       "      <td>3288375286</td>\n",
       "      <td>нет</td>\n",
       "      <td>NaN</td>\n",
       "      <td>Ж</td>\n",
       "      <td>30-44</td>\n",
       "      <td>50.000 - 99.999</td>\n",
       "      <td>Средне-Атлантический</td>\n",
       "      <td>NaN</td>\n",
       "      <td>NaN</td>\n",
       "    </tr>\n",
       "    <tr>\n",
       "      <th>1184</th>\n",
       "      <td>3288373068</td>\n",
       "      <td>да</td>\n",
       "      <td>да</td>\n",
       "      <td>Ж</td>\n",
       "      <td>45-60</td>\n",
       "      <td>100.000 - 149.999</td>\n",
       "      <td>Северо-Восточный центральный</td>\n",
       "      <td>очень нравится</td>\n",
       "      <td>очень нравится</td>\n",
       "    </tr>\n",
       "    <tr>\n",
       "      <th>1185</th>\n",
       "      <td>3288372923</td>\n",
       "      <td>да</td>\n",
       "      <td>нет</td>\n",
       "      <td>Ж</td>\n",
       "      <td>&gt; 60</td>\n",
       "      <td>50.000 - 99.999</td>\n",
       "      <td>Тихоокеанский</td>\n",
       "      <td>очень не нравится</td>\n",
       "      <td>очень нравится</td>\n",
       "    </tr>\n",
       "  </tbody>\n",
       "</table>\n",
       "<p>1186 rows × 9 columns</p>\n",
       "</div>"
      ],
      "text/plain": [
       "      respondentID seen  fan gender age_group             income  \\\n",
       "0       3292879998   да   да      М     18-29                NaN   \n",
       "1       3292879538  нет  NaN      М     18-29         0 - 24.999   \n",
       "2       3292765271   да  нет      М     18-29         0 - 24.999   \n",
       "3       3292763116   да   да      М     18-29  100.000 - 149.999   \n",
       "4       3292731220   да   да      М     18-29  100.000 - 149.999   \n",
       "...            ...  ...  ...    ...       ...                ...   \n",
       "1181    3288388730   да   да      Ж     18-29         0 - 24.999   \n",
       "1182    3288378779   да   да      Ж     30-44    50.000 - 99.999   \n",
       "1183    3288375286  нет  NaN      Ж     30-44    50.000 - 99.999   \n",
       "1184    3288373068   да   да      Ж     45-60  100.000 - 149.999   \n",
       "1185    3288372923   да  нет      Ж      > 60    50.000 - 99.999   \n",
       "\n",
       "                               loc                      yoda  \\\n",
       "0               Южно-Атлантический            очень нравится   \n",
       "1         Юго-Западный центральный                       NaN   \n",
       "2      Северо-Западный центральный  не знаю такого персонажа   \n",
       "3      Северо-Западный центральный            очень нравится   \n",
       "4      Северо-Западный центральный                  нравится   \n",
       "...                            ...                       ...   \n",
       "1181  Северо-Восточный центральный            очень нравится   \n",
       "1182                        Горный            очень нравится   \n",
       "1183          Средне-Атлантический                       NaN   \n",
       "1184  Северо-Восточный центральный            очень нравится   \n",
       "1185                 Тихоокеанский         очень не нравится   \n",
       "\n",
       "     princess_leia_organa  \n",
       "0          очень нравится  \n",
       "1                     NaN  \n",
       "2                нравится  \n",
       "3          очень нравится  \n",
       "4                нравится  \n",
       "...                   ...  \n",
       "1181             нравится  \n",
       "1182       очень нравится  \n",
       "1183                  NaN  \n",
       "1184       очень нравится  \n",
       "1185       очень нравится  \n",
       "\n",
       "[1186 rows x 9 columns]"
      ]
     },
     "execution_count": 3,
     "metadata": {},
     "output_type": "execute_result"
    }
   ],
   "source": [
    "df"
   ]
  },
  {
   "cell_type": "code",
   "execution_count": 4,
   "metadata": {},
   "outputs": [
    {
     "name": "stdout",
     "output_type": "stream",
     "text": [
      "<class 'pandas.core.frame.DataFrame'>\n",
      "RangeIndex: 1186 entries, 0 to 1185\n",
      "Data columns (total 9 columns):\n",
      " #   Column                Non-Null Count  Dtype \n",
      "---  ------                --------------  ----- \n",
      " 0   respondentID          1186 non-null   int64 \n",
      " 1   seen                  1186 non-null   object\n",
      " 2   fan                   836 non-null    object\n",
      " 3   gender                1046 non-null   object\n",
      " 4   age_group             1046 non-null   object\n",
      " 5   income                858 non-null    object\n",
      " 6   loc                   1043 non-null   object\n",
      " 7   yoda                  826 non-null    object\n",
      " 8   princess_leia_organa  831 non-null    object\n",
      "dtypes: int64(1), object(8)\n",
      "memory usage: 83.5+ KB\n"
     ]
    }
   ],
   "source": [
    "df.info()"
   ]
  },
  {
   "cell_type": "markdown",
   "metadata": {},
   "source": [
    "1. К какой шкале относится переменная age_group? Выберите один верный ответ."
   ]
  },
  {
   "cell_type": "code",
   "execution_count": 6,
   "metadata": {},
   "outputs": [
    {
     "data": {
      "text/plain": [
       "array(['18-29', nan, '30-44', '> 60', '45-60'], dtype=object)"
      ]
     },
     "execution_count": 6,
     "metadata": {},
     "output_type": "execute_result"
    }
   ],
   "source": [
    "df.age_group.unique()"
   ]
  },
  {
   "cell_type": "markdown",
   "metadata": {},
   "source": [
    "2. Верно ли следующее утверждение: все женщины старше 60 лет, входящие в категорию с наивысшим доходом и являющиеся фанатами серии фильмов, проживают в одном регионе. "
   ]
  },
  {
   "cell_type": "code",
   "execution_count": 9,
   "metadata": {},
   "outputs": [
    {
     "data": {
      "text/plain": [
       "array(['М', nan, 'Ж'], dtype=object)"
      ]
     },
     "execution_count": 9,
     "metadata": {},
     "output_type": "execute_result"
    }
   ],
   "source": [
    "df.gender.unique()"
   ]
  },
  {
   "cell_type": "code",
   "execution_count": 10,
   "metadata": {},
   "outputs": [
    {
     "data": {
      "text/plain": [
       "array([nan, '0 - 24.999', '100.000 - 149.999', '25.000 - 49.999',\n",
       "       '50.000 - 99.999', '150.000+'], dtype=object)"
      ]
     },
     "execution_count": 10,
     "metadata": {},
     "output_type": "execute_result"
    }
   ],
   "source": [
    "df.income.unique()"
   ]
  },
  {
   "cell_type": "code",
   "execution_count": 15,
   "metadata": {},
   "outputs": [
    {
     "data": {
      "text/plain": [
       "array(['да', nan, 'нет'], dtype=object)"
      ]
     },
     "execution_count": 15,
     "metadata": {},
     "output_type": "execute_result"
    }
   ],
   "source": [
    "df.fan.unique()"
   ]
  },
  {
   "cell_type": "code",
   "execution_count": 22,
   "metadata": {},
   "outputs": [],
   "source": [
    "conditions = (df['age_group'] == '> 60') & \\\n",
    "             (df['gender'] == 'Ж') & \\\n",
    "             (df['income'] == '150.000+') & \\\n",
    "             (df['fan'] == 'да')"
   ]
  },
  {
   "cell_type": "code",
   "execution_count": 24,
   "metadata": {},
   "outputs": [
    {
     "data": {
      "text/html": [
       "<div>\n",
       "<style scoped>\n",
       "    .dataframe tbody tr th:only-of-type {\n",
       "        vertical-align: middle;\n",
       "    }\n",
       "\n",
       "    .dataframe tbody tr th {\n",
       "        vertical-align: top;\n",
       "    }\n",
       "\n",
       "    .dataframe thead th {\n",
       "        text-align: right;\n",
       "    }\n",
       "</style>\n",
       "<table border=\"1\" class=\"dataframe\">\n",
       "  <thead>\n",
       "    <tr style=\"text-align: right;\">\n",
       "      <th></th>\n",
       "      <th>respondentID</th>\n",
       "      <th>seen</th>\n",
       "      <th>fan</th>\n",
       "      <th>gender</th>\n",
       "      <th>age_group</th>\n",
       "      <th>income</th>\n",
       "      <th>loc</th>\n",
       "      <th>yoda</th>\n",
       "      <th>princess_leia_organa</th>\n",
       "    </tr>\n",
       "  </thead>\n",
       "  <tbody>\n",
       "    <tr>\n",
       "      <th>162</th>\n",
       "      <td>3291141478</td>\n",
       "      <td>да</td>\n",
       "      <td>да</td>\n",
       "      <td>Ж</td>\n",
       "      <td>&gt; 60</td>\n",
       "      <td>150.000+</td>\n",
       "      <td>Тихоокеанский</td>\n",
       "      <td>очень нравится</td>\n",
       "      <td>очень нравится</td>\n",
       "    </tr>\n",
       "    <tr>\n",
       "      <th>522</th>\n",
       "      <td>3290342102</td>\n",
       "      <td>да</td>\n",
       "      <td>да</td>\n",
       "      <td>Ж</td>\n",
       "      <td>&gt; 60</td>\n",
       "      <td>150.000+</td>\n",
       "      <td>Северо-Западный центральный</td>\n",
       "      <td>очень нравится</td>\n",
       "      <td>очень нравится</td>\n",
       "    </tr>\n",
       "    <tr>\n",
       "      <th>671</th>\n",
       "      <td>3289963393</td>\n",
       "      <td>да</td>\n",
       "      <td>да</td>\n",
       "      <td>Ж</td>\n",
       "      <td>&gt; 60</td>\n",
       "      <td>150.000+</td>\n",
       "      <td>Горный</td>\n",
       "      <td>очень нравится</td>\n",
       "      <td>очень нравится</td>\n",
       "    </tr>\n",
       "  </tbody>\n",
       "</table>\n",
       "</div>"
      ],
      "text/plain": [
       "     respondentID seen fan gender age_group    income  \\\n",
       "162    3291141478   да  да      Ж      > 60  150.000+   \n",
       "522    3290342102   да  да      Ж      > 60  150.000+   \n",
       "671    3289963393   да  да      Ж      > 60  150.000+   \n",
       "\n",
       "                             loc            yoda princess_leia_organa  \n",
       "162                Тихоокеанский  очень нравится       очень нравится  \n",
       "522  Северо-Западный центральный  очень нравится       очень нравится  \n",
       "671                       Горный  очень нравится       очень нравится  "
      ]
     },
     "execution_count": 24,
     "metadata": {},
     "output_type": "execute_result"
    }
   ],
   "source": [
    "df[conditions]"
   ]
  },
  {
   "cell_type": "code",
   "execution_count": 23,
   "metadata": {},
   "outputs": [
    {
     "data": {
      "text/plain": [
       "array(['Тихоокеанский', 'Северо-Западный центральный', 'Горный'],\n",
       "      dtype=object)"
      ]
     },
     "execution_count": 23,
     "metadata": {},
     "output_type": "execute_result"
    }
   ],
   "source": [
    "df[conditions]['loc'].unique()"
   ]
  },
  {
   "cell_type": "markdown",
   "metadata": {},
   "source": [
    "3. Какой регион проживания чаще всего встречается в данных? Выберите один верный ответ."
   ]
  },
  {
   "cell_type": "code",
   "execution_count": 80,
   "metadata": {},
   "outputs": [
    {
     "data": {
      "text/plain": [
       "Северо-Восточный центральный    181\n",
       "Тихоокеанский                   175\n",
       "Южно-Атлантический              170\n",
       "Средне-Атлантический            122\n",
       "Юго-Западный центральный        110\n",
       "Северо-Западный центральный      93\n",
       "Горный                           79\n",
       "Новая Англия                     75\n",
       "Юго-Восточный центральный        38\n",
       "Name: loc, dtype: int64"
      ]
     },
     "execution_count": 80,
     "metadata": {},
     "output_type": "execute_result"
    }
   ],
   "source": [
    "# df.groupby('loc')['loc'].count().sort_values()\n",
    "df['loc'].value_counts()"
   ]
  },
  {
   "cell_type": "code",
   "execution_count": 81,
   "metadata": {},
   "outputs": [
    {
     "data": {
      "text/plain": [
       "Северо-Восточный центральный    181\n",
       "Тихоокеанский                   175\n",
       "Южно-Атлантический              170\n",
       "NaN                             143\n",
       "Средне-Атлантический            122\n",
       "Юго-Западный центральный        110\n",
       "Северо-Западный центральный      93\n",
       "Горный                           79\n",
       "Новая Англия                     75\n",
       "Юго-Восточный центральный        38\n",
       "Name: loc, dtype: int64"
      ]
     },
     "execution_count": 81,
     "metadata": {},
     "output_type": "execute_result"
    }
   ],
   "source": [
    "df['loc'].value_counts(dropna=False)"
   ]
  },
  {
   "cell_type": "markdown",
   "metadata": {},
   "source": [
    "4. Сколько респондентов не назвали свой доход? Выберите один верный ответ."
   ]
  },
  {
   "cell_type": "code",
   "execution_count": 35,
   "metadata": {},
   "outputs": [
    {
     "data": {
      "text/plain": [
       "328"
      ]
     },
     "execution_count": 35,
     "metadata": {},
     "output_type": "execute_result"
    }
   ],
   "source": [
    "df['income'].isna().sum()"
   ]
  },
  {
   "cell_type": "markdown",
   "metadata": {},
   "source": [
    "5. Скольким респондентам одновременно очень нравятся Йода и принцесса Лея Органа? Выберите один верный ответ."
   ]
  },
  {
   "cell_type": "code",
   "execution_count": 36,
   "metadata": {},
   "outputs": [
    {
     "data": {
      "text/plain": [
       "array(['очень нравится', nan, 'не знаю такого персонажа', 'нравится',\n",
       "       'очень не нравится', 'отношусь нейтрально', 'не нравится'],\n",
       "      dtype=object)"
      ]
     },
     "execution_count": 36,
     "metadata": {},
     "output_type": "execute_result"
    }
   ],
   "source": [
    "df['yoda'].unique()"
   ]
  },
  {
   "cell_type": "code",
   "execution_count": 37,
   "metadata": {},
   "outputs": [],
   "source": [
    "yoda_leia_condition = (df['yoda'] == 'очень нравится') & \\\n",
    "                      (df['princess_leia_organa'] == 'очень нравится')"
   ]
  },
  {
   "cell_type": "code",
   "execution_count": 40,
   "metadata": {},
   "outputs": [
    {
     "data": {
      "text/plain": [
       "462"
      ]
     },
     "execution_count": 40,
     "metadata": {},
     "output_type": "execute_result"
    }
   ],
   "source": [
    "df[yoda_leia_condition].shape[0]"
   ]
  },
  {
   "cell_type": "markdown",
   "metadata": {},
   "source": [
    "6. Сколько респондентов не видели ни одного фильма серии, но считают себя ее фанатами? Введите ответ в виде целого числа."
   ]
  },
  {
   "cell_type": "code",
   "execution_count": 54,
   "metadata": {},
   "outputs": [
    {
     "data": {
      "text/plain": [
       "array(['да', 'нет'], dtype=object)"
      ]
     },
     "execution_count": 54,
     "metadata": {},
     "output_type": "execute_result"
    }
   ],
   "source": [
    "df.seen.unique()"
   ]
  },
  {
   "cell_type": "code",
   "execution_count": 45,
   "metadata": {},
   "outputs": [],
   "source": [
    "fans_without_watching = (df['seen'] == 'нет') & \\\n",
    "                        (df['fan'] == 'да')"
   ]
  },
  {
   "cell_type": "code",
   "execution_count": 47,
   "metadata": {},
   "outputs": [
    {
     "data": {
      "text/plain": [
       "0"
      ]
     },
     "execution_count": 47,
     "metadata": {},
     "output_type": "execute_result"
    }
   ],
   "source": [
    "df[fans_without_watching].shape[0]"
   ]
  },
  {
   "cell_type": "code",
   "execution_count": 50,
   "metadata": {},
   "outputs": [
    {
     "data": {
      "text/plain": [
       "array([nan], dtype=object)"
      ]
     },
     "execution_count": 50,
     "metadata": {},
     "output_type": "execute_result"
    }
   ],
   "source": [
    "df[df['seen'] == 'нет']['fan'].unique()"
   ]
  },
  {
   "cell_type": "markdown",
   "metadata": {},
   "source": [
    "7. Сколько респондентов не ответили ни на один вопрос? Введите ответ в виде целого числа."
   ]
  },
  {
   "cell_type": "code",
   "execution_count": 52,
   "metadata": {},
   "outputs": [],
   "source": [
    "no_answers = (df['seen'].isna())"
   ]
  },
  {
   "cell_type": "code",
   "execution_count": 53,
   "metadata": {},
   "outputs": [
    {
     "data": {
      "text/html": [
       "<div>\n",
       "<style scoped>\n",
       "    .dataframe tbody tr th:only-of-type {\n",
       "        vertical-align: middle;\n",
       "    }\n",
       "\n",
       "    .dataframe tbody tr th {\n",
       "        vertical-align: top;\n",
       "    }\n",
       "\n",
       "    .dataframe thead th {\n",
       "        text-align: right;\n",
       "    }\n",
       "</style>\n",
       "<table border=\"1\" class=\"dataframe\">\n",
       "  <thead>\n",
       "    <tr style=\"text-align: right;\">\n",
       "      <th></th>\n",
       "      <th>respondentID</th>\n",
       "      <th>seen</th>\n",
       "      <th>fan</th>\n",
       "      <th>gender</th>\n",
       "      <th>age_group</th>\n",
       "      <th>income</th>\n",
       "      <th>loc</th>\n",
       "      <th>yoda</th>\n",
       "      <th>princess_leia_organa</th>\n",
       "    </tr>\n",
       "  </thead>\n",
       "  <tbody>\n",
       "  </tbody>\n",
       "</table>\n",
       "</div>"
      ],
      "text/plain": [
       "Empty DataFrame\n",
       "Columns: [respondentID, seen, fan, gender, age_group, income, loc, yoda, princess_leia_organa]\n",
       "Index: []"
      ]
     },
     "execution_count": 53,
     "metadata": {},
     "output_type": "execute_result"
    }
   ],
   "source": [
    "df[no_answers]"
   ]
  },
  {
   "cell_type": "markdown",
   "metadata": {},
   "source": [
    "7. Посмотрите на мужчин, проживающих в горном районе. В ответ запишите ID респондента, входящего в категорию с наивысшим доходом при заданных условиях."
   ]
  },
  {
   "cell_type": "code",
   "execution_count": 56,
   "metadata": {},
   "outputs": [
    {
     "data": {
      "text/plain": [
       "array(['Южно-Атлантический', 'Юго-Западный центральный',\n",
       "       'Северо-Западный центральный', 'Средне-Атлантический',\n",
       "       'Северо-Восточный центральный', 'Тихоокеанский', nan, 'Горный',\n",
       "       'Новая Англия', 'Юго-Восточный центральный'], dtype=object)"
      ]
     },
     "execution_count": 56,
     "metadata": {},
     "output_type": "execute_result"
    }
   ],
   "source": [
    "df['loc'].unique()"
   ]
  },
  {
   "cell_type": "code",
   "execution_count": 61,
   "metadata": {},
   "outputs": [],
   "source": [
    "rich_men_from_mountains = (df['loc'] == 'Горный') & \\\n",
    "                          (df['gender'] == 'М') & \\\n",
    "                          (df['income'] == '150.000+')"
   ]
  },
  {
   "cell_type": "code",
   "execution_count": 63,
   "metadata": {},
   "outputs": [
    {
     "data": {
      "text/html": [
       "<div>\n",
       "<style scoped>\n",
       "    .dataframe tbody tr th:only-of-type {\n",
       "        vertical-align: middle;\n",
       "    }\n",
       "\n",
       "    .dataframe tbody tr th {\n",
       "        vertical-align: top;\n",
       "    }\n",
       "\n",
       "    .dataframe thead th {\n",
       "        text-align: right;\n",
       "    }\n",
       "</style>\n",
       "<table border=\"1\" class=\"dataframe\">\n",
       "  <thead>\n",
       "    <tr style=\"text-align: right;\">\n",
       "      <th></th>\n",
       "      <th>respondentID</th>\n",
       "      <th>seen</th>\n",
       "      <th>fan</th>\n",
       "      <th>gender</th>\n",
       "      <th>age_group</th>\n",
       "      <th>income</th>\n",
       "      <th>loc</th>\n",
       "      <th>yoda</th>\n",
       "      <th>princess_leia_organa</th>\n",
       "    </tr>\n",
       "  </thead>\n",
       "  <tbody>\n",
       "    <tr>\n",
       "      <th>169</th>\n",
       "      <td>3291077381</td>\n",
       "      <td>да</td>\n",
       "      <td>нет</td>\n",
       "      <td>М</td>\n",
       "      <td>45-60</td>\n",
       "      <td>150.000+</td>\n",
       "      <td>Горный</td>\n",
       "      <td>нравится</td>\n",
       "      <td>отношусь нейтрально</td>\n",
       "    </tr>\n",
       "  </tbody>\n",
       "</table>\n",
       "</div>"
      ],
      "text/plain": [
       "     respondentID seen  fan gender age_group    income     loc      yoda  \\\n",
       "169    3291077381   да  нет      М     45-60  150.000+  Горный  нравится   \n",
       "\n",
       "    princess_leia_organa  \n",
       "169  отношусь нейтрально  "
      ]
     },
     "execution_count": 63,
     "metadata": {},
     "output_type": "execute_result"
    }
   ],
   "source": [
    "df[rich_men_from_mountains]"
   ]
  },
  {
   "cell_type": "markdown",
   "metadata": {},
   "source": [
    "8. Укажите, верно ли следующее утверждение: фанатов серии фильмов в возрастной категории 45-60 меньше, чем не-фанатов в возрастной категории 18-29. "
   ]
  },
  {
   "cell_type": "code",
   "execution_count": 65,
   "metadata": {},
   "outputs": [],
   "source": [
    "fans_45_60_condition = (df['fan'] == 'да') & \\\n",
    "                       (df['age_group'] == '45-60')"
   ]
  },
  {
   "cell_type": "code",
   "execution_count": 67,
   "metadata": {},
   "outputs": [
    {
     "data": {
      "text/plain": [
       "154"
      ]
     },
     "execution_count": 67,
     "metadata": {},
     "output_type": "execute_result"
    }
   ],
   "source": [
    "df[fans_45_60_condition].shape[0]"
   ]
  },
  {
   "cell_type": "code",
   "execution_count": 68,
   "metadata": {},
   "outputs": [],
   "source": [
    "not_fans_18_29_condition = (df['fan'] == 'нет') & \\\n",
    "                       (df['age_group'] == '18-29')"
   ]
  },
  {
   "cell_type": "code",
   "execution_count": 70,
   "metadata": {},
   "outputs": [
    {
     "data": {
      "text/plain": [
       "56"
      ]
     },
     "execution_count": 70,
     "metadata": {},
     "output_type": "execute_result"
    }
   ],
   "source": [
    "df[not_fans_18_29_condition].shape[0]"
   ]
  },
  {
   "cell_type": "code",
   "execution_count": 71,
   "metadata": {},
   "outputs": [
    {
     "data": {
      "text/plain": [
       "False"
      ]
     },
     "execution_count": 71,
     "metadata": {},
     "output_type": "execute_result"
    }
   ],
   "source": [
    "df[fans_45_60_condition].shape[0] < df[not_fans_18_29_condition].shape[0]"
   ]
  },
  {
   "cell_type": "markdown",
   "metadata": {},
   "source": [
    "9. Сколько процентов (от общего числа респондентов) являются фанатами серии фильмов, проживают в Новой Англии и имеют доход 0 - 24.999 долларов? В ответ запишите число (процент от 0 до 100), округлите до целого."
   ]
  },
  {
   "cell_type": "code",
   "execution_count": 72,
   "metadata": {},
   "outputs": [
    {
     "data": {
      "text/plain": [
       "array(['Южно-Атлантический', 'Юго-Западный центральный',\n",
       "       'Северо-Западный центральный', 'Средне-Атлантический',\n",
       "       'Северо-Восточный центральный', 'Тихоокеанский', nan, 'Горный',\n",
       "       'Новая Англия', 'Юго-Восточный центральный'], dtype=object)"
      ]
     },
     "execution_count": 72,
     "metadata": {},
     "output_type": "execute_result"
    }
   ],
   "source": [
    "df['loc'].unique()"
   ]
  },
  {
   "cell_type": "code",
   "execution_count": 73,
   "metadata": {},
   "outputs": [
    {
     "data": {
      "text/plain": [
       "array([nan, '0 - 24.999', '100.000 - 149.999', '25.000 - 49.999',\n",
       "       '50.000 - 99.999', '150.000+'], dtype=object)"
      ]
     },
     "execution_count": 73,
     "metadata": {},
     "output_type": "execute_result"
    }
   ],
   "source": [
    "df['income'].unique()"
   ]
  },
  {
   "cell_type": "code",
   "execution_count": 74,
   "metadata": {},
   "outputs": [],
   "source": [
    "poor_fans_from_ne = (df['fan'] == 'да') & \\\n",
    "                    (df['loc'] == 'Новая Англия') & \\\n",
    "                    (df['income'] == '0 - 24.999')"
   ]
  },
  {
   "cell_type": "code",
   "execution_count": 78,
   "metadata": {},
   "outputs": [
    {
     "data": {
      "text/plain": [
       "0.7588532883642496"
      ]
     },
     "execution_count": 78,
     "metadata": {},
     "output_type": "execute_result"
    }
   ],
   "source": [
    "df[poor_fans_from_ne].shape[0]/df.shape[0]*100"
   ]
  },
  {
   "cell_type": "code",
   "execution_count": null,
   "metadata": {},
   "outputs": [],
   "source": []
  }
 ],
 "metadata": {
  "kernelspec": {
   "display_name": "Python 3",
   "language": "python",
   "name": "python3"
  },
  "language_info": {
   "codemirror_mode": {
    "name": "ipython",
    "version": 3
   },
   "file_extension": ".py",
   "mimetype": "text/x-python",
   "name": "python",
   "nbconvert_exporter": "python",
   "pygments_lexer": "ipython3",
   "version": "3.8.5"
  }
 },
 "nbformat": 4,
 "nbformat_minor": 4
}
