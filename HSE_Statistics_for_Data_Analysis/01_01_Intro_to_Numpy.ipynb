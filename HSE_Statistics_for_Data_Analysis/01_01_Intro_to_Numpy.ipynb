{
 "cells": [
  {
   "cell_type": "markdown",
   "metadata": {},
   "source": [
    "# Введение в NumPy\n",
    "\n",
    "Курс https://openedu.ru/course/hse/STATDA/"
   ]
  },
  {
   "cell_type": "markdown",
   "metadata": {},
   "source": [
    "[Страница с видео](https://courses.openedu.ru/courses/course-v1:hse+STATDA+2021/courseware/393715fd21864063901ad06e13949bad/f851d1a761a84e11ae3d712463199f83/?child=first)"
   ]
  },
  {
   "cell_type": "code",
   "execution_count": 1,
   "metadata": {},
   "outputs": [],
   "source": [
    "import numpy as np"
   ]
  },
  {
   "cell_type": "code",
   "execution_count": 2,
   "metadata": {},
   "outputs": [
    {
     "name": "stdout",
     "output_type": "stream",
     "text": [
      "[2, 5]\n",
      "<class 'list'>\n",
      "[2 5]\n",
      "<class 'numpy.ndarray'>\n"
     ]
    }
   ],
   "source": [
    "z = [2, 5]\n",
    "print(z)\n",
    "print(type(z)) # список\n",
    "z_np = np.array(z)\n",
    "print(z_np)\n",
    "print(type(z_np)) # массив нампай"
   ]
  },
  {
   "cell_type": "code",
   "execution_count": 3,
   "metadata": {},
   "outputs": [
    {
     "name": "stdout",
     "output_type": "stream",
     "text": [
      "[2, 4, 5, 10, 4, 2]\n"
     ]
    }
   ],
   "source": [
    "# попробуем сложить два списка\n",
    "x = [2, 4, 5]\n",
    "y = [10, 4, 2]\n",
    "print(x + y) # выполнилась операция \"склейки\""
   ]
  },
  {
   "cell_type": "code",
   "execution_count": 4,
   "metadata": {},
   "outputs": [
    {
     "name": "stdout",
     "output_type": "stream",
     "text": [
      "[12  8  7]\n"
     ]
    }
   ],
   "source": [
    "# попробуем сложить два массива numpy\n",
    "x_np = np.array(x)\n",
    "y_np = np.array(y)\n",
    "print(x_np + y_np) # выполнилось поэлементное сложение"
   ]
  },
  {
   "cell_type": "code",
   "execution_count": 5,
   "metadata": {},
   "outputs": [
    {
     "name": "stdout",
     "output_type": "stream",
     "text": [
      "[ 4  8 10]\n",
      "[100000000     65536       256]\n"
     ]
    }
   ],
   "source": [
    "print(x_np * 2) # умножим каждый элемент на два\n",
    "print(y_np ** 8) # возведем каждый элемент в восьмую степень"
   ]
  },
  {
   "cell_type": "code",
   "execution_count": 6,
   "metadata": {},
   "outputs": [
    {
     "name": "stdout",
     "output_type": "stream",
     "text": [
      "[False  True  True]\n"
     ]
    }
   ],
   "source": [
    "print(x_np > 3) # сравним каждый элемент с числом 3"
   ]
  },
  {
   "cell_type": "code",
   "execution_count": 7,
   "metadata": {},
   "outputs": [
    {
     "name": "stdout",
     "output_type": "stream",
     "text": [
      "[4 5]\n"
     ]
    }
   ],
   "source": [
    "print(x_np[x_np > 3]) # отфильтровали только значения, которые больше 3 "
   ]
  },
  {
   "cell_type": "code",
   "execution_count": 8,
   "metadata": {},
   "outputs": [
    {
     "name": "stdout",
     "output_type": "stream",
     "text": [
      "['cat' '1' '2.4' 'True']\n",
      "<U4\n",
      "<class 'numpy.str_'>\n"
     ]
    }
   ],
   "source": [
    "z_np = np.array(['cat', 1, 2.4, True])\n",
    "print(z_np)\n",
    "print(z_np.dtype)\n",
    "print(type(z_np[2]))"
   ]
  },
  {
   "cell_type": "code",
   "execution_count": 9,
   "metadata": {},
   "outputs": [
    {
     "name": "stdout",
     "output_type": "stream",
     "text": [
      "[1.  2.4 1. ]\n",
      "float64\n"
     ]
    }
   ],
   "source": [
    "z_np = np.array([1, 2.4, True])\n",
    "print(z_np)\n",
    "print(z_np.dtype) # целое число и логическое значение превратились во float"
   ]
  },
  {
   "cell_type": "code",
   "execution_count": 15,
   "metadata": {},
   "outputs": [
    {
     "name": "stdout",
     "output_type": "stream",
     "text": [
      "[1 1]\n",
      "int64\n"
     ]
    }
   ],
   "source": [
    "z_np = np.array([1, True])\n",
    "print(z_np)\n",
    "print(z_np.dtype) # логическое значение превратилось в integer"
   ]
  },
  {
   "cell_type": "code",
   "execution_count": 17,
   "metadata": {},
   "outputs": [
    {
     "name": "stdout",
     "output_type": "stream",
     "text": [
      "[ True]\n"
     ]
    }
   ],
   "source": [
    "z_np = np.array([True]) # и только одинокий True смог остаться сам собой\n",
    "print(z_np)"
   ]
  },
  {
   "cell_type": "code",
   "execution_count": 19,
   "metadata": {},
   "outputs": [
    {
     "name": "stderr",
     "output_type": "stream",
     "text": [
      "<ipython-input-19-372b51043c53>:1: VisibleDeprecationWarning: Creating an ndarray from ragged nested sequences (which is a list-or-tuple of lists-or-tuples-or ndarrays with different lengths or shapes) is deprecated. If you meant to do this, you must specify 'dtype=object' when creating the ndarray\n",
      "  np.array([[0, 0, 1],\n"
     ]
    },
    {
     "data": {
      "text/plain": [
       "array([list([0, 0, 1]), list([0, 1])], dtype=object)"
      ]
     },
     "execution_count": 19,
     "metadata": {},
     "output_type": "execute_result"
    }
   ],
   "source": [
    "np.array([[0, 0, 1],\n",
    "         [0, 1]]) "
   ]
  },
  {
   "cell_type": "code",
   "execution_count": 20,
   "metadata": {},
   "outputs": [
    {
     "name": "stdout",
     "output_type": "stream",
     "text": [
      "[[ 2  4  7]\n",
      " [29  4  4]]\n"
     ]
    }
   ],
   "source": [
    "A = np.array([[2, 4, 7], [29, 4, 4]])\n",
    "print(A)"
   ]
  },
  {
   "cell_type": "code",
   "execution_count": 22,
   "metadata": {},
   "outputs": [
    {
     "name": "stdout",
     "output_type": "stream",
     "text": [
      "4\n"
     ]
    }
   ],
   "source": [
    "print(A[0][1]) # выведи значение в первом ряду во второй колонке"
   ]
  },
  {
   "cell_type": "code",
   "execution_count": 24,
   "metadata": {},
   "outputs": [
    {
     "name": "stdout",
     "output_type": "stream",
     "text": [
      "4\n",
      "[4 4]\n",
      "[2 4 7]\n",
      "[4 7]\n"
     ]
    }
   ],
   "source": [
    "print(A[0, 1]) # выведи значение в первом ряду во второй колонке\n",
    "print(A[:, 1]) # выведи все ряды (:), но только вторую колонку\n",
    "print(A[0, :]) # выведи только первый ряд, но все колонки\n",
    "print(A[0, 1:]) # выведи только первый ряд, только колонки со второй и до конца"
   ]
  },
  {
   "cell_type": "code",
   "execution_count": 25,
   "metadata": {},
   "outputs": [
    {
     "name": "stdout",
     "output_type": "stream",
     "text": [
      "6\n",
      "8.333333333333334\n"
     ]
    }
   ],
   "source": [
    "print(A.size) # атрибут — показывает количество элементов в массиве \n",
    "print(A.mean()) # метод — находит среднее арифметическое массива"
   ]
  },
  {
   "cell_type": "code",
   "execution_count": 26,
   "metadata": {},
   "outputs": [
    {
     "name": "stdout",
     "output_type": "stream",
     "text": [
      "(2, 3)\n"
     ]
    }
   ],
   "source": [
    "print(A.shape) # в массиве два ряда и три колонки"
   ]
  },
  {
   "cell_type": "code",
   "execution_count": 27,
   "metadata": {},
   "outputs": [
    {
     "name": "stdout",
     "output_type": "stream",
     "text": [
      "16\n"
     ]
    }
   ],
   "source": [
    "print(y_np.sum())"
   ]
  },
  {
   "cell_type": "markdown",
   "metadata": {},
   "source": [
    "### Эксперимент #1"
   ]
  },
  {
   "cell_type": "markdown",
   "metadata": {},
   "source": [
    "Вычислительные операции быстрее выполняются с массивами numpy чем со списками. Давайте создадим два списка из 1000000 случайных чисел и перемножим их.\n",
    "\n",
    "Сначала перемножаем элементы списка Python с помощью цикла for. Засекаем время начала и конца операции, выводим разницу."
   ]
  },
  {
   "cell_type": "code",
   "execution_count": 28,
   "metadata": {},
   "outputs": [
    {
     "name": "stdout",
     "output_type": "stream",
     "text": [
      "Сколько времени заняло перемножение списков? 0.09409689903259277 сек\n"
     ]
    }
   ],
   "source": [
    "import time\n",
    "\n",
    "# задаем размер наших списков\n",
    "size = 1000000  \n",
    "   \n",
    "# объявляем списки\n",
    "list1 = range(size)\n",
    "list2 = range(size)\n",
    "\n",
    "# запоминаем временную метку\n",
    "initial_time = time.time()\n",
    "  \n",
    "# перемножаем элементы списков\n",
    "result_list = [(a * b) for a, b in zip(list1, list2)]\n",
    "list_time = time.time() - initial_time\n",
    "\n",
    "# смотрим, сколько времени это заняло\n",
    "print(\"Сколько времени заняло перемножение списков?\", list_time, \"сек\")"
   ]
  },
  {
   "cell_type": "markdown",
   "metadata": {},
   "source": [
    "Теперь проделаем то же с массивами NumPy."
   ]
  },
  {
   "cell_type": "code",
   "execution_count": 30,
   "metadata": {},
   "outputs": [
    {
     "name": "stdout",
     "output_type": "stream",
     "text": [
      "Сколько времени заняло перемножение массивов numpy? 0.005960941314697266 сек.\n"
     ]
    }
   ],
   "source": [
    "# объявляем массивы numpy\n",
    "array1 = np.arange(size)  \n",
    "array2 = np.arange(size)\n",
    "   \n",
    "# запоминаем временную метку\n",
    "initial_time = time.time()\n",
    "  \n",
    "# перемножаем массивы\n",
    "result_array = array1 * array2\n",
    "\n",
    "array_time = time.time() - initial_time\n",
    "\n",
    "# смотрим, сколько времени это заняло\n",
    "print(\"Сколько времени заняло перемножение массивов numpy?\", array_time, \"сек.\")"
   ]
  },
  {
   "cell_type": "code",
   "execution_count": 32,
   "metadata": {},
   "outputs": [
    {
     "name": "stdout",
     "output_type": "stream",
     "text": [
      "16\n"
     ]
    }
   ],
   "source": [
    "print(round(list_time/array_time))"
   ]
  },
  {
   "cell_type": "markdown",
   "metadata": {},
   "source": [
    "### Эксперимент #2"
   ]
  },
  {
   "cell_type": "markdown",
   "metadata": {},
   "source": [
    "Теперь давайте убедимся, почему использовать метод `.sum()` для массивов NumPy предпочтительней, чем функцию `sum()` из стандарной библиотеки Python. Также создадим список из 1000000 случайных чисел и просуммируем их разными способами."
   ]
  },
  {
   "cell_type": "code",
   "execution_count": 33,
   "metadata": {},
   "outputs": [
    {
     "name": "stdout",
     "output_type": "stream",
     "text": [
      "Находим сумму элементов списка с функцией sum(): 0.014373779296875\n",
      "Находим сумму элементов массива с нативным методом .sum(): 0.0008249282836914062\n",
      "Находим сумму элементов массива с функцией .sum(): 0.1335282325744629\n"
     ]
    }
   ],
   "source": [
    "size = 1000000  \n",
    "list1 = range(size)\n",
    "array1 = np.array(list1)\n",
    "\n",
    "initial_time = time.time()\n",
    "list_sum = sum(list1) # складываем числа списка Python стандартной функцией\n",
    "sum1_time = time.time() - initial_time\n",
    "\n",
    "initial_time = time.time()\n",
    "array_sum = array1.sum() # складываем числа массива NumPy методом массива\n",
    "sum2_time = time.time() - initial_time\n",
    "\n",
    "initial_time = time.time()\n",
    "array2_sum = sum(array1) # складываем числа массива NumPy стандартной функцией\n",
    "sum3_time = time.time() - initial_time\n",
    "\n",
    "print('Находим сумму элементов списка с функцией sum():', sum1_time)\n",
    "print('Находим сумму элементов массива с нативным методом .sum():', sum2_time)\n",
    "print('Находим сумму элементов массива с функцией .sum():', sum3_time)"
   ]
  }
 ],
 "metadata": {
  "kernelspec": {
   "display_name": "Python 3",
   "language": "python",
   "name": "python3"
  },
  "language_info": {
   "codemirror_mode": {
    "name": "ipython",
    "version": 3
   },
   "file_extension": ".py",
   "mimetype": "text/x-python",
   "name": "python",
   "nbconvert_exporter": "python",
   "pygments_lexer": "ipython3",
   "version": "3.8.5"
  }
 },
 "nbformat": 4,
 "nbformat_minor": 4
}
