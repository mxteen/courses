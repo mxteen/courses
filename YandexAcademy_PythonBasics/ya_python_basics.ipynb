{
 "cells": [
  {
   "cell_type": "markdown",
   "metadata": {
    "toc": true
   },
   "source": [
    "<h1>Table of Contents<span class=\"tocSkip\"></span></h1>\n",
    "<div class=\"toc\"><ul class=\"toc-item\"><li><span><a href=\"#Базовые-конструкции-Python\" data-toc-modified-id=\"Базовые-конструкции-Python-1\"><span class=\"toc-item-num\">1&nbsp;&nbsp;</span>Базовые конструкции Python</a></span><ul class=\"toc-item\"><li><span><a href=\"#Ввод-и-вывод-данных.-Операции-с-числами,-строками.-Форматирование\" data-toc-modified-id=\"Ввод-и-вывод-данных.-Операции-с-числами,-строками.-Форматирование-1.1\"><span class=\"toc-item-num\">1.1&nbsp;&nbsp;</span>Ввод и вывод данных. Операции с числами, строками. Форматирование</a></span></li><li><span><a href=\"#Задачи\" data-toc-modified-id=\"Задачи-1.2\"><span class=\"toc-item-num\">1.2&nbsp;&nbsp;</span>Задачи</a></span></li></ul></li><li><span><a href=\"#Объектно-ориентированное-программирование\" data-toc-modified-id=\"Объектно-ориентированное-программирование-2\"><span class=\"toc-item-num\">2&nbsp;&nbsp;</span>Объектно ориентированное программирование</a></span><ul class=\"toc-item\"><li><span><a href=\"#Объектная-модель-Python.-Классы,-поля-и-методы\" data-toc-modified-id=\"Объектная-модель-Python.-Классы,-поля-и-методы-2.1\"><span class=\"toc-item-num\">2.1&nbsp;&nbsp;</span>Объектная модель Python. Классы, поля и методы</a></span></li></ul></li></ul></div>"
   ]
  },
  {
   "cell_type": "markdown",
   "metadata": {},
   "source": [
    "# Основы Python\n",
    "\n",
    "https://academy.yandex.ru/handbook/python\n",
    "\n"
   ]
  },
  {
   "cell_type": "markdown",
   "metadata": {},
   "source": [
    "## Базовые конструкции Python"
   ]
  },
  {
   "cell_type": "markdown",
   "metadata": {},
   "source": [
    "### Ввод и вывод данных. Операции с числами, строками. Форматирование"
   ]
  },
  {
   "cell_type": "markdown",
   "metadata": {},
   "source": [
    "Данные в программу могут поступать различными способами. Самый простой и привычный для пользователя — это ввод с клавиатуры. Для этого в Python используется функция `input()`, которая возвращает в программу введённую пользователем строку. Но данные нужно куда-то сохранить, и в этом нам помогают переменные. Переменным назначаются имена, в них записываются значения, и затем они используются в программе по мере необходимости.\n",
    "\n",
    "Напишем программу, которая получает от пользователя строку и выводит на экран:"
   ]
  },
  {
   "cell_type": "code",
   "execution_count": 1,
   "metadata": {},
   "outputs": [
    {
     "name": "stdout",
     "output_type": "stream",
     "text": [
      "\n"
     ]
    }
   ],
   "source": [
    "phrase = input()\n",
    "print(phrase)"
   ]
  },
  {
   "cell_type": "markdown",
   "metadata": {},
   "source": [
    "После ввода данных необходимо нажать клавишу Enter. Программа запишет введённые данные в переменную `phrase` и продолжит выполнение со следующей строчки. Переменная начинает существовать в программе, когда в неё записывается какое-то значение. В момент записи значения переменной назначается тип данных, определённый в соответствии со значением.\n",
    "\n",
    "В нашем примере в переменную `phrase` записывается строка, введённая пользователем. Поэтому переменной `phrase` назначается встроенный в язык Python тип данных `str`. Тип данных `str` используется для хранения строк, а сами строки являются упорядоченной последовательностью символов.\n",
    "\n",
    "У функции `input()` можно задать параметр-строку перед вводом значения — и тогда указанный текст будет сопровождать приглашение к вводу данных:"
   ]
  },
  {
   "cell_type": "code",
   "execution_count": 2,
   "metadata": {},
   "outputs": [
    {
     "name": "stdout",
     "output_type": "stream",
     "text": [
      "\n"
     ]
    }
   ],
   "source": [
    "phrase = input(\"Введите строку: \")\n",
    "print(phrase)"
   ]
  },
  {
   "cell_type": "markdown",
   "metadata": {},
   "source": [
    "Для именования переменных и правильного оформления кода существует стандарт [PEP 8 (Python Enhancement Proposals)](https://peps.python.org/pep-0008/), который следует соблюдать. Согласно стандарту PEP 8, имена переменных должны содержать маленькие буквы английского алфавита и символ «подчёркивание» для разделения слов в имени. Пример имён переменных по стандарту: value, first_value.\n",
    "\n",
    "Нельзя использовать следующие однобуквенные имена переменных:\n",
    "\n",
    "* I (большая английская i);\n",
    "* l (маленькая английская L);\n",
    "* O.\n",
    "\n",
    "Эти однобуквенные имена усложнят читаемость кода, так как могут быть перепутаны между собой или с цифрами. Все стандарты PEP можно посмотреть на [этой странице](https://peps.python.org/).\n",
    "\n",
    "Но вернёмся к функции `print()`. С её помощью можно выводить сразу несколько значений. Для этого их нужно перечислить через запятую. Выведем, например, фразу `Добрый день, %имя%.`:"
   ]
  },
  {
   "cell_type": "code",
   "execution_count": 3,
   "metadata": {},
   "outputs": [
    {
     "name": "stdout",
     "output_type": "stream",
     "text": [
      "Добрый день, Пользователь .\n"
     ]
    }
   ],
   "source": [
    "name = \"Пользователь\"\n",
    "print(\"Добрый день,\", name, \".\")"
   ]
  },
  {
   "cell_type": "markdown",
   "metadata": {},
   "source": [
    "Как видим, результат работы программы не соответствует нашим ожиданиям, так как между словом «Пользователь» и точкой появился пробел. Данный пробел является символом, который по умолчанию ставится между выводимыми значениями. Вместо пробела можно указать любую другую строку, даже пустую. Для этого нужно передать в функцию `print()` именованный аргумент `sep` (англ. separator — «разделитель»). Сделаем так, чтобы вместо пробела в качестве разделителя использовалась пустая строка\n",
    "\n"
   ]
  },
  {
   "cell_type": "code",
   "execution_count": 4,
   "metadata": {},
   "outputs": [
    {
     "name": "stdout",
     "output_type": "stream",
     "text": [
      "Добрый день, Пользователь.\n"
     ]
    }
   ],
   "source": [
    "name = \"Пользователь\"\n",
    "print(\"Добрый день, \", name, \".\", sep=\"\")"
   ]
  },
  {
   "cell_type": "markdown",
   "metadata": {},
   "source": [
    "Но в таком случае необходимые пробелы нам придётся ставить самим, а это неудобно. К счастью, в Python существует удобный и мощный инструмент для форматирования строк — f-строки. Чтобы задать f-строку, необходимо поставить букву f перед открывающей кавычкой строки. Далее f-строка записывается как единое целое, с учётом правил её форматирования, и закрывается соответствующей кавычкой:"
   ]
  },
  {
   "cell_type": "code",
   "execution_count": 5,
   "metadata": {},
   "outputs": [
    {
     "name": "stdout",
     "output_type": "stream",
     "text": [
      "Добрый день, Пользователь.\n"
     ]
    }
   ],
   "source": [
    "name = \"Пользователь\"\n",
    "print(f\"Добрый день, {name}.\")"
   ]
  },
  {
   "cell_type": "markdown",
   "metadata": {},
   "source": [
    "Внутри f-строк можно обращаться к переменным, используя фигурные скобки, как в примере выше, а также производить операции, выполнять функции и подставлять их результаты в данную строку. И это только малая часть возможностей f-строк. Более подробно про них можно почитать в данном [источнике](https://docs.python.org/3/tutorial/inputoutput.html#formatted-string-literals).\n",
    "\n",
    "Использование f-строк является приоритетным способом форматирования. Наряду с f-строками существует функция `format()`, которая также предназначена для удобного форматирования (мы рассмотрим её чуть позже). Также форматирование строк может производиться с помощью символа %. Однако данный способ форматирования является устаревшим ([здесь](https://docs.python.org/3/tutorial/inputoutput.html#old-string-formatting) можно почитать про него подробнее)."
   ]
  },
  {
   "cell_type": "markdown",
   "metadata": {},
   "source": [
    "В строках можно применять управляющие символы, начинающиеся с символа «слеш» (). Например:\n",
    "\n",
    "- `\\n` — переход на новую строку;\n",
    "- `\\t`— табуляция;\n",
    "- `\\r` — возврат каретки в начало строки;\n",
    "- `\\b` — возврат каретки на один символ.\n",
    "\n",
    "Кроме того, с помощью слеша можно экранировать символы, то есть делать их частью выводимой строки. Например, для вывода символа `\\` необходимо его экранировать самим собой:"
   ]
  },
  {
   "cell_type": "code",
   "execution_count": 6,
   "metadata": {},
   "outputs": [
    {
     "name": "stdout",
     "output_type": "stream",
     "text": [
      "\\\n"
     ]
    }
   ],
   "source": [
    "print(\"\\\\\")"
   ]
  },
  {
   "cell_type": "markdown",
   "metadata": {},
   "source": [
    "Подробнее об экранировании можно почитать в этом [источнике](https://docs.python.org/3/reference/lexical_analysis.html#string-and-bytes-literals).\n",
    "\n",
    "В функции `print()` кроме параметра sep существует параметр `end`, который определяет символ в конце строки. Значение по умолчанию для него — переход на новую строку, обозначаемый как `\\n`. Если вывести строки с помощью нескольких использований функции `print()`, то вывод каждой из них будет осуществлён с новой строки:"
   ]
  },
  {
   "cell_type": "code",
   "execution_count": 7,
   "metadata": {},
   "outputs": [
    {
     "name": "stdout",
     "output_type": "stream",
     "text": [
      "Привет, Пользователь!\n",
      "Как дела?\n"
     ]
    }
   ],
   "source": [
    "print(\"Привет, Пользователь!\")\n",
    "print(\"Как дела?\")"
   ]
  },
  {
   "cell_type": "markdown",
   "metadata": {},
   "source": [
    "Над строками можно производить следующие операции:\n",
    "\n",
    "- сложение (конкатенация строк);\n",
    "- умножение строки на целое число.\n",
    "\n",
    "Результатом сложения строк будет новая строка, представляющая собой записанные последовательно складываемые строки (строки как бы склеиваются друг с другом, образуя новую строку)."
   ]
  },
  {
   "cell_type": "code",
   "execution_count": 8,
   "metadata": {},
   "outputs": [
    {
     "name": "stdout",
     "output_type": "stream",
     "text": [
      "Сложноподчинённый\n"
     ]
    }
   ],
   "source": [
    "print(\"Сложно\" + \"подчинённый\")"
   ]
  },
  {
   "cell_type": "markdown",
   "metadata": {},
   "source": [
    "При умножении строки на целое число `n` получается новая строка, состоящая из `n` дублирований исходной строки. Например, выведем 10 символов - подряд:"
   ]
  },
  {
   "cell_type": "code",
   "execution_count": 9,
   "metadata": {},
   "outputs": [
    {
     "name": "stdout",
     "output_type": "stream",
     "text": [
      "----------\n"
     ]
    }
   ],
   "source": [
    "print(\"-\" * 10)"
   ]
  },
  {
   "cell_type": "markdown",
   "metadata": {},
   "source": [
    "Для создания целочисленной переменной в программе достаточно назначить ей имя и присвоить целочисленное значение. Например:"
   ]
  },
  {
   "cell_type": "code",
   "execution_count": 10,
   "metadata": {},
   "outputs": [],
   "source": [
    "n = 10"
   ]
  },
  {
   "cell_type": "markdown",
   "metadata": {},
   "source": [
    "По аналогии создаются вещественные числовые переменные, только в качестве разделителя целой и дробной частей используется десятичный разделитель «точка»:"
   ]
  },
  {
   "cell_type": "code",
   "execution_count": 11,
   "metadata": {},
   "outputs": [],
   "source": [
    "pi = 3.14"
   ]
  },
  {
   "cell_type": "markdown",
   "metadata": {},
   "source": [
    "Для преобразования строк в числа и наоборот используются следующие функции:\n",
    "\n",
    "- `int()` — преобразует строку (или вещественное число) в целое число. Дополнительно можно указать, в какой системе счисления было записано исходное число. По умолчанию используется десятичная система. При конвертации вещественного числа в целое отбрасывается дробная часть;\n",
    "- `float()` — преобразует строку (или целое число) в вещественное число;\n",
    "- `str()` — преобразует значения (в общем случае не только числовые) в строки."
   ]
  },
  {
   "cell_type": "code",
   "execution_count": 12,
   "metadata": {},
   "outputs": [
    {
     "name": "stdout",
     "output_type": "stream",
     "text": [
      "12\n",
      "3\n"
     ]
    }
   ],
   "source": [
    "n_1 = \"1\"\n",
    "n_2 = \"2\"\n",
    "print(n_1 + n_2)\n",
    "n_1 = int(n_1)\n",
    "n_2 = int(n_2)\n",
    "print(n_1 + n_2)"
   ]
  },
  {
   "cell_type": "markdown",
   "metadata": {},
   "source": [
    "Первый результат — результат сложения (конкатенации) двух строк. Второй — результат сложения целых чисел, которые были преобразованы из строк функцией `int()`."
   ]
  },
  {
   "cell_type": "code",
   "execution_count": 13,
   "metadata": {},
   "outputs": [
    {
     "name": "stdout",
     "output_type": "stream",
     "text": [
      "3\n"
     ]
    }
   ],
   "source": [
    "x = 3.89\n",
    "x = int(x)\n",
    "print(x)"
   ]
  },
  {
   "cell_type": "markdown",
   "metadata": {},
   "source": [
    "Здесь программа выведет в консоли результат 3. Дробная часть после десятичного разделителя была отброшена при преобразовании в целое число."
   ]
  },
  {
   "cell_type": "code",
   "execution_count": 14,
   "metadata": {},
   "outputs": [
    {
     "name": "stdout",
     "output_type": "stream",
     "text": [
      "9.25\n"
     ]
    }
   ],
   "source": [
    "width = \"3.7\"\n",
    "height = \"2.5\"\n",
    "s = float(width) * float(height)\n",
    "print(s)"
   ]
  },
  {
   "cell_type": "markdown",
   "metadata": {},
   "source": [
    "А чтобы вводить целые или вещественные числа с клавиатуры, можно использовать уже знакомую нам функцию input() в сочетании с функциями `int()` и `float()`:"
   ]
  },
  {
   "cell_type": "code",
   "execution_count": 15,
   "metadata": {},
   "outputs": [
    {
     "ename": "ValueError",
     "evalue": "invalid literal for int() with base 10: ''",
     "output_type": "error",
     "traceback": [
      "\u001b[1;31m---------------------------------------------------------------------------\u001b[0m",
      "\u001b[1;31mValueError\u001b[0m                                Traceback (most recent call last)",
      "Cell \u001b[1;32mIn [15], line 1\u001b[0m\n\u001b[1;32m----> 1\u001b[0m int_number \u001b[39m=\u001b[39m \u001b[39mint\u001b[39;49m(\u001b[39minput\u001b[39;49m())\n\u001b[0;32m      2\u001b[0m float_number \u001b[39m=\u001b[39m \u001b[39mfloat\u001b[39m(\u001b[39minput\u001b[39m())\n",
      "\u001b[1;31mValueError\u001b[0m: invalid literal for int() with base 10: ''"
     ]
    }
   ],
   "source": [
    "int_number = int(input())\n",
    "float_number = float(input())"
   ]
  },
  {
   "cell_type": "code",
   "execution_count": null,
   "metadata": {},
   "outputs": [
    {
     "data": {
      "text/plain": [
       "(5, 5.8)"
      ]
     },
     "execution_count": 11,
     "metadata": {},
     "output_type": "execute_result"
    }
   ],
   "source": [
    "int_number, float_number"
   ]
  },
  {
   "cell_type": "markdown",
   "metadata": {},
   "source": [
    "Для работы с числовыми переменными доступны следующие математические операции:\n",
    "\n",
    "- сложение — x + y;\n",
    "- вычитание — x - y;\n",
    "- умножение — x * y;\n",
    "- деление — x / y;\n",
    "- возведение в степень x ** y."
   ]
  },
  {
   "cell_type": "code",
   "execution_count": null,
   "metadata": {},
   "outputs": [
    {
     "name": "stdout",
     "output_type": "stream",
     "text": [
      "25.5\n",
      "24.5\n",
      "12.5\n",
      "50.0\n",
      "5.0\n"
     ]
    }
   ],
   "source": [
    "n = 25\n",
    "x = 0.5\n",
    "\n",
    "print(n + x)\n",
    "print(n - x)\n",
    "print(n * x)\n",
    "print(n / x)\n",
    "print(n ** x)"
   ]
  },
  {
   "cell_type": "markdown",
   "metadata": {},
   "source": [
    "Необходимо учитывать, что если выполняется операция деления или хотя бы один из операндов является вещественным числом, то результат также будет вещественным.\n",
    "\n",
    "Например, выполнение следующего кода выведет на экран 2.0"
   ]
  },
  {
   "cell_type": "code",
   "execution_count": null,
   "metadata": {},
   "outputs": [
    {
     "name": "stdout",
     "output_type": "stream",
     "text": [
      "2.0\n"
     ]
    }
   ],
   "source": [
    "print(4 / 2)"
   ]
  },
  {
   "cell_type": "markdown",
   "metadata": {},
   "source": [
    "Для целых чисел дополнительно доступны операции:\n",
    "\n",
    "- целочисленное деление — x // y;\n",
    "- остаток от деления — x % y.\n",
    "\n",
    "Эти операции можно использовать, например, для получения определённых цифр числа. Получим последнюю цифру числа 1234 (то есть остаток от деления на 10):"
   ]
  },
  {
   "cell_type": "code",
   "execution_count": null,
   "metadata": {},
   "outputs": [
    {
     "data": {
      "text/plain": [
       "4"
      ]
     },
     "execution_count": 14,
     "metadata": {},
     "output_type": "execute_result"
    }
   ],
   "source": [
    "last_digit = 1234 % 10\n",
    "last_digit"
   ]
  },
  {
   "cell_type": "markdown",
   "metadata": {},
   "source": [
    "Для получения предпоследней цифры нужно «отрезать» последнюю цифру целочисленным делением на 10, а затем у нового числа найти последнюю цифру — уже известным нам способом:"
   ]
  },
  {
   "cell_type": "code",
   "execution_count": null,
   "metadata": {},
   "outputs": [
    {
     "data": {
      "text/plain": [
       "3"
      ]
     },
     "execution_count": 15,
     "metadata": {},
     "output_type": "execute_result"
    }
   ],
   "source": [
    "penultimate_digit = 1234 // 10 % 10\n",
    "penultimate_digit"
   ]
  },
  {
   "cell_type": "code",
   "execution_count": null,
   "metadata": {},
   "outputs": [
    {
     "data": {
      "text/plain": [
       "123"
      ]
     },
     "execution_count": 16,
     "metadata": {},
     "output_type": "execute_result"
    }
   ],
   "source": [
    "1234 // 10"
   ]
  },
  {
   "cell_type": "code",
   "execution_count": null,
   "metadata": {},
   "outputs": [
    {
     "data": {
      "text/plain": [
       "3"
      ]
     },
     "execution_count": 17,
     "metadata": {},
     "output_type": "execute_result"
    }
   ],
   "source": [
    "123 % 10"
   ]
  },
  {
   "cell_type": "markdown",
   "metadata": {},
   "source": [
    "### Задачи "
   ]
  },
  {
   "cell_type": "markdown",
   "metadata": {},
   "source": [
    "**Привет, Яндекс!**\n",
    "\n",
    "Когда мы приходим на встречу, то первым делом здороваемся. Давайте тоже поприветствуем Яндекс.\n",
    "\n",
    "    Формат вывода. Одна строка: «Привет, Яндекс!»"
   ]
  },
  {
   "cell_type": "code",
   "execution_count": null,
   "metadata": {},
   "outputs": [
    {
     "name": "stdout",
     "output_type": "stream",
     "text": [
      "Привет, Яндекс!\n"
     ]
    }
   ],
   "source": [
    "print('Привет, Яндекс!')"
   ]
  },
  {
   "cell_type": "markdown",
   "metadata": {},
   "source": [
    "**Привет, всем!**\n",
    "\n",
    "\n",
    "Но вообще, хорошо бы узнать имя собеседника, а уже потом его приветствовать.\n",
    "\n",
    "Напишите диалоговую программу, которая сначала познакомится со своим пользователем, а затем поздоровается с ним.\n",
    "\n",
    "    Формат ввода. Одна строка — имя пользователя программы.\n",
    "\n",
    "    Формат вывода. В первой строке написан вопрос: «Как Вас зовут?» Во второй строке — приветствие пользователя: «Привет, %username%»."
   ]
  },
  {
   "cell_type": "code",
   "execution_count": null,
   "metadata": {},
   "outputs": [
    {
     "name": "stdout",
     "output_type": "stream",
     "text": [
      "Bob\n",
      "Как Вас зовут?\n",
      "Привет, Bob\n"
     ]
    }
   ],
   "source": [
    "name = input()\n",
    "print('Как Вас зовут?', f'Привет, {name}', sep='\\n')"
   ]
  },
  {
   "cell_type": "markdown",
   "metadata": {},
   "source": [
    "**Излишняя автоматизация**\n",
    "\n",
    "«Повторение — мать учения!» и «Если это можно автоматизировать — автоматизируй!»\n",
    "Этим принципам следуют многие программисты. Но что будет, если их объединить?\n",
    "\n",
    "    Формат ввода. Одна строка — весьма полезная информация.\n",
    "    Формат вывода. Трижды повторённая весьма полезная информация."
   ]
  },
  {
   "cell_type": "code",
   "execution_count": null,
   "metadata": {},
   "outputs": [
    {
     "name": "stdout",
     "output_type": "stream",
     "text": [
      "3 + 2 = 4\n",
      "3 + 2 = 4\n",
      "3 + 2 = 4\n",
      "3 + 2 = 4\n"
     ]
    }
   ],
   "source": [
    "info = input()\n",
    "print(info, info, info, sep='\\n')"
   ]
  },
  {
   "cell_type": "markdown",
   "metadata": {},
   "source": [
    "**Сдача**\n",
    "\n",
    "\n",
    "Чаще всего автоматизация идёт на пользу.\n",
    "Одна из задач, в которой лучше исключить человеческий фактор, — подсчёт сдачи.\n",
    "Определите, какую сдачу нужно выдать тому, кто купил 2,5кг черешни по цене 38 руб/кг.\n",
    "\n",
    "    Формат ввода. Одно натуральное число - номинал купюры пользователя (≥100).\n",
    "    Формат вывода. Одно натуральное число — размер сдачи."
   ]
  },
  {
   "cell_type": "code",
   "execution_count": null,
   "metadata": {},
   "outputs": [
    {
     "name": "stdout",
     "output_type": "stream",
     "text": [
      "100\n",
      "5\n"
     ]
    }
   ],
   "source": [
    "banknote = int(input())\n",
    "print(int(banknote - 2.5 * 38))"
   ]
  },
  {
   "cell_type": "code",
   "execution_count": null,
   "metadata": {},
   "outputs": [],
   "source": []
  }
 ],
 "metadata": {
  "kernelspec": {
   "display_name": "Python 3",
   "language": "python",
   "name": "python3"
  },
  "language_info": {
   "codemirror_mode": {
    "name": "ipython",
    "version": 3
   },
   "file_extension": ".py",
   "mimetype": "text/x-python",
   "name": "python",
   "nbconvert_exporter": "python",
   "pygments_lexer": "ipython3",
   "version": "3.9.5"
  },
  "toc": {
   "base_numbering": 1,
   "nav_menu": {},
   "number_sections": true,
   "sideBar": true,
   "skip_h1_title": true,
   "title_cell": "Table of Contents",
   "title_sidebar": "Contents",
   "toc_cell": true,
   "toc_position": {},
   "toc_section_display": true,
   "toc_window_display": true
  },
  "vscode": {
   "interpreter": {
    "hash": "5d0773dc45e137a3175e4dfe108602b0e3fa5532889946862bf5514e2ab4927a"
   }
  }
 },
 "nbformat": 4,
 "nbformat_minor": 2
}
