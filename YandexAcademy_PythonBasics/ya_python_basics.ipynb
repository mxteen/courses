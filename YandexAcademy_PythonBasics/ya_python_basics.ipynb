{
 "cells": [
  {
   "cell_type": "markdown",
   "metadata": {
    "toc": true
   },
   "source": [
    "<h1>Table of Contents<span class=\"tocSkip\"></span></h1>\n",
    "<div class=\"toc\"><ul class=\"toc-item\"><li><span><a href=\"#Базовые-конструкции-Python\" data-toc-modified-id=\"Базовые-конструкции-Python-1\"><span class=\"toc-item-num\">1&nbsp;&nbsp;</span>Базовые конструкции Python</a></span><ul class=\"toc-item\"><li><span><a href=\"#Ввод-и-вывод-данных.-Операции-с-числами,-строками.-Форматирование\" data-toc-modified-id=\"Ввод-и-вывод-данных.-Операции-с-числами,-строками.-Форматирование-1.1\"><span class=\"toc-item-num\">1.1&nbsp;&nbsp;</span>Ввод и вывод данных. Операции с числами, строками. Форматирование</a></span></li><li><span><a href=\"#Задачи\" data-toc-modified-id=\"Задачи-1.2\"><span class=\"toc-item-num\">1.2&nbsp;&nbsp;</span>Задачи</a></span></li></ul></li><li><span><a href=\"#Объектно-ориентированное-программирование\" data-toc-modified-id=\"Объектно-ориентированное-программирование-2\"><span class=\"toc-item-num\">2&nbsp;&nbsp;</span>Объектно ориентированное программирование</a></span><ul class=\"toc-item\"><li><span><a href=\"#Объектная-модель-Python.-Классы,-поля-и-методы\" data-toc-modified-id=\"Объектная-модель-Python.-Классы,-поля-и-методы-2.1\"><span class=\"toc-item-num\">2.1&nbsp;&nbsp;</span>Объектная модель Python. Классы, поля и методы</a></span></li><li><span><a href=\"#Задачи\" data-toc-modified-id=\"Задачи-2.2\"><span class=\"toc-item-num\">2.2&nbsp;&nbsp;</span>Задачи</a></span></li></ul></li></ul></div>"
   ]
  },
  {
   "cell_type": "markdown",
   "metadata": {},
   "source": [
    "# Основы Python\n",
    "\n",
    "https://academy.yandex.ru/handbook/python\n",
    "\n"
   ]
  },
  {
   "cell_type": "markdown",
   "metadata": {},
   "source": [
    "## Базовые конструкции Python"
   ]
  },
  {
   "cell_type": "markdown",
   "metadata": {},
   "source": [
    "### Ввод и вывод данных. Операции с числами, строками. Форматирование"
   ]
  },
  {
   "cell_type": "markdown",
   "metadata": {},
   "source": [
    "Данные в программу могут поступать различными способами. Самый простой и привычный для пользователя — это ввод с клавиатуры. Для этого в Python используется функция `input()`, которая возвращает в программу введённую пользователем строку. Но данные нужно куда-то сохранить, и в этом нам помогают переменные. Переменным назначаются имена, в них записываются значения, и затем они используются в программе по мере необходимости.\n",
    "\n",
    "Напишем программу, которая получает от пользователя строку и выводит на экран:"
   ]
  },
  {
   "cell_type": "code",
   "execution_count": 1,
   "metadata": {},
   "outputs": [
    {
     "name": "stdout",
     "output_type": "stream",
     "text": [
      "\n"
     ]
    }
   ],
   "source": [
    "phrase = input()\n",
    "print(phrase)"
   ]
  },
  {
   "cell_type": "markdown",
   "metadata": {},
   "source": [
    "После ввода данных необходимо нажать клавишу Enter. Программа запишет введённые данные в переменную `phrase` и продолжит выполнение со следующей строчки. Переменная начинает существовать в программе, когда в неё записывается какое-то значение. В момент записи значения переменной назначается тип данных, определённый в соответствии со значением.\n",
    "\n",
    "В нашем примере в переменную `phrase` записывается строка, введённая пользователем. Поэтому переменной `phrase` назначается встроенный в язык Python тип данных `str`. Тип данных `str` используется для хранения строк, а сами строки являются упорядоченной последовательностью символов.\n",
    "\n",
    "У функции `input()` можно задать параметр-строку перед вводом значения — и тогда указанный текст будет сопровождать приглашение к вводу данных:"
   ]
  },
  {
   "cell_type": "code",
   "execution_count": 2,
   "metadata": {},
   "outputs": [
    {
     "name": "stdout",
     "output_type": "stream",
     "text": [
      "\n"
     ]
    }
   ],
   "source": [
    "phrase = input(\"Введите строку: \")\n",
    "print(phrase)"
   ]
  },
  {
   "cell_type": "markdown",
   "metadata": {},
   "source": [
    "Для именования переменных и правильного оформления кода существует стандарт [PEP 8 (Python Enhancement Proposals)](https://peps.python.org/pep-0008/), который следует соблюдать. Согласно стандарту PEP 8, имена переменных должны содержать маленькие буквы английского алфавита и символ «подчёркивание» для разделения слов в имени. Пример имён переменных по стандарту: value, first_value.\n",
    "\n",
    "Нельзя использовать следующие однобуквенные имена переменных:\n",
    "\n",
    "* I (большая английская i);\n",
    "* l (маленькая английская L);\n",
    "* O.\n",
    "\n",
    "Эти однобуквенные имена усложнят читаемость кода, так как могут быть перепутаны между собой или с цифрами. Все стандарты PEP можно посмотреть на [этой странице](https://peps.python.org/).\n",
    "\n",
    "Но вернёмся к функции `print()`. С её помощью можно выводить сразу несколько значений. Для этого их нужно перечислить через запятую. Выведем, например, фразу `Добрый день, %имя%.`:"
   ]
  },
  {
   "cell_type": "code",
   "execution_count": 3,
   "metadata": {},
   "outputs": [
    {
     "name": "stdout",
     "output_type": "stream",
     "text": [
      "Добрый день, Пользователь .\n"
     ]
    }
   ],
   "source": [
    "name = \"Пользователь\"\n",
    "print(\"Добрый день,\", name, \".\")"
   ]
  },
  {
   "cell_type": "markdown",
   "metadata": {},
   "source": [
    "Как видим, результат работы программы не соответствует нашим ожиданиям, так как между словом «Пользователь» и точкой появился пробел. Данный пробел является символом, который по умолчанию ставится между выводимыми значениями. Вместо пробела можно указать любую другую строку, даже пустую. Для этого нужно передать в функцию `print()` именованный аргумент `sep` (англ. separator — «разделитель»). Сделаем так, чтобы вместо пробела в качестве разделителя использовалась пустая строка\n",
    "\n"
   ]
  },
  {
   "cell_type": "code",
   "execution_count": 4,
   "metadata": {},
   "outputs": [
    {
     "name": "stdout",
     "output_type": "stream",
     "text": [
      "Добрый день, Пользователь.\n"
     ]
    }
   ],
   "source": [
    "name = \"Пользователь\"\n",
    "print(\"Добрый день, \", name, \".\", sep=\"\")"
   ]
  },
  {
   "cell_type": "markdown",
   "metadata": {},
   "source": [
    "Но в таком случае необходимые пробелы нам придётся ставить самим, а это неудобно. К счастью, в Python существует удобный и мощный инструмент для форматирования строк — f-строки. Чтобы задать f-строку, необходимо поставить букву f перед открывающей кавычкой строки. Далее f-строка записывается как единое целое, с учётом правил её форматирования, и закрывается соответствующей кавычкой:"
   ]
  },
  {
   "cell_type": "code",
   "execution_count": 5,
   "metadata": {},
   "outputs": [
    {
     "name": "stdout",
     "output_type": "stream",
     "text": [
      "Добрый день, Пользователь.\n"
     ]
    }
   ],
   "source": [
    "name = \"Пользователь\"\n",
    "print(f\"Добрый день, {name}.\")"
   ]
  },
  {
   "cell_type": "markdown",
   "metadata": {},
   "source": [
    "Внутри f-строк можно обращаться к переменным, используя фигурные скобки, как в примере выше, а также производить операции, выполнять функции и подставлять их результаты в данную строку. И это только малая часть возможностей f-строк. Более подробно про них можно почитать в данном [источнике](https://docs.python.org/3/tutorial/inputoutput.html#formatted-string-literals).\n",
    "\n",
    "Использование f-строк является приоритетным способом форматирования. Наряду с f-строками существует функция `format()`, которая также предназначена для удобного форматирования (мы рассмотрим её чуть позже). Также форматирование строк может производиться с помощью символа %. Однако данный способ форматирования является устаревшим ([здесь](https://docs.python.org/3/tutorial/inputoutput.html#old-string-formatting) можно почитать про него подробнее)."
   ]
  },
  {
   "cell_type": "markdown",
   "metadata": {},
   "source": [
    "В строках можно применять управляющие символы, начинающиеся с символа «слеш» (). Например:\n",
    "\n",
    "- `\\n` — переход на новую строку;\n",
    "- `\\t`— табуляция;\n",
    "- `\\r` — возврат каретки в начало строки;\n",
    "- `\\b` — возврат каретки на один символ.\n",
    "\n",
    "Кроме того, с помощью слеша можно экранировать символы, то есть делать их частью выводимой строки. Например, для вывода символа `\\` необходимо его экранировать самим собой:"
   ]
  },
  {
   "cell_type": "code",
   "execution_count": 6,
   "metadata": {},
   "outputs": [
    {
     "name": "stdout",
     "output_type": "stream",
     "text": [
      "\\\n"
     ]
    }
   ],
   "source": [
    "print(\"\\\\\")"
   ]
  },
  {
   "cell_type": "markdown",
   "metadata": {},
   "source": [
    "Подробнее об экранировании можно почитать в этом [источнике](https://docs.python.org/3/reference/lexical_analysis.html#string-and-bytes-literals).\n",
    "\n",
    "В функции `print()` кроме параметра sep существует параметр `end`, который определяет символ в конце строки. Значение по умолчанию для него — переход на новую строку, обозначаемый как `\\n`. Если вывести строки с помощью нескольких использований функции `print()`, то вывод каждой из них будет осуществлён с новой строки:"
   ]
  },
  {
   "cell_type": "code",
   "execution_count": 7,
   "metadata": {},
   "outputs": [
    {
     "name": "stdout",
     "output_type": "stream",
     "text": [
      "Привет, Пользователь!\n",
      "Как дела?\n"
     ]
    }
   ],
   "source": [
    "print(\"Привет, Пользователь!\")\n",
    "print(\"Как дела?\")"
   ]
  },
  {
   "cell_type": "markdown",
   "metadata": {},
   "source": [
    "Над строками можно производить следующие операции:\n",
    "\n",
    "- сложение (конкатенация строк);\n",
    "- умножение строки на целое число.\n",
    "\n",
    "Результатом сложения строк будет новая строка, представляющая собой записанные последовательно складываемые строки (строки как бы склеиваются друг с другом, образуя новую строку)."
   ]
  },
  {
   "cell_type": "code",
   "execution_count": 8,
   "metadata": {},
   "outputs": [
    {
     "name": "stdout",
     "output_type": "stream",
     "text": [
      "Сложноподчинённый\n"
     ]
    }
   ],
   "source": [
    "print(\"Сложно\" + \"подчинённый\")"
   ]
  },
  {
   "cell_type": "markdown",
   "metadata": {},
   "source": [
    "При умножении строки на целое число `n` получается новая строка, состоящая из `n` дублирований исходной строки. Например, выведем 10 символов - подряд:"
   ]
  },
  {
   "cell_type": "code",
   "execution_count": 9,
   "metadata": {},
   "outputs": [
    {
     "name": "stdout",
     "output_type": "stream",
     "text": [
      "----------\n"
     ]
    }
   ],
   "source": [
    "print(\"-\" * 10)"
   ]
  },
  {
   "cell_type": "markdown",
   "metadata": {},
   "source": [
    "Для создания целочисленной переменной в программе достаточно назначить ей имя и присвоить целочисленное значение. Например:"
   ]
  },
  {
   "cell_type": "code",
   "execution_count": 10,
   "metadata": {},
   "outputs": [],
   "source": [
    "n = 10"
   ]
  },
  {
   "cell_type": "markdown",
   "metadata": {},
   "source": [
    "По аналогии создаются вещественные числовые переменные, только в качестве разделителя целой и дробной частей используется десятичный разделитель «точка»:"
   ]
  },
  {
   "cell_type": "code",
   "execution_count": 11,
   "metadata": {},
   "outputs": [],
   "source": [
    "pi = 3.14"
   ]
  },
  {
   "cell_type": "markdown",
   "metadata": {},
   "source": [
    "Для преобразования строк в числа и наоборот используются следующие функции:\n",
    "\n",
    "- `int()` — преобразует строку (или вещественное число) в целое число. Дополнительно можно указать, в какой системе счисления было записано исходное число. По умолчанию используется десятичная система. При конвертации вещественного числа в целое отбрасывается дробная часть;\n",
    "- `float()` — преобразует строку (или целое число) в вещественное число;\n",
    "- `str()` — преобразует значения (в общем случае не только числовые) в строки."
   ]
  },
  {
   "cell_type": "code",
   "execution_count": 12,
   "metadata": {},
   "outputs": [
    {
     "name": "stdout",
     "output_type": "stream",
     "text": [
      "12\n",
      "3\n"
     ]
    }
   ],
   "source": [
    "n_1 = \"1\"\n",
    "n_2 = \"2\"\n",
    "print(n_1 + n_2)\n",
    "n_1 = int(n_1)\n",
    "n_2 = int(n_2)\n",
    "print(n_1 + n_2)"
   ]
  },
  {
   "cell_type": "markdown",
   "metadata": {},
   "source": [
    "Первый результат — результат сложения (конкатенации) двух строк. Второй — результат сложения целых чисел, которые были преобразованы из строк функцией `int()`."
   ]
  },
  {
   "cell_type": "code",
   "execution_count": 13,
   "metadata": {},
   "outputs": [
    {
     "name": "stdout",
     "output_type": "stream",
     "text": [
      "3\n"
     ]
    }
   ],
   "source": [
    "x = 3.89\n",
    "x = int(x)\n",
    "print(x)"
   ]
  },
  {
   "cell_type": "markdown",
   "metadata": {},
   "source": [
    "Здесь программа выведет в консоли результат 3. Дробная часть после десятичного разделителя была отброшена при преобразовании в целое число."
   ]
  },
  {
   "cell_type": "code",
   "execution_count": 14,
   "metadata": {},
   "outputs": [
    {
     "name": "stdout",
     "output_type": "stream",
     "text": [
      "9.25\n"
     ]
    }
   ],
   "source": [
    "width = \"3.7\"\n",
    "height = \"2.5\"\n",
    "s = float(width) * float(height)\n",
    "print(s)"
   ]
  },
  {
   "cell_type": "markdown",
   "metadata": {},
   "source": [
    "А чтобы вводить целые или вещественные числа с клавиатуры, можно использовать уже знакомую нам функцию input() в сочетании с функциями `int()` и `float()`:"
   ]
  },
  {
   "cell_type": "code",
   "execution_count": 15,
   "metadata": {},
   "outputs": [
    {
     "ename": "ValueError",
     "evalue": "invalid literal for int() with base 10: ''",
     "output_type": "error",
     "traceback": [
      "\u001b[1;31m---------------------------------------------------------------------------\u001b[0m",
      "\u001b[1;31mValueError\u001b[0m                                Traceback (most recent call last)",
      "Cell \u001b[1;32mIn [15], line 1\u001b[0m\n\u001b[1;32m----> 1\u001b[0m int_number \u001b[39m=\u001b[39m \u001b[39mint\u001b[39;49m(\u001b[39minput\u001b[39;49m())\n\u001b[0;32m      2\u001b[0m float_number \u001b[39m=\u001b[39m \u001b[39mfloat\u001b[39m(\u001b[39minput\u001b[39m())\n",
      "\u001b[1;31mValueError\u001b[0m: invalid literal for int() with base 10: ''"
     ]
    }
   ],
   "source": [
    "int_number = int(input())\n",
    "float_number = float(input())"
   ]
  },
  {
   "cell_type": "code",
   "execution_count": null,
   "metadata": {},
   "outputs": [
    {
     "data": {
      "text/plain": [
       "(5, 5.8)"
      ]
     },
     "execution_count": 11,
     "metadata": {},
     "output_type": "execute_result"
    }
   ],
   "source": [
    "int_number, float_number"
   ]
  },
  {
   "cell_type": "markdown",
   "metadata": {},
   "source": [
    "Для работы с числовыми переменными доступны следующие математические операции:\n",
    "\n",
    "- сложение — x + y;\n",
    "- вычитание — x - y;\n",
    "- умножение — x * y;\n",
    "- деление — x / y;\n",
    "- возведение в степень x ** y."
   ]
  },
  {
   "cell_type": "code",
   "execution_count": null,
   "metadata": {},
   "outputs": [
    {
     "name": "stdout",
     "output_type": "stream",
     "text": [
      "25.5\n",
      "24.5\n",
      "12.5\n",
      "50.0\n",
      "5.0\n"
     ]
    }
   ],
   "source": [
    "n = 25\n",
    "x = 0.5\n",
    "\n",
    "print(n + x)\n",
    "print(n - x)\n",
    "print(n * x)\n",
    "print(n / x)\n",
    "print(n ** x)"
   ]
  },
  {
   "cell_type": "markdown",
   "metadata": {},
   "source": [
    "Необходимо учитывать, что если выполняется операция деления или хотя бы один из операндов является вещественным числом, то результат также будет вещественным.\n",
    "\n",
    "Например, выполнение следующего кода выведет на экран 2.0"
   ]
  },
  {
   "cell_type": "code",
   "execution_count": null,
   "metadata": {},
   "outputs": [
    {
     "name": "stdout",
     "output_type": "stream",
     "text": [
      "2.0\n"
     ]
    }
   ],
   "source": [
    "print(4 / 2)"
   ]
  },
  {
   "cell_type": "markdown",
   "metadata": {},
   "source": [
    "Для целых чисел дополнительно доступны операции:\n",
    "\n",
    "- целочисленное деление — x // y;\n",
    "- остаток от деления — x % y.\n",
    "\n",
    "Эти операции можно использовать, например, для получения определённых цифр числа. Получим последнюю цифру числа 1234 (то есть остаток от деления на 10):"
   ]
  },
  {
   "cell_type": "code",
   "execution_count": null,
   "metadata": {},
   "outputs": [
    {
     "data": {
      "text/plain": [
       "4"
      ]
     },
     "execution_count": 14,
     "metadata": {},
     "output_type": "execute_result"
    }
   ],
   "source": [
    "last_digit = 1234 % 10\n",
    "last_digit"
   ]
  },
  {
   "cell_type": "markdown",
   "metadata": {},
   "source": [
    "Для получения предпоследней цифры нужно «отрезать» последнюю цифру целочисленным делением на 10, а затем у нового числа найти последнюю цифру — уже известным нам способом:"
   ]
  },
  {
   "cell_type": "code",
   "execution_count": null,
   "metadata": {},
   "outputs": [
    {
     "data": {
      "text/plain": [
       "3"
      ]
     },
     "execution_count": 15,
     "metadata": {},
     "output_type": "execute_result"
    }
   ],
   "source": [
    "penultimate_digit = 1234 // 10 % 10\n",
    "penultimate_digit"
   ]
  },
  {
   "cell_type": "code",
   "execution_count": null,
   "metadata": {},
   "outputs": [
    {
     "data": {
      "text/plain": [
       "123"
      ]
     },
     "execution_count": 16,
     "metadata": {},
     "output_type": "execute_result"
    }
   ],
   "source": [
    "1234 // 10"
   ]
  },
  {
   "cell_type": "code",
   "execution_count": null,
   "metadata": {},
   "outputs": [
    {
     "data": {
      "text/plain": [
       "3"
      ]
     },
     "execution_count": 17,
     "metadata": {},
     "output_type": "execute_result"
    }
   ],
   "source": [
    "123 % 10"
   ]
  },
  {
   "cell_type": "markdown",
   "metadata": {},
   "source": [
    "### Задачи "
   ]
  },
  {
   "cell_type": "markdown",
   "metadata": {},
   "source": [
    "**Привет, Яндекс!**\n",
    "\n",
    "Когда мы приходим на встречу, то первым делом здороваемся. Давайте тоже поприветствуем Яндекс.\n",
    "\n",
    "    Формат вывода. Одна строка: «Привет, Яндекс!»"
   ]
  },
  {
   "cell_type": "code",
   "execution_count": null,
   "metadata": {},
   "outputs": [
    {
     "name": "stdout",
     "output_type": "stream",
     "text": [
      "Привет, Яндекс!\n"
     ]
    }
   ],
   "source": [
    "print('Привет, Яндекс!')"
   ]
  },
  {
   "cell_type": "markdown",
   "metadata": {},
   "source": [
    "**Привет, всем!**\n",
    "\n",
    "\n",
    "Но вообще, хорошо бы узнать имя собеседника, а уже потом его приветствовать.\n",
    "\n",
    "Напишите диалоговую программу, которая сначала познакомится со своим пользователем, а затем поздоровается с ним.\n",
    "\n",
    "    Формат ввода. Одна строка — имя пользователя программы.\n",
    "\n",
    "    Формат вывода. В первой строке написан вопрос: «Как Вас зовут?» Во второй строке — приветствие пользователя: «Привет, %username%»."
   ]
  },
  {
   "cell_type": "code",
   "execution_count": null,
   "metadata": {},
   "outputs": [
    {
     "name": "stdout",
     "output_type": "stream",
     "text": [
      "Bob\n",
      "Как Вас зовут?\n",
      "Привет, Bob\n"
     ]
    }
   ],
   "source": [
    "name = input()\n",
    "print('Как Вас зовут?', f'Привет, {name}', sep='\\n')"
   ]
  },
  {
   "cell_type": "markdown",
   "metadata": {},
   "source": [
    "**Излишняя автоматизация**\n",
    "\n",
    "«Повторение — мать учения!» и «Если это можно автоматизировать — автоматизируй!»\n",
    "Этим принципам следуют многие программисты. Но что будет, если их объединить?\n",
    "\n",
    "    Формат ввода. Одна строка — весьма полезная информация.\n",
    "    Формат вывода. Трижды повторённая весьма полезная информация."
   ]
  },
  {
   "cell_type": "code",
   "execution_count": null,
   "metadata": {},
   "outputs": [
    {
     "name": "stdout",
     "output_type": "stream",
     "text": [
      "3 + 2 = 4\n",
      "3 + 2 = 4\n",
      "3 + 2 = 4\n",
      "3 + 2 = 4\n"
     ]
    }
   ],
   "source": [
    "info = input()\n",
    "print(info, info, info, sep='\\n')"
   ]
  },
  {
   "cell_type": "markdown",
   "metadata": {},
   "source": [
    "**Сдача**\n",
    "\n",
    "\n",
    "Чаще всего автоматизация идёт на пользу.\n",
    "Одна из задач, в которой лучше исключить человеческий фактор, — подсчёт сдачи.\n",
    "Определите, какую сдачу нужно выдать тому, кто купил 2,5кг черешни по цене 38 руб/кг.\n",
    "\n",
    "    Формат ввода. Одно натуральное число - номинал купюры пользователя (≥100).\n",
    "    Формат вывода. Одно натуральное число — размер сдачи."
   ]
  },
  {
   "cell_type": "code",
   "execution_count": null,
   "metadata": {},
   "outputs": [
    {
     "name": "stdout",
     "output_type": "stream",
     "text": [
      "100\n",
      "5\n"
     ]
    }
   ],
   "source": [
    "banknote = int(input())\n",
    "print(int(banknote - 2.5 * 38))"
   ]
  },
  {
   "cell_type": "markdown",
   "metadata": {},
   "source": [
    "## Объектно ориентированное программирование"
   ]
  },
  {
   "cell_type": "markdown",
   "metadata": {},
   "source": [
    "### Объектная модель Python. Классы, поля и методы"
   ]
  },
  {
   "cell_type": "markdown",
   "metadata": {},
   "source": [
    "Прежде чем приступить к теории, давайте решим следующую задачу.\n",
    "\n",
    "Напишем программу, которая будет моделировать объекты класса \"автомобиль\". При моделировании необходимо определить степень детализации объектов, которая зависит от действий, выполняемых этими объектами.\n",
    "\n",
    "- Пусть все автомобили имеют разный цвет.\n",
    "- Двигатель можно запустить, если в баке есть топливо.\n",
    "- Двигатель можно заглушить.\n",
    "- На автомобиле можно отправиться в путь на N километров при соблюдении следующих условий: двигатель запущен и запас топлива в баке и средний расход позволяют проехать этот путь.\n",
    "- После поездки запас топлива уменьшается в соответствии со средним расходом.\n",
    "- Автомобиль можно заправить до полного бака в любой момент времени.\n",
    "\n",
    "Выделим важные для нашей программы свойства объектов класса: цвет, средний расход топлива, объём топливного бака, запас топлива, общий пробег.\n",
    "\n",
    "Определим, какие действия может выполнять объект: запустить двигатель, проехать N километров, остановить двигатель, заправить автомобиль. Пока наши знания позволяют использовать в качестве объекта в программе словарь.\n",
    "\n",
    "Попробуем описать объекты этого класса с помощью коллекций и функций:"
   ]
  },
  {
   "cell_type": "code",
   "execution_count": 37,
   "metadata": {},
   "outputs": [],
   "source": [
    "def create_car(color, consumption, tank_volume, mileage=0):\n",
    "    return {\n",
    "        \"color\": color,\n",
    "        \"consumption\": consumption,\n",
    "        \"tank_volume\": tank_volume,\n",
    "        \"reserve\": tank_volume,\n",
    "        \"mileage\": mileage,\n",
    "        \"engine_on\": False\n",
    "    }\n",
    "\n",
    "\n",
    "def start_engine(car):\n",
    "    if not car[\"engine_on\"] and car[\"reserve\"] > 0:\n",
    "        car[\"engine_on\"] = True\n",
    "        return \"Двигатель запущен.\"\n",
    "    return \"Двигатель уже был запущен.\"\n",
    "\n",
    "\n",
    "def stop_engine(car):\n",
    "    if car[\"engine_on\"]:\n",
    "        car[\"engine_on\"] = False\n",
    "        return \"Двигатель остановлен.\"\n",
    "    return \"Двигатель уже был остановлен.\"\n",
    "\n",
    "\n",
    "def drive(car, distance):\n",
    "    if not car[\"engine_on\"]:\n",
    "        return \"Двигатель не запущен.\"\n",
    "    if car[\"reserve\"] / car[\"consumption\"] * 100 < distance:\n",
    "        return \"Малый запас топлива.\"\n",
    "    car[\"mileage\"] += distance\n",
    "    car[\"reserve\"] -= distance / 100 * car[\"consumption\"]\n",
    "    return f\"Проехали {distance} км. Остаток топлива: {car['reserve']} л.\"\n",
    "\n",
    "\n",
    "def refuel(car):\n",
    "    car[\"reserve\"] = car[\"tank_volume\"]\n",
    "\n",
    "\n",
    "def get_mileage(car):\n",
    "    return f\"Пробег {car['mileage']} км.\"\n",
    "\n",
    "\n",
    "def get_reserve(car):\n",
    "    return f\"Запас топлива {car['reserve']} л.\""
   ]
  },
  {
   "cell_type": "code",
   "execution_count": 38,
   "metadata": {},
   "outputs": [
    {
     "name": "stdout",
     "output_type": "stream",
     "text": [
      "Двигатель запущен.\n",
      "Проехали 100 км. Остаток топлива: 45.0 л.\n",
      "Проехали 100 км. Остаток топлива: 35.0 л.\n",
      "Проехали 100 км. Остаток топлива: 25.0 л.\n",
      "Малый запас топлива.\n",
      "Пробег 300 км.\n",
      "Запас топлива 25.0 л.\n",
      "Двигатель остановлен.\n",
      "Двигатель не запущен.\n"
     ]
    }
   ],
   "source": [
    "car_1 = create_car(color=\"black\", consumption=10, tank_volume=55)\n",
    "\n",
    "print(start_engine(car_1))\n",
    "print(drive(car_1, 100))\n",
    "print(drive(car_1, 100))\n",
    "print(drive(car_1, 100))\n",
    "print(drive(car_1, 300))\n",
    "print(get_mileage(car_1))\n",
    "print(get_reserve(car_1))\n",
    "print(stop_engine(car_1))\n",
    "print(drive(car_1, 100))"
   ]
  },
  {
   "cell_type": "markdown",
   "metadata": {},
   "source": [
    "Мы описали все действия над объектом с помощью функций. Такой подход в программировании называется процедурным и долго время был популярным. Он позволяет эффективно решать простые задачи. Однако при усложнении задачи и появлении новых объектов процедурный подход приводит к дублированию и ухудшению читаемости кода.\n",
    "\n",
    "Объектно-ориентированное программирование (ООП) позволяет устранить недостатки процедурного подхода. Язык программирования Python является объектно-ориентированным. Это означает, что каждая сущность (переменная, функция и так далее) в этом языке является объектом определенного класса. Ранее мы говорили, что, например, целое число является в Python типом данных `int`. На самом деле есть класс целых чисел `int`."
   ]
  },
  {
   "cell_type": "code",
   "execution_count": 39,
   "metadata": {},
   "outputs": [
    {
     "name": "stdout",
     "output_type": "stream",
     "text": [
      "<class 'int'>\n"
     ]
    }
   ],
   "source": [
    "print(type(1))"
   ]
  },
  {
   "cell_type": "markdown",
   "metadata": {},
   "source": [
    "Синтаксис создания класса в Python выглядит следующим образом:\n",
    "\n",
    "```Python\n",
    "class <ИмяКласса>:\n",
    "    <описание класса>\n",
    "```"
   ]
  },
  {
   "cell_type": "markdown",
   "metadata": {},
   "source": [
    "Имя класса по стандарту PEP8 записывается в стиле CapWords (каждое слово с прописной буквы).\n",
    "\n",
    "Давайте перепишем пример про автомобили с использованием ООП. Создадим класс `Car` и пока оставим в нём инструкцию-заглушку `pass`:"
   ]
  },
  {
   "cell_type": "code",
   "execution_count": 40,
   "metadata": {},
   "outputs": [],
   "source": [
    "class Car:\n",
    "    pass\n"
   ]
  },
  {
   "cell_type": "markdown",
   "metadata": {},
   "source": [
    "В классах описываются свойства объектов и действия объектов или совершаемые действия над ними.\n",
    "\n",
    "Свойства объектов называются атрибутами. По сути атрибуты — переменные, в значениях которых хранятся свойства объекта. Для создания или изменения значения атрибута необходимо использовать следующий синтаксис:\n",
    "\n",
    "    <имя_объекта>.<имя_атрибута> = <значение>\n",
    "\n",
    "Действия объектов называются методами. Методы очень похожи на функции, в них можно передавать аргументы и возвращать значения с помощью оператора return, но вызываются методы после указания конкретного объекта. Для создания метода используется следующий синтаксис:\n",
    "\n",
    "```Python\n",
    "def <имя_метода>(self, <аргументы>):\n",
    "    <тело метода>\n",
    "```\n",
    "\n",
    "В методах первым аргументом всегда идёт объект `self`. Он является объектом, для которого вызван метод. `self` позволяет использовать внутри описания класса атрибуты объекта в методах и вызывать сами методы.\n",
    "\n",
    "Во всех классах Python есть специальный метод `__init()__`, который вызывается при создании объекта. В этом методе происходит инициализация всех атрибутов класса. В методы можно передавать аргументы. Вернёмся к нашему примеру и создадим в классе метод `__init()__`, который будет при создании автомобиля принимать его свойства как аргументы:\n"
   ]
  },
  {
   "cell_type": "code",
   "execution_count": 41,
   "metadata": {},
   "outputs": [],
   "source": [
    "class Car:\n",
    "\n",
    "    def __init__(self, color, consumption, tank_volume, mileage=0):\n",
    "        self.color = color\n",
    "        self.consumption = consumption\n",
    "        self.tank_volume = tank_volume\n",
    "        self.reserve = tank_volume\n",
    "        self.mileage = mileage\n",
    "        self.engine_on = False\n"
   ]
  },
  {
   "cell_type": "markdown",
   "metadata": {},
   "source": [
    "Итак, мы создали класс автомобилей и описали метод `__init__()` для инициализации его объектов. Для создания объекта класса нужно использовать следующий синтаксис:\n",
    "\n",
    "    <имя_объекта> = <ИмяКласса>(<аргументы метода __init__>)\n",
    "\n",
    "Создадим в программе автомобиль класса `Car`. Для этого добавим следующую строку в основной код программы после описания класса, отделив от класса согласно PEP8 двумя пустыми строками:"
   ]
  },
  {
   "cell_type": "code",
   "execution_count": 42,
   "metadata": {},
   "outputs": [],
   "source": [
    "car_1 = Car(color=\"black\", consumption=10, tank_volume=55)"
   ]
  },
  {
   "cell_type": "markdown",
   "metadata": {},
   "source": [
    "Обратите внимание: наш код стало легче читать, потому что мы видим, что создаётся объект определённого класса, а не просто вызывается функция, из которой возвращается значение-словарь.\n",
    "\n",
    "Опишем с помощью методов какие действия могут совершать объекты класса `Car`. По PEP8 между объявлением методов нужно поставить одну пустую строку."
   ]
  },
  {
   "cell_type": "code",
   "execution_count": 43,
   "metadata": {},
   "outputs": [],
   "source": [
    "class Car:\n",
    "\n",
    "    def __init__(self, color, consumption, tank_volume, mileage=0):\n",
    "        self.color = color\n",
    "        self.consumption = consumption\n",
    "        self.tank_volume = tank_volume\n",
    "        self.reserve = tank_volume\n",
    "        self.mileage = mileage\n",
    "        self.engine_on = False\n",
    "\n",
    "    def start_engine(self):\n",
    "        if not self.engine_on and self.reserve > 0:\n",
    "            self.engine_on = True\n",
    "            return \"Двигатель запущен.\"\n",
    "        return \"Двигатель уже был запущен.\"\n",
    "\n",
    "    def stop_engine(self):\n",
    "        if self.engine_on:\n",
    "            self.engine_on = False\n",
    "            return \"Двигатель остановлен.\"\n",
    "        return \"Двигатель уже был остановлен.\"\n",
    "\n",
    "    def drive(self, distance):\n",
    "        if not self.engine_on:\n",
    "            return \"Двигатель не запущен.\"\n",
    "        if self.reserve / self.consumption * 100 < distance:\n",
    "            return \"Малый запас топлива.\"\n",
    "        self.mileage += distance\n",
    "        self.reserve -= distance / 100 * self.consumption\n",
    "        return f\"Проехали {distance} км. Остаток топлива: {self.reserve} л.\"\n",
    "\n",
    "    def refuel(self):\n",
    "        self.reserve = self.tank_volume\n",
    "\n",
    "    def get_mileage(self):\n",
    "        return self.mileage\n",
    "\n",
    "    def get_reserve(self):\n",
    "        return self.reserve\n",
    "\n"
   ]
  },
  {
   "cell_type": "code",
   "execution_count": 44,
   "metadata": {},
   "outputs": [
    {
     "name": "stdout",
     "output_type": "stream",
     "text": [
      "Двигатель запущен.\n",
      "Проехали 100 км. Остаток топлива: 45.0 л.\n",
      "Проехали 100 км. Остаток топлива: 35.0 л.\n",
      "Проехали 100 км. Остаток топлива: 25.0 л.\n",
      "Малый запас топлива.\n",
      "Пробег 300 км.\n",
      "Запас топлива 25.0 л.\n",
      "Двигатель остановлен.\n",
      "Двигатель не запущен.\n"
     ]
    }
   ],
   "source": [
    "car_1 = Car(color=\"black\", consumption=10, tank_volume=55)\n",
    "print(car_1.start_engine())\n",
    "print(car_1.drive(100))\n",
    "print(car_1.drive(100))\n",
    "print(car_1.drive(100))\n",
    "print(car_1.drive(300))\n",
    "print(f\"Пробег {car_1.get_mileage()} км.\")\n",
    "print(f\"Запас топлива {car_1.get_reserve()} л.\")\n",
    "print(car_1.stop_engine())\n",
    "print(car_1.drive(100))"
   ]
  },
  {
   "cell_type": "markdown",
   "metadata": {},
   "source": [
    "Обратите внимание: взаимодействие с объектом класса вне описания класса осуществляется только с помощью методов и прямого доступа к атрибутам не происходит. Этот принцип ООП называется инкапсуляцией.\n",
    "\n",
    "**Инкапсуляция*** заключается в сокрытии внутреннего устройства класса за интерфейсом, состоящим из методов класса. Это необходимо, чтобы не нарушать логику работы методов внутри класса. Если не следовать принципу инкапсуляции и попытаться взаимодействовать с атрибутами напрямую, то могут происходить изменения, которые приведут к ошибкам. Например, если в нашем примере попытаться изменить пробег напрямую, а не с помощью метода `drive()`, то автомобиль проедет указанный путь даже с пустым баком и без расхода топлива:"
   ]
  },
  {
   "cell_type": "code",
   "execution_count": 45,
   "metadata": {},
   "outputs": [
    {
     "name": "stdout",
     "output_type": "stream",
     "text": [
      "Пробег 1000 км.\n",
      "Запас топлива 55 л.\n"
     ]
    }
   ],
   "source": [
    "car_1 = Car(color=\"black\", consumption=10, tank_volume=55)\n",
    "car_1.mileage = 1000\n",
    "print(f\"Пробег {car_1.get_mileage()} км.\")\n",
    "print(f\"Запас топлива {car_1.get_reserve()} л.\")"
   ]
  },
  {
   "cell_type": "markdown",
   "metadata": {},
   "source": [
    "Напишем ещё один класс для электромобилей. Их отличие будет заключаться в замене топливного бака на заряд аккумуляторной батареи:"
   ]
  },
  {
   "cell_type": "code",
   "execution_count": 47,
   "metadata": {},
   "outputs": [],
   "source": [
    "class ElectricCar:\n",
    "\n",
    "    def __init__(self, color, consumption, bat_capacity, mileage=0):\n",
    "        self.color = color\n",
    "        self.consumption = consumption\n",
    "        self.bat_capacity = bat_capacity\n",
    "        self.reserve = bat_capacity\n",
    "        self.mileage = mileage\n",
    "        self.engine_on = False\n",
    "\n",
    "    def start_engine(self):\n",
    "        if not self.engine_on and self.reserve > 0:\n",
    "            self.engine_on = True\n",
    "            return \"Двигатель запущен.\"\n",
    "        return \"Двигатель уже был запущен.\"\n",
    "\n",
    "    def stop_engine(self):\n",
    "        if self.engine_on:\n",
    "            self.engine_on = False\n",
    "            return \"Двигатель остановлен.\"\n",
    "        return \"Двигатель уже был остановлен.\"\n",
    "\n",
    "    def drive(self, distance):\n",
    "        if not self.engine_on:\n",
    "            return \"Двигатель не запущен.\"\n",
    "        if self.reserve / self.consumption * 100 < distance:\n",
    "            return \"Малый заряд батареи.\"\n",
    "        self.mileage += distance\n",
    "        self.reserve -= distance / 100 * self.consumption\n",
    "        return f\"Проехали {distance} км. Остаток заряда: {self.reserve} кВт*ч.\"\n",
    "\n",
    "    def recharge(self):\n",
    "        self.reserve = self.bat_capacity\n",
    "\n",
    "    def get_mileage(self):\n",
    "        return self.mileage\n",
    "\n",
    "    def get_reserve(self):\n",
    "        return self.reserve\n",
    "    \n",
    "    "
   ]
  },
  {
   "cell_type": "markdown",
   "metadata": {},
   "source": [
    "Напишем функцию `range_reserve()`, которая будет определять для автомобилей классов `Car` и `ElectricCar` запас хода в километрах. *Функции, которые могут работать с объектами разных классов, называются __полиморфными__*. А сам принцип ООП называется **полиморфизмом**.\n",
    "\n",
    "Чтобы функция работала для объектов обоих классов, необходимо предусмотреть одинаковый интерфейс в классах. Это означает, что методы классов, используемые в функции, должны называться одинаково, принимать одинаковые аргументы и возвращать значения одного типа данных.\n",
    "\n",
    "Запас хода в километрах можно вычислить, разделив запас топлива (или заряд батареи) на расход и умножив результат на 100. Определить запас топлива или заряд батареи можно с помощью метода `get_reserve()`. Для соблюдения принципа инкапсуляции добавим метод `get_consumption()` в оба класса для получения значения атрибута `consumption`. Тогда полиморфная функция запишется так:\n",
    "\n",
    "```Python\n",
    "def range_reserve(car):\n",
    "    return car.get_reserve() / car.get_consumption() * 100\n",
    "```"
   ]
  },
  {
   "cell_type": "markdown",
   "metadata": {},
   "source": [
    "Полностью программа с классами, полиморфной функцией и пример их использования представлена ниже:"
   ]
  },
  {
   "cell_type": "code",
   "execution_count": 49,
   "metadata": {},
   "outputs": [],
   "source": [
    "class Car:\n",
    "\n",
    "    def __init__(self, color, consumption, tank_volume, mileage=0):\n",
    "        self.color = color\n",
    "        self.consumption = consumption\n",
    "        self.tank_volume = tank_volume\n",
    "        self.reserve = tank_volume\n",
    "        self.mileage = mileage\n",
    "        self.engine_on = False\n",
    "\n",
    "    def start_engine(self):\n",
    "        if not self.engine_on and self.reserve > 0:\n",
    "            self.engine_on = True\n",
    "            return \"Двигатель запущен.\"\n",
    "        return \"Двигатель уже был запущен.\"\n",
    "\n",
    "    def stop_engine(self):\n",
    "        if self.engine_on:\n",
    "            self.engine_on = False\n",
    "            return \"Двигатель остановлен.\"\n",
    "        return \"Двигатель уже был остановлен.\"\n",
    "\n",
    "    def drive(self, distance):\n",
    "        if not self.engine_on:\n",
    "            return \"Двигатель не запущен.\"\n",
    "        if self.reserve / self.consumption * 100 < distance:\n",
    "            return \"Малый запас топлива.\"\n",
    "        self.mileage += distance\n",
    "        self.reserve -= distance / 100 * self.consumption\n",
    "        return f\"Проехали {distance} км. Остаток топлива: {self.reserve} л.\"\n",
    "\n",
    "    def refuel(self):\n",
    "        self.reserve = self.tank_volume\n",
    "\n",
    "    def get_mileage(self):\n",
    "        return self.mileage\n",
    "\n",
    "    def get_reserve(self):\n",
    "        return self.reserve\n",
    "\n",
    "    def get_consumption(self):\n",
    "        return self.consumption\n",
    "\n",
    "\n",
    "class ElectricCar:\n",
    "\n",
    "    def __init__(self, color, consumption, bat_capacity, mileage=0):\n",
    "        self.color = color\n",
    "        self.consumption = consumption\n",
    "        self.bat_capacity = bat_capacity\n",
    "        self.reserve = bat_capacity\n",
    "        self.mileage = mileage\n",
    "        self.engine_on = False\n",
    "\n",
    "    def start_engine(self):\n",
    "        if not self.engine_on and self.reserve > 0:\n",
    "            self.engine_on = True\n",
    "            return \"Двигатель запущен.\"\n",
    "        return \"Двигатель уже был запущен.\"\n",
    "\n",
    "    def stop_engine(self):\n",
    "        if self.engine_on:\n",
    "            self.engine_on = False\n",
    "            return \"Двигатель остановлен.\"\n",
    "        return \"Двигатель уже был остановлен.\"\n",
    "\n",
    "    def drive(self, distance):\n",
    "        if not self.engine_on:\n",
    "            return \"Двигатель не запущен.\"\n",
    "        if self.reserve / self.consumption * 100 < distance:\n",
    "            return \"Малый заряд батареи.\"\n",
    "        self.mileage += distance\n",
    "        self.reserve -= distance / 100 * self.consumption\n",
    "        return f\"Проехали {distance} км. Остаток заряда: {self.reserve} кВт*ч.\"\n",
    "\n",
    "    def recharge(self):\n",
    "        self.reserve = self.bat_capacity\n",
    "\n",
    "    def get_mileage(self):\n",
    "        return self.mileage\n",
    "\n",
    "    def get_reserve(self):\n",
    "        return self.reserve\n",
    "\n",
    "    def get_consumption(self):\n",
    "        return self.consumption\n",
    "\n",
    "\n",
    "def range_reserve(car):\n",
    "    return car.get_reserve() / car.get_consumption() * 100\n"
   ]
  },
  {
   "cell_type": "code",
   "execution_count": 50,
   "metadata": {},
   "outputs": [
    {
     "name": "stdout",
     "output_type": "stream",
     "text": [
      "Запас хода: 550.0 км.\n",
      "Запас хода: 600.0 км.\n"
     ]
    }
   ],
   "source": [
    "car_1 = Car(color=\"black\", consumption=10, tank_volume=55)\n",
    "car_2 = ElectricCar(color=\"white\", consumption=15, bat_capacity=90)\n",
    "print(f\"Запас хода: {range_reserve(car_1)} км.\")\n",
    "print(f\"Запас хода: {range_reserve(car_2)} км.\")"
   ]
  },
  {
   "cell_type": "markdown",
   "metadata": {},
   "source": [
    "В нашей программе можно заметить, что классы `Car` и `ElectricCar` имеют много общих атрибутов и методов. Это привело к дублированию кода. В следующей главе мы познакомимся с наследованием — принципом ООП, позволяющим устранить подобную избыточность кода."
   ]
  },
  {
   "cell_type": "markdown",
   "metadata": {},
   "source": [
    "### Задачи"
   ]
  },
  {
   "cell_type": "markdown",
   "metadata": {},
   "source": [
    "**Классная точка**\n",
    "\n",
    "Объектно-ориентированное программирование — популярная парадигма в современном мире. Это вполне очевидно, ведь любой объект реального мира мы теперь можем представить в виде цифрового набора полей и методов. Давайте приступим к проектированию классов.\n",
    "\n",
    "Разработайте класс `Point`, который при инициализации принимает координаты точки на декартовой плоскости и сохраняет их в поля x и y соответственно.\n",
    "\n",
    "Ваше решение должно содержать только классы и функции.\n",
    "В решении не должно быть вызовов инициализации требуемых классов. "
   ]
  },
  {
   "cell_type": "code",
   "execution_count": 51,
   "metadata": {},
   "outputs": [],
   "source": [
    "class Point:\n",
    "    def __init__(self, x, y):\n",
    "        self.x = x\n",
    "        self.y = y"
   ]
  },
  {
   "cell_type": "code",
   "execution_count": 52,
   "metadata": {},
   "outputs": [
    {
     "name": "stdout",
     "output_type": "stream",
     "text": [
      "3 5\n"
     ]
    }
   ],
   "source": [
    "point = Point(3, 5)\n",
    "print(point.x, point.y)"
   ]
  },
  {
   "cell_type": "code",
   "execution_count": 53,
   "metadata": {},
   "outputs": [
    {
     "name": "stdout",
     "output_type": "stream",
     "text": [
      "2 -7\n"
     ]
    }
   ],
   "source": [
    "point = Point(2, -7)\n",
    "print(point.x, point.y)"
   ]
  },
  {
   "cell_type": "markdown",
   "metadata": {},
   "source": [
    "**Классная точка 2.0**\n",
    "Полное решение\n",
    "\n",
    "Давайте расширим функционал класса, написанного в прошлой задаче.\n",
    "\n",
    "Реализуйте методы:\n",
    "\n",
    "- `move`, который перемещает точку на заданное расстояние по осям xx и yy;\n",
    "- `length`, который определяет до переданной точки расстояние, округлённое до сотых.\n",
    "\n",
    "Ваше решение должно содержать только классы и функции.\n",
    "В решении не должно быть вызовов инициализации требуемых классов. "
   ]
  },
  {
   "cell_type": "code",
   "execution_count": 55,
   "metadata": {},
   "outputs": [],
   "source": [
    "class Point:\n",
    "\n",
    "    def __init__(self, x, y):\n",
    "        self.x = x\n",
    "        self.y = y\n",
    "\n",
    "    def move(self, x, y):\n",
    "        self.x += x\n",
    "        self.y += y\n",
    "\n",
    "    def length(self, another_point):\n",
    "        return round(((self.x - another_point.x)**2 + (self.y - another_point.y)**2)**0.5, 2)\n",
    "    \n",
    "    "
   ]
  },
  {
   "cell_type": "code",
   "execution_count": 56,
   "metadata": {},
   "outputs": [
    {
     "name": "stdout",
     "output_type": "stream",
     "text": [
      "3 5\n",
      "5 2\n"
     ]
    }
   ],
   "source": [
    "point = Point(3, 5)\n",
    "print(point.x, point.y)\n",
    "point.move(2, -3)\n",
    "print(point.x, point.y)"
   ]
  },
  {
   "cell_type": "code",
   "execution_count": 57,
   "metadata": {},
   "outputs": [
    {
     "name": "stdout",
     "output_type": "stream",
     "text": [
      "16.76\n",
      "16.76\n"
     ]
    }
   ],
   "source": [
    "first_point = Point(2, -7)\n",
    "second_point = Point(7, 9)\n",
    "print(first_point.length(second_point))\n",
    "print(second_point.length(first_point))"
   ]
  },
  {
   "cell_type": "markdown",
   "metadata": {},
   "source": [
    "**Не нажимай красную кнопку!**\n",
    "\n",
    "Если написать предупреждение «Не нажимай красную кнопку!», то её сразу безумно хочется нажать.\n",
    "\n",
    "Напишите класс `RedButton`, который описывает красную кнопку.\n",
    "\n",
    "Класс должен реализовывать методы:\n",
    "\n",
    "* `click()` — эмулирует нажатие кнопки, выводит сообщение \"Тревога!\";\n",
    "* `count()` — возвращает количество раз, которое была нажата кнопка.\n",
    "\n",
    "Ваше решение должно содержать только классы и функции.\n",
    "В решении не должно быть вызовов инициализации требуемых классов. "
   ]
  },
  {
   "cell_type": "code",
   "execution_count": 58,
   "metadata": {},
   "outputs": [],
   "source": [
    "class RedButton:\n",
    "    \n",
    "    def __init__(self, counter=0):\n",
    "        self.counter = counter\n",
    "    \n",
    "    def click(self):\n",
    "        self.counter += 1\n",
    "        print('Тревога!')\n",
    "        \n",
    "    def count(self):\n",
    "        return self.counter\n",
    "    \n",
    "    "
   ]
  },
  {
   "cell_type": "code",
   "execution_count": 59,
   "metadata": {},
   "outputs": [
    {
     "name": "stdout",
     "output_type": "stream",
     "text": [
      "Тревога!\n",
      "Тревога!\n",
      "Тревога!\n",
      "Тревога!\n",
      "Тревога!\n",
      "2 3\n"
     ]
    }
   ],
   "source": [
    "first_button = RedButton()\n",
    "second_button = RedButton()\n",
    "for time in range(5):\n",
    "    if time % 2 == 0:\n",
    "        second_button.click()\n",
    "    else:\n",
    "        first_button.click()\n",
    "print(first_button.count(), second_button.count())"
   ]
  },
  {
   "cell_type": "markdown",
   "metadata": {},
   "source": [
    "**Работа не волк**\n",
    "\n",
    "Рассмотрим объект «Программист», который задаётся именем, должностью и количеством отработанных часов. Каждая должность имеет собственный оклад (заработную плату за час работы). В нашей импровизированной компании существуют 3 должности:\n",
    "\n",
    "- Junior — с окладом 10 тугриков в час;\n",
    "- Middle — с окладом 15 тугриков в час;\n",
    "- Senior — с окладом 20 тугриков в час по умолчанию и +1 тугрик за каждое новое повышение.\n",
    "\n",
    "Напишите класс `Programmer`, который инициализируется именем и должностью (отработка у нового работника равна нулю). Класс реализует следующие методы:\n",
    "\n",
    "- `work(time)` — отмечает новую отработку в количестве часов time;\n",
    "- `rise()` — повышает программиста;\n",
    "- `info()` — возвращает строку для бухгалтерии в формате: <имя> <количество отработанных часов>ч. <накопленная зарплата>тгр.\n",
    "\n",
    "Ваше решение должно содержать только классы и функции.\n",
    "В решении не должно быть вызовов инициализации требуемых классов. "
   ]
  },
  {
   "cell_type": "code",
   "execution_count": 60,
   "metadata": {},
   "outputs": [],
   "source": [
    "class Programmer:\n",
    "   \n",
    "    def __init__(self, name, status, time=0, total_salary=0):\n",
    "        self.name = name\n",
    "        self.status = status\n",
    "        self.time = time\n",
    "        self.total_salary = total_salary\n",
    "        self.jobs_and_salaries = {'Junior': 10, 'Middle': 15, 'Senior': 20}\n",
    "        self.salary_per_hour = self.jobs_and_salaries[status]\n",
    "                \n",
    "    def work(self, time):\n",
    "        self.time += time\n",
    "        self.total_salary += time * self.salary_per_hour\n",
    "    \n",
    "    def rise(self):\n",
    "        if self.status == 'Junior':\n",
    "            self.status = 'Middle'\n",
    "            self.salary_per_hour = self.jobs_and_salaries[self.status]\n",
    "        elif self.status == 'Middle':\n",
    "            self.status = 'Senior'\n",
    "            self.salary_per_hour = self.jobs_and_salaries[self.status]\n",
    "        else:\n",
    "            self.salary_per_hour += 1\n",
    "    \n",
    "    def info(self):\n",
    "        return f'{self.name} {self.time}ч. {self.total_salary}тгр.'\n",
    "    \n",
    "    "
   ]
  },
  {
   "cell_type": "code",
   "execution_count": 61,
   "metadata": {},
   "outputs": [
    {
     "name": "stdout",
     "output_type": "stream",
     "text": [
      "Васильев Иван 750ч. 7500тгр.\n",
      "Васильев Иван 1250ч. 15000тгр.\n",
      "Васильев Иван 1500ч. 20000тгр.\n",
      "Васильев Иван 1750ч. 25250тгр.\n"
     ]
    }
   ],
   "source": [
    "programmer = Programmer('Васильев Иван', 'Junior')\n",
    "programmer.work(750)\n",
    "print(programmer.info())\n",
    "programmer.rise()\n",
    "programmer.work(500)\n",
    "print(programmer.info())\n",
    "programmer.rise()\n",
    "programmer.work(250)\n",
    "print(programmer.info())\n",
    "programmer.rise()\n",
    "programmer.work(250)\n",
    "print(programmer.info())"
   ]
  },
  {
   "cell_type": "markdown",
   "metadata": {},
   "source": [
    "**Классный прямоугольник**\n",
    "\n",
    "Давайте перейдём к более сложным геометрическим фигурам.\n",
    "\n",
    "Разработайте класс `Rectangle`.\n",
    "\n",
    "При инициализации класс принимает два кортежа рациональных координат противоположных углов прямоугольника.\n",
    "\n",
    "Класс должен реализовывать методы:\n",
    "* `perimeter` — возвращает периметр прямоугольника;\n",
    "* `area` — возвращает площадь прямоугольника.\n",
    "\n",
    "Все результаты вычислений нужно округлить до сотых.\n",
    "\n",
    "Ваше решение должно содержать только классы и функции.\n",
    "В решении не должно быть вызовов инициализации требуемых классов. "
   ]
  },
  {
   "cell_type": "code",
   "execution_count": 62,
   "metadata": {},
   "outputs": [],
   "source": [
    "class Rectangle:\n",
    "    \n",
    "    def __init__(self, dot_1, dot_2):\n",
    "        self.dot_1 = dot_1\n",
    "        self.dot_2 = dot_2\n",
    "\n",
    "    def perimeter(self):\n",
    "        return round(2 * abs(self.dot_1[0] - self.dot_2[0]) + 2 * abs(self.dot_1[1] - self.dot_2[1]), 2)\n",
    "    \n",
    "    def area(self):\n",
    "        return round(abs(self.dot_1[0] - self.dot_2[0]) * abs(self.dot_1[1] - self.dot_2[1]), 2)\n",
    "    \n",
    "    "
   ]
  },
  {
   "cell_type": "code",
   "execution_count": 63,
   "metadata": {},
   "outputs": [
    {
     "name": "stdout",
     "output_type": "stream",
     "text": [
      "23.52\n"
     ]
    }
   ],
   "source": [
    "rect = Rectangle((3.2, -4.3), (7.52, 3.14))\n",
    "print(rect.perimeter())"
   ]
  },
  {
   "cell_type": "code",
   "execution_count": 64,
   "metadata": {},
   "outputs": [
    {
     "name": "stdout",
     "output_type": "stream",
     "text": [
      "32.14\n"
     ]
    }
   ],
   "source": [
    "rect = Rectangle((7.52, -4.3), (3.2, 3.14))\n",
    "print(rect.area())"
   ]
  },
  {
   "cell_type": "markdown",
   "metadata": {},
   "source": [
    "**Классный прямоугольник 2.0**\n",
    "\n",
    "Расширим функционал класса написанного вами в предыдущей задаче.\n",
    "\n",
    "Реализуйте методы:\n",
    "\n",
    "* `get_pos()` — возвращает координаты верхнего левого угла в виде кортежа;\n",
    "* `get_size()` — возвращает размеры в виде кортежа;\n",
    "* `move(dx, dy)` — изменяет положение на заданные значения;\n",
    "* `resize(width, height)` — изменяет размер (положение верхнего левого угла остаётся неизменным).\n",
    "\n",
    "Ваше решение должно содержать только классы и функции.\n",
    "В решении не должно быть вызовов инициализации требуемых классов. "
   ]
  },
  {
   "cell_type": "code",
   "execution_count": 128,
   "metadata": {},
   "outputs": [],
   "source": [
    "class Rectangle:\n",
    "    \n",
    "    def __init__(self, dot_1, dot_2):\n",
    "        self.dot_1 = dot_1\n",
    "        self.dot_2 = dot_2\n",
    "\n",
    "    def perimeter(self):\n",
    "        return round(\n",
    "            2 * abs(self.dot_1[0] - self.dot_2[0]) +\n",
    "            2 * abs(self.dot_1[1] - self.dot_2[1]), 2)\n",
    "\n",
    "    def area(self):\n",
    "        return round(\n",
    "            abs(self.dot_1[0] - self.dot_2[0]) *\n",
    "            abs(self.dot_1[1] - self.dot_2[1]), 2)\n",
    "\n",
    "    def get_pos(self):\n",
    "        return (min(self.dot_1[0],\n",
    "                    self.dot_2[0]), max(self.dot_1[1], self.dot_2[1]))\n",
    "\n",
    "    def get_size(self):\n",
    "        size_x = round(abs(self.dot_1[0] - self.dot_2[0]), 2)\n",
    "        size_y = round(abs(self.dot_1[1] - self.dot_2[1]), 2)\n",
    "        return (size_x, size_y)\n",
    "\n",
    "    def move(self, dx, dy):\n",
    "        x1 = round(self.dot_1[0] + dx, 2)\n",
    "        x2 = round(self.dot_2[0] + dx, 2)\n",
    "        y1 = round(self.dot_1[1] + dy, 2)\n",
    "        y2 = round(self.dot_2[1] + dy, 2)\n",
    "        self.dot_1 = (x1, y1)\n",
    "        self.dot_2 = (x2, y2)\n",
    "\n",
    "    def resize(self, width, height):\n",
    "        x1, y1 = self.get_pos()\n",
    "        x2 = round(x1 + width, 2)\n",
    "        y2 = round(y1 - height, 2)\n",
    "        self.dot_1 = x1, y1\n",
    "        self.dot_2 = x2, y2\n",
    "        return self.get_size()\n",
    "    \n",
    "    "
   ]
  },
  {
   "cell_type": "code",
   "execution_count": 129,
   "metadata": {},
   "outputs": [
    {
     "name": "stdout",
     "output_type": "stream",
     "text": [
      "(3.2, 3.14) (4.32, 7.44)\n",
      "(4.52, -1.86) (4.32, 7.44)\n"
     ]
    }
   ],
   "source": [
    "rect = Rectangle((3.2, -4.3), (7.52, 3.14))\n",
    "print(rect.get_pos(), rect.get_size())\n",
    "rect.move(1.32, -5)\n",
    "print(rect.get_pos(), rect.get_size())"
   ]
  },
  {
   "cell_type": "code",
   "execution_count": 130,
   "metadata": {},
   "outputs": [
    {
     "name": "stdout",
     "output_type": "stream",
     "text": [
      "(3.2, 3.14) (4.32, 7.44)\n",
      "(3.2, 3.14) (23.5, 11.3)\n"
     ]
    }
   ],
   "source": [
    "rect = Rectangle((7.52, -4.3), (3.2, 3.14))\n",
    "print(rect.get_pos(), rect.get_size())\n",
    "rect.resize(23.5, 11.3)\n",
    "print(rect.get_pos(), rect.get_size())"
   ]
  },
  {
   "cell_type": "markdown",
   "metadata": {},
   "source": [
    "**Очередь**\n",
    "\n",
    "В программировании существует потребность не только в изученных нами коллекциях. Одна из таких очередь. Она реализует подход к хранению данных по принципу «Первый вошёл – первый ушел».\n",
    "\n",
    "Реализуйте класс Queue, который не имеет параметров инициализации, но поддерживает методы:\n",
    "\n",
    "* `push(item)` — добавить элемент в конец очереди;\n",
    "* `pop()` — «вытащить» первый элемент из очереди;\n",
    "* `is_empty()` — проверят очередь на пустоту.\n",
    "\n",
    "\n",
    "    Ваше решение должно содержать только классы и функции.\n",
    "    В решении не должно быть вызовов инициализации требуемых классов. "
   ]
  },
  {
   "cell_type": "code",
   "execution_count": 1,
   "metadata": {},
   "outputs": [],
   "source": [
    "class Queue():\n",
    "    \n",
    "    def __init__(self):\n",
    "        self.stack = []\n",
    "        \n",
    "    def is_empty(self):\n",
    "        return len(self.stack) == 0\n",
    "    \n",
    "    def push(self, item):\n",
    "        self.stack.append(item)\n",
    "        \n",
    "    def pop(self):\n",
    "        first_item = self.stack[0]\n",
    "        self.stack = self.stack[1:]\n",
    "        return first_item"
   ]
  },
  {
   "cell_type": "code",
   "execution_count": 2,
   "metadata": {},
   "outputs": [
    {
     "name": "stdout",
     "output_type": "stream",
     "text": [
      "0 1 2 3 4 5 6 7 8 9 "
     ]
    }
   ],
   "source": [
    "queue = Queue()\n",
    "for item in range(10):\n",
    "    queue.push(item)\n",
    "while not queue.is_empty():\n",
    "    print(queue.pop(), end=\" \")\n"
   ]
  },
  {
   "cell_type": "code",
   "execution_count": 3,
   "metadata": {},
   "outputs": [
    {
     "name": "stdout",
     "output_type": "stream",
     "text": [
      "Hello,\n",
      "world!\n"
     ]
    }
   ],
   "source": [
    "queue = Queue()\n",
    "for item in (\"Hello,\", \"world!\"):\n",
    "    queue.push(item)\n",
    "while not queue.is_empty():\n",
    "    print(queue.pop())\n"
   ]
  },
  {
   "cell_type": "markdown",
   "metadata": {},
   "source": [
    "**Стек**\n",
    "\n",
    "Ещё одной полезной коллекцией является стек реализующий принцип «Последний пришёл – первый ушёл». Его часто представляют как стопку карт или магазин пистолета, где приходящие элементы закрывают выход уже находящимся в коллекции.\n",
    "\n",
    "Реализуйте класс Stack, который не имеет параметров инициализации, но поддерживает методы:\n",
    "\n",
    "- `push(item)` — добавить элемент в конец стека;\n",
    "- `pop()` — «вытащить» первый элемент из стека;\n",
    "- `is_empty()` — проверяет стек на пустоту.\n",
    "\n",
    "Ваше решение должно содержать только классы и функции.\n",
    "В решении не должно быть вызовов инициализации требуемых классов. "
   ]
  },
  {
   "cell_type": "code",
   "execution_count": 4,
   "metadata": {},
   "outputs": [],
   "source": [
    "class Stack():\n",
    "    \n",
    "    def __init__(self):\n",
    "        self.stack = []\n",
    "        \n",
    "    def is_empty(self):\n",
    "        return len(self.stack) == 0\n",
    "    \n",
    "    def push(self, item):\n",
    "        self.stack.append(item)\n",
    "        \n",
    "    def pop(self):\n",
    "        upper_item = self.stack[-1]\n",
    "        self.stack = self.stack[:-1]\n",
    "        return upper_item\n",
    "        "
   ]
  },
  {
   "cell_type": "code",
   "execution_count": 6,
   "metadata": {},
   "outputs": [
    {
     "name": "stdout",
     "output_type": "stream",
     "text": [
      "9 8 7 6 5 4 3 2 1 0 "
     ]
    }
   ],
   "source": [
    "stack = Stack()\n",
    "for item in range(10):\n",
    "    stack.push(item)\n",
    "while not stack.is_empty():\n",
    "    print(stack.pop(), end=\" \")\n"
   ]
  },
  {
   "cell_type": "code",
   "execution_count": 7,
   "metadata": {},
   "outputs": [
    {
     "name": "stdout",
     "output_type": "stream",
     "text": [
      "world!\n",
      "Hello,\n"
     ]
    }
   ],
   "source": [
    "stack = Stack()\n",
    "for item in (\"Hello,\", \"world!\"):\n",
    "    stack.push(item)\n",
    "while not stack.is_empty():\n",
    "    print(stack.pop())\n"
   ]
  }
 ],
 "metadata": {
  "kernelspec": {
   "display_name": "Python 3",
   "language": "python",
   "name": "python3"
  },
  "language_info": {
   "codemirror_mode": {
    "name": "ipython",
    "version": 3
   },
   "file_extension": ".py",
   "mimetype": "text/x-python",
   "name": "python",
   "nbconvert_exporter": "python",
   "pygments_lexer": "ipython3",
   "version": "3.8.5"
  },
  "toc": {
   "base_numbering": 1,
   "nav_menu": {},
   "number_sections": true,
   "sideBar": true,
   "skip_h1_title": true,
   "title_cell": "Table of Contents",
   "title_sidebar": "Contents",
   "toc_cell": true,
   "toc_position": {},
   "toc_section_display": true,
   "toc_window_display": true
  },
  "vscode": {
   "interpreter": {
    "hash": "5d0773dc45e137a3175e4dfe108602b0e3fa5532889946862bf5514e2ab4927a"
   }
  }
 },
 "nbformat": 4,
 "nbformat_minor": 2
}
