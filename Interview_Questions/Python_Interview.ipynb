{
 "cells": [
  {
   "cell_type": "markdown",
   "metadata": {},
   "source": [
    "# Preparing for a Python Interview"
   ]
  },
  {
   "cell_type": "markdown",
   "metadata": {},
   "source": []
  },
  {
   "cell_type": "markdown",
   "metadata": {},
   "source": [
    "## \n",
    "Source: [Preparing for a Python Interview: 10 Things You Should Know](https://www.youtube.com/watch?v=DEwgZNC-KyE)\n",
    "\n",
    "\n",
    "1. know how to write code on a whiteboard or paper\n",
    "2. know basic python control flow (how to use for loops, while loops, if-else statements) and be able to write examples on a piece of paper\n",
    "3. be able to discuss how you`ve used python in the past (past projects, interesting projects)\n",
    "4. know how to solve common interview problems\n",
    "\t- fibonacci sequences\n",
    "\t- fizz buzz (loop through numbers and print out some output depending on some conditions)\n",
    "\t- google typical python interview questions\n",
    "5. know basic python data types and when to use them (strings, lists, tuples, dictionaries, sets) and how iterate through them https://stackoverflow.com/questions/1708510/list-vs-tuple-when-to-use-each\n",
    "6. know how to use list comprehensions (https://www.youtube.com/watch?v=3dt4OGnU5sM)\n",
    "7. know how to use genereators \n",
    "8. know the basics of OOP (sample file - write it from scratch over and over again to remember the template)\n",
    "9. Have python related questions ready to ask your interviewr (this could be used to bring up some areas of your expertise that didn`t come up in the interview)\n",
    "10.  know the basics of other technologies (SQL, version control, basic linux comands)\n",
    "\n",
    "\n"
   ]
  },
  {
   "cell_type": "code",
   "execution_count": 2,
   "metadata": {},
   "outputs": [
    {
     "name": "stdout",
     "output_type": "stream",
     "text": [
      "10\n",
      "0 1 1 2 3 5 8 13 21 34 "
     ]
    }
   ],
   "source": [
    "# fibonacci\n",
    "n = int(input())\n",
    "a, b = 0, 1\n",
    "for i in range(n):\n",
    "    print(a, end=' ')\n",
    "    a, b = b, a + b"
   ]
  },
  {
   "cell_type": "code",
   "execution_count": 7,
   "metadata": {},
   "outputs": [
    {
     "name": "stdout",
     "output_type": "stream",
     "text": [
      "1\n",
      "2\n",
      "3 fizz\n",
      "4\n",
      "5 buzz\n",
      "6 fizz\n",
      "7\n",
      "8\n",
      "9 fizz\n",
      "10 buzz\n",
      "11\n",
      "12 fizz\n",
      "13\n",
      "14\n",
      "15 fiz buzz\n",
      "16\n",
      "17\n",
      "18 fizz\n",
      "19\n",
      "20 buzz\n",
      "21 fizz\n",
      "22\n",
      "23\n",
      "24 fizz\n",
      "25 buzz\n",
      "26\n",
      "27 fizz\n",
      "28\n",
      "29\n",
      "30 fiz buzz\n",
      "31\n",
      "32\n",
      "33 fizz\n",
      "34\n",
      "35 buzz\n",
      "36 fizz\n",
      "37\n",
      "38\n",
      "39 fizz\n",
      "40 buzz\n",
      "41\n",
      "42 fizz\n",
      "43\n",
      "44\n",
      "45 fiz buzz\n",
      "46\n",
      "47\n",
      "48 fizz\n",
      "49\n",
      "50 buzz\n"
     ]
    }
   ],
   "source": [
    "# fizz buzz\n",
    "for n in range(1, 51):\n",
    "    if n % 3 == 0 and n % 5 == 0:\n",
    "        print(n, 'fiz buzz')\n",
    "    elif n % 3 == 0:\n",
    "        print(n, 'fizz')\n",
    "    elif n % 5 == 0:\n",
    "        print(n, 'buzz')\n",
    "    else:\n",
    "        print(n)\n",
    "\n"
   ]
  },
  {
   "cell_type": "code",
   "execution_count": 10,
   "metadata": {},
   "outputs": [
    {
     "name": "stdout",
     "output_type": "stream",
     "text": [
      "color -> blue\n",
      "fruit -> apple\n",
      "pet -> dog\n",
      "--------------------\n",
      "color -> blue\n",
      "fruit -> apple\n",
      "pet -> dog\n"
     ]
    }
   ],
   "source": [
    "# itereating through dictionary\n",
    "a_dict = {'color': 'blue', 'fruit': 'apple', 'pet': 'dog'}\n",
    "for key, val in a_dict.items():\n",
    "    print(key, '->', val)\n",
    "\n",
    "# -----------------------------\n",
    "print('-'*20)\n",
    "\n",
    "for key in a_dict:\n",
    "    print(key, '->', a_dict[key])"
   ]
  },
  {
   "cell_type": "code",
   "execution_count": 25,
   "metadata": {},
   "outputs": [
    {
     "name": "stdout",
     "output_type": "stream",
     "text": [
      "1: 0\n",
      "2: 1\n",
      "3: 1\n",
      "4: 2\n",
      "5: 3\n",
      "6: 5\n",
      "7: 8\n",
      "8: 13\n",
      "9: 21\n",
      "10: 34\n"
     ]
    }
   ],
   "source": [
    "# Fibonacci sequense generator\n",
    "def fib(num):\n",
    "    a, b, = 0, 1\n",
    "    for n in range(0, num):\n",
    "        yield(f'{n + 1}: {a}')\n",
    "        a, b = b, a + b\n",
    "\n",
    "for item in fib(10):\n",
    "    print(item)"
   ]
  },
  {
   "cell_type": "code",
   "execution_count": 16,
   "metadata": {},
   "outputs": [],
   "source": [
    "import sys"
   ]
  },
  {
   "cell_type": "code",
   "execution_count": 24,
   "metadata": {},
   "outputs": [
    {
     "data": {
      "text/plain": [
       "(48, 80000056)"
      ]
     },
     "execution_count": 24,
     "metadata": {},
     "output_type": "execute_result"
    }
   ],
   "source": [
    "# range is a generator and takes less memory\n",
    "n = 10000000\n",
    "sys.getsizeof(range(n)), sys.getsizeof(list(range(n)))"
   ]
  },
  {
   "cell_type": "code",
   "execution_count": null,
   "metadata": {},
   "outputs": [],
   "source": []
  }
 ],
 "metadata": {
  "kernelspec": {
   "display_name": "Python 3",
   "language": "python",
   "name": "python3"
  },
  "language_info": {
   "codemirror_mode": {
    "name": "ipython",
    "version": 3
   },
   "file_extension": ".py",
   "mimetype": "text/x-python",
   "name": "python",
   "nbconvert_exporter": "python",
   "pygments_lexer": "ipython3",
   "version": "3.8.5"
  },
  "toc": {
   "base_numbering": 1,
   "nav_menu": {},
   "number_sections": true,
   "sideBar": true,
   "skip_h1_title": true,
   "title_cell": "Table of Contents",
   "title_sidebar": "Contents",
   "toc_cell": false,
   "toc_position": {},
   "toc_section_display": true,
   "toc_window_display": true
  }
 },
 "nbformat": 4,
 "nbformat_minor": 4
}
