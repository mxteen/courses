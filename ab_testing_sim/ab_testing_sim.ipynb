{
 "cells": [
  {
   "cell_type": "markdown",
   "metadata": {},
   "source": [
    "# Симулятор A/B-тестов"
   ]
  },
  {
   "cell_type": "markdown",
   "metadata": {},
   "source": [
    "## Почитать перед стартом\n",
    "\n",
    "Мы не скрываем, что наше обучение довольно интенсивное и поначалу вам может быть действительно сложно погрузиться в новую для вас сферу. Многое может казаться непонятным, например, формулировки профессионального словаря, который используют наши эксперты и преподаватели. Это абсолютно нормально, и мы поддержим вас на этом пути.\n",
    "\n",
    "Пока курс еще не начался, мы подготовили для вас подборку материалов, которая может помочь познакомиться поближе с людьми, которые создавали этот курс, с его выпускниками и сферой A/B-тестов в принципе. Подборка содержит разные по формату и длительности материалы, чтобы вы могли выбрать именно то, что подходит под ваш стиль обучения и график.\n",
    "\n",
    "Почитать:\n",
    "\n",
    "1.   Пост [«Как оформить свой GitHub»](https://t.me/KarpovCourses/212)\n",
    "2.  Пост [«Подборка источников для работы с A/B-тестами от Никиты Маршалкина»](https://t.me/KarpovCourses/27)  \n",
    "    \n",
    "3.   Статья [«Что такое A/B-тестирование»](https://t.me/KarpovCourses/612)\n",
    "4.  Статья [«Kaggle: обзор и практическое руководство»](https://t.me/KarpovCourses/358)\n",
    "5.   Статья [«5 заблуждения начинающих специалистов»](https://telegra.ph/5-zabluzhdenij-nachinayushchih-specialistov-02-03)\n",
    "6.   Статья [«Честная и нечестная монетка»](https://t.me/KarpovCourses/375)\n",
    "\n",
    "Посмотреть и послушать\n",
    "\n",
    "1.   Видео [«Десять вопросов по A/B-тестированию Валерию Бабушкину»](https://youtu.be/IQUt9qTsQ0s)\n",
    "2.   Вебинар [«Тонкости АБ-тестирования»](https://www.youtube.com/live/jnFVmtaeSA0?feature=share)\n",
    "3.  Вебинар [«Как и зачем оценивать размер выборки»](https://www.youtube.com/live/2nP_gcut7SU?feature=share)\n",
    "4.   Интервью с Никитой Маршалкиным [«A/B-тесты сложнее, чем кажется»](https://youtu.be/gljfGAkgX_o)\n",
    "5.   Подкаст с Александром Сахновым [«A/B-тестирование и Data Science»](https://dengi-lyubyat-tehno.simplecast.com/episodes/a-b-testing)\n",
    "6.   Интервью с EXPF [«Об образовании, анализе данных и бизнесе»](https://www.youtube.com/watch?v=k5lIzSTsNY4&ab_channel=karpov.courses)\n",
    "7.   Видео с Анатолием Карповым [«Что спрашивают аналитика на собеседовании?»](https://youtu.be/Ec6EYbcF50k)\n",
    "8.   Видео [«Задача о пустых полках»](https://youtu.be/3ugO9ftG3uA)"
   ]
  },
  {
   "cell_type": "code",
   "execution_count": null,
   "metadata": {},
   "outputs": [],
   "source": []
  }
 ],
 "metadata": {
  "kernelspec": {
   "display_name": "Python 3",
   "language": "python",
   "name": "python3"
  },
  "language_info": {
   "codemirror_mode": {
    "name": "ipython",
    "version": 3
   },
   "file_extension": ".py",
   "mimetype": "text/x-python",
   "name": "python",
   "nbconvert_exporter": "python",
   "pygments_lexer": "ipython3",
   "version": "3.8.5"
  },
  "toc": {
   "base_numbering": 1,
   "nav_menu": {},
   "number_sections": true,
   "sideBar": true,
   "skip_h1_title": true,
   "title_cell": "Table of Contents",
   "title_sidebar": "Contents",
   "toc_cell": false,
   "toc_position": {},
   "toc_section_display": true,
   "toc_window_display": true
  },
  "varInspector": {
   "cols": {
    "lenName": 16,
    "lenType": 16,
    "lenVar": 40
   },
   "kernels_config": {
    "python": {
     "delete_cmd_postfix": "",
     "delete_cmd_prefix": "del ",
     "library": "var_list.py",
     "varRefreshCmd": "print(var_dic_list())"
    },
    "r": {
     "delete_cmd_postfix": ") ",
     "delete_cmd_prefix": "rm(",
     "library": "var_list.r",
     "varRefreshCmd": "cat(var_dic_list()) "
    }
   },
   "types_to_exclude": [
    "module",
    "function",
    "builtin_function_or_method",
    "instance",
    "_Feature"
   ],
   "window_display": false
  }
 },
 "nbformat": 4,
 "nbformat_minor": 4
}
