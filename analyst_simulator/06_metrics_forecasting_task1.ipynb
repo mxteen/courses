{
 "cells": [
  {
   "cell_type": "markdown",
   "metadata": {},
   "source": [
    "# Прогнозирование метрик. Задание 1"
   ]
  },
  {
   "cell_type": "markdown",
   "metadata": {},
   "source": [
    "Поддерживать и стимулировать пользовательскую активность – важная задача для продукта, подобного нашему. Для этого наша команда маркетологов решила организовать флэшмоб в ленте новостей: участники должны сделать пост, где они рассказывают какой-то интересный факт о себе, и опубликовать его с хэштегом. Три поста, собравших наибольшее число лайков, получают призы.\n",
    "\n",
    "Флэшмоб проходил с 2023-07-14 по 2023-07-20. Ваша задача как аналитика – оценить эффективность этого мероприятия.\n",
    "\n",
    "1. Предположите, какие метрики должны были измениться во время флэшмоба и как. Почему? Предложите не менее 5 метрик.\n",
    "2. Проверьте, реально ли эти метрики изменились, используя CausalImpact. Если изменение действительно произошло - опишите, как именно изменилась метрика и насколько.\n",
    "3. Необязательно: имел ли флэшмоб какие-то долгосрочные эффекты? \n",
    "\n",
    "Сделайте выводы по полученным результатам.\n",
    "\n",
    "Формат сдачи задания – merge request в GitLab с ноутбуком, где выполнены вычисления (формат .ipynb)."
   ]
  },
  {
   "cell_type": "markdown",
   "metadata": {},
   "source": [
    "## Какие метрики должны были измениться во время флэшмоба и как? Почему? Предложите не менее 5 метрик."
   ]
  },
  {
   "cell_type": "markdown",
   "metadata": {},
   "source": [
    "\n",
    "Оценка эффективности флэшмоба в ленте новостей можно провести с помощью следующих метрик:\n",
    "\n",
    "1. **Число уникальных пользователей по дням (DAU)**. Если число активных пользователей выросло (в том числе за счёт новых) во время мероприятия, то это хорошо для приложения. Следуюшие вопросы, связанные с этой метрикой: \n",
    "    * на сколько качественная новоприбывщая аудитория;\n",
    "    * и на сколько рост обучловлен именно флешмобом. На дашборде [Новостная лента. Исторические данные](https://superset.lab.karpov.courses/superset/dashboard/4048/) наблюдается рост DAU, но как будто бы с той же скоростью, что и обычно.\n",
    "2. **Retention rate** - эта метрика поможет сравнить уровень вовлеченности пользователей, пришедших во время флешмоба с ранее- или позжепришедшими пользователями и ответит на первый вопрос из п.1. Так, если посмотреть на дашборд [Retention](https://superset.lab.karpov.courses/superset/dashboard/4034/) на график `retention_organic_users`, то можно увидеть, что для когорт, пришедших в приложение 18...20 июля на 10 день Retention rate составляет `[57, 55, 63]` (%), а, например, пришедших в приложение 27...29 июля `[17, 18, 10]` (%). То есть можно предположить, что retention после флешмоба стал выше.\n",
    "3. **Количество уникальных просмотренных публикаций в день**. Эта одна из мер активности пользователей. Был всплеск в даты флешмоба, а потом возвращение к прежним уровням. https://redash.lab.karpov.courses/queries/35097/source#71840\n",
    "4. **Количество лайков**. Показатель вовлеченности аудитории. Чем больше лайков, тем более успешным можно считать флэшмоб. Повышение числа лайков будет означать, что участники флэшмоба заинтересованы в контенте и проявляют положительную реакцию на него. На дашборде [Новостная лента. Исторические данные](https://superset.lab.karpov.courses/superset/dashboard/4048/) на графике `События` наблюдается рост и последующий спад после окончания флешмоба.\n",
    "5. **Количество просмотров**. Это позволит измерить широту распространения контента и уровень его активной поддержки. На дашборде [Новостная лента. Исторические данные](https://superset.lab.karpov.courses/superset/dashboard/4048/) на графике `События` наблюдается рост и последующий спад после окончания флешмоба.\n",
    "7. **CTR** \n",
    "    * **Простой CTR по пользователям**. На дашборде [Новостная лента. Исторические данные](https://superset.lab.karpov.courses/superset/dashboard/4048/) на графике `CTR` на глаз отличий нет. \n",
    "    * **общегрупповой CTR за день**. Визуально отзличий невидно: https://redash.lab.karpov.courses/queries/35095/source#71830\n",
    "    * **общегрупповой CTR за час**. Тут что-то есть: https://redash.lab.karpov.courses/queries/35108/source#71859 **надо проверить**.\n",
    "8. **Медианное за день время, проведённое пользователями в ленте**. Тоже мера интереса / вовлеченности пользователей. Визуально не изменилось: https://redash.lab.karpov.courses/queries/35099/source#71837\n"
   ]
  },
  {
   "cell_type": "markdown",
   "metadata": {},
   "source": [
    "## Проверьте, реально ли эти метрики изменились, используя CausalImpact\n",
    "Если изменение действительно произошло - опишите, как именно изменилась метрика и насколько "
   ]
  },
  {
   "cell_type": "code",
   "execution_count": 1,
   "metadata": {},
   "outputs": [
    {
     "name": "stderr",
     "output_type": "stream",
     "text": [
      "2023-08-07 14:49:44.818103: I tensorflow/tsl/cuda/cudart_stub.cc:28] Could not find cuda drivers on your machine, GPU will not be used.\n",
      "2023-08-07 14:49:44.915717: I tensorflow/tsl/cuda/cudart_stub.cc:28] Could not find cuda drivers on your machine, GPU will not be used.\n",
      "2023-08-07 14:49:44.917260: I tensorflow/core/platform/cpu_feature_guard.cc:182] This TensorFlow binary is optimized to use available CPU instructions in performance-critical operations.\n",
      "To enable the following instructions: AVX2 FMA, in other operations, rebuild TensorFlow with the appropriate compiler flags.\n",
      "2023-08-07 14:49:46.356690: W tensorflow/compiler/tf2tensorrt/utils/py_utils.cc:38] TF-TRT Warning: Could not find TensorRT\n"
     ]
    }
   ],
   "source": [
    "import pandahouse\n",
    "import pandas as pd\n",
    "\n",
    "import tensorflow as tf\n",
    "import tensorflow_probability as tfp\n",
    "from causalimpact import CausalImpact"
   ]
  },
  {
   "cell_type": "code",
   "execution_count": 2,
   "metadata": {},
   "outputs": [],
   "source": [
    "connection = {\n",
    "    'host': 'https://clickhouse.lab.karpov.courses',\n",
    "    'password': 'dpo_python_2020',\n",
    "    'user': 'student',\n",
    "    'database': 'simulator_20230720'\n",
    "}"
   ]
  },
  {
   "cell_type": "code",
   "execution_count": 3,
   "metadata": {},
   "outputs": [
    {
     "name": "stdout",
     "output_type": "stream",
     "text": [
      "CPU times: user 33.6 ms, sys: 10.5 ms, total: 44.2 ms\n",
      "Wall time: 259 ms\n"
     ]
    }
   ],
   "source": [
    "%%time\n",
    "# Флэшмоб проходил с 2023-07-14 по 2023-07-20\n",
    "# Возьмём данные за 2 недели до флещмоба - с 2023-07-01\n",
    "\n",
    "# посмотрим, как менялся общегрупповой почасовой CTR\n",
    "q = \"\"\"\n",
    "SELECT\n",
    "  toStartOfHour(time) as day_hour,\n",
    "  countIf(user_id, action = 'like') as likes,\n",
    "  countIf(user_id, action = 'view') as views,\n",
    "  likes / views as ctr\n",
    "FROM\n",
    "  {db}.feed_actions\n",
    "WHERE\n",
    "  day_hour between '2023-07-01' and '2023-07-20'\n",
    "GROUP BY\n",
    "  day_hour\n",
    "\"\"\"\n",
    "\n",
    "df = pandahouse.read_clickhouse(q, connection=connection)"
   ]
  },
  {
   "cell_type": "code",
   "execution_count": 4,
   "metadata": {},
   "outputs": [
    {
     "data": {
      "text/html": [
       "<div>\n",
       "<style scoped>\n",
       "    .dataframe tbody tr th:only-of-type {\n",
       "        vertical-align: middle;\n",
       "    }\n",
       "\n",
       "    .dataframe tbody tr th {\n",
       "        vertical-align: top;\n",
       "    }\n",
       "\n",
       "    .dataframe thead th {\n",
       "        text-align: right;\n",
       "    }\n",
       "</style>\n",
       "<table border=\"1\" class=\"dataframe\">\n",
       "  <thead>\n",
       "    <tr style=\"text-align: right;\">\n",
       "      <th></th>\n",
       "      <th>day_hour</th>\n",
       "      <th>likes</th>\n",
       "      <th>views</th>\n",
       "      <th>ctr</th>\n",
       "    </tr>\n",
       "  </thead>\n",
       "  <tbody>\n",
       "    <tr>\n",
       "      <th>0</th>\n",
       "      <td>2023-07-07 20:00:00</td>\n",
       "      <td>6848</td>\n",
       "      <td>30487</td>\n",
       "      <td>0.224620</td>\n",
       "    </tr>\n",
       "    <tr>\n",
       "      <th>1</th>\n",
       "      <td>2023-07-01 11:00:00</td>\n",
       "      <td>3863</td>\n",
       "      <td>18416</td>\n",
       "      <td>0.209763</td>\n",
       "    </tr>\n",
       "    <tr>\n",
       "      <th>2</th>\n",
       "      <td>2023-07-07 11:00:00</td>\n",
       "      <td>4759</td>\n",
       "      <td>20911</td>\n",
       "      <td>0.227584</td>\n",
       "    </tr>\n",
       "    <tr>\n",
       "      <th>3</th>\n",
       "      <td>2023-07-02 21:00:00</td>\n",
       "      <td>4492</td>\n",
       "      <td>21752</td>\n",
       "      <td>0.206510</td>\n",
       "    </tr>\n",
       "    <tr>\n",
       "      <th>4</th>\n",
       "      <td>2023-07-03 14:00:00</td>\n",
       "      <td>4051</td>\n",
       "      <td>18823</td>\n",
       "      <td>0.215215</td>\n",
       "    </tr>\n",
       "    <tr>\n",
       "      <th>...</th>\n",
       "      <td>...</td>\n",
       "      <td>...</td>\n",
       "      <td>...</td>\n",
       "      <td>...</td>\n",
       "    </tr>\n",
       "    <tr>\n",
       "      <th>452</th>\n",
       "      <td>2023-07-03 20:00:00</td>\n",
       "      <td>5642</td>\n",
       "      <td>28149</td>\n",
       "      <td>0.200433</td>\n",
       "    </tr>\n",
       "    <tr>\n",
       "      <th>453</th>\n",
       "      <td>2023-07-07 22:00:00</td>\n",
       "      <td>5806</td>\n",
       "      <td>26253</td>\n",
       "      <td>0.221156</td>\n",
       "    </tr>\n",
       "    <tr>\n",
       "      <th>454</th>\n",
       "      <td>2023-07-02 19:00:00</td>\n",
       "      <td>4722</td>\n",
       "      <td>22897</td>\n",
       "      <td>0.206228</td>\n",
       "    </tr>\n",
       "    <tr>\n",
       "      <th>455</th>\n",
       "      <td>2023-07-03 12:00:00</td>\n",
       "      <td>4141</td>\n",
       "      <td>19354</td>\n",
       "      <td>0.213961</td>\n",
       "    </tr>\n",
       "    <tr>\n",
       "      <th>456</th>\n",
       "      <td>2023-07-16 08:00:00</td>\n",
       "      <td>8684</td>\n",
       "      <td>38778</td>\n",
       "      <td>0.223941</td>\n",
       "    </tr>\n",
       "  </tbody>\n",
       "</table>\n",
       "<p>457 rows × 4 columns</p>\n",
       "</div>"
      ],
      "text/plain": [
       "               day_hour  likes  views       ctr\n",
       "0   2023-07-07 20:00:00   6848  30487  0.224620\n",
       "1   2023-07-01 11:00:00   3863  18416  0.209763\n",
       "2   2023-07-07 11:00:00   4759  20911  0.227584\n",
       "3   2023-07-02 21:00:00   4492  21752  0.206510\n",
       "4   2023-07-03 14:00:00   4051  18823  0.215215\n",
       "..                  ...    ...    ...       ...\n",
       "452 2023-07-03 20:00:00   5642  28149  0.200433\n",
       "453 2023-07-07 22:00:00   5806  26253  0.221156\n",
       "454 2023-07-02 19:00:00   4722  22897  0.206228\n",
       "455 2023-07-03 12:00:00   4141  19354  0.213961\n",
       "456 2023-07-16 08:00:00   8684  38778  0.223941\n",
       "\n",
       "[457 rows x 4 columns]"
      ]
     },
     "execution_count": 4,
     "metadata": {},
     "output_type": "execute_result"
    }
   ],
   "source": [
    "df"
   ]
  },
  {
   "cell_type": "code",
   "execution_count": 5,
   "metadata": {},
   "outputs": [
    {
     "name": "stdout",
     "output_type": "stream",
     "text": [
      "<class 'pandas.core.frame.DataFrame'>\n",
      "RangeIndex: 457 entries, 0 to 456\n",
      "Data columns (total 4 columns):\n",
      " #   Column    Non-Null Count  Dtype         \n",
      "---  ------    --------------  -----         \n",
      " 0   day_hour  457 non-null    datetime64[ns]\n",
      " 1   likes     457 non-null    uint64        \n",
      " 2   views     457 non-null    uint64        \n",
      " 3   ctr       457 non-null    float64       \n",
      "dtypes: datetime64[ns](1), float64(1), uint64(2)\n",
      "memory usage: 14.4 KB\n"
     ]
    }
   ],
   "source": [
    "df.info()"
   ]
  },
  {
   "cell_type": "code",
   "execution_count": 6,
   "metadata": {},
   "outputs": [],
   "source": [
    "df.set_index('day_hour', inplace=True)\n",
    "df.sort_index(inplace=True)"
   ]
  },
  {
   "cell_type": "code",
   "execution_count": 7,
   "metadata": {},
   "outputs": [
    {
     "name": "stdout",
     "output_type": "stream",
     "text": [
      "<class 'pandas.core.frame.DataFrame'>\n",
      "DatetimeIndex: 457 entries, 2023-07-01 00:00:00 to 2023-07-20 00:00:00\n",
      "Data columns (total 3 columns):\n",
      " #   Column  Non-Null Count  Dtype  \n",
      "---  ------  --------------  -----  \n",
      " 0   likes   457 non-null    uint64 \n",
      " 1   views   457 non-null    uint64 \n",
      " 2   ctr     457 non-null    float64\n",
      "dtypes: float64(1), uint64(2)\n",
      "memory usage: 14.3 KB\n"
     ]
    }
   ],
   "source": [
    "df.info()"
   ]
  },
  {
   "cell_type": "code",
   "execution_count": 8,
   "metadata": {},
   "outputs": [
    {
     "ename": "TypeError",
     "evalue": "unsupported operand type(s) for -: 'slice' and 'slice'",
     "output_type": "error",
     "traceback": [
      "\u001b[0;31m---------------------------------------------------------------------------\u001b[0m",
      "\u001b[0;31mTypeError\u001b[0m                                 Traceback (most recent call last)",
      "Input \u001b[0;32mIn [8]\u001b[0m, in \u001b[0;36m<module>\u001b[0;34m\u001b[0m\n\u001b[1;32m      1\u001b[0m \u001b[38;5;66;03m# Такое не сработало почему-то:\u001b[39;00m\n\u001b[0;32m----> 2\u001b[0m impact \u001b[38;5;241m=\u001b[39m \u001b[43mCausalImpact\u001b[49m\u001b[43m(\u001b[49m\u001b[43mdata\u001b[49m\u001b[38;5;241;43m=\u001b[39;49m\u001b[43mdf\u001b[49m\u001b[43m[\u001b[49m\u001b[38;5;124;43m'\u001b[39;49m\u001b[38;5;124;43mctr\u001b[39;49m\u001b[38;5;124;43m'\u001b[39;49m\u001b[43m]\u001b[49m\u001b[43m,\u001b[49m\u001b[43m \u001b[49m\u001b[38;5;66;43;03m#данные\u001b[39;49;00m\n\u001b[1;32m      3\u001b[0m \u001b[43m                      \u001b[49m\u001b[43mpre_period\u001b[49m\u001b[38;5;241;43m=\u001b[39;49m\u001b[43m[\u001b[49m\u001b[38;5;124;43m'\u001b[39;49m\u001b[38;5;124;43m2023-07-01\u001b[39;49m\u001b[38;5;124;43m'\u001b[39;49m\u001b[43m,\u001b[49m\u001b[43m \u001b[49m\u001b[38;5;124;43m'\u001b[39;49m\u001b[38;5;124;43m2023-07-13\u001b[39;49m\u001b[38;5;124;43m'\u001b[39;49m\u001b[43m]\u001b[49m\u001b[43m,\u001b[49m\u001b[43m \u001b[49m\u001b[38;5;66;43;03m#период до события\u001b[39;49;00m\n\u001b[1;32m      4\u001b[0m \u001b[43m                      \u001b[49m\u001b[43mpost_period\u001b[49m\u001b[38;5;241;43m=\u001b[39;49m\u001b[43m[\u001b[49m\u001b[38;5;124;43m'\u001b[39;49m\u001b[38;5;124;43m2023-07-14\u001b[39;49m\u001b[38;5;124;43m'\u001b[39;49m\u001b[43m,\u001b[49m\u001b[43m \u001b[49m\u001b[38;5;124;43m'\u001b[39;49m\u001b[38;5;124;43m2023-07-20\u001b[39;49m\u001b[38;5;124;43m'\u001b[39;49m\u001b[43m]\u001b[49m\u001b[43m)\u001b[49m\n",
      "File \u001b[0;32m/opt/conda/lib/python3.8/site-packages/causalimpact/main.py:265\u001b[0m, in \u001b[0;36mCausalImpact.__init__\u001b[0;34m(self, data, pre_period, post_period, model, model_args, alpha)\u001b[0m\n\u001b[1;32m    256\u001b[0m \u001b[38;5;28;01mdef\u001b[39;00m \u001b[38;5;21m__init__\u001b[39m(\n\u001b[1;32m    257\u001b[0m     \u001b[38;5;28mself\u001b[39m,\n\u001b[1;32m    258\u001b[0m     data: Union[np\u001b[38;5;241m.\u001b[39marray, pd\u001b[38;5;241m.\u001b[39mDataFrame],\n\u001b[0;32m   (...)\u001b[0m\n\u001b[1;32m    263\u001b[0m     alpha: \u001b[38;5;28mfloat\u001b[39m \u001b[38;5;241m=\u001b[39m \u001b[38;5;241m0.05\u001b[39m\n\u001b[1;32m    264\u001b[0m ):\n\u001b[0;32m--> 265\u001b[0m     processed_input \u001b[38;5;241m=\u001b[39m \u001b[43mcidata\u001b[49m\u001b[38;5;241;43m.\u001b[39;49m\u001b[43mprocess_input_data\u001b[49m\u001b[43m(\u001b[49m\u001b[43mdata\u001b[49m\u001b[43m,\u001b[49m\u001b[43m \u001b[49m\u001b[43mpre_period\u001b[49m\u001b[43m,\u001b[49m\u001b[43m \u001b[49m\u001b[43mpost_period\u001b[49m\u001b[43m,\u001b[49m\n\u001b[1;32m    266\u001b[0m \u001b[43m                                                \u001b[49m\u001b[43mmodel\u001b[49m\u001b[43m,\u001b[49m\u001b[43m \u001b[49m\u001b[43mmodel_args\u001b[49m\u001b[43m,\u001b[49m\u001b[43m \u001b[49m\u001b[43malpha\u001b[49m\u001b[43m)\u001b[49m\n\u001b[1;32m    267\u001b[0m     \u001b[38;5;28mself\u001b[39m\u001b[38;5;241m.\u001b[39mdata \u001b[38;5;241m=\u001b[39m data\n\u001b[1;32m    268\u001b[0m     \u001b[38;5;28mself\u001b[39m\u001b[38;5;241m.\u001b[39mprocessed_data_index \u001b[38;5;241m=\u001b[39m processed_input[\u001b[38;5;124m'\u001b[39m\u001b[38;5;124mdata\u001b[39m\u001b[38;5;124m'\u001b[39m]\u001b[38;5;241m.\u001b[39mindex\n",
      "File \u001b[0;32m/opt/conda/lib/python3.8/site-packages/causalimpact/data.py:128\u001b[0m, in \u001b[0;36mprocess_input_data\u001b[0;34m(data, pre_period, post_period, model, model_args, alpha)\u001b[0m\n\u001b[1;32m    126\u001b[0m _check_empty_inputs(\u001b[38;5;28mlocals\u001b[39m())\n\u001b[1;32m    127\u001b[0m data \u001b[38;5;241m=\u001b[39m format_input_data(data)\n\u001b[0;32m--> 128\u001b[0m pre_data, post_data \u001b[38;5;241m=\u001b[39m \u001b[43mprocess_pre_post_data\u001b[49m\u001b[43m(\u001b[49m\u001b[43mdata\u001b[49m\u001b[43m,\u001b[49m\u001b[43m \u001b[49m\u001b[43mpre_period\u001b[49m\u001b[43m,\u001b[49m\u001b[43m \u001b[49m\u001b[43mpost_period\u001b[49m\u001b[43m)\u001b[49m\n\u001b[1;32m    129\u001b[0m mask \u001b[38;5;241m=\u001b[39m _build_nan_mask(post_data)\n\u001b[1;32m    130\u001b[0m alpha \u001b[38;5;241m=\u001b[39m process_alpha(alpha)\n",
      "File \u001b[0;32m/opt/conda/lib/python3.8/site-packages/causalimpact/data.py:314\u001b[0m, in \u001b[0;36mprocess_pre_post_data\u001b[0;34m(data, pre_period, post_period)\u001b[0m\n\u001b[1;32m    312\u001b[0m \u001b[38;5;28;01mif\u001b[39;00m checked_pre_period[\u001b[38;5;241m1\u001b[39m] \u001b[38;5;241m<\u001b[39m checked_pre_period[\u001b[38;5;241m0\u001b[39m]:\n\u001b[1;32m    313\u001b[0m     \u001b[38;5;28;01mraise\u001b[39;00m \u001b[38;5;167;01mValueError\u001b[39;00m(\u001b[38;5;124m'\u001b[39m\u001b[38;5;124mpre_period last number must be bigger than its first.\u001b[39m\u001b[38;5;124m'\u001b[39m)\n\u001b[0;32m--> 314\u001b[0m \u001b[38;5;28;01mif\u001b[39;00m \u001b[43mchecked_pre_period\u001b[49m\u001b[43m[\u001b[49m\u001b[38;5;241;43m1\u001b[39;49m\u001b[43m]\u001b[49m\u001b[43m \u001b[49m\u001b[38;5;241;43m-\u001b[39;49m\u001b[43m \u001b[49m\u001b[43mchecked_pre_period\u001b[49m\u001b[43m[\u001b[49m\u001b[38;5;241;43m0\u001b[39;49m\u001b[43m]\u001b[49m \u001b[38;5;241m<\u001b[39m \u001b[38;5;241m3\u001b[39m:\n\u001b[1;32m    315\u001b[0m     \u001b[38;5;28;01mraise\u001b[39;00m \u001b[38;5;167;01mValueError\u001b[39;00m(\u001b[38;5;124m'\u001b[39m\u001b[38;5;124mpre_period must span at least 3 time points.\u001b[39m\u001b[38;5;124m'\u001b[39m)\n\u001b[1;32m    316\u001b[0m \u001b[38;5;28;01mif\u001b[39;00m checked_post_period[\u001b[38;5;241m1\u001b[39m] \u001b[38;5;241m<\u001b[39m checked_post_period[\u001b[38;5;241m0\u001b[39m]:\n",
      "\u001b[0;31mTypeError\u001b[0m: unsupported operand type(s) for -: 'slice' and 'slice'"
     ]
    }
   ],
   "source": [
    "# Такое не сработало почему-то:\n",
    "impact = CausalImpact(data=df['ctr'], #данные\n",
    "                      pre_period=['2023-07-01', '2023-07-13'], #период до события\n",
    "                      post_period=['2023-07-14', '2023-07-20']) #период после события"
   ]
  },
  {
   "cell_type": "code",
   "execution_count": 13,
   "metadata": {},
   "outputs": [
    {
     "data": {
      "text/html": [
       "<div>\n",
       "<style scoped>\n",
       "    .dataframe tbody tr th:only-of-type {\n",
       "        vertical-align: middle;\n",
       "    }\n",
       "\n",
       "    .dataframe tbody tr th {\n",
       "        vertical-align: top;\n",
       "    }\n",
       "\n",
       "    .dataframe thead th {\n",
       "        text-align: right;\n",
       "    }\n",
       "</style>\n",
       "<table border=\"1\" class=\"dataframe\">\n",
       "  <thead>\n",
       "    <tr style=\"text-align: right;\">\n",
       "      <th></th>\n",
       "      <th>day_hour</th>\n",
       "      <th>likes</th>\n",
       "      <th>views</th>\n",
       "      <th>ctr</th>\n",
       "    </tr>\n",
       "  </thead>\n",
       "  <tbody>\n",
       "    <tr>\n",
       "      <th>0</th>\n",
       "      <td>2023-07-01 00:00:00</td>\n",
       "      <td>3517</td>\n",
       "      <td>15597</td>\n",
       "      <td>0.225492</td>\n",
       "    </tr>\n",
       "    <tr>\n",
       "      <th>1</th>\n",
       "      <td>2023-07-01 01:00:00</td>\n",
       "      <td>2732</td>\n",
       "      <td>12983</td>\n",
       "      <td>0.210429</td>\n",
       "    </tr>\n",
       "    <tr>\n",
       "      <th>2</th>\n",
       "      <td>2023-07-01 02:00:00</td>\n",
       "      <td>2060</td>\n",
       "      <td>9500</td>\n",
       "      <td>0.216842</td>\n",
       "    </tr>\n",
       "    <tr>\n",
       "      <th>3</th>\n",
       "      <td>2023-07-01 03:00:00</td>\n",
       "      <td>1409</td>\n",
       "      <td>6751</td>\n",
       "      <td>0.208710</td>\n",
       "    </tr>\n",
       "    <tr>\n",
       "      <th>4</th>\n",
       "      <td>2023-07-01 04:00:00</td>\n",
       "      <td>1426</td>\n",
       "      <td>6819</td>\n",
       "      <td>0.209122</td>\n",
       "    </tr>\n",
       "    <tr>\n",
       "      <th>...</th>\n",
       "      <td>...</td>\n",
       "      <td>...</td>\n",
       "      <td>...</td>\n",
       "      <td>...</td>\n",
       "    </tr>\n",
       "    <tr>\n",
       "      <th>307</th>\n",
       "      <td>2023-07-13 19:00:00</td>\n",
       "      <td>7772</td>\n",
       "      <td>39371</td>\n",
       "      <td>0.197404</td>\n",
       "    </tr>\n",
       "    <tr>\n",
       "      <th>308</th>\n",
       "      <td>2023-07-13 20:00:00</td>\n",
       "      <td>7498</td>\n",
       "      <td>38065</td>\n",
       "      <td>0.196979</td>\n",
       "    </tr>\n",
       "    <tr>\n",
       "      <th>309</th>\n",
       "      <td>2023-07-13 21:00:00</td>\n",
       "      <td>7422</td>\n",
       "      <td>38082</td>\n",
       "      <td>0.194895</td>\n",
       "    </tr>\n",
       "    <tr>\n",
       "      <th>310</th>\n",
       "      <td>2023-07-13 22:00:00</td>\n",
       "      <td>6783</td>\n",
       "      <td>34663</td>\n",
       "      <td>0.195684</td>\n",
       "    </tr>\n",
       "    <tr>\n",
       "      <th>311</th>\n",
       "      <td>2023-07-13 23:00:00</td>\n",
       "      <td>6263</td>\n",
       "      <td>31806</td>\n",
       "      <td>0.196913</td>\n",
       "    </tr>\n",
       "  </tbody>\n",
       "</table>\n",
       "<p>312 rows × 4 columns</p>\n",
       "</div>"
      ],
      "text/plain": [
       "               day_hour  likes  views       ctr\n",
       "0   2023-07-01 00:00:00   3517  15597  0.225492\n",
       "1   2023-07-01 01:00:00   2732  12983  0.210429\n",
       "2   2023-07-01 02:00:00   2060   9500  0.216842\n",
       "3   2023-07-01 03:00:00   1409   6751  0.208710\n",
       "4   2023-07-01 04:00:00   1426   6819  0.209122\n",
       "..                  ...    ...    ...       ...\n",
       "307 2023-07-13 19:00:00   7772  39371  0.197404\n",
       "308 2023-07-13 20:00:00   7498  38065  0.196979\n",
       "309 2023-07-13 21:00:00   7422  38082  0.194895\n",
       "310 2023-07-13 22:00:00   6783  34663  0.195684\n",
       "311 2023-07-13 23:00:00   6263  31806  0.196913\n",
       "\n",
       "[312 rows x 4 columns]"
      ]
     },
     "execution_count": 13,
     "metadata": {},
     "output_type": "execute_result"
    }
   ],
   "source": [
    "# ...и пришлось поступить так\n",
    "df_ = df.reset_index()\n",
    "df_[df_['day_hour'] < '2023-07-14']"
   ]
  },
  {
   "cell_type": "code",
   "execution_count": 14,
   "metadata": {},
   "outputs": [
    {
     "data": {
      "text/plain": [
       "456"
      ]
     },
     "execution_count": 14,
     "metadata": {},
     "output_type": "execute_result"
    }
   ],
   "source": [
    "df_.shape[0] - 1"
   ]
  },
  {
   "cell_type": "code",
   "execution_count": 15,
   "metadata": {},
   "outputs": [
    {
     "name": "stdout",
     "output_type": "stream",
     "text": [
      "WARNING:tensorflow:From /opt/conda/lib/python3.8/site-packages/tensorflow_probability/python/internal/batched_rejection_sampler.py:102: calling while_loop_v2 (from tensorflow.python.ops.control_flow_ops) with back_prop=False is deprecated and will be removed in a future version.\n",
      "Instructions for updating:\n",
      "back_prop=False is deprecated. Consider using tf.stop_gradient instead.\n",
      "Instead of:\n",
      "results = tf.while_loop(c, b, vars, back_prop=False)\n",
      "Use:\n",
      "results = tf.nest.map_structure(tf.stop_gradient, tf.while_loop(c, b, vars))\n"
     ]
    },
    {
     "name": "stderr",
     "output_type": "stream",
     "text": [
      "2023-08-07 14:50:50.724496: I tensorflow/core/common_runtime/executor.cc:1197] [/device:CPU:0] (DEBUG INFO) Executor start aborting (this does not indicate an error and you can ignore this message): INVALID_ARGUMENT: You must feed a value for placeholder tensor 'shape' with dtype int32 and shape [1]\n",
      "\t [[{{node shape}}]]\n",
      "2023-08-07 14:50:50.724894: I tensorflow/core/common_runtime/executor.cc:1197] [/device:CPU:0] (DEBUG INFO) Executor start aborting (this does not indicate an error and you can ignore this message): INVALID_ARGUMENT: You must feed a value for placeholder tensor 'shape' with dtype int32 and shape [1]\n",
      "\t [[{{node shape}}]]\n",
      "2023-08-07 14:50:50.739158: I tensorflow/core/common_runtime/executor.cc:1197] [/device:CPU:0] (DEBUG INFO) Executor start aborting (this does not indicate an error and you can ignore this message): INVALID_ARGUMENT: You must feed a value for placeholder tensor 'shape' with dtype int32 and shape [1]\n",
      "\t [[{{node shape}}]]\n",
      "2023-08-07 14:50:50.739528: I tensorflow/core/common_runtime/executor.cc:1197] [/device:CPU:0] (DEBUG INFO) Executor start aborting (this does not indicate an error and you can ignore this message): INVALID_ARGUMENT: You must feed a value for placeholder tensor 'shape' with dtype int32 and shape [1]\n",
      "\t [[{{node shape}}]]\n",
      "2023-08-07 14:50:50.775450: I tensorflow/core/common_runtime/executor.cc:1197] [/device:CPU:0] (DEBUG INFO) Executor start aborting (this does not indicate an error and you can ignore this message): INVALID_ARGUMENT: You must feed a value for placeholder tensor 'batched_las_vegas_algorithm/while/normal/stateless_random_normal/StatelessRandomNormalV2/shape' with dtype int32 and shape [1]\n",
      "\t [[{{node batched_las_vegas_algorithm/while/normal/stateless_random_normal/StatelessRandomNormalV2/shape}}]]\n",
      "2023-08-07 14:50:50.775786: I tensorflow/core/common_runtime/executor.cc:1197] [/device:CPU:0] (DEBUG INFO) Executor start aborting (this does not indicate an error and you can ignore this message): INVALID_ARGUMENT: You must feed a value for placeholder tensor 'batched_las_vegas_algorithm/while/normal/stateless_random_normal/StatelessRandomNormalV2/shape' with dtype int32 and shape [1]\n",
      "\t [[{{node batched_las_vegas_algorithm/while/normal/stateless_random_normal/StatelessRandomNormalV2/shape}}]]\n",
      "2023-08-07 14:50:50.789722: I tensorflow/core/common_runtime/executor.cc:1197] [/device:CPU:0] (DEBUG INFO) Executor start aborting (this does not indicate an error and you can ignore this message): INVALID_ARGUMENT: You must feed a value for placeholder tensor 'batched_las_vegas_algorithm/while/normal/stateless_random_normal/StatelessRandomNormalV2/shape' with dtype int32 and shape [1]\n",
      "\t [[{{node batched_las_vegas_algorithm/while/normal/stateless_random_normal/StatelessRandomNormalV2/shape}}]]\n",
      "2023-08-07 14:50:50.790113: I tensorflow/core/common_runtime/executor.cc:1197] [/device:CPU:0] (DEBUG INFO) Executor start aborting (this does not indicate an error and you can ignore this message): INVALID_ARGUMENT: You must feed a value for placeholder tensor 'batched_las_vegas_algorithm/while/normal/stateless_random_normal/StatelessRandomNormalV2/shape' with dtype int32 and shape [1]\n",
      "\t [[{{node batched_las_vegas_algorithm/while/normal/stateless_random_normal/StatelessRandomNormalV2/shape}}]]\n",
      "2023-08-07 14:50:50.828135: I tensorflow/core/common_runtime/executor.cc:1197] [/device:CPU:0] (DEBUG INFO) Executor start aborting (this does not indicate an error and you can ignore this message): INVALID_ARGUMENT: You must feed a value for placeholder tensor 'shape' with dtype int32 and shape [1]\n",
      "\t [[{{node shape}}]]\n",
      "2023-08-07 14:50:50.828447: I tensorflow/core/common_runtime/executor.cc:1197] [/device:CPU:0] (DEBUG INFO) Executor start aborting (this does not indicate an error and you can ignore this message): INVALID_ARGUMENT: You must feed a value for placeholder tensor 'shape' with dtype int32 and shape [1]\n",
      "\t [[{{node shape}}]]\n",
      "2023-08-07 14:50:50.859579: I tensorflow/core/common_runtime/executor.cc:1197] [/device:CPU:0] (DEBUG INFO) Executor start aborting (this does not indicate an error and you can ignore this message): INVALID_ARGUMENT: You must feed a value for placeholder tensor 'shape' with dtype int32 and shape [1]\n",
      "\t [[{{node shape}}]]\n",
      "2023-08-07 14:50:50.885982: I tensorflow/core/common_runtime/executor.cc:1197] [/device:CPU:0] (DEBUG INFO) Executor start aborting (this does not indicate an error and you can ignore this message): INVALID_ARGUMENT: You must feed a value for placeholder tensor 'shape' with dtype int32 and shape [1]\n",
      "\t [[{{node shape}}]]\n",
      "2023-08-07 14:50:50.886317: I tensorflow/core/common_runtime/executor.cc:1197] [/device:CPU:0] (DEBUG INFO) Executor start aborting (this does not indicate an error and you can ignore this message): INVALID_ARGUMENT: You must feed a value for placeholder tensor 'shape' with dtype int32 and shape [1]\n",
      "\t [[{{node shape}}]]\n",
      "2023-08-07 14:50:50.892350: I tensorflow/core/common_runtime/executor.cc:1197] [/device:CPU:0] (DEBUG INFO) Executor start aborting (this does not indicate an error and you can ignore this message): INVALID_ARGUMENT: You must feed a value for placeholder tensor 'shape' with dtype int32 and shape [1]\n",
      "\t [[{{node shape}}]]\n",
      "2023-08-07 14:50:50.892689: I tensorflow/core/common_runtime/executor.cc:1197] [/device:CPU:0] (DEBUG INFO) Executor start aborting (this does not indicate an error and you can ignore this message): INVALID_ARGUMENT: You must feed a value for placeholder tensor 'shape' with dtype int32 and shape [1]\n",
      "\t [[{{node shape}}]]\n",
      "2023-08-07 14:50:51.075610: I tensorflow/core/common_runtime/executor.cc:1197] [/device:CPU:0] (DEBUG INFO) Executor start aborting (this does not indicate an error and you can ignore this message): INTERNAL: No function library is provided.\n",
      "\t [[{{node powerInverseGamma/sample/InverseGamma/sample/PartitionedCall}}]]\n",
      "2023-08-07 14:50:51.104734: I tensorflow/core/common_runtime/executor.cc:1197] [/device:CPU:0] (DEBUG INFO) Executor start aborting (this does not indicate an error and you can ignore this message): INTERNAL: No function library is provided.\n",
      "\t [[{{node powerInverseGamma/sample_1/InverseGamma/sample/PartitionedCall}}]]\n"
     ]
    },
    {
     "name": "stdout",
     "output_type": "stream",
     "text": [
      "WARNING:tensorflow:From /opt/conda/lib/python3.8/site-packages/tensorflow/python/autograph/impl/api.py:458: StructuralTimeSeries.joint_log_prob (from tensorflow_probability.python.sts.structural_time_series) is deprecated and will be removed after 2022-03-01.\n",
      "Instructions for updating:\n",
      "Please use `StructuralTimeSeries.joint_distribution(observed_time_series).log_prob`\n"
     ]
    },
    {
     "name": "stderr",
     "output_type": "stream",
     "text": [
      "2023-08-07 14:50:51.932295: I tensorflow/core/common_runtime/executor.cc:1197] [/device:CPU:0] (DEBUG INFO) Executor start aborting (this does not indicate an error and you can ignore this message): INTERNAL: No function library is provided.\n",
      "\t [[{{node powerInverseGamma_CONSTRUCTED_AT_joint_log_prob/sample/InverseGamma/sample/PartitionedCall}}]]\n",
      "2023-08-07 14:50:51.964692: I tensorflow/core/common_runtime/executor.cc:1197] [/device:CPU:0] (DEBUG INFO) Executor start aborting (this does not indicate an error and you can ignore this message): INTERNAL: No function library is provided.\n",
      "\t [[{{node powerInverseGamma_1_CONSTRUCTED_AT_joint_log_prob/sample/InverseGamma/sample/PartitionedCall}}]]\n",
      "2023-08-07 14:50:52.015689: I tensorflow/core/common_runtime/executor.cc:1197] [/device:CPU:0] (DEBUG INFO) Executor start aborting (this does not indicate an error and you can ignore this message): INTERNAL: No function library is provided.\n",
      "\t [[{{node monte_carlo_variational_loss/expectation/powerInverseGamma_CONSTRUCTED_AT_joint_log_prob/sample/InverseGamma/sample/PartitionedCall}}]]\n",
      "2023-08-07 14:50:52.046066: I tensorflow/core/common_runtime/executor.cc:1197] [/device:CPU:0] (DEBUG INFO) Executor start aborting (this does not indicate an error and you can ignore this message): INTERNAL: No function library is provided.\n",
      "\t [[{{node monte_carlo_variational_loss/expectation/powerInverseGamma_1_CONSTRUCTED_AT_joint_log_prob/sample/InverseGamma/sample/PartitionedCall}}]]\n",
      "2023-08-07 14:50:54.538454: I tensorflow/core/common_runtime/executor.cc:1197] [/device:CPU:0] (DEBUG INFO) Executor start aborting (this does not indicate an error and you can ignore this message): INTERNAL: No function library is provided.\n",
      "\t [[{{node monte_carlo_variational_loss/expectation/powerInverseGamma_CONSTRUCTED_AT_joint_log_prob/sample/InverseGamma/sample/PartitionedCall}}]]\n",
      "2023-08-07 14:50:54.572209: I tensorflow/core/common_runtime/executor.cc:1197] [/device:CPU:0] (DEBUG INFO) Executor start aborting (this does not indicate an error and you can ignore this message): INTERNAL: No function library is provided.\n",
      "\t [[{{node monte_carlo_variational_loss/expectation/powerInverseGamma_1_CONSTRUCTED_AT_joint_log_prob/sample/InverseGamma/sample/PartitionedCall}}]]\n",
      "2023-08-07 14:50:56.974062: I tensorflow/core/common_runtime/executor.cc:1197] [/device:CPU:0] (DEBUG INFO) Executor start aborting (this does not indicate an error and you can ignore this message): INTERNAL: No function library is provided.\n",
      "\t [[{{node monte_carlo_variational_loss/expectation/powerInverseGamma_CONSTRUCTED_AT_joint_log_prob/sample/InverseGamma/sample/PartitionedCall}}]]\n",
      "2023-08-07 14:50:56.975761: I tensorflow/core/common_runtime/executor.cc:1197] [/device:CPU:0] (DEBUG INFO) Executor start aborting (this does not indicate an error and you can ignore this message): INTERNAL: No function library is provided.\n",
      "\t [[{{node monte_carlo_variational_loss/expectation/powerInverseGamma_1_CONSTRUCTED_AT_joint_log_prob/sample/InverseGamma/sample/PartitionedCall}}]]\n",
      "2023-08-07 14:50:57.692318: I tensorflow/core/common_runtime/executor.cc:1197] [/device:CPU:0] (DEBUG INFO) Executor start aborting (this does not indicate an error and you can ignore this message): INTERNAL: No function library is provided.\n",
      "\t [[{{node monte_carlo_variational_loss/expectation/powerInverseGamma_CONSTRUCTED_AT_joint_log_prob/sample/InverseGamma/sample/PartitionedCall}}]]\n",
      "2023-08-07 14:50:57.726371: I tensorflow/core/common_runtime/executor.cc:1197] [/device:CPU:0] (DEBUG INFO) Executor start aborting (this does not indicate an error and you can ignore this message): INTERNAL: No function library is provided.\n",
      "\t [[{{node monte_carlo_variational_loss/expectation/powerInverseGamma_1_CONSTRUCTED_AT_joint_log_prob/sample/InverseGamma/sample/PartitionedCall}}]]\n",
      "2023-08-07 14:50:59.871436: I tensorflow/core/common_runtime/executor.cc:1197] [/device:CPU:0] (DEBUG INFO) Executor start aborting (this does not indicate an error and you can ignore this message): INTERNAL: No function library is provided.\n",
      "\t [[{{node monte_carlo_variational_loss/expectation/powerInverseGamma_1_CONSTRUCTED_AT_joint_log_prob/sample/InverseGamma/sample/PartitionedCall}}]]\n",
      "2023-08-07 14:50:59.874736: I tensorflow/core/common_runtime/executor.cc:1197] [/device:CPU:0] (DEBUG INFO) Executor start aborting (this does not indicate an error and you can ignore this message): INTERNAL: No function library is provided.\n",
      "\t [[{{node monte_carlo_variational_loss/expectation/powerInverseGamma_CONSTRUCTED_AT_joint_log_prob/sample/InverseGamma/sample/PartitionedCall}}]]\n"
     ]
    },
    {
     "name": "stdout",
     "output_type": "stream",
     "text": [
      "WARNING:tensorflow:From /opt/conda/lib/python3.8/site-packages/causalimpact/model.py:408: calling one_step_predictive (from tensorflow_probability.python.sts.forecast) with timesteps_are_event_shape=True is deprecated and will be removed after 2021-12-31.\n",
      "Instructions for updating:\n",
      "`Predictive distributions returned by`tfp.sts.one_step_predictive` will soon compute per-timestep probabilities (treating timesteps as part of the batch shape) instead of a single probability for an entire series (the current approach, in which timesteps are treated as event shape). Please update your code to pass `timesteps_are_event_shape=False` (this will soon be the default) and to explicitly sum over the per-timestep log probabilities if this is required.\n"
     ]
    },
    {
     "name": "stderr",
     "output_type": "stream",
     "text": [
      "2023-08-07 14:51:57.877839: I tensorflow/core/common_runtime/executor.cc:1197] [/device:CPU:0] (DEBUG INFO) Executor start aborting (this does not indicate an error and you can ignore this message): INVALID_ARGUMENT: You must feed a value for placeholder tensor 'AdditiveStateSpaceModel/sample/AdditiveStateSpaceModel/sample_n_joint/scan/while/strided_slice/AdditiveStateSpaceModel/sample/AdditiveStateSpaceModel/sample_n_joint/concat_1' with dtype int32 and shape [2]\n",
      "\t [[{{node AdditiveStateSpaceModel/sample/AdditiveStateSpaceModel/sample_n_joint/scan/while/strided_slice/AdditiveStateSpaceModel/sample/AdditiveStateSpaceModel/sample_n_joint/concat_1}}]]\n",
      "2023-08-07 14:51:57.988241: I tensorflow/core/common_runtime/executor.cc:1197] [/device:CPU:0] (DEBUG INFO) Executor start aborting (this does not indicate an error and you can ignore this message): INVALID_ARGUMENT: You must feed a value for placeholder tensor 'AdditiveStateSpaceModel/sample/AdditiveStateSpaceModel/sample_n_joint/scan/while/strided_slice/AdditiveStateSpaceModel/sample/AdditiveStateSpaceModel/sample_n_joint/concat_1' with dtype int32 and shape [2]\n",
      "\t [[{{node AdditiveStateSpaceModel/sample/AdditiveStateSpaceModel/sample_n_joint/scan/while/strided_slice/AdditiveStateSpaceModel/sample/AdditiveStateSpaceModel/sample_n_joint/concat_1}}]]\n"
     ]
    }
   ],
   "source": [
    "impact = CausalImpact(data=df_['ctr'], #данные\n",
    "                      pre_period=[0, 311], #период до события\n",
    "                      post_period=[312, 456]) #период после события"
   ]
  },
  {
   "cell_type": "code",
   "execution_count": 16,
   "metadata": {},
   "outputs": [
    {
     "data": {
      "image/png": "[encoded data removed]",
      "text/plain": [
       "<Figure size 720x504 with 3 Axes>"
      ]
     },
     "metadata": {
      "needs_background": "light"
     },
     "output_type": "display_data"
    }
   ],
   "source": [
    "impact.plot()"
   ]
  },
  {
   "cell_type": "markdown",
   "metadata": {},
   "source": [
    "# Вывод\n",
    "**Вывод** Есть увеличение CTR во время флешмоба - кривая `Cumulative effect` идёт вверх"
   ]
  },
  {
   "cell_type": "markdown",
   "metadata": {},
   "source": [
    "# Eщё"
   ]
  },
  {
   "cell_type": "markdown",
   "metadata": {},
   "source": [
    "А если сравнить обычным t-test? Да, это неправильно сравнивать разные промежутки времени, но я всё равно посмотрю))"
   ]
  },
  {
   "cell_type": "code",
   "execution_count": 19,
   "metadata": {},
   "outputs": [],
   "source": [
    "from scipy import stats\n",
    "import seaborn as sns"
   ]
  },
  {
   "cell_type": "code",
   "execution_count": 24,
   "metadata": {},
   "outputs": [],
   "source": [
    "# df['before_after']\n",
    "df_['flashmob'] = df_.apply(lambda x: 'before' if x['day_hour'] <= pd.to_datetime('2023-07-13') else 'flashmob', axis='columns')"
   ]
  },
  {
   "cell_type": "code",
   "execution_count": 25,
   "metadata": {},
   "outputs": [
    {
     "data": {
      "image/png": "[encoded data removed]",
      "text/plain": [
       "<Figure size 432x288 with 1 Axes>"
      ]
     },
     "metadata": {
      "needs_background": "light"
     },
     "output_type": "display_data"
    }
   ],
   "source": [
    "# Посмотрим распределения CTR в группах 1 и 2\n",
    "groups = sns.histplot(\n",
    "    data = df_, \n",
    "    x='ctr', \n",
    "    hue='flashmob', \n",
    "    palette = ['r', 'b'],\n",
    "    alpha=0.5,\n",
    "    kde=False)"
   ]
  },
  {
   "cell_type": "code",
   "execution_count": 31,
   "metadata": {},
   "outputs": [
    {
     "data": {
      "text/html": [
       "<div>\n",
       "<style scoped>\n",
       "    .dataframe tbody tr th:only-of-type {\n",
       "        vertical-align: middle;\n",
       "    }\n",
       "\n",
       "    .dataframe tbody tr th {\n",
       "        vertical-align: top;\n",
       "    }\n",
       "\n",
       "    .dataframe thead th {\n",
       "        text-align: right;\n",
       "    }\n",
       "</style>\n",
       "<table border=\"1\" class=\"dataframe\">\n",
       "  <thead>\n",
       "    <tr style=\"text-align: right;\">\n",
       "      <th></th>\n",
       "      <th>ctr</th>\n",
       "    </tr>\n",
       "    <tr>\n",
       "      <th>flashmob</th>\n",
       "      <th></th>\n",
       "    </tr>\n",
       "  </thead>\n",
       "  <tbody>\n",
       "    <tr>\n",
       "      <th>before</th>\n",
       "      <td>0.212168</td>\n",
       "    </tr>\n",
       "    <tr>\n",
       "      <th>flashmob</th>\n",
       "      <td>0.214795</td>\n",
       "    </tr>\n",
       "  </tbody>\n",
       "</table>\n",
       "</div>"
      ],
      "text/plain": [
       "               ctr\n",
       "flashmob          \n",
       "before    0.212168\n",
       "flashmob  0.214795"
      ]
     },
     "execution_count": 31,
     "metadata": {},
     "output_type": "execute_result"
    }
   ],
   "source": [
    "df_.groupby(by='flashmob').agg({'ctr': 'mean'})"
   ]
  },
  {
   "cell_type": "code",
   "execution_count": 32,
   "metadata": {},
   "outputs": [
    {
     "data": {
      "text/plain": [
       "Ttest_indResult(statistic=-2.5333474334921484, pvalue=0.011787642052034777)"
      ]
     },
     "execution_count": 32,
     "metadata": {},
     "output_type": "execute_result"
    }
   ],
   "source": [
    "stats.ttest_ind(df_[df_['flashmob'] == 'before']['ctr'],\n",
    "                df_[df_['flashmob'] == 'flashmob']['ctr'],\n",
    "                equal_var=False)"
   ]
  },
  {
   "cell_type": "markdown",
   "metadata": {},
   "source": [
    "Тут тоже видно, что CTR немного увеличлися"
   ]
  }
 ],
 "metadata": {
  "kernelspec": {
   "display_name": "Python 3",
   "language": "python",
   "name": "python3"
  },
  "language_info": {
   "codemirror_mode": {
    "name": "ipython",
    "version": 3
   },
   "file_extension": ".py",
   "mimetype": "text/x-python",
   "name": "python",
   "nbconvert_exporter": "python",
   "pygments_lexer": "ipython3",
   "version": "3.8.5"
  },
  "toc": {
   "base_numbering": 1,
   "nav_menu": {},
   "number_sections": true,
   "sideBar": true,
   "skip_h1_title": false,
   "title_cell": "Table of Contents",
   "title_sidebar": "Contents",
   "toc_cell": false,
   "toc_position": {},
   "toc_section_display": true,
   "toc_window_display": false
  }
 },
 "nbformat": 4,
 "nbformat_minor": 5
}
