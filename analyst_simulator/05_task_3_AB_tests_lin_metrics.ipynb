{
 "cells": [
  {
   "cell_type": "markdown",
   "id": "1f04ccda-de04-4a0b-b855-26436ee04f35",
   "metadata": {},
   "source": [
    "# Метод  линеаризованных лайков\n",
    "\n",
    "Разобранными на лекции методами список того, что можно применять к метрикам-отношениям, не ограничивается. Есть огромное количество полезных материалов на эту темы. Начнем с [материалов](https://vkteam.medium.com/practitioners-guide-to-statistical-tests-ed2d580ef04f#d2d3) Никиты Маршалкина. К слову, [вот](https://www.youtube.com/watch?v=gljfGAkgX_o&t=19s) его интервью, там тоже много интересного. \n",
    "\n",
    "Относительно недавно (в 2018-м году) исследователи из Яндекса разработали классный метод анализа тестов над метриками-отношениями (прямо как у нас) вида 𝑥/𝑦\n",
    "\n",
    "Идея метода заключается в следующем:\n",
    "\n",
    "Вместо того, чтобы заталкивать в тест «поюзерные» `CTR`, можно сконструировать другую метрику и анализировать ее, но при этом гарантируется (в отличие от сглаженного `CTR`), что если тест на этой другой метрике «прокрасится» и увидит изменения, значит изменения есть и в метрике исходной (то есть в лайках на пользователя и в пользовательских `CTR`\n",
    "\n",
    "При этом метод сам по себе очень прост. Что это за метрика такая?\n",
    "\n",
    "* Считаем общий `CTR` в контрольной группе 𝐶𝑇𝑅𝑐𝑜𝑛𝑡𝑟𝑜𝑙=𝑠𝑢𝑚(𝑙𝑖𝑘𝑒𝑠)/𝑠𝑢𝑚(𝑣𝑖𝑒𝑤𝑠)\n",
    "* Посчитаем в обеих группах поюзерную метрику 𝑙𝑖𝑛𝑒𝑎𝑟𝑖𝑧𝑒𝑑_𝑙𝑖𝑘𝑒𝑠=𝑙𝑖𝑘𝑒𝑠−𝐶𝑇𝑅𝑐𝑜𝑛𝑡𝑟𝑜𝑙∗𝑣𝑖𝑒𝑤𝑠\n",
    "* После чего сравним  t-тестом отличия в группах по метрике 𝑙𝑖𝑛𝑒𝑎𝑟𝑖𝑧𝑒𝑑_𝑙𝑖𝑘𝑒𝑠\n",
    "\n",
    "Метод простой, гарантируется, что при приличном размере выборки (как у нас — подойдет) можно бесплатно увеличить чувствительность вашей метрики (или, по крайней мере, не сделать хуже). Как по мне, это ОЧЕНЬ круто.\n",
    "\n",
    "**Задача**\n",
    "\n",
    "1. Проанализируйте тест между группами 0 и 3 по метрике линеаризованных лайков. Видно ли отличие? Стало ли 𝑝−𝑣𝑎𝑙𝑢𝑒 меньше?\n",
    "2. Проанализируйте тест между группами 1 и 2 по метрике линеаризованных лайков. Видно ли отличие? Стало ли 𝑝−𝑣𝑎𝑙𝑢𝑒 меньше?"
   ]
  },
  {
   "cell_type": "code",
   "execution_count": 34,
   "id": "3d18b3ee-a91d-44d1-b115-7fa78c7eba1c",
   "metadata": {},
   "outputs": [],
   "source": [
    "import pandahouse\n",
    "import pandas as pd\n",
    "import numpy as np\n",
    "from scipy import stats\n",
    "import seaborn as sns\n",
    "import matplotlib.pyplot as plt \n",
    "\n",
    "import warnings\n",
    "warnings.filterwarnings('ignore')"
   ]
  },
  {
   "cell_type": "code",
   "execution_count": 10,
   "id": "3b7f1265-a432-41cd-994f-71931e3d2e53",
   "metadata": {},
   "outputs": [],
   "source": [
    "# Сделаем графики в seaborn покрупнее\n",
    "sns.set(rc={'figure.figsize':(15, 10)})"
   ]
  },
  {
   "cell_type": "code",
   "execution_count": 3,
   "id": "049d32bc-df0a-4e46-99f7-605462481f1e",
   "metadata": {},
   "outputs": [],
   "source": [
    "connection = {\n",
    "    'host': 'https://clickhouse.lab.karpov.courses',\n",
    "    'password': 'dpo_python_2020',\n",
    "    'user': 'student',\n",
    "    'database': 'simulator_20230720'\n",
    "}"
   ]
  },
  {
   "cell_type": "code",
   "execution_count": 4,
   "id": "4b5397ac-a14c-4eb7-935d-8cb29b7325e1",
   "metadata": {},
   "outputs": [
    {
     "name": "stdout",
     "output_type": "stream",
     "text": [
      "CPU times: user 75.6 ms, sys: 7.55 ms, total: 83.1 ms\n",
      "Wall time: 364 ms\n"
     ]
    }
   ],
   "source": [
    "%%time\n",
    "# Эксперимент проходил с 2023-06-30 по 2023-07-06 включительно\n",
    "# Для эксперимента были задействованы 2 и 1 группы.\n",
    "# В группе 2 был использован один из новых алгоритмов рекомендации постов, группа 1 использовалась в качестве контроля.\n",
    "q = \"\"\"\n",
    "SELECT \n",
    "    exp_group, \n",
    "    user_id,\n",
    "    sum(action = 'like') as likes,\n",
    "    sum(action = 'view') as views,\n",
    "    likes/views as ctr\n",
    "FROM {db}.feed_actions \n",
    "WHERE toDate(time) between '2023-06-30' and '2023-07-06'\n",
    "    and exp_group in (0, 1, 2, 3)\n",
    "GROUP BY exp_group, user_id\n",
    "\"\"\"\n",
    "\n",
    "df = pandahouse.read_clickhouse(q, connection=connection)"
   ]
  },
  {
   "cell_type": "code",
   "execution_count": 5,
   "id": "a4fb5d34-8bcd-4a9e-b0d8-bcd88434d8e0",
   "metadata": {},
   "outputs": [
    {
     "data": {
      "text/html": [
       "<div>\n",
       "<style scoped>\n",
       "    .dataframe tbody tr th:only-of-type {\n",
       "        vertical-align: middle;\n",
       "    }\n",
       "\n",
       "    .dataframe tbody tr th {\n",
       "        vertical-align: top;\n",
       "    }\n",
       "\n",
       "    .dataframe thead th {\n",
       "        text-align: right;\n",
       "    }\n",
       "</style>\n",
       "<table border=\"1\" class=\"dataframe\">\n",
       "  <thead>\n",
       "    <tr style=\"text-align: right;\">\n",
       "      <th></th>\n",
       "      <th>exp_group</th>\n",
       "      <th>user_id</th>\n",
       "      <th>likes</th>\n",
       "      <th>views</th>\n",
       "      <th>ctr</th>\n",
       "    </tr>\n",
       "  </thead>\n",
       "  <tbody>\n",
       "    <tr>\n",
       "      <th>0</th>\n",
       "      <td>1</td>\n",
       "      <td>18392</td>\n",
       "      <td>7</td>\n",
       "      <td>32</td>\n",
       "      <td>0.218750</td>\n",
       "    </tr>\n",
       "    <tr>\n",
       "      <th>1</th>\n",
       "      <td>3</td>\n",
       "      <td>115383</td>\n",
       "      <td>12</td>\n",
       "      <td>44</td>\n",
       "      <td>0.272727</td>\n",
       "    </tr>\n",
       "    <tr>\n",
       "      <th>2</th>\n",
       "      <td>2</td>\n",
       "      <td>131473</td>\n",
       "      <td>9</td>\n",
       "      <td>108</td>\n",
       "      <td>0.083333</td>\n",
       "    </tr>\n",
       "    <tr>\n",
       "      <th>3</th>\n",
       "      <td>3</td>\n",
       "      <td>123580</td>\n",
       "      <td>2</td>\n",
       "      <td>11</td>\n",
       "      <td>0.181818</td>\n",
       "    </tr>\n",
       "    <tr>\n",
       "      <th>4</th>\n",
       "      <td>2</td>\n",
       "      <td>32420</td>\n",
       "      <td>13</td>\n",
       "      <td>44</td>\n",
       "      <td>0.295455</td>\n",
       "    </tr>\n",
       "    <tr>\n",
       "      <th>...</th>\n",
       "      <td>...</td>\n",
       "      <td>...</td>\n",
       "      <td>...</td>\n",
       "      <td>...</td>\n",
       "      <td>...</td>\n",
       "    </tr>\n",
       "    <tr>\n",
       "      <th>39814</th>\n",
       "      <td>0</td>\n",
       "      <td>27030</td>\n",
       "      <td>12</td>\n",
       "      <td>64</td>\n",
       "      <td>0.187500</td>\n",
       "    </tr>\n",
       "    <tr>\n",
       "      <th>39815</th>\n",
       "      <td>3</td>\n",
       "      <td>122758</td>\n",
       "      <td>20</td>\n",
       "      <td>118</td>\n",
       "      <td>0.169492</td>\n",
       "    </tr>\n",
       "    <tr>\n",
       "      <th>39816</th>\n",
       "      <td>1</td>\n",
       "      <td>132567</td>\n",
       "      <td>52</td>\n",
       "      <td>326</td>\n",
       "      <td>0.159509</td>\n",
       "    </tr>\n",
       "    <tr>\n",
       "      <th>39817</th>\n",
       "      <td>3</td>\n",
       "      <td>122190</td>\n",
       "      <td>19</td>\n",
       "      <td>65</td>\n",
       "      <td>0.292308</td>\n",
       "    </tr>\n",
       "    <tr>\n",
       "      <th>39818</th>\n",
       "      <td>2</td>\n",
       "      <td>17310</td>\n",
       "      <td>9</td>\n",
       "      <td>82</td>\n",
       "      <td>0.109756</td>\n",
       "    </tr>\n",
       "  </tbody>\n",
       "</table>\n",
       "<p>39819 rows × 5 columns</p>\n",
       "</div>"
      ],
      "text/plain": [
       "       exp_group  user_id  likes  views       ctr\n",
       "0              1    18392      7     32  0.218750\n",
       "1              3   115383     12     44  0.272727\n",
       "2              2   131473      9    108  0.083333\n",
       "3              3   123580      2     11  0.181818\n",
       "4              2    32420     13     44  0.295455\n",
       "...          ...      ...    ...    ...       ...\n",
       "39814          0    27030     12     64  0.187500\n",
       "39815          3   122758     20    118  0.169492\n",
       "39816          1   132567     52    326  0.159509\n",
       "39817          3   122190     19     65  0.292308\n",
       "39818          2    17310      9     82  0.109756\n",
       "\n",
       "[39819 rows x 5 columns]"
      ]
     },
     "execution_count": 5,
     "metadata": {},
     "output_type": "execute_result"
    }
   ],
   "source": [
    "df"
   ]
  },
  {
   "cell_type": "code",
   "execution_count": 6,
   "id": "38712118-9df1-4aa1-805a-fa470aa0a592",
   "metadata": {},
   "outputs": [
    {
     "data": {
      "text/html": [
       "<div>\n",
       "<style scoped>\n",
       "    .dataframe tbody tr th:only-of-type {\n",
       "        vertical-align: middle;\n",
       "    }\n",
       "\n",
       "    .dataframe tbody tr th {\n",
       "        vertical-align: top;\n",
       "    }\n",
       "\n",
       "    .dataframe thead tr th {\n",
       "        text-align: left;\n",
       "    }\n",
       "\n",
       "    .dataframe thead tr:last-of-type th {\n",
       "        text-align: right;\n",
       "    }\n",
       "</style>\n",
       "<table border=\"1\" class=\"dataframe\">\n",
       "  <thead>\n",
       "    <tr>\n",
       "      <th></th>\n",
       "      <th colspan=\"2\" halign=\"left\">ctr</th>\n",
       "      <th colspan=\"2\" halign=\"left\">views</th>\n",
       "    </tr>\n",
       "    <tr>\n",
       "      <th></th>\n",
       "      <th>mean</th>\n",
       "      <th>median</th>\n",
       "      <th>mean</th>\n",
       "      <th>median</th>\n",
       "    </tr>\n",
       "    <tr>\n",
       "      <th>exp_group</th>\n",
       "      <th></th>\n",
       "      <th></th>\n",
       "      <th></th>\n",
       "      <th></th>\n",
       "    </tr>\n",
       "  </thead>\n",
       "  <tbody>\n",
       "    <tr>\n",
       "      <th>0</th>\n",
       "      <td>0.216858</td>\n",
       "      <td>0.205357</td>\n",
       "      <td>67.599194</td>\n",
       "      <td>58.0</td>\n",
       "    </tr>\n",
       "    <tr>\n",
       "      <th>1</th>\n",
       "      <td>0.216774</td>\n",
       "      <td>0.205882</td>\n",
       "      <td>66.820659</td>\n",
       "      <td>57.0</td>\n",
       "    </tr>\n",
       "    <tr>\n",
       "      <th>2</th>\n",
       "      <td>0.216102</td>\n",
       "      <td>0.153285</td>\n",
       "      <td>66.766630</td>\n",
       "      <td>57.0</td>\n",
       "    </tr>\n",
       "    <tr>\n",
       "      <th>3</th>\n",
       "      <td>0.233192</td>\n",
       "      <td>0.222222</td>\n",
       "      <td>66.884123</td>\n",
       "      <td>57.0</td>\n",
       "    </tr>\n",
       "  </tbody>\n",
       "</table>\n",
       "</div>"
      ],
      "text/plain": [
       "                ctr                views       \n",
       "               mean    median       mean median\n",
       "exp_group                                      \n",
       "0          0.216858  0.205357  67.599194   58.0\n",
       "1          0.216774  0.205882  66.820659   57.0\n",
       "2          0.216102  0.153285  66.766630   57.0\n",
       "3          0.233192  0.222222  66.884123   57.0"
      ]
     },
     "execution_count": 6,
     "metadata": {},
     "output_type": "execute_result"
    }
   ],
   "source": [
    "# Есть ли разница в среднем CTR и количестве просмотров?\n",
    "df.groupby('exp_group').agg({'ctr': ['mean', 'median'], 'views': ['mean', 'median']})"
   ]
  },
  {
   "cell_type": "code",
   "execution_count": 13,
   "id": "7461f475-e525-4a95-8da6-794901630f7c",
   "metadata": {},
   "outputs": [],
   "source": [
    "df_group_0 = df[df['exp_group'] == 0]\n",
    "df_group_1 = df[df['exp_group'] == 1]\n",
    "df_group_2 = df[df['exp_group'] == 2]\n",
    "df_group_3 = df[df['exp_group'] == 3]"
   ]
  },
  {
   "cell_type": "markdown",
   "id": "a9e9596e-0be9-485e-8a4c-2a325efe76cd",
   "metadata": {},
   "source": [
    "## Задача 1\n",
    "Проанализируйте тест между группами 0 и 3 по метрике линеаризованных лайков. Видно ли отличие? Стало ли 𝑝−𝑣𝑎𝑙𝑢𝑒 меньше?"
   ]
  },
  {
   "cell_type": "code",
   "execution_count": 35,
   "id": "54f7197a-5541-4f75-abc6-51329d45418d",
   "metadata": {},
   "outputs": [
    {
     "data": {
      "image/png": "[encoded data removed]",
      "text/plain": [
       "<Figure size 1080x720 with 1 Axes>"
      ]
     },
     "metadata": {},
     "output_type": "display_data"
    }
   ],
   "source": [
    "sns.histplot(df_group_0['ctr'], label='Группа 0 (без изменений)')\n",
    "sns.histplot(df_group_3['ctr'], label='Группа 3')\n",
    "plt.legend()\n",
    "plt.show()"
   ]
  },
  {
   "cell_type": "code",
   "execution_count": 27,
   "id": "48276e8a-eb7f-46b0-909e-f077dcac5fdf",
   "metadata": {},
   "outputs": [
    {
     "data": {
      "text/plain": [
       "(0.21685767434338885, 0.23319244373013098)"
      ]
     },
     "execution_count": 27,
     "metadata": {},
     "output_type": "execute_result"
    }
   ],
   "source": [
    "# Средние значения\n",
    "df_group_0['ctr'].mean(), df_group_3['ctr'].mean()"
   ]
  },
  {
   "cell_type": "code",
   "execution_count": 14,
   "id": "2791b6bc-c4c7-43bf-bd5c-1db0954a073d",
   "metadata": {},
   "outputs": [
    {
     "data": {
      "text/plain": [
       "Ttest_indResult(statistic=-13.935320516755823, pvalue=6.216047483057877e-44)"
      ]
     },
     "execution_count": 14,
     "metadata": {},
     "output_type": "execute_result"
    }
   ],
   "source": [
    "# t-test для групп 0 и 3\n",
    "stats.ttest_ind(df_group_0['ctr'],\n",
    "                df_group_3['ctr'],\n",
    "                equal_var=False)"
   ]
  },
  {
   "cell_type": "code",
   "execution_count": 25,
   "id": "2c3a3435-575c-481d-a6cd-3882e7fa0a6b",
   "metadata": {},
   "outputs": [
    {
     "data": {
      "text/plain": [
       "Ttest_indResult(statistic=-16.18623003293285, pvalue=1.4918137745324434e-58)"
      ]
     },
     "execution_count": 25,
     "metadata": {},
     "output_type": "execute_result"
    }
   ],
   "source": [
    "# t-test для групп 0 и 3 с использованием линеаризованных лайков\n",
    "# 1. Считаем общий CTR в контрольной группе 𝐶𝑇𝑅𝑐𝑜𝑛𝑡𝑟𝑜𝑙=𝑠𝑢𝑚(𝑙𝑖𝑘𝑒𝑠)/𝑠𝑢𝑚(𝑣𝑖𝑒𝑤𝑠)\n",
    "general_ctr_0 = df_group_0['likes'].sum() / df_group_0['views'].sum()\n",
    "\n",
    "# 2. Посчитаем в обеих группах поюзерную метрику 𝑙𝑖𝑛𝑒𝑎𝑟𝑖𝑧𝑒𝑑_𝑙𝑖𝑘𝑒𝑠=𝑙𝑖𝑘𝑒𝑠−𝐶𝑇𝑅𝑐𝑜𝑛𝑡𝑟𝑜𝑙∗𝑣𝑖𝑒𝑤𝑠\n",
    "df_group_0['lin_likes'] = df_group_0['likes'] - general_ctr_0 * df_group_0['views']\n",
    "df_group_3['lin_likes'] = df_group_3['likes'] - general_ctr_0 * df_group_3['views']\n",
    "\n",
    "# 3. После чего сравним  t-тестом отличия в группах по метрике 𝑙𝑖𝑛𝑒𝑎𝑟𝑖𝑧𝑒𝑑_𝑙𝑖𝑘𝑒𝑠\n",
    "stats.ttest_ind(df_group_0['lin_likes'],\n",
    "                df_group_3['lin_likes'],\n",
    "                equal_var=False)"
   ]
  },
  {
   "cell_type": "code",
   "execution_count": 36,
   "id": "36e11329-1982-4f7b-86f3-4c0cf8933686",
   "metadata": {},
   "outputs": [
    {
     "data": {
      "image/png": "[encoded data removed]",
      "text/plain": [
       "<Figure size 1080x720 with 1 Axes>"
      ]
     },
     "metadata": {},
     "output_type": "display_data"
    }
   ],
   "source": [
    "# Посмотрим на распределяни линеаризованных метрик\n",
    "sns.histplot(df_group_0['lin_likes'], label='Группа 0 (без изменений)')\n",
    "sns.histplot(df_group_3['lin_likes'], label='Группа 3')\n",
    "plt.legend()\n",
    "plt.show()"
   ]
  },
  {
   "cell_type": "code",
   "execution_count": 26,
   "id": "16f76652-800a-4fb6-a8e1-379c51ba558d",
   "metadata": {},
   "outputs": [
    {
     "data": {
      "text/plain": [
       "(8.022256694065647e-17, 1.0948439641134204)"
      ]
     },
     "execution_count": 26,
     "metadata": {},
     "output_type": "execute_result"
    }
   ],
   "source": [
    "# Средние значения\n",
    "df_group_0['lin_likes'].mean(), df_group_3['lin_likes'].mean()"
   ]
  },
  {
   "cell_type": "markdown",
   "id": "fe65293c-f809-4b17-b4a7-210e698e7a75",
   "metadata": {},
   "source": [
    "**Выводы**\n",
    "1. CTR и linearized likes в группе 3 больше, чем в группе 0.\n",
    "2. p-value стало меньше. Метрика linearized likes более чувствительная"
   ]
  },
  {
   "cell_type": "markdown",
   "id": "7b14a090-83ef-403a-b169-0107025e16b7",
   "metadata": {},
   "source": [
    "## Задача 2\n",
    "\n",
    "Проанализируйте тест между группами 1 и 2 по метрике линеаризованных лайков. Видно ли отличие? Стало ли 𝑝−𝑣𝑎𝑙𝑢𝑒 меньше?"
   ]
  },
  {
   "cell_type": "code",
   "execution_count": 37,
   "id": "e5376546-f708-498a-8ff7-e79442eb7b39",
   "metadata": {},
   "outputs": [
    {
     "data": {
      "image/png": "[encoded data removed]",
      "text/plain": [
       "<Figure size 1080x720 with 1 Axes>"
      ]
     },
     "metadata": {},
     "output_type": "display_data"
    }
   ],
   "source": [
    "sns.histplot(df_group_1['ctr'], label='Группа 1 (без изменений)')\n",
    "sns.histplot(df_group_2['ctr'], label='Группа 2')\n",
    "plt.legend()\n",
    "plt.show()"
   ]
  },
  {
   "cell_type": "code",
   "execution_count": 28,
   "id": "2f9a6409-dd9d-48f6-b95c-15fed3fef4ce",
   "metadata": {},
   "outputs": [
    {
     "data": {
      "text/plain": [
       "(0.216773994120072, 0.2161016893237817)"
      ]
     },
     "execution_count": 28,
     "metadata": {},
     "output_type": "execute_result"
    }
   ],
   "source": [
    "# Средние значения\n",
    "df_group_1['ctr'].mean(), df_group_2['ctr'].mean()"
   ]
  },
  {
   "cell_type": "code",
   "execution_count": 29,
   "id": "3ea5f390-09c0-4773-8b5a-1bd93d4f3839",
   "metadata": {},
   "outputs": [
    {
     "data": {
      "text/plain": [
       "Ttest_indResult(statistic=0.40514919131127564, pvalue=0.685373331140751)"
      ]
     },
     "execution_count": 29,
     "metadata": {},
     "output_type": "execute_result"
    }
   ],
   "source": [
    "# t-test для групп 1 и 2\n",
    "stats.ttest_ind(df_group_1['ctr'],\n",
    "                df_group_2['ctr'],\n",
    "                equal_var=False)"
   ]
  },
  {
   "cell_type": "code",
   "execution_count": 30,
   "id": "972d9115-3f88-4a59-ae3c-0a08c157c1f4",
   "metadata": {},
   "outputs": [
    {
     "data": {
      "text/plain": [
       "Ttest_indResult(statistic=5.93637710193448, pvalue=2.9805064038668164e-09)"
      ]
     },
     "execution_count": 30,
     "metadata": {},
     "output_type": "execute_result"
    }
   ],
   "source": [
    "# t-test для групп 1 и 2 с использованием линеаризованных лайков\n",
    "# 1. Считаем общий CTR в контрольной группе 𝐶𝑇𝑅𝑐𝑜𝑛𝑡𝑟𝑜𝑙=𝑠𝑢𝑚(𝑙𝑖𝑘𝑒𝑠)/𝑠𝑢𝑚(𝑣𝑖𝑒𝑤𝑠)\n",
    "general_ctr_1 = df_group_1['likes'].sum() / df_group_1['views'].sum()\n",
    "\n",
    "# 2. Посчитаем в обеих группах поюзерную метрику 𝑙𝑖𝑛𝑒𝑎𝑟𝑖𝑧𝑒𝑑_𝑙𝑖𝑘𝑒𝑠=𝑙𝑖𝑘𝑒𝑠−𝐶𝑇𝑅𝑐𝑜𝑛𝑡𝑟𝑜𝑙∗𝑣𝑖𝑒𝑤𝑠\n",
    "df_group_1['lin_likes'] = df_group_1['likes'] - general_ctr_1 * df_group_1['views']\n",
    "df_group_2['lin_likes'] = df_group_2['likes'] - general_ctr_1 * df_group_2['views']\n",
    "\n",
    "# 3. После чего сравним  t-тестом отличия в группах по метрике 𝑙𝑖𝑛𝑒𝑎𝑟𝑖𝑧𝑒𝑑_𝑙𝑖𝑘𝑒𝑠\n",
    "stats.ttest_ind(df_group_1['lin_likes'],\n",
    "                df_group_2['lin_likes'],\n",
    "                equal_var=False)"
   ]
  },
  {
   "cell_type": "code",
   "execution_count": 39,
   "id": "9da5a3c8-42b9-4f66-a817-d4a5e5d98b3b",
   "metadata": {},
   "outputs": [
    {
     "data": {
      "image/png": "[encoded data removed]",
      "text/plain": [
       "<Figure size 1080x720 with 1 Axes>"
      ]
     },
     "metadata": {},
     "output_type": "display_data"
    }
   ],
   "source": [
    "# Посмотрим на распределяни линеаризованных метрик\n",
    "sns.histplot(df_group_1['lin_likes'], label='Группа 1 (без изменений)')\n",
    "sns.histplot(df_group_2['lin_likes'], label='Группа 2')\n",
    "plt.legend()\n",
    "plt.show()"
   ]
  },
  {
   "cell_type": "code",
   "execution_count": 31,
   "id": "27c66460-cb13-4af5-8293-71b5d121a2a6",
   "metadata": {},
   "outputs": [
    {
     "data": {
      "text/plain": [
       "(-2.723038029260264e-16, -0.6245118559393541)"
      ]
     },
     "execution_count": 31,
     "metadata": {},
     "output_type": "execute_result"
    }
   ],
   "source": [
    "# Средние значения\n",
    "df_group_1['lin_likes'].mean(), df_group_2['lin_likes'].mean()"
   ]
  },
  {
   "cell_type": "markdown",
   "id": "224f2061-8044-44f7-8f59-d72e3c54bc38",
   "metadata": {},
   "source": [
    "**Выводы**\n",
    "1. CTR и linearized likes в группе 1 больше, чем в группе 2 (там где алгоритм рекомендаций породил 2 группы пользователей).\n",
    "2. p-value стало меньше. Метрика linearized likes более чувствительная"
   ]
  }
 ],
 "metadata": {
  "kernelspec": {
   "display_name": "Python 3 (ipykernel)",
   "language": "python",
   "name": "python3"
  },
  "language_info": {
   "codemirror_mode": {
    "name": "ipython",
    "version": 3
   },
   "file_extension": ".py",
   "mimetype": "text/x-python",
   "name": "python",
   "nbconvert_exporter": "python",
   "pygments_lexer": "ipython3",
   "version": "3.8.10"
  }
 },
 "nbformat": 4,
 "nbformat_minor": 5
}
