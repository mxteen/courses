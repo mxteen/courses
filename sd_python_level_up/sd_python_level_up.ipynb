{
 "cells": [
  {
   "cell_type": "markdown",
   "metadata": {
    "toc": true
   },
   "source": [
    "<h1>Содержание<span class=\"tocSkip\"></span></h1>\n",
    "<div class=\"toc\"><ul class=\"toc-item\"><li><span><a href=\"#Time-for-the-course\" data-toc-modified-id=\"Time-for-the-course-1\"><span class=\"toc-item-num\">1&nbsp;&nbsp;</span>Time for the course</a></span></li><li><span><a href=\"#Data-Types-in-Python\" data-toc-modified-id=\"Data-Types-in-Python-2\"><span class=\"toc-item-num\">2&nbsp;&nbsp;</span>Data Types in Python</a></span><ul class=\"toc-item\"><li><span><a href=\"#list\" data-toc-modified-id=\"list-2.1\"><span class=\"toc-item-num\">2.1&nbsp;&nbsp;</span>list</a></span></li><li><span><a href=\"#set\" data-toc-modified-id=\"set-2.2\"><span class=\"toc-item-num\">2.2&nbsp;&nbsp;</span>set</a></span></li><li><span><a href=\"#frozenset\" data-toc-modified-id=\"frozenset-2.3\"><span class=\"toc-item-num\">2.3&nbsp;&nbsp;</span>frozenset</a></span></li><li><span><a href=\"#tuple\" data-toc-modified-id=\"tuple-2.4\"><span class=\"toc-item-num\">2.4&nbsp;&nbsp;</span>tuple</a></span></li><li><span><a href=\"#dict\" data-toc-modified-id=\"dict-2.5\"><span class=\"toc-item-num\">2.5&nbsp;&nbsp;</span>dict</a></span></li><li><span><a href=\"#time\" data-toc-modified-id=\"time-2.6\"><span class=\"toc-item-num\">2.6&nbsp;&nbsp;</span>time</a></span></li><li><span><a href=\"#datetime\" data-toc-modified-id=\"datetime-2.7\"><span class=\"toc-item-num\">2.7&nbsp;&nbsp;</span>datetime</a></span></li><li><span><a href=\"#array\" data-toc-modified-id=\"array-2.8\"><span class=\"toc-item-num\">2.8&nbsp;&nbsp;</span>array</a></span></li><li><span><a href=\"#bytearray\" data-toc-modified-id=\"bytearray-2.9\"><span class=\"toc-item-num\">2.9&nbsp;&nbsp;</span>bytearray</a></span></li></ul></li><li><span><a href=\"#Python-Memory-Model\" data-toc-modified-id=\"Python-Memory-Model-3\"><span class=\"toc-item-num\">3&nbsp;&nbsp;</span>Python Memory Model</a></span></li><li><span><a href=\"#Useful-built-in-functions\" data-toc-modified-id=\"Useful-built-in-functions-4\"><span class=\"toc-item-num\">4&nbsp;&nbsp;</span>Useful built-in functions</a></span><ul class=\"toc-item\"><li><span><a href=\"#range\" data-toc-modified-id=\"range-4.1\"><span class=\"toc-item-num\">4.1&nbsp;&nbsp;</span>range</a></span></li><li><span><a href=\"#enumerate\" data-toc-modified-id=\"enumerate-4.2\"><span class=\"toc-item-num\">4.2&nbsp;&nbsp;</span>enumerate</a></span></li><li><span><a href=\"#zip\" data-toc-modified-id=\"zip-4.3\"><span class=\"toc-item-num\">4.3&nbsp;&nbsp;</span>zip</a></span></li><li><span><a href=\"#sorted\" data-toc-modified-id=\"sorted-4.4\"><span class=\"toc-item-num\">4.4&nbsp;&nbsp;</span>sorted</a></span></li><li><span><a href=\"#map\" data-toc-modified-id=\"map-4.5\"><span class=\"toc-item-num\">4.5&nbsp;&nbsp;</span>map</a></span></li><li><span><a href=\"#lambda\" data-toc-modified-id=\"lambda-4.6\"><span class=\"toc-item-num\">4.6&nbsp;&nbsp;</span>lambda</a></span></li><li><span><a href=\"#filter\" data-toc-modified-id=\"filter-4.7\"><span class=\"toc-item-num\">4.7&nbsp;&nbsp;</span>filter</a></span></li><li><span><a href=\"#reduce\" data-toc-modified-id=\"reduce-4.8\"><span class=\"toc-item-num\">4.8&nbsp;&nbsp;</span>reduce</a></span></li></ul></li><li><span><a href=\"#Scope-of-Variables\" data-toc-modified-id=\"Scope-of-Variables-5\"><span class=\"toc-item-num\">5&nbsp;&nbsp;</span>Scope of Variables</a></span></li><li><span><a href=\"#Type-Hints,-Annotations,-MyPy\" data-toc-modified-id=\"Type-Hints,-Annotations,-MyPy-6\"><span class=\"toc-item-num\">6&nbsp;&nbsp;</span>Type Hints, Annotations, MyPy</a></span><ul class=\"toc-item\"><li><span><a href=\"#Type-Hints\" data-toc-modified-id=\"Type-Hints-6.1\"><span class=\"toc-item-num\">6.1&nbsp;&nbsp;</span>Type Hints</a></span></li><li><span><a href=\"#MyPy\" data-toc-modified-id=\"MyPy-6.2\"><span class=\"toc-item-num\">6.2&nbsp;&nbsp;</span>MyPy</a></span></li></ul></li><li><span><a href=\"#OOP\" data-toc-modified-id=\"OOP-7\"><span class=\"toc-item-num\">7&nbsp;&nbsp;</span>OOP</a></span></li><li><span><a href=\"#Decorators\" data-toc-modified-id=\"Decorators-8\"><span class=\"toc-item-num\">8&nbsp;&nbsp;</span>Decorators</a></span><ul class=\"toc-item\"><li><span><a href=\"#Function-decorators\" data-toc-modified-id=\"Function-decorators-8.1\"><span class=\"toc-item-num\">8.1&nbsp;&nbsp;</span>Function decorators</a></span></li><li><span><a href=\"#Class-decorators\" data-toc-modified-id=\"Class-decorators-8.2\"><span class=\"toc-item-num\">8.2&nbsp;&nbsp;</span>Class decorators</a></span></li><li><span><a href=\"#functools.wraps-module\" data-toc-modified-id=\"functools.wraps-module-8.3\"><span class=\"toc-item-num\">8.3&nbsp;&nbsp;</span>functools.wraps module</a></span></li></ul></li><li><span><a href=\"#Context-manager\" data-toc-modified-id=\"Context-manager-9\"><span class=\"toc-item-num\">9&nbsp;&nbsp;</span>Context-manager</a></span></li></ul></div>"
   ]
  },
  {
   "cell_type": "markdown",
   "metadata": {},
   "source": [
    "## Time for the course"
   ]
  },
  {
   "cell_type": "code",
   "execution_count": null,
   "metadata": {},
   "outputs": [],
   "source": [
    "# How much time it all took\n",
    "time_counter = 25 * 21 / 60 + 10 / 60\n",
    "print(round(time_counter, 1), 'hours')"
   ]
  },
  {
   "cell_type": "markdown",
   "metadata": {},
   "source": [
    "# Plan for holidays"
   ]
  },
  {
   "cell_type": "markdown",
   "metadata": {},
   "source": [
    "* Типы данных python\n",
    "* Модель памяти python\n",
    "* Контекстый менеджер\n",
    "* Базовые функции (range, enumerate, zip, sorted, filter, map, …)\n",
    "* Области видимости переменных\n",
    "* Позиционные / непозиционные аргументы\n",
    "* Итераторы, генераторы\n",
    "* Модуль collections\n",
    "* Модуль path\n",
    "* Модуль functools\n",
    "* Модуль itertolls\n",
    "* Принципы ООП, Класс, объект, интерфейс, наследование, полиморфизм, экземпляр класса, атрибуты классов, magic методы, декораторы\n",
    "* Аннотация типов, модуль typing\n",
    "* Модуль MyPy\n",
    "* Исключения\n",
    "* Модуль dataclasses\n",
    "* Модуль pydantic\n",
    "* Модуль pytest\n",
    "* Библиотека typed-blocks"
   ]
  },
  {
   "cell_type": "markdown",
   "metadata": {},
   "source": [
    "## Data Types in Python"
   ]
  },
  {
   "cell_type": "markdown",
   "metadata": {},
   "source": [
    "Source: https://docs.python.org/3/library/datatypes.html"
   ]
  },
  {
   "cell_type": "markdown",
   "metadata": {},
   "source": [
    "Python provides built-in data types:\n",
    "\n",
    "* [list](https://docs.python.org/3/library/stdtypes.html#list);\n",
    "* [set](https://docs.python.org/3/library/stdtypes.html#set);\n",
    "* [frozenset](https://docs.python.org/3/library/stdtypes.html#frozenset);\n",
    "* [tuple](https://docs.python.org/3/library/stdtypes.html#tuple);\n",
    "* [dict](https://docs.python.org/3/library/stdtypes.html#dict)\n",
    "\n",
    "The [str](https://docs.python.org/3/library/stdtypes.html#str) class is used to hold Unicode strings, and the [bytes](https://docs.python.org/3/library/stdtypes.html#bytes) and [bytearray](https://docs.python.org/3/library/stdtypes.html#bytearray) classes are used to hold binary data."
   ]
  },
  {
   "cell_type": "markdown",
   "metadata": {},
   "source": [
    "These modules provide a variety of specialized data types such as \n",
    "* [dates and times](https://docs.python.org/3/library/datetime.html),\n",
    "* [fixed-type arrays](https://docs.python.org/3/library/array.html),\n",
    "* [heap queues](https://docs.python.org/3/library/heapq.html),\n",
    "* double-ended queues\n",
    "* [enumerations](https://docs.python.org/3/library/enum.html);\n",
    "* [memoryview](https://docs.python.org/3/library/stdtypes.html#memoryview)"
   ]
  },
  {
   "cell_type": "markdown",
   "metadata": {},
   "source": [
    "### list"
   ]
  },
  {
   "cell_type": "markdown",
   "metadata": {},
   "source": [
    "Lists are mutable sequences, typically used to store collections of homogeneous items (where the precise degree of similarity will vary by application)"
   ]
  },
  {
   "cell_type": "code",
   "execution_count": 29,
   "metadata": {},
   "outputs": [],
   "source": [
    "pass"
   ]
  },
  {
   "cell_type": "markdown",
   "metadata": {},
   "source": [
    "### set "
   ]
  },
  {
   "cell_type": "code",
   "execution_count": 30,
   "metadata": {},
   "outputs": [],
   "source": [
    "pass"
   ]
  },
  {
   "cell_type": "markdown",
   "metadata": {},
   "source": [
    "### frozenset"
   ]
  },
  {
   "cell_type": "code",
   "execution_count": 31,
   "metadata": {},
   "outputs": [],
   "source": [
    "pass"
   ]
  },
  {
   "cell_type": "markdown",
   "metadata": {},
   "source": [
    "### tuple"
   ]
  },
  {
   "cell_type": "code",
   "execution_count": 32,
   "metadata": {},
   "outputs": [],
   "source": [
    "pass"
   ]
  },
  {
   "cell_type": "markdown",
   "metadata": {},
   "source": [
    "### dict"
   ]
  },
  {
   "cell_type": "code",
   "execution_count": 33,
   "metadata": {},
   "outputs": [],
   "source": [
    "pass"
   ]
  },
  {
   "cell_type": "markdown",
   "metadata": {},
   "source": [
    "### time"
   ]
  },
  {
   "cell_type": "code",
   "execution_count": 36,
   "metadata": {},
   "outputs": [],
   "source": [
    "import time"
   ]
  },
  {
   "cell_type": "markdown",
   "metadata": {},
   "source": [
    "This module provides various time-related functions. \n",
    "\n",
    "Although this module is always available, not all functions are available on all platforms. Most of the functions defined in this module call platform C library functions with the same name. It may sometimes be helpful to consult the platform documentation, because the semantics of these functions varies among platforms.\n"
   ]
  },
  {
   "cell_type": "code",
   "execution_count": 37,
   "metadata": {},
   "outputs": [
    {
     "data": {
      "text/plain": [
       "time.struct_time(tm_year=1970, tm_mon=1, tm_mday=1, tm_hour=0, tm_min=0, tm_sec=0, tm_wday=3, tm_yday=1, tm_isdst=0)"
      ]
     },
     "execution_count": 37,
     "metadata": {},
     "output_type": "execute_result"
    }
   ],
   "source": [
    "time.gmtime(0)"
   ]
  },
  {
   "cell_type": "code",
   "execution_count": 41,
   "metadata": {},
   "outputs": [
    {
     "data": {
      "text/plain": [
       "1672734377763102900"
      ]
     },
     "execution_count": 41,
     "metadata": {},
     "output_type": "execute_result"
    }
   ],
   "source": [
    "# returns time as an integer number of nanoseconds since the epoch\n",
    "# The epoch is the point where the time starts: it is January 1, 1970, 00:00:00 (UTC) on all platforms.\n",
    "time.time_ns()"
   ]
  },
  {
   "cell_type": "code",
   "execution_count": 59,
   "metadata": {},
   "outputs": [
    {
     "data": {
      "text/plain": [
       "time.struct_time(tm_year=2023, tm_mon=1, tm_mday=3, tm_hour=8, tm_min=34, tm_sec=49, tm_wday=1, tm_yday=3, tm_isdst=0)"
      ]
     },
     "execution_count": 59,
     "metadata": {},
     "output_type": "execute_result"
    }
   ],
   "source": [
    "time.gmtime()"
   ]
  },
  {
   "cell_type": "code",
   "execution_count": 62,
   "metadata": {},
   "outputs": [
    {
     "data": {
      "text/plain": [
       "time.struct_time(tm_year=1970, tm_mon=1, tm_mday=1, tm_hour=3, tm_min=0, tm_sec=0, tm_wday=3, tm_yday=1, tm_isdst=0)"
      ]
     },
     "execution_count": 62,
     "metadata": {},
     "output_type": "execute_result"
    }
   ],
   "source": [
    "time.localtime(0)"
   ]
  },
  {
   "cell_type": "code",
   "execution_count": 63,
   "metadata": {},
   "outputs": [
    {
     "data": {
      "text/plain": [
       "time.struct_time(tm_year=2023, tm_mon=1, tm_mday=3, tm_hour=11, tm_min=36, tm_sec=19, tm_wday=1, tm_yday=3, tm_isdst=0)"
      ]
     },
     "execution_count": 63,
     "metadata": {},
     "output_type": "execute_result"
    }
   ],
   "source": [
    "time.localtime()"
   ]
  },
  {
   "cell_type": "code",
   "execution_count": 57,
   "metadata": {},
   "outputs": [
    {
     "data": {
      "text/plain": [
       "'Tue Jan  3 11:33:41 2023'"
      ]
     },
     "execution_count": 57,
     "metadata": {},
     "output_type": "execute_result"
    }
   ],
   "source": [
    "# Convert a tuple or struct_time representing a time as returned by\n",
    "# gmtime() or localtime() to a string of the following form:\n",
    "# 'Sun Jun 20 23:21:05 1993'\n",
    "time.asctime(time.localtime())"
   ]
  },
  {
   "cell_type": "markdown",
   "metadata": {},
   "source": [
    "**time.strftime?**\n",
    "\n",
    "    strftime(format[, tuple]) -> string\n",
    "\n",
    "    Convert a time tuple to a string according to a format specification.\n",
    "    See the library reference manual for formatting codes. When the time tuple\n",
    "    is not present, current time as returned by localtime() is used.\n",
    "\n",
    "    Commonly used format codes:\n",
    "\n",
    "    %Y  Year with century as a decimal number.\n",
    "    %m  Month as a decimal number [01,12].\n",
    "    %d  Day of the month as a decimal number [01,31].\n",
    "    %H  Hour (24-hour clock) as a decimal number [00,23].\n",
    "    %M  Minute as a decimal number [00,59].\n",
    "    %S  Second as a decimal number [00,61].\n",
    "    %z  Time zone offset from UTC.\n",
    "    %a  Locale's abbreviated weekday name.\n",
    "    %A  Locale's full weekday name.\n",
    "    %b  Locale's abbreviated month name.\n",
    "    %B  Locale's full month name.\n",
    "    %c  Locale's appropriate date and time representation.\n",
    "    %I  Hour (12-hour clock) as a decimal number [01,12].\n",
    "    %p  Locale's equivalent of either AM or PM.\n"
   ]
  },
  {
   "cell_type": "code",
   "execution_count": 30,
   "metadata": {},
   "outputs": [
    {
     "data": {
      "text/plain": [
       "'2023-01-09 23:41:32 GMT+0300'"
      ]
     },
     "execution_count": 30,
     "metadata": {},
     "output_type": "execute_result"
    }
   ],
   "source": [
    "time.strftime(\"%Y-%m-%d %H:%M:%S GMT%z\")"
   ]
  },
  {
   "cell_type": "markdown",
   "metadata": {},
   "source": [
    "### datetime"
   ]
  },
  {
   "cell_type": "markdown",
   "metadata": {},
   "source": [
    "The [datetime](https://docs.python.org/3/library/datetime.html) module supplies classes for manipulating dates and times.\n",
    "\n",
    "While date and time arithmetic is supported, the focus of the implementation is on efficient attribute extraction for output formatting and manipulation."
   ]
  },
  {
   "cell_type": "code",
   "execution_count": 21,
   "metadata": {},
   "outputs": [],
   "source": [
    "from datetime import datetime"
   ]
  },
  {
   "cell_type": "code",
   "execution_count": 22,
   "metadata": {},
   "outputs": [
    {
     "data": {
      "text/plain": [
       "datetime.datetime(2023, 1, 9, 23, 37, 45, 544948)"
      ]
     },
     "execution_count": 22,
     "metadata": {},
     "output_type": "execute_result"
    }
   ],
   "source": [
    "datetime.now()"
   ]
  },
  {
   "cell_type": "markdown",
   "metadata": {},
   "source": [
    "### array"
   ]
  },
  {
   "cell_type": "markdown",
   "metadata": {},
   "source": [
    "Sources:\n",
    "* https://docs.python.org/3/library/array.html?highlight=array#module-array\n",
    "* https://stackoverflow.com/questions/176011/python-list-vs-array-when-to-use"
   ]
  },
  {
   "cell_type": "markdown",
   "metadata": {},
   "source": [
    "Basically, Python lists are very flexible and can hold completely heterogeneous, arbitrary data, and they can be appended to very efficiently, in amortized constant time. If you need to shrink and grow your list time-efficiently and without hassle, they are the way to go. But they use a lot more space than C arrays, in part because each item in the list requires the construction of an individual Python object, even for data that could be represented with simple C types (e.g. float or uint64_t).\n",
    "\n",
    "The array.array type, on the other hand, is just a thin wrapper on C arrays. It can hold only homogeneous data (that is to say, all of the same type) and so it uses only sizeof(one object) * length bytes of memory. Mostly, you should use it when you need to expose a C array to an extension or a system call (for example, ioctl or fctnl).\n",
    "\n",
    "array.array is also a reasonable way to represent a mutable string in Python 2.x (array('B', bytes)). However, Python 2.6+ and 3.x offer a mutable byte string as bytearray.\n",
    "\n",
    "However, if you want to do math on a homogeneous array of numeric data, then you're much better off using NumPy, which can automatically vectorize operations on complex multi-dimensional arrays.\n",
    "\n",
    "**To make a long story short: array.array is useful when you need a homogeneous C array of data for reasons other than doing math.**\n"
   ]
  },
  {
   "cell_type": "code",
   "execution_count": 79,
   "metadata": {},
   "outputs": [],
   "source": [
    "import array\n",
    "from sys import getsizeof"
   ]
  },
  {
   "cell_type": "code",
   "execution_count": 88,
   "metadata": {},
   "outputs": [],
   "source": [
    "a = range(128)"
   ]
  },
  {
   "cell_type": "code",
   "execution_count": 89,
   "metadata": {},
   "outputs": [],
   "source": [
    "b = array.array('b', range(128))"
   ]
  },
  {
   "cell_type": "code",
   "execution_count": 90,
   "metadata": {},
   "outputs": [
    {
     "data": {
      "text/plain": [
       "(48, 195)"
      ]
     },
     "execution_count": 90,
     "metadata": {},
     "output_type": "execute_result"
    }
   ],
   "source": [
    "\n",
    "getsizeof(a), getsizeof(b)"
   ]
  },
  {
   "cell_type": "markdown",
   "metadata": {},
   "source": [
    "### bytearray\n",
    "\n",
    "[Bytearray](https://docs.python.org/3/library/stdtypes.html#bytearray) objects are a mutable counterpart to bytes objects. The bytearray class is a mutable sequence of integers in the range 0 <= x < 256. It has most of the usual methods of mutable sequences, as well as most methods that the bytes type has, see Bytes and Bytearray Operations."
   ]
  },
  {
   "cell_type": "code",
   "execution_count": 24,
   "metadata": {},
   "outputs": [
    {
     "data": {
      "text/plain": [
       "bytearray(b'\\x00\\x01\\x02\\x03\\x04\\x05\\x06\\x07\\x08\\t\\n\\x0b\\x0c\\r\\x0e\\x0f\\x10\\x11\\x12\\x13')"
      ]
     },
     "execution_count": 24,
     "metadata": {},
     "output_type": "execute_result"
    }
   ],
   "source": [
    "ba = bytearray(range(20))\n",
    "ba"
   ]
  },
  {
   "cell_type": "code",
   "execution_count": 25,
   "metadata": {},
   "outputs": [
    {
     "name": "stdout",
     "output_type": "stream",
     "text": [
      "bytearray(b'\\x00\\x01\\x02')\n",
      "bytearray(b'\\x00\\x00\\x00')\n"
     ]
    }
   ],
   "source": [
    "# ytearray objects are a mutable\n",
    "print(ba[:3])\n",
    "ba[1] = 0\n",
    "ba[2] = 0\n",
    "print(ba[:3])"
   ]
  },
  {
   "cell_type": "markdown",
   "metadata": {},
   "source": [
    "## Python Memory Model"
   ]
  },
  {
   "cell_type": "markdown",
   "metadata": {},
   "source": [
    "Sources:\n",
    "* https://www.cs.toronto.edu/~david/course-notes/csc110-111/05-memory-model/03-python-memory-model-1.html"
   ]
  },
  {
   "cell_type": "code",
   "execution_count": null,
   "metadata": {},
   "outputs": [],
   "source": []
  },
  {
   "cell_type": "markdown",
   "metadata": {},
   "source": [
    "## Useful built-in functions"
   ]
  },
  {
   "cell_type": "markdown",
   "metadata": {},
   "source": [
    "### range"
   ]
  },
  {
   "cell_type": "markdown",
   "metadata": {},
   "source": [
    "Sources:\n",
    "* https://docs.python.org/3/library/stdtypes.html#range\n",
    "* https://realpython.com/python-range/"
   ]
  },
  {
   "cell_type": "markdown",
   "metadata": {},
   "source": [
    "`range()` allows you to generate a series of numbers within a given range. Depending on how many arguments you pass to the function, you can decide where that series of numbers will begin and end as well as how big the difference will be between one number and the next\n",
    "\n",
    "There are three ways you can call range():\n",
    "\n",
    "* range(stop) takes one argument.\n",
    "* range(start, stop) takes two arguments.\n",
    "* range(start, stop, step) takes three arguments.\n",
    "\n",
    "`range()` is mainly used for two purposes:\n",
    "\n",
    "1. Executing the body of a for-loop a specific number of times\n",
    "2. Creating more efficient iterables of integers than can be done using lists or tuples\n",
    "\n"
   ]
  },
  {
   "cell_type": "code",
   "execution_count": 132,
   "metadata": {},
   "outputs": [
    {
     "data": {
      "text/plain": [
       "[0, 1, 2, 3, 4, 5, 6, 7, 8, 9]"
      ]
     },
     "execution_count": 132,
     "metadata": {},
     "output_type": "execute_result"
    }
   ],
   "source": [
    "# example 1\n",
    "list(range(10))"
   ]
  },
  {
   "cell_type": "code",
   "execution_count": 128,
   "metadata": {},
   "outputs": [
    {
     "data": {
      "text/plain": [
       "[0, 3, 6, 9]"
      ]
     },
     "execution_count": 128,
     "metadata": {},
     "output_type": "execute_result"
    }
   ],
   "source": [
    "# example 2\n",
    "list(range(0, 10, 3))"
   ]
  },
  {
   "cell_type": "code",
   "execution_count": 133,
   "metadata": {},
   "outputs": [
    {
     "data": {
      "text/plain": [
       "4"
      ]
     },
     "execution_count": 133,
     "metadata": {},
     "output_type": "execute_result"
    }
   ],
   "source": [
    "# You can access items in a range() by index, just as you would with a list:\n",
    "range_10 = range(10)\n",
    "range_10[4]"
   ]
  },
  {
   "cell_type": "code",
   "execution_count": 134,
   "metadata": {},
   "outputs": [
    {
     "data": {
      "text/plain": [
       "range(5, 10)"
      ]
     },
     "execution_count": 134,
     "metadata": {},
     "output_type": "execute_result"
    }
   ],
   "source": [
    "# You can even use slicing notation on a range(),\n",
    "# but the output in a REPL may seem a little strange at first\n",
    "# Although that output may look odd, slicing a range() just returns another range().\n",
    "range_10[5:]"
   ]
  },
  {
   "cell_type": "code",
   "execution_count": 130,
   "metadata": {},
   "outputs": [
    {
     "data": {
      "text/plain": [
       "136"
      ]
     },
     "execution_count": 130,
     "metadata": {},
     "output_type": "execute_result"
    }
   ],
   "source": [
    "getsizeof(list(range(10)))"
   ]
  },
  {
   "cell_type": "code",
   "execution_count": 131,
   "metadata": {},
   "outputs": [
    {
     "data": {
      "text/plain": [
       "48"
      ]
     },
     "execution_count": 131,
     "metadata": {},
     "output_type": "execute_result"
    }
   ],
   "source": [
    "getsizeof(range(10))"
   ]
  },
  {
   "cell_type": "markdown",
   "metadata": {},
   "source": [
    "### enumerate\n",
    "\n",
    "Source: https://realpython.com/python-enumerate/\n",
    "\n",
    "In Python, a for loop is usually written as a loop over an iterable object. This means you don’t need a counting variable to access items in the iterable. Sometimes, though, you do want to have a variable that changes on each loop iteration. Rather than creating and incrementing a variable yourself, you can use Python’s enumerate() to get a counter and the value from the iterable at the same time!\n",
    "\n",
    "You can use enumerate() in a loop in almost the same way that you use the original iterable object. Instead of putting the iterable directly after in in the for loop, you put it inside the parentheses of enumerate()\n",
    "\n",
    "You should use enumerate() anytime you need to use the count and an item in a loop. Keep in mind that enumerate() increments the count by one on every iteration. "
   ]
  },
  {
   "cell_type": "code",
   "execution_count": 136,
   "metadata": {},
   "outputs": [
    {
     "name": "stdout",
     "output_type": "stream",
     "text": [
      "0 a\n",
      "1 b\n",
      "2 c\n"
     ]
    }
   ],
   "source": [
    "values = [\"a\", \"b\", \"c\"]\n",
    "\n",
    "for count, value in enumerate(values):\n",
    "    print(count, value)"
   ]
  },
  {
   "cell_type": "markdown",
   "metadata": {},
   "source": [
    "You might want to print a natural counting number as an output for the user. In this case, you can use the start argument for `enumerate()` to change the starting count:"
   ]
  },
  {
   "cell_type": "code",
   "execution_count": 137,
   "metadata": {},
   "outputs": [
    {
     "name": "stdout",
     "output_type": "stream",
     "text": [
      "1 a\n",
      "2 b\n",
      "3 c\n"
     ]
    }
   ],
   "source": [
    "for count, value in enumerate(values, start=1):\n",
    "    print(count, value)"
   ]
  },
  {
   "cell_type": "code",
   "execution_count": 140,
   "metadata": {},
   "outputs": [
    {
     "data": {
      "text/plain": [
       "[1, 3, 5, 7, 9, 11, 13, 15, 17, 19]"
      ]
     },
     "execution_count": 140,
     "metadata": {},
     "output_type": "execute_result"
    }
   ],
   "source": [
    "def even_items(iterable):\n",
    "    \"\"\"Return items from ``iterable`` when their index is even.\"\"\"\n",
    "    values = []\n",
    "    for index, value in enumerate(iterable, start=1):\n",
    "        if not index % 2:\n",
    "            values.append(value)\n",
    "    return values\n",
    "\n",
    "even_items(list(range(20)))"
   ]
  },
  {
   "cell_type": "markdown",
   "metadata": {},
   "source": [
    "### zip"
   ]
  },
  {
   "cell_type": "markdown",
   "metadata": {},
   "source": [
    "Sources:\n",
    "* https://docs.python.org/3/library/functions.html#zip\n",
    "* https://realpython.com/python-zip-function/"
   ]
  },
  {
   "cell_type": "markdown",
   "metadata": {},
   "source": [
    "Python’s zip() function creates an iterator that will aggregate elements from two or more iterables. You can use the resulting iterator to quickly and consistently solve common programming problems, like creating dictionaries. \n",
    "\n",
    "Here, you use zip(numbers, letters) to create an iterator that produces tuples of the form (x, y). In this case, the x values are taken from numbers and the y values are taken from letters. Notice how the Python zip() function returns an iterator. To retrieve the final list object, you need to use list() to consume the iterator."
   ]
  },
  {
   "cell_type": "code",
   "execution_count": 143,
   "metadata": {},
   "outputs": [
    {
     "data": {
      "text/plain": [
       "zip"
      ]
     },
     "execution_count": 143,
     "metadata": {},
     "output_type": "execute_result"
    }
   ],
   "source": [
    "numbers = [1, 2, 3]\n",
    "letters = ['a', 'b', 'c']\n",
    "zipped = zip(numbers, letters)\n",
    "zipped  # Holds an iterator object\n",
    "\n",
    "type(zipped)"
   ]
  },
  {
   "cell_type": "code",
   "execution_count": 144,
   "metadata": {},
   "outputs": [
    {
     "data": {
      "text/plain": [
       "[(1, 'a'), (2, 'b'), (3, 'c')]"
      ]
     },
     "execution_count": 144,
     "metadata": {},
     "output_type": "execute_result"
    }
   ],
   "source": [
    "list(zipped)"
   ]
  },
  {
   "cell_type": "markdown",
   "metadata": {},
   "source": [
    "You can call the Python zip() function with as many input iterables as you need. The length of the resulting tuples will always equal the number of iterables you pass as arguments. Here’s an example with three iterables:"
   ]
  },
  {
   "cell_type": "code",
   "execution_count": 145,
   "metadata": {},
   "outputs": [
    {
     "data": {
      "text/plain": [
       "[(1, 'a', 4.0), (2, 'b', 5.0), (3, 'c', 6.0)]"
      ]
     },
     "execution_count": 145,
     "metadata": {},
     "output_type": "execute_result"
    }
   ],
   "source": [
    "integers = [1, 2, 3]\n",
    "letters = ['a', 'b', 'c']\n",
    "floats = [4.0, 5.0, 6.0]\n",
    "zipped = zip(integers, letters, floats)  # Three input iterables\n",
    "list(zipped)"
   ]
  },
  {
   "cell_type": "markdown",
   "metadata": {},
   "source": [
    "You can also iterate through more than two iterables in a single for loop. Consider the following example, which has three input iterables:"
   ]
  },
  {
   "cell_type": "code",
   "execution_count": 147,
   "metadata": {},
   "outputs": [
    {
     "name": "stdout",
     "output_type": "stream",
     "text": [
      "Letter: a\n",
      "Number: 0\n",
      "Operator: *\n",
      "---------------\n",
      "Letter: b\n",
      "Number: 1\n",
      "Operator: /\n",
      "---------------\n",
      "Letter: c\n",
      "Number: 2\n",
      "Operator: +\n",
      "---------------\n"
     ]
    }
   ],
   "source": [
    "letters = ['a', 'b', 'c']\n",
    "numbers = [0, 1, 2]\n",
    "operators = ['*', '/', '+']\n",
    "for l, n, o in zip(letters, numbers, operators):\n",
    "    print(f'Letter: {l}')\n",
    "    print(f'Number: {n}')\n",
    "    print(f'Operator: {o}')\n",
    "    print('-'*15)"
   ]
  },
  {
   "cell_type": "markdown",
   "metadata": {},
   "source": [
    "So, how do you unzip Python objects?\n",
    "\n",
    "Say you have a list of tuples and want to separate the elements of each tuple into independent sequences. To do this, you can use `zip()` along with the unpacking operator `*`, like so:"
   ]
  },
  {
   "cell_type": "code",
   "execution_count": 148,
   "metadata": {},
   "outputs": [
    {
     "name": "stdout",
     "output_type": "stream",
     "text": [
      "(1, 2, 3, 4)\n",
      "('a', 'b', 'c', 'd')\n"
     ]
    }
   ],
   "source": [
    "pairs = [(1, 'a'), (2, 'b'), (3, 'c'), (4, 'd')]\n",
    "numbers, letters = zip(*pairs)\n",
    "\n",
    "print(numbers)\n",
    "print(letters)"
   ]
  },
  {
   "cell_type": "markdown",
   "metadata": {},
   "source": [
    "Sometimes, you might need to build a dictionary from two different but closely related sequences. A convenient way to achieve this is to use dict() and zip() together."
   ]
  },
  {
   "cell_type": "code",
   "execution_count": 149,
   "metadata": {},
   "outputs": [
    {
     "data": {
      "text/plain": [
       "{'name': 'John', 'last_name': 'Doe', 'age': '45', 'job': 'Python Developer'}"
      ]
     },
     "execution_count": 149,
     "metadata": {},
     "output_type": "execute_result"
    }
   ],
   "source": [
    "fields = ['name', 'last_name', 'age', 'job']\n",
    "values = ['John', 'Doe', '45', 'Python Developer']\n",
    "\n",
    "a_dict = dict(zip(fields, values))\n",
    "a_dict"
   ]
  },
  {
   "cell_type": "code",
   "execution_count": 150,
   "metadata": {},
   "outputs": [
    {
     "data": {
      "text/plain": [
       "{'name': 'John', 'last_name': 'Doe', 'age': '45', 'job': 'Python Consultant'}"
      ]
     },
     "execution_count": 150,
     "metadata": {},
     "output_type": "execute_result"
    }
   ],
   "source": [
    "new_job = ['Python Consultant']\n",
    "field = ['job']\n",
    "a_dict.update(zip(field, new_job))\n",
    "a_dict\n"
   ]
  },
  {
   "cell_type": "markdown",
   "metadata": {},
   "source": [
    "### sorted\n",
    "\n",
    "Sources: \n",
    "* https://docs.python.org/3/library/functions.html#sorted\n",
    "* https://docs.python.org/3/howto/sorting.html#sortinghowto\n",
    "\n",
    "Return a new sorted list from the items in iterable.\n"
   ]
  },
  {
   "cell_type": "code",
   "execution_count": 153,
   "metadata": {},
   "outputs": [
    {
     "data": {
      "text/plain": [
       "[1, 2, 3, 4, 5]"
      ]
     },
     "execution_count": 153,
     "metadata": {},
     "output_type": "execute_result"
    }
   ],
   "source": [
    "sorted([5, 2, 3, 1, 4])"
   ]
  },
  {
   "cell_type": "code",
   "execution_count": 152,
   "metadata": {},
   "outputs": [
    {
     "data": {
      "text/plain": [
       "[1, 2, 3, 4, 5]"
      ]
     },
     "execution_count": 152,
     "metadata": {},
     "output_type": "execute_result"
    }
   ],
   "source": [
    "# the sorted() function accepts any iterable.\n",
    "sorted({1: 'D', 2: 'B', 3: 'B', 4: 'E', 5: 'A'})"
   ]
  },
  {
   "cell_type": "code",
   "execution_count": 154,
   "metadata": {},
   "outputs": [
    {
     "data": {
      "text/plain": [
       "['a', 'Andrew', 'from', 'is', 'string', 'test', 'This']"
      ]
     },
     "execution_count": 154,
     "metadata": {},
     "output_type": "execute_result"
    }
   ],
   "source": [
    "# here’s a case-insensitive string comparison:\n",
    "sorted(\"This is a test string from Andrew\".split(), key=str.lower)"
   ]
  },
  {
   "cell_type": "code",
   "execution_count": 157,
   "metadata": {},
   "outputs": [
    {
     "data": {
      "text/plain": [
       "['a', 'is', 'This', 'test', 'from', 'string', 'Andrew']"
      ]
     },
     "execution_count": 157,
     "metadata": {},
     "output_type": "execute_result"
    }
   ],
   "source": [
    "sorted(\"This is a test string from Andrew\".split(), key=len)"
   ]
  },
  {
   "cell_type": "code",
   "execution_count": 155,
   "metadata": {},
   "outputs": [
    {
     "data": {
      "text/plain": [
       "[('dave', 'B', 10), ('jane', 'B', 12), ('john', 'A', 15)]"
      ]
     },
     "execution_count": 155,
     "metadata": {},
     "output_type": "execute_result"
    }
   ],
   "source": [
    "# A common pattern is to sort complex objects using some of the object’s indices as keys. For example:\n",
    "student_tuples = [\n",
    "    ('john', 'A', 15),\n",
    "    ('jane', 'B', 12),\n",
    "    ('dave', 'B', 10),\n",
    "]\n",
    "sorted(student_tuples, key=lambda student: student[2])   # sort by age\n",
    "\n"
   ]
  },
  {
   "cell_type": "code",
   "execution_count": 156,
   "metadata": {},
   "outputs": [
    {
     "data": {
      "text/plain": [
       "[('dave', 'B', 10), ('jane', 'B', 12), ('john', 'A', 15)]"
      ]
     },
     "execution_count": 156,
     "metadata": {},
     "output_type": "execute_result"
    }
   ],
   "source": [
    "# The same technique works for objects with named attributes. For example:\n",
    "\n",
    "class Student:\n",
    "    def __init__(self, name, grade, age):\n",
    "        self.name = name\n",
    "        self.grade = grade\n",
    "        self.age = age\n",
    "    def __repr__(self):\n",
    "        return repr((self.name, self.grade, self.age))\n",
    "\n",
    "student_objects = [\n",
    "    Student('john', 'A', 15),\n",
    "    Student('jane', 'B', 12),\n",
    "    Student('dave', 'B', 10),\n",
    "]\n",
    "sorted(student_objects, key=lambda student: student.age)   # sort by age"
   ]
  },
  {
   "cell_type": "markdown",
   "metadata": {},
   "source": [
    "### map\n",
    "\n",
    "Sources:\n",
    "* https://realpython.com/python-map-function/\n",
    "\n",
    "Python’s `map()` is a built-in function that allows you to process and transform all the items in an iterable without using an explicit for loop, a technique commonly known as mapping. `map()` is useful when you need to apply a transformation function to each item in an iterable and transform them into a new iterable. `map()` is one of the tools that support a functional programming style in Python.\n",
    "\n",
    "* Function `map()` is written in C and is highly optimized, its internal implied loop can be more efficient than a regular Python for loop. This is one advantage of using `map()`.\n",
    "\n",
    "* A second advantage of using map() is related to memory consumption. With a for loop, you need to store the whole list in your system’s memory. With map(), you get items on demand, and only one item is in your system’s memory at a given time."
   ]
  },
  {
   "cell_type": "code",
   "execution_count": 159,
   "metadata": {},
   "outputs": [
    {
     "data": {
      "text/plain": [
       "[4, 8, 6, 5, 3, 2, 8, 9, 2, 5]"
      ]
     },
     "execution_count": 159,
     "metadata": {},
     "output_type": "execute_result"
    }
   ],
   "source": [
    "# converting all the items in a list from a string to an integer number\n",
    "str_nums = [\"4\", \"8\", \"6\", \"5\", \"3\", \"2\", \"8\", \"9\", \"2\", \"5\"]\n",
    "\n",
    "# Since map() returns an iterator (a map object), you’ll need call list()\n",
    "# so that you can exhaust the iterator and turn it into a list object.\n",
    "int_nums = list(map(int, str_nums))\n",
    "int_nums"
   ]
  },
  {
   "cell_type": "code",
   "execution_count": 160,
   "metadata": {},
   "outputs": [
    {
     "data": {
      "text/plain": [
       "[7, 2, 4, 6]"
      ]
     },
     "execution_count": 160,
     "metadata": {},
     "output_type": "execute_result"
    }
   ],
   "source": [
    "words = [\"Welcome\", \"to\", \"Real\", \"Python\"]\n",
    "list(map(len, words))"
   ]
  },
  {
   "cell_type": "code",
   "execution_count": 161,
   "metadata": {},
   "outputs": [
    {
     "data": {
      "text/plain": [
       "[1, 32, 729]"
      ]
     },
     "execution_count": 161,
     "metadata": {},
     "output_type": "execute_result"
    }
   ],
   "source": [
    "# Processing Multiple Input Iterables With map()\n",
    "first_it = [1, 2, 3]\n",
    "second_it = [4, 5, 6, 7]\n",
    "\n",
    "list(map(pow, first_it, second_it))"
   ]
  },
  {
   "cell_type": "markdown",
   "metadata": {},
   "source": [
    "### lambda\n",
    "\n",
    "[Lambda](https://docs.python.org/3/glossary.html#term-lambda) - an anonymous inline function consisting of a single expression which is evaluated when the function is called. The syntax to create a lambda function is \n",
    "`lambda [parameters]: expression`"
   ]
  },
  {
   "cell_type": "code",
   "execution_count": 124,
   "metadata": {},
   "outputs": [
    {
     "name": "stdout",
     "output_type": "stream",
     "text": [
      "C, %    HRC\n",
      "------------\n",
      "0.1\t39.0\n",
      "0.15\t43.2\n",
      "0.2\t46.8\n",
      "0.25\t50.0\n",
      "0.3\t52.9\n",
      "0.35\t55.5\n",
      "0.4\t57.9\n",
      "0.45\t60.2\n",
      "0.5\t62.4\n",
      "0.55\t64.5\n",
      "0.6\t66.5\n"
     ]
    }
   ],
   "source": [
    "carbon_contents = [c / 100 for c in range(10, 65, 5)]\n",
    "\n",
    "# here is lambda function\n",
    "martensite_hardness_hrc = list(map(lambda c: round(60 * c**0.5 + 20, 1), carbon_contents))\n",
    "\n",
    "# Hardness of martenite in steel as a function of carbon content\n",
    "print('C, %    HRC')\n",
    "print('-'*12)\n",
    "for c, hrc in zip(carbon_contents, martensite_hardness_hrc):\n",
    "    print(c, hrc, sep='\\t')"
   ]
  },
  {
   "cell_type": "markdown",
   "metadata": {},
   "source": [
    "### filter\n",
    "\n",
    "Source: https://realpython.com/python-filter-function/\n",
    "\n",
    "Python provides a convenient built-in function, filter(), that abstracts out the logic behind filtering operations. Here’s its signature:\n",
    "\n",
    "`filter(function, iterable)`\n",
    "\n",
    "The first argument, function, must be a single-argument function. Typically, you provide a predicate (Boolean-valued) function to this argument. In other words, you provide a function that returns either True or False according to a specific condition.\n",
    "\n",
    "To perform the filtering process, filter() applies function to every item of iterable in a loop. The result is an iterator that yields the values of iterable for which function returns a true value. The process doesn’t modify the original input iterable.\n",
    "\n",
    "* Since filter() is written in C and is highly optimized, its internal implicit loop can be more efficient than a regular for loop regarding execution time. This efficiency is arguably the most important advantage of using the function in Python.\n",
    "\n",
    "* A second advantage of using filter() over a loop is that it returns a filter object, which is an iterator that yields values on demand, promoting a lazy evaluation strategy. Returning an iterator makes filter() more memory efficient than an equivalent for loop."
   ]
  },
  {
   "cell_type": "code",
   "execution_count": 163,
   "metadata": {},
   "outputs": [
    {
     "data": {
      "text/plain": [
       "[1, 2]"
      ]
     },
     "execution_count": 163,
     "metadata": {},
     "output_type": "execute_result"
    }
   ],
   "source": [
    "numbers = [-2, -1, 0, 1, 2]\n",
    "\n",
    "# Using a lambda function\n",
    "positive_numbers = filter(lambda n: n > 0, numbers)\n",
    "positive_numbers\n",
    "\n",
    "list(positive_numbers)"
   ]
  },
  {
   "cell_type": "code",
   "execution_count": 164,
   "metadata": {},
   "outputs": [
    {
     "data": {
      "text/plain": [
       "[1, 2]"
      ]
     },
     "execution_count": 164,
     "metadata": {},
     "output_type": "execute_result"
    }
   ],
   "source": [
    "# Using a user-defined function\n",
    "def is_positive(n):\n",
    "    return n > 0\n",
    "\n",
    "list(filter(is_positive, numbers))"
   ]
  },
  {
   "cell_type": "markdown",
   "metadata": {},
   "source": [
    "`filter()` isn’t limited to Boolean functions such as those in the examples above. You can use other types of functions, and `filter()` will evaluate their return value for truthiness. "
   ]
  },
  {
   "cell_type": "code",
   "execution_count": 165,
   "metadata": {},
   "outputs": [
    {
     "data": {
      "text/plain": [
       "[1, 4, 5, 8]"
      ]
     },
     "execution_count": 165,
     "metadata": {},
     "output_type": "execute_result"
    }
   ],
   "source": [
    "#  Since 0, [], \"\", and None are falsy, filter() uses their truth value to filter them out.\n",
    "def identity(x):\n",
    "    return x\n",
    "\n",
    "\n",
    "objects = [0, 1, [], 4, 5, \"\", None, 8]\n",
    "list(filter(identity, objects))"
   ]
  },
  {
   "cell_type": "markdown",
   "metadata": {},
   "source": [
    "For example, the following objects are falsy:\n",
    "\n",
    "* Constants like None and False\n",
    "* Numeric types with a zero value, like 0, 0.0, 0j, Decimal(0), and Fraction(0, 1)\n",
    "* Empty sequences and collections, like \"\", (), [], {}, set(), and range(0)\n",
    "* Objects that implement __bool__() with a return value of False or __len__() with a return value of 0\n",
    "* Any other object will be considered truthy."
   ]
  },
  {
   "cell_type": "code",
   "execution_count": 170,
   "metadata": {},
   "outputs": [
    {
     "data": {
      "text/plain": [
       "[2, 3, 5, 7, 11, 13, 17, 19, 23, 29, 31, 37, 41, 43, 47]"
      ]
     },
     "execution_count": 170,
     "metadata": {},
     "output_type": "execute_result"
    }
   ],
   "source": [
    "# Finding Prime Numbers\n",
    "def is_prime(n):\n",
    "    if n <= 1:\n",
    "        return False\n",
    "    for i in range(2, int((n)**0.5) + 1):\n",
    "        if n % i == 0:\n",
    "            return False\n",
    "    return True\n",
    "\n",
    "\n",
    "list(filter(is_prime, range(1, 51)))"
   ]
  },
  {
   "cell_type": "code",
   "execution_count": 171,
   "metadata": {},
   "outputs": [
    {
     "data": {
      "text/plain": [
       "10.692307692307692"
      ]
     },
     "execution_count": 171,
     "metadata": {},
     "output_type": "execute_result"
    }
   ],
   "source": [
    "# Removing Outliers in a Sample\n",
    "import statistics as st\n",
    "sample = [10, 8, 10, 8, 2, 7, 9, 3, 34, 9, 5, 9, 25]\n",
    "\n",
    "# The mean before removing outliers\n",
    "mean = st.mean(sample)\n",
    "mean"
   ]
  },
  {
   "cell_type": "code",
   "execution_count": 177,
   "metadata": {},
   "outputs": [],
   "source": [
    "stdev = st.stdev(sample)\n",
    "low = mean - 2 * stdev\n",
    "high = mean + 2 * stdev\n",
    "clean_sample = list(filter(lambda x: low <= x <= high, sample))"
   ]
  },
  {
   "cell_type": "code",
   "execution_count": 178,
   "metadata": {},
   "outputs": [
    {
     "data": {
      "text/plain": [
       "8.75"
      ]
     },
     "execution_count": 178,
     "metadata": {},
     "output_type": "execute_result"
    }
   ],
   "source": [
    "# The mean after removing outliers\n",
    "st.mean(clean_sample)"
   ]
  },
  {
   "cell_type": "markdown",
   "metadata": {},
   "source": [
    "### reduce\n",
    "\n",
    "Source: https://realpython.com/python-reduce-function/\n",
    "\n",
    "`reduce()` is useful when you need to apply a function to an iterable and reduce it to a single cumulative value. `reduce()` works by applying a two-argument function to the items of iterable in a loop from left to right, ultimately reducing iterable to a single cumulative value. Python’s `reduce()` also accepts a third and optional argument called initializer that provides a seed value to the computation or reduction.\n",
    "\n",
    "The Python documentation also states that `reduce()` is roughly equivalent to the following Python function:"
   ]
  },
  {
   "cell_type": "code",
   "execution_count": 182,
   "metadata": {},
   "outputs": [],
   "source": [
    "def reduce_(function, iterable, initializer=None):\n",
    "    it = iter(iterable)\n",
    "    if initializer is None:\n",
    "        value = next(it)\n",
    "    else:\n",
    "        value = initializer\n",
    "    for element in it:\n",
    "        value = function(value, element)\n",
    "    return value"
   ]
  },
  {
   "cell_type": "code",
   "execution_count": 183,
   "metadata": {},
   "outputs": [
    {
     "name": "stdout",
     "output_type": "stream",
     "text": [
      "0 + 1 = 1\n",
      "1 + 2 = 3\n",
      "3 + 3 = 6\n",
      "6 + 4 = 10\n"
     ]
    },
    {
     "data": {
      "text/plain": [
       "10"
      ]
     },
     "execution_count": 183,
     "metadata": {},
     "output_type": "execute_result"
    }
   ],
   "source": [
    "# example\n",
    "def my_add(a, b):\n",
    "    result = a + b\n",
    "    print(f\"{a} + {b} = {result}\")\n",
    "    return result\n",
    "\n",
    "# my_add() is a two-argument function, so you can pass it to Python’s reduce()\n",
    "# along with an iterable to compute the cumulated sum of the items in the iterable.\n",
    "\n",
    "numbers = [0, 1, 2, 3, 4]\n",
    "\n",
    "reduce(my_add, numbers)"
   ]
  },
  {
   "cell_type": "code",
   "execution_count": 184,
   "metadata": {},
   "outputs": [
    {
     "name": "stdout",
     "output_type": "stream",
     "text": [
      "100 + 0 = 100\n",
      "100 + 1 = 101\n",
      "101 + 2 = 103\n",
      "103 + 3 = 106\n",
      "106 + 4 = 110\n"
     ]
    },
    {
     "data": {
      "text/plain": [
       "110"
      ]
     },
     "execution_count": 184,
     "metadata": {},
     "output_type": "execute_result"
    }
   ],
   "source": [
    "# If you supply a value to initializer, then reduce() will feed it\n",
    "# to the first call of function as its first argument.\n",
    "reduce(my_add, numbers, 100)"
   ]
  },
  {
   "cell_type": "code",
   "execution_count": 185,
   "metadata": {},
   "outputs": [
    {
     "data": {
      "text/plain": [
       "24"
      ]
     },
     "execution_count": 185,
     "metadata": {},
     "output_type": "execute_result"
    }
   ],
   "source": [
    "# The product use case is a quite popular use case for Python’s reduce().\n",
    "numbers = [1, 2, 3, 4]\n",
    "reduce(lambda a, b: a * b, numbers)"
   ]
  },
  {
   "cell_type": "markdown",
   "metadata": {},
   "source": [
    "Guido van van Rossum\n",
    "\n",
    "*So now reduce(). This is actually the one I’ve always hated most, because, apart from a few examples involving + or *, almost every time I see a reduce() call with a non-trivial function argument, I need to grab pen and paper to diagram what’s actually being fed into that function before I understand what the reduce() is supposed to do. So in my mind, the applicability of reduce() is pretty much limited to associative operators, and in all other cases it’s better to write out the accumulation loop explicitly. [Source](http://www.artima.com/weblogs/viewpost.jsp?thread=98196)*"
   ]
  },
  {
   "cell_type": "markdown",
   "metadata": {},
   "source": [
    "## Scope of Variables"
   ]
  },
  {
   "cell_type": "code",
   "execution_count": 127,
   "metadata": {},
   "outputs": [],
   "source": [
    "pass"
   ]
  },
  {
   "cell_type": "markdown",
   "metadata": {},
   "source": [
    "## Type Hints, Annotations, MyPy\n"
   ]
  },
  {
   "cell_type": "markdown",
   "metadata": {},
   "source": [
    "### Type Hints\n",
    "\n",
    "> *Python will remain a dynamically typed language, and the authors have no desire to ever make type hints mandatory, even by convention.*"
   ]
  },
  {
   "cell_type": "markdown",
   "metadata": {},
   "source": [
    "Sources:\n",
    "* https://www.pythontutorial.net/python-basics/python-type-hints/\n",
    "* https://realpython.com/lessons/pros-and-cons-type-hints/\n",
    "* https://docs.python.org/3/library/typing.html\n",
    "* https://www.youtube.com/watch?v=QORvB-_mbZ0\n",
    "\n",
    "Python uses dynamic typing, in which variables, parameters, and return values of a function can be any type. Also, the types of variables can change while the program runs. Generally, dynamic typing makes it easy to program and causes unexpected errors that you can only discover until the program runs. \n",
    "\n",
    "* Type hints do not change the functionality of your code \n",
    "\n",
    "\n",
    "Here are some of the advantages of type hints:\n",
    "\n",
    "* Type hints help catch certain errors.\n",
    "\n",
    "* Type hints help document your code. Traditionally, you would use docstrings if you wanted to document the expected types of a function’s arguments. This works, but as there is no standard for docstrings (despite PEP 257), they can’t be easily used for automatic checks.\n",
    "\n",
    "* Type hints improve IDEs and linters. They make it much easier to statically reason about your code.\n",
    "\n",
    "* Type hints help you build and maintain a cleaner architecture. The act of writing type hints forces you to think about the types in your program. While the dynamic nature of Python is one of its great assets, being conscious about relying on duck typing, overloaded methods, or multiple return types is a good thing.\n",
    "\n",
    "Of course, static type checking is not all peaches and cream. There are also some downside you should consider:\n",
    "\n",
    "* Type hints take developer time and effort to add. Even though it probably pays off in spending less time debugging, you will spend more time entering code.\n",
    "\n",
    "* Type hints work best in modern Pythons. Annotations were introduced in Python 3.0, and it’s possible to use type comments in Python 2.7. Still, improvements like variable annotations and postponed evaluation of type hints mean that you’ll have a better experience doing type checks using Python 3.6 or even Python 3.7.\n",
    "\n",
    "* Type hints introduce a slight penalty in start-up time. If you need to use the typing module, then the import time may be significant, especially in short scripts.\n"
   ]
  },
  {
   "cell_type": "code",
   "execution_count": 198,
   "metadata": {},
   "outputs": [
    {
     "name": "stdout",
     "output_type": "stream",
     "text": [
      "Hi Maks\n"
     ]
    }
   ],
   "source": [
    "# this exmple shows how to use type hints for the name parameter and return value of the say_hi() function:\n",
    "def say_hi(name: str) -> str:\n",
    "    return f'Hi {name}'\n",
    "\n",
    "\n",
    "greeting = say_hi('Maks')\n",
    "print(greeting)"
   ]
  },
  {
   "cell_type": "code",
   "execution_count": 199,
   "metadata": {},
   "outputs": [],
   "source": [
    "# Adding type hints for multiple types\n",
    "# To set type hints for multiple types, you can use Union from the typing module.\n",
    "from typing import Union"
   ]
  },
  {
   "cell_type": "code",
   "execution_count": 200,
   "metadata": {},
   "outputs": [],
   "source": [
    "# The following add() function returns the sum of two numbers.\n",
    "# The numbers can be integers or floats.\n",
    "def add(x: Union[int, float], y: Union[int, float]) -> Union[int, float]:\n",
    "    return x + y"
   ]
  },
  {
   "cell_type": "code",
   "execution_count": 201,
   "metadata": {},
   "outputs": [
    {
     "data": {
      "text/plain": [
       "12.6"
      ]
     },
     "execution_count": 201,
     "metadata": {},
     "output_type": "execute_result"
    }
   ],
   "source": [
    "add(5.6, 7)"
   ]
  },
  {
   "cell_type": "markdown",
   "metadata": {},
   "source": [
    "```Python\n",
    "# Starting from Python 3.10, you can use the X | Y syntax to create a union type, for example:\n",
    "\n",
    "def add(x: int | float, y: int | float) -> int | float:\n",
    "    return x + y\n",
    "```"
   ]
  },
  {
   "cell_type": "markdown",
   "metadata": {},
   "source": [
    "To specify the types of values in the list, dictionary, and sets, you can use type aliases from the typing module:"
   ]
  },
  {
   "cell_type": "markdown",
   "metadata": {},
   "source": [
    "<table><thead><tr><th>Type Alias</th><th>Built-in Type</th></tr></thead><tbody><tr><td>List</td><td>list</td></tr><tr><td>Tuple</td><td>tuple</td></tr><tr><td>Dict</td><td>dict</td></tr><tr><td>Set</td><td>set</td></tr><tr><td>Frozenset</td><td>frozenset</td></tr><tr><td>Sequence</td><td>For list, tuple, string, and any other sequence data type.</td></tr><tr><td>Mapping</td><td>For dictionary (dict), set, frozenset, and any other mapping data type</td></tr><tr><td>ByteString</td><td> bytes, bytearray, and memoryview types.</td></tr></tbody></table>"
   ]
  },
  {
   "cell_type": "code",
   "execution_count": 210,
   "metadata": {},
   "outputs": [],
   "source": [
    "from typing import List"
   ]
  },
  {
   "cell_type": "code",
   "execution_count": 214,
   "metadata": {},
   "outputs": [
    {
     "data": {
      "text/plain": [
       "[2.0, -8.4, 10.8]"
      ]
     },
     "execution_count": 214,
     "metadata": {},
     "output_type": "execute_result"
    }
   ],
   "source": [
    "Vector = List[float]\n",
    "\n",
    "def scale(scalar: float, vector: Vector) -> Vector:\n",
    "    return [scalar * num for num in vector]\n",
    "\n",
    "# passes type checking; a list of floats qualifies as a Vector.\n",
    "new_vector = scale(2.0, [1.0, -4.2, 5.4])\n",
    "new_vector"
   ]
  },
  {
   "cell_type": "code",
   "execution_count": 224,
   "metadata": {},
   "outputs": [],
   "source": [
    "Matrix = List[List[float]]\n",
    "a: Matrix = [[1, 2, 3], [4, 5, 6], [7, 8, 9]]"
   ]
  },
  {
   "cell_type": "code",
   "execution_count": 226,
   "metadata": {},
   "outputs": [],
   "source": [
    "# the use of Optional is appropriate, whether the argument is optional or not. For example:\n",
    "from typing import Optional\n",
    "\n",
    "def foo(arg: Optional[int] = None) -> None:\n",
    "    pass\n"
   ]
  },
  {
   "cell_type": "markdown",
   "metadata": {},
   "source": [
    "### MyPy"
   ]
  },
  {
   "cell_type": "markdown",
   "metadata": {},
   "source": [
    "Python doesn’t have an official static type checker tool. At the moment, the most popular third-party tool is `Mypy`. Since `Mypy` is a third-party package, you need to install it using the following pip command:\n",
    "\n",
    "    pip instal mypy\n",
    "\n",
    "Once installed `mypy`, you can use it to check the type before running the program by using the following command:\n",
    "\n",
    "    mypy C:/path/my_app_name.py"
   ]
  },
  {
   "cell_type": "markdown",
   "metadata": {},
   "source": [
    "## OOP\n",
    "\n",
    "Sources:\n",
    "* [Corey Schafer. Python OOP Tutorials - Working with Classes](https://youtube.com/playlist?list=PL-osiE80TeTsqhIuOqKhwlXsIBIdSeYtc)\n",
    "* [Tech with Tim. Python Object Oriented Programming (OOP) - For Beginners](https://www.youtube.com/watch?v=JeznW_7DlB0)\n",
    "* Real Python\n",
    "* Course in freeCodeCamp"
   ]
  },
  {
   "cell_type": "code",
   "execution_count": null,
   "metadata": {},
   "outputs": [],
   "source": []
  },
  {
   "cell_type": "markdown",
   "metadata": {},
   "source": [
    "## Decorators\n",
    "\n",
    "Sources:\n",
    "* [Corey Schafer. Python Tutorial: Decorators - Dynamically Alter The Functionality Of Your Functions](https://www.youtube.com/watch?v=FsAPt_9Bf3U)\n",
    "* https://wiki.python.org/moin/PythonDecorators\n"
   ]
  },
  {
   "cell_type": "markdown",
   "metadata": {},
   "source": [
    "A decarator is just a function that takes another function as an argument, adds some kind of fuctionality and then returns another function. All of these withoiut altering the source code of the original function that you passed in.\n",
    "\n",
    "A Python decorator is a specific change to the Python syntax that allows us to more conveniently alter functions and methods (and possibly classes in a future version).\n",
    "\n"
   ]
  },
  {
   "cell_type": "markdown",
   "metadata": {},
   "source": [
    "### Function decorators"
   ]
  },
  {
   "cell_type": "code",
   "execution_count": 33,
   "metadata": {},
   "outputs": [],
   "source": [
    "def decorator_function(original_function):\n",
    "    def wrapper_function():\n",
    "        print(f'wrapper executed this before \"{original_function.__name__}\" function')\n",
    "        return original_function()\n",
    "    return wrapper_function"
   ]
  },
  {
   "cell_type": "code",
   "execution_count": 34,
   "metadata": {},
   "outputs": [
    {
     "name": "stdout",
     "output_type": "stream",
     "text": [
      "wrapper executed this before \"display\" function\n",
      "original function\n"
     ]
    }
   ],
   "source": [
    "def display():\n",
    "    print('original function')\n",
    "    \n",
    "decorated_display = decorator_function(display)\n",
    "decorated_display()"
   ]
  },
  {
   "cell_type": "code",
   "execution_count": 35,
   "metadata": {},
   "outputs": [
    {
     "name": "stdout",
     "output_type": "stream",
     "text": [
      "wrapper executed this before \"display\" function\n",
      "original function\n"
     ]
    }
   ],
   "source": [
    "# @decorator_function - this syntax equals to this:  \n",
    "# display = decorator_function(display)\n",
    "@decorator_function\n",
    "def display():\n",
    "    print('original function')\n",
    "    \n",
    "display()"
   ]
  },
  {
   "cell_type": "code",
   "execution_count": 37,
   "metadata": {},
   "outputs": [
    {
     "name": "stdout",
     "output_type": "stream",
     "text": [
      "wrapper executed this before \"display_info\" function\n",
      "\"display_info\" ran with two arguments: John, 25\n"
     ]
    }
   ],
   "source": [
    "# if original function takes arguments we need to specify that inside the decorator function\n",
    "def decorator_function(original_function):\n",
    "    def wrapper_function(arg1, arg2):\n",
    "        print(f'wrapper executed this before \"{original_function.__name__}\" function')\n",
    "        return original_function(arg1, arg2)\n",
    "    return wrapper_function\n",
    "\n",
    "@decorator_function\n",
    "def display_info(name, age):\n",
    "    print(f'\"display_info\" ran with two arguments: {name}, {age}')\n",
    "    \n",
    "display_info('John', 25)    "
   ]
  },
  {
   "cell_type": "code",
   "execution_count": 38,
   "metadata": {},
   "outputs": [
    {
     "name": "stdout",
     "output_type": "stream",
     "text": [
      "wrapper executed this before \"display_info\" function\n",
      "\"display_info\" ran with two arguments: John, 25\n"
     ]
    }
   ],
   "source": [
    "# another way of doing that is making a function take any number of argumrnts:\n",
    "def decorator_function(original_function):\n",
    "    def wrapper_function(*args, **kwargs):\n",
    "        print(f'wrapper executed this before \"{original_function.__name__}\" function')\n",
    "        return original_function(*args, **kwargs)\n",
    "    return wrapper_function\n",
    "\n",
    "@decorator_function\n",
    "def display_info(name, age):\n",
    "    print(f'\"display_info\" ran with two arguments: {name}, {age}')\n",
    "    \n",
    "display_info('John', 25)    "
   ]
  },
  {
   "cell_type": "code",
   "execution_count": 39,
   "metadata": {},
   "outputs": [
    {
     "name": "stdout",
     "output_type": "stream",
     "text": [
      "You have carbon content 0.5\n",
      "62.4\n"
     ]
    }
   ],
   "source": [
    "# my metallurgical example\n",
    "def decorator(original_function):\n",
    "    def wrapper(arg):\n",
    "        print(f'You have carbon content {arg}')\n",
    "        return original_function(arg)\n",
    "    return wrapper\n",
    "\n",
    "\n",
    "@decorator\n",
    "def calc_martensite_hardness(carbon_content):\n",
    "    return round(60 * carbon_content**0.5 + 20, 1)\n",
    "\n",
    "print(calc_martensite_hardness(0.5))"
   ]
  },
  {
   "cell_type": "code",
   "execution_count": 40,
   "metadata": {},
   "outputs": [
    {
     "name": "stdout",
     "output_type": "stream",
     "text": [
      "wrapper\n",
      "calc_martensite_hardness\n"
     ]
    }
   ],
   "source": [
    "# let`s check the names of functions with and without decorator\n",
    "print(calc_martensite_hardness.__name__)\n",
    "\n",
    "def calc_martensite_hardness(carbon_content):\n",
    "    return round(60 * carbon_content**0.5 + 20, 1)\n",
    "\n",
    "print(calc_martensite_hardness.__name__)"
   ]
  },
  {
   "cell_type": "markdown",
   "metadata": {},
   "source": [
    "### Class decorators"
   ]
  },
  {
   "cell_type": "code",
   "execution_count": 7,
   "metadata": {},
   "outputs": [],
   "source": [
    "class DecoratorClass(object):\n",
    "    \n",
    "    def __init__(self, original_function):\n",
    "        self.original_function = original_function\n",
    "        \n",
    "    def __call__(self, *args, **kwargs):\n",
    "        print(f'call method executed this before \"{self.original_function.__name__}\" function')\n",
    "        return self.original_function(*args, **kwargs)"
   ]
  },
  {
   "cell_type": "code",
   "execution_count": 8,
   "metadata": {},
   "outputs": [
    {
     "name": "stdout",
     "output_type": "stream",
     "text": [
      "call method executed this before \"display_info\" function\n",
      "\"display_info\" ran with two arguments: John, 25\n"
     ]
    }
   ],
   "source": [
    "@DecoratorClass\n",
    "def display_info(name, age):\n",
    "    print(f'\"display_info\" ran with two arguments: {name}, {age}')\n",
    "    \n",
    "display_info('John', 25)    "
   ]
  },
  {
   "cell_type": "markdown",
   "metadata": {},
   "source": [
    "### functools.wraps module"
   ]
  },
  {
   "cell_type": "markdown",
   "metadata": {},
   "source": [
    "Sources:\n",
    "* [Corey Schafer. Python Tutorial: Decorators - Dynamically Alter The Functionality Of Your Functions](https://www.youtube.com/watch?v=FsAPt_9Bf3U)\n",
    "* https://stackoverflow.com/questions/308999/what-does-functools-wraps-do"
   ]
  },
  {
   "cell_type": "markdown",
   "metadata": {},
   "source": [
    "When you use a decorator, you're replacing one function with another. In other words, if you have a decorator\n",
    "\n",
    "```Python\n",
    "def logged(func):\n",
    "    def with_logging(*args, **kwargs):\n",
    "        print(func.__name__ + \" was called\")\n",
    "        return func(*args, **kwargs)\n",
    "    return with_logging\n",
    "```\n",
    "\n",
    "then when you say\n",
    "\n",
    "```Python\n",
    "@logged\n",
    "def f(x):\n",
    "   \"\"\"does some math\"\"\"\n",
    "    return x + x * x\n",
    "```\n",
    "\n",
    "it's exactly the same as saying\n",
    "\n",
    "```Python\n",
    "def f(x):\n",
    "    \"\"\"does some math\"\"\"\n",
    "    return x + x * x\n",
    "f = logged(f)\n",
    "```\n",
    "\n",
    "and your function `f` is replaced with the function `with_logging`. Unfortunately, this means that if you then say\n",
    "`print(f.__name__)` it will print with_logging because that's the name of your new function. In fact, if you look at the docstring for `f`, it will be blank because with_logging has no docstring, and so the docstring you wrote won't be there anymore. Also, if you look at the pydoc result for that function, it won't be listed as taking one argument x; instead it'll be listed as taking `*args` and `**kwargs` because that's `what with_logging` takes.\n",
    "\n",
    "If using a decorator always meant losing this information about a function, it would be a serious problem. That's why we have `functools.wraps`. This takes a function used in a decorator and adds the functionality of copying over the function name, docstring, arguments list, etc.|"
   ]
  },
  {
   "cell_type": "code",
   "execution_count": 49,
   "metadata": {},
   "outputs": [],
   "source": [
    "# Decorators\n",
    "from functools import wraps\n",
    "import time\n",
    "\n",
    "def my_logger(orig_func):\n",
    "    import logging\n",
    "    logging.basicConfig(filename='{}.log'.format(orig_func.__name__), level=logging.INFO)\n",
    "\n",
    "    @wraps(orig_func)\n",
    "    def wrapper(*args, **kwargs):\n",
    "        logging.info(\n",
    "            '{} Ran with args: {}, and kwargs: {}'.format(time.strftime(\"%Y-%m-%d %H:%M:%S GMT%z\"), args, kwargs))\n",
    "        return orig_func(*args, **kwargs)\n",
    "\n",
    "    return wrapper\n",
    "\n",
    "\n",
    "def my_timer(orig_func):\n",
    "    import time\n",
    "\n",
    "    @wraps(orig_func)\n",
    "    def wrapper(*args, **kwargs):\n",
    "        t1 = time.time()\n",
    "        result = orig_func(*args, **kwargs)\n",
    "        t2 = time.time() - t1\n",
    "        print('{} ran in: {} sec'.format(orig_func.__name__, t2))\n",
    "        return result\n",
    "\n",
    "    return wrapper\n",
    "\n",
    "import time\n",
    "\n",
    "\n",
    "@my_logger\n",
    "@my_timer\n",
    "def display_info(name, age):\n",
    "    time.sleep(1)\n",
    "    print('display_info ran with arguments ({}, {})'.format(name, age))"
   ]
  },
  {
   "cell_type": "code",
   "execution_count": 50,
   "metadata": {},
   "outputs": [
    {
     "name": "stdout",
     "output_type": "stream",
     "text": [
      "display_info ran with arguments (Tom, 22)\n",
      "display_info ran in: 1.0166149139404297 sec\n"
     ]
    }
   ],
   "source": [
    "display_info('Tom', 22)"
   ]
  },
  {
   "cell_type": "code",
   "execution_count": 51,
   "metadata": {},
   "outputs": [
    {
     "name": "stdout",
     "output_type": "stream",
     "text": [
      "display_info ran with arguments (John, 28)\n",
      "display_info ran in: 1.001004934310913 sec\n"
     ]
    }
   ],
   "source": [
    "display_info('John', 28)"
   ]
  },
  {
   "cell_type": "code",
   "execution_count": 52,
   "metadata": {},
   "outputs": [
    {
     "name": "stdout",
     "output_type": "stream",
     "text": [
      "display_info ran with arguments (Tim, 32)\n",
      "display_info ran in: 1.0131080150604248 sec\n"
     ]
    }
   ],
   "source": [
    "display_info('Tim', 32)"
   ]
  },
  {
   "cell_type": "markdown",
   "metadata": {},
   "source": [
    "## Context-manager"
   ]
  },
  {
   "cell_type": "markdown",
   "metadata": {},
   "source": [
    "Sources:\n",
    "* [Corey Shafer - Python Tutorial: Context Managers - Efficiently Managing Resources](https://www.youtube.com/watch?v=-aKFBoZpiqA)\n",
    "* https://realpython.com/python-with-statement/\n",
    "* https://python-scripts.com/contextlib\n",
    "* https://docs.python.org/3/reference/datamodel.html#context-managers\n",
    "* https://docs.python.org/3/library/contextlib.html"
   ]
  },
  {
   "cell_type": "markdown",
   "metadata": {},
   "source": [
    "One common problem you’ll face in programming is how to properly manage external resources, such as files, locks, and network connections. Sometimes, a program will retain those resources forever, even if you no longer need them. This kind of issue is called a memory leak because the available memory gets reduced every time you create and open a new instance of a given resource without closing an existing one.\n",
    "\n",
    "The `with` statement in Python is a quite useful tool for properly managing external resources in your programs. It allows you to take advantage of existing context managers to automatically handle the setup and teardown phases whenever you’re dealing with external resources or with operations that require those phases.\n",
    "\n",
    "You can only use the `with` statement with objects that support the context management protocol, whereas `try … finally` allows you to perform cleanup actions for arbitrary objects without the need for supporting the context management protocol."
   ]
  },
  {
   "cell_type": "code",
   "execution_count": 193,
   "metadata": {},
   "outputs": [],
   "source": [
    "#  the most common way to open a file using with is through the built-in open():\n",
    "with open(\"hello.txt\", mode=\"w\") as file:\n",
    "    file.write(\"Hello, World!\")"
   ]
  },
  {
   "cell_type": "code",
   "execution_count": 3,
   "metadata": {},
   "outputs": [],
   "source": [
    "# making cm using class\n",
    "class Open_File():\n",
    "\n",
    "    def __init__(self, filename, mode):\n",
    "        self.filename = filename\n",
    "        self.mode = mode\n",
    "\n",
    "    def __enter__(self):  # setup of context manager\n",
    "        self.file = open(self.filename, self.mode)\n",
    "        return self.file\n",
    "\n",
    "    def __exit__(self, exc_type, exc_val, traceback): # tear down of context manager\n",
    "        self.file.close()"
   ]
  },
  {
   "cell_type": "code",
   "execution_count": 4,
   "metadata": {},
   "outputs": [
    {
     "name": "stdout",
     "output_type": "stream",
     "text": [
      "True\n"
     ]
    }
   ],
   "source": [
    "# let`s try\n",
    "with Open_File('sample.txt', 'w') as f:  # __init__ and __enter__ methods\n",
    "    f.write('Test')\n",
    "# here __exit__ method is executed \n",
    "print(f.closed)"
   ]
  },
  {
   "cell_type": "code",
   "execution_count": 5,
   "metadata": {},
   "outputs": [
    {
     "name": "stdout",
     "output_type": "stream",
     "text": [
      "True\n"
     ]
    }
   ],
   "source": [
    "# making cm using functions, contextlib and decorators\n",
    "from contextlib import contextmanager\n",
    "\n",
    "@contextmanager\n",
    "def open_file(file, mode):\n",
    "    f = open(file, mode)\n",
    "    yield f\n",
    "    f.close()\n",
    "\n",
    "\n",
    "with open_file('sample.txt', 'w') as f:\n",
    "    f.write('Test_2')\n",
    "\n",
    "print(f.closed)"
   ]
  },
  {
   "cell_type": "code",
   "execution_count": 1,
   "metadata": {},
   "outputs": [
    {
     "ename": "FileNotFoundError",
     "evalue": "[WinError 2] Не удается найти указанный файл: 'Sample-Dir-One'",
     "output_type": "error",
     "traceback": [
      "\u001b[1;31m---------------------------------------------------------------------------\u001b[0m",
      "\u001b[1;31mFileNotFoundError\u001b[0m                         Traceback (most recent call last)",
      "\u001b[1;32m<ipython-input-1-386cfd8b103d>\u001b[0m in \u001b[0;36m<module>\u001b[1;34m\u001b[0m\n\u001b[0;32m     13\u001b[0m \u001b[1;33m\u001b[0m\u001b[0m\n\u001b[0;32m     14\u001b[0m \u001b[1;33m\u001b[0m\u001b[0m\n\u001b[1;32m---> 15\u001b[1;33m \u001b[1;32mwith\u001b[0m \u001b[0mchange_dir\u001b[0m\u001b[1;33m(\u001b[0m\u001b[1;34m'Sample-Dir-One'\u001b[0m\u001b[1;33m)\u001b[0m\u001b[1;33m:\u001b[0m\u001b[1;33m\u001b[0m\u001b[1;33m\u001b[0m\u001b[0m\n\u001b[0m\u001b[0;32m     16\u001b[0m     \u001b[0mprint\u001b[0m\u001b[1;33m(\u001b[0m\u001b[0mos\u001b[0m\u001b[1;33m.\u001b[0m\u001b[0mlistdir\u001b[0m\u001b[1;33m(\u001b[0m\u001b[1;33m)\u001b[0m\u001b[1;33m)\u001b[0m\u001b[1;33m\u001b[0m\u001b[1;33m\u001b[0m\u001b[0m\n\u001b[0;32m     17\u001b[0m \u001b[1;33m\u001b[0m\u001b[0m\n",
      "\u001b[1;32mC:\\Anaconda3\\lib\\contextlib.py\u001b[0m in \u001b[0;36m__enter__\u001b[1;34m(self)\u001b[0m\n\u001b[0;32m    111\u001b[0m         \u001b[1;32mdel\u001b[0m \u001b[0mself\u001b[0m\u001b[1;33m.\u001b[0m\u001b[0margs\u001b[0m\u001b[1;33m,\u001b[0m \u001b[0mself\u001b[0m\u001b[1;33m.\u001b[0m\u001b[0mkwds\u001b[0m\u001b[1;33m,\u001b[0m \u001b[0mself\u001b[0m\u001b[1;33m.\u001b[0m\u001b[0mfunc\u001b[0m\u001b[1;33m\u001b[0m\u001b[1;33m\u001b[0m\u001b[0m\n\u001b[0;32m    112\u001b[0m         \u001b[1;32mtry\u001b[0m\u001b[1;33m:\u001b[0m\u001b[1;33m\u001b[0m\u001b[1;33m\u001b[0m\u001b[0m\n\u001b[1;32m--> 113\u001b[1;33m             \u001b[1;32mreturn\u001b[0m \u001b[0mnext\u001b[0m\u001b[1;33m(\u001b[0m\u001b[0mself\u001b[0m\u001b[1;33m.\u001b[0m\u001b[0mgen\u001b[0m\u001b[1;33m)\u001b[0m\u001b[1;33m\u001b[0m\u001b[1;33m\u001b[0m\u001b[0m\n\u001b[0m\u001b[0;32m    114\u001b[0m         \u001b[1;32mexcept\u001b[0m \u001b[0mStopIteration\u001b[0m\u001b[1;33m:\u001b[0m\u001b[1;33m\u001b[0m\u001b[1;33m\u001b[0m\u001b[0m\n\u001b[0;32m    115\u001b[0m             \u001b[1;32mraise\u001b[0m \u001b[0mRuntimeError\u001b[0m\u001b[1;33m(\u001b[0m\u001b[1;34m\"generator didn't yield\"\u001b[0m\u001b[1;33m)\u001b[0m \u001b[1;32mfrom\u001b[0m \u001b[1;32mNone\u001b[0m\u001b[1;33m\u001b[0m\u001b[1;33m\u001b[0m\u001b[0m\n",
      "\u001b[1;32m<ipython-input-1-386cfd8b103d>\u001b[0m in \u001b[0;36mchange_dir\u001b[1;34m(destination)\u001b[0m\n\u001b[0;32m      7\u001b[0m     \u001b[1;32mtry\u001b[0m\u001b[1;33m:\u001b[0m\u001b[1;33m\u001b[0m\u001b[1;33m\u001b[0m\u001b[0m\n\u001b[0;32m      8\u001b[0m         \u001b[0mcwd\u001b[0m \u001b[1;33m=\u001b[0m \u001b[0mos\u001b[0m\u001b[1;33m.\u001b[0m\u001b[0mgetcwd\u001b[0m\u001b[1;33m(\u001b[0m\u001b[1;33m)\u001b[0m\u001b[1;33m\u001b[0m\u001b[1;33m\u001b[0m\u001b[0m\n\u001b[1;32m----> 9\u001b[1;33m         \u001b[0mos\u001b[0m\u001b[1;33m.\u001b[0m\u001b[0mchdir\u001b[0m\u001b[1;33m(\u001b[0m\u001b[0mdestination\u001b[0m\u001b[1;33m)\u001b[0m\u001b[1;33m\u001b[0m\u001b[1;33m\u001b[0m\u001b[0m\n\u001b[0m\u001b[0;32m     10\u001b[0m         \u001b[1;32myield\u001b[0m\u001b[1;33m\u001b[0m\u001b[1;33m\u001b[0m\u001b[0m\n\u001b[0;32m     11\u001b[0m     \u001b[1;32mfinally\u001b[0m\u001b[1;33m:\u001b[0m\u001b[1;33m\u001b[0m\u001b[1;33m\u001b[0m\u001b[0m\n",
      "\u001b[1;31mFileNotFoundError\u001b[0m: [WinError 2] Не удается найти указанный файл: 'Sample-Dir-One'"
     ]
    }
   ],
   "source": [
    "import os\n",
    "\n",
    "@contextmanager\n",
    "def change_dir(destination):\n",
    "    try:\n",
    "        cwd = os.getcwd()\n",
    "        os.chdir(destination)\n",
    "        yield\n",
    "    finally:\n",
    "        os.chdir(cwd)\n",
    "\n",
    "\n",
    "with change_dir('Sample-Dir-One'):\n",
    "    print(os.listdir())\n",
    "\n",
    "with change_dir('Sample-Dir-Two'):\n",
    "    print(os.listdir())"
   ]
  },
  {
   "cell_type": "code",
   "execution_count": null,
   "metadata": {},
   "outputs": [],
   "source": []
  }
 ],
 "metadata": {
  "kernelspec": {
   "display_name": "Python 3",
   "language": "python",
   "name": "python3"
  },
  "language_info": {
   "codemirror_mode": {
    "name": "ipython",
    "version": 3
   },
   "file_extension": ".py",
   "mimetype": "text/x-python",
   "name": "python",
   "nbconvert_exporter": "python",
   "pygments_lexer": "ipython3",
   "version": "3.8.5"
  },
  "toc": {
   "base_numbering": 1,
   "nav_menu": {},
   "number_sections": true,
   "sideBar": true,
   "skip_h1_title": true,
   "title_cell": "Содержание",
   "title_sidebar": "Contents",
   "toc_cell": true,
   "toc_position": {},
   "toc_section_display": true,
   "toc_window_display": true
  }
 },
 "nbformat": 4,
 "nbformat_minor": 5
}
