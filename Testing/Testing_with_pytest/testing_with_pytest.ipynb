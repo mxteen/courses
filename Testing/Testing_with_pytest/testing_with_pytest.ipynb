{
 "cells": [
  {
   "cell_type": "markdown",
   "metadata": {},
   "source": [
    "# Effective Python Testing With Pytest\n",
    "Tutorial: https://realpython.com/pytest-python-testing/ <br>\n",
    "Official documentation: https://docs.pytest.org/en/7.2.x/\n"
   ]
  },
  {
   "cell_type": "markdown",
   "metadata": {},
   "source": [
    "## How to Install pytest\n",
    "As most Python packages, pytest is available on PyPI. You can install it in a virtual environment using pip.\n",
    "```Python\n",
    "pip install pytest\n",
    "```"
   ]
  },
  {
   "cell_type": "markdown",
   "metadata": {},
   "source": [
    "## What Makes pytest So Useful?\n",
    "\n",
    "* pytest is a feature-rich, plugin-based ecosystem for testing your Python code.\n",
    "* common tasks require less code and advanced tasks can be achieved through a variety of time-saving commands and plugins"
   ]
  },
  {
   "cell_type": "markdown",
   "metadata": {},
   "source": []
  }
 ],
 "metadata": {
  "language_info": {
   "name": "python"
  },
  "orig_nbformat": 4
 },
 "nbformat": 4,
 "nbformat_minor": 2
}
