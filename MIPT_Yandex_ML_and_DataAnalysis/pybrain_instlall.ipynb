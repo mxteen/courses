{
 "cells": [
  {
   "cell_type": "markdown",
   "metadata": {},
   "source": [
    "# Инструкция по установке pybrain от Svetlana Astafyeva"
   ]
  },
  {
   "cell_type": "markdown",
   "metadata": {},
   "source": [
    "1. Нужно прямо в ноутбуке запустить \n",
    "`!pip install https://github.com/pybrain/pybrain/archive/0.3.3.zip`\n"
   ]
  },
  {
   "cell_type": "code",
   "execution_count": 1,
   "metadata": {},
   "outputs": [
    {
     "name": "stdout",
     "output_type": "stream",
     "text": [
      "Collecting https://github.com/pybrain/pybrain/archive/0.3.3.zip\n",
      "  Downloading https://github.com/pybrain/pybrain/archive/0.3.3.zip\n",
      "Requirement already satisfied: scipy in c:\\programdata\\anaconda3\\lib\\site-packages (from PyBrain==0.3.1) (1.5.0)\n",
      "Requirement already satisfied: numpy>=1.14.5 in c:\\programdata\\anaconda3\\lib\\site-packages (from scipy->PyBrain==0.3.1) (1.18.5)\n",
      "Building wheels for collected packages: PyBrain\n",
      "  Building wheel for PyBrain (setup.py): started\n",
      "  Building wheel for PyBrain (setup.py): finished with status 'done'\n",
      "  Created wheel for PyBrain: filename=PyBrain-0.3.1-py3-none-any.whl size=468236 sha256=38428d39eb98370cad6fa74b41ec2f97e346429a420c0c07e2beb7cfd30b84e2\n",
      "  Stored in directory: C:\\Users\\mi.terentev\\AppData\\Local\\Temp\\pip-ephem-wheel-cache-xa3u0eng\\wheels\\ea\\68\\6d\\74c3ea34a0e8263c72bff928915f86b72ec7634f6f2ffb491f\n",
      "Successfully built PyBrain\n",
      "Installing collected packages: PyBrain\n",
      "Successfully installed PyBrain-0.3.1\n"
     ]
    }
   ],
   "source": [
    "!pip install https://github.com/pybrain/pybrain/archive/0.3.3.zip"
   ]
  },
  {
   "cell_type": "markdown",
   "metadata": {},
   "source": [
    "---\n",
    "2. а потом в файле .... Anaconda3\\Lib\\site-packages\\pybrain\\tools\\functions.py в import исправить expm2 на expm\n",
    "(Можно открыть, например в pycharm, notepad++, spyder, vs code или любой редактор кода, который открывает файлы с расширением .py)."
   ]
  },
  {
   "cell_type": "markdown",
   "metadata": {},
   "source": [
    "**C:\\programdata\\anaconda3\\lib\\site-packages\\pybrain\\tools\\functions.py**"
   ]
  },
  {
   "cell_type": "code",
   "execution_count": null,
   "metadata": {},
   "outputs": [],
   "source": []
  }
 ],
 "metadata": {
  "kernelspec": {
   "display_name": "Python 3",
   "language": "python",
   "name": "python3"
  },
  "language_info": {
   "codemirror_mode": {
    "name": "ipython",
    "version": 3
   },
   "file_extension": ".py",
   "mimetype": "text/x-python",
   "name": "python",
   "nbconvert_exporter": "python",
   "pygments_lexer": "ipython3",
   "version": "3.8.3"
  }
 },
 "nbformat": 4,
 "nbformat_minor": 4
}
