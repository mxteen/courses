{
 "cells": [
  {
   "cell_type": "markdown",
   "metadata": {},
   "source": [
    "Ваше первое задание заключается в установке Python и библиотек. Как вы могли убедиться из демонстрационного видео, это очень просто и займет совсем немного времени. Тем не менее, важно выполнить задание своевременно, потому что эти инструменты понадобятся нам для дальнейшего прохождения курса. Убедитесь, что у вас не возникло проблем с установкой и использованием Python, и потренируйтесь запускать простенькие команды – будет интересно!\n",
    "\n",
    "Материалы, которые вам помогут\n",
    "\n",
    "Видео по установке anaconda на Windows \n",
    "Видео по установке anaconda на OS X \n",
    "Видео по установке anaconda на Linux\n",
    "Инструкции \n",
    "\n",
    "**Задание 1**\n",
    "\n",
    "1. Перейдите на сайт continuum.io по ссылке https://www.continuum.io/downloads.\n",
    "2. Выберите подходящую вам операционную систему и перейдите в соответствующий раздел сайта.\n",
    "3. Следуя инструкциям на сайте, установите Python 2.7.\n",
    "\n",
    "\n",
    "**Задание 2**\n",
    "\n",
    "1. Запустите ipython notebook. Команда запуска может несколько отличаться от команды запуска в инструкции из видео. Например, команда может быть такой: ipython-2.7 notebook.\n",
    "2. Создайте новый файл типа .ipynb.\n",
    "3. Создайте новую ячейку. В ней импортируйте библиотеку numpy (`import numpy`) и выведите на экран версию библиотеки (`numpy.__version__`).\n",
    "4. Создайте новую ячейку. В ней импортируйте библиотеку scipy (`import scipy`) и выведите на экран версию библиотеки (`scipy.__version__`).\n",
    "5. Создайте новую ячейку. В ней импортируйте библиотеку pandas (`import pandas`) и выведите на экран версию библиотеки (`pandas.__version__`).\n",
    "6. Создайте новую ячейку. В ней импортируйте библиотеку matplotlib (`import matplotlib`) и выведите на экран версию библиотеки (`matplotlib.__version__`).\n",
    "Сделайте скриншот №1, на котором будет хорошо видно результаты вашей работы, и загрузите его в форму."
   ]
  },
  {
   "cell_type": "code",
   "execution_count": 1,
   "metadata": {},
   "outputs": [
    {
     "data": {
      "text/plain": [
       "'1.18.5'"
      ]
     },
     "execution_count": 1,
     "metadata": {},
     "output_type": "execute_result"
    }
   ],
   "source": [
    "import numpy\n",
    "numpy.__version__"
   ]
  },
  {
   "cell_type": "code",
   "execution_count": 2,
   "metadata": {},
   "outputs": [
    {
     "data": {
      "text/plain": [
       "'1.5.0'"
      ]
     },
     "execution_count": 2,
     "metadata": {},
     "output_type": "execute_result"
    }
   ],
   "source": [
    "import scipy\n",
    "scipy.__version__"
   ]
  },
  {
   "cell_type": "code",
   "execution_count": 3,
   "metadata": {},
   "outputs": [
    {
     "data": {
      "text/plain": [
       "'1.0.5'"
      ]
     },
     "execution_count": 3,
     "metadata": {},
     "output_type": "execute_result"
    }
   ],
   "source": [
    "import pandas\n",
    "pandas.__version__"
   ]
  },
  {
   "cell_type": "code",
   "execution_count": 4,
   "metadata": {},
   "outputs": [
    {
     "data": {
      "text/plain": [
       "'3.2.2'"
      ]
     },
     "execution_count": 4,
     "metadata": {},
     "output_type": "execute_result"
    }
   ],
   "source": [
    "import matplotlib\n",
    "matplotlib.__version__"
   ]
  },
  {
   "cell_type": "markdown",
   "metadata": {},
   "source": [
    "---\n",
    "**Задание 3**\n",
    "\n",
    "1. Запустите ipython notebook. Команда запуска может несколько отличаться от команды запуска в инструкции, например, команда может быть такой ipython-2.7 notebook.\n",
    "2. Создайте новый файл типа .ipynb.\n",
    "3. В файле создайте новую ячейку и измените её тип на Markdown.\n",
    "4. В первой строке созданной ячейки наберите название специализации “Машинное обучение и анализ данных” и сделайте эту строку заголовком уровня 1.\n",
    "5. В следующей строке созданной ячейки наберите название нашего курса “Математика и Python” и сделайте строку заголовком уровня 2.\n",
    "6. В третьей строке ячейки наберите текст \"Задание 1\".\n",
    "7. Запустите выполнение ячейки.\n",
    "8. Сделайте скриншот №2, на котором будет хорошо видно результаты вашей работы, и загрузите его в форму."
   ]
  },
  {
   "cell_type": "markdown",
   "metadata": {},
   "source": [
    "# Машинное обучение и анализ данных\n",
    "## Математика и Python\n",
    "Задание 1"
   ]
  }
 ],
 "metadata": {
  "kernelspec": {
   "display_name": "Python 3",
   "language": "python",
   "name": "python3"
  },
  "language_info": {
   "codemirror_mode": {
    "name": "ipython",
    "version": 3
   },
   "file_extension": ".py",
   "mimetype": "text/x-python",
   "name": "python",
   "nbconvert_exporter": "python",
   "pygments_lexer": "ipython3",
   "version": "3.8.3"
  }
 },
 "nbformat": 4,
 "nbformat_minor": 4
}
