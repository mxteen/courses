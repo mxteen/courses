{
 "cells": [
  {
   "cell_type": "markdown",
   "metadata": {},
   "source": [
    "## Доверительные интервалы для долей. Тест\n",
    "\n",
    "https://www.coursera.org/learn/stats-for-data-analysis/quiz/KLN2e/dovieritiel-nyie-intiervaly-dlia-doliei/attempt"
   ]
  },
  {
   "cell_type": "markdown",
   "metadata": {},
   "source": [
    "1. Выберите все формулы, задающие доверительный интервал для доли."
   ]
  },
  {
   "cell_type": "markdown",
   "metadata": {},
   "source": [
    "2. Большая часть млекопитающих неспособны во взрослом возрасте переваривать лактозу, содержащуюся в молоке. У людей за расщепление лактозы отвечает фермент лактаза, кодируемый геном LCT. У людей с вариантом 13910T этого гена лактаза продолжает функционировать на протяжении всей жизни. Распределение этого варианта гена сильно варьируется в различных генетических популяциях.\n",
    "\n",
    "    Из 50 исследованных представителей народа майя вариант 13910T был обнаружен у одного. Постройте нормальный 95% доверительный интервал для доли носителей варианта 13910T в популяции майя. Чему равна его нижняя граница? Округлите ответ до 4 знаков после десятичной точки."
   ]
  },
  {
   "cell_type": "code",
   "execution_count": 27,
   "metadata": {},
   "outputs": [],
   "source": [
    "from statsmodels.stats.proportion import proportion_confint, samplesize_confint_proportion"
   ]
  },
  {
   "cell_type": "markdown",
   "metadata": {},
   "source": [
    "`proportion_confint?`\n",
    "\n",
    "    Parameters\n",
    "    ----------\n",
    "    count : int or array_array_like\n",
    "        number of successes, can be pandas Series or DataFrame\n",
    "    nobs : int\n",
    "        total number of trials\n",
    "    alpha : float in (0, 1)\n",
    "        significance level, default 0.05\n",
    "    method : {'normal', 'agresti_coull', 'beta', 'wilson', 'binom_test'}\n",
    "        default: 'normal'\n",
    "        method to use for confidence interval,\n",
    "        currently available methods :\n",
    "\n",
    "         - `normal` : asymptotic normal approximation\n",
    "         - `agresti_coull` : Agresti-Coull interval\n",
    "         - `beta` : Clopper-Pearson interval based on Beta distribution\n",
    "         - `wilson` : Wilson Score interval\n",
    "         - `jeffreys` : Jeffreys Bayesian Interval\n",
    "         - `binom_test` : experimental, inversion of binom_test\n",
    "\n",
    "    Returns\n",
    "    -------\n",
    "    ci_low, ci_upp : float, ndarray, or pandas Series or DataFrame\n",
    "        lower and upper confidence level with coverage (approximately) 1-alpha.\n",
    "        When a pandas object is returned, then the index is taken from the\n",
    "        `count`.\n",
    "        \n",
    "        \n",
    "- `count` - количество успехов в выборке\n",
    "- `nobs` - количество событий, то есть размер выборки\n",
    "- ` method` - метод, с помощью которого мы хотим это оценивать"
   ]
  },
  {
   "cell_type": "code",
   "execution_count": 31,
   "metadata": {},
   "outputs": [
    {
     "data": {
      "text/plain": [
       "(0.0, 0.05880530708179099)"
      ]
     },
     "execution_count": 31,
     "metadata": {},
     "output_type": "execute_result"
    }
   ],
   "source": [
    "normal_interval = proportion_confint(count=1, nobs=50, alpha=0.05, method = 'normal')\n",
    "normal_interval"
   ]
  },
  {
   "cell_type": "code",
   "execution_count": 9,
   "metadata": {},
   "outputs": [
    {
     "data": {
      "text/plain": [
       "0.0"
      ]
     },
     "execution_count": 9,
     "metadata": {},
     "output_type": "execute_result"
    }
   ],
   "source": [
    "normal_interval[0]"
   ]
  },
  {
   "cell_type": "code",
   "execution_count": 48,
   "metadata": {},
   "outputs": [],
   "source": [
    "from scipy import stats\n",
    "\n",
    "def normal_proportion_confint(count, nobs, alpha=0.05):\n",
    "    count = np.asarray(count)\n",
    "    nobs = np.asarray(nobs)\n",
    "    q_ = count * 1. / nobs\n",
    "    alpha_2 = 0.5 * alpha\n",
    "    std_ = np.sqrt(q_ * (1 - q_) / nobs)\n",
    "    dist = stats.norm.isf(alpha / 2.) * std_\n",
    "    ci_low = q_ - dist\n",
    "    ci_upp = q_ + dist\n",
    "    return ci_low, ci_upp\n"
   ]
  },
  {
   "cell_type": "code",
   "execution_count": 52,
   "metadata": {},
   "outputs": [
    {
     "data": {
      "text/plain": [
       "(-0.018805307081790987, 0.05880530708179099)"
      ]
     },
     "execution_count": 52,
     "metadata": {},
     "output_type": "execute_result"
    }
   ],
   "source": [
    "normal_interval_2 = normal_proportion_confint(count=1, nobs=50, alpha=0.05)\n",
    "normal_interval_2"
   ]
  },
  {
   "cell_type": "code",
   "execution_count": 53,
   "metadata": {},
   "outputs": [
    {
     "data": {
      "text/plain": [
       "-0.0188"
      ]
     },
     "execution_count": 53,
     "metadata": {},
     "output_type": "execute_result"
    }
   ],
   "source": [
    "round(normal_interval_2[0], 4)"
   ]
  },
  {
   "cell_type": "markdown",
   "metadata": {},
   "source": [
    "3. В условиях предыдущей задачи постройте 95% доверительный интервал Уилсона для доли носителей варианта 13910T в популяции майя. Чему равна его нижняя граница? Округлите ответ до 4 знаков после десятичной точки.  "
   ]
  },
  {
   "cell_type": "code",
   "execution_count": 10,
   "metadata": {},
   "outputs": [],
   "source": [
    "normal_interval_wilson = proportion_confint(count=1, nobs=50, alpha=0.05, method = 'wilson')"
   ]
  },
  {
   "cell_type": "code",
   "execution_count": 11,
   "metadata": {},
   "outputs": [
    {
     "data": {
      "text/plain": [
       "(0.003539259271646236, 0.10495443589637815)"
      ]
     },
     "execution_count": 11,
     "metadata": {},
     "output_type": "execute_result"
    }
   ],
   "source": [
    "normal_interval_wilson"
   ]
  },
  {
   "cell_type": "code",
   "execution_count": 12,
   "metadata": {},
   "outputs": [
    {
     "data": {
      "text/plain": [
       "0.0035"
      ]
     },
     "execution_count": 12,
     "metadata": {},
     "output_type": "execute_result"
    }
   ],
   "source": [
    "round(normal_interval_wilson[0], 4)"
   ]
  },
  {
   "cell_type": "markdown",
   "metadata": {},
   "source": [
    "5. Пусть в популяции майя действительно 2% носителей варианта 13910T, как в выборке, которую мы исследовали. Какой объём выборки нужен, чтобы с помощью нормального интервала оценить долю носителей гена 13910T с точностью ±0.01 на уровне доверия 95%?"
   ]
  },
  {
   "cell_type": "markdown",
   "metadata": {},
   "source": [
    "`samplesize_confint_proportion?`\n",
    "\n",
    "    Parameters\n",
    "    ----------\n",
    "    proportion : float in (0, 1)\n",
    "        proportion or quantile\n",
    "    half_length : float in (0, 1)\n",
    "        desired half length of the confidence interval\n",
    "    alpha : float in (0, 1)\n",
    "        significance level, default 0.05,\n",
    "        coverage of the two-sided interval is (approximately) ``1 - alpha``\n",
    "    method : str in ['normal']\n",
    "        method to use for confidence interval,\n",
    "        currently only normal approximation\n",
    "\n",
    "    Returns\n",
    "    -------\n",
    "    n : float\n",
    "        sample size to get the desired half length of the confidence interval\n",
    "        \n",
    "        \n",
    "        \n",
    "- `proportion` - выборочное среднее\n",
    "- "
   ]
  },
  {
   "cell_type": "code",
   "execution_count": 91,
   "metadata": {},
   "outputs": [
    {
     "name": "stdout",
     "output_type": "stream",
     "text": [
      "752.9259288560489\n",
      "753\n"
     ]
    }
   ],
   "source": [
    "n_samples = samplesize_confint_proportion(proportion=1/50,\n",
    "                                          half_length=0.01,\n",
    "                                          alpha=0.05)\n",
    "print(n_samples)\n",
    "print(int(round(n_samples, 0)))"
   ]
  },
  {
   "cell_type": "code",
   "execution_count": 90,
   "metadata": {},
   "outputs": [
    {
     "data": {
      "text/plain": [
       "0.01995994925474251"
      ]
     },
     "execution_count": 90,
     "metadata": {},
     "output_type": "execute_result"
    }
   ],
   "source": [
    "# Проверка\n",
    "interval = normal_proportion_confint(count=int(753*0.02), nobs=753, alpha=0.05)\n",
    "interval[1] - interval[0]"
   ]
  },
  {
   "cell_type": "markdown",
   "metadata": {},
   "source": [
    "6. Постройте график зависимости объёма выборки, необходимого для оценки для доли носителей гена 13910T с точностью ±0.01 на уровне доверия 95%, от неизвестного параметра _**p**_. Посмотрите, при каком значении _**p**_ нужно больше всего испытуемых. Как вы думаете, насколько вероятно, что выборка, которую мы анализируем, взята из случайной величины с этим значением параметра?\n",
    "\n",
    "    Как бы вы не ответили на последний вопрос, рассмотреть объём выборки, необходимый при таком _**p**_ , всё равно полезно — это даёт максимально пессимистичную оценку необходимого объёма выборки.\n",
    "\n",
    "    Какой объём выборки нужен в худшем случае, чтобы с помощью нормального интервала оценить долю носителей гена 13910T с точностью ±0.01 на уровне доверия 95%?  "
   ]
  },
  {
   "cell_type": "code",
   "execution_count": 92,
   "metadata": {},
   "outputs": [],
   "source": [
    "import matplotlib.pyplot as plt"
   ]
  },
  {
   "cell_type": "code",
   "execution_count": 93,
   "metadata": {},
   "outputs": [],
   "source": [
    "proprtions = np.arange(0, 1, 0.01)\n",
    "sample_sizes = []"
   ]
  },
  {
   "cell_type": "code",
   "execution_count": 94,
   "metadata": {},
   "outputs": [],
   "source": [
    "for p in proprtions:\n",
    "    sample_sizes.append(samplesize_confint_proportion(p, 0.01))"
   ]
  },
  {
   "cell_type": "code",
   "execution_count": 95,
   "metadata": {},
   "outputs": [
    {
     "data": {
      "image/png": "[encoded data removed]",
      "text/plain": [
       "<Figure size 432x288 with 1 Axes>"
      ]
     },
     "metadata": {
      "needs_background": "light"
     },
     "output_type": "display_data"
    }
   ],
   "source": [
    "plt.plot(proprtions, sample_sizes)\n",
    "plt.show()"
   ]
  },
  {
   "cell_type": "code",
   "execution_count": 96,
   "metadata": {},
   "outputs": [
    {
     "data": {
      "text/plain": [
       "9603.647051735317"
      ]
     },
     "execution_count": 96,
     "metadata": {},
     "output_type": "execute_result"
    }
   ],
   "source": [
    "samplesize_confint_proportion(0.5, 0.01)"
   ]
  },
  {
   "cell_type": "code",
   "execution_count": null,
   "metadata": {},
   "outputs": [],
   "source": []
  }
 ],
 "metadata": {
  "kernelspec": {
   "display_name": "Python 3",
   "language": "python",
   "name": "python3"
  },
  "language_info": {
   "codemirror_mode": {
    "name": "ipython",
    "version": 3
   },
   "file_extension": ".py",
   "mimetype": "text/x-python",
   "name": "python",
   "nbconvert_exporter": "python",
   "pygments_lexer": "ipython3",
   "version": "3.8.3"
  }
 },
 "nbformat": 4,
 "nbformat_minor": 4
}
