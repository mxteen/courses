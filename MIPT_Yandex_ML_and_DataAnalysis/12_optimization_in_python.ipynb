{
 "cells": [
  {
   "cell_type": "markdown",
   "metadata": {},
   "source": [
    "# Оптимизация в Python: глобальная оптимизация и оптимизация негладкой функции\n",
    "\n",
    "\n",
    "Данное задание основано на материалах секции, посвященной оптимизационным задачам и методам их решения. Вам понадобится компьютер с установленным интерпретатором Python и подключенными библиотеками NumPy, SciPy и Matplotlib.\n",
    "\n",
    "Вы научитесь:\n",
    "- применять библиотеку SciPy для минимизации функций;\n",
    "- делать выбор между градиентными и неградиентными методами оптимизации, исходя из особенностей задачи и ваших пожеланий к итоговому решению\n",
    "\n",
    "\n",
    "## Введение\n",
    "В этом задании вы **научитесь решать задачи оптимизации с помощью библиотеки SciPy**. Сначала вы решите задачу поиска минимума функции с помощью одного из градиентных методов оптимизации, затем увидите отличия в работе градиентного метода и одного из методов глобальной оптимизации, а в заключение – найдете глобальный минимум негладкой функции, т.е. функции, у которой не всегда определен градиент.\n",
    "\n",
    "**Понимание задачи глобальной оптимизации и отличий градиентных методов, от методов, не использующих градиент, очень полезно в задачах анализа данных, в частности, для подбора параметров алгоритмов.**\n",
    "\n",
    "## Материалы\n",
    "Справка по функциям пакета `scipy.optimize`:\n",
    "- http://docs.scipy.org/doc/scipy/reference/optimize.html \n",
    "- Matplotlib User Guide: http://matplotlib.org/users/index.html \n",
    "\n",
    "## Инструкция по выполнению\n",
    "Данное **задание состоит из трех частей. В каждой ответом будет набор чисел, который вам нужно будет набрать через пробел в текстовом файле и загрузить. Десятичные дроби записывайте через точку**.\n",
    "\n",
    "---"
   ]
  },
  {
   "cell_type": "code",
   "execution_count": 16,
   "metadata": {},
   "outputs": [],
   "source": [
    "from scipy.optimize import minimize\n",
    "import numpy as np\n",
    "import matplotlib.pyplot as plt\n",
    "from math import sin, exp"
   ]
  },
  {
   "cell_type": "markdown",
   "metadata": {},
   "source": [
    "### Задача 1. Минимизация гладкой функции\n",
    "Рассмотрим все ту же функцию из задания по линейной алгебре: f(x) = sin(x / 5) * exp(x / 10) + 5 * exp(-x / 2), но теперь уже на промежутке [1, 30]\n",
    "\n",
    "В первом задании будем искать минимум этой функции на заданном промежутке с помощью `scipy.optimize`. Разумеется, в дальнейшем вы будете использовать методы оптимизации для более сложных функций, а f(x) мы рассмотрим как удобный учебный пример.\n",
    "\n",
    "1. Напишите на Питоне функцию, вычисляющую значение f(x) по известному x. Будьте внимательны: не забывайте про то, что функции `sin` и `exp` нужно импортировать из модуля `math`.\n",
    "2. Изучите примеры использования  `scipy.optimize.minimize` [в документации Scipy](https://docs.scipy.org/doc/scipy/reference/generated/scipy.optimize.minimize.html#scipy.optimize.minimize) (см. \"Материалы\")\n",
    "3. Попробуйте найти минимум, используя стандартные параметры в функции  `scipy.optimize.minimize` (т.е. задав только функцию и начальное приближение). Попробуйте менять начальное приближение и изучить, меняется ли результат. \n",
    "4. Укажите в `scipy.optimize.minimize` в качестве метода [BFGS](https://en.wikipedia.org/wiki/Broyden%E2%80%93Fletcher%E2%80%93Goldfarb%E2%80%93Shanno_algorithm) (один из самых точных в большинстве случаев градиентных методов оптимизации), запустите из начального приближения x=2. Градиент функции при этом указывать не нужно – он будет оценен численно. **Полученное значение функции в точке минимума - ваш первый ответ по заданию 1, его надо записать с точностью до 2 знака после запятой.**\n",
    "5. **Теперь измените начальное приближение на x=30. Значение функции в точке минимума - ваш второй ответ по заданию 1, его надо записать через пробел после первого, с точностью до 2 знака после запятой**.\n",
    "6. Стоит обдумать полученный результат. Почему ответ отличается в зависимости от начального приближения? Если нарисовать график функции (например, как это делалось в видео, где мы знакомились с Numpy, Scipy и Matplotlib), можно увидеть, в какие именно минимумы мы попали. В самом деле, градиентные методы обычно не решают задачу глобальной оптимизации, поэтому результаты работы ожидаемые и вполне корректные."
   ]
  },
  {
   "cell_type": "code",
   "execution_count": 36,
   "metadata": {},
   "outputs": [
    {
     "data": {
      "image/png": "[encoded data removed]",
      "text/plain": [
       "<Figure size 432x288 with 1 Axes>"
      ]
     },
     "metadata": {
      "needs_background": "light"
     },
     "output_type": "display_data"
    }
   ],
   "source": [
    "x = np.arange(1, 30.05, 0.05)\n",
    "fx = lambda x: sin(x / 5) * exp(x / 10) + 5 * exp(-x / 2)  # функция, вычисляющуя значение f(x) по известному x\n",
    "\n",
    "plt.plot(x, [fx(xi) for xi in x])\n",
    "plt.show()"
   ]
  },
  {
   "cell_type": "code",
   "execution_count": 43,
   "metadata": {
    "scrolled": true
   },
   "outputs": [
    {
     "name": "stdout",
     "output_type": "stream",
     "text": [
      "[4.13623333]\n",
      "1.7452682905857713\n",
      "--------------------\n",
      "[4.13630023]\n",
      "1.7452682903429801\n",
      "--------------------\n",
      "[24.67766111]\n",
      "-11.503580766270698\n",
      "--------------------\n",
      "[25.88019333]\n",
      "-11.898894665981295\n",
      "--------------------\n"
     ]
    }
   ],
   "source": [
    "# Попробуйте найти минимум, используя стандартные параметры в функции scipy.optimize.minimize \n",
    "# (т.е. задав только функцию и начальное приближение). \n",
    "# Попробуйте менять начальное приближение и изучить, меняется ли результат.\n",
    "\n",
    "for x_0 in [3, 10, 15, 28]:\n",
    "    res = minimize(fun=fx, x0=x_0)\n",
    "    print(res.x, res.fun, '-'*20, sep='\\n')"
   ]
  },
  {
   "cell_type": "markdown",
   "metadata": {},
   "source": [
    "В первых двух результатом оптимизации является локальный минимум 1.75, во втором случае \"*глобальный*\" минимум - -11.9. Видимо, по умолчанию используется градинентный метод поиска минимума."
   ]
  },
  {
   "cell_type": "code",
   "execution_count": 56,
   "metadata": {},
   "outputs": [
    {
     "name": "stdout",
     "output_type": "stream",
     "text": [
      "Ответ: 1.75\n"
     ]
    },
    {
     "data": {
      "text/plain": [
       "      fun: 1.7452682903447336\n",
       " hess_inv: array([[5.98752645]])\n",
       "      jac: array([-2.04145908e-06])\n",
       "  message: 'Optimization terminated successfully.'\n",
       "     nfev: 14\n",
       "      nit: 6\n",
       "     njev: 7\n",
       "   status: 0\n",
       "  success: True\n",
       "        x: array([4.13627628])"
      ]
     },
     "execution_count": 56,
     "metadata": {},
     "output_type": "execute_result"
    }
   ],
   "source": [
    "# Укажите в качестве метода BFGS, запустите из начального приближения x=2. \n",
    "# Полученное значение функции в точке минимума - ваш первый ответ по заданию 1,\n",
    "# его надо записать с точностью до 2 знака после запятой.\n",
    "\n",
    "res = minimize(fun=fx, x0=2, method='BFGS')\n",
    "print('Ответ:', round(res.fun, 2))\n",
    "res"
   ]
  },
  {
   "cell_type": "code",
   "execution_count": 57,
   "metadata": {},
   "outputs": [
    {
     "name": "stdout",
     "output_type": "stream",
     "text": [
      "Ответ: -11.9\n"
     ]
    },
    {
     "data": {
      "text/plain": [
       "      fun: -11.898894665981313\n",
       " hess_inv: array([[1.67936744]])\n",
       "      jac: array([0.])\n",
       "  message: 'Optimization terminated successfully.'\n",
       "     nfev: 14\n",
       "      nit: 6\n",
       "     njev: 7\n",
       "   status: 0\n",
       "  success: True\n",
       "        x: array([25.88019321])"
      ]
     },
     "execution_count": 57,
     "metadata": {},
     "output_type": "execute_result"
    }
   ],
   "source": [
    "# Теперь измените начальное приближение на x=30. \n",
    "# Значение функции в точке минимума - ваш второй ответ по заданию 1, \n",
    "# его надо записать через пробел после первого, с точностью до 2 знака после запятой.\n",
    "\n",
    "res = minimize(fun=fx, x0=30, method='BFGS')\n",
    "print('Ответ:', round(res.fun, 2))\n",
    "res"
   ]
  },
  {
   "cell_type": "markdown",
   "metadata": {},
   "source": [
    "### Задача 2. Глобальная оптимизация\n",
    "Теперь попробуем применить к той же функции f(x) метод глобальной оптимизации — дифференциальную эволюцию.\n",
    "\n",
    "1. Изучите документацию и примеры использования функции `scipy.optimize.differential_evolution`([см. ссылку](https://docs.scipy.org/doc/scipy/reference/generated/scipy.optimize.differential_evolution.html)). Обратите внимание, что **границы значений аргументов функции представляют собой список кортежей (list, в который помещены объекты типа tuple)**. Даже если у вас функция одного аргумента, возьмите границы его значений в квадратные скобки, чтобы передавать в этом параметре список из одного кортежа, т.к. в реализации scipy.optimize.differential_evolution длина этого списка используется чтобы определить количество аргументов функции.\n",
    "2. Запустите поиск минимума функции f(x) с помощью дифференциальной эволюции на промежутке [1, 30]. **Полученное значение функции в точке минимума - ответ в задаче 2. Запишите его с точностью до второго знака после запятой. В этой задаче ответ - только одно число**. Заметьте, дифференциальная эволюция справилась с задачей поиска глобального минимума на отрезке, т.к. по своему устройству она предполагает борьбу с попаданием в локальные минимумы.\n",
    "3. Сравните количество итераций, потребовавшихся BFGS для нахождения минимума при хорошем начальном приближении, с количеством итераций, потребовавшихся дифференциальной эволюции. При повторных запусках дифференциальной эволюции количество итераций будет меняться, но в этом примере, скорее всего, оно всегда будет сравнимым с количеством итераций BFGS. Однако в дифференциальной эволюции за одну итерацию требуется выполнить гораздо больше действий, чем в BFGS. Например, можно обратить внимание на количество вычислений значения функции (`nfev`) и увидеть, что у BFGS оно значительно меньше. Кроме того, **время работы дифференциальной эволюции очень быстро растет с увеличением числа аргументов функции**.\n",
    "\n",
    "\n"
   ]
  },
  {
   "cell_type": "code",
   "execution_count": 48,
   "metadata": {},
   "outputs": [],
   "source": [
    "from scipy.optimize import differential_evolution"
   ]
  },
  {
   "cell_type": "code",
   "execution_count": 58,
   "metadata": {},
   "outputs": [
    {
     "name": "stdout",
     "output_type": "stream",
     "text": [
      "[25.88019406] -11.898894665981006\n",
      "Ответ: -11.9\n"
     ]
    },
    {
     "data": {
      "text/plain": [
       "     fun: -11.898894665981006\n",
       "     jac: array([5.32907008e-07])\n",
       " message: 'Optimization terminated successfully.'\n",
       "    nfev: 81\n",
       "     nit: 4\n",
       " success: True\n",
       "       x: array([25.88019406])"
      ]
     },
     "execution_count": 58,
     "metadata": {},
     "output_type": "execute_result"
    }
   ],
   "source": [
    "bounds = [(1, 30)]\n",
    "result = differential_evolution(fx, bounds)\n",
    "print(result.x, result.fun)\n",
    "print('Ответ:', round(result.fun, 2))\n",
    "result"
   ]
  },
  {
   "cell_type": "markdown",
   "metadata": {},
   "source": [
    "### Задача 3. Минимизация негладкой функции\n",
    "Теперь рассмотрим функцию h(x) = int(f(x)) на том же отрезке [1, 30], т.е. теперь каждое значение f(x) приводится к типу int и функция принимает только целые значения.\n",
    "Такая функция будет негладкой и даже разрывной, а ее график будет иметь ступенчатый вид. Убедитесь в этом, построив график h(x) с помощью `matplotlib`.\n",
    "\n",
    "1. Попробуйте найти минимум функции h(x) с помощью BFGS, взяв в качестве начального приближения x=30. Получившееся значение функции – ваш первый ответ в этой задаче.\n",
    "2. Теперь попробуйте найти минимум h(x) на отрезке [1, 30] с помощью дифференциальной эволюции. Значение функции h(x) в точке минимума – это ваш второй ответ в этом задании. Запишите его через пробел после предыдущего.\n",
    "\n",
    "\n",
    "Обратите внимание на то, что полученные ответы различаются. Это ожидаемый результат, ведь BFGS использует градиент (в одномерном случае – производную) и явно не пригоден для минимизации рассмотренной нами разрывной функции. Попробуйте понять, почему минимум, найденный BFGS, именно такой (возможно в этом вам поможет выбор разных начальных приближений).\n",
    "\n",
    "\n",
    "Выполнив это задание, вы увидели на практике, чем поиск минимума функции отличается от глобальной оптимизации, и когда может быть полезно применить вместо градиентного метода оптимизации метод, не использующий градиент. Кроме того, вы попрактиковались в использовании библиотеки SciPy для решения оптимизационных задач, и теперь знаете, насколько это просто и удобно."
   ]
  },
  {
   "cell_type": "code",
   "execution_count": 64,
   "metadata": {},
   "outputs": [
    {
     "data": {
      "image/png": "[encoded data removed]",
      "text/plain": [
       "<Figure size 432x288 with 1 Axes>"
      ]
     },
     "metadata": {
      "needs_background": "light"
     },
     "output_type": "display_data"
    }
   ],
   "source": [
    "hx = lambda x: int(sin(x / 5) * exp(x / 10) + 5 * exp(-x / 2))\n",
    "plt.plot(x, [hx(xi) for xi in x])\n",
    "plt.show()"
   ]
  },
  {
   "cell_type": "code",
   "execution_count": 68,
   "metadata": {},
   "outputs": [
    {
     "name": "stdout",
     "output_type": "stream",
     "text": [
      "Ответ: -5\n"
     ]
    },
    {
     "data": {
      "text/plain": [
       "      fun: -5\n",
       " hess_inv: array([[1]])\n",
       "      jac: array([0.])\n",
       "  message: 'Optimization terminated successfully.'\n",
       "     nfev: 2\n",
       "      nit: 0\n",
       "     njev: 1\n",
       "   status: 0\n",
       "  success: True\n",
       "        x: array([30.])"
      ]
     },
     "execution_count": 68,
     "metadata": {},
     "output_type": "execute_result"
    }
   ],
   "source": [
    "# Попробуйте найти минимум функции h(x) с помощью BFGS, взяв в качестве начального приближения x=30. \n",
    "# Получившееся значение функции – ваш первый ответ в этой задаче.\n",
    "\n",
    "res = minimize(fun=hx, x0=30, method='BFGS')\n",
    "print('Ответ:', round(res.fun, 2))\n",
    "res"
   ]
  },
  {
   "cell_type": "code",
   "execution_count": 69,
   "metadata": {},
   "outputs": [
    {
     "name": "stdout",
     "output_type": "stream",
     "text": [
      "[24.9382602] -11.0\n",
      "Ответ: -11.0\n"
     ]
    },
    {
     "data": {
      "text/plain": [
       "     fun: -11.0\n",
       " message: 'Optimization terminated successfully.'\n",
       "    nfev: 77\n",
       "     nit: 4\n",
       " success: True\n",
       "       x: array([24.9382602])"
      ]
     },
     "execution_count": 69,
     "metadata": {},
     "output_type": "execute_result"
    }
   ],
   "source": [
    "# Теперь попробуйте найти минимум h(x) на отрезке [1, 30] с помощью дифференциальной эволюции. \n",
    "# Значение функции h(x) в точке минимума – это ваш второй ответ в этом задании.\n",
    "# Запишите его через пробел после предыдущего.\n",
    "\n",
    "bounds = [(1, 30)]\n",
    "result = differential_evolution(hx, bounds)\n",
    "print(result.x, result.fun)\n",
    "print('Ответ:', result.fun)\n",
    "result"
   ]
  },
  {
   "cell_type": "code",
   "execution_count": null,
   "metadata": {},
   "outputs": [],
   "source": []
  }
 ],
 "metadata": {
  "kernelspec": {
   "display_name": "Python 3",
   "language": "python",
   "name": "python3"
  },
  "language_info": {
   "codemirror_mode": {
    "name": "ipython",
    "version": 3
   },
   "file_extension": ".py",
   "mimetype": "text/x-python",
   "name": "python",
   "nbconvert_exporter": "python",
   "pygments_lexer": "ipython3",
   "version": "3.8.3"
  }
 },
 "nbformat": 4,
 "nbformat_minor": 4
}
