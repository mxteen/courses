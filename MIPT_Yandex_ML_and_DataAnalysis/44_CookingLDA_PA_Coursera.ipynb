{
 "cells": [
  {
   "cell_type": "markdown",
   "metadata": {},
   "source": [
    "# Programming Assignment: \n",
    "## Готовим LDA по рецептам"
   ]
  },
  {
   "cell_type": "markdown",
   "metadata": {},
   "source": [
    "Как вы уже знаете, в тематическом моделировании делается предположение о том, что для определения тематики порядок слов в документе не важен; об этом гласит гипотеза «мешка слов». Сегодня мы будем работать с несколько нестандартной для тематического моделирования коллекцией, которую можно назвать «мешком ингредиентов», потому что она состоит из рецептов блюд разных кухонь. Тематические модели ищут слова, которые часто вместе встречаются в документах, и составляют из них темы. Мы попробуем применить эту идею к рецептам и найти кулинарные «темы». Эта коллекция хороша тем, что не требует предобработки. Кроме того, эта задача достаточно наглядно иллюстрирует принцип работы тематических моделей.\n",
    "\n",
    "Для выполнения заданий, помимо часто используемых в курсе библиотек, потребуются модули *json* и *gensim*. Первый входит в дистрибутив Anaconda, второй можно поставить командой \n",
    "\n",
    "*pip install gensim*\n",
    "\n",
    "Построение модели занимает некоторое время. На ноутбуке с процессором Intel Core i7 и тактовой частотой 2400 МГц на построение одной модели уходит менее 10 минут."
   ]
  },
  {
   "cell_type": "markdown",
   "metadata": {},
   "source": [
    "### Загрузка данных"
   ]
  },
  {
   "cell_type": "markdown",
   "metadata": {},
   "source": [
    "Коллекция дана в json-формате: для каждого рецепта известны его id, кухня (cuisine) и список ингредиентов, в него входящих. Загрузить данные можно с помощью модуля json (он входит в дистрибутив Anaconda):"
   ]
  },
  {
   "cell_type": "code",
   "execution_count": 6,
   "metadata": {},
   "outputs": [],
   "source": [
    "import json"
   ]
  },
  {
   "cell_type": "code",
   "execution_count": 7,
   "metadata": {},
   "outputs": [],
   "source": [
    "with open(\"recipes.json\") as f:\n",
    "    recipes = json.load(f)"
   ]
  },
  {
   "cell_type": "code",
   "execution_count": 8,
   "metadata": {},
   "outputs": [
    {
     "name": "stdout",
     "output_type": "stream",
     "text": [
      "{'id': 10259, 'cuisine': 'greek', 'ingredients': ['romaine lettuce', 'black olives', 'grape tomatoes', 'garlic', 'pepper', 'purple onion', 'seasoning', 'garbanzo beans', 'feta cheese crumbles']}\n"
     ]
    }
   ],
   "source": [
    "print(recipes[0])"
   ]
  },
  {
   "cell_type": "code",
   "execution_count": 10,
   "metadata": {},
   "outputs": [
    {
     "name": "stdout",
     "output_type": "stream",
     "text": [
      "{'id': 25693, 'cuisine': 'southern_us', 'ingredients': ['plain flour', 'ground pepper', 'salt', 'tomatoes', 'ground black pepper', 'thyme', 'eggs', 'green tomatoes', 'yellow corn meal', 'milk', 'vegetable oil']}\n"
     ]
    }
   ],
   "source": [
    "print(recipes[1])"
   ]
  },
  {
   "cell_type": "markdown",
   "metadata": {},
   "source": [
    "### Составление корпуса"
   ]
  },
  {
   "cell_type": "code",
   "execution_count": 11,
   "metadata": {},
   "outputs": [],
   "source": [
    "from gensim import corpora, models\n",
    "import numpy as np"
   ]
  },
  {
   "cell_type": "markdown",
   "metadata": {},
   "source": [
    "Наша коллекция небольшая, и целиком помещается в оперативную память. Gensim может работать с такими данными и не требует их сохранения на диск в специальном формате. Для этого коллекция должна быть представлена в виде списка списков, каждый внутренний список соответствует отдельному документу и состоит из его слов. Пример коллекции из двух документов: \n",
    "\n",
    "[[\"hello\", \"world\"], [\"programming\", \"in\", \"python\"]]\n",
    "\n",
    "Преобразуем наши данные в такой формат, а затем создадим объекты corpus и dictionary, с которыми будет работать модель."
   ]
  },
  {
   "cell_type": "code",
   "execution_count": 12,
   "metadata": {},
   "outputs": [],
   "source": [
    "texts = [recipe[\"ingredients\"] for recipe in recipes]\n",
    "dictionary = corpora.Dictionary(texts)   # составляем словарь\n",
    "corpus = [dictionary.doc2bow(text) for text in texts]  # составляем корпус документов"
   ]
  },
  {
   "cell_type": "code",
   "execution_count": 13,
   "metadata": {},
   "outputs": [
    {
     "name": "stdout",
     "output_type": "stream",
     "text": [
      "['romaine lettuce', 'black olives', 'grape tomatoes', 'garlic', 'pepper', 'purple onion', 'seasoning', 'garbanzo beans', 'feta cheese crumbles']\n",
      "[(0, 1), (1, 1), (2, 1), (3, 1), (4, 1), (5, 1), (6, 1), (7, 1), (8, 1)]\n"
     ]
    }
   ],
   "source": [
    "print(texts[0])\n",
    "print(corpus[0])"
   ]
  },
  {
   "cell_type": "markdown",
   "metadata": {},
   "source": [
    "У объекта dictionary есть полезная переменная dictionary.token2id, позволяющая находить соответствие между ингредиентами и их индексами."
   ]
  },
  {
   "cell_type": "markdown",
   "metadata": {},
   "source": [
    "### Обучение модели\n",
    "Вам может понадобиться [документация](https://radimrehurek.com/gensim/models/ldamodel.html) LDA в gensim."
   ]
  },
  {
   "cell_type": "markdown",
   "metadata": {},
   "source": [
    "__Задание 1.__ Обучите модель LDA с 40 темами, установив количество проходов по коллекции 5 и оставив остальные параметры по умолчанию. \n",
    "\n",
    "\n",
    "Затем вызовите метод модели *show_topics*, указав количество тем 40 и количество токенов 10, и сохраните результат (топы ингредиентов в темах) в отдельную переменную. Если при вызове метода *show_topics* указать параметр *formatted=True*, то топы ингредиентов будет удобно выводить на печать, если *formatted=False*, будет удобно работать со списком программно. Выведите топы на печать, рассмотрите темы, а затем ответьте на вопрос:\n",
    "\n",
    "Сколько раз ингредиенты \"salt\", \"sugar\", \"water\", \"mushrooms\", \"chicken\", \"eggs\" встретились среди топов-10 всех 40 тем? При ответе __не нужно__ учитывать составные ингредиенты, например, \"hot water\".\n",
    "\n",
    "Передайте 6 чисел в функцию save_answers1 и загрузите сгенерированный файл в форму.\n",
    "\n",
    "У gensim нет возможности фиксировать случайное приближение через параметры метода, но библиотека использует numpy для инициализации матриц. Поэтому, по утверждению автора библиотеки, фиксировать случайное приближение нужно командой, которая написана в следующей ячейке. __Перед строкой кода с построением модели обязательно вставляйте указанную строку фиксации random.seed.__"
   ]
  },
  {
   "cell_type": "code",
   "execution_count": 14,
   "metadata": {},
   "outputs": [
    {
     "name": "stdout",
     "output_type": "stream",
     "text": [
      "Wall time: 46.4 s\n"
     ]
    }
   ],
   "source": [
    "%%time\n",
    "np.random.seed(76543)\n",
    "# здесь код для построения модели:\n",
    "\n",
    "ldamodel = models.ldamodel.LdaModel(corpus, num_topics=40, id2word=dictionary, passes=5)"
   ]
  },
  {
   "cell_type": "code",
   "execution_count": 20,
   "metadata": {},
   "outputs": [
    {
     "data": {
      "text/plain": [
       "[(0,\n",
       "  [('chopped onion', 0.10569154),\n",
       "   ('garlic cloves', 0.08284326),\n",
       "   ('salt', 0.06400621),\n",
       "   ('fat free less sodium chicken broth', 0.054474697),\n",
       "   ('sliced green onions', 0.047655907),\n",
       "   ('cooking spray', 0.047214273),\n",
       "   ('ground red pepper', 0.04456691),\n",
       "   ('water', 0.044441752),\n",
       "   ('spinach', 0.037799563),\n",
       "   ('black pepper', 0.03055882)]),\n",
       " (1,\n",
       "  [('corn kernels', 0.10128137),\n",
       "   ('diced onions', 0.08614667),\n",
       "   ('tortillas', 0.07212572),\n",
       "   ('vegetable stock', 0.06629656),\n",
       "   ('chopped fresh chives', 0.04968531),\n",
       "   ('sliced black olives', 0.0493395),\n",
       "   ('cream cheese, soften', 0.047882482),\n",
       "   ('lard', 0.0434441),\n",
       "   ('jack cheese', 0.034460742),\n",
       "   ('canned black beans', 0.024289647)]),\n",
       " (2,\n",
       "  [('olive oil', 0.08645431),\n",
       "   ('crushed red pepper', 0.059762303),\n",
       "   ('fresh parsley', 0.05601106),\n",
       "   ('garlic cloves', 0.041584205),\n",
       "   ('grated parmesan cheese', 0.039379667),\n",
       "   ('cherry tomatoes', 0.035290517),\n",
       "   ('butter', 0.035038475),\n",
       "   ('salt', 0.035013787),\n",
       "   ('low salt chicken broth', 0.033889152),\n",
       "   ('fresh rosemary', 0.032000516)]),\n",
       " (3,\n",
       "  [('bacon', 0.073984854),\n",
       "   ('salt', 0.07025094),\n",
       "   ('red pepper flakes', 0.06095961),\n",
       "   ('onions', 0.054115213),\n",
       "   ('garlic', 0.051005095),\n",
       "   ('ground black pepper', 0.048803665),\n",
       "   ('mushrooms', 0.04366697),\n",
       "   ('chicken thighs', 0.042736195),\n",
       "   ('pasta', 0.041792024),\n",
       "   ('olive oil', 0.03388792)]),\n",
       " (4,\n",
       "  [('cooking spray', 0.09072856),\n",
       "   ('salt', 0.06682243),\n",
       "   ('powdered sugar', 0.06124647),\n",
       "   ('large egg whites', 0.054811765),\n",
       "   ('all-purpose flour', 0.05438705),\n",
       "   ('sugar', 0.05082448),\n",
       "   ('large eggs', 0.048777036),\n",
       "   ('cream cheese', 0.044797335),\n",
       "   ('yellow corn meal', 0.043989856),\n",
       "   ('butter', 0.041739486)]),\n",
       " (5,\n",
       "  [('large garlic cloves', 0.09283335),\n",
       "   ('shallots', 0.09197004),\n",
       "   ('dry white wine', 0.07502553),\n",
       "   ('olive oil', 0.055820107),\n",
       "   ('finely chopped onion', 0.044889756),\n",
       "   ('unsalted butter', 0.0334413),\n",
       "   ('salt', 0.032628857),\n",
       "   ('white wine vinegar', 0.031927638),\n",
       "   ('arborio rice', 0.030535035),\n",
       "   ('saffron threads', 0.02661435)]),\n",
       " (6,\n",
       "  [('fresh thyme', 0.078457214),\n",
       "   ('dry red wine', 0.07752643),\n",
       "   ('pork tenderloin', 0.052753802),\n",
       "   ('reduced sodium soy sauce', 0.047035594),\n",
       "   ('cilantro sprigs', 0.046501275),\n",
       "   ('beef broth', 0.04123476),\n",
       "   ('peppercorns', 0.036359247),\n",
       "   ('cremini mushrooms', 0.03223705),\n",
       "   ('rosemary', 0.023047315),\n",
       "   ('daikon', 0.022711517)]),\n",
       " (7,\n",
       "  [('soy sauce', 0.09196267),\n",
       "   ('sesame oil', 0.051435944),\n",
       "   ('scallions', 0.04339177),\n",
       "   ('green onions', 0.04236651),\n",
       "   ('rice vinegar', 0.04100772),\n",
       "   ('sugar', 0.0394943),\n",
       "   ('corn starch', 0.03653211),\n",
       "   ('garlic', 0.035275135),\n",
       "   ('vegetable oil', 0.033564173),\n",
       "   ('fresh ginger', 0.027077844)]),\n",
       " (8,\n",
       "  [('garlic powder', 0.17500643),\n",
       "   ('cayenne pepper', 0.12394076),\n",
       "   ('onion powder', 0.06565718),\n",
       "   ('ground black pepper', 0.046010368),\n",
       "   ('smoked paprika', 0.04356644),\n",
       "   ('black pepper', 0.04084126),\n",
       "   ('pinenuts', 0.040080592),\n",
       "   ('salt', 0.038096216),\n",
       "   ('fresh spinach', 0.025765384),\n",
       "   ('dried oregano', 0.025543682)]),\n",
       " (9,\n",
       "  [('extra-virgin olive oil', 0.11438673),\n",
       "   ('garlic cloves', 0.06714365),\n",
       "   ('fresh lemon juice', 0.06174587),\n",
       "   ('salt', 0.05565317),\n",
       "   ('olive oil', 0.052520968),\n",
       "   ('ground black pepper', 0.052035768),\n",
       "   ('plum tomatoes', 0.046255615),\n",
       "   ('purple onion', 0.042451836),\n",
       "   ('balsamic vinegar', 0.03458967),\n",
       "   ('fresh basil', 0.033416457)]),\n",
       " (10,\n",
       "  [('broccoli florets', 0.06494838),\n",
       "   ('button mushrooms', 0.04940055),\n",
       "   ('crГЁme fraГ®che', 0.048285604),\n",
       "   ('yellow squash', 0.04598219),\n",
       "   ('radishes', 0.04427228),\n",
       "   ('greek style plain yogurt', 0.038458366),\n",
       "   ('pork sausages', 0.03827535),\n",
       "   ('watercress', 0.034912445),\n",
       "   ('quickcooking grits', 0.032633424),\n",
       "   ('ripe olives', 0.03083973)]),\n",
       " (11,\n",
       "  [('lime', 0.13387944),\n",
       "   ('lime juice', 0.11315165),\n",
       "   ('fresh cilantro', 0.05582731),\n",
       "   ('chopped cilantro', 0.03640522),\n",
       "   ('purple onion', 0.03588291),\n",
       "   ('garlic', 0.030825987),\n",
       "   ('mango', 0.030693887),\n",
       "   ('lime wedges', 0.02725269),\n",
       "   ('jalapeno chilies', 0.027194623),\n",
       "   ('thai chile', 0.021649176)]),\n",
       " (12,\n",
       "  [('cheese', 0.09614565),\n",
       "   ('ricotta cheese', 0.092715375),\n",
       "   ('orange juice', 0.087490745),\n",
       "   ('sliced mushrooms', 0.05910772),\n",
       "   ('baby spinach', 0.058139406),\n",
       "   ('vegetable broth', 0.057209056),\n",
       "   ('vegetable oil cooking spray', 0.05179765),\n",
       "   ('frozen chopped spinach', 0.037159953),\n",
       "   ('part-skim mozzarella cheese', 0.034701418),\n",
       "   ('italian sausage', 0.033452347)]),\n",
       " (13,\n",
       "  [('diced tomatoes', 0.09365675),\n",
       "   ('onions', 0.06348344),\n",
       "   ('dried oregano', 0.059992358),\n",
       "   ('tomato sauce', 0.05335052),\n",
       "   ('garlic', 0.048131924),\n",
       "   ('tomato paste', 0.046210907),\n",
       "   ('salt', 0.04579304),\n",
       "   ('olive oil', 0.038101822),\n",
       "   ('crushed tomatoes', 0.03328237),\n",
       "   ('ground beef', 0.029606111)]),\n",
       " (14,\n",
       "  [('tomatoes', 0.11817658),\n",
       "   ('salt', 0.08848011),\n",
       "   ('red wine vinegar', 0.084181525),\n",
       "   ('olive oil', 0.071814805),\n",
       "   ('cucumber', 0.06632687),\n",
       "   ('pepper', 0.053255226),\n",
       "   ('lemon juice', 0.04745153),\n",
       "   ('fresh oregano', 0.04360833),\n",
       "   ('purple onion', 0.03484033),\n",
       "   ('garlic', 0.034515608)]),\n",
       " (15,\n",
       "  [('lemon', 0.20234154),\n",
       "   ('orange', 0.05508455),\n",
       "   ('boiling water', 0.053034563),\n",
       "   ('fine sea salt', 0.04931051),\n",
       "   ('sugar', 0.04534077),\n",
       "   ('cold water', 0.04380106),\n",
       "   ('fennel seeds', 0.033884045),\n",
       "   ('almonds', 0.03168727),\n",
       "   ('water', 0.031199777),\n",
       "   ('mint', 0.02798771)]),\n",
       " (16,\n",
       "  [('chopped cilantro fresh', 0.10225214),\n",
       "   ('fresh lime juice', 0.07609488),\n",
       "   ('jalapeno chilies', 0.069063045),\n",
       "   ('white onion', 0.051039126),\n",
       "   ('salt', 0.045813955),\n",
       "   ('avocado', 0.042361274),\n",
       "   ('ground cumin', 0.03787059),\n",
       "   ('garlic cloves', 0.03723604),\n",
       "   ('vegetable oil', 0.027898192),\n",
       "   ('cilantro leaves', 0.02748703)]),\n",
       " (17,\n",
       "  [('ground ginger', 0.099945806),\n",
       "   ('ground cinnamon', 0.098887615),\n",
       "   ('raisins', 0.08134297),\n",
       "   ('ground cloves', 0.076768674),\n",
       "   ('white wine', 0.07045523),\n",
       "   ('ground allspice', 0.060913134),\n",
       "   ('fresh mushrooms', 0.054862566),\n",
       "   ('lean ground beef', 0.049917173),\n",
       "   ('dried rosemary', 0.032216594),\n",
       "   ('iceberg lettuce', 0.02989392)]),\n",
       " (18,\n",
       "  [('parmesan cheese', 0.11690852),\n",
       "   ('warm water', 0.07167929),\n",
       "   ('salt', 0.06368981),\n",
       "   ('olive oil', 0.05349208),\n",
       "   ('dried basil', 0.053184554),\n",
       "   ('grits', 0.03902679),\n",
       "   ('kale', 0.032467593),\n",
       "   ('plain flour', 0.031019576),\n",
       "   ('water', 0.027981685),\n",
       "   ('dry yeast', 0.02693169)]),\n",
       " (19,\n",
       "  [('unsalted butter', 0.12188287),\n",
       "   ('large eggs', 0.097533695),\n",
       "   ('all-purpose flour', 0.09705414),\n",
       "   ('salt', 0.075760745),\n",
       "   ('sugar', 0.061222058),\n",
       "   ('whole milk', 0.039221965),\n",
       "   ('granulated sugar', 0.03793991),\n",
       "   ('baking powder', 0.03366959),\n",
       "   ('large egg yolks', 0.025893934),\n",
       "   ('buttermilk', 0.025793076)]),\n",
       " (20,\n",
       "  [('flat leaf parsley', 0.11778266),\n",
       "   ('freshly ground pepper', 0.10100163),\n",
       "   ('extra-virgin olive oil', 0.054977626),\n",
       "   ('garlic cloves', 0.05380976),\n",
       "   ('large shrimp', 0.04418794),\n",
       "   ('olive oil', 0.044143952),\n",
       "   ('salt', 0.042321216),\n",
       "   ('dry bread crumbs', 0.032736678),\n",
       "   ('ground black pepper', 0.02656903),\n",
       "   ('kosher salt', 0.023981089)]),\n",
       " (21,\n",
       "  [('chicken broth', 0.14570415),\n",
       "   ('green bell pepper', 0.06668663),\n",
       "   ('boneless skinless chicken breast halves', 0.05926847),\n",
       "   ('boneless skinless chicken breasts', 0.054750655),\n",
       "   ('onions', 0.05455489),\n",
       "   ('chicken breasts', 0.04870742),\n",
       "   ('red bell pepper', 0.04044774),\n",
       "   ('butter', 0.04013532),\n",
       "   ('pepper', 0.039400533),\n",
       "   ('salt', 0.035439827)]),\n",
       " (22,\n",
       "  [('grated parmesan cheese', 0.114700384),\n",
       "   ('olive oil', 0.063301265),\n",
       "   ('zucchini', 0.055987038),\n",
       "   ('salt', 0.04528155),\n",
       "   ('garlic', 0.0416015),\n",
       "   ('mozzarella cheese', 0.04097201),\n",
       "   ('shredded mozzarella cheese', 0.037847564),\n",
       "   ('eggplant', 0.03675607),\n",
       "   ('pepper', 0.034457132),\n",
       "   ('eggs', 0.03254388)]),\n",
       " (23,\n",
       "  [('brown sugar', 0.07806567),\n",
       "   ('water', 0.050738737),\n",
       "   ('salt', 0.049753238),\n",
       "   ('soy sauce', 0.048043553),\n",
       "   ('white pepper', 0.046252612),\n",
       "   ('oil', 0.04401157),\n",
       "   ('sugar', 0.040464982),\n",
       "   ('sauce', 0.038465425),\n",
       "   ('ketchup', 0.035074558),\n",
       "   ('garlic', 0.033639617)]),\n",
       " (24,\n",
       "  [('ground cumin', 0.07391534),\n",
       "   ('ground coriander', 0.046986792),\n",
       "   ('salt', 0.04634829),\n",
       "   ('curry powder', 0.039025422),\n",
       "   ('onions', 0.033369586),\n",
       "   ('garlic', 0.028669704),\n",
       "   ('vegetable oil', 0.027928615),\n",
       "   ('ground turmeric', 0.026755113),\n",
       "   ('garlic cloves', 0.026614072),\n",
       "   ('fresh ginger', 0.024278019)]),\n",
       " (25,\n",
       "  [('hot water', 0.08926922),\n",
       "   ('chopped garlic', 0.082959116),\n",
       "   ('peanut oil', 0.0652835),\n",
       "   ('rice wine', 0.058561828),\n",
       "   ('hot red pepper flakes', 0.045745008),\n",
       "   ('corn oil', 0.036437627),\n",
       "   ('fontina cheese', 0.032514345),\n",
       "   ('marsala wine', 0.030440094),\n",
       "   ('seasoning', 0.030171486),\n",
       "   ('garlic chili sauce', 0.029409612)]),\n",
       " (26,\n",
       "  [('mirin', 0.08182888),\n",
       "   ('chickpeas', 0.07185935),\n",
       "   ('red pepper', 0.051365837),\n",
       "   ('mint leaves', 0.049628768),\n",
       "   ('chopped fresh mint', 0.04824352),\n",
       "   ('juice', 0.04811948),\n",
       "   ('sugar', 0.038686905),\n",
       "   ('fresh coriander', 0.03694746),\n",
       "   ('sake', 0.034868795),\n",
       "   ('grated lemon zest', 0.03015665)]),\n",
       " (27,\n",
       "  [('heavy cream', 0.18527828),\n",
       "   ('cheddar cheese', 0.10203416),\n",
       "   ('frozen peas', 0.06912934),\n",
       "   ('grated nutmeg', 0.066127665),\n",
       "   ('bananas', 0.041140214),\n",
       "   ('bread', 0.036713816),\n",
       "   ('ice', 0.026012558),\n",
       "   ('adobo sauce', 0.023933196),\n",
       "   ('old bay seasoning', 0.023118256),\n",
       "   ('butter', 0.02231656)]),\n",
       " (28,\n",
       "  [('oil', 0.11484719),\n",
       "   ('salt', 0.08683685),\n",
       "   ('cilantro leaves', 0.05273008),\n",
       "   ('green chilies', 0.05121083),\n",
       "   ('cumin seed', 0.048525),\n",
       "   ('onions', 0.046375405),\n",
       "   ('ground turmeric', 0.042505704),\n",
       "   ('water', 0.04099629),\n",
       "   ('chili powder', 0.032639064),\n",
       "   ('tomatoes', 0.029183665)]),\n",
       " (29,\n",
       "  [('sour cream', 0.07745518),\n",
       "   ('salsa', 0.047240496),\n",
       "   ('flour tortillas', 0.046635386),\n",
       "   ('chili powder', 0.045364756),\n",
       "   ('corn tortillas', 0.041672964),\n",
       "   ('shredded cheddar cheese', 0.041212466),\n",
       "   ('black beans', 0.040026966),\n",
       "   ('cilantro', 0.035768732),\n",
       "   ('salt', 0.02957908),\n",
       "   ('ground cumin', 0.028071914)]),\n",
       " (30,\n",
       "  [('sugar', 0.09333621),\n",
       "   ('whipping cream', 0.080554776),\n",
       "   ('egg yolks', 0.076398425),\n",
       "   ('vanilla extract', 0.05059676),\n",
       "   ('butter', 0.05056239),\n",
       "   ('egg whites', 0.049113188),\n",
       "   ('half & half', 0.042938236),\n",
       "   ('sweetened condensed milk', 0.036946397),\n",
       "   ('water', 0.034641482),\n",
       "   ('strawberries', 0.03111235)]),\n",
       " (31,\n",
       "  [('shrimp', 0.09955457),\n",
       "   ('medium shrimp', 0.06317969),\n",
       "   ('long-grain rice', 0.045164056),\n",
       "   ('vegetable oil', 0.044571552),\n",
       "   ('green onions', 0.035554003),\n",
       "   ('long grain white rice', 0.035298567),\n",
       "   ('rice noodles', 0.0349993),\n",
       "   ('hot pepper sauce', 0.03478463),\n",
       "   ('scallions', 0.02850602),\n",
       "   ('asian fish sauce', 0.026119407)]),\n",
       " (32,\n",
       "  [('eggs', 0.11195534),\n",
       "   ('milk', 0.104367584),\n",
       "   ('salt', 0.09615351),\n",
       "   ('butter', 0.0725022),\n",
       "   ('all-purpose flour', 0.06750932),\n",
       "   ('flour', 0.04197791),\n",
       "   ('baking powder', 0.04119568),\n",
       "   ('white sugar', 0.04004304),\n",
       "   ('sugar', 0.040027183),\n",
       "   ('water', 0.023109157)]),\n",
       " (33,\n",
       "  [('rice', 0.06177639),\n",
       "   ('coriander', 0.054240424),\n",
       "   ('onions', 0.049045466),\n",
       "   ('salt', 0.04747723),\n",
       "   ('garam masala', 0.04226402),\n",
       "   ('ginger', 0.04034207),\n",
       "   ('tumeric', 0.040240977),\n",
       "   ('cabbage', 0.0375027),\n",
       "   ('garlic', 0.035343412),\n",
       "   ('ghee', 0.03346015)]),\n",
       " (34,\n",
       "  [('cinnamon sticks', 0.09136352),\n",
       "   ('clove', 0.08507501),\n",
       "   ('black peppercorns', 0.07123532),\n",
       "   ('chopped tomatoes', 0.041781846),\n",
       "   ('cream', 0.04159556),\n",
       "   ('garlic paste', 0.038759448),\n",
       "   ('yoghurt', 0.03490931),\n",
       "   ('coriander seeds', 0.03431609),\n",
       "   ('fresh dill', 0.032754764),\n",
       "   ('onions', 0.028559927)]),\n",
       " (35,\n",
       "  [('onions', 0.06640122),\n",
       "   ('bay leaves', 0.050981678),\n",
       "   ('celery', 0.050340805),\n",
       "   ('salt', 0.04842437),\n",
       "   ('dried thyme', 0.04572003),\n",
       "   ('bay leaf', 0.045456186),\n",
       "   ('carrots', 0.044797253),\n",
       "   ('water', 0.041046135),\n",
       "   ('garlic', 0.033167914),\n",
       "   ('ground black pepper', 0.030628)]),\n",
       " (36,\n",
       "  [('salt', 0.116414994),\n",
       "   ('pepper', 0.09536478),\n",
       "   ('paprika', 0.07241705),\n",
       "   ('onions', 0.07010489),\n",
       "   ('potatoes', 0.056058753),\n",
       "   ('butter', 0.0442519),\n",
       "   ('garlic', 0.038395863),\n",
       "   ('olive oil', 0.03703731),\n",
       "   ('worcestershire sauce', 0.025596486),\n",
       "   ('carrots', 0.024946233)]),\n",
       " (37,\n",
       "  [('sea salt', 0.10988102),\n",
       "   ('coarse salt', 0.06596554),\n",
       "   ('crushed red pepper flakes', 0.056807633),\n",
       "   ('extra-virgin olive oil', 0.050346117),\n",
       "   ('ground black pepper', 0.04480214),\n",
       "   ('celery ribs', 0.04459886),\n",
       "   ('ground pepper', 0.04144164),\n",
       "   ('kosher salt', 0.038425323),\n",
       "   ('garlic cloves', 0.03412206),\n",
       "   ('parmigiano reggiano cheese', 0.033262316)]),\n",
       " (38,\n",
       "  [('fish sauce', 0.11469112),\n",
       "   ('coconut milk', 0.054782465),\n",
       "   ('garlic', 0.041621976),\n",
       "   ('shallots', 0.03721611),\n",
       "   ('red chili peppers', 0.036159668),\n",
       "   ('lemongrass', 0.03424553),\n",
       "   ('sugar', 0.027818961),\n",
       "   ('vegetable oil', 0.025889521),\n",
       "   ('boneless chicken skinless thigh', 0.02479044),\n",
       "   ('cooking oil', 0.02414705)]),\n",
       " (39,\n",
       "  [('mayonaise', 0.15250216),\n",
       "   ('dijon mustard', 0.09484903),\n",
       "   ('cider vinegar', 0.06901211),\n",
       "   ('cracked black pepper', 0.068941064),\n",
       "   ('roma tomatoes', 0.046596605),\n",
       "   ('white rice', 0.04339741),\n",
       "   ('lemon wedge', 0.04306207),\n",
       "   ('romaine lettuce', 0.03599948),\n",
       "   ('chicken wings', 0.02425399),\n",
       "   ('green onions', 0.02364071)])]"
      ]
     },
     "execution_count": 20,
     "metadata": {},
     "output_type": "execute_result"
    }
   ],
   "source": [
    "top_words = ldamodel.show_topics(num_topics=40, num_words=10, formatted=False)\n",
    "top_words"
   ]
  },
  {
   "cell_type": "code",
   "execution_count": null,
   "metadata": {},
   "outputs": [],
   "source": [
    "from collections import Counter"
   ]
  },
  {
   "cell_type": "code",
   "execution_count": 39,
   "metadata": {},
   "outputs": [],
   "source": [
    "all_top_words = []\n",
    "for i in top_words:\n",
    "    for word in i[1]:\n",
    "        all_top_words.append(word[0])\n",
    "        \n",
    "counter_dict = Counter(all_top_words)\n",
    "\n",
    "\n",
    "c_salt = counter_dict[\"salt\"]\n",
    "c_sugar = counter_dict[\"sugar\"]\n",
    "c_water = counter_dict[\"water\"]\n",
    "c_mushrooms = counter_dict[\"mushrooms\"]\n",
    "c_chicken = counter_dict[\"chicken\"]\n",
    "c_eggs = counter_dict[\"eggs\"]"
   ]
  },
  {
   "cell_type": "code",
   "execution_count": 66,
   "metadata": {},
   "outputs": [
    {
     "data": {
      "text/plain": [
       "Counter({'chopped onion': 1,\n",
       "         'garlic cloves': 7,\n",
       "         'salt': 23,\n",
       "         'fat free less sodium chicken broth': 1,\n",
       "         'sliced green onions': 1,\n",
       "         'cooking spray': 2,\n",
       "         'ground red pepper': 1,\n",
       "         'water': 8,\n",
       "         'spinach': 1,\n",
       "         'black pepper': 2,\n",
       "         'corn kernels': 1,\n",
       "         'diced onions': 1,\n",
       "         'tortillas': 1,\n",
       "         'vegetable stock': 1,\n",
       "         'chopped fresh chives': 1,\n",
       "         'sliced black olives': 1,\n",
       "         'cream cheese, soften': 1,\n",
       "         'lard': 1,\n",
       "         'jack cheese': 1,\n",
       "         'canned black beans': 1,\n",
       "         'olive oil': 10,\n",
       "         'crushed red pepper': 1,\n",
       "         'fresh parsley': 1,\n",
       "         'grated parmesan cheese': 2,\n",
       "         'cherry tomatoes': 1,\n",
       "         'butter': 7,\n",
       "         'low salt chicken broth': 1,\n",
       "         'fresh rosemary': 1,\n",
       "         'bacon': 1,\n",
       "         'red pepper flakes': 1,\n",
       "         'onions': 9,\n",
       "         'garlic': 12,\n",
       "         'ground black pepper': 6,\n",
       "         'mushrooms': 1,\n",
       "         'chicken thighs': 1,\n",
       "         'pasta': 1,\n",
       "         'powdered sugar': 1,\n",
       "         'large egg whites': 1,\n",
       "         'all-purpose flour': 3,\n",
       "         'sugar': 9,\n",
       "         'large eggs': 2,\n",
       "         'cream cheese': 1,\n",
       "         'yellow corn meal': 1,\n",
       "         'large garlic cloves': 1,\n",
       "         'shallots': 2,\n",
       "         'dry white wine': 1,\n",
       "         'finely chopped onion': 1,\n",
       "         'unsalted butter': 2,\n",
       "         'white wine vinegar': 1,\n",
       "         'arborio rice': 1,\n",
       "         'saffron threads': 1,\n",
       "         'fresh thyme': 1,\n",
       "         'dry red wine': 1,\n",
       "         'pork tenderloin': 1,\n",
       "         'reduced sodium soy sauce': 1,\n",
       "         'cilantro sprigs': 1,\n",
       "         'beef broth': 1,\n",
       "         'peppercorns': 1,\n",
       "         'cremini mushrooms': 1,\n",
       "         'rosemary': 1,\n",
       "         'daikon': 1,\n",
       "         'soy sauce': 2,\n",
       "         'sesame oil': 1,\n",
       "         'scallions': 2,\n",
       "         'green onions': 3,\n",
       "         'rice vinegar': 1,\n",
       "         'corn starch': 1,\n",
       "         'vegetable oil': 5,\n",
       "         'fresh ginger': 2,\n",
       "         'garlic powder': 1,\n",
       "         'cayenne pepper': 1,\n",
       "         'onion powder': 1,\n",
       "         'smoked paprika': 1,\n",
       "         'pinenuts': 1,\n",
       "         'fresh spinach': 1,\n",
       "         'dried oregano': 2,\n",
       "         'extra-virgin olive oil': 3,\n",
       "         'fresh lemon juice': 1,\n",
       "         'plum tomatoes': 1,\n",
       "         'purple onion': 3,\n",
       "         'balsamic vinegar': 1,\n",
       "         'fresh basil': 1,\n",
       "         'broccoli florets': 1,\n",
       "         'button mushrooms': 1,\n",
       "         'crГЁme fraГ®che': 1,\n",
       "         'yellow squash': 1,\n",
       "         'radishes': 1,\n",
       "         'greek style plain yogurt': 1,\n",
       "         'pork sausages': 1,\n",
       "         'watercress': 1,\n",
       "         'quickcooking grits': 1,\n",
       "         'ripe olives': 1,\n",
       "         'lime': 1,\n",
       "         'lime juice': 1,\n",
       "         'fresh cilantro': 1,\n",
       "         'chopped cilantro': 1,\n",
       "         'mango': 1,\n",
       "         'lime wedges': 1,\n",
       "         'jalapeno chilies': 2,\n",
       "         'thai chile': 1,\n",
       "         'cheese': 1,\n",
       "         'ricotta cheese': 1,\n",
       "         'orange juice': 1,\n",
       "         'sliced mushrooms': 1,\n",
       "         'baby spinach': 1,\n",
       "         'vegetable broth': 1,\n",
       "         'vegetable oil cooking spray': 1,\n",
       "         'frozen chopped spinach': 1,\n",
       "         'part-skim mozzarella cheese': 1,\n",
       "         'italian sausage': 1,\n",
       "         'diced tomatoes': 1,\n",
       "         'tomato sauce': 1,\n",
       "         'tomato paste': 1,\n",
       "         'crushed tomatoes': 1,\n",
       "         'ground beef': 1,\n",
       "         'tomatoes': 2,\n",
       "         'red wine vinegar': 1,\n",
       "         'cucumber': 1,\n",
       "         'pepper': 4,\n",
       "         'lemon juice': 1,\n",
       "         'fresh oregano': 1,\n",
       "         'lemon': 1,\n",
       "         'orange': 1,\n",
       "         'boiling water': 1,\n",
       "         'fine sea salt': 1,\n",
       "         'cold water': 1,\n",
       "         'fennel seeds': 1,\n",
       "         'almonds': 1,\n",
       "         'mint': 1,\n",
       "         'chopped cilantro fresh': 1,\n",
       "         'fresh lime juice': 1,\n",
       "         'white onion': 1,\n",
       "         'avocado': 1,\n",
       "         'ground cumin': 3,\n",
       "         'cilantro leaves': 2,\n",
       "         'ground ginger': 1,\n",
       "         'ground cinnamon': 1,\n",
       "         'raisins': 1,\n",
       "         'ground cloves': 1,\n",
       "         'white wine': 1,\n",
       "         'ground allspice': 1,\n",
       "         'fresh mushrooms': 1,\n",
       "         'lean ground beef': 1,\n",
       "         'dried rosemary': 1,\n",
       "         'iceberg lettuce': 1,\n",
       "         'parmesan cheese': 1,\n",
       "         'warm water': 1,\n",
       "         'dried basil': 1,\n",
       "         'grits': 1,\n",
       "         'kale': 1,\n",
       "         'plain flour': 1,\n",
       "         'dry yeast': 1,\n",
       "         'whole milk': 1,\n",
       "         'granulated sugar': 1,\n",
       "         'baking powder': 2,\n",
       "         'large egg yolks': 1,\n",
       "         'buttermilk': 1,\n",
       "         'flat leaf parsley': 1,\n",
       "         'freshly ground pepper': 1,\n",
       "         'large shrimp': 1,\n",
       "         'dry bread crumbs': 1,\n",
       "         'kosher salt': 2,\n",
       "         'chicken broth': 1,\n",
       "         'green bell pepper': 1,\n",
       "         'boneless skinless chicken breast halves': 1,\n",
       "         'boneless skinless chicken breasts': 1,\n",
       "         'chicken breasts': 1,\n",
       "         'red bell pepper': 1,\n",
       "         'zucchini': 1,\n",
       "         'mozzarella cheese': 1,\n",
       "         'shredded mozzarella cheese': 1,\n",
       "         'eggplant': 1,\n",
       "         'eggs': 2,\n",
       "         'brown sugar': 1,\n",
       "         'white pepper': 1,\n",
       "         'oil': 2,\n",
       "         'sauce': 1,\n",
       "         'ketchup': 1,\n",
       "         'ground coriander': 1,\n",
       "         'curry powder': 1,\n",
       "         'ground turmeric': 2,\n",
       "         'hot water': 1,\n",
       "         'chopped garlic': 1,\n",
       "         'peanut oil': 1,\n",
       "         'rice wine': 1,\n",
       "         'hot red pepper flakes': 1,\n",
       "         'corn oil': 1,\n",
       "         'fontina cheese': 1,\n",
       "         'marsala wine': 1,\n",
       "         'seasoning': 1,\n",
       "         'garlic chili sauce': 1,\n",
       "         'mirin': 1,\n",
       "         'chickpeas': 1,\n",
       "         'red pepper': 1,\n",
       "         'mint leaves': 1,\n",
       "         'chopped fresh mint': 1,\n",
       "         'juice': 1,\n",
       "         'fresh coriander': 1,\n",
       "         'sake': 1,\n",
       "         'grated lemon zest': 1,\n",
       "         'heavy cream': 1,\n",
       "         'cheddar cheese': 1,\n",
       "         'frozen peas': 1,\n",
       "         'grated nutmeg': 1,\n",
       "         'bananas': 1,\n",
       "         'bread': 1,\n",
       "         'ice': 1,\n",
       "         'adobo sauce': 1,\n",
       "         'old bay seasoning': 1,\n",
       "         'green chilies': 1,\n",
       "         'cumin seed': 1,\n",
       "         'chili powder': 2,\n",
       "         'sour cream': 1,\n",
       "         'salsa': 1,\n",
       "         'flour tortillas': 1,\n",
       "         'corn tortillas': 1,\n",
       "         'shredded cheddar cheese': 1,\n",
       "         'black beans': 1,\n",
       "         'cilantro': 1,\n",
       "         'whipping cream': 1,\n",
       "         'egg yolks': 1,\n",
       "         'vanilla extract': 1,\n",
       "         'egg whites': 1,\n",
       "         'half & half': 1,\n",
       "         'sweetened condensed milk': 1,\n",
       "         'strawberries': 1,\n",
       "         'shrimp': 1,\n",
       "         'medium shrimp': 1,\n",
       "         'long-grain rice': 1,\n",
       "         'long grain white rice': 1,\n",
       "         'rice noodles': 1,\n",
       "         'hot pepper sauce': 1,\n",
       "         'asian fish sauce': 1,\n",
       "         'milk': 1,\n",
       "         'flour': 1,\n",
       "         'white sugar': 1,\n",
       "         'rice': 1,\n",
       "         'coriander': 1,\n",
       "         'garam masala': 1,\n",
       "         'ginger': 1,\n",
       "         'tumeric': 1,\n",
       "         'cabbage': 1,\n",
       "         'ghee': 1,\n",
       "         'cinnamon sticks': 1,\n",
       "         'clove': 1,\n",
       "         'black peppercorns': 1,\n",
       "         'chopped tomatoes': 1,\n",
       "         'cream': 1,\n",
       "         'garlic paste': 1,\n",
       "         'yoghurt': 1,\n",
       "         'coriander seeds': 1,\n",
       "         'fresh dill': 1,\n",
       "         'bay leaves': 1,\n",
       "         'celery': 1,\n",
       "         'dried thyme': 1,\n",
       "         'bay leaf': 1,\n",
       "         'carrots': 2,\n",
       "         'paprika': 1,\n",
       "         'potatoes': 1,\n",
       "         'worcestershire sauce': 1,\n",
       "         'sea salt': 1,\n",
       "         'coarse salt': 1,\n",
       "         'crushed red pepper flakes': 1,\n",
       "         'celery ribs': 1,\n",
       "         'ground pepper': 1,\n",
       "         'parmigiano reggiano cheese': 1,\n",
       "         'fish sauce': 1,\n",
       "         'coconut milk': 1,\n",
       "         'red chili peppers': 1,\n",
       "         'lemongrass': 1,\n",
       "         'boneless chicken skinless thigh': 1,\n",
       "         'cooking oil': 1,\n",
       "         'mayonaise': 1,\n",
       "         'dijon mustard': 1,\n",
       "         'cider vinegar': 1,\n",
       "         'cracked black pepper': 1,\n",
       "         'roma tomatoes': 1,\n",
       "         'white rice': 1,\n",
       "         'lemon wedge': 1,\n",
       "         'romaine lettuce': 1,\n",
       "         'chicken wings': 1})"
      ]
     },
     "execution_count": 66,
     "metadata": {},
     "output_type": "execute_result"
    }
   ],
   "source": [
    "counter_dict"
   ]
  },
  {
   "cell_type": "code",
   "execution_count": 62,
   "metadata": {},
   "outputs": [],
   "source": [
    "def save_answers1(c_salt, c_sugar, c_water, c_mushrooms, c_chicken, c_eggs):\n",
    "    with open(\"cooking_LDA_pa_task1.txt\", \"w\") as fout:\n",
    "        fout.write(\" \".join([str(el) for el in [c_salt, c_sugar, c_water, c_mushrooms, c_chicken, c_eggs]]))"
   ]
  },
  {
   "cell_type": "code",
   "execution_count": 63,
   "metadata": {},
   "outputs": [],
   "source": [
    "save_answers1(c_salt, c_sugar, c_water, c_mushrooms, c_chicken, c_eggs)"
   ]
  },
  {
   "cell_type": "markdown",
   "metadata": {},
   "source": [
    "### Фильтрация словаря\n",
    "В топах тем гораздо чаще встречаются первые три рассмотренных ингредиента, чем последние три. При этом наличие в рецепте курицы, яиц и грибов яснее дает понять, что мы будем готовить, чем наличие соли, сахара и воды. Таким образом, даже в рецептах есть слова, часто встречающиеся в текстах и не несущие смысловой нагрузки, и поэтому их не желательно видеть в темах. Наиболее простой прием борьбы с такими фоновыми элементами — фильтрация словаря по частоте. Обычно словарь фильтруют с двух сторон: убирают очень редкие слова (в целях экономии памяти) и очень частые слова (в целях повышения интерпретируемости тем). Мы уберем только частые слова."
   ]
  },
  {
   "cell_type": "code",
   "execution_count": 140,
   "metadata": {},
   "outputs": [],
   "source": [
    "import copy\n",
    "dictionary2 = copy.deepcopy(dictionary)"
   ]
  },
  {
   "cell_type": "markdown",
   "metadata": {},
   "source": [
    "__Задание 2.__ У объекта dictionary2 есть переменная *dfs* — это словарь, ключами которого являются id токена, а элементами — число раз, сколько слово встретилось во всей коллекции. Сохраните в отдельный список ингредиенты, которые встретились в коллекции больше 4000 раз. Вызовите метод словаря *filter_tokens*, подав в качестве первого аргумента полученный список популярных ингредиентов. Вычислите две величины: dict_size_before и dict_size_after — размер словаря до и после фильтрации.\n",
    "\n",
    "Затем, используя новый словарь, создайте новый корпус документов, corpus2, по аналогии с тем, как это сделано в начале ноутбука. Вычислите две величины: corpus_size_before и corpus_size_after — суммарное количество ингредиентов в корпусе (для каждого документа вычислите число различных ингредиентов в нем и просуммируйте по всем документам) до и после фильтрации.\n",
    "\n",
    "Передайте величины dict_size_before, dict_size_after, corpus_size_before, corpus_size_after в функцию save_answers2 и загрузите сгенерированный файл в форму."
   ]
  },
  {
   "cell_type": "code",
   "execution_count": 141,
   "metadata": {},
   "outputs": [],
   "source": [
    "ingridients_more_than_4k = []  # список ингредиентов, которые встретились в коллекции больше 4000 раз\n",
    "for key, value in zip(dictionary2.dfs.keys(), dictionary2.dfs.values()):\n",
    "    if value > 4000:\n",
    "        ingridients_more_than_4k.append(key)"
   ]
  },
  {
   "cell_type": "code",
   "execution_count": 142,
   "metadata": {},
   "outputs": [
    {
     "data": {
      "text/plain": [
       "[3, 5, 15, 11, 18, 20, 29, 44, 52, 59, 104, 114]"
      ]
     },
     "execution_count": 142,
     "metadata": {},
     "output_type": "execute_result"
    }
   ],
   "source": [
    "ingridients_more_than_4k"
   ]
  },
  {
   "cell_type": "code",
   "execution_count": 143,
   "metadata": {},
   "outputs": [
    {
     "data": {
      "text/plain": [
       "12"
      ]
     },
     "execution_count": 143,
     "metadata": {},
     "output_type": "execute_result"
    }
   ],
   "source": [
    "len(ingridients_more_than_4k)"
   ]
  },
  {
   "cell_type": "code",
   "execution_count": 144,
   "metadata": {},
   "outputs": [
    {
     "name": "stdout",
     "output_type": "stream",
     "text": [
      "3 7380\n",
      "5 4438\n",
      "15 18048\n",
      "11 4784\n",
      "18 4385\n",
      "20 4847\n",
      "29 7457\n",
      "44 7972\n",
      "52 6434\n",
      "59 7971\n",
      "104 6236\n",
      "114 4632\n"
     ]
    }
   ],
   "source": [
    "# проверка\n",
    "for value in ingridients_more_than_4k:\n",
    "    print(value, dictionary.dfs[value])"
   ]
  },
  {
   "cell_type": "code",
   "execution_count": 145,
   "metadata": {},
   "outputs": [],
   "source": [
    "dictionary2.filter_tokens(bad_ids=ingridients_more_than_4k)"
   ]
  },
  {
   "cell_type": "code",
   "execution_count": 146,
   "metadata": {},
   "outputs": [
    {
     "data": {
      "text/plain": [
       "6702"
      ]
     },
     "execution_count": 146,
     "metadata": {},
     "output_type": "execute_result"
    }
   ],
   "source": [
    "len(dictionary2)"
   ]
  },
  {
   "cell_type": "code",
   "execution_count": 147,
   "metadata": {},
   "outputs": [],
   "source": [
    "corpus2 = [dictionary2.doc2bow(text) for text in texts]  # составляем корпус документов"
   ]
  },
  {
   "cell_type": "code",
   "execution_count": 148,
   "metadata": {},
   "outputs": [],
   "source": [
    "dict_size_before = len(dictionary)\n",
    "\n",
    "corpus_size_before = 0\n",
    "for ingridient in corpus:\n",
    "    corpus_size_before += len(ingridient)\n",
    "\n",
    "    \n",
    "    \n",
    "dict_size_after = len(dictionary2)\n",
    "\n",
    "corpus_size_after = 0\n",
    "for ingridient in corpus2:\n",
    "    corpus_size_after += len(ingridient)"
   ]
  },
  {
   "cell_type": "code",
   "execution_count": 149,
   "metadata": {},
   "outputs": [],
   "source": [
    "def save_answers2(dict_size_before, dict_size_after, corpus_size_before, corpus_size_after):\n",
    "    with open(\"cooking_LDA_pa_task2.txt\", \"w\") as fout:\n",
    "        fout.write(\" \".join([str(el) for el in [dict_size_before, dict_size_after, corpus_size_before, corpus_size_after]]))"
   ]
  },
  {
   "cell_type": "code",
   "execution_count": 150,
   "metadata": {},
   "outputs": [],
   "source": [
    "save_answers2(dict_size_before, dict_size_after, corpus_size_before, corpus_size_after)"
   ]
  },
  {
   "cell_type": "markdown",
   "metadata": {},
   "source": [
    "### Сравнение когерентностей\n",
    "__Задание 3.__ Постройте еще одну модель по корпусу corpus2 и словарю dictionary2, остальные параметры оставьте такими же, как при первом построении модели. Сохраните новую модель в другую переменную (не перезаписывайте предыдущую модель). Не забудьте про фиксирование seed!\n",
    "\n",
    "Затем воспользуйтесь методом *top_topics* модели, чтобы вычислить ее когерентность. Передайте в качестве аргумента соответствующий модели корпус. Метод вернет список кортежей (топ токенов, когерентность), отсортированных по убыванию последней. Вычислите среднюю по всем темам когерентность для каждой из двух моделей и передайте в функцию save_answers3. "
   ]
  },
  {
   "cell_type": "code",
   "execution_count": 151,
   "metadata": {},
   "outputs": [
    {
     "name": "stdout",
     "output_type": "stream",
     "text": [
      "Wall time: 36 s\n"
     ]
    }
   ],
   "source": [
    "%%time\n",
    "np.random.seed(76543)\n",
    "# здесь код для построения модели:\n",
    "\n",
    "ldamodel2 = models.ldamodel.LdaModel(corpus2, num_topics=40, id2word=dictionary2, passes=5)"
   ]
  },
  {
   "cell_type": "code",
   "execution_count": 174,
   "metadata": {},
   "outputs": [],
   "source": [
    "coherences_2 = []\n",
    "for coherence in ldamodel2.top_topics(corpus2):\n",
    "    coherences_2.append(coherence[1])\n",
    "    \n",
    "coherence_2 = np.array(coherences_2).mean()"
   ]
  },
  {
   "cell_type": "code",
   "execution_count": 175,
   "metadata": {},
   "outputs": [],
   "source": [
    "coherences_1 = []\n",
    "for coherence in ldamodel.top_topics(corpus):\n",
    "    coherences_1.append(coherence[1])\n",
    "    \n",
    "coherence_1 = np.array(coherences_1).mean()"
   ]
  },
  {
   "cell_type": "code",
   "execution_count": 176,
   "metadata": {},
   "outputs": [],
   "source": [
    "def save_answers3(coherence, coherence2):\n",
    "    with open(\"cooking_LDA_pa_task3.txt\", \"w\") as fout:\n",
    "        fout.write(\" \".join([\"%3f\"%el for el in [coherence, coherence2]]))"
   ]
  },
  {
   "cell_type": "code",
   "execution_count": 177,
   "metadata": {},
   "outputs": [],
   "source": [
    "save_answers3(coherence_1, coherence_2)"
   ]
  },
  {
   "cell_type": "markdown",
   "metadata": {},
   "source": [
    "Считается, что когерентность хорошо соотносится с человеческими оценками интерпретируемости тем. Поэтому на больших текстовых коллекциях когерентность обычно повышается, если убрать фоновую лексику. Однако в нашем случае этого не произошло. "
   ]
  },
  {
   "cell_type": "markdown",
   "metadata": {},
   "source": [
    "### Изучение влияния гиперпараметра alpha"
   ]
  },
  {
   "cell_type": "markdown",
   "metadata": {},
   "source": [
    "В этом разделе мы будем работать со второй моделью, то есть той, которая построена по сокращенному корпусу. \n",
    "\n",
    "Пока что мы посмотрели только на матрицу темы-слова, теперь давайте посмотрим на матрицу темы-документы. Выведите темы для нулевого (или любого другого) документа из корпуса, воспользовавшись методом *get_document_topics* второй модели:"
   ]
  },
  {
   "cell_type": "code",
   "execution_count": 186,
   "metadata": {},
   "outputs": [
    {
     "data": {
      "text/plain": [
       "[(25, 0.12812185), (31, 0.61758554), (33, 0.13866436)]"
      ]
     },
     "execution_count": 186,
     "metadata": {},
     "output_type": "execute_result"
    }
   ],
   "source": [
    "ldamodel2.get_document_topics(corpus2)[0]"
   ]
  },
  {
   "cell_type": "markdown",
   "metadata": {},
   "source": [
    "Также выведите содержимое переменной *.alpha* второй модели:"
   ]
  },
  {
   "cell_type": "code",
   "execution_count": 185,
   "metadata": {},
   "outputs": [
    {
     "data": {
      "text/plain": [
       "array([0.025, 0.025, 0.025, 0.025, 0.025, 0.025, 0.025, 0.025, 0.025,\n",
       "       0.025, 0.025, 0.025, 0.025, 0.025, 0.025, 0.025, 0.025, 0.025,\n",
       "       0.025, 0.025, 0.025, 0.025, 0.025, 0.025, 0.025, 0.025, 0.025,\n",
       "       0.025, 0.025, 0.025, 0.025, 0.025, 0.025, 0.025, 0.025, 0.025,\n",
       "       0.025, 0.025, 0.025, 0.025], dtype=float32)"
      ]
     },
     "execution_count": 185,
     "metadata": {},
     "output_type": "execute_result"
    }
   ],
   "source": [
    "ldamodel2.alpha"
   ]
  },
  {
   "cell_type": "markdown",
   "metadata": {},
   "source": [
    "У вас должно получиться, что документ характеризуется небольшим числом тем. Попробуем поменять гиперпараметр alpha, задающий априорное распределение Дирихле для распределений тем в документах."
   ]
  },
  {
   "cell_type": "markdown",
   "metadata": {},
   "source": [
    "__Задание 4.__ Обучите третью модель: используйте сокращенный корпус (corpus2 и dictionary2) и установите параметр __alpha=1__, passes=5. Не забудьте про фиксацию seed! Выведите темы новой модели для нулевого документа; должно получиться, что распределение над множеством тем практически равномерное. Чтобы убедиться в том, что во второй модели документы описываются гораздо более разреженными распределениями, чем в третьей, посчитайте суммарное количество элементов, __превосходящих 0.01__, в матрицах темы-документы обеих моделей. Другими словами, запросите темы  модели для каждого документа с параметром *minimum_probability=0.01* и просуммируйте число элементов в получаемых массивах. Передайте две суммы (сначала для модели с alpha по умолчанию, затем для модели в alpha=1) в функцию save_answers4."
   ]
  },
  {
   "cell_type": "code",
   "execution_count": 187,
   "metadata": {},
   "outputs": [
    {
     "name": "stdout",
     "output_type": "stream",
     "text": [
      "Wall time: 28.4 s\n"
     ]
    }
   ],
   "source": [
    "%%time\n",
    "np.random.seed(76543)\n",
    "# здесь код для построения модели:\n",
    "\n",
    "ldamodel3 = models.ldamodel.LdaModel(corpus2, num_topics=40, id2word=dictionary2, passes=5, alpha=1)"
   ]
  },
  {
   "cell_type": "code",
   "execution_count": null,
   "metadata": {},
   "outputs": [],
   "source": []
  },
  {
   "cell_type": "code",
   "execution_count": null,
   "metadata": {},
   "outputs": [],
   "source": []
  },
  {
   "cell_type": "code",
   "execution_count": null,
   "metadata": {},
   "outputs": [],
   "source": [
    "def save_answers4(count_model2, count_model3):\n",
    "    with open(\"cooking_LDA_pa_task4.txt\", \"w\") as fout:\n",
    "        fout.write(\" \".join([str(el) for el in [count_model2, count_model3]]))"
   ]
  },
  {
   "cell_type": "markdown",
   "metadata": {},
   "source": [
    "Таким образом, гиперпараметр __alpha__ влияет на разреженность распределений тем в документах. Аналогично гиперпараметр __eta__ влияет на разреженность распределений слов в темах."
   ]
  },
  {
   "cell_type": "markdown",
   "metadata": {},
   "source": [
    "### LDA как способ понижения размерности\n",
    "Иногда, распределения над темами, найденные с помощью LDA, добавляют в матрицу объекты-признаки как дополнительные, семантические, признаки, и это может улучшить качество решения задачи. Для простоты давайте просто обучим классификатор рецептов на кухни на признаках, полученных из LDA, и измерим точность (accuracy).\n",
    "\n",
    "__Задание 5.__ Используйте модель, построенную по сокращенной выборке с alpha по умолчанию (вторую модель). Составьте матрицу $\\Theta = p(t|d)$ вероятностей тем в документах; вы можете использовать тот же метод get_document_topics, а также вектор правильных ответов y (в том же порядке, в котором рецепты идут в переменной recipes). Создайте объект RandomForestClassifier со 100 деревьями, с помощью функции cross_val_score вычислите среднюю accuracy по трем фолдам (перемешивать данные не нужно) и передайте в функцию save_answers5."
   ]
  },
  {
   "cell_type": "code",
   "execution_count": null,
   "metadata": {},
   "outputs": [],
   "source": [
    "from sklearn.ensemble import RandomForestClassifier\n",
    "from sklearn.model_selection import cross_val_score"
   ]
  },
  {
   "cell_type": "code",
   "execution_count": null,
   "metadata": {},
   "outputs": [],
   "source": []
  },
  {
   "cell_type": "code",
   "execution_count": null,
   "metadata": {},
   "outputs": [],
   "source": []
  },
  {
   "cell_type": "code",
   "execution_count": null,
   "metadata": {},
   "outputs": [],
   "source": []
  },
  {
   "cell_type": "code",
   "execution_count": null,
   "metadata": {},
   "outputs": [],
   "source": [
    "def save_answers5(accuracy):\n",
    "     with open(\"cooking_LDA_pa_task5.txt\", \"w\") as fout:\n",
    "        fout.write(str(accuracy))"
   ]
  },
  {
   "cell_type": "markdown",
   "metadata": {},
   "source": [
    "Для такого большого количества классов это неплохая точность. Вы можете попроовать обучать RandomForest на исходной матрице частот слов, имеющей значительно большую размерность, и увидеть, что accuracy увеличивается на 10–15%. Таким образом, LDA собрал не всю, но достаточно большую часть информации из выборки, в матрице низкого ранга."
   ]
  },
  {
   "cell_type": "markdown",
   "metadata": {},
   "source": [
    "### LDA — вероятностная модель\n",
    "Матричное разложение, использующееся в LDA, интерпретируется как следующий процесс генерации документов.\n",
    "\n",
    "Для документа $d$ длины $n_d$:\n",
    "1. Из априорного распределения Дирихле с параметром alpha сгенерировать распределение над множеством тем: $\\theta_d \\sim Dirichlet(\\alpha)$\n",
    "1. Для каждого слова $w = 1, \\dots, n_d$:\n",
    "    1. Сгенерировать тему из дискретного распределения $t \\sim \\theta_{d}$\n",
    "    1. Сгенерировать слово из дискретного распределения $w \\sim \\phi_{t}$.\n",
    "    \n",
    "Подробнее об этом в [Википедии](https://en.wikipedia.org/wiki/Latent_Dirichlet_allocation).\n",
    "\n",
    "В контексте нашей задачи получается, что, используя данный генеративный процесс, можно создавать новые рецепты. Вы можете передать в функцию модель и число ингредиентов и сгенерировать рецепт :)"
   ]
  },
  {
   "cell_type": "code",
   "execution_count": null,
   "metadata": {},
   "outputs": [],
   "source": [
    "def generate_recipe(model, num_ingredients):\n",
    "    theta = np.random.dirichlet(model.alpha)\n",
    "    for i in range(num_ingredients):\n",
    "        t = np.random.choice(np.arange(model.num_topics), p=theta)\n",
    "        topic = model.show_topic(t, topn=model.num_terms)\n",
    "        topic_distr = [x[1] for x in topic]\n",
    "        terms = [x[0] for x in topic]\n",
    "        w = np.random.choice(terms, p=topic_distr)\n",
    "        print w"
   ]
  },
  {
   "cell_type": "code",
   "execution_count": null,
   "metadata": {},
   "outputs": [],
   "source": []
  },
  {
   "cell_type": "markdown",
   "metadata": {},
   "source": [
    "### Интерпретация построенной модели\n",
    "Вы можете рассмотреть топы ингредиентов каждой темы. Большиснтво тем сами по себе похожи на рецепты; в некоторых собираются продукты одного вида, например, свежие фрукты или разные виды сыра.\n",
    "\n",
    "Попробуем эмпирически соотнести наши темы с национальными кухнями (cuisine). Построим матрицу $A$ размера темы $x$ кухни, ее элементы $a_{tc}$ — суммы $p(t|d)$ по всем документам $d$, которые отнесены к кухне $c$. Нормируем матрицу на частоты рецептов по разным кухням, чтобы избежать дисбаланса между кухнями. Следующая функция получает на вход объект модели, объект корпуса и исходные данные и возвращает нормированную матрицу $A$. Ее удобно визуализировать с помощью seaborn."
   ]
  },
  {
   "cell_type": "code",
   "execution_count": null,
   "metadata": {},
   "outputs": [],
   "source": [
    "import pandas\n",
    "import seaborn\n",
    "from matplotlib import pyplot as plt\n",
    "%matplotlib inline"
   ]
  },
  {
   "cell_type": "code",
   "execution_count": null,
   "metadata": {},
   "outputs": [],
   "source": [
    "def compute_topic_cuisine_matrix(model, corpus, recipes):\n",
    "    # составляем вектор целевых признаков\n",
    "    targets = list(set([recipe[\"cuisine\"] for recipe in recipes]))\n",
    "    # составляем матрицу\n",
    "    tc_matrix = pandas.DataFrame(data=np.zeros((model.num_topics, len(targets))), columns=targets)\n",
    "    for recipe, bow in zip(recipes, corpus):\n",
    "        recipe_topic = model.get_document_topics(bow)\n",
    "        for t, prob in recipe_topic:\n",
    "            tc_matrix[recipe[\"cuisine\"]][t] += prob\n",
    "    # нормируем матрицу\n",
    "    target_sums = pandas.DataFrame(data=np.zeros((1, len(targets))), columns=targets)\n",
    "    for recipe in recipes:\n",
    "        target_sums[recipe[\"cuisine\"]] += 1\n",
    "    return pandas.DataFrame(tc_matrix.values/target_sums.values, columns=tc_matrix.columns)"
   ]
  },
  {
   "cell_type": "code",
   "execution_count": null,
   "metadata": {},
   "outputs": [],
   "source": [
    "def plot_matrix(tc_matrix):\n",
    "    plt.figure(figsize=(10, 10))\n",
    "    seaborn.heatmap(tc_matrix, square=True)"
   ]
  },
  {
   "cell_type": "code",
   "execution_count": null,
   "metadata": {},
   "outputs": [],
   "source": [
    "# Визуализируйте матрицу\n"
   ]
  },
  {
   "cell_type": "markdown",
   "metadata": {},
   "source": [
    "Чем темнее квадрат в матрице, тем больше связь этой темы с данной кухней. Мы видим, что у нас есть темы, которые связаны с несколькими кухнями. Такие темы показывают набор ингредиентов, которые популярны в кухнях нескольких народов, то есть указывают на схожесть кухонь этих народов. Некоторые темы распределены по всем кухням равномерно, они показывают наборы продуктов, которые часто используются в кулинарии всех стран. "
   ]
  },
  {
   "cell_type": "markdown",
   "metadata": {},
   "source": [
    "Жаль, что в датасете нет названий рецептов, иначе темы было бы проще интерпретировать..."
   ]
  },
  {
   "cell_type": "markdown",
   "metadata": {},
   "source": [
    "### Заключение\n",
    "В этом задании вы построили несколько моделей LDA, посмотрели, на что влияют гиперпараметры модели и как можно использовать построенную модель. "
   ]
  }
 ],
 "metadata": {
  "kernelspec": {
   "display_name": "Python 3",
   "language": "python",
   "name": "python3"
  },
  "language_info": {
   "codemirror_mode": {
    "name": "ipython",
    "version": 3
   },
   "file_extension": ".py",
   "mimetype": "text/x-python",
   "name": "python",
   "nbconvert_exporter": "python",
   "pygments_lexer": "ipython3",
   "version": "3.8.10"
  }
 },
 "nbformat": 4,
 "nbformat_minor": 1
}
