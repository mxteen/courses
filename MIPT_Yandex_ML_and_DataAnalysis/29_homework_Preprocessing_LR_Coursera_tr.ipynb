{
 "cells": [
  {
   "cell_type": "markdown",
   "metadata": {},
   "source": [
    "**Корректность проверена на Python 3.6:**\n",
    "+ pandas 0.23.4\n",
    "+ numpy 1.15.4\n",
    "+ matplotlib 3.0.2\n",
    "+ sklearn 0.20.2"
   ]
  },
  {
   "cell_type": "markdown",
   "metadata": {},
   "source": [
    "## Предобработка данных и логистическая регрессия для задачи бинарной классификации"
   ]
  },
  {
   "cell_type": "markdown",
   "metadata": {},
   "source": [
    "## Programming assignment"
   ]
  },
  {
   "cell_type": "markdown",
   "metadata": {},
   "source": [
    "В задании вам будет предложено ознакомиться с основными техниками предобработки данных, а так же применить их для обучения модели логистической регрессии. Ответ потребуется загрузить в соответствующую форму в виде 6 текстовых файлов.\n",
    "\n",
    "\n",
    "От вас потребуется просмотреть и запустить все ячейки с кодом, попутно отвечая на вопросы. Всего в материале 6 заданий, результатом каждого является текстовый файл, который требуется загрузить в форму отправки.\n",
    "\n",
    "Обратите внимание – система по ошибке качает первый файл как data.csv.mpeg. Перед работой с файлом стоит его переименовать обратно в data.csv."
   ]
  },
  {
   "cell_type": "code",
   "execution_count": 1,
   "metadata": {},
   "outputs": [],
   "source": [
    "import pandas as pd\n",
    "import numpy as np\n",
    "import matplotlib\n",
    "from matplotlib import pyplot as plt\n",
    "matplotlib.style.use('ggplot')\n",
    "%matplotlib inline\n",
    "\n",
    "import warnings\n",
    "warnings.filterwarnings('ignore')"
   ]
  },
  {
   "cell_type": "markdown",
   "metadata": {},
   "source": [
    "## Описание датасета"
   ]
  },
  {
   "cell_type": "markdown",
   "metadata": {},
   "source": [
    "Задача: по 38 признакам, связанным с заявкой на грант (область исследований учёных, информация по их академическому бэкграунду, размер гранта, область, в которой он выдаётся) предсказать, будет ли заявка принята. Датасет включает в себя информацию по 6000 заявкам на гранты, которые были поданы в университете Мельбурна в период с 2004 по 2008 год.\n",
    "\n",
    "Полную версию данных с большим количеством признаков можно найти на https://www.kaggle.com/c/unimelb."
   ]
  },
  {
   "cell_type": "code",
   "execution_count": 2,
   "metadata": {},
   "outputs": [
    {
     "data": {
      "text/plain": [
       "(6000, 39)"
      ]
     },
     "execution_count": 2,
     "metadata": {},
     "output_type": "execute_result"
    }
   ],
   "source": [
    "data = pd.read_csv('data.csv')\n",
    "data.shape"
   ]
  },
  {
   "cell_type": "code",
   "execution_count": 3,
   "metadata": {},
   "outputs": [
    {
     "data": {
      "text/html": [
       "<div>\n",
       "<style scoped>\n",
       "    .dataframe tbody tr th:only-of-type {\n",
       "        vertical-align: middle;\n",
       "    }\n",
       "\n",
       "    .dataframe tbody tr th {\n",
       "        vertical-align: top;\n",
       "    }\n",
       "\n",
       "    .dataframe thead th {\n",
       "        text-align: right;\n",
       "    }\n",
       "</style>\n",
       "<table border=\"1\" class=\"dataframe\">\n",
       "  <thead>\n",
       "    <tr style=\"text-align: right;\">\n",
       "      <th></th>\n",
       "      <th>Grant.Status</th>\n",
       "      <th>Sponsor.Code</th>\n",
       "      <th>Grant.Category.Code</th>\n",
       "      <th>Contract.Value.Band...see.note.A</th>\n",
       "      <th>RFCD.Code.1</th>\n",
       "      <th>RFCD.Percentage.1</th>\n",
       "      <th>RFCD.Code.2</th>\n",
       "      <th>RFCD.Percentage.2</th>\n",
       "      <th>RFCD.Code.3</th>\n",
       "      <th>RFCD.Percentage.3</th>\n",
       "      <th>...</th>\n",
       "      <th>Dept.No..1</th>\n",
       "      <th>Faculty.No..1</th>\n",
       "      <th>With.PHD.1</th>\n",
       "      <th>No..of.Years.in.Uni.at.Time.of.Grant.1</th>\n",
       "      <th>Number.of.Successful.Grant.1</th>\n",
       "      <th>Number.of.Unsuccessful.Grant.1</th>\n",
       "      <th>A..1</th>\n",
       "      <th>A.1</th>\n",
       "      <th>B.1</th>\n",
       "      <th>C.1</th>\n",
       "    </tr>\n",
       "  </thead>\n",
       "  <tbody>\n",
       "    <tr>\n",
       "      <th>0</th>\n",
       "      <td>1</td>\n",
       "      <td>21A</td>\n",
       "      <td>50A</td>\n",
       "      <td>A</td>\n",
       "      <td>230202.0</td>\n",
       "      <td>50.0</td>\n",
       "      <td>230203.0</td>\n",
       "      <td>30.0</td>\n",
       "      <td>230204.0</td>\n",
       "      <td>20.0</td>\n",
       "      <td>...</td>\n",
       "      <td>3098.0</td>\n",
       "      <td>31.0</td>\n",
       "      <td>Yes</td>\n",
       "      <td>&gt;=0 to 5</td>\n",
       "      <td>2.0</td>\n",
       "      <td>0.0</td>\n",
       "      <td>0.0</td>\n",
       "      <td>4.0</td>\n",
       "      <td>2.0</td>\n",
       "      <td>0.0</td>\n",
       "    </tr>\n",
       "    <tr>\n",
       "      <th>1</th>\n",
       "      <td>1</td>\n",
       "      <td>4D</td>\n",
       "      <td>10A</td>\n",
       "      <td>D</td>\n",
       "      <td>320801.0</td>\n",
       "      <td>100.0</td>\n",
       "      <td>0.0</td>\n",
       "      <td>0.0</td>\n",
       "      <td>0.0</td>\n",
       "      <td>0.0</td>\n",
       "      <td>...</td>\n",
       "      <td>2553.0</td>\n",
       "      <td>25.0</td>\n",
       "      <td>Yes</td>\n",
       "      <td>&gt;=0 to 5</td>\n",
       "      <td>3.0</td>\n",
       "      <td>1.0</td>\n",
       "      <td>0.0</td>\n",
       "      <td>2.0</td>\n",
       "      <td>0.0</td>\n",
       "      <td>0.0</td>\n",
       "    </tr>\n",
       "    <tr>\n",
       "      <th>2</th>\n",
       "      <td>0</td>\n",
       "      <td>NaN</td>\n",
       "      <td>NaN</td>\n",
       "      <td>NaN</td>\n",
       "      <td>320602.0</td>\n",
       "      <td>50.0</td>\n",
       "      <td>321004.0</td>\n",
       "      <td>30.0</td>\n",
       "      <td>321015.0</td>\n",
       "      <td>20.0</td>\n",
       "      <td>...</td>\n",
       "      <td>2813.0</td>\n",
       "      <td>25.0</td>\n",
       "      <td>NaN</td>\n",
       "      <td>Less than 0</td>\n",
       "      <td>1.0</td>\n",
       "      <td>5.0</td>\n",
       "      <td>0.0</td>\n",
       "      <td>7.0</td>\n",
       "      <td>2.0</td>\n",
       "      <td>0.0</td>\n",
       "    </tr>\n",
       "    <tr>\n",
       "      <th>3</th>\n",
       "      <td>0</td>\n",
       "      <td>51C</td>\n",
       "      <td>20C</td>\n",
       "      <td>A</td>\n",
       "      <td>291503.0</td>\n",
       "      <td>60.0</td>\n",
       "      <td>321402.0</td>\n",
       "      <td>40.0</td>\n",
       "      <td>0.0</td>\n",
       "      <td>0.0</td>\n",
       "      <td>...</td>\n",
       "      <td>2553.0</td>\n",
       "      <td>25.0</td>\n",
       "      <td>NaN</td>\n",
       "      <td>more than 15</td>\n",
       "      <td>2.0</td>\n",
       "      <td>1.0</td>\n",
       "      <td>5.0</td>\n",
       "      <td>6.0</td>\n",
       "      <td>9.0</td>\n",
       "      <td>1.0</td>\n",
       "    </tr>\n",
       "    <tr>\n",
       "      <th>4</th>\n",
       "      <td>0</td>\n",
       "      <td>24D</td>\n",
       "      <td>30B</td>\n",
       "      <td>NaN</td>\n",
       "      <td>380107.0</td>\n",
       "      <td>100.0</td>\n",
       "      <td>0.0</td>\n",
       "      <td>0.0</td>\n",
       "      <td>0.0</td>\n",
       "      <td>0.0</td>\n",
       "      <td>...</td>\n",
       "      <td>2923.0</td>\n",
       "      <td>25.0</td>\n",
       "      <td>NaN</td>\n",
       "      <td>Less than 0</td>\n",
       "      <td>0.0</td>\n",
       "      <td>2.0</td>\n",
       "      <td>0.0</td>\n",
       "      <td>0.0</td>\n",
       "      <td>0.0</td>\n",
       "      <td>0.0</td>\n",
       "    </tr>\n",
       "  </tbody>\n",
       "</table>\n",
       "<p>5 rows × 39 columns</p>\n",
       "</div>"
      ],
      "text/plain": [
       "   Grant.Status Sponsor.Code Grant.Category.Code  \\\n",
       "0             1          21A                 50A   \n",
       "1             1           4D                 10A   \n",
       "2             0          NaN                 NaN   \n",
       "3             0          51C                 20C   \n",
       "4             0          24D                 30B   \n",
       "\n",
       "  Contract.Value.Band...see.note.A  RFCD.Code.1  RFCD.Percentage.1  \\\n",
       "0                               A      230202.0               50.0   \n",
       "1                               D      320801.0              100.0   \n",
       "2                              NaN     320602.0               50.0   \n",
       "3                               A      291503.0               60.0   \n",
       "4                              NaN     380107.0              100.0   \n",
       "\n",
       "   RFCD.Code.2  RFCD.Percentage.2  RFCD.Code.3  RFCD.Percentage.3  ...  \\\n",
       "0     230203.0               30.0     230204.0               20.0  ...   \n",
       "1          0.0                0.0          0.0                0.0  ...   \n",
       "2     321004.0               30.0     321015.0               20.0  ...   \n",
       "3     321402.0               40.0          0.0                0.0  ...   \n",
       "4          0.0                0.0          0.0                0.0  ...   \n",
       "\n",
       "   Dept.No..1  Faculty.No..1  With.PHD.1  \\\n",
       "0      3098.0           31.0        Yes    \n",
       "1      2553.0           25.0        Yes    \n",
       "2      2813.0           25.0         NaN   \n",
       "3      2553.0           25.0         NaN   \n",
       "4      2923.0           25.0         NaN   \n",
       "\n",
       "   No..of.Years.in.Uni.at.Time.of.Grant.1  Number.of.Successful.Grant.1  \\\n",
       "0                                >=0 to 5                           2.0   \n",
       "1                                >=0 to 5                           3.0   \n",
       "2                             Less than 0                           1.0   \n",
       "3                            more than 15                           2.0   \n",
       "4                             Less than 0                           0.0   \n",
       "\n",
       "   Number.of.Unsuccessful.Grant.1  A..1  A.1  B.1  C.1  \n",
       "0                             0.0   0.0  4.0  2.0  0.0  \n",
       "1                             1.0   0.0  2.0  0.0  0.0  \n",
       "2                             5.0   0.0  7.0  2.0  0.0  \n",
       "3                             1.0   5.0  6.0  9.0  1.0  \n",
       "4                             2.0   0.0  0.0  0.0  0.0  \n",
       "\n",
       "[5 rows x 39 columns]"
      ]
     },
     "execution_count": 3,
     "metadata": {},
     "output_type": "execute_result"
    }
   ],
   "source": [
    "data.head()"
   ]
  },
  {
   "cell_type": "markdown",
   "metadata": {},
   "source": [
    "Выделим из датасета целевую переменную Grant.Status и обозначим её за y\n",
    "Теперь X обозначает обучающую выборку, y - ответы на ней"
   ]
  },
  {
   "cell_type": "code",
   "execution_count": 4,
   "metadata": {},
   "outputs": [],
   "source": [
    "X = data.drop('Grant.Status', 1)\n",
    "y = data['Grant.Status']"
   ]
  },
  {
   "cell_type": "markdown",
   "metadata": {},
   "source": [
    "## Теория по логистической регрессии"
   ]
  },
  {
   "cell_type": "markdown",
   "metadata": {},
   "source": [
    "После осознания того, какую именно задачу требуется решить на этих данных, следующим шагом при реальном анализе был бы подбор подходящего метода. В данном задании выбор метода было произведён за вас, это логистическая регрессия. Кратко напомним вам используемую модель.\n",
    "\n",
    "Логистическая регрессия предсказывает вероятности принадлежности объекта к каждому классу. Сумма ответов логистической регрессии на одном объекте для всех классов равна единице.\n",
    "\n",
    "$$ \\sum_{k=1}^K \\pi_{ik} = 1, \\quad \\pi_k \\equiv P\\,(y_i = k \\mid x_i, \\theta), $$\n",
    "\n",
    "где:\n",
    "- $\\pi_{ik}$ - вероятность принадлежности объекта $x_i$ из выборки $X$ к классу $k$\n",
    "- $\\theta$ - внутренние параметры алгоритма, которые настраиваются в процессе обучения, в случае логистической регрессии - $w, b$\n",
    "\n",
    "Из этого свойства модели в случае бинарной классификации требуется вычислить лишь вероятность принадлежности объекта к одному из классов (вторая вычисляется из условия нормировки вероятностей). Эта вероятность вычисляется, используя логистическую функцию:\n",
    "\n",
    "$$ P\\,(y_i = 1 \\mid x_i, \\theta) = \\frac{1}{1 + \\exp(-w^T x_i-b)} $$\n",
    "\n",
    "Параметры $w$ и $b$ находятся, как решения следующей задачи оптимизации (указаны функционалы с L1 и L2 регуляризацией, с которыми вы познакомились в предыдущих заданиях):\n",
    "\n",
    "L2-regularization:\n",
    "\n",
    "$$ Q(X, y, \\theta) = \\frac{1}{2} w^T w + C \\sum_{i=1}^l \\log ( 1 + \\exp(-y_i (w^T x_i + b ) ) ) \\longrightarrow \\min\\limits_{w,b} $$\n",
    "\n",
    "L1-regularization:\n",
    "\n",
    "$$ Q(X, y, \\theta) = \\sum_{d=1}^D |w_d| + C \\sum_{i=1}^l \\log ( 1 + \\exp(-y_i (w^T x_i + b ) ) ) \\longrightarrow \\min\\limits_{w,b} $$\n",
    "\n",
    "$C$ - это стандартный гиперпараметр модели, который регулирует то, насколько сильно мы позволяем модели подстраиваться под данные."
   ]
  },
  {
   "cell_type": "markdown",
   "metadata": {},
   "source": [
    "## Предобработка данных"
   ]
  },
  {
   "cell_type": "markdown",
   "metadata": {},
   "source": [
    "Из свойств данной модели следует, что:\n",
    "- все $X$ должны быть числовыми данными (в случае наличия среди них категорий, их требуется некоторым способом преобразовать в вещественные числа)\n",
    "- среди $X$ не должно быть пропущенных значений (т.е. все пропущенные значения перед применением модели следует каким-то образом заполнить)\n",
    "\n",
    "Поэтому **базовым этапом в предобработке любого датасета для логистической регрессии будет кодирование категориальных признаков, а так же удаление или интерпретация пропущенных значений** (при наличии того или другого)."
   ]
  },
  {
   "cell_type": "code",
   "execution_count": 5,
   "metadata": {},
   "outputs": [
    {
     "data": {
      "text/html": [
       "<div>\n",
       "<style scoped>\n",
       "    .dataframe tbody tr th:only-of-type {\n",
       "        vertical-align: middle;\n",
       "    }\n",
       "\n",
       "    .dataframe tbody tr th {\n",
       "        vertical-align: top;\n",
       "    }\n",
       "\n",
       "    .dataframe thead th {\n",
       "        text-align: right;\n",
       "    }\n",
       "</style>\n",
       "<table border=\"1\" class=\"dataframe\">\n",
       "  <thead>\n",
       "    <tr style=\"text-align: right;\">\n",
       "      <th></th>\n",
       "      <th>Grant.Status</th>\n",
       "      <th>Sponsor.Code</th>\n",
       "      <th>Grant.Category.Code</th>\n",
       "      <th>Contract.Value.Band...see.note.A</th>\n",
       "      <th>RFCD.Code.1</th>\n",
       "      <th>RFCD.Percentage.1</th>\n",
       "      <th>RFCD.Code.2</th>\n",
       "      <th>RFCD.Percentage.2</th>\n",
       "      <th>RFCD.Code.3</th>\n",
       "      <th>RFCD.Percentage.3</th>\n",
       "      <th>...</th>\n",
       "      <th>Dept.No..1</th>\n",
       "      <th>Faculty.No..1</th>\n",
       "      <th>With.PHD.1</th>\n",
       "      <th>No..of.Years.in.Uni.at.Time.of.Grant.1</th>\n",
       "      <th>Number.of.Successful.Grant.1</th>\n",
       "      <th>Number.of.Unsuccessful.Grant.1</th>\n",
       "      <th>A..1</th>\n",
       "      <th>A.1</th>\n",
       "      <th>B.1</th>\n",
       "      <th>C.1</th>\n",
       "    </tr>\n",
       "  </thead>\n",
       "  <tbody>\n",
       "    <tr>\n",
       "      <th>0</th>\n",
       "      <td>1</td>\n",
       "      <td>21A</td>\n",
       "      <td>50A</td>\n",
       "      <td>A</td>\n",
       "      <td>230202.0</td>\n",
       "      <td>50.0</td>\n",
       "      <td>230203.0</td>\n",
       "      <td>30.0</td>\n",
       "      <td>230204.0</td>\n",
       "      <td>20.0</td>\n",
       "      <td>...</td>\n",
       "      <td>3098.0</td>\n",
       "      <td>31.0</td>\n",
       "      <td>Yes</td>\n",
       "      <td>&gt;=0 to 5</td>\n",
       "      <td>2.0</td>\n",
       "      <td>0.0</td>\n",
       "      <td>0.0</td>\n",
       "      <td>4.0</td>\n",
       "      <td>2.0</td>\n",
       "      <td>0.0</td>\n",
       "    </tr>\n",
       "    <tr>\n",
       "      <th>1</th>\n",
       "      <td>1</td>\n",
       "      <td>4D</td>\n",
       "      <td>10A</td>\n",
       "      <td>D</td>\n",
       "      <td>320801.0</td>\n",
       "      <td>100.0</td>\n",
       "      <td>0.0</td>\n",
       "      <td>0.0</td>\n",
       "      <td>0.0</td>\n",
       "      <td>0.0</td>\n",
       "      <td>...</td>\n",
       "      <td>2553.0</td>\n",
       "      <td>25.0</td>\n",
       "      <td>Yes</td>\n",
       "      <td>&gt;=0 to 5</td>\n",
       "      <td>3.0</td>\n",
       "      <td>1.0</td>\n",
       "      <td>0.0</td>\n",
       "      <td>2.0</td>\n",
       "      <td>0.0</td>\n",
       "      <td>0.0</td>\n",
       "    </tr>\n",
       "    <tr>\n",
       "      <th>2</th>\n",
       "      <td>0</td>\n",
       "      <td>NaN</td>\n",
       "      <td>NaN</td>\n",
       "      <td>NaN</td>\n",
       "      <td>320602.0</td>\n",
       "      <td>50.0</td>\n",
       "      <td>321004.0</td>\n",
       "      <td>30.0</td>\n",
       "      <td>321015.0</td>\n",
       "      <td>20.0</td>\n",
       "      <td>...</td>\n",
       "      <td>2813.0</td>\n",
       "      <td>25.0</td>\n",
       "      <td>NaN</td>\n",
       "      <td>Less than 0</td>\n",
       "      <td>1.0</td>\n",
       "      <td>5.0</td>\n",
       "      <td>0.0</td>\n",
       "      <td>7.0</td>\n",
       "      <td>2.0</td>\n",
       "      <td>0.0</td>\n",
       "    </tr>\n",
       "    <tr>\n",
       "      <th>3</th>\n",
       "      <td>0</td>\n",
       "      <td>51C</td>\n",
       "      <td>20C</td>\n",
       "      <td>A</td>\n",
       "      <td>291503.0</td>\n",
       "      <td>60.0</td>\n",
       "      <td>321402.0</td>\n",
       "      <td>40.0</td>\n",
       "      <td>0.0</td>\n",
       "      <td>0.0</td>\n",
       "      <td>...</td>\n",
       "      <td>2553.0</td>\n",
       "      <td>25.0</td>\n",
       "      <td>NaN</td>\n",
       "      <td>more than 15</td>\n",
       "      <td>2.0</td>\n",
       "      <td>1.0</td>\n",
       "      <td>5.0</td>\n",
       "      <td>6.0</td>\n",
       "      <td>9.0</td>\n",
       "      <td>1.0</td>\n",
       "    </tr>\n",
       "    <tr>\n",
       "      <th>4</th>\n",
       "      <td>0</td>\n",
       "      <td>24D</td>\n",
       "      <td>30B</td>\n",
       "      <td>NaN</td>\n",
       "      <td>380107.0</td>\n",
       "      <td>100.0</td>\n",
       "      <td>0.0</td>\n",
       "      <td>0.0</td>\n",
       "      <td>0.0</td>\n",
       "      <td>0.0</td>\n",
       "      <td>...</td>\n",
       "      <td>2923.0</td>\n",
       "      <td>25.0</td>\n",
       "      <td>NaN</td>\n",
       "      <td>Less than 0</td>\n",
       "      <td>0.0</td>\n",
       "      <td>2.0</td>\n",
       "      <td>0.0</td>\n",
       "      <td>0.0</td>\n",
       "      <td>0.0</td>\n",
       "      <td>0.0</td>\n",
       "    </tr>\n",
       "  </tbody>\n",
       "</table>\n",
       "<p>5 rows × 39 columns</p>\n",
       "</div>"
      ],
      "text/plain": [
       "   Grant.Status Sponsor.Code Grant.Category.Code  \\\n",
       "0             1          21A                 50A   \n",
       "1             1           4D                 10A   \n",
       "2             0          NaN                 NaN   \n",
       "3             0          51C                 20C   \n",
       "4             0          24D                 30B   \n",
       "\n",
       "  Contract.Value.Band...see.note.A  RFCD.Code.1  RFCD.Percentage.1  \\\n",
       "0                               A      230202.0               50.0   \n",
       "1                               D      320801.0              100.0   \n",
       "2                              NaN     320602.0               50.0   \n",
       "3                               A      291503.0               60.0   \n",
       "4                              NaN     380107.0              100.0   \n",
       "\n",
       "   RFCD.Code.2  RFCD.Percentage.2  RFCD.Code.3  RFCD.Percentage.3  ...  \\\n",
       "0     230203.0               30.0     230204.0               20.0  ...   \n",
       "1          0.0                0.0          0.0                0.0  ...   \n",
       "2     321004.0               30.0     321015.0               20.0  ...   \n",
       "3     321402.0               40.0          0.0                0.0  ...   \n",
       "4          0.0                0.0          0.0                0.0  ...   \n",
       "\n",
       "   Dept.No..1  Faculty.No..1  With.PHD.1  \\\n",
       "0      3098.0           31.0        Yes    \n",
       "1      2553.0           25.0        Yes    \n",
       "2      2813.0           25.0         NaN   \n",
       "3      2553.0           25.0         NaN   \n",
       "4      2923.0           25.0         NaN   \n",
       "\n",
       "   No..of.Years.in.Uni.at.Time.of.Grant.1  Number.of.Successful.Grant.1  \\\n",
       "0                                >=0 to 5                           2.0   \n",
       "1                                >=0 to 5                           3.0   \n",
       "2                             Less than 0                           1.0   \n",
       "3                            more than 15                           2.0   \n",
       "4                             Less than 0                           0.0   \n",
       "\n",
       "   Number.of.Unsuccessful.Grant.1  A..1  A.1  B.1  C.1  \n",
       "0                             0.0   0.0  4.0  2.0  0.0  \n",
       "1                             1.0   0.0  2.0  0.0  0.0  \n",
       "2                             5.0   0.0  7.0  2.0  0.0  \n",
       "3                             1.0   5.0  6.0  9.0  1.0  \n",
       "4                             2.0   0.0  0.0  0.0  0.0  \n",
       "\n",
       "[5 rows x 39 columns]"
      ]
     },
     "execution_count": 5,
     "metadata": {},
     "output_type": "execute_result"
    }
   ],
   "source": [
    "data.head()"
   ]
  },
  {
   "cell_type": "markdown",
   "metadata": {},
   "source": [
    "Видно, что в датасете есть как числовые, так и категориальные признаки. Получим списки их названий:"
   ]
  },
  {
   "cell_type": "code",
   "execution_count": 6,
   "metadata": {},
   "outputs": [],
   "source": [
    "numeric_cols = ['RFCD.Percentage.1', 'RFCD.Percentage.2', 'RFCD.Percentage.3', \n",
    "                'RFCD.Percentage.4', 'RFCD.Percentage.5',\n",
    "                'SEO.Percentage.1', 'SEO.Percentage.2', 'SEO.Percentage.3',\n",
    "                'SEO.Percentage.4', 'SEO.Percentage.5',\n",
    "                'Year.of.Birth.1', 'Number.of.Successful.Grant.1', 'Number.of.Unsuccessful.Grant.1']\n",
    "categorical_cols = list(set(X.columns.values.tolist()) - set(numeric_cols))"
   ]
  },
  {
   "cell_type": "markdown",
   "metadata": {},
   "source": [
    "Также в нём присутствуют пропущенные значения. Очевидны решением будет исключение всех данных, у которых пропущено хотя бы одно значение. Сделаем это:"
   ]
  },
  {
   "cell_type": "code",
   "execution_count": 7,
   "metadata": {},
   "outputs": [
    {
     "name": "stdout",
     "output_type": "stream",
     "text": [
      "<class 'pandas.core.frame.DataFrame'>\n",
      "RangeIndex: 6000 entries, 0 to 5999\n",
      "Data columns (total 39 columns):\n",
      " #   Column                                  Non-Null Count  Dtype  \n",
      "---  ------                                  --------------  -----  \n",
      " 0   Grant.Status                            6000 non-null   int64  \n",
      " 1   Sponsor.Code                            5387 non-null   object \n",
      " 2   Grant.Category.Code                     5387 non-null   object \n",
      " 3   Contract.Value.Band...see.note.A        3539 non-null   object \n",
      " 4   RFCD.Code.1                             5583 non-null   float64\n",
      " 5   RFCD.Percentage.1                       5583 non-null   float64\n",
      " 6   RFCD.Code.2                             5583 non-null   float64\n",
      " 7   RFCD.Percentage.2                       5583 non-null   float64\n",
      " 8   RFCD.Code.3                             5583 non-null   float64\n",
      " 9   RFCD.Percentage.3                       5583 non-null   float64\n",
      " 10  RFCD.Code.4                             5583 non-null   float64\n",
      " 11  RFCD.Percentage.4                       5583 non-null   float64\n",
      " 12  RFCD.Code.5                             5583 non-null   float64\n",
      " 13  RFCD.Percentage.5                       5583 non-null   float64\n",
      " 14  SEO.Code.1                              5561 non-null   float64\n",
      " 15  SEO.Percentage.1                        5561 non-null   float64\n",
      " 16  SEO.Code.2                              5561 non-null   float64\n",
      " 17  SEO.Percentage.2                        5561 non-null   float64\n",
      " 18  SEO.Code.3                              5561 non-null   float64\n",
      " 19  SEO.Percentage.3                        5561 non-null   float64\n",
      " 20  SEO.Code.4                              5561 non-null   float64\n",
      " 21  SEO.Percentage.4                        5561 non-null   float64\n",
      " 22  SEO.Code.5                              5561 non-null   float64\n",
      " 23  SEO.Percentage.5                        5561 non-null   float64\n",
      " 24  Person.ID.1                             5634 non-null   float64\n",
      " 25  Role.1                                  5930 non-null   object \n",
      " 26  Year.of.Birth.1                         5633 non-null   float64\n",
      " 27  Country.of.Birth.1                      5096 non-null   object \n",
      " 28  Home.Language.1                         556 non-null    object \n",
      " 29  Dept.No..1                              5392 non-null   float64\n",
      " 30  Faculty.No..1                           5389 non-null   float64\n",
      " 31  With.PHD.1                              3504 non-null   object \n",
      " 32  No..of.Years.in.Uni.at.Time.of.Grant.1  4950 non-null   object \n",
      " 33  Number.of.Successful.Grant.1            5634 non-null   float64\n",
      " 34  Number.of.Unsuccessful.Grant.1          5634 non-null   float64\n",
      " 35  A..1                                    5634 non-null   float64\n",
      " 36  A.1                                     5634 non-null   float64\n",
      " 37  B.1                                     5634 non-null   float64\n",
      " 38  C.1                                     5634 non-null   float64\n",
      "dtypes: float64(30), int64(1), object(8)\n",
      "memory usage: 1.8+ MB\n"
     ]
    }
   ],
   "source": [
    "data.info()"
   ]
  },
  {
   "cell_type": "code",
   "execution_count": 8,
   "metadata": {},
   "outputs": [
    {
     "data": {
      "text/plain": [
       "(213, 39)"
      ]
     },
     "execution_count": 8,
     "metadata": {},
     "output_type": "execute_result"
    }
   ],
   "source": [
    "data.dropna().shape"
   ]
  },
  {
   "cell_type": "markdown",
   "metadata": {},
   "source": [
    "Видно, что тогда мы выбросим почти все данные, и такой метод решения в данном случае не сработает.\n",
    "\n",
    "Пропущенные значения можно так же интерпретировать, для этого существует несколько способов, они различаются для категориальных и вещественных признаков.\n",
    "\n",
    "Для вещественных признаков:\n",
    "- заменить на 0 (данный признак давать вклад в предсказание для данного объекта не будет)\n",
    "- заменить на среднее (каждый пропущенный признак будет давать такой же вклад, как и среднее значение признака на датасете)\n",
    "\n",
    "Для категориальных:\n",
    "- интерпретировать пропущенное значение, как ещё одну категорию (данный способ является самым естественным, так как в случае категорий у нас есть уникальная возможность не потерять информацию о наличии пропущенных значений; обратите внимание, что в случае вещественных признаков данная информация неизбежно теряется)"
   ]
  },
  {
   "cell_type": "markdown",
   "metadata": {},
   "source": [
    "##  Задание 0. Обработка пропущенных значений\n",
    "1. Заполните пропущенные вещественные значения в X нулями и средними по столбцам, назовите полученные датафреймы X_real_zeros и X_real_mean соответственно. Для подсчёта средних используйте описанную ниже функцию calculate_means, которой требуется передать на вход вешественные признаки из исходного датафрейма. **Для подсчета среднего можно использовать функцию pandas.mean()**\n",
    "2. Все категориальные признаки в X преобразуйте в строки, пропущенные значения требуется также преобразовать в какие-либо строки, которые не являются категориями (например, 'NA'), полученный датафрейм назовите X_cat.\n",
    "\n",
    "Для объединения выборок здесь и далее в задании рекомендуется использовать функции\n",
    "\n",
    "    np.hstack(...)\n",
    "    np.vstack(...)"
   ]
  },
  {
   "cell_type": "code",
   "execution_count": 9,
   "metadata": {},
   "outputs": [],
   "source": [
    "np.hstack?"
   ]
  },
  {
   "cell_type": "code",
   "execution_count": 10,
   "metadata": {},
   "outputs": [],
   "source": [
    "np.vstack?"
   ]
  },
  {
   "cell_type": "code",
   "execution_count": 11,
   "metadata": {},
   "outputs": [],
   "source": [
    "def calculate_means(numeric_data):\n",
    "    means = np.zeros(numeric_data.shape[1])\n",
    "    for j in range(numeric_data.shape[1]):\n",
    "        to_sum = numeric_data.iloc[:,j]\n",
    "#         indices = np.nonzero(~numeric_data.iloc[:,j].isnull())[0]\n",
    "        indices = np.nonzero( (~numeric_data.iloc[:,j].isnull()).to_numpy() )[0]\n",
    "        correction = np.amax(to_sum[indices])\n",
    "        to_sum /= correction\n",
    "        for i in indices:\n",
    "            means[j] += to_sum[i]\n",
    "        means[j] /= indices.size\n",
    "        means[j] *= correction\n",
    "    return pd.Series(means, numeric_data.columns)"
   ]
  },
  {
   "cell_type": "code",
   "execution_count": 12,
   "metadata": {},
   "outputs": [
    {
     "data": {
      "text/plain": [
       "{'RFCD.Percentage.1': 74.8323481998926,\n",
       " 'RFCD.Percentage.2': 17.67759269210108,\n",
       " 'RFCD.Percentage.3': 6.933010926025452,\n",
       " 'RFCD.Percentage.4': 0.4379365932294462,\n",
       " 'RFCD.Percentage.5': 0.11911158875156727,\n",
       " 'SEO.Percentage.1': 71.48324042438446,\n",
       " 'SEO.Percentage.2': 20.646880057543438,\n",
       " 'SEO.Percentage.3': 6.926703830246364,\n",
       " 'SEO.Percentage.4': 0.7308038122639813,\n",
       " 'SEO.Percentage.5': 0.21219205178924644,\n",
       " 'Year.of.Birth.1': 1962.4498491034703,\n",
       " 'Number.of.Successful.Grant.1': 1.1778487752928717,\n",
       " 'Number.of.Unsuccessful.Grant.1': 2.0979765708200455}"
      ]
     },
     "execution_count": 12,
     "metadata": {},
     "output_type": "execute_result"
    }
   ],
   "source": [
    "# вычисляем средние и формируем словарь, который потом передадим в fillna\n",
    "# means = X[numeric_cols].mean().to_dict()\n",
    "\n",
    "means = calculate_means(X[numeric_cols].copy()).to_dict()\n",
    "means"
   ]
  },
  {
   "cell_type": "code",
   "execution_count": 13,
   "metadata": {},
   "outputs": [],
   "source": [
    "# place your code here\n",
    "# вещественные признаки\n",
    "X_real_means = X[numeric_cols].fillna(means) # заменяем пропущенные значения на средние; для каждого столбца они свои\n",
    "\n",
    "X_real_zeros = X[numeric_cols].fillna(0)  # датафрейм с пропусками, заполненными нулями"
   ]
  },
  {
   "cell_type": "code",
   "execution_count": 14,
   "metadata": {},
   "outputs": [
    {
     "data": {
      "text/html": [
       "<div>\n",
       "<style scoped>\n",
       "    .dataframe tbody tr th:only-of-type {\n",
       "        vertical-align: middle;\n",
       "    }\n",
       "\n",
       "    .dataframe tbody tr th {\n",
       "        vertical-align: top;\n",
       "    }\n",
       "\n",
       "    .dataframe thead th {\n",
       "        text-align: right;\n",
       "    }\n",
       "</style>\n",
       "<table border=\"1\" class=\"dataframe\">\n",
       "  <thead>\n",
       "    <tr style=\"text-align: right;\">\n",
       "      <th></th>\n",
       "      <th>RFCD.Code.2</th>\n",
       "      <th>C.1</th>\n",
       "      <th>SEO.Code.3</th>\n",
       "      <th>Sponsor.Code</th>\n",
       "      <th>Role.1</th>\n",
       "      <th>A.1</th>\n",
       "      <th>Grant.Category.Code</th>\n",
       "      <th>RFCD.Code.1</th>\n",
       "      <th>SEO.Code.5</th>\n",
       "      <th>No..of.Years.in.Uni.at.Time.of.Grant.1</th>\n",
       "      <th>...</th>\n",
       "      <th>RFCD.Code.4</th>\n",
       "      <th>RFCD.Code.3</th>\n",
       "      <th>Country.of.Birth.1</th>\n",
       "      <th>B.1</th>\n",
       "      <th>Faculty.No..1</th>\n",
       "      <th>Contract.Value.Band...see.note.A</th>\n",
       "      <th>SEO.Code.2</th>\n",
       "      <th>A..1</th>\n",
       "      <th>Person.ID.1</th>\n",
       "      <th>RFCD.Code.5</th>\n",
       "    </tr>\n",
       "  </thead>\n",
       "  <tbody>\n",
       "    <tr>\n",
       "      <th>0</th>\n",
       "      <td>230203.0</td>\n",
       "      <td>0.0</td>\n",
       "      <td>0.0</td>\n",
       "      <td>21A</td>\n",
       "      <td>CHIEF_INVESTIGATOR</td>\n",
       "      <td>4.0</td>\n",
       "      <td>50A</td>\n",
       "      <td>230202.0</td>\n",
       "      <td>0.0</td>\n",
       "      <td>&gt;=0 to 5</td>\n",
       "      <td>...</td>\n",
       "      <td>0.0</td>\n",
       "      <td>230204.0</td>\n",
       "      <td>Australia</td>\n",
       "      <td>2.0</td>\n",
       "      <td>31.0</td>\n",
       "      <td>A</td>\n",
       "      <td>0.0</td>\n",
       "      <td>0.0</td>\n",
       "      <td>493297.0</td>\n",
       "      <td>0.0</td>\n",
       "    </tr>\n",
       "    <tr>\n",
       "      <th>1</th>\n",
       "      <td>0.0</td>\n",
       "      <td>0.0</td>\n",
       "      <td>0.0</td>\n",
       "      <td>4D</td>\n",
       "      <td>CHIEF_INVESTIGATOR</td>\n",
       "      <td>2.0</td>\n",
       "      <td>10A</td>\n",
       "      <td>320801.0</td>\n",
       "      <td>0.0</td>\n",
       "      <td>&gt;=0 to 5</td>\n",
       "      <td>...</td>\n",
       "      <td>0.0</td>\n",
       "      <td>0.0</td>\n",
       "      <td>Australia</td>\n",
       "      <td>0.0</td>\n",
       "      <td>25.0</td>\n",
       "      <td>D</td>\n",
       "      <td>0.0</td>\n",
       "      <td>0.0</td>\n",
       "      <td>330592.0</td>\n",
       "      <td>0.0</td>\n",
       "    </tr>\n",
       "    <tr>\n",
       "      <th>2</th>\n",
       "      <td>321004.0</td>\n",
       "      <td>0.0</td>\n",
       "      <td>730108.0</td>\n",
       "      <td>NA</td>\n",
       "      <td>CHIEF_INVESTIGATOR</td>\n",
       "      <td>7.0</td>\n",
       "      <td>NA</td>\n",
       "      <td>320602.0</td>\n",
       "      <td>0.0</td>\n",
       "      <td>Less than 0</td>\n",
       "      <td>...</td>\n",
       "      <td>0.0</td>\n",
       "      <td>321015.0</td>\n",
       "      <td>Australia</td>\n",
       "      <td>2.0</td>\n",
       "      <td>25.0</td>\n",
       "      <td>NA</td>\n",
       "      <td>730105.0</td>\n",
       "      <td>0.0</td>\n",
       "      <td>66887.0</td>\n",
       "      <td>0.0</td>\n",
       "    </tr>\n",
       "    <tr>\n",
       "      <th>3</th>\n",
       "      <td>321402.0</td>\n",
       "      <td>1.0</td>\n",
       "      <td>0.0</td>\n",
       "      <td>51C</td>\n",
       "      <td>CHIEF_INVESTIGATOR</td>\n",
       "      <td>6.0</td>\n",
       "      <td>20C</td>\n",
       "      <td>291503.0</td>\n",
       "      <td>0.0</td>\n",
       "      <td>more than 15</td>\n",
       "      <td>...</td>\n",
       "      <td>0.0</td>\n",
       "      <td>0.0</td>\n",
       "      <td>Great Britain</td>\n",
       "      <td>9.0</td>\n",
       "      <td>25.0</td>\n",
       "      <td>A</td>\n",
       "      <td>671401.0</td>\n",
       "      <td>5.0</td>\n",
       "      <td>63812.0</td>\n",
       "      <td>0.0</td>\n",
       "    </tr>\n",
       "    <tr>\n",
       "      <th>4</th>\n",
       "      <td>0.0</td>\n",
       "      <td>0.0</td>\n",
       "      <td>0.0</td>\n",
       "      <td>24D</td>\n",
       "      <td>CHIEF_INVESTIGATOR</td>\n",
       "      <td>0.0</td>\n",
       "      <td>30B</td>\n",
       "      <td>380107.0</td>\n",
       "      <td>0.0</td>\n",
       "      <td>Less than 0</td>\n",
       "      <td>...</td>\n",
       "      <td>0.0</td>\n",
       "      <td>0.0</td>\n",
       "      <td>Australia</td>\n",
       "      <td>0.0</td>\n",
       "      <td>25.0</td>\n",
       "      <td>NA</td>\n",
       "      <td>730306.0</td>\n",
       "      <td>0.0</td>\n",
       "      <td>13687.0</td>\n",
       "      <td>0.0</td>\n",
       "    </tr>\n",
       "    <tr>\n",
       "      <th>...</th>\n",
       "      <td>...</td>\n",
       "      <td>...</td>\n",
       "      <td>...</td>\n",
       "      <td>...</td>\n",
       "      <td>...</td>\n",
       "      <td>...</td>\n",
       "      <td>...</td>\n",
       "      <td>...</td>\n",
       "      <td>...</td>\n",
       "      <td>...</td>\n",
       "      <td>...</td>\n",
       "      <td>...</td>\n",
       "      <td>...</td>\n",
       "      <td>...</td>\n",
       "      <td>...</td>\n",
       "      <td>...</td>\n",
       "      <td>...</td>\n",
       "      <td>...</td>\n",
       "      <td>...</td>\n",
       "      <td>...</td>\n",
       "      <td>...</td>\n",
       "    </tr>\n",
       "    <tr>\n",
       "      <th>5995</th>\n",
       "      <td>440207.0</td>\n",
       "      <td>0.0</td>\n",
       "      <td>750401.0</td>\n",
       "      <td>21A</td>\n",
       "      <td>CHIEF_INVESTIGATOR</td>\n",
       "      <td>1.0</td>\n",
       "      <td>50A</td>\n",
       "      <td>430102.0</td>\n",
       "      <td>0.0</td>\n",
       "      <td>&gt;=0 to 5</td>\n",
       "      <td>...</td>\n",
       "      <td>0.0</td>\n",
       "      <td>379999.0</td>\n",
       "      <td>Australia</td>\n",
       "      <td>0.0</td>\n",
       "      <td>7.0</td>\n",
       "      <td>NA</td>\n",
       "      <td>750702.0</td>\n",
       "      <td>1.0</td>\n",
       "      <td>10402.0</td>\n",
       "      <td>0.0</td>\n",
       "    </tr>\n",
       "    <tr>\n",
       "      <th>5996</th>\n",
       "      <td>NA</td>\n",
       "      <td>0.0</td>\n",
       "      <td>NA</td>\n",
       "      <td>163C</td>\n",
       "      <td>CHIEF_INVESTIGATOR</td>\n",
       "      <td>1.0</td>\n",
       "      <td>10A</td>\n",
       "      <td>NA</td>\n",
       "      <td>NA</td>\n",
       "      <td>NA</td>\n",
       "      <td>...</td>\n",
       "      <td>NA</td>\n",
       "      <td>NA</td>\n",
       "      <td>NA</td>\n",
       "      <td>0.0</td>\n",
       "      <td>NA</td>\n",
       "      <td>NA</td>\n",
       "      <td>NA</td>\n",
       "      <td>0.0</td>\n",
       "      <td>102602.0</td>\n",
       "      <td>NA</td>\n",
       "    </tr>\n",
       "    <tr>\n",
       "      <th>5997</th>\n",
       "      <td>321208.0</td>\n",
       "      <td>5.0</td>\n",
       "      <td>730204.0</td>\n",
       "      <td>112D</td>\n",
       "      <td>CHIEF_INVESTIGATOR</td>\n",
       "      <td>2.0</td>\n",
       "      <td>30C</td>\n",
       "      <td>321204.0</td>\n",
       "      <td>0.0</td>\n",
       "      <td>&gt;10 to 15</td>\n",
       "      <td>...</td>\n",
       "      <td>0.0</td>\n",
       "      <td>321210.0</td>\n",
       "      <td>Australia</td>\n",
       "      <td>2.0</td>\n",
       "      <td>25.0</td>\n",
       "      <td>A</td>\n",
       "      <td>730211.0</td>\n",
       "      <td>2.0</td>\n",
       "      <td>68587.0</td>\n",
       "      <td>0.0</td>\n",
       "    </tr>\n",
       "    <tr>\n",
       "      <th>5998</th>\n",
       "      <td>NA</td>\n",
       "      <td>2.0</td>\n",
       "      <td>NA</td>\n",
       "      <td>NA</td>\n",
       "      <td>CHIEF_INVESTIGATOR</td>\n",
       "      <td>0.0</td>\n",
       "      <td>NA</td>\n",
       "      <td>NA</td>\n",
       "      <td>NA</td>\n",
       "      <td>Less than 0</td>\n",
       "      <td>...</td>\n",
       "      <td>NA</td>\n",
       "      <td>NA</td>\n",
       "      <td>Australia</td>\n",
       "      <td>1.0</td>\n",
       "      <td>118.0</td>\n",
       "      <td>A</td>\n",
       "      <td>NA</td>\n",
       "      <td>0.0</td>\n",
       "      <td>16757.0</td>\n",
       "      <td>NA</td>\n",
       "    </tr>\n",
       "    <tr>\n",
       "      <th>5999</th>\n",
       "      <td>0.0</td>\n",
       "      <td>1.0</td>\n",
       "      <td>0.0</td>\n",
       "      <td>4D</td>\n",
       "      <td>CHIEF_INVESTIGATOR</td>\n",
       "      <td>0.0</td>\n",
       "      <td>10A</td>\n",
       "      <td>321029.0</td>\n",
       "      <td>0.0</td>\n",
       "      <td>&gt;5 to 10</td>\n",
       "      <td>...</td>\n",
       "      <td>0.0</td>\n",
       "      <td>0.0</td>\n",
       "      <td>Australia</td>\n",
       "      <td>2.0</td>\n",
       "      <td>25.0</td>\n",
       "      <td>NA</td>\n",
       "      <td>671402.0</td>\n",
       "      <td>0.0</td>\n",
       "      <td>34537.0</td>\n",
       "      <td>0.0</td>\n",
       "    </tr>\n",
       "  </tbody>\n",
       "</table>\n",
       "<p>6000 rows × 25 columns</p>\n",
       "</div>"
      ],
      "text/plain": [
       "     RFCD.Code.2  C.1 SEO.Code.3 Sponsor.Code              Role.1  A.1  \\\n",
       "0       230203.0  0.0        0.0          21A  CHIEF_INVESTIGATOR  4.0   \n",
       "1            0.0  0.0        0.0           4D  CHIEF_INVESTIGATOR  2.0   \n",
       "2       321004.0  0.0   730108.0           NA  CHIEF_INVESTIGATOR  7.0   \n",
       "3       321402.0  1.0        0.0          51C  CHIEF_INVESTIGATOR  6.0   \n",
       "4            0.0  0.0        0.0          24D  CHIEF_INVESTIGATOR  0.0   \n",
       "...          ...  ...        ...          ...                 ...  ...   \n",
       "5995    440207.0  0.0   750401.0          21A  CHIEF_INVESTIGATOR  1.0   \n",
       "5996          NA  0.0         NA         163C  CHIEF_INVESTIGATOR  1.0   \n",
       "5997    321208.0  5.0   730204.0         112D  CHIEF_INVESTIGATOR  2.0   \n",
       "5998          NA  2.0         NA           NA  CHIEF_INVESTIGATOR  0.0   \n",
       "5999         0.0  1.0        0.0           4D  CHIEF_INVESTIGATOR  0.0   \n",
       "\n",
       "     Grant.Category.Code RFCD.Code.1 SEO.Code.5  \\\n",
       "0                    50A    230202.0        0.0   \n",
       "1                    10A    320801.0        0.0   \n",
       "2                     NA    320602.0        0.0   \n",
       "3                    20C    291503.0        0.0   \n",
       "4                    30B    380107.0        0.0   \n",
       "...                  ...         ...        ...   \n",
       "5995                 50A    430102.0        0.0   \n",
       "5996                 10A          NA         NA   \n",
       "5997                 30C    321204.0        0.0   \n",
       "5998                  NA          NA         NA   \n",
       "5999                 10A    321029.0        0.0   \n",
       "\n",
       "     No..of.Years.in.Uni.at.Time.of.Grant.1  ... RFCD.Code.4 RFCD.Code.3  \\\n",
       "0                                  >=0 to 5  ...         0.0    230204.0   \n",
       "1                                  >=0 to 5  ...         0.0         0.0   \n",
       "2                               Less than 0  ...         0.0    321015.0   \n",
       "3                              more than 15  ...         0.0         0.0   \n",
       "4                               Less than 0  ...         0.0         0.0   \n",
       "...                                     ...  ...         ...         ...   \n",
       "5995                               >=0 to 5  ...         0.0    379999.0   \n",
       "5996                                     NA  ...          NA          NA   \n",
       "5997                              >10 to 15  ...         0.0    321210.0   \n",
       "5998                            Less than 0  ...          NA          NA   \n",
       "5999                               >5 to 10  ...         0.0         0.0   \n",
       "\n",
       "     Country.of.Birth.1  B.1 Faculty.No..1 Contract.Value.Band...see.note.A  \\\n",
       "0             Australia  2.0          31.0                               A    \n",
       "1             Australia  0.0          25.0                               D    \n",
       "2             Australia  2.0          25.0                               NA   \n",
       "3         Great Britain  9.0          25.0                               A    \n",
       "4             Australia  0.0          25.0                               NA   \n",
       "...                 ...  ...           ...                              ...   \n",
       "5995          Australia  0.0           7.0                               NA   \n",
       "5996                 NA  0.0            NA                               NA   \n",
       "5997          Australia  2.0          25.0                               A    \n",
       "5998          Australia  1.0         118.0                               A    \n",
       "5999          Australia  2.0          25.0                               NA   \n",
       "\n",
       "     SEO.Code.2 A..1 Person.ID.1 RFCD.Code.5  \n",
       "0           0.0  0.0    493297.0         0.0  \n",
       "1           0.0  0.0    330592.0         0.0  \n",
       "2      730105.0  0.0     66887.0         0.0  \n",
       "3      671401.0  5.0     63812.0         0.0  \n",
       "4      730306.0  0.0     13687.0         0.0  \n",
       "...         ...  ...         ...         ...  \n",
       "5995   750702.0  1.0     10402.0         0.0  \n",
       "5996         NA  0.0    102602.0          NA  \n",
       "5997   730211.0  2.0     68587.0         0.0  \n",
       "5998         NA  0.0     16757.0          NA  \n",
       "5999   671402.0  0.0     34537.0         0.0  \n",
       "\n",
       "[6000 rows x 25 columns]"
      ]
     },
     "execution_count": 14,
     "metadata": {},
     "output_type": "execute_result"
    }
   ],
   "source": [
    "# категориальные признаки\n",
    "X_cat = X[categorical_cols].fillna('NA', inplace=False)\n",
    "X_cat = X_cat.astype(dtype='str') \n",
    "X_cat"
   ]
  },
  {
   "cell_type": "code",
   "execution_count": 15,
   "metadata": {},
   "outputs": [
    {
     "data": {
      "text/plain": [
       "RFCD.Code.2                               object\n",
       "C.1                                       object\n",
       "SEO.Code.3                                object\n",
       "Sponsor.Code                              object\n",
       "Role.1                                    object\n",
       "A.1                                       object\n",
       "Grant.Category.Code                       object\n",
       "RFCD.Code.1                               object\n",
       "SEO.Code.5                                object\n",
       "No..of.Years.in.Uni.at.Time.of.Grant.1    object\n",
       "With.PHD.1                                object\n",
       "Dept.No..1                                object\n",
       "Home.Language.1                           object\n",
       "SEO.Code.4                                object\n",
       "SEO.Code.1                                object\n",
       "RFCD.Code.4                               object\n",
       "RFCD.Code.3                               object\n",
       "Country.of.Birth.1                        object\n",
       "B.1                                       object\n",
       "Faculty.No..1                             object\n",
       "Contract.Value.Band...see.note.A          object\n",
       "SEO.Code.2                                object\n",
       "A..1                                      object\n",
       "Person.ID.1                               object\n",
       "RFCD.Code.5                               object\n",
       "dtype: object"
      ]
     },
     "execution_count": 15,
     "metadata": {},
     "output_type": "execute_result"
    }
   ],
   "source": [
    "X_cat.dtypes"
   ]
  },
  {
   "cell_type": "code",
   "execution_count": 16,
   "metadata": {},
   "outputs": [],
   "source": [
    "# категориальные признаки\n",
    "# X_cat = X[categorical_cols].astype(dtype='str', copy=False)  # все категориальные признаки в X преобразуем в строки\n",
    "# X_cat.fillna('NA', inplace=True)  # пропущенные значения преобразev в строку \"NA\""
   ]
  },
  {
   "cell_type": "markdown",
   "metadata": {},
   "source": [
    "## Преобразование категориальных признаков"
   ]
  },
  {
   "cell_type": "markdown",
   "metadata": {},
   "source": [
    "В предыдущей ячейке мы разделили наш датасет ещё на две части: в одной присутствуют только вещественные признаки, в другой только категориальные. Это понадобится нам для раздельной последующей обработки этих данных, а так же для сравнения качества работы тех или иных методов.\n",
    "\n",
    "**Для использования модели регрессии требуется преобразовать категориальные признаки в вещественные**. Рассмотрим **основной способ преоборазования** категориальных признаков в вещественные: **one-hot encoding**. Его идея заключается в том, что мы преобразуем категориальный признак при помощи бинарного кода: **каждой категории ставим в соответствие набор из нулей и единиц**.\n",
    "\n",
    "Посмотрим, как данный метод работает на простом наборе данных."
   ]
  },
  {
   "cell_type": "code",
   "execution_count": 17,
   "metadata": {},
   "outputs": [
    {
     "name": "stdout",
     "output_type": "stream",
     "text": [
      "Исходные данные:\n",
      "\n",
      "      sex nationality\n",
      "0    male    American\n",
      "1  female    European\n",
      "2    male       Asian\n",
      "3  female    European\n",
      "\n",
      "Закодированные данные:\n",
      "\n",
      "[[1. 0. 0. 0. 1.]\n",
      " [0. 0. 1. 1. 0.]\n",
      " [0. 1. 0. 0. 1.]\n",
      " [0. 0. 1. 1. 0.]]\n"
     ]
    }
   ],
   "source": [
    "from sklearn.linear_model import LogisticRegression as LR\n",
    "from sklearn.feature_extraction import DictVectorizer as DV\n",
    "\n",
    "categorial_data = pd.DataFrame({'sex': ['male', 'female', 'male', 'female'], \n",
    "                                'nationality': ['American', 'European', 'Asian', 'European']})\n",
    "print('Исходные данные:\\n')\n",
    "print(categorial_data)\n",
    "encoder = DV(sparse = False)\n",
    "encoded_data = encoder.fit_transform(categorial_data.T.to_dict().values())\n",
    "print('\\nЗакодированные данные:\\n')\n",
    "print(encoded_data)"
   ]
  },
  {
   "cell_type": "markdown",
   "metadata": {},
   "source": [
    "Разберёмся с выражением в скобках `categorial_data.T.to_dict()`"
   ]
  },
  {
   "cell_type": "code",
   "execution_count": 18,
   "metadata": {},
   "outputs": [
    {
     "data": {
      "text/html": [
       "<div>\n",
       "<style scoped>\n",
       "    .dataframe tbody tr th:only-of-type {\n",
       "        vertical-align: middle;\n",
       "    }\n",
       "\n",
       "    .dataframe tbody tr th {\n",
       "        vertical-align: top;\n",
       "    }\n",
       "\n",
       "    .dataframe thead th {\n",
       "        text-align: right;\n",
       "    }\n",
       "</style>\n",
       "<table border=\"1\" class=\"dataframe\">\n",
       "  <thead>\n",
       "    <tr style=\"text-align: right;\">\n",
       "      <th></th>\n",
       "      <th>0</th>\n",
       "      <th>1</th>\n",
       "      <th>2</th>\n",
       "      <th>3</th>\n",
       "    </tr>\n",
       "  </thead>\n",
       "  <tbody>\n",
       "    <tr>\n",
       "      <th>sex</th>\n",
       "      <td>male</td>\n",
       "      <td>female</td>\n",
       "      <td>male</td>\n",
       "      <td>female</td>\n",
       "    </tr>\n",
       "    <tr>\n",
       "      <th>nationality</th>\n",
       "      <td>American</td>\n",
       "      <td>European</td>\n",
       "      <td>Asian</td>\n",
       "      <td>European</td>\n",
       "    </tr>\n",
       "  </tbody>\n",
       "</table>\n",
       "</div>"
      ],
      "text/plain": [
       "                    0         1      2         3\n",
       "sex              male    female   male    female\n",
       "nationality  American  European  Asian  European"
      ]
     },
     "execution_count": 18,
     "metadata": {},
     "output_type": "execute_result"
    }
   ],
   "source": [
    "categorial_data.T"
   ]
  },
  {
   "cell_type": "code",
   "execution_count": 19,
   "metadata": {},
   "outputs": [
    {
     "data": {
      "text/plain": [
       "{0: {'sex': 'male', 'nationality': 'American'},\n",
       " 1: {'sex': 'female', 'nationality': 'European'},\n",
       " 2: {'sex': 'male', 'nationality': 'Asian'},\n",
       " 3: {'sex': 'female', 'nationality': 'European'}}"
      ]
     },
     "execution_count": 19,
     "metadata": {},
     "output_type": "execute_result"
    }
   ],
   "source": [
    "categorial_data.T.to_dict()"
   ]
  },
  {
   "cell_type": "code",
   "execution_count": 20,
   "metadata": {},
   "outputs": [
    {
     "data": {
      "text/plain": [
       "dict_values([{'sex': 'male', 'nationality': 'American'}, {'sex': 'female', 'nationality': 'European'}, {'sex': 'male', 'nationality': 'Asian'}, {'sex': 'female', 'nationality': 'European'}])"
      ]
     },
     "execution_count": 20,
     "metadata": {},
     "output_type": "execute_result"
    }
   ],
   "source": [
    "categorial_data.T.to_dict().values()"
   ]
  },
  {
   "cell_type": "markdown",
   "metadata": {},
   "source": [
    "Как видно, в первые три колонки оказалась закодированна информация о стране, а во вторые две - о поле. При этом для совпадающих элементов выборки строки будут полностью совпадать. Также из примера **видно, что кодирование признаков сильно увеличивает их количество, но полностью сохраняет информацию, в том числе о наличии пропущенных значений (их наличие просто становится одним из бинарных признаков в преобразованных данных)**.\n",
    "\n",
    "Теперь **применим one-hot encoding к категориальным признакам из исходного датасета**. Обратите внимание на общий для всех методов преобработки данных интерфейс. Функция\n",
    "\n",
    "    encoder.fit_transform(X)\n",
    "    \n",
    "позволяет вычислить необходимые параметры преобразования, впоследствии к новым данным можно уже применять функцию\n",
    "\n",
    "    encoder.transform(X)\n",
    "    \n",
    "**Очень важно применять одинаковое преобразование как к обучающим, так и тестовым данным**, потому что в противном случае вы получите непредсказуемые, и, скорее всего, плохие результаты. В частности, **если вы отдельно закодируете обучающую и тестовую выборку, то получите разные коды для одних и тех же признаков**, и ваше решение работать не будет.\n",
    "\n",
    "Также **параметры многих преобразований (например, рассмотренное ниже масштабирование) нельзя вычислять одновременно на данных из обучения и теста, потому что иначе подсчитанные на тесте метрики качества будут давать смещённые оценки на качество работы алгоритма**. \n",
    "\n",
    "**Кодирование категориальных признаков не считает на обучающей выборке никаких параметров, поэтому его можно применять сразу к всему датасету**."
   ]
  },
  {
   "cell_type": "code",
   "execution_count": 21,
   "metadata": {},
   "outputs": [],
   "source": [
    "DV?"
   ]
  },
  {
   "cell_type": "code",
   "execution_count": 22,
   "metadata": {},
   "outputs": [],
   "source": [
    "encoder = DV(sparse = False)  # sparse : bool, default=True # Whether transform should produce scipy.sparse matrices.\n",
    "X_cat_oh = encoder.fit_transform(X_cat.T.to_dict().values()) ## непонятно, что это за конструкция "
   ]
  },
  {
   "cell_type": "code",
   "execution_count": 23,
   "metadata": {},
   "outputs": [
    {
     "data": {
      "text/plain": [
       "array([0., 1.])"
      ]
     },
     "execution_count": 23,
     "metadata": {},
     "output_type": "execute_result"
    }
   ],
   "source": [
    "# проверим, как сработало - должны быть только нули и единицы\n",
    "np.unique(X_cat_oh)"
   ]
  },
  {
   "cell_type": "markdown",
   "metadata": {},
   "source": [
    "**Для построения метрики качества по результату обучения требуется разделить исходный датасет на обучающую и тестовую выборки**.\n",
    "\n",
    "Обращаем внимание на заданный параметр для генератора случайных чисел: random_state. Так как результаты на обучении и тесте будут зависеть от того, как именно вы разделите объекты, то предлагается использовать заранее определённое значение для получения результатов, согласованных с ответами в системе проверки заданий."
   ]
  },
  {
   "cell_type": "code",
   "execution_count": 24,
   "metadata": {},
   "outputs": [],
   "source": [
    "# разбиваем выборки на обучающие и тестовые\n",
    "from sklearn.model_selection import train_test_split\n",
    "\n",
    "(X_train_real_zeros, \n",
    " X_test_real_zeros, \n",
    " y_train, y_test) = train_test_split(X_real_zeros, y, \n",
    "                                     test_size=0.3, \n",
    "                                     random_state=0)\n",
    "(X_train_real_means, \n",
    " X_test_real_means) = train_test_split(X_real_means, \n",
    "                                      test_size=0.3, \n",
    "                                      random_state=0)\n",
    "(X_train_cat_oh,\n",
    " X_test_cat_oh) = train_test_split(X_cat_oh, \n",
    "                                   test_size=0.3, \n",
    "                                   random_state=0)"
   ]
  },
  {
   "cell_type": "code",
   "execution_count": 25,
   "metadata": {},
   "outputs": [
    {
     "data": {
      "text/plain": [
       "(4200, 5593)"
      ]
     },
     "execution_count": 25,
     "metadata": {},
     "output_type": "execute_result"
    }
   ],
   "source": [
    "X_train_cat_oh.shape  # признаков больше, чем объектов"
   ]
  },
  {
   "cell_type": "markdown",
   "metadata": {},
   "source": [
    "## Описание классов"
   ]
  },
  {
   "cell_type": "markdown",
   "metadata": {},
   "source": [
    "Итак, мы получили первые наборы данных, для которых выполнены оба ограничения логистической регрессии на входные данные. Обучим на них регрессию, используя имеющийся в библиотеке sklearn функционал по подбору гиперпараметров модели\n",
    "    \n",
    "    optimizer = GridSearchCV(estimator, param_grid)\n",
    "\n",
    "где:\n",
    "- estimator - обучающий алгоритм, для которого будет производиться подбор параметров\n",
    "- param_grid - словарь параметров, ключами которого являются строки-названия, которые передаются алгоритму estimator, а значения - набор параметров для перебора\n",
    "\n",
    "Данный класс выполняет кросс-валидацию обучающей выборки для каждого набора параметров и находит те, на которых алгоритм работает лучше всего. Этот метод позволяет настраивать гиперпараметры по обучающей выборке, избегая переобучения. Некоторые опциональные параметры вызова данного класса, которые нам понадобятся:\n",
    "- scoring - функционал качества, максимум которого ищется кросс валидацией, по умолчанию используется функция score() класса esimator\n",
    "- n_jobs - позволяет ускорить кросс-валидацию, выполняя её параллельно, число определяет количество одновременно запущенных задач\n",
    "- cv - количество разбиений выборки при кросс-валидации\n",
    "\n",
    "После инициализации класса GridSearchCV, процесс подбора параметров запускается следующим методом:\n",
    "\n",
    "    optimizer.fit(X, y)\n",
    "    \n",
    "На выходе для получения предсказаний можно пользоваться функцией\n",
    "\n",
    "    optimizer.predict(X)\n",
    "    \n",
    "для меток или\n",
    "\n",
    "    optimizer.predict_proba(X)\n",
    "    \n",
    "для вероятностей (в случае использования логистической регрессии).\n",
    "    \n",
    "Также можно напрямую получить оптимальный класс estimator и оптимальные параметры, так как они является атрибутами класса GridSearchCV:\n",
    "- best\\_estimator\\_ - лучший алгоритм\n",
    "- best\\_params\\_ - лучший набор параметров\n",
    "\n",
    "Класс логистической регрессии выглядит следующим образом:\n",
    "\n",
    "    estimator = LogisticRegression(penalty)\n",
    "   \n",
    "где penalty принимает либо значение 'l2', либо 'l1'. **По умолчанию устанавливается значение 'l2', и везде в задании, если об этом не оговорено особо, предполагается использование логистической регрессии с L2-регуляризацией**."
   ]
  },
  {
   "cell_type": "markdown",
   "metadata": {},
   "source": [
    "## Задание 1. Сравнение способов заполнения вещественных пропущенных значений.\n",
    "1. Составьте две обучающие выборки из вещественных и категориальных признаков: в одной вещественные признаки, где пропущенные значения заполнены нулями, в другой - средними. Рекомендуется записывать в выборки сначала вещественные, а потом категориальные признаки.\n",
    "2. Обучите на них логистическую регрессию, подбирая параметры из заданной сетки param_grid по методу кросс-валидации с числом фолдов cv=3. **При обучении использовать параметр solver='liblinear' в этом и последующих заданиях ноутбука.**\n",
    "3. Постройте два графика оценок точности +- их стандратного отклонения в зависимости от гиперпараметра и убедитесь, что вы действительно нашли её максимум. Также обратите внимание на большую дисперсию получаемых оценок (уменьшить её можно увеличением числа фолдов cv).\n",
    "4. **Получите две метрики качества AUC ROC на тестовой выборке и сравните их между собой**. Какой способ заполнения пропущенных вещественных значений работает лучше? В дальнейшем для выполнения задания в качестве вещественных признаков используйте ту выборку, которая даёт лучшее качество на тесте.\n",
    "5. Передайте два значения AUC ROC (сначала для выборки, заполненной средними, потом для выборки, заполненной нулями) в функцию write_answer_1 и запустите её. Полученный файл является ответом на 1 задание.\n",
    "\n",
    "Информация для интересующихся: вообще говоря, не вполне логично оптимизировать на кросс-валидации заданный по умолчанию в классе логистической регрессии функционал accuracy, а измерять на тесте AUC ROC, но это, как и ограничение размера выборки, сделано для ускорения работы процесса кросс-валидации."
   ]
  },
  {
   "cell_type": "code",
   "execution_count": 26,
   "metadata": {},
   "outputs": [],
   "source": [
    "from sklearn.linear_model import LogisticRegression\n",
    "from sklearn.model_selection import GridSearchCV\n",
    "from sklearn.metrics import roc_auc_score, roc_curve\n",
    "\n",
    "def plot_scores(optimizer):\n",
    "    scores=[]\n",
    "    for i in range(len(optimizer.cv_results_['params'])):\n",
    "        scores.append([optimizer.cv_results_['params'][i]['C'], \n",
    "                optimizer.cv_results_['mean_test_score'][i],\n",
    "                optimizer.cv_results_['std_test_score'][i]])\n",
    "    scores = np.array(scores)\n",
    "    plt.semilogx(scores[:,0], scores[:,1])\n",
    "    plt.fill_between(scores[:,0], scores[:,1]-scores[:,2], \n",
    "                                  scores[:,1]+scores[:,2], alpha=0.3)\n",
    "    plt.show()\n",
    "    \n",
    "def write_answer_1(auc_1, auc_2):\n",
    "    \"\"\"\n",
    "    Запись ответа в текстовый фай. \n",
    "    auc_1 - для выборки, заполненной средними;\n",
    "    auc_2 - для выборки, заполненной нулями.\n",
    "    \"\"\"\n",
    "    auc = (auc_1 + auc_2)/2\n",
    "    with open(\"preprocessing_lr_answer1.txt\", \"w\") as fout:\n",
    "        fout.write(str(auc))\n",
    "        \n",
    "param_grid = {'C': [0.01, 0.05, 0.1, 0.5, 1, 5, 10]}\n",
    "cv = 3\n",
    "\n",
    "# place your code here"
   ]
  },
  {
   "cell_type": "code",
   "execution_count": 27,
   "metadata": {},
   "outputs": [],
   "source": [
    "# 1. Составляем две обучающие выборки из вещественных и категориальных признаков\n",
    "\n",
    "# выборка в которой пропущенные значения вещественных признков заполнены нулями\n",
    "X_train_zeros = X_train_real_zeros.join(pd.DataFrame(X_train_cat_oh, index=X_train_real_zeros.index))\n",
    "\n",
    "# выборка в которой пропущенные значения вещественных признков заполнены средними\n",
    "X_train_means = X_train_real_means.join(pd.DataFrame(X_train_cat_oh, index=X_train_real_means.index))"
   ]
  },
  {
   "cell_type": "code",
   "execution_count": 28,
   "metadata": {},
   "outputs": [],
   "source": [
    "# 2. Обучаем логистическую регрессию, подбирая параметры из заданной сетки param_grid по кросс-валидации с числом фолдов cv=3.\n",
    "optimizer = GridSearchCV(estimator=LogisticRegression(penalty='l2', solver='liblinear'),\n",
    "                         param_grid=param_grid, cv=cv, n_jobs=3)"
   ]
  },
  {
   "cell_type": "code",
   "execution_count": 29,
   "metadata": {},
   "outputs": [
    {
     "name": "stdout",
     "output_type": "stream",
     "text": [
      "Wall time: 14.1 s\n"
     ]
    },
    {
     "data": {
      "text/plain": [
       "GridSearchCV(cv=3, estimator=LogisticRegression(solver='liblinear'), n_jobs=3,\n",
       "             param_grid={'C': [0.01, 0.05, 0.1, 0.5, 1, 5, 10]})"
      ]
     },
     "execution_count": 29,
     "metadata": {},
     "output_type": "execute_result"
    }
   ],
   "source": [
    "%%time\n",
    "# пробуем выборку с прорпусками, заполненными нулями\n",
    "optimizer.fit(X_train_zeros, y_train)"
   ]
  },
  {
   "cell_type": "code",
   "execution_count": 30,
   "metadata": {},
   "outputs": [
    {
     "data": {
      "text/plain": [
       "LogisticRegression(C=0.1, solver='liblinear')"
      ]
     },
     "execution_count": 30,
     "metadata": {},
     "output_type": "execute_result"
    }
   ],
   "source": [
    "optimizer.best_estimator_"
   ]
  },
  {
   "cell_type": "code",
   "execution_count": 31,
   "metadata": {},
   "outputs": [
    {
     "data": {
      "text/plain": [
       "{'C': 0.1}"
      ]
     },
     "execution_count": 31,
     "metadata": {},
     "output_type": "execute_result"
    }
   ],
   "source": [
    "optimizer.best_params_"
   ]
  },
  {
   "cell_type": "code",
   "execution_count": 32,
   "metadata": {},
   "outputs": [
    {
     "data": {
      "image/png": "[encoded data removed]",
      "text/plain": [
       "<Figure size 432x288 with 1 Axes>"
      ]
     },
     "metadata": {
      "needs_background": "light"
     },
     "output_type": "display_data"
    }
   ],
   "source": [
    "# график оценок точности с учётом стандратного отклонения\n",
    "# в зависимости от гиперпараметра C (Inverse of regularization strength)\n",
    "plot_scores(optimizer=optimizer)"
   ]
  },
  {
   "cell_type": "code",
   "execution_count": 33,
   "metadata": {},
   "outputs": [],
   "source": [
    "# собираем тестовую выборку из выборки с вещественными признаками и выборки с категориальными признаками \n",
    "X_test_zeros = X_test_real_zeros.join(pd.DataFrame(X_test_cat_oh, index=X_test_real_zeros.index))"
   ]
  },
  {
   "cell_type": "code",
   "execution_count": 34,
   "metadata": {},
   "outputs": [
    {
     "data": {
      "text/plain": [
       "array([[0.29192719, 0.59036822, 0.91469856, ..., 0.94892903, 0.91550408,\n",
       "        0.88101747],\n",
       "       [0.70807281, 0.40963178, 0.08530144, ..., 0.05107097, 0.08449592,\n",
       "        0.11898253]])"
      ]
     },
     "execution_count": 34,
     "metadata": {},
     "output_type": "execute_result"
    }
   ],
   "source": [
    "optimizer.best_estimator_.predict_proba(X_test_zeros).T"
   ]
  },
  {
   "cell_type": "code",
   "execution_count": 35,
   "metadata": {},
   "outputs": [
    {
     "data": {
      "text/plain": [
       "0.8868126129894043"
      ]
     },
     "execution_count": 35,
     "metadata": {},
     "output_type": "execute_result"
    }
   ],
   "source": [
    "# площадь под ROC-кривой\n",
    "roc_auc_zeros_na = roc_auc_score(y_true=y_test, y_score=optimizer.best_estimator_.predict_proba(X_test_zeros).T[1])\n",
    "roc_auc_zeros_na"
   ]
  },
  {
   "cell_type": "code",
   "execution_count": 36,
   "metadata": {},
   "outputs": [],
   "source": [
    "# roc_curve?"
   ]
  },
  {
   "cell_type": "code",
   "execution_count": 37,
   "metadata": {},
   "outputs": [
    {
     "data": {
      "image/png": "[encoded data removed]",
      "text/plain": [
       "<Figure size 432x288 with 1 Axes>"
      ]
     },
     "metadata": {
      "needs_background": "light"
     },
     "output_type": "display_data"
    }
   ],
   "source": [
    "# ROC-кривая\n",
    "fpr, tpr, _ = roc_curve(y_true=y_test, y_score=optimizer.best_estimator_.predict_proba(X_test_zeros).T[1])\n",
    "plt.plot(fpr, tpr, label = 'Кривая для NaN=0')\n",
    "plt.plot([0, 1], [0, 1], '--', color = 'grey', label = 'random')\n",
    "plt.xlim([-0.05, 1.05])\n",
    "plt.ylim([-0.05, 1.05])\n",
    "plt.xlabel('False Positive Rate')\n",
    "plt.ylabel('True Positive Rate')\n",
    "plt.title('ROC curve')\n",
    "plt.legend(loc = \"lower right\")\n",
    "plt.show()"
   ]
  },
  {
   "cell_type": "code",
   "execution_count": 38,
   "metadata": {},
   "outputs": [],
   "source": [
    "# 2. Обучаем логистическую регрессию, подбирая параметры из заданной сетки param_grid по кросс-валидации с числом фолдов cv=3.\n",
    "optimizer_means = GridSearchCV(estimator=LogisticRegression(penalty='l2', solver='liblinear'),\n",
    "                         param_grid=param_grid, cv=cv, n_jobs=3)"
   ]
  },
  {
   "cell_type": "code",
   "execution_count": 39,
   "metadata": {},
   "outputs": [
    {
     "name": "stdout",
     "output_type": "stream",
     "text": [
      "Wall time: 8.58 s\n"
     ]
    },
    {
     "data": {
      "text/plain": [
       "GridSearchCV(cv=3, estimator=LogisticRegression(solver='liblinear'), n_jobs=3,\n",
       "             param_grid={'C': [0.01, 0.05, 0.1, 0.5, 1, 5, 10]})"
      ]
     },
     "execution_count": 39,
     "metadata": {},
     "output_type": "execute_result"
    }
   ],
   "source": [
    "%%time\n",
    "# теперь пробуем выборку с пропусками, заполнными средними значениями\n",
    "optimizer_means.fit(X_train_means, y_train)"
   ]
  },
  {
   "cell_type": "code",
   "execution_count": 40,
   "metadata": {},
   "outputs": [
    {
     "data": {
      "text/plain": [
       "LogisticRegression(C=0.05, solver='liblinear')"
      ]
     },
     "execution_count": 40,
     "metadata": {},
     "output_type": "execute_result"
    }
   ],
   "source": [
    "optimizer_means.best_estimator_"
   ]
  },
  {
   "cell_type": "code",
   "execution_count": 41,
   "metadata": {},
   "outputs": [
    {
     "data": {
      "text/plain": [
       "{'C': 0.05}"
      ]
     },
     "execution_count": 41,
     "metadata": {},
     "output_type": "execute_result"
    }
   ],
   "source": [
    "optimizer_means.best_params_"
   ]
  },
  {
   "cell_type": "code",
   "execution_count": 42,
   "metadata": {},
   "outputs": [
    {
     "data": {
      "image/png": "[encoded data removed]",
      "text/plain": [
       "<Figure size 432x288 with 1 Axes>"
      ]
     },
     "metadata": {
      "needs_background": "light"
     },
     "output_type": "display_data"
    }
   ],
   "source": [
    "# графика оценок точности с учётом стандратного отклонения в зависимости от гиперпараметра C (Inverse of regularization strength)\n",
    "plot_scores(optimizer=optimizer_means)"
   ]
  },
  {
   "cell_type": "code",
   "execution_count": 43,
   "metadata": {},
   "outputs": [],
   "source": [
    "# собираем тестовую выборку из выборки с вещественными признаками и выборки с категориальными признаками \n",
    "X_test_means = X_test_real_means.join(pd.DataFrame(X_test_cat_oh, index=X_test_real_means.index))"
   ]
  },
  {
   "cell_type": "code",
   "execution_count": 44,
   "metadata": {},
   "outputs": [
    {
     "data": {
      "text/plain": [
       "0.8853401158941833"
      ]
     },
     "execution_count": 44,
     "metadata": {},
     "output_type": "execute_result"
    }
   ],
   "source": [
    "# площадь под ROC-кривой\n",
    "roc_auc_means_na = roc_auc_score(y_true=y_test, y_score=optimizer_means.best_estimator_.predict_proba(X_test_means).T[1])\n",
    "roc_auc_means_na"
   ]
  },
  {
   "cell_type": "code",
   "execution_count": 45,
   "metadata": {},
   "outputs": [
    {
     "data": {
      "image/png": "[encoded data removed]",
      "text/plain": [
       "<Figure size 432x288 with 1 Axes>"
      ]
     },
     "metadata": {
      "needs_background": "light"
     },
     "output_type": "display_data"
    }
   ],
   "source": [
    "fpr, tpr, _ = roc_curve(y_true=y_test, y_score=optimizer_means.best_estimator_.predict_proba(X_test_means).T[1])\n",
    "plt.plot(fpr, tpr, label = 'Кривая для NaN=mean')\n",
    "plt.plot([0, 1], [0, 1], '--', color = 'grey', label = 'random')\n",
    "plt.xlim([-0.05, 1.05])\n",
    "plt.ylim([-0.05, 1.05])\n",
    "plt.xlabel('False Positive Rate')\n",
    "plt.ylabel('True Positive Rate')\n",
    "plt.title('ROC curve')\n",
    "plt.legend(loc = \"lower right\")\n",
    "plt.show()"
   ]
  },
  {
   "cell_type": "code",
   "execution_count": 46,
   "metadata": {},
   "outputs": [
    {
     "data": {
      "text/plain": [
       "0.8853401158941833"
      ]
     },
     "execution_count": 46,
     "metadata": {},
     "output_type": "execute_result"
    }
   ],
   "source": [
    "roc_auc_means_na"
   ]
  },
  {
   "cell_type": "code",
   "execution_count": 47,
   "metadata": {},
   "outputs": [
    {
     "data": {
      "text/plain": [
       "0.8868126129894043"
      ]
     },
     "execution_count": 47,
     "metadata": {},
     "output_type": "execute_result"
    }
   ],
   "source": [
    "roc_auc_zeros_na"
   ]
  },
  {
   "cell_type": "code",
   "execution_count": 48,
   "metadata": {},
   "outputs": [],
   "source": [
    "write_answer_1?"
   ]
  },
  {
   "cell_type": "code",
   "execution_count": null,
   "metadata": {},
   "outputs": [],
   "source": [
    "# Ответ на задание 1\n",
    "# два значения AUC ROC: \n",
    "    # 1. для выборки, заполненной средними\n",
    "    # 2. для выборки, заполненной нулями\n",
    "    \n",
    "write_answer_1(roc_auc_means_na, roc_auc_zeros_na)"
   ]
  },
  {
   "cell_type": "markdown",
   "metadata": {},
   "source": [
    "## Масштабирование вещественных признаков"
   ]
  },
  {
   "cell_type": "markdown",
   "metadata": {},
   "source": [
    "Попробуем как-то улучшить качество классификации. Для этого посмотрим на сами данные:"
   ]
  },
  {
   "cell_type": "code",
   "execution_count": 49,
   "metadata": {},
   "outputs": [
    {
     "data": {
      "image/png": "[encoded data removed]",
      "text/plain": [
       "<Figure size 720x720 with 9 Axes>"
      ]
     },
     "metadata": {
      "needs_background": "light"
     },
     "output_type": "display_data"
    }
   ],
   "source": [
    "from pandas.plotting import scatter_matrix\n",
    "\n",
    "data_numeric = pd.DataFrame(X_train_real_zeros, columns=numeric_cols)\n",
    "list_cols = ['Number.of.Successful.Grant.1', 'SEO.Percentage.2', 'Year.of.Birth.1']\n",
    "scatter_matrix(data_numeric[list_cols], alpha=0.5, figsize=(10, 10))\n",
    "plt.show()"
   ]
  },
  {
   "cell_type": "markdown",
   "metadata": {},
   "source": [
    "Как видно из графиков, **разные признаки очень сильно отличаются друг от друга по модулю значений** (обратите внимание на диапазоны значений осей x и y). **В случае обычной регрессии это никак не влияет на качество обучаемой модели, т.к. у меньших по модулю признаков будут большие веса, но при использовании регуляризации, которая штрафует модель за большие веса, регрессия, как правило, начинает работать хуже**.\n",
    "\n",
    "**В таких случаях всегда рекомендуется делать стандартизацию (масштабирование) признаков, для того чтобы они меньше отличались друг друга по модулю, но при этом не нарушались никакие другие свойства признакового пространства**. При этом даже если итоговое качество модели на тесте уменьшается, **это повышает её интерпретируемость, потому что новые веса имеют смысл \"значимости\" данного признака** для итоговой классификации.\n",
    "\n",
    "*Из документации sklearn: \"many elements used in the objective function of a learning algorithm (such as [...] the L1 and L2 regularizers of linear models) assume that all features are centered around 0 and have variance in the same order. If a feature has a variance that is orders of magnitude larger that others, it might dominate the objective function and make the estimator unable to learn from other features correctly as expected.\"*\n",
    "\n",
    "Стандартизация осуществляется посредством вычета из каждого признака среднего значения и нормировки на выборочное стандартное отклонение:\n",
    "\n",
    "$$ x^{scaled}_{id} = \\dfrac{x_{id} - \\mu_d}{\\sigma_d}, \\quad \\mu_d = \\frac{1}{N} \\sum_{i=1}^l x_{id}, \\quad \\sigma_d = \\sqrt{\\frac{1}{N-1} \\sum_{i=1}^l (x_{id} - \\mu_d)^2} $$"
   ]
  },
  {
   "cell_type": "markdown",
   "metadata": {},
   "source": [
    "## Задание 1.5. Масштабирование вещественных признаков.\n",
    "\n",
    "1. По аналогии с вызовом one-hot encoder примените масштабирование вещественных признаков для обучающих и тестовых выборок X_train_real_zeros и X_test_real_zeros, используя класс \n",
    "\n",
    "        StandardScaler\n",
    "   \n",
    "   и методы \n",
    "\n",
    "        StandardScaler.fit_transform(...)\n",
    "        StandardScaler.transform(...)\n",
    "2. Сохраните ответ в переменные X_train_real_scaled и X_test_real_scaled соответственно"
   ]
  },
  {
   "cell_type": "code",
   "execution_count": 50,
   "metadata": {},
   "outputs": [],
   "source": [
    "from sklearn.preprocessing import StandardScaler\n",
    "\n",
    "# place your code here\n",
    "scaler = StandardScaler()"
   ]
  },
  {
   "cell_type": "code",
   "execution_count": 51,
   "metadata": {},
   "outputs": [],
   "source": [
    "X_train_real_scaled = scaler.fit_transform(X=X_train_real_zeros)\n",
    "X_test_real_scaled = scaler.transform(X=X_test_real_zeros)  # применён только метод transform, т.к. fit уже сделан на обучающей выборке\n",
    "\n",
    "# fit_transform объединяет в себе функции fit и transform:\n",
    "# fit - Compute the mean and std to be used for later scaling\n",
    "# transform - Perform standardization by centering and scaling"
   ]
  },
  {
   "cell_type": "markdown",
   "metadata": {},
   "source": [
    "## Сравнение признаковых пространств."
   ]
  },
  {
   "cell_type": "markdown",
   "metadata": {},
   "source": [
    "Построим такие же графики для преобразованных данных:"
   ]
  },
  {
   "cell_type": "code",
   "execution_count": 52,
   "metadata": {},
   "outputs": [
    {
     "data": {
      "image/png": "[encoded data removed]",
      "text/plain": [
       "<Figure size 720x720 with 9 Axes>"
      ]
     },
     "metadata": {
      "needs_background": "light"
     },
     "output_type": "display_data"
    }
   ],
   "source": [
    "data_numeric_scaled = pd.DataFrame(X_train_real_scaled, columns=numeric_cols)\n",
    "list_cols = ['Number.of.Successful.Grant.1', 'SEO.Percentage.2', 'Year.of.Birth.1']\n",
    "scatter_matrix(data_numeric_scaled[list_cols], alpha=0.5, figsize=(10, 10))\n",
    "plt.show()"
   ]
  },
  {
   "cell_type": "markdown",
   "metadata": {},
   "source": [
    "Как видно из графиков, мы не поменяли свойства признакового пространства: гистограммы распределений значений признаков, как и их scatter-plots, выглядят так же, как и до нормировки, но при этом все значения теперь находятся примерно в одном диапазоне, тем самым повышая интерпретабельность результатов, а также лучше сочетаясь с идеологией регуляризации."
   ]
  },
  {
   "cell_type": "markdown",
   "metadata": {},
   "source": [
    "## Задание 2. Сравнение качества классификации до и после масштабирования вещественных признаков.\n",
    "1. Обучите ещё раз регрессию и гиперпараметры на новых признаках, объединив их с закодированными категориальными.\n",
    "2. Проверьте, был ли найден оптимум accuracy по гиперпараметрам во время кроссвалидации.\n",
    "3. Получите значение ROC AUC на тестовой выборке, сравните с лучшим результатом, полученными ранее.\n",
    "4. Запишите полученный ответ в файл при помощи функции write_answer_2."
   ]
  },
  {
   "cell_type": "markdown",
   "metadata": {},
   "source": [
    "Проверьте, правильно ли вы производите масштабирование: **вычисляться параметры должны по обучающей выборке, затем преобразование применяется к тестовой.**"
   ]
  },
  {
   "cell_type": "code",
   "execution_count": 53,
   "metadata": {},
   "outputs": [],
   "source": [
    "def write_answer_2(auc):\n",
    "    with open(\"preprocessing_lr_answer2.txt\", \"w\") as fout:\n",
    "        fout.write(str(auc))\n",
    "        \n",
    "# place your code here"
   ]
  },
  {
   "cell_type": "code",
   "execution_count": 54,
   "metadata": {},
   "outputs": [
    {
     "data": {
      "text/html": [
       "<div>\n",
       "<style scoped>\n",
       "    .dataframe tbody tr th:only-of-type {\n",
       "        vertical-align: middle;\n",
       "    }\n",
       "\n",
       "    .dataframe tbody tr th {\n",
       "        vertical-align: top;\n",
       "    }\n",
       "\n",
       "    .dataframe thead th {\n",
       "        text-align: right;\n",
       "    }\n",
       "</style>\n",
       "<table border=\"1\" class=\"dataframe\">\n",
       "  <thead>\n",
       "    <tr style=\"text-align: right;\">\n",
       "      <th></th>\n",
       "      <th>RFCD.Percentage.1</th>\n",
       "      <th>RFCD.Percentage.2</th>\n",
       "      <th>RFCD.Percentage.3</th>\n",
       "      <th>RFCD.Percentage.4</th>\n",
       "      <th>RFCD.Percentage.5</th>\n",
       "      <th>SEO.Percentage.1</th>\n",
       "      <th>SEO.Percentage.2</th>\n",
       "      <th>SEO.Percentage.3</th>\n",
       "      <th>SEO.Percentage.4</th>\n",
       "      <th>SEO.Percentage.5</th>\n",
       "      <th>...</th>\n",
       "      <th>5583</th>\n",
       "      <th>5584</th>\n",
       "      <th>5585</th>\n",
       "      <th>5586</th>\n",
       "      <th>5587</th>\n",
       "      <th>5588</th>\n",
       "      <th>5589</th>\n",
       "      <th>5590</th>\n",
       "      <th>5591</th>\n",
       "      <th>5592</th>\n",
       "    </tr>\n",
       "  </thead>\n",
       "  <tbody>\n",
       "    <tr>\n",
       "      <th>4831</th>\n",
       "      <td>-1.237907</td>\n",
       "      <td>0.713793</td>\n",
       "      <td>2.930921</td>\n",
       "      <td>-0.132421</td>\n",
       "      <td>-0.05932</td>\n",
       "      <td>-0.498697</td>\n",
       "      <td>1.523473</td>\n",
       "      <td>-0.556283</td>\n",
       "      <td>-0.183075</td>\n",
       "      <td>-0.094005</td>\n",
       "      <td>...</td>\n",
       "      <td>0.0</td>\n",
       "      <td>0.0</td>\n",
       "      <td>0.0</td>\n",
       "      <td>0.0</td>\n",
       "      <td>0.0</td>\n",
       "      <td>0.0</td>\n",
       "      <td>0.0</td>\n",
       "      <td>0.0</td>\n",
       "      <td>0.0</td>\n",
       "      <td>1.0</td>\n",
       "    </tr>\n",
       "    <tr>\n",
       "      <th>4646</th>\n",
       "      <td>-0.927031</td>\n",
       "      <td>0.713793</td>\n",
       "      <td>2.059519</td>\n",
       "      <td>-0.132421</td>\n",
       "      <td>-0.05932</td>\n",
       "      <td>-0.812163</td>\n",
       "      <td>2.019962</td>\n",
       "      <td>-0.556283</td>\n",
       "      <td>-0.183075</td>\n",
       "      <td>-0.094005</td>\n",
       "      <td>...</td>\n",
       "      <td>0.0</td>\n",
       "      <td>0.0</td>\n",
       "      <td>0.0</td>\n",
       "      <td>0.0</td>\n",
       "      <td>0.0</td>\n",
       "      <td>0.0</td>\n",
       "      <td>0.0</td>\n",
       "      <td>0.0</td>\n",
       "      <td>1.0</td>\n",
       "      <td>0.0</td>\n",
       "    </tr>\n",
       "    <tr>\n",
       "      <th>2154</th>\n",
       "      <td>-1.237907</td>\n",
       "      <td>1.234547</td>\n",
       "      <td>2.059519</td>\n",
       "      <td>-0.132421</td>\n",
       "      <td>-0.05932</td>\n",
       "      <td>-0.498697</td>\n",
       "      <td>1.523473</td>\n",
       "      <td>-0.556283</td>\n",
       "      <td>-0.183075</td>\n",
       "      <td>-0.094005</td>\n",
       "      <td>...</td>\n",
       "      <td>0.0</td>\n",
       "      <td>0.0</td>\n",
       "      <td>0.0</td>\n",
       "      <td>0.0</td>\n",
       "      <td>0.0</td>\n",
       "      <td>0.0</td>\n",
       "      <td>0.0</td>\n",
       "      <td>0.0</td>\n",
       "      <td>0.0</td>\n",
       "      <td>1.0</td>\n",
       "    </tr>\n",
       "    <tr>\n",
       "      <th>1581</th>\n",
       "      <td>0.938223</td>\n",
       "      <td>-0.848470</td>\n",
       "      <td>-0.554689</td>\n",
       "      <td>-0.132421</td>\n",
       "      <td>-0.05932</td>\n",
       "      <td>1.068634</td>\n",
       "      <td>-0.958972</td>\n",
       "      <td>-0.556283</td>\n",
       "      <td>-0.183075</td>\n",
       "      <td>-0.094005</td>\n",
       "      <td>...</td>\n",
       "      <td>0.0</td>\n",
       "      <td>0.0</td>\n",
       "      <td>0.0</td>\n",
       "      <td>0.0</td>\n",
       "      <td>0.0</td>\n",
       "      <td>0.0</td>\n",
       "      <td>0.0</td>\n",
       "      <td>0.0</td>\n",
       "      <td>1.0</td>\n",
       "      <td>0.0</td>\n",
       "    </tr>\n",
       "    <tr>\n",
       "      <th>135</th>\n",
       "      <td>-1.237907</td>\n",
       "      <td>0.974170</td>\n",
       "      <td>2.495220</td>\n",
       "      <td>-0.132421</td>\n",
       "      <td>-0.05932</td>\n",
       "      <td>-0.968896</td>\n",
       "      <td>0.778740</td>\n",
       "      <td>2.001022</td>\n",
       "      <td>-0.183075</td>\n",
       "      <td>-0.094005</td>\n",
       "      <td>...</td>\n",
       "      <td>0.0</td>\n",
       "      <td>0.0</td>\n",
       "      <td>0.0</td>\n",
       "      <td>0.0</td>\n",
       "      <td>0.0</td>\n",
       "      <td>0.0</td>\n",
       "      <td>0.0</td>\n",
       "      <td>0.0</td>\n",
       "      <td>1.0</td>\n",
       "      <td>0.0</td>\n",
       "    </tr>\n",
       "    <tr>\n",
       "      <th>...</th>\n",
       "      <td>...</td>\n",
       "      <td>...</td>\n",
       "      <td>...</td>\n",
       "      <td>...</td>\n",
       "      <td>...</td>\n",
       "      <td>...</td>\n",
       "      <td>...</td>\n",
       "      <td>...</td>\n",
       "      <td>...</td>\n",
       "      <td>...</td>\n",
       "      <td>...</td>\n",
       "      <td>...</td>\n",
       "      <td>...</td>\n",
       "      <td>...</td>\n",
       "      <td>...</td>\n",
       "      <td>...</td>\n",
       "      <td>...</td>\n",
       "      <td>...</td>\n",
       "      <td>...</td>\n",
       "      <td>...</td>\n",
       "      <td>...</td>\n",
       "    </tr>\n",
       "    <tr>\n",
       "      <th>4931</th>\n",
       "      <td>0.938223</td>\n",
       "      <td>-0.848470</td>\n",
       "      <td>-0.554689</td>\n",
       "      <td>-0.132421</td>\n",
       "      <td>-0.05932</td>\n",
       "      <td>0.755168</td>\n",
       "      <td>-0.462483</td>\n",
       "      <td>-0.556283</td>\n",
       "      <td>-0.183075</td>\n",
       "      <td>-0.094005</td>\n",
       "      <td>...</td>\n",
       "      <td>0.0</td>\n",
       "      <td>0.0</td>\n",
       "      <td>0.0</td>\n",
       "      <td>0.0</td>\n",
       "      <td>0.0</td>\n",
       "      <td>0.0</td>\n",
       "      <td>0.0</td>\n",
       "      <td>0.0</td>\n",
       "      <td>0.0</td>\n",
       "      <td>1.0</td>\n",
       "    </tr>\n",
       "    <tr>\n",
       "      <th>3264</th>\n",
       "      <td>0.938223</td>\n",
       "      <td>-0.848470</td>\n",
       "      <td>-0.554689</td>\n",
       "      <td>-0.132421</td>\n",
       "      <td>-0.05932</td>\n",
       "      <td>1.068634</td>\n",
       "      <td>-0.958972</td>\n",
       "      <td>-0.556283</td>\n",
       "      <td>-0.183075</td>\n",
       "      <td>-0.094005</td>\n",
       "      <td>...</td>\n",
       "      <td>0.0</td>\n",
       "      <td>0.0</td>\n",
       "      <td>0.0</td>\n",
       "      <td>0.0</td>\n",
       "      <td>0.0</td>\n",
       "      <td>0.0</td>\n",
       "      <td>0.0</td>\n",
       "      <td>1.0</td>\n",
       "      <td>1.0</td>\n",
       "      <td>0.0</td>\n",
       "    </tr>\n",
       "    <tr>\n",
       "      <th>1653</th>\n",
       "      <td>0.938223</td>\n",
       "      <td>-0.848470</td>\n",
       "      <td>-0.554689</td>\n",
       "      <td>-0.132421</td>\n",
       "      <td>-0.05932</td>\n",
       "      <td>1.068634</td>\n",
       "      <td>-0.958972</td>\n",
       "      <td>-0.556283</td>\n",
       "      <td>-0.183075</td>\n",
       "      <td>-0.094005</td>\n",
       "      <td>...</td>\n",
       "      <td>0.0</td>\n",
       "      <td>0.0</td>\n",
       "      <td>0.0</td>\n",
       "      <td>0.0</td>\n",
       "      <td>0.0</td>\n",
       "      <td>0.0</td>\n",
       "      <td>0.0</td>\n",
       "      <td>0.0</td>\n",
       "      <td>0.0</td>\n",
       "      <td>1.0</td>\n",
       "    </tr>\n",
       "    <tr>\n",
       "      <th>2607</th>\n",
       "      <td>-0.927031</td>\n",
       "      <td>2.276056</td>\n",
       "      <td>-0.554689</td>\n",
       "      <td>-0.132421</td>\n",
       "      <td>-0.05932</td>\n",
       "      <td>0.441702</td>\n",
       "      <td>0.034006</td>\n",
       "      <td>-0.556283</td>\n",
       "      <td>-0.183075</td>\n",
       "      <td>-0.094005</td>\n",
       "      <td>...</td>\n",
       "      <td>0.0</td>\n",
       "      <td>0.0</td>\n",
       "      <td>0.0</td>\n",
       "      <td>0.0</td>\n",
       "      <td>0.0</td>\n",
       "      <td>0.0</td>\n",
       "      <td>0.0</td>\n",
       "      <td>0.0</td>\n",
       "      <td>0.0</td>\n",
       "      <td>1.0</td>\n",
       "    </tr>\n",
       "    <tr>\n",
       "      <th>2732</th>\n",
       "      <td>0.938223</td>\n",
       "      <td>-0.848470</td>\n",
       "      <td>-0.554689</td>\n",
       "      <td>-0.132421</td>\n",
       "      <td>-0.05932</td>\n",
       "      <td>-1.282363</td>\n",
       "      <td>0.282250</td>\n",
       "      <td>1.574805</td>\n",
       "      <td>6.706862</td>\n",
       "      <td>-0.094005</td>\n",
       "      <td>...</td>\n",
       "      <td>0.0</td>\n",
       "      <td>0.0</td>\n",
       "      <td>0.0</td>\n",
       "      <td>0.0</td>\n",
       "      <td>0.0</td>\n",
       "      <td>0.0</td>\n",
       "      <td>0.0</td>\n",
       "      <td>0.0</td>\n",
       "      <td>0.0</td>\n",
       "      <td>1.0</td>\n",
       "    </tr>\n",
       "  </tbody>\n",
       "</table>\n",
       "<p>4200 rows × 5606 columns</p>\n",
       "</div>"
      ],
      "text/plain": [
       "      RFCD.Percentage.1  RFCD.Percentage.2  RFCD.Percentage.3  \\\n",
       "4831          -1.237907           0.713793           2.930921   \n",
       "4646          -0.927031           0.713793           2.059519   \n",
       "2154          -1.237907           1.234547           2.059519   \n",
       "1581           0.938223          -0.848470          -0.554689   \n",
       "135           -1.237907           0.974170           2.495220   \n",
       "...                 ...                ...                ...   \n",
       "4931           0.938223          -0.848470          -0.554689   \n",
       "3264           0.938223          -0.848470          -0.554689   \n",
       "1653           0.938223          -0.848470          -0.554689   \n",
       "2607          -0.927031           2.276056          -0.554689   \n",
       "2732           0.938223          -0.848470          -0.554689   \n",
       "\n",
       "      RFCD.Percentage.4  RFCD.Percentage.5  SEO.Percentage.1  \\\n",
       "4831          -0.132421           -0.05932         -0.498697   \n",
       "4646          -0.132421           -0.05932         -0.812163   \n",
       "2154          -0.132421           -0.05932         -0.498697   \n",
       "1581          -0.132421           -0.05932          1.068634   \n",
       "135           -0.132421           -0.05932         -0.968896   \n",
       "...                 ...                ...               ...   \n",
       "4931          -0.132421           -0.05932          0.755168   \n",
       "3264          -0.132421           -0.05932          1.068634   \n",
       "1653          -0.132421           -0.05932          1.068634   \n",
       "2607          -0.132421           -0.05932          0.441702   \n",
       "2732          -0.132421           -0.05932         -1.282363   \n",
       "\n",
       "      SEO.Percentage.2  SEO.Percentage.3  SEO.Percentage.4  SEO.Percentage.5  \\\n",
       "4831          1.523473         -0.556283         -0.183075         -0.094005   \n",
       "4646          2.019962         -0.556283         -0.183075         -0.094005   \n",
       "2154          1.523473         -0.556283         -0.183075         -0.094005   \n",
       "1581         -0.958972         -0.556283         -0.183075         -0.094005   \n",
       "135           0.778740          2.001022         -0.183075         -0.094005   \n",
       "...                ...               ...               ...               ...   \n",
       "4931         -0.462483         -0.556283         -0.183075         -0.094005   \n",
       "3264         -0.958972         -0.556283         -0.183075         -0.094005   \n",
       "1653         -0.958972         -0.556283         -0.183075         -0.094005   \n",
       "2607          0.034006         -0.556283         -0.183075         -0.094005   \n",
       "2732          0.282250          1.574805          6.706862         -0.094005   \n",
       "\n",
       "      ...  5583  5584  5585  5586  5587  5588  5589  5590  5591  5592  \n",
       "4831  ...   0.0   0.0   0.0   0.0   0.0   0.0   0.0   0.0   0.0   1.0  \n",
       "4646  ...   0.0   0.0   0.0   0.0   0.0   0.0   0.0   0.0   1.0   0.0  \n",
       "2154  ...   0.0   0.0   0.0   0.0   0.0   0.0   0.0   0.0   0.0   1.0  \n",
       "1581  ...   0.0   0.0   0.0   0.0   0.0   0.0   0.0   0.0   1.0   0.0  \n",
       "135   ...   0.0   0.0   0.0   0.0   0.0   0.0   0.0   0.0   1.0   0.0  \n",
       "...   ...   ...   ...   ...   ...   ...   ...   ...   ...   ...   ...  \n",
       "4931  ...   0.0   0.0   0.0   0.0   0.0   0.0   0.0   0.0   0.0   1.0  \n",
       "3264  ...   0.0   0.0   0.0   0.0   0.0   0.0   0.0   1.0   1.0   0.0  \n",
       "1653  ...   0.0   0.0   0.0   0.0   0.0   0.0   0.0   0.0   0.0   1.0  \n",
       "2607  ...   0.0   0.0   0.0   0.0   0.0   0.0   0.0   0.0   0.0   1.0  \n",
       "2732  ...   0.0   0.0   0.0   0.0   0.0   0.0   0.0   0.0   0.0   1.0  \n",
       "\n",
       "[4200 rows x 5606 columns]"
      ]
     },
     "execution_count": 54,
     "metadata": {},
     "output_type": "execute_result"
    }
   ],
   "source": [
    "# 1. Составляем обучающую выборки из вещественных и категориальных признаков\n",
    "\n",
    "df_a = pd.DataFrame(X_train_real_scaled, index=X_train_real_zeros.index, columns=X_train_real_zeros.columns)\n",
    "df_b = pd.DataFrame(X_train_cat_oh, index=X_train_real_zeros.index)\n",
    "\n",
    "# выборка в которой пропущенные значения вещественных признков заполнены нулями\n",
    "X_train_zeros_scaled = df_a.join(df_b)\n",
    "X_train_zeros_scaled"
   ]
  },
  {
   "cell_type": "code",
   "execution_count": 55,
   "metadata": {},
   "outputs": [
    {
     "name": "stdout",
     "output_type": "stream",
     "text": [
      "Wall time: 8.43 s\n"
     ]
    },
    {
     "data": {
      "text/plain": [
       "GridSearchCV(cv=3, estimator=LogisticRegression(solver='liblinear'), n_jobs=3,\n",
       "             param_grid={'C': [0.01, 0.05, 0.1, 0.5, 1, 5, 10]})"
      ]
     },
     "execution_count": 55,
     "metadata": {},
     "output_type": "execute_result"
    }
   ],
   "source": [
    "%%time\n",
    "\n",
    "# 2. Обучаем логистическую регрессию, подбирая параметры из заданной сетки param_grid по кросс-валидации с числом фолдов cv=3.\n",
    "optimizer = GridSearchCV(estimator=LogisticRegression(penalty='l2', solver='liblinear'), param_grid=param_grid, cv=cv, n_jobs=3)\n",
    "\n",
    "# пробуем выборку с прорпусками, заполненными нулями с масштабированными признаками\n",
    "optimizer.fit(X_train_zeros_scaled, y_train)"
   ]
  },
  {
   "cell_type": "code",
   "execution_count": 56,
   "metadata": {},
   "outputs": [
    {
     "data": {
      "image/png": "[encoded data removed]",
      "text/plain": [
       "<Figure size 432x288 with 1 Axes>"
      ]
     },
     "metadata": {
      "needs_background": "light"
     },
     "output_type": "display_data"
    }
   ],
   "source": [
    "# 3. график оценок точности с учётом стандратного отклонения в зависимости от гиперпараметра C (Inverse of regularization strength)\n",
    "plot_scores(optimizer=optimizer)"
   ]
  },
  {
   "cell_type": "code",
   "execution_count": 57,
   "metadata": {},
   "outputs": [
    {
     "data": {
      "text/plain": [
       "LogisticRegression(C=0.05, solver='liblinear')"
      ]
     },
     "execution_count": 57,
     "metadata": {},
     "output_type": "execute_result"
    }
   ],
   "source": [
    "optimizer.best_estimator_"
   ]
  },
  {
   "cell_type": "code",
   "execution_count": 58,
   "metadata": {},
   "outputs": [
    {
     "data": {
      "text/html": [
       "<div>\n",
       "<style scoped>\n",
       "    .dataframe tbody tr th:only-of-type {\n",
       "        vertical-align: middle;\n",
       "    }\n",
       "\n",
       "    .dataframe tbody tr th {\n",
       "        vertical-align: top;\n",
       "    }\n",
       "\n",
       "    .dataframe thead th {\n",
       "        text-align: right;\n",
       "    }\n",
       "</style>\n",
       "<table border=\"1\" class=\"dataframe\">\n",
       "  <thead>\n",
       "    <tr style=\"text-align: right;\">\n",
       "      <th></th>\n",
       "      <th>RFCD.Percentage.1</th>\n",
       "      <th>RFCD.Percentage.2</th>\n",
       "      <th>RFCD.Percentage.3</th>\n",
       "      <th>RFCD.Percentage.4</th>\n",
       "      <th>RFCD.Percentage.5</th>\n",
       "      <th>SEO.Percentage.1</th>\n",
       "      <th>SEO.Percentage.2</th>\n",
       "      <th>SEO.Percentage.3</th>\n",
       "      <th>SEO.Percentage.4</th>\n",
       "      <th>SEO.Percentage.5</th>\n",
       "      <th>...</th>\n",
       "      <th>5583</th>\n",
       "      <th>5584</th>\n",
       "      <th>5585</th>\n",
       "      <th>5586</th>\n",
       "      <th>5587</th>\n",
       "      <th>5588</th>\n",
       "      <th>5589</th>\n",
       "      <th>5590</th>\n",
       "      <th>5591</th>\n",
       "      <th>5592</th>\n",
       "    </tr>\n",
       "  </thead>\n",
       "  <tbody>\n",
       "    <tr>\n",
       "      <th>4320</th>\n",
       "      <td>0.316471</td>\n",
       "      <td>0.193039</td>\n",
       "      <td>-0.554689</td>\n",
       "      <td>-0.132421</td>\n",
       "      <td>-0.05932</td>\n",
       "      <td>1.068634</td>\n",
       "      <td>-0.958972</td>\n",
       "      <td>-0.556283</td>\n",
       "      <td>-0.183075</td>\n",
       "      <td>-0.094005</td>\n",
       "      <td>...</td>\n",
       "      <td>0.0</td>\n",
       "      <td>0.0</td>\n",
       "      <td>0.0</td>\n",
       "      <td>0.0</td>\n",
       "      <td>0.0</td>\n",
       "      <td>0.0</td>\n",
       "      <td>0.0</td>\n",
       "      <td>0.0</td>\n",
       "      <td>0.0</td>\n",
       "      <td>1.0</td>\n",
       "    </tr>\n",
       "    <tr>\n",
       "      <th>2006</th>\n",
       "      <td>-2.170534</td>\n",
       "      <td>-0.848470</td>\n",
       "      <td>-0.554689</td>\n",
       "      <td>-0.132421</td>\n",
       "      <td>-0.05932</td>\n",
       "      <td>-2.066028</td>\n",
       "      <td>-0.958972</td>\n",
       "      <td>-0.556283</td>\n",
       "      <td>-0.183075</td>\n",
       "      <td>-0.094005</td>\n",
       "      <td>...</td>\n",
       "      <td>0.0</td>\n",
       "      <td>0.0</td>\n",
       "      <td>0.0</td>\n",
       "      <td>0.0</td>\n",
       "      <td>0.0</td>\n",
       "      <td>0.0</td>\n",
       "      <td>0.0</td>\n",
       "      <td>0.0</td>\n",
       "      <td>1.0</td>\n",
       "      <td>0.0</td>\n",
       "    </tr>\n",
       "    <tr>\n",
       "      <th>5689</th>\n",
       "      <td>0.938223</td>\n",
       "      <td>-0.848470</td>\n",
       "      <td>-0.554689</td>\n",
       "      <td>-0.132421</td>\n",
       "      <td>-0.05932</td>\n",
       "      <td>-0.185231</td>\n",
       "      <td>0.034006</td>\n",
       "      <td>1.148587</td>\n",
       "      <td>-0.183075</td>\n",
       "      <td>-0.094005</td>\n",
       "      <td>...</td>\n",
       "      <td>0.0</td>\n",
       "      <td>0.0</td>\n",
       "      <td>0.0</td>\n",
       "      <td>0.0</td>\n",
       "      <td>0.0</td>\n",
       "      <td>0.0</td>\n",
       "      <td>0.0</td>\n",
       "      <td>0.0</td>\n",
       "      <td>0.0</td>\n",
       "      <td>1.0</td>\n",
       "    </tr>\n",
       "    <tr>\n",
       "      <th>472</th>\n",
       "      <td>0.938223</td>\n",
       "      <td>-0.848470</td>\n",
       "      <td>-0.554689</td>\n",
       "      <td>-0.132421</td>\n",
       "      <td>-0.05932</td>\n",
       "      <td>1.068634</td>\n",
       "      <td>-0.958972</td>\n",
       "      <td>-0.556283</td>\n",
       "      <td>-0.183075</td>\n",
       "      <td>-0.094005</td>\n",
       "      <td>...</td>\n",
       "      <td>0.0</td>\n",
       "      <td>0.0</td>\n",
       "      <td>0.0</td>\n",
       "      <td>0.0</td>\n",
       "      <td>0.0</td>\n",
       "      <td>0.0</td>\n",
       "      <td>0.0</td>\n",
       "      <td>1.0</td>\n",
       "      <td>1.0</td>\n",
       "      <td>0.0</td>\n",
       "    </tr>\n",
       "    <tr>\n",
       "      <th>1370</th>\n",
       "      <td>0.938223</td>\n",
       "      <td>-0.848470</td>\n",
       "      <td>-0.554689</td>\n",
       "      <td>-0.132421</td>\n",
       "      <td>-0.05932</td>\n",
       "      <td>1.068634</td>\n",
       "      <td>-0.958972</td>\n",
       "      <td>-0.556283</td>\n",
       "      <td>-0.183075</td>\n",
       "      <td>-0.094005</td>\n",
       "      <td>...</td>\n",
       "      <td>0.0</td>\n",
       "      <td>0.0</td>\n",
       "      <td>0.0</td>\n",
       "      <td>0.0</td>\n",
       "      <td>0.0</td>\n",
       "      <td>0.0</td>\n",
       "      <td>0.0</td>\n",
       "      <td>0.0</td>\n",
       "      <td>1.0</td>\n",
       "      <td>0.0</td>\n",
       "    </tr>\n",
       "    <tr>\n",
       "      <th>...</th>\n",
       "      <td>...</td>\n",
       "      <td>...</td>\n",
       "      <td>...</td>\n",
       "      <td>...</td>\n",
       "      <td>...</td>\n",
       "      <td>...</td>\n",
       "      <td>...</td>\n",
       "      <td>...</td>\n",
       "      <td>...</td>\n",
       "      <td>...</td>\n",
       "      <td>...</td>\n",
       "      <td>...</td>\n",
       "      <td>...</td>\n",
       "      <td>...</td>\n",
       "      <td>...</td>\n",
       "      <td>...</td>\n",
       "      <td>...</td>\n",
       "      <td>...</td>\n",
       "      <td>...</td>\n",
       "      <td>...</td>\n",
       "      <td>...</td>\n",
       "    </tr>\n",
       "    <tr>\n",
       "      <th>1698</th>\n",
       "      <td>-1.237907</td>\n",
       "      <td>2.796810</td>\n",
       "      <td>-0.554689</td>\n",
       "      <td>-0.132421</td>\n",
       "      <td>-0.05932</td>\n",
       "      <td>-1.125630</td>\n",
       "      <td>2.516451</td>\n",
       "      <td>-0.556283</td>\n",
       "      <td>-0.183075</td>\n",
       "      <td>-0.094005</td>\n",
       "      <td>...</td>\n",
       "      <td>0.0</td>\n",
       "      <td>0.0</td>\n",
       "      <td>0.0</td>\n",
       "      <td>0.0</td>\n",
       "      <td>0.0</td>\n",
       "      <td>0.0</td>\n",
       "      <td>0.0</td>\n",
       "      <td>0.0</td>\n",
       "      <td>0.0</td>\n",
       "      <td>1.0</td>\n",
       "    </tr>\n",
       "    <tr>\n",
       "      <th>976</th>\n",
       "      <td>0.005596</td>\n",
       "      <td>0.193039</td>\n",
       "      <td>0.316713</td>\n",
       "      <td>-0.132421</td>\n",
       "      <td>-0.05932</td>\n",
       "      <td>-0.185231</td>\n",
       "      <td>0.530495</td>\n",
       "      <td>0.296152</td>\n",
       "      <td>-0.183075</td>\n",
       "      <td>-0.094005</td>\n",
       "      <td>...</td>\n",
       "      <td>0.0</td>\n",
       "      <td>0.0</td>\n",
       "      <td>0.0</td>\n",
       "      <td>0.0</td>\n",
       "      <td>0.0</td>\n",
       "      <td>0.0</td>\n",
       "      <td>0.0</td>\n",
       "      <td>0.0</td>\n",
       "      <td>1.0</td>\n",
       "      <td>0.0</td>\n",
       "    </tr>\n",
       "    <tr>\n",
       "      <th>2294</th>\n",
       "      <td>-0.927031</td>\n",
       "      <td>1.234547</td>\n",
       "      <td>1.188116</td>\n",
       "      <td>-0.132421</td>\n",
       "      <td>-0.05932</td>\n",
       "      <td>0.128235</td>\n",
       "      <td>0.034006</td>\n",
       "      <td>0.296152</td>\n",
       "      <td>-0.183075</td>\n",
       "      <td>-0.094005</td>\n",
       "      <td>...</td>\n",
       "      <td>0.0</td>\n",
       "      <td>0.0</td>\n",
       "      <td>0.0</td>\n",
       "      <td>0.0</td>\n",
       "      <td>0.0</td>\n",
       "      <td>0.0</td>\n",
       "      <td>0.0</td>\n",
       "      <td>0.0</td>\n",
       "      <td>0.0</td>\n",
       "      <td>1.0</td>\n",
       "    </tr>\n",
       "    <tr>\n",
       "      <th>892</th>\n",
       "      <td>-0.927031</td>\n",
       "      <td>0.713793</td>\n",
       "      <td>2.059519</td>\n",
       "      <td>-0.132421</td>\n",
       "      <td>-0.05932</td>\n",
       "      <td>-0.812163</td>\n",
       "      <td>0.530495</td>\n",
       "      <td>2.001022</td>\n",
       "      <td>-0.183075</td>\n",
       "      <td>-0.094005</td>\n",
       "      <td>...</td>\n",
       "      <td>0.0</td>\n",
       "      <td>0.0</td>\n",
       "      <td>0.0</td>\n",
       "      <td>0.0</td>\n",
       "      <td>0.0</td>\n",
       "      <td>0.0</td>\n",
       "      <td>0.0</td>\n",
       "      <td>0.0</td>\n",
       "      <td>0.0</td>\n",
       "      <td>1.0</td>\n",
       "    </tr>\n",
       "    <tr>\n",
       "      <th>4086</th>\n",
       "      <td>0.938223</td>\n",
       "      <td>-0.848470</td>\n",
       "      <td>-0.554689</td>\n",
       "      <td>-0.132421</td>\n",
       "      <td>-0.05932</td>\n",
       "      <td>1.068634</td>\n",
       "      <td>-0.958972</td>\n",
       "      <td>-0.556283</td>\n",
       "      <td>-0.183075</td>\n",
       "      <td>-0.094005</td>\n",
       "      <td>...</td>\n",
       "      <td>0.0</td>\n",
       "      <td>0.0</td>\n",
       "      <td>0.0</td>\n",
       "      <td>0.0</td>\n",
       "      <td>0.0</td>\n",
       "      <td>0.0</td>\n",
       "      <td>1.0</td>\n",
       "      <td>0.0</td>\n",
       "      <td>0.0</td>\n",
       "      <td>1.0</td>\n",
       "    </tr>\n",
       "  </tbody>\n",
       "</table>\n",
       "<p>1800 rows × 5606 columns</p>\n",
       "</div>"
      ],
      "text/plain": [
       "      RFCD.Percentage.1  RFCD.Percentage.2  RFCD.Percentage.3  \\\n",
       "4320           0.316471           0.193039          -0.554689   \n",
       "2006          -2.170534          -0.848470          -0.554689   \n",
       "5689           0.938223          -0.848470          -0.554689   \n",
       "472            0.938223          -0.848470          -0.554689   \n",
       "1370           0.938223          -0.848470          -0.554689   \n",
       "...                 ...                ...                ...   \n",
       "1698          -1.237907           2.796810          -0.554689   \n",
       "976            0.005596           0.193039           0.316713   \n",
       "2294          -0.927031           1.234547           1.188116   \n",
       "892           -0.927031           0.713793           2.059519   \n",
       "4086           0.938223          -0.848470          -0.554689   \n",
       "\n",
       "      RFCD.Percentage.4  RFCD.Percentage.5  SEO.Percentage.1  \\\n",
       "4320          -0.132421           -0.05932          1.068634   \n",
       "2006          -0.132421           -0.05932         -2.066028   \n",
       "5689          -0.132421           -0.05932         -0.185231   \n",
       "472           -0.132421           -0.05932          1.068634   \n",
       "1370          -0.132421           -0.05932          1.068634   \n",
       "...                 ...                ...               ...   \n",
       "1698          -0.132421           -0.05932         -1.125630   \n",
       "976           -0.132421           -0.05932         -0.185231   \n",
       "2294          -0.132421           -0.05932          0.128235   \n",
       "892           -0.132421           -0.05932         -0.812163   \n",
       "4086          -0.132421           -0.05932          1.068634   \n",
       "\n",
       "      SEO.Percentage.2  SEO.Percentage.3  SEO.Percentage.4  SEO.Percentage.5  \\\n",
       "4320         -0.958972         -0.556283         -0.183075         -0.094005   \n",
       "2006         -0.958972         -0.556283         -0.183075         -0.094005   \n",
       "5689          0.034006          1.148587         -0.183075         -0.094005   \n",
       "472          -0.958972         -0.556283         -0.183075         -0.094005   \n",
       "1370         -0.958972         -0.556283         -0.183075         -0.094005   \n",
       "...                ...               ...               ...               ...   \n",
       "1698          2.516451         -0.556283         -0.183075         -0.094005   \n",
       "976           0.530495          0.296152         -0.183075         -0.094005   \n",
       "2294          0.034006          0.296152         -0.183075         -0.094005   \n",
       "892           0.530495          2.001022         -0.183075         -0.094005   \n",
       "4086         -0.958972         -0.556283         -0.183075         -0.094005   \n",
       "\n",
       "      ...  5583  5584  5585  5586  5587  5588  5589  5590  5591  5592  \n",
       "4320  ...   0.0   0.0   0.0   0.0   0.0   0.0   0.0   0.0   0.0   1.0  \n",
       "2006  ...   0.0   0.0   0.0   0.0   0.0   0.0   0.0   0.0   1.0   0.0  \n",
       "5689  ...   0.0   0.0   0.0   0.0   0.0   0.0   0.0   0.0   0.0   1.0  \n",
       "472   ...   0.0   0.0   0.0   0.0   0.0   0.0   0.0   1.0   1.0   0.0  \n",
       "1370  ...   0.0   0.0   0.0   0.0   0.0   0.0   0.0   0.0   1.0   0.0  \n",
       "...   ...   ...   ...   ...   ...   ...   ...   ...   ...   ...   ...  \n",
       "1698  ...   0.0   0.0   0.0   0.0   0.0   0.0   0.0   0.0   0.0   1.0  \n",
       "976   ...   0.0   0.0   0.0   0.0   0.0   0.0   0.0   0.0   1.0   0.0  \n",
       "2294  ...   0.0   0.0   0.0   0.0   0.0   0.0   0.0   0.0   0.0   1.0  \n",
       "892   ...   0.0   0.0   0.0   0.0   0.0   0.0   0.0   0.0   0.0   1.0  \n",
       "4086  ...   0.0   0.0   0.0   0.0   0.0   0.0   1.0   0.0   0.0   1.0  \n",
       "\n",
       "[1800 rows x 5606 columns]"
      ]
     },
     "execution_count": 58,
     "metadata": {},
     "output_type": "execute_result"
    }
   ],
   "source": [
    "# 4. Составим тестовую выборку из вещественных и категориальных признаков\n",
    "\n",
    "df_a = pd.DataFrame(X_test_real_scaled, index=X_test_real_zeros.index, columns=X_test_real_zeros.columns)\n",
    "df_b = pd.DataFrame(X_test_cat_oh, index=X_test_real_zeros.index)\n",
    "\n",
    "# выборка в которой пропущенные значения вещественных признков заполнены нулями\n",
    "X_test_zeros_scaled = df_a.join(df_b)\n",
    "X_test_zeros_scaled"
   ]
  },
  {
   "cell_type": "code",
   "execution_count": 59,
   "metadata": {},
   "outputs": [
    {
     "data": {
      "text/plain": [
       "0.885044379082622"
      ]
     },
     "execution_count": 59,
     "metadata": {},
     "output_type": "execute_result"
    }
   ],
   "source": [
    "# площадь под ROC-кривой\n",
    "roc_auc_zeros_na_scaled = roc_auc_score(y_true=y_test, y_score=optimizer.best_estimator_.predict_proba(X_test_zeros_scaled).T[1])\n",
    "roc_auc_zeros_na_scaled"
   ]
  },
  {
   "cell_type": "code",
   "execution_count": 60,
   "metadata": {},
   "outputs": [
    {
     "data": {
      "image/png": "[encoded data removed]",
      "text/plain": [
       "<Figure size 432x288 with 1 Axes>"
      ]
     },
     "metadata": {
      "needs_background": "light"
     },
     "output_type": "display_data"
    }
   ],
   "source": [
    "fpr, tpr, _ = roc_curve(y_true=y_test, y_score=optimizer_means.best_estimator_.predict_proba(X_test_zeros_scaled).T[1])\n",
    "plt.plot(fpr, tpr, label = 'Кривая для NaN=mean')\n",
    "plt.plot([0, 1], [0, 1], '--', color = 'grey', label = 'random')\n",
    "plt.xlim([-0.05, 1.05])\n",
    "plt.ylim([-0.05, 1.05])\n",
    "plt.xlabel('False Positive Rate')\n",
    "plt.ylabel('True Positive Rate')\n",
    "plt.title('ROC curve')\n",
    "plt.legend(loc = \"lower right\")\n",
    "plt.show()"
   ]
  },
  {
   "cell_type": "code",
   "execution_count": 61,
   "metadata": {},
   "outputs": [],
   "source": [
    "write_answer_2(roc_auc_zeros_na_scaled)"
   ]
  },
  {
   "cell_type": "markdown",
   "metadata": {},
   "source": [
    "## Балансировка классов."
   ]
  },
  {
   "cell_type": "markdown",
   "metadata": {},
   "source": [
    "**Алгоритмы классификации могут быть очень чувствительны к несбалансированным классам**. Рассмотрим пример с выборками, сэмплированными из двух гауссиан. Их мат. ожидания и матрицы ковариации заданы так, что истинная разделяющая поверхность должна проходить параллельно оси x. Поместим в обучающую выборку 20 объектов, сэмплированных из 1-й гауссианы, и 10 объектов из 2-й. После этого обучим на них линейную регрессию, и построим на графиках объекты и области классификации."
   ]
  },
  {
   "cell_type": "code",
   "execution_count": 62,
   "metadata": {},
   "outputs": [
    {
     "data": {
      "image/png": "[encoded data removed]",
      "text/plain": [
       "<Figure size 432x288 with 1 Axes>"
      ]
     },
     "metadata": {
      "needs_background": "light"
     },
     "output_type": "display_data"
    },
    {
     "name": "stdout",
     "output_type": "stream",
     "text": [
      "AUC: 0.911667\n"
     ]
    },
    {
     "data": {
      "image/png": "[encoded data removed]",
      "text/plain": [
       "<Figure size 432x288 with 1 Axes>"
      ]
     },
     "metadata": {
      "needs_background": "light"
     },
     "output_type": "display_data"
    },
    {
     "name": "stdout",
     "output_type": "stream",
     "text": [
      "AUC: 0.906667\n"
     ]
    }
   ],
   "source": [
    "np.random.seed(0)\n",
    "\"\"\"Сэмплируем данные из первой гауссианы\"\"\"\n",
    "data_0 = np.random.multivariate_normal([0,0], [[0.5,0],[0,0.5]], size=40)\n",
    "\"\"\"И из второй\"\"\"\n",
    "data_1 = np.random.multivariate_normal([0,1], [[0.5,0],[0,0.5]], size=40)\n",
    "\"\"\"На обучение берём 20 объектов из первого класса и 10 из второго\"\"\"\n",
    "example_data_train = np.vstack([data_0[:20,:], data_1[:10,:]])\n",
    "example_labels_train = np.concatenate([np.zeros((20)), np.ones((10))])\n",
    "\"\"\"На тест - 20 из первого и 30 из второго\"\"\"\n",
    "example_data_test = np.vstack([data_0[20:,:], data_1[10:,:]])\n",
    "example_labels_test = np.concatenate([np.zeros((20)), np.ones((30))])\n",
    "\"\"\"Задаём координатную сетку, на которой будем вычислять область классификации\"\"\"\n",
    "xx, yy = np.meshgrid(np.arange(-3, 3, 0.02), np.arange(-3, 3, 0.02))\n",
    "\"\"\"Обучаем регрессию без балансировки по классам\"\"\"\n",
    "optimizer = GridSearchCV(LogisticRegression(), param_grid, cv=cv, n_jobs=-1)\n",
    "optimizer.fit(example_data_train, example_labels_train)\n",
    "\"\"\"Строим предсказания регрессии для сетки\"\"\"\n",
    "Z = optimizer.predict(np.c_[xx.ravel(), yy.ravel()]).reshape(xx.shape)\n",
    "plt.pcolormesh(xx, yy, Z, cmap=plt.cm.Pastel2)\n",
    "plt.scatter(data_0[:,0], data_0[:,1], color='red')\n",
    "plt.scatter(data_1[:,0], data_1[:,1], color='blue')\n",
    "\"\"\"Считаем AUC\"\"\"\n",
    "auc_wo_class_weights = roc_auc_score(example_labels_test, optimizer.predict_proba(example_data_test)[:,1])\n",
    "plt.title('Without class weights')\n",
    "plt.show()\n",
    "print('AUC: %f'%auc_wo_class_weights)\n",
    "\"\"\"Для второй регрессии в LogisticRegression передаём параметр class_weight='balanced'\"\"\"\n",
    "optimizer = GridSearchCV(LogisticRegression(class_weight='balanced'), param_grid, cv=cv, n_jobs=-1)\n",
    "optimizer.fit(example_data_train, example_labels_train)\n",
    "Z = optimizer.predict(np.c_[xx.ravel(), yy.ravel()]).reshape(xx.shape)\n",
    "plt.pcolormesh(xx, yy, Z, cmap=plt.cm.Pastel2)\n",
    "plt.scatter(data_0[:,0], data_0[:,1], color='red')\n",
    "plt.scatter(data_1[:,0], data_1[:,1], color='blue')\n",
    "auc_w_class_weights = roc_auc_score(example_labels_test, optimizer.predict_proba(example_data_test)[:,1])\n",
    "plt.title('With class weights')\n",
    "plt.show()\n",
    "print('AUC: %f'%auc_w_class_weights)"
   ]
  },
  {
   "cell_type": "markdown",
   "metadata": {},
   "source": [
    "Как видно, во втором случае классификатор находит разделяющую поверхность, которая ближе к истинной, т.е. меньше переобучается. Поэтому на сбалансированность классов в обучающей выборке всегда следует обращать внимание.\n",
    "\n",
    "Посмотрим, сбалансированны ли классы в нашей обучающей выборке:"
   ]
  },
  {
   "cell_type": "code",
   "execution_count": 63,
   "metadata": {},
   "outputs": [
    {
     "name": "stdout",
     "output_type": "stream",
     "text": [
      "2316\n",
      "1884\n"
     ]
    }
   ],
   "source": [
    "print(np.sum(y_train==0))\n",
    "print(np.sum(y_train==1))"
   ]
  },
  {
   "cell_type": "markdown",
   "metadata": {},
   "source": [
    "Видно, что нет.\n",
    "\n",
    "Исправить ситуацию можно разными способами, мы рассмотрим два:\n",
    "- давать объектам миноритарного класса больший вес при обучении классификатора (рассмотрен в примере выше)\n",
    "- досэмплировать объекты миноритарного класса, пока число объектов в обоих классах не сравняется"
   ]
  },
  {
   "cell_type": "markdown",
   "metadata": {},
   "source": [
    "## Задание 3. Балансировка классов.\n",
    "1. Обучите логистическую регрессию и гиперпараметры с балансировкой классов, используя веса (параметр `class_weight='balanced'` регрессии) на отмасштабированных выборках, полученных в предыдущем задании. Убедитесь, что вы нашли максимум accuracy по гиперпараметрам.\n",
    "2. Получите метрику ROC AUC на тестовой выборке.\n",
    "3. Сбалансируйте выборку, досэмплировав в неё объекты из меньшего класса. Для получения индексов объектов, которые требуется добавить в обучающую выборку, используйте следующую комбинацию вызовов функций:\n",
    "        np.random.seed(0)\n",
    "        indices_to_add = np.random.randint(...)\n",
    "        X_train_to_add = X_train[y_train.as_matrix() == 1,:][indices_to_add,:]\n",
    "   После этого добавьте эти объекты в начало или конец обучающей выборки. Дополните соответствующим      образом вектор ответов.\n",
    "4. Получите метрику ROC AUC на тестовой выборке, сравните с предыдущим результатом.\n",
    "5. Внесите ответы в выходной файл при помощи функции write_asnwer_3, передав в неё сначала ROC AUC для балансировки весами, а потом балансировки выборки вручную."
   ]
  },
  {
   "cell_type": "code",
   "execution_count": 92,
   "metadata": {},
   "outputs": [],
   "source": [
    "def write_answer_3(auc_1, auc_2):\n",
    "    \"\"\"\n",
    "    auc_1 - площадь под ROC-кривой при балансировке с весами\n",
    "    auc_2 - площадь под ROC-кривой при балансировке выборки вручную\n",
    "    \"\"\"\n",
    "    \n",
    "    auc = (auc_1 + auc_2) / 2\n",
    "    with open(\"preprocessing_lr_answer3.txt\", \"w\") as fout:\n",
    "        fout.write(str(auc))\n",
    "        \n",
    "# place your code here"
   ]
  },
  {
   "cell_type": "code",
   "execution_count": 65,
   "metadata": {},
   "outputs": [
    {
     "name": "stdout",
     "output_type": "stream",
     "text": [
      "Wall time: 6.9 s\n"
     ]
    },
    {
     "data": {
      "text/plain": [
       "GridSearchCV(cv=3,\n",
       "             estimator=LogisticRegression(class_weight='balanced',\n",
       "                                          solver='liblinear'),\n",
       "             n_jobs=3, param_grid={'C': [0.01, 0.05, 0.1, 0.5, 1, 5, 10]})"
      ]
     },
     "execution_count": 65,
     "metadata": {},
     "output_type": "execute_result"
    }
   ],
   "source": [
    "%%time\n",
    "# 1. Обучим логистическую регрессию с балансировкой классов, используя веса (параметр class_weight='balanced' регрессии)\n",
    "# на отмасштабированных выборках, полученных в предыдущем задании.\n",
    "\n",
    "optimizer = GridSearchCV(estimator=LogisticRegression(penalty='l2',\n",
    "                                                      class_weight='balanced',\n",
    "                                                      solver='liblinear'), param_grid=param_grid, cv=cv, n_jobs=3)\n",
    "\n",
    "# пробуем выборку с прорпусками, заполненными нулями с масштабированными признаками\n",
    "optimizer.fit(X_train_zeros_scaled, y_train)"
   ]
  },
  {
   "cell_type": "code",
   "execution_count": 66,
   "metadata": {},
   "outputs": [
    {
     "data": {
      "image/png": "[encoded data removed]",
      "text/plain": [
       "<Figure size 432x288 with 1 Axes>"
      ]
     },
     "metadata": {
      "needs_background": "light"
     },
     "output_type": "display_data"
    }
   ],
   "source": [
    "# график оценок точности с учётом стандратного отклонения в зависимости от гиперпараметра C (Inverse of regularization strength)\n",
    "plot_scores(optimizer=optimizer)"
   ]
  },
  {
   "cell_type": "code",
   "execution_count": 67,
   "metadata": {},
   "outputs": [
    {
     "data": {
      "text/plain": [
       "LogisticRegression(C=0.1, class_weight='balanced', solver='liblinear')"
      ]
     },
     "execution_count": 67,
     "metadata": {},
     "output_type": "execute_result"
    }
   ],
   "source": [
    "optimizer.best_estimator_"
   ]
  },
  {
   "cell_type": "code",
   "execution_count": 68,
   "metadata": {},
   "outputs": [
    {
     "data": {
      "text/plain": [
       "0.8871875429220529"
      ]
     },
     "execution_count": 68,
     "metadata": {},
     "output_type": "execute_result"
    }
   ],
   "source": [
    "# площадь под ROC-кривой\n",
    "roc_auc_zeros_na_scaled_weighted = roc_auc_score(y_true=y_test, y_score=optimizer.best_estimator_.predict_proba(X_test_zeros_scaled).T[1])\n",
    "roc_auc_zeros_na_scaled_weighted"
   ]
  },
  {
   "cell_type": "code",
   "execution_count": 84,
   "metadata": {},
   "outputs": [],
   "source": [
    "# Теперь другой метод балансировки: дополним малую выборку объектами из меньшего по объему класса. \n",
    "\n",
    "# необходимое количество объектов, которые необходимо добавить\n",
    "y_train_0 = np.sum(y_train==0)  # количество неудовлетворённых заявок на грант\n",
    "y_train_1 = np.sum(y_train==1)  # количество удовлетворённых заявок на грант\n",
    "qty_of_objects_to_add = y_train_0 - y_train_1 # разница в объёме этих классов\n",
    "\n",
    "np.random.seed(0)\n",
    "\n",
    "# сформируем список из индексов объектов недостающего класса (одобренные заявки на гранты)\n",
    "indices_to_add = np.random.choice(a=y_train[y_train == 1].index, size=qty_of_objects_to_add)\n",
    "\n",
    "# датафрейм со случайно отобранными объектами \n",
    "X_train_to_add = X_train_zeros_scaled.loc[indices_to_add]\n",
    "y_train_to_add = y_train.loc[indices_to_add]"
   ]
  },
  {
   "cell_type": "code",
   "execution_count": 85,
   "metadata": {},
   "outputs": [],
   "source": [
    "X_train_zeros_scaled_oversampled = X_train_zeros_scaled.append(X_train_to_add)\n",
    "y_train_oversampled = y_train.append(y_train_to_add)"
   ]
  },
  {
   "cell_type": "code",
   "execution_count": 86,
   "metadata": {},
   "outputs": [
    {
     "name": "stdout",
     "output_type": "stream",
     "text": [
      "2316\n",
      "2316\n"
     ]
    }
   ],
   "source": [
    "# Проверяем, как теперь соотносятся классы\n",
    "print(np.sum(y_train_oversampled==0))\n",
    "print(np.sum(y_train_oversampled==1))"
   ]
  },
  {
   "cell_type": "code",
   "execution_count": 88,
   "metadata": {},
   "outputs": [
    {
     "name": "stdout",
     "output_type": "stream",
     "text": [
      "Wall time: 7.4 s\n"
     ]
    },
    {
     "data": {
      "text/plain": [
       "GridSearchCV(cv=3, estimator=LogisticRegression(solver='liblinear'), n_jobs=3,\n",
       "             param_grid={'C': [0.01, 0.05, 0.1, 0.5, 1, 5, 10]})"
      ]
     },
     "execution_count": 88,
     "metadata": {},
     "output_type": "execute_result"
    }
   ],
   "source": [
    "%%time\n",
    "# Обучим логистическую регрессию с балансировкой классов, используя веса (параметр class_weight='balanced' регрессии)\n",
    "# на отмасштабированных выборках, полученных в предыдущем задании.\n",
    "\n",
    "optimizer = GridSearchCV(estimator=LogisticRegression(penalty='l2',\n",
    "                                                      solver='liblinear'), param_grid=param_grid, cv=cv, n_jobs=3)\n",
    "\n",
    "# пробуем выборку с прорпусками, заполненными нулями с масштабированными признаками\n",
    "optimizer.fit(X_train_zeros_scaled_oversampled, y_train_oversampled)"
   ]
  },
  {
   "cell_type": "code",
   "execution_count": 90,
   "metadata": {},
   "outputs": [
    {
     "data": {
      "text/plain": [
       "LogisticRegression(C=1, solver='liblinear')"
      ]
     },
     "execution_count": 90,
     "metadata": {},
     "output_type": "execute_result"
    }
   ],
   "source": [
    "optimizer.best_estimator_"
   ]
  },
  {
   "cell_type": "code",
   "execution_count": 89,
   "metadata": {},
   "outputs": [
    {
     "data": {
      "image/png": "[encoded data removed]",
      "text/plain": [
       "<Figure size 432x288 with 1 Axes>"
      ]
     },
     "metadata": {
      "needs_background": "light"
     },
     "output_type": "display_data"
    }
   ],
   "source": [
    "# график оценок точности с учётом стандратного отклонения в зависимости от гиперпараметра C (Inverse of regularization strength)\n",
    "plot_scores(optimizer=optimizer)"
   ]
  },
  {
   "cell_type": "code",
   "execution_count": 91,
   "metadata": {},
   "outputs": [
    {
     "data": {
      "text/plain": [
       "0.8832711956057717"
      ]
     },
     "execution_count": 91,
     "metadata": {},
     "output_type": "execute_result"
    }
   ],
   "source": [
    "# площадь под ROC-кривой\n",
    "roc_auc_zeros_na_scaled_oversampled = roc_auc_score(y_true=y_test, y_score=optimizer.best_estimator_.predict_proba(X_test_zeros_scaled).T[1])\n",
    "roc_auc_zeros_na_scaled_oversampled"
   ]
  },
  {
   "cell_type": "code",
   "execution_count": 93,
   "metadata": {},
   "outputs": [],
   "source": [
    "write_answer_3(roc_auc_zeros_na_scaled_weighted, roc_auc_zeros_na_scaled_oversampled)"
   ]
  },
  {
   "cell_type": "markdown",
   "metadata": {},
   "source": [
    "## Стратификация выборок"
   ]
  },
  {
   "cell_type": "markdown",
   "metadata": {},
   "source": [
    "Рассмотрим ещё раз пример с выборками из нормальных распределений. Посмотрим ещё раз на качество классификаторов, получаемое на тестовых выборках:"
   ]
  },
  {
   "cell_type": "code",
   "execution_count": 94,
   "metadata": {},
   "outputs": [
    {
     "name": "stdout",
     "output_type": "stream",
     "text": [
      "AUC ROC for classifier without weighted classes 0.9116666666666666\n",
      "AUC ROC for classifier with weighted classes:  0.9066666666666666\n"
     ]
    }
   ],
   "source": [
    "print('AUC ROC for classifier without weighted classes', auc_wo_class_weights)\n",
    "print('AUC ROC for classifier with weighted classes: ', auc_w_class_weights)"
   ]
  },
  {
   "cell_type": "markdown",
   "metadata": {},
   "source": [
    "Насколько эти цифры реально отражают качество работы алгоритма, если учесть, что тестовая выборка так же несбалансирована, как обучающая? При этом мы уже знаем, что алгоритм логистический регрессии чувствителен к балансировке классов в обучающей выборке, т.е. в данном случае на тесте он будет давать заведомо заниженные результаты. Метрика классификатора на тесте имела бы гораздо больший смысл, если бы объекты были разделы в выборках поровну: по 20 из каждого класса на обучени и на тесте. Переформируем выборки и подсчитаем новые ошибки:"
   ]
  },
  {
   "cell_type": "code",
   "execution_count": 95,
   "metadata": {},
   "outputs": [
    {
     "data": {
      "image/png": "[encoded data removed]",
      "text/plain": [
       "<Figure size 432x288 with 1 Axes>"
      ]
     },
     "metadata": {
      "needs_background": "light"
     },
     "output_type": "display_data"
    },
    {
     "name": "stdout",
     "output_type": "stream",
     "text": [
      "AUC ROC for stratified samples:  0.9125\n"
     ]
    }
   ],
   "source": [
    "\"\"\"Разделим данные по классам поровну между обучающей и тестовой выборками\"\"\"\n",
    "example_data_train = np.vstack([data_0[:20,:], data_1[:20,:]])\n",
    "example_labels_train = np.concatenate([np.zeros((20)), np.ones((20))])\n",
    "example_data_test = np.vstack([data_0[20:,:], data_1[20:,:]])\n",
    "example_labels_test = np.concatenate([np.zeros((20)), np.ones((20))])\n",
    "\"\"\"Обучим классификатор\"\"\"\n",
    "optimizer = GridSearchCV(LogisticRegression(class_weight='balanced'), param_grid, cv=cv, n_jobs=-1)\n",
    "optimizer.fit(example_data_train, example_labels_train)\n",
    "Z = optimizer.predict(np.c_[xx.ravel(), yy.ravel()]).reshape(xx.shape)\n",
    "plt.pcolormesh(xx, yy, Z, cmap=plt.cm.Pastel2)\n",
    "plt.scatter(data_0[:,0], data_0[:,1], color='red')\n",
    "plt.scatter(data_1[:,0], data_1[:,1], color='blue')\n",
    "auc_stratified = roc_auc_score(example_labels_test, optimizer.predict_proba(example_data_test)[:,1])\n",
    "plt.title('With class weights')\n",
    "plt.show()\n",
    "print('AUC ROC for stratified samples: ', auc_stratified)"
   ]
  },
  {
   "cell_type": "markdown",
   "metadata": {},
   "source": [
    "Как видно, после данной процедуры ответ классификатора изменился незначительно, а вот качество увеличилось. При этом, в зависимости от того, как вы разбили изначально данные на обучение и тест, после сбалансированного разделения выборок итоговая метрика на тесте может как увеличиться, так и уменьшиться, но доверять ей можно значительно больше, т.к. она построена с учётом специфики работы классификатора. Данный подход является частным случаем т.н. метода стратификации."
   ]
  },
  {
   "cell_type": "markdown",
   "metadata": {},
   "source": [
    "## Задание 4. Стратификация выборки.\n",
    "\n",
    "1. По аналогии с тем, как это было сделано в начале задания, разбейте выборки X_real_zeros и X_cat_oh на обучение и тест, передавая в функцию \n",
    "        train_test_split(...)\n",
    "   дополнительно параметр \n",
    "       stratify=y\n",
    "   Также обязательно передайте в функцию переменную random_state=0.\n",
    "2. Выполните масштабирование новых вещественных выборок, обучите классификатор и его гиперпараметры при помощи метода кросс-валидации, делая поправку на несбалансированные классы при помощи весов. Убедитесь в том, что нашли оптимум accuracy по гиперпараметрам.\n",
    "3. Оцените качество классификатора метрике AUC ROC на тестовой выборке.\n",
    "4. Полученный ответ передайте функции write_answer_4"
   ]
  },
  {
   "cell_type": "code",
   "execution_count": 122,
   "metadata": {},
   "outputs": [],
   "source": [
    "def write_answer_4(auc):\n",
    "    with open(\"preprocessing_lr_answer4.txt\", \"w\") as fout:\n",
    "        fout.write(str(auc))\n",
    "        \n",
    "# place your code here"
   ]
  },
  {
   "cell_type": "code",
   "execution_count": 123,
   "metadata": {},
   "outputs": [],
   "source": [
    "# разбейте выборки X_real_zeros и X_cat_oh на обучение и тест,\n",
    "(X_train_real_zeros_stratified, \n",
    " X_test_real_zeros_stratified, \n",
    " y_train_stratified,\n",
    " y_test_stratified) = train_test_split(X_real_zeros, y,\n",
    "                                     test_size=0.3, \n",
    "                                     random_state=0,\n",
    "                                     stratify = y)\n",
    "(X_train_cat_oh_stratified,\n",
    " X_test_cat_oh_stratified) = train_test_split(X_cat_oh, \n",
    "                                   test_size=0.3, \n",
    "                                   random_state=0,\n",
    "                                   stratify = y)"
   ]
  },
  {
   "cell_type": "code",
   "execution_count": 124,
   "metadata": {},
   "outputs": [],
   "source": [
    "#  масштабирование новых вещественных выборок\n",
    "X_train_real_zeros_stratified_scaled = scaler.fit_transform(X=X_train_real_zeros_stratified)\n",
    "X_test_real_zeros_stratified_scaled = scaler.transform(X=X_test_real_zeros_stratified)  # применён только метод transform, т.к. fit уже сделан на обучающей выборке\n",
    "\n",
    "# Масшабирование категориальных признаков сделано один раз в самом начале ноутбука\n",
    "# Повторно делать не нужно."
   ]
  },
  {
   "cell_type": "code",
   "execution_count": 127,
   "metadata": {},
   "outputs": [],
   "source": [
    "# Составим обучающую выборку из вещественных и категориальных признаков\n",
    "\n",
    "df_a = pd.DataFrame(X_train_real_zeros_stratified_scaled,\n",
    "                    index=X_train_real_zeros_stratified.index,\n",
    "                    columns=X_train_real_zeros_stratified.columns)\n",
    "df_b = pd.DataFrame(X_train_cat_oh_stratified, index=X_train_real_zeros_stratified.index)\n",
    "\n",
    "# выборка в которой пропущенные значения вещественных признков заполнены нулями\n",
    "X_train_stratified = df_a.join(df_b)"
   ]
  },
  {
   "cell_type": "code",
   "execution_count": 128,
   "metadata": {},
   "outputs": [],
   "source": [
    "# Составим тестовоую выборку из вещественных и категориальных признаков\n",
    "\n",
    "df_a = pd.DataFrame(X_test_real_zeros_stratified_scaled,\n",
    "                    index=X_test_real_zeros_stratified.index,\n",
    "                    columns=X_test_real_zeros_stratified.columns)\n",
    "df_b = pd.DataFrame(X_test_cat_oh_stratified, index=X_test_real_zeros_stratified.index)\n",
    "\n",
    "# выборка в которой пропущенные значения вещественных признков заполнены нулями\n",
    "X_test_stratified = df_a.join(df_b)"
   ]
  },
  {
   "cell_type": "code",
   "execution_count": 129,
   "metadata": {},
   "outputs": [
    {
     "name": "stdout",
     "output_type": "stream",
     "text": [
      "Wall time: 9.07 s\n"
     ]
    },
    {
     "data": {
      "text/plain": [
       "GridSearchCV(cv=3, estimator=LogisticRegression(solver='liblinear'), n_jobs=3,\n",
       "             param_grid={'C': [0.01, 0.05, 0.1, 0.5, 1, 5, 10]})"
      ]
     },
     "execution_count": 129,
     "metadata": {},
     "output_type": "execute_result"
    }
   ],
   "source": [
    "%%time\n",
    "#  обучите классификатор и его гиперпараметры при помощи метода кросс-валидации,\n",
    "# делая поправку на несбалансированные классы при помощи весов\n",
    "\n",
    "optimizer = GridSearchCV(estimator=LogisticRegression(penalty='l2',\n",
    "                                                      solver='liblinear'), param_grid=param_grid, cv=cv, n_jobs=3)\n",
    "\n",
    "# пробуем выборку с прорпусками, заполненными нулями с масштабированными признаками\n",
    "optimizer.fit(X_train_stratified, y_train_stratified)"
   ]
  },
  {
   "cell_type": "code",
   "execution_count": 130,
   "metadata": {},
   "outputs": [
    {
     "data": {
      "text/plain": [
       "LogisticRegression(C=0.1, solver='liblinear')"
      ]
     },
     "execution_count": 130,
     "metadata": {},
     "output_type": "execute_result"
    }
   ],
   "source": [
    "optimizer.best_estimator_"
   ]
  },
  {
   "cell_type": "code",
   "execution_count": 131,
   "metadata": {},
   "outputs": [
    {
     "data": {
      "image/png": "[encoded data removed]",
      "text/plain": [
       "<Figure size 432x288 with 1 Axes>"
      ]
     },
     "metadata": {
      "needs_background": "light"
     },
     "output_type": "display_data"
    }
   ],
   "source": [
    "# график оценок точности с учётом стандратного отклонения в зависимости от гиперпараметра C (Inverse of regularization strength)\n",
    "plot_scores(optimizer=optimizer)"
   ]
  },
  {
   "cell_type": "code",
   "execution_count": 132,
   "metadata": {},
   "outputs": [
    {
     "data": {
      "text/plain": [
       "0.8793536886938436"
      ]
     },
     "execution_count": 132,
     "metadata": {},
     "output_type": "execute_result"
    }
   ],
   "source": [
    "# площадь под ROC-кривой\n",
    "roc_auc_stratified_scaled = roc_auc_score(y_true=y_test_stratified, y_score=optimizer.best_estimator_.predict_proba(X_test_stratified).T[1])\n",
    "roc_auc_stratified_scaled"
   ]
  },
  {
   "cell_type": "code",
   "execution_count": 133,
   "metadata": {},
   "outputs": [],
   "source": [
    "write_answer_4(roc_auc_stratified_scaled)"
   ]
  },
  {
   "cell_type": "markdown",
   "metadata": {},
   "source": [
    "Теперь вы разобрались с основными этапами предобработки данных для линейных классификаторов.\n",
    "Напомним основные этапы:\n",
    "- обработка пропущенных значений\n",
    "- обработка категориальных признаков\n",
    "- стратификация\n",
    "- балансировка классов\n",
    "- масштабирование\n",
    "\n",
    "Данные действия с данными рекомендуется проводить всякий раз, когда вы планируете использовать линейные методы. Рекомендация по выполнению многих из этих пунктов справедлива и для других методов машинного обучения."
   ]
  },
  {
   "cell_type": "markdown",
   "metadata": {},
   "source": [
    "## Трансформация признаков.\n",
    "\n",
    "Теперь рассмотрим способы преобразования признаков. Существует достаточно много различных способов трансформации признаков, которые позволяют при помощи линейных методов получать более сложные разделяющие поверхности. Самым базовым является полиномиальное преобразование признаков. Его идея заключается в том, что помимо самих признаков вы дополнительно включаете набор все полиномы степени $p$, которые можно из них построить. Для случая $p=2$ преобразование выглядит следующим образом:\n",
    "\n",
    "$$ \\phi(x_i) = [x_{i,1}^2, ..., x_{i,D}^2, x_{i,1}x_{i,2}, ..., x_{i,D} x_{i,D-1}, x_{i,1}, ..., x_{i,D}, 1] $$\n",
    "\n",
    "Рассмотрим принцип работы данных признаков на данных, сэмплированных их гауссиан:"
   ]
  },
  {
   "cell_type": "code",
   "execution_count": 134,
   "metadata": {},
   "outputs": [
    {
     "data": {
      "image/png": "[encoded data removed]",
      "text/plain": [
       "<Figure size 432x288 with 1 Axes>"
      ]
     },
     "metadata": {
      "needs_background": "light"
     },
     "output_type": "display_data"
    }
   ],
   "source": [
    "from sklearn.preprocessing import PolynomialFeatures\n",
    "\n",
    "\"\"\"Инициализируем класс, который выполняет преобразование\"\"\"\n",
    "transform = PolynomialFeatures(2)\n",
    "\"\"\"Обучаем преобразование на обучающей выборке, применяем его к тестовой\"\"\"\n",
    "example_data_train_poly = transform.fit_transform(example_data_train)\n",
    "example_data_test_poly = transform.transform(example_data_test)\n",
    "\"\"\"Обращаем внимание на параметр fit_intercept=False\"\"\"\n",
    "optimizer = GridSearchCV(LogisticRegression(class_weight='balanced', fit_intercept=False), param_grid, cv=cv, n_jobs=-1)\n",
    "optimizer.fit(example_data_train_poly, example_labels_train)\n",
    "Z = optimizer.predict(transform.transform(np.c_[xx.ravel(), yy.ravel()])).reshape(xx.shape)\n",
    "plt.pcolormesh(xx, yy, Z, cmap=plt.cm.Pastel2)\n",
    "plt.scatter(data_0[:,0], data_0[:,1], color='red')\n",
    "plt.scatter(data_1[:,0], data_1[:,1], color='blue')\n",
    "plt.title('With class weights')\n",
    "plt.show()"
   ]
  },
  {
   "cell_type": "markdown",
   "metadata": {},
   "source": [
    "Видно, что данный метод преобразования данных уже позволяет строить нелинейные разделяющие поверхности, которые могут более тонко подстраиваться под данные и находить более сложные зависимости. Число признаков в новой модели:"
   ]
  },
  {
   "cell_type": "code",
   "execution_count": 135,
   "metadata": {},
   "outputs": [
    {
     "name": "stdout",
     "output_type": "stream",
     "text": [
      "(40, 6)\n"
     ]
    }
   ],
   "source": [
    "print(example_data_train_poly.shape)"
   ]
  },
  {
   "cell_type": "markdown",
   "metadata": {},
   "source": [
    "Но при этом одновременно данный метод способствует более сильной способности модели к переобучению из-за быстрого роста числа признаком с увеличением степени $p$. Рассмотрим пример с $p=11$:"
   ]
  },
  {
   "cell_type": "code",
   "execution_count": 136,
   "metadata": {},
   "outputs": [
    {
     "data": {
      "image/png": "[encoded data removed]",
      "text/plain": [
       "<Figure size 432x288 with 1 Axes>"
      ]
     },
     "metadata": {
      "needs_background": "light"
     },
     "output_type": "display_data"
    }
   ],
   "source": [
    "transform = PolynomialFeatures(11)\n",
    "example_data_train_poly = transform.fit_transform(example_data_train)\n",
    "example_data_test_poly = transform.transform(example_data_test)\n",
    "optimizer = GridSearchCV(LogisticRegression(class_weight='balanced', fit_intercept=False), param_grid, cv=cv, n_jobs=-1)\n",
    "optimizer.fit(example_data_train_poly, example_labels_train)\n",
    "Z = optimizer.predict(transform.transform(np.c_[xx.ravel(), yy.ravel()])).reshape(xx.shape)\n",
    "plt.pcolormesh(xx, yy, Z, cmap=plt.cm.Pastel2)\n",
    "plt.scatter(data_0[:,0], data_0[:,1], color='red')\n",
    "plt.scatter(data_1[:,0], data_1[:,1], color='blue')\n",
    "plt.title('Corrected class weights')\n",
    "plt.show()"
   ]
  },
  {
   "cell_type": "markdown",
   "metadata": {},
   "source": [
    "Количество признаков в данной модели:"
   ]
  },
  {
   "cell_type": "code",
   "execution_count": 137,
   "metadata": {},
   "outputs": [
    {
     "name": "stdout",
     "output_type": "stream",
     "text": [
      "(40, 78)\n"
     ]
    }
   ],
   "source": [
    "print(example_data_train_poly.shape)"
   ]
  },
  {
   "cell_type": "markdown",
   "metadata": {},
   "source": [
    "## Задание 5. Трансформация вещественных признаков.\n",
    "\n",
    "1. Реализуйте по аналогии с примером **преобразование вещественных признаков модели при помощи полиномиальных признаков степени 2**.\n",
    "2. **Постройте логистическую регрессию на новых данных, одновременно подобрав оптимальные гиперпараметры**. Обращаем внимание, что в преобразованных признаках уже присутствует столбец, все значения которого равны 1, поэтому обучать дополнительно значение $b$ не нужно, его функцию выполняет один из весов $w$. В связи с этим во избежание линейной зависимости в датасете, в вызов класса логистической регрессии требуется передавать параметр fit_intercept=False. Для обучения используйте стратифицированные выборки с балансировкой классов при помощи весов, преобразованные признаки требуется заново отмасштабировать.\n",
    "3. Получите AUC ROC на тесте и сравните данный результат с использованием обычных признаков.\n",
    "4. Передайте полученный ответ в функцию write_answer_5."
   ]
  },
  {
   "cell_type": "code",
   "execution_count": 138,
   "metadata": {},
   "outputs": [],
   "source": [
    "def write_answer_5(auc):\n",
    "    with open(\"preprocessing_lr_answer5.txt\", \"w\") as fout:\n",
    "        fout.write(str(auc))\n",
    "        \n",
    "# place your code here"
   ]
  },
  {
   "cell_type": "code",
   "execution_count": 140,
   "metadata": {},
   "outputs": [],
   "source": [
    "# разбиваем на train и test, используя стретификацию и веса\n",
    "(X_train_real_zeros_stratified, \n",
    " X_test_real_zeros_stratified, \n",
    " y_train_stratified,\n",
    " y_test_stratified) = train_test_split(X_real_zeros, y,\n",
    "                                     test_size=0.3, \n",
    "                                     random_state=0,\n",
    "                                     stratify = y)\n",
    "(X_train_cat_oh_stratified,\n",
    " X_test_cat_oh_stratified) = train_test_split(X_cat_oh, \n",
    "                                   test_size=0.3, \n",
    "                                   random_state=0,\n",
    "                                   stratify = y)"
   ]
  },
  {
   "cell_type": "code",
   "execution_count": 141,
   "metadata": {},
   "outputs": [],
   "source": [
    "# преобразование вещественных признаков модели при помощи полиномиальных признаков степени 2\n",
    "\n",
    "# Инициализируем класс, который выполняет преобразование\n",
    "transform = PolynomialFeatures(2)\n",
    "\n",
    "# Обучаем преобразование на обучающей выборке, применяем его к тестовой\n",
    "X_train_poly = transform.fit_transform(X_train_real_zeros_stratified)\n",
    "X_test_poly = transform.transform(X_test_real_zeros_stratified)"
   ]
  },
  {
   "cell_type": "code",
   "execution_count": 144,
   "metadata": {},
   "outputs": [],
   "source": [
    "#  масштабирование новых вещественных выборок\n",
    "X_train_poly_scaled = scaler.fit_transform(X=X_train_poly)\n",
    "X_test_poly_scaled = scaler.transform(X=X_test_poly)  # применён только метод transform, т.к. fit уже сделан на обучающей выборке\n"
   ]
  },
  {
   "cell_type": "code",
   "execution_count": 152,
   "metadata": {},
   "outputs": [
    {
     "data": {
      "text/plain": [
       "(4200, 13)"
      ]
     },
     "execution_count": 152,
     "metadata": {},
     "output_type": "execute_result"
    }
   ],
   "source": [
    "X_train_real_zeros_stratified.shape"
   ]
  },
  {
   "cell_type": "code",
   "execution_count": 153,
   "metadata": {},
   "outputs": [],
   "source": [
    "# Составим обучающую выборку из вещественных и категориальных признаков\n",
    "\n",
    "df_a = pd.DataFrame(X_train_poly_scaled,\n",
    "                    index=X_train_real_zeros_stratified.index)\n",
    "df_b = pd.DataFrame(X_train_cat_oh_stratified,\n",
    "                    index=X_train_real_zeros_stratified.index)\n",
    "\n",
    "# выборка в которой пропущенные значения вещественных признков заполнены нулями\n",
    "X_train_stratified = df_a.join(df_b, rsuffix='_')"
   ]
  },
  {
   "cell_type": "code",
   "execution_count": 154,
   "metadata": {},
   "outputs": [],
   "source": [
    "# Составим тестовую выборку из вещественных и категориальных признаков\n",
    "\n",
    "df_a = pd.DataFrame(X_test_poly_scaled,\n",
    "                    index=X_test_real_zeros_stratified.index)\n",
    "df_b = pd.DataFrame(X_test_cat_oh_stratified,\n",
    "                    index=X_test_real_zeros_stratified.index)\n",
    "\n",
    "# выборка в которой пропущенные значения вещественных признков заполнены нулями\n",
    "X_test_stratified = df_a.join(df_b, rsuffix='_')"
   ]
  },
  {
   "cell_type": "code",
   "execution_count": 156,
   "metadata": {},
   "outputs": [
    {
     "name": "stdout",
     "output_type": "stream",
     "text": [
      "Wall time: 13.6 s\n"
     ]
    },
    {
     "data": {
      "text/plain": [
       "GridSearchCV(cv=3,\n",
       "             estimator=LogisticRegression(fit_intercept=False,\n",
       "                                          solver='liblinear'),\n",
       "             n_jobs=3, param_grid={'C': [0.01, 0.05, 0.1, 0.5, 1, 5, 10]})"
      ]
     },
     "execution_count": 156,
     "metadata": {},
     "output_type": "execute_result"
    }
   ],
   "source": [
    "%%time\n",
    "# Постройте логистическую регрессию на новых данных, одновременно подобрав оптимальные гиперпараметры.\n",
    "# Для обучения используйте стратифицированные выборки с балансировкой классов при помощи весов\n",
    "# требуется передавать параметр fit_intercept=False\n",
    "\n",
    "optimizer = GridSearchCV(estimator=LogisticRegression(penalty='l2',\n",
    "                                                      fit_intercept=False,\n",
    "                                                      solver='liblinear'), param_grid=param_grid, cv=cv, n_jobs=3)\n",
    "\n",
    "# пробуем выборку с прорпусками, заполненными нулями с масштабированными признаками\n",
    "optimizer.fit(X_train_stratified, y_train_stratified)"
   ]
  },
  {
   "cell_type": "code",
   "execution_count": 157,
   "metadata": {},
   "outputs": [
    {
     "data": {
      "text/plain": [
       "LogisticRegression(C=0.05, fit_intercept=False, solver='liblinear')"
      ]
     },
     "execution_count": 157,
     "metadata": {},
     "output_type": "execute_result"
    }
   ],
   "source": [
    "optimizer.best_estimator_"
   ]
  },
  {
   "cell_type": "code",
   "execution_count": 158,
   "metadata": {},
   "outputs": [
    {
     "data": {
      "image/png": "[encoded data removed]",
      "text/plain": [
       "<Figure size 432x288 with 1 Axes>"
      ]
     },
     "metadata": {
      "needs_background": "light"
     },
     "output_type": "display_data"
    }
   ],
   "source": [
    "# график оценок точности с учётом стандратного отклонения в зависимости от гиперпараметра C (Inverse of regularization strength)\n",
    "plot_scores(optimizer=optimizer)"
   ]
  },
  {
   "cell_type": "code",
   "execution_count": 159,
   "metadata": {},
   "outputs": [
    {
     "data": {
      "text/plain": [
       "0.8854389015767816"
      ]
     },
     "execution_count": 159,
     "metadata": {},
     "output_type": "execute_result"
    }
   ],
   "source": [
    "# площадь под ROC-кривой\n",
    "roc_auc_poly_stratified_scaled = roc_auc_score(y_true=y_test_stratified,\n",
    "                                               y_score=optimizer.best_estimator_.predict_proba(X_test_stratified).T[1])\n",
    "roc_auc_poly_stratified_scaled"
   ]
  },
  {
   "cell_type": "code",
   "execution_count": 160,
   "metadata": {},
   "outputs": [],
   "source": [
    "write_answer_5(roc_auc_poly_stratified_scaled)"
   ]
  },
  {
   "cell_type": "markdown",
   "metadata": {},
   "source": [
    "## Регрессия Lasso.\n",
    "К логистической регрессии также можно применить L1-регуляризацию (Lasso), вместо регуляризации L2, которая будет приводить к отбору признаков. Вам предлагается применить L1-регуляцию к исходным признакам и проинтерпретировать полученные результаты (применение отбора признаков к полиномиальным так же можно успешно применять, но в нём уже будет отсутствовать компонента интерпретации, т.к. смысловое значение оригинальных признаков известно, а полиномиальных - уже может быть достаточно нетривиально). Для вызова логистической регрессии с L1-регуляризацией достаточно передать параметр penalty='l1' в инициализацию класса."
   ]
  },
  {
   "cell_type": "markdown",
   "metadata": {},
   "source": [
    "## Задание 6. Отбор признаков при помощи регрессии Lasso.\n",
    "1. Обучите регрессию Lasso на стратифицированных отмасштабированных выборках, используя балансировку классов при помощи весов. Для задания используем X_train_real_zeros.\n",
    "2. Получите ROC AUC регрессии, сравните его с предыдущими результатами.\n",
    "3. Найдите номера вещественных признаков, которые имеют нулевые веса в итоговой модели.\n",
    "4. Передайте их список функции write_answer_6."
   ]
  },
  {
   "cell_type": "code",
   "execution_count": 161,
   "metadata": {},
   "outputs": [],
   "source": [
    "def write_answer_6(features):\n",
    "    with open(\"preprocessing_lr_answer6.txt\", \"w\") as fout:\n",
    "        fout.write(\" \".join([str(num) for num in features]))\n",
    "        \n",
    "# place your code here"
   ]
  },
  {
   "cell_type": "code",
   "execution_count": null,
   "metadata": {},
   "outputs": [],
   "source": [
    "# Обучите регрессию Lasso на стратифицированных отмасштабированных выборках,\n",
    "# используя балансировку классов при помощи весов\n",
    "\n"
   ]
  }
 ],
 "metadata": {
  "kernelspec": {
   "display_name": "Python 3",
   "language": "python",
   "name": "python3"
  },
  "language_info": {
   "codemirror_mode": {
    "name": "ipython",
    "version": 3
   },
   "file_extension": ".py",
   "mimetype": "text/x-python",
   "name": "python",
   "nbconvert_exporter": "python",
   "pygments_lexer": "ipython3",
   "version": "3.8.10"
  }
 },
 "nbformat": 4,
 "nbformat_minor": 1
}
