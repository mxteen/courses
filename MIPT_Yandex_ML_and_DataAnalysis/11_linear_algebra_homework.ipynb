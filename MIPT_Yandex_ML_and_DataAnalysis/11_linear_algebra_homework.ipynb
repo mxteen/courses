{
 "cells": [
  {
   "cell_type": "markdown",
   "metadata": {},
   "source": [
    "# Линейная алгебра: сходство текстов и аппроксимация функций\n",
    "\n",
    "Данное задание основано на материалах секции, посвященной введению в линейную алгебру. Вам понадобится компьютер с установленным интерпретатором Python и подключенными библиотеками NumPy и SciPy.\n",
    "\n",
    "Вы научитесь:\n",
    "- читать тексты из файла с помощью Python и разбивать их на слова;\n",
    "- переводить тексты в векторные пространства, вычислять расстояния в этих пространствах;\n",
    "- решать системы линейных уравнений;\n",
    "- приближать любые функции с помощью многочленов.\n",
    "\n",
    "\n",
    "## Введение\n",
    "В этом задании вы познакомитесь с некоторыми базовыми методами из линейной алгебры, реализованными в пакете SciPy — в частности, с методами подсчета косинусного расстояния и решения систем линейных уравнений. Обе эти задачи еще много раз встретятся нам в специализации. Так, **на решении систем линейных уравнений основана настройка линейных моделей** — очень большого и важного класса алгоритмов машинного обучения. **Косинусное расстояние же часто используется в анализе текстов для измерения сходства между ними**.\n",
    "\n",
    "## Материалы\n",
    "- Справка по функциям пакета scipy.linalg: http://docs.scipy.org/doc/scipy/reference/linalg.html\n",
    "- Справка по работе с файлами в Python: https://docs.python.org/2/tutorial/inputoutput.html#reading-and-writing-files\n",
    "- Справка по регулярным выражениям в Python (если вы захотите узнать про них чуть больше): https://docs.python.org/2/library/re.html\n",
    "\n",
    "\n",
    "\n",
    "## Инструкция по выполнению\n",
    "Данное задание состоит из двух частей. В каждой ответом будет набор чисел, который вам нужно будет ввести в соответствующее поле через пробел.\n",
    "\n",
    "### Задача 1: сравнение предложений\n",
    "Дан набор предложений, скопированных с Википедии. Каждое из них имеет \"кошачью тему\" в одном из трех смыслов:\n",
    "- кошки (животные)\n",
    "- UNIX-утилита cat для вывода содержимого файлов\n",
    "- версии операционной системы OS X, названные в честь семейства кошачьих\n",
    "\n",
    "**Ваша задача — найти два предложения, которые ближе всего по смыслу к расположенному в самой первой строке. В качестве меры близости по смыслу мы будем использовать косинусное расстояние.**\n",
    "\n",
    "Выполните следующие шаги:\n",
    "\n",
    "1. Скачайте файл с предложениями (sentences.txt). \n",
    "2. Каждая строка в файле соответствует одному предложению. Считайте их, приведите каждую к нижнему регистру с помощью строковой функции lower().\n",
    "3. Произведите токенизацию, то есть разбиение текстов на слова. Для этого можно воспользоваться регулярным выражением, которое считает разделителем любой символ, не являющийся буквой: `re.split('[^a-z]', t)`. Не забудьте удалить пустые слова после разделения.\n",
    "4. Составьте список всех слов, встречающихся в предложениях. Сопоставьте каждому слову индекс от нуля до (d - 1), где d — число различных слов в предложениях. Для этого удобно воспользоваться структурой dict.\n",
    "5. Создайте матрицу размера n * d, где n — число предложений. Заполните ее: элемент с индексом (i, j) в этой матрице должен быть равен количеству вхождений j-го слова в i-е предложение. У вас должна получиться матрица размера 22 * 254.\n",
    "6. Найдите косинусное расстояние от предложения в самой первой строке (In comparison to dogs, cats have not undergone...) до всех остальных с помощью функции scipy.spatial.distance.cosine. Какие номера у двух предложений, ближайших к нему по этому расстоянию (строки нумеруются с нуля)? Эти два числа и будут ответами на задание. Само предложение (In comparison to dogs, cats have not undergone... ) имеет индекс 0.\n",
    "7. Запишите полученные числа в файл, разделив пробелом. Обратите внимание, что файл должен состоять из одной строки, в конце которой не должно быть переноса. Пример файла с решением вы можете найти в конце задания (submission-1.txt).\n",
    "8. Совпадают ли ближайшие два предложения по тематике с первым? Совпадают ли тематики у следующих по близости предложений?\n",
    "\n",
    "Разумеется, использованный вами метод крайне простой. Например, он не учитывает формы слов (так, cat и cats он считает разными словами, хотя по сути они означают одно и то же), не удаляет из текстов артикли и прочие ненужные слова. Позже мы будем подробно изучать анализ текстов, где выясним, как достичь высокого качества в задаче поиска похожих предложений."
   ]
  },
  {
   "cell_type": "code",
   "execution_count": 76,
   "metadata": {},
   "outputs": [],
   "source": [
    "# Ознакомимся с текстом\n",
    "# !more sentences.txt"
   ]
  },
  {
   "cell_type": "code",
   "execution_count": null,
   "metadata": {},
   "outputs": [],
   "source": [
    "# Загрузка необходимой библиотеки\n",
    "import re\n",
    "from collections import Counter"
   ]
  },
  {
   "cell_type": "code",
   "execution_count": 64,
   "metadata": {},
   "outputs": [],
   "source": [
    "# Способ 1. Применение функции file_object.readlines()\n",
    "# with open ('sentences.txt') as sentences:\n",
    "#     lines_list = sentences.readlines()\n",
    "    \n",
    "# len(lines_list)"
   ]
  },
  {
   "cell_type": "code",
   "execution_count": 65,
   "metadata": {},
   "outputs": [],
   "source": [
    "# # Способ 2. Применение цикла for  \n",
    "# lines_list = []\n",
    "# with open ('sentences.txt') as sentences:\n",
    "#     for line in sentences:\n",
    "#         lines_list.append(line)\n",
    "        \n",
    "# len(lines_list)"
   ]
  },
  {
   "cell_type": "code",
   "execution_count": 66,
   "metadata": {},
   "outputs": [],
   "source": [
    "# # Способ 3. Работа со строками файла как с массивом\n",
    "# with open ('sentences.txt') as sentences:\n",
    "#     lines_list = list(sentences)"
   ]
  },
  {
   "cell_type": "code",
   "execution_count": 67,
   "metadata": {},
   "outputs": [],
   "source": [
    "# 1. Скачайте файл с предложениями (sentences.txt).\n",
    "# 2. Каждая строка в файле соответствует одному предложению. Считайте их, приведите каждую к нижнему регистру с помощью строковой функции lower().\n",
    "with open ('sentences.txt') as sentences:\n",
    "    lines_list = list(sentences)\n",
    "    \n",
    "lines_list = [line.lower() for line in lines_list]"
   ]
  },
  {
   "cell_type": "code",
   "execution_count": 75,
   "metadata": {},
   "outputs": [],
   "source": [
    "# 3. Произведите токенизацию, то есть разбиение текстов на слова. Для этого можно воспользоваться регулярным выражением, которое считает разделителем любой символ, не являющийся буквой: re.split('[^a-z]', t). Не забудьте удалить пустые слова после разделения."
   ]
  },
  {
   "cell_type": "code",
   "execution_count": 79,
   "metadata": {},
   "outputs": [],
   "source": [
    "# разбиваем каждое прелдожение на слова - получаем 2-мерный массив, список списков: в списке прелдожений есть списки слов для каждого предложения\n",
    "splitted_lines = []\n",
    "for line in range(len(lines_list)):\n",
    "    splitted_lines.append(re.split(pattern='[^a-z]', string=lines_list[line]))"
   ]
  },
  {
   "cell_type": "code",
   "execution_count": 86,
   "metadata": {},
   "outputs": [
    {
     "data": {
      "text/plain": [
       "22"
      ]
     },
     "execution_count": 86,
     "metadata": {},
     "output_type": "execute_result"
    }
   ],
   "source": [
    "len(splitted_lines)"
   ]
  },
  {
   "cell_type": "markdown",
   "metadata": {},
   "source": [
    "1. Нужно составить список вообще всех слов во всех продложениях - это будут столбцы матрицы\n",
    "2. Количество строк 22 - это количество предложений в файле."
   ]
  },
  {
   "cell_type": "code",
   "execution_count": 166,
   "metadata": {},
   "outputs": [
    {
     "data": {
      "text/plain": [
       "254"
      ]
     },
     "execution_count": 166,
     "metadata": {},
     "output_type": "execute_result"
    }
   ],
   "source": [
    "# Посчитаем количество уникальных слов во всех предложениях\n",
    "\n",
    "# Сначала сделаем одномерный массив из нашего списка списков\n",
    "# https://stackoverflow.com/questions/952914/how-to-make-a-flat-list-out-of-a-list-of-lists\n",
    "flattened_list = [word for sublist in splitted_lines for word in sublist]\n",
    "\n",
    "# Затем посчитаем количество уникальных слов во всех предложениях с помощью collections.Counter \n",
    "all_words_count = Counter(flattened_list)\n",
    "\n",
    "# Удалим \"слова\" без символов \n",
    "del all_words_count['']\n",
    "\n",
    "# массив со всеми словами\n",
    "all_words = all_words_count.keys()\n",
    "\n",
    "# проверис количество уникальных слов. Судя по описанию зажания их должно быть 254\n",
    "len(all_words)"
   ]
  },
  {
   "cell_type": "code",
   "execution_count": 167,
   "metadata": {},
   "outputs": [],
   "source": [
    "# будем считать количество повторений каждого из слов all_words в каждом предложении sentence\n",
    "future_dataframe = {}\n",
    "\n",
    "for word in all_words:\n",
    "    tmp_column = [] # списоск, который представляет из себя колонку будущей таблицы\n",
    "    for sentence in splitted_lines:\n",
    "        tmp_column.append(sentence.count(word))\n",
    "    \n",
    "    future_dataframe[f'{word}'] = tmp_column"
   ]
  },
  {
   "cell_type": "code",
   "execution_count": 168,
   "metadata": {},
   "outputs": [],
   "source": [
    "import pandas as pd"
   ]
  },
  {
   "cell_type": "code",
   "execution_count": 169,
   "metadata": {},
   "outputs": [],
   "source": [
    "df = pd.DataFrame(future_dataframe)"
   ]
  },
  {
   "cell_type": "code",
   "execution_count": 170,
   "metadata": {},
   "outputs": [
    {
     "data": {
      "text/plain": [
       "(22, 254)"
      ]
     },
     "execution_count": 170,
     "metadata": {},
     "output_type": "execute_result"
    }
   ],
   "source": [
    "df.shape"
   ]
  },
  {
   "cell_type": "code",
   "execution_count": 217,
   "metadata": {},
   "outputs": [],
   "source": [
    "from scipy.spatial import distance"
   ]
  },
  {
   "cell_type": "code",
   "execution_count": 222,
   "metadata": {},
   "outputs": [],
   "source": [
    "distances = [distance.cosine(df.iloc[0], df.iloc[i]) for i in range(df.shape[0])]"
   ]
  },
  {
   "cell_type": "code",
   "execution_count": 223,
   "metadata": {},
   "outputs": [],
   "source": [
    "df['distances'] = distances"
   ]
  },
  {
   "cell_type": "code",
   "execution_count": 228,
   "metadata": {},
   "outputs": [
    {
     "data": {
      "text/html": [
       "<div>\n",
       "<style scoped>\n",
       "    .dataframe tbody tr th:only-of-type {\n",
       "        vertical-align: middle;\n",
       "    }\n",
       "\n",
       "    .dataframe tbody tr th {\n",
       "        vertical-align: top;\n",
       "    }\n",
       "\n",
       "    .dataframe thead th {\n",
       "        text-align: right;\n",
       "    }\n",
       "</style>\n",
       "<table border=\"1\" class=\"dataframe\">\n",
       "  <thead>\n",
       "    <tr style=\"text-align: right;\">\n",
       "      <th></th>\n",
       "      <th>in</th>\n",
       "      <th>comparison</th>\n",
       "      <th>to</th>\n",
       "      <th>dogs</th>\n",
       "      <th>cats</th>\n",
       "      <th>have</th>\n",
       "      <th>not</th>\n",
       "      <th>undergone</th>\n",
       "      <th>major</th>\n",
       "      <th>changes</th>\n",
       "      <th>...</th>\n",
       "      <th>run</th>\n",
       "      <th>off</th>\n",
       "      <th>external</th>\n",
       "      <th>drive</th>\n",
       "      <th>fifth</th>\n",
       "      <th>update</th>\n",
       "      <th>features</th>\n",
       "      <th>more</th>\n",
       "      <th>count</th>\n",
       "      <th>distances</th>\n",
       "    </tr>\n",
       "  </thead>\n",
       "  <tbody>\n",
       "    <tr>\n",
       "      <th>0</th>\n",
       "      <td>1</td>\n",
       "      <td>1</td>\n",
       "      <td>1</td>\n",
       "      <td>1</td>\n",
       "      <td>1</td>\n",
       "      <td>1</td>\n",
       "      <td>1</td>\n",
       "      <td>1</td>\n",
       "      <td>1</td>\n",
       "      <td>1</td>\n",
       "      <td>...</td>\n",
       "      <td>0</td>\n",
       "      <td>0</td>\n",
       "      <td>0</td>\n",
       "      <td>0</td>\n",
       "      <td>0</td>\n",
       "      <td>0</td>\n",
       "      <td>0</td>\n",
       "      <td>0</td>\n",
       "      <td>0</td>\n",
       "      <td>0.000000</td>\n",
       "    </tr>\n",
       "    <tr>\n",
       "      <th>6</th>\n",
       "      <td>1</td>\n",
       "      <td>0</td>\n",
       "      <td>1</td>\n",
       "      <td>0</td>\n",
       "      <td>1</td>\n",
       "      <td>0</td>\n",
       "      <td>0</td>\n",
       "      <td>0</td>\n",
       "      <td>0</td>\n",
       "      <td>0</td>\n",
       "      <td>...</td>\n",
       "      <td>0</td>\n",
       "      <td>0</td>\n",
       "      <td>0</td>\n",
       "      <td>0</td>\n",
       "      <td>0</td>\n",
       "      <td>0</td>\n",
       "      <td>0</td>\n",
       "      <td>0</td>\n",
       "      <td>0</td>\n",
       "      <td>0.735563</td>\n",
       "    </tr>\n",
       "    <tr>\n",
       "      <th>4</th>\n",
       "      <td>2</td>\n",
       "      <td>0</td>\n",
       "      <td>0</td>\n",
       "      <td>0</td>\n",
       "      <td>1</td>\n",
       "      <td>0</td>\n",
       "      <td>0</td>\n",
       "      <td>0</td>\n",
       "      <td>0</td>\n",
       "      <td>0</td>\n",
       "      <td>...</td>\n",
       "      <td>0</td>\n",
       "      <td>0</td>\n",
       "      <td>0</td>\n",
       "      <td>0</td>\n",
       "      <td>0</td>\n",
       "      <td>0</td>\n",
       "      <td>0</td>\n",
       "      <td>0</td>\n",
       "      <td>0</td>\n",
       "      <td>0.779959</td>\n",
       "    </tr>\n",
       "  </tbody>\n",
       "</table>\n",
       "<p>3 rows × 255 columns</p>\n",
       "</div>"
      ],
      "text/plain": [
       "   in  comparison  to  dogs  cats  have  not  undergone  major  changes  ...  \\\n",
       "0   1           1   1     1     1     1    1          1      1        1  ...   \n",
       "6   1           0   1     0     1     0    0          0      0        0  ...   \n",
       "4   2           0   0     0     1     0    0          0      0        0  ...   \n",
       "\n",
       "   run  off  external  drive  fifth  update  features  more  count  distances  \n",
       "0    0    0         0      0      0       0         0     0      0   0.000000  \n",
       "6    0    0         0      0      0       0         0     0      0   0.735563  \n",
       "4    0    0         0      0      0       0         0     0      0   0.779959  \n",
       "\n",
       "[3 rows x 255 columns]"
      ]
     },
     "execution_count": 228,
     "metadata": {},
     "output_type": "execute_result"
    }
   ],
   "source": [
    "sorted = df.sort_values(by=['distances'], ascending=True)\n",
    "sorted.head(3)"
   ]
  },
  {
   "cell_type": "code",
   "execution_count": 240,
   "metadata": {},
   "outputs": [],
   "source": [
    "# запись результата в файл\n",
    "with open ('linear_algebra_task-1.txt', 'w') as file:\n",
    "    file.write(str(sorted.index[1])+' '+str(sorted.index[2]))"
   ]
  },
  {
   "cell_type": "code",
   "execution_count": 243,
   "metadata": {},
   "outputs": [
    {
     "name": "stdout",
     "output_type": "stream",
     "text": [
      "6 4\n"
     ]
    }
   ],
   "source": [
    "# Проверяем, что записали\n",
    "with open ('linear_algebra_task-1.txt', 'r') as file:\n",
    "    for line in file:\n",
    "        print(line) "
   ]
  },
  {
   "cell_type": "code",
   "execution_count": 197,
   "metadata": {},
   "outputs": [
    {
     "data": {
      "text/plain": [
       "'domestic cats are similar in size to the other members of the genus felis, typically weighing between 4 and 5 kg (8.8 and 11.0 lb).\\n'"
      ]
     },
     "execution_count": 197,
     "metadata": {},
     "output_type": "execute_result"
    }
   ],
   "source": [
    "lines_list[6]"
   ]
  },
  {
   "cell_type": "code",
   "execution_count": 198,
   "metadata": {},
   "outputs": [
    {
     "data": {
      "text/plain": [
       "'in one, people deliberately tamed cats in a process of artificial selection, as they were useful predators of vermin.\\n'"
      ]
     },
     "execution_count": 198,
     "metadata": {},
     "output_type": "execute_result"
    }
   ],
   "source": [
    "lines_list[4]"
   ]
  },
  {
   "cell_type": "markdown",
   "metadata": {},
   "source": [
    "### Задача 2: аппроксимация функции"
   ]
  },
  {
   "cell_type": "markdown",
   "metadata": {},
   "source": [
    "Рассмотрим сложную математическую функцию на отрезке [1, 15]:\n",
    "\n",
    "$$f(x) = sin(\\frac{x}{5})\\times \\exp(x/10) + 5\\times \\exp(-x / 2)$$\n",
    "\n",
    "\n",
    "Она может описывать, например, зависимость оценок, которые выставляют определенному сорту вина эксперты, в зависимости от возраста этого вина. По сути, **задача** машинного обучения **состоит в том, чтобы приблизить сложную зависимость с помощью функции** из определенного семейства. **В этом задании мы будем приближать указанную функцию с помощью многочленов**."
   ]
  },
  {
   "cell_type": "code",
   "execution_count": 260,
   "metadata": {},
   "outputs": [],
   "source": [
    "from math import sin, exp\n",
    "import matplotlib.pyplot as plt"
   ]
  },
  {
   "cell_type": "code",
   "execution_count": 263,
   "metadata": {},
   "outputs": [],
   "source": [
    "x = np.arange(1, 15.1, 0.1)"
   ]
  },
  {
   "cell_type": "code",
   "execution_count": 264,
   "metadata": {},
   "outputs": [],
   "source": [
    "y = [sin(xi / 5) * exp(xi / 10) + 5 * exp(-xi / 2) for xi in x]"
   ]
  },
  {
   "cell_type": "code",
   "execution_count": 265,
   "metadata": {},
   "outputs": [
    {
     "data": {
      "image/png": "[encoded data removed]",
      "text/plain": [
       "<Figure size 432x288 with 1 Axes>"
      ]
     },
     "metadata": {
      "needs_background": "light"
     },
     "output_type": "display_data"
    }
   ],
   "source": [
    "plt.plot(x, y)\n",
    "plt.show()"
   ]
  },
  {
   "cell_type": "markdown",
   "metadata": {},
   "source": [
    "Как известно, **многочлен степени n** (то есть w_0 + w_1 x + w_2 x^2 + ... + w_n x^n) **однозначно определяется любыми n + 1 различными точками, через которые он проходит. Это значит, что его коэффициенты w_0, ... w_n можно определить из следующей системы линейных уравнений**:\n",
    "\n",
    "\n",
    "\n",
    "$$\n",
    "\\begin{cases}\n",
    "  w_0 + w_1 x_1 + w_2 x_1^2 + ... + w_n x^n = f(x_1)\\\\\n",
    "  ...\\\\\n",
    "  w_0 + w_1 x_{n+1} + w_2 x_{n+1}^2 + ... + w_n x_{n+1}^n = f(x_{n+1})\n",
    "\\end{cases}\\\n",
    "$$\n",
    "\n",
    "\n",
    "где через $$x_1, ..., x_n, x_{n+1}$$ обозначены точки, через которые проходит многочлен, а через $$f(x_1), ..., f(x_n), f(x_{n+1})$$ — значения, которые он должен принимать в этих точках.\n",
    "\n",
    "Воспользуемся описанным свойством, и **будем находить приближение функции многочленом, решая систему линейных уравнений**.\n",
    "\n",
    "1. Сформируйте систему линейных уравнений (то есть задайте матрицу коэффициентов A и свободный вектор b) для многочлена первой степени, который должен совпадать с функцией f в точках 1 и 15. Решите данную систему с помощью функции `scipy.linalg.solve`. Нарисуйте функцию f и полученный многочлен. Хорошо ли он приближает исходную функцию?\n",
    "2. Повторите те же шаги для многочлена второй степени, который совпадает с функцией f в точках 1, 8 и 15. Улучшилось ли качество аппроксимации?\n",
    "3. Повторите те же шаги для **многочлена третьей степени**, который совпадает с функцией f в точках 1, 4, 10 и 15. Хорошо ли он аппроксимирует функцию? **Коэффициенты данного многочлена** (четыре числа в следующем порядке: w_0, w_1, w_2, w_3) являются **ответом на задачу**. Округлять коэффициенты не обязательно, но при желании можете произвести округление до второго знака (т.е. до числа вида 0.42)\n",
    "4. **Запишите полученные числа в файл, разделив пробелами**. Обратите внимание, что файл должен состоять из одной строки, в конце которой не должно быть переноса. Пример файла с решением вы можете найти в конце задания (submission-2.txt).\n"
   ]
  },
  {
   "cell_type": "code",
   "execution_count": 267,
   "metadata": {},
   "outputs": [],
   "source": [
    "from scipy.linalg import solve"
   ]
  },
  {
   "cell_type": "markdown",
   "metadata": {},
   "source": [
    "**1. Линейная аппрокимация**"
   ]
  },
  {
   "cell_type": "code",
   "execution_count": 285,
   "metadata": {},
   "outputs": [
    {
     "name": "stdout",
     "output_type": "stream",
     "text": [
      "1.0 3.252216865271419\n",
      "15.000000000000012 0.6352214195786546\n"
     ]
    }
   ],
   "source": [
    "print(x[0], y[0])\n",
    "print(x[-1], y[-1])"
   ]
  },
  {
   "cell_type": "markdown",
   "metadata": {},
   "source": [
    "СЛАУ для многочлена первой степени, который должен совпадать с функцией f в точках 1 и 15:\n",
    "$$\n",
    "\\begin{cases}\n",
    "a_0 + a_1*1 = 3.252216865271419\n",
    "\\\\a_0 + a_1*15 = 0.6352214195786546\n",
    "\\end{cases}\\\n",
    "$$"
   ]
  },
  {
   "cell_type": "code",
   "execution_count": 276,
   "metadata": {},
   "outputs": [],
   "source": [
    "solve?"
   ]
  },
  {
   "cell_type": "code",
   "execution_count": 279,
   "metadata": {},
   "outputs": [],
   "source": [
    "# 1. Линейная аппрокимация\n",
    "# задаём СЛАУ\n",
    "matrix_A = np.array([[1, 1], [1, 15]])\n",
    "vector_b = np.array([y[0], y[-1]])\n",
    "\n",
    "# решение системы\n",
    "solution = solve(matrix_A, vector_b)\n",
    "a_0 = solution[0]\n",
    "a_1 = solution[1]"
   ]
  },
  {
   "cell_type": "code",
   "execution_count": 283,
   "metadata": {},
   "outputs": [],
   "source": [
    "linear_approximation = [a_0 + a_1*xi for xi in x]"
   ]
  },
  {
   "cell_type": "code",
   "execution_count": 284,
   "metadata": {},
   "outputs": [
    {
     "data": {
      "image/png": "[encoded data removed]",
      "text/plain": [
       "<Figure size 432x288 with 1 Axes>"
      ]
     },
     "metadata": {
      "needs_background": "light"
     },
     "output_type": "display_data"
    }
   ],
   "source": [
    "plt.plot(x, y)\n",
    "plt.plot(x, linear_approximation)\n",
    "plt.show()"
   ]
  },
  {
   "cell_type": "markdown",
   "metadata": {},
   "source": [
    "**2. Аппрокимация параболой**"
   ]
  },
  {
   "cell_type": "code",
   "execution_count": 292,
   "metadata": {},
   "outputs": [
    {
     "name": "stdout",
     "output_type": "stream",
     "text": [
      "1.0 3.252216865271419\n",
      "8.000000000000007 2.316170159053225\n",
      "15.000000000000012 0.6352214195786546\n"
     ]
    }
   ],
   "source": [
    "print(x[0], y[0])  # x = 1\n",
    "print(x[70], y[70])  # x = 8\n",
    "print(x[-1], y[-1])  # x = 15"
   ]
  },
  {
   "cell_type": "markdown",
   "metadata": {},
   "source": [
    "СЛАУ для многочлена второй степени, который должен совпадать с функцией f в точках 1 и 15:\n",
    "$$\n",
    "\\begin{cases}\n",
    "a_0 + a_1*1 + a_2*1^2 = 3.252216865271419\n",
    "\\\\a_0 + a_1*8 + a_2*8^2= 2.316170159053225\n",
    "\\\\a_0 + a_1*15 + a_2*15^2 = 0.6352214195786546\n",
    "\\end{cases}\\\n",
    "$$"
   ]
  },
  {
   "cell_type": "code",
   "execution_count": 294,
   "metadata": {},
   "outputs": [],
   "source": [
    "# 2. Аппрокимация пораболой\n",
    "# задаём СЛАУ\n",
    "matrix_A = np.array([[1, 1, 1], [1, 8, 8**2], [1, 15, 15**2]])\n",
    "vector_b = np.array([y[0], y[70], y[-1]])\n",
    "\n",
    "# решение системы\n",
    "solution = solve(matrix_A, vector_b)\n",
    "a_0 = solution[0]\n",
    "a_1 = solution[1]\n",
    "a_2 = solution[2]"
   ]
  },
  {
   "cell_type": "code",
   "execution_count": 295,
   "metadata": {},
   "outputs": [],
   "source": [
    "parabola_approximation = [a_0 + a_1*xi + a_2*xi**2 for xi in x]"
   ]
  },
  {
   "cell_type": "code",
   "execution_count": 296,
   "metadata": {},
   "outputs": [
    {
     "data": {
      "image/png": "[encoded data removed]",
      "text/plain": [
       "<Figure size 432x288 with 1 Axes>"
      ]
     },
     "metadata": {
      "needs_background": "light"
     },
     "output_type": "display_data"
    }
   ],
   "source": [
    "plt.plot(x, y)\n",
    "plt.plot(x, parabola_approximation)\n",
    "plt.show()"
   ]
  },
  {
   "cell_type": "markdown",
   "metadata": {},
   "source": [
    "**2. Аппрокимация кубической параболой**"
   ]
  },
  {
   "cell_type": "code",
   "execution_count": 297,
   "metadata": {},
   "outputs": [
    {
     "name": "stdout",
     "output_type": "stream",
     "text": [
      "1.0 3.252216865271419\n",
      "4.000000000000003 1.7468459495903674\n",
      "10.000000000000007 2.505416407000246\n",
      "15.000000000000012 0.6352214195786546\n"
     ]
    }
   ],
   "source": [
    "print(x[0], y[0])  # x = 1\n",
    "print(x[30], y[30])  # x = 4\n",
    "print(x[90], y[90])  # x = 10\n",
    "print(x[140], y[140]) # x = 15"
   ]
  },
  {
   "cell_type": "markdown",
   "metadata": {},
   "source": [
    "СЛАУ для многочлена второй степени, который должен совпадать с функцией f в точках 1 и 15:\n",
    "$$\n",
    "\\begin{cases}\n",
    "a_0 + a_1\\cdot1 + a_2\\cdot1^2 a_3\\cdot1^3 = 3.252216865271419\n",
    "\\\\a_0 + a_1\\cdot4 + a_2\\cdot4^2 + a_3\\cdot4^3= 1.7468459495903674\n",
    "\\\\a_0 + a_1\\cdot10 + a_2\\cdot10^2 + a_3\\cdot10^3 = 2.505416407000246\n",
    "\\\\a_0 + a_1\\cdot15 + a_2\\cdot15^2 + a_3\\cdot15^3= 0.6352214195786546\n",
    "\\end{cases}\\\n",
    "$$"
   ]
  },
  {
   "cell_type": "code",
   "execution_count": 300,
   "metadata": {},
   "outputs": [],
   "source": [
    "# 3. Аппрокимация кубической пораболой\n",
    "# задаём СЛАУ\n",
    "matrix_A = np.array([[1, 1, 1, 1], [1, 4, 4**2, 4**3], [1, 10, 10**2, 10**3], [1, 15, 15**2, 15**3]])\n",
    "vector_b = np.array([y[0], y[30], y[90], y[140]])\n",
    "\n",
    "# решение системы\n",
    "solution = solve(matrix_A, vector_b)\n",
    "a_0 = solution[0]\n",
    "a_1 = solution[1]\n",
    "a_2 = solution[2]\n",
    "a_3 = solution[3]"
   ]
  },
  {
   "cell_type": "code",
   "execution_count": 301,
   "metadata": {},
   "outputs": [],
   "source": [
    "cubic_approximation = [a_0 + a_1*xi + a_2*xi**2 + a_3*xi**3 for xi in x]"
   ]
  },
  {
   "cell_type": "code",
   "execution_count": 302,
   "metadata": {},
   "outputs": [
    {
     "data": {
      "image/png": "[encoded data removed]",
      "text/plain": [
       "<Figure size 432x288 with 1 Axes>"
      ]
     },
     "metadata": {
      "needs_background": "light"
     },
     "output_type": "display_data"
    }
   ],
   "source": [
    "plt.plot(x, y)\n",
    "plt.plot(x, cubic_approximation)\n",
    "plt.show()"
   ]
  },
  {
   "cell_type": "code",
   "execution_count": 305,
   "metadata": {},
   "outputs": [],
   "source": [
    "# запись результата в файл\n",
    "with open ('linear_algebra_task-2.txt', 'w') as file:\n",
    "    for i in solution:\n",
    "        file.write(str(i)+' ')"
   ]
  },
  {
   "cell_type": "code",
   "execution_count": 307,
   "metadata": {},
   "outputs": [
    {
     "name": "stdout",
     "output_type": "stream",
     "text": [
      "4.362641535118072 -1.295525865694844 0.19333684702151183 -0.008235651173320568 \n"
     ]
    }
   ],
   "source": [
    "# Проверяем, что записали\n",
    "with open ('linear_algebra_task-2.txt', 'r') as file:\n",
    "    for line in file:\n",
    "        print(line) "
   ]
  },
  {
   "cell_type": "code",
   "execution_count": null,
   "metadata": {},
   "outputs": [],
   "source": []
  }
 ],
 "metadata": {
  "kernelspec": {
   "display_name": "Python 3",
   "language": "python",
   "name": "python3"
  },
  "language_info": {
   "codemirror_mode": {
    "name": "ipython",
    "version": 3
   },
   "file_extension": ".py",
   "mimetype": "text/x-python",
   "name": "python",
   "nbconvert_exporter": "python",
   "pygments_lexer": "ipython3",
   "version": "3.8.10"
  }
 },
 "nbformat": 4,
 "nbformat_minor": 4
}
