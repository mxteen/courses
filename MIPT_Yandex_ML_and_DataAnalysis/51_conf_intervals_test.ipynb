{
 "cells": [
  {
   "cell_type": "markdown",
   "metadata": {},
   "source": [
    "# Доверительные интервалы\n",
    "\n",
    "- [Тест](https://www.coursera.org/learn/stats-for-data-analysis/exam/oB1B2/dovieritiel-nyie-intiervaly)\n",
    "- [Обсуждения](https://www.coursera.org/learn/stats-for-data-analysis/discussions/weeks/1/threads/UGkrGW5PEeao3RIiUksYQw)\n",
    "\n",
    "\n",
    "1. Давайте уточним правило трёх сигм. Утверждение: 99.7% вероятностной массы случайной величины $X\\sim N\\left(\\mu,\\sigma^2\\right)X∼N(μ,σ^2)$ лежит в интервале $\\mu\\pm c \\cdot \\sigmaμ±c⋅σ$. Чему равно точное значение константы $c$? Округлите ответ до четырёх знаков после десятичной точки. \n",
    "\n",
    "    Не забудьте, что при построении интервала остаточную вероятностную массу нужно делить между двумя хвостами распределения (если вы не понимаете, что имеется в виду, попробуйте вернуться к видео \"Интервальные оценки с помощью квантилей\" и обратите внимание, квантили какого порядка используются при построении 95% интервала). \n",
    "\n",
    "    Не рекомендуется использовать \"аналоговые\" таблицы квантилей — в них легко могут быть опечатки, числа там могут быть слишком сильно округлены, да и в целом это способ прошлого века. "
   ]
  },
  {
   "cell_type": "code",
   "execution_count": 3,
   "metadata": {},
   "outputs": [],
   "source": [
    "from scipy.stats import norm"
   ]
  },
  {
   "cell_type": "markdown",
   "metadata": {},
   "source": [
    "`norm.interval?`\n",
    "\n",
    "    Confidence interval with equal areas around the median.\n",
    "\n",
    "    Parameters\n",
    "    ----------\n",
    "    alpha : array_like of float\n",
    "        Probability that an rv will be drawn from the returned range.\n",
    "        Each value should be in the range [0, 1].\n",
    "    arg1, arg2, ... : array_like\n",
    "        The shape parameter(s) for the distribution (see docstring of the\n",
    "        instance object for more information).\n",
    "    loc : array_like, optional\n",
    "        location parameter, Default is 0.\n",
    "    scale : array_like, optional\n",
    "        scale parameter, Default is 1.\n",
    "\n",
    "    Returns\n",
    "    -------\n",
    "    a, b : ndarray of float\n",
    "        end-points of range that contain ``100 * alpha %`` of the rv's\n",
    "        possible values."
   ]
  },
  {
   "cell_type": "code",
   "execution_count": 4,
   "metadata": {},
   "outputs": [
    {
     "name": "stdout",
     "output_type": "stream",
     "text": [
      "2.9677\n"
     ]
    }
   ],
   "source": [
    "const_c = norm.interval(0.997, loc=0, scale=1)[1]\n",
    "print(round(const_c, 4))"
   ]
  },
  {
   "cell_type": "markdown",
   "metadata": {},
   "source": [
    "2. Пусть $X\\sim N\\left(\\mu, \\sigma^2\\right)X∼N(μ,σ^2$). \n",
    "Какое распределение имеет величина $\\frac{\\bar{X}_n-\\mu}{S_n/ \\sqrt{n}}$?\n",
    "\n",
    "    - <font color=\"green\">$St(n-1)$</font>\n",
    "    - $N(0, 1)$\n",
    "    - $χ^2_{n-1}$\n",
    "    \n",
    "   Ответ можно найти в видео [\"Распределения, производные от нормального\"](https://www.coursera.org/learn/stats-for-data-analysis/lecture/cevcb/raspriedielieniia-proizvodnyie-ot-normal-nogho). **4:06**"
   ]
  },
  {
   "cell_type": "markdown",
   "metadata": {},
   "source": [
    "3. Выберите все распределения с несимметричной функцией плотности\n",
    "\n",
    "    - Стьюдента\n",
    "    - <font color=\"green\">хи-квадрат</font>\n",
    "    - Гаусса\n",
    "    - <font color=\"green\">Фишера</font>\n",
    "    \n",
    "   Ответ можно найти в видео [\"Распределения, производные от нормального\"](https://www.coursera.org/learn/stats-for-data-analysis/lecture/cevcb/raspriedielieniia-proizvodnyie-ot-normal-nogho)."
   ]
  },
  {
   "cell_type": "markdown",
   "metadata": {},
   "source": [
    "4. Какое из выражений задаёт доверительный интервал для разности долей в связанных выборках?\n",
    "    Ответ на этот вопрос явно даётся в видео [\"Доверительные интервалы для двух долей\"](https://www.coursera.org/learn/stats-for-data-analysis/lecture/1RHyE/dovieritiel-nyie-intiervaly-dlia-dvukh-doliei) и [соответствующем ноутбуке](https://www.coursera.org/learn/stats-for-data-analysis/supplement/nnl9k/dovieritiel-nyie-intiervaly-dlia-dvukh-doliei-ipython-notebook). \n",
    "    \n",
    "    \n",
    "$\\text{Доверительный интервал для }p_1 - p_2\\colon \\;\\;  \\frac{f - g}{n} \\pm z_{1-\\frac{\\alpha}{2}}\\sqrt{\\frac{f + g}{n^2} - \\frac{(f - g)^2}{n^3}}$"
   ]
  },
  {
   "cell_type": "markdown",
   "metadata": {},
   "source": [
    "5. В пятилетнем рандомизированном исследовании Гарвардской медицинской школы 11037 испытуемых через день принимали аспирин, а ещё 11034 — плацебо. Исследование было слепым, то есть, испытуемые не знали, что именно они принимают.\n",
    "\n",
    "    За 5 лет инфаркт случился у 104 испытуемых, принимавших аспирин, и у 189 принимавших плацебо. \n",
    "\n",
    "    Оцените, насколько вероятность инфаркта снижается при приёме аспирина. Округлите ответ до четырёх знаков после десятичной точки.\n",
    "    \n",
    "    **Подсказки**\n",
    "    - Имеющиеся у нас выборки бинарны, поэтому работать с ними нужно методами для долей — `tconfint` не пойдёт.-\n",
    "    - Проверьте, что вы взяли разность долей в том порядке, в котором этого требует условие задания. \n",
    "    - В этом задании часто ошибка возникает из-за невнимательности — проверьте, что вы не перепутали числа. \n",
    "    - используйте функцию `proportions_confint_diff_ind(sample1, sample2, alpha = 0.05)` из тетрадки про доверительные интервалы для двух долей и сгенерированные в 8 задании выборки. В качестве sample1 используйте выборку для плацебо, в качестве sample2 - для аспирина\n",
    "    "
   ]
  },
  {
   "cell_type": "code",
   "execution_count": 5,
   "metadata": {},
   "outputs": [
    {
     "data": {
      "text/plain": [
       "0.0077060239760047815"
      ]
     },
     "execution_count": 5,
     "metadata": {},
     "output_type": "execute_result"
    }
   ],
   "source": [
    "len_sample1 = 11034\n",
    "outcomes_sample1 = 189\n",
    "len_sample2 = 11037\n",
    "outcomes_sample2 = 104\n",
    "\n",
    "outcomes_sample1/len_sample1 - outcomes_sample2/len_sample2"
   ]
  },
  {
   "cell_type": "markdown",
   "metadata": {},
   "source": [
    "6. Постройте теперь 95% доверительный интервал для снижения вероятности инфаркта при приёме аспирина. Чему равна его верхняя граница? Округлите ответ до четырёх знаков после десятичной точки.\n",
    "\n",
    "**Подсказки**\n",
    "- Функция для построения доверительного интервала определена в видео \"Доверительные интервалы для двух долей\" и соответствующем ноутбуке.\n",
    "- На вход ей неоходимо подавать выборки, поэтому вам необходимо сгенерировать две выборки из нулей и единиц, в которой единицы будут соответствовать людям, у которых случился инфаркт, а нули — людям, у которых за 5 лет он не произошёл. "
   ]
  },
  {
   "cell_type": "code",
   "execution_count": 6,
   "metadata": {},
   "outputs": [
    {
     "data": {
      "text/plain": [
       "(0.004687750675049439, 0.010724297276960124)"
      ]
     },
     "execution_count": 6,
     "metadata": {},
     "output_type": "execute_result"
    }
   ],
   "source": [
    "from math import sqrt\n",
    "\n",
    "alpha = 0.05\n",
    "z = norm.ppf(1 - alpha / 2)\n",
    "len_sample1 = 11034\n",
    "outcomes_sample1 = 189\n",
    "len_sample2 = 11037\n",
    "outcomes_sample2 = 104\n",
    "\n",
    "p1 = outcomes_sample1 / len_sample1\n",
    "p2 = outcomes_sample2 / len_sample2\n",
    "\n",
    "left_boundary = (p1 - p2) - z * sqrt(p1 * (1 - p1)/ len_sample1 + p2 * (1 - p2)/ len_sample2)\n",
    "right_boundary = (p1 - p2) + z * sqrt(p1 * (1 - p1)/ len_sample1 + p2 * (1 - p2)/ len_sample2)\n",
    "\n",
    "(left_boundary, right_boundary)"
   ]
  },
  {
   "cell_type": "code",
   "execution_count": 7,
   "metadata": {},
   "outputs": [
    {
     "name": "stdout",
     "output_type": "stream",
     "text": [
      "0.0107\n"
     ]
    }
   ],
   "source": [
    "print(round(right_boundary, 4))"
   ]
  },
  {
   "cell_type": "markdown",
   "metadata": {},
   "source": [
    "7. Продолжим анализировать данные эксперимента Гарвардской медицинской школы. \n",
    "\n",
    "    Для бернуллиевских случайных величин $X\\sim Ber(p)X∼Ber(p)$ часто вычисляют величину $\\frac{p}{1-p}$, которая называется шансами (odds). Чтобы оценить шансы по выборке, вместо $p$ нужно подставить $\\hat{p}$. Например, шансы инфаркта в контрольной группе, принимавшей плацебо, можно оценить как $\\frac{\\frac{189}{11034}}{1-\\frac{189}{11034}} = \\frac{189}{11034-189}\\approx 0.0174$\n",
    "\n",
    "    Оцените, во сколько раз понижаются шансы инфаркта при регулярном приёме аспирина. Округлите ответ до четырёх знаков после десятичной точки. \n",
    "    \n",
    "    **Подсказки**\n",
    "    - Для ответа на этот вопрос не нужно даже генерировать выборки — достаточно рассчитать шансы по формуле, приведённой в условии, и поделить их друг на друга в правильном порядке. \n",
    "    - Проверьте, что в вашей цепочке вычислений нет промежуточных округлений (например, что вы не округляете шансы перед тем, как их делить друг на друга). "
   ]
  },
  {
   "cell_type": "code",
   "execution_count": 9,
   "metadata": {},
   "outputs": [
    {
     "name": "stdout",
     "output_type": "stream",
     "text": [
      "0.017427385892116183 0.009512485136741973 1.8320539419087138\n"
     ]
    }
   ],
   "source": [
    "odds_1 = outcomes_sample1 / (len_sample1 - outcomes_sample1)\n",
    "odds_2 = outcomes_sample2 / (len_sample2 - outcomes_sample2)\n",
    "\n",
    "print(odds_1, odds_2, odds_1/odds_2)"
   ]
  },
  {
   "cell_type": "markdown",
   "metadata": {},
   "source": [
    "8. Величина, которую вы оценили в предыдущем вопросе, называется отношением шансов. Постройте для отношения шансов 95% доверительный интервал с помощью бутстрепа. Чему равна его нижняя граница? Округлите ответ до 4 знаков после десятичной точки.\n",
    "\n",
    "    Чтобы получить в точности такой же доверительный интервал, как у нас:\n",
    "    - составьте векторы исходов в контрольной и тестовой выборках так, чтобы в начале шли все единицы, а потом все нули;\n",
    "    - установите random seed=0;\n",
    "    - сделайте по 1000 псевдовыборок из каждой группы пациентов с помощью функции `get_bootstrap_samples`.\n",
    "    \n",
    "    В этом задании есть элемент случайности, поэтому, чтобы получить такой же ответ, какой прописан в грейдере, вам нужно в точности вопроизвести последовательность действий из условия задания. \n",
    "\n",
    "    При создании исходных выборок сначала записывайте в них единицы, а потом нули.\n",
    "\n",
    "    Установите random_seed один раз перед началом генерации бутстреп-псевдовыборок. Помните, что установка random_seed должна делаться в той же ячейке ноутбука, что и генерация выборок.\n",
    "\n",
    "    Генерируйте псевдовыборки с помощью функции get_bootstrap_samples из ноутбука урока \"Доверительные интервалы на основе бутстрепа\". Чтобы сгенерировать все необходимые псевдовыборки, вам понадобится два вызова этой функции. \n",
    "\n",
    "    Если вы использовали в вашем решении код из ноутбука урока \"Доверительные интервалы на основе бутстрепа\", убедитесь, что в нём не осталось кусков, относящихся к задаче, решавшейся в этом ноутбуке (например, что вы не \n"
   ]
  },
  {
   "cell_type": "code",
   "execution_count": null,
   "metadata": {},
   "outputs": [],
   "source": []
  }
 ],
 "metadata": {
  "kernelspec": {
   "display_name": "Python 3",
   "language": "python",
   "name": "python3"
  },
  "language_info": {
   "codemirror_mode": {
    "name": "ipython",
    "version": 3
   },
   "file_extension": ".py",
   "mimetype": "text/x-python",
   "name": "python",
   "nbconvert_exporter": "python",
   "pygments_lexer": "ipython3",
   "version": "3.8.3"
  }
 },
 "nbformat": 4,
 "nbformat_minor": 4
}
